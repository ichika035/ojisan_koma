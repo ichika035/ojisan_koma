{
 "cells": [
  {
   "cell_type": "code",
   "execution_count": 15,
   "id": "38e37c24",
   "metadata": {},
   "outputs": [
    {
     "name": "stdout",
     "output_type": "stream",
     "text": [
      "<!DOCTYPE html>\n",
      "<html data-n-head=\"%7B%22lang%22:%7B%22ssr%22:%22ja%22%7D,%22style%22:%7B%22ssr%22:null%7D%7D\" data-n-head-ssr=\"\" lang=\"ja\" style=\"\"><head><title>新着一覧 | 生活・身近な話題 | 発言小町</title><meta charset=\"utf-8\" data-hid=\"charset\" data-n-head=\"ssr\"/><meta content=\"発言小町\" data-n-head=\"ssr\" property=\"og:site_name\"/><meta content=\"255558822704509\" data-n-head=\"ssr\" property=\"fb:app_id\"/><meta content=\"website\" data-n-head=\"ssr\" property=\"og:type\"/><meta content=\"https://komachi.yomiuri.co.jp/hatsugen_ogp.png\" data-hid=\"og:image\" data-n-head=\"ssr\" property=\"og:image\"/><meta content=\"https://komachi.yomiuri.co.jp/hatsugen_ogp.png\" data-hid=\"twitter:image\" data-n-head=\"ssr\" name=\"twitter:image\" property=\"twitter:image\"/><meta content=\"@kuraget\" data-n-head=\"ssr\" name=\"twitter:site\"/><meta content=\"summary\" data-n-head=\"ssr\" name=\"twitter:card\"/><meta content=\"yes\" data-n-head=\"ssr\" name=\"apple-mobile-web-app-capable\"/><meta content=\"width=device-width, initial-scale=1\" data-n-head=\"ssr\" name=\"viewport\"/><meta content=\"yes\" data-hid=\"mobile-web-app-capable\" data-n-head=\"ssr\" name=\"mobile-web-app-capable\"/><meta content=\"発言小町\" data-hid=\"apple-mobile-web-app-title\" data-n-head=\"ssr\" name=\"apple-mobile-web-app-title\"/><meta content=\"The Yomiuri Shimbun\" data-hid=\"author\" data-n-head=\"ssr\" name=\"author\"/><meta content=\"#5CC5F8\" data-hid=\"theme-color\" data-n-head=\"ssr\" name=\"theme-color\"/><meta content=\"話題：日常の小さな疑問から一世一代の出来事まで何でもどうぞ。\" data-hid=\"description\" data-n-head=\"ssr\" id=\"description\" name=\"description\"/><meta content=\"勘違い,非常識,むかつく,非課税世帯,新札,ずるい,事故,やばい,騒音,方言,新着,最新,質問,回答,悩み,相談,反応,口コミ,発言小町,小町,発言,名作,読売新聞,こまち,投稿,まとめ,すっきり,モヤモヤ\" data-hid=\"keywords\" data-n-head=\"ssr\" id=\"keywords\" name=\"keywords\"/><meta content=\"新着一覧 | 生活・身近な話題 | 発言小町\" data-hid=\"og:title\" data-n-head=\"ssr\" property=\"og:title\"/><meta content=\"話題：日常の小さな疑問から一世一代の出来事まで何でもどうぞ。\" data-hid=\"og:description\" data-n-head=\"ssr\" property=\"og:description\"/><link data-n-head=\"ssr\" href=\"//fonts.googleapis.com\" rel=\"preconnect\"/><link data-n-head=\"ssr\" href=\"//fonts.gstatic.com\" rel=\"preconnect\"/><link data-n-head=\"ssr\" href=\"//acdn.adnxs.com\" rel=\"preconnect\"/><link data-n-head=\"ssr\" href=\"//ad.as.amanad.adtdp.com\" rel=\"preconnect\"/><link data-n-head=\"ssr\" href=\"//ad.doubleclick.net\" rel=\"preconnect\"/><link data-n-head=\"ssr\" href=\"//ads.pubmatic.com\" rel=\"preconnect\"/><link data-n-head=\"ssr\" href=\"//adservice.google.co.jp\" rel=\"preconnect\"/><link data-n-head=\"ssr\" href=\"//adservice.google.com\" rel=\"preconnect\"/><link data-n-head=\"ssr\" href=\"//affiliate.rakuten.co.jp\" rel=\"preconnect\"/><link data-n-head=\"ssr\" href=\"//apac-jp-sync.bidswitch.net\" rel=\"preconnect\"/><link data-n-head=\"ssr\" href=\"//api.popin.cc\" rel=\"preconnect\"/><link data-n-head=\"ssr\" href=\"//assets-momentum.akamaized.net\" rel=\"preconnect\"/><link data-n-head=\"ssr\" href=\"//ba.afl.rakuten.co.jp\" rel=\"preconnect\"/><link data-n-head=\"ssr\" href=\"//bidder.criteo.com\" rel=\"preconnect\"/><link data-n-head=\"ssr\" href=\"//c.amazon-adsystem.com\" rel=\"preconnect\"/><link data-n-head=\"ssr\" href=\"//cdn.ampproject.org\" rel=\"preconnect\"/><link data-n-head=\"ssr\" href=\"//cdn.jsdelivr.net\" rel=\"preconnect\"/><link data-n-head=\"ssr\" href=\"//cdn.syndication.twimg.com\" rel=\"preconnect\"/><link data-n-head=\"ssr\" href=\"//cm.g.doubleclick.net\" rel=\"preconnect\"/><link data-n-head=\"ssr\" href=\"//csi.gstatic.com\" rel=\"preconnect\"/><link data-n-head=\"ssr\" href=\"//currency.prebid.org\" rel=\"preconnect\"/><link data-n-head=\"ssr\" href=\"//d.socdm.com\" rel=\"preconnect\"/><link data-n-head=\"ssr\" href=\"//dbbd98e241a501d6d884ce1add1d8f4c.safeframe.googlesyndication.com\" rel=\"preconnect\"/><link data-n-head=\"ssr\" href=\"//discoveryplus.popin.cc\" rel=\"preconnect\"/><link data-n-head=\"ssr\" href=\"//dt.adsafeprotected.com\" rel=\"preconnect\"/><link data-n-head=\"ssr\" href=\"//eus.rubiconproject.com\" rel=\"preconnect\"/><link data-n-head=\"ssr\" href=\"//fastlane.rubiconproject.com\" rel=\"preconnect\"/><link data-n-head=\"ssr\" href=\"//flux-cdn.com\" rel=\"preconnect\"/><link data-n-head=\"ssr\" href=\"//fw.adsafeprotected.com\" rel=\"preconnect\"/><link data-n-head=\"ssr\" href=\"//gce-jp.bidswitch.net\" rel=\"preconnect\"/><link data-n-head=\"ssr\" href=\"//googleads.g.doubleclick.net\" rel=\"preconnect\"/><link data-n-head=\"ssr\" href=\"//googleads4.g.doubleclick.net\" rel=\"preconnect\"/><link data-n-head=\"ssr\" href=\"//graph.facebook.com\" rel=\"preconnect\"/><link data-n-head=\"ssr\" href=\"//gum.criteo.com\" rel=\"preconnect\"/><link data-n-head=\"ssr\" href=\"//hbb.afl.rakuten.co.jp\" rel=\"preconnect\"/><link data-n-head=\"ssr\" href=\"//hbopenbid.pubmatic.com\" rel=\"preconnect\"/><link data-n-head=\"ssr\" href=\"//i.socdm.com\" rel=\"preconnect\"/><link data-n-head=\"ssr\" href=\"//ib.adnxs.com\" rel=\"preconnect\"/><link data-n-head=\"ssr\" href=\"//imageaws.popin.cc\" rel=\"preconnect\"/><link data-n-head=\"ssr\" href=\"//in.treasuredata.com\" rel=\"preconnect\"/><link data-n-head=\"ssr\" href=\"//inrecsys.popin.cc\" rel=\"preconnect\"/><link data-n-head=\"ssr\" href=\"//intelcorp.demdex.net\" rel=\"preconnect\"/><link data-n-head=\"ssr\" href=\"//jp-axia.m0mentum.net\" rel=\"preconnect\"/><link data-n-head=\"ssr\" href=\"//jp.popin.cc\" rel=\"preconnect\"/><link data-n-head=\"ssr\" href=\"//log.affiliate.rakuten.co.jp\" rel=\"preconnect\"/><link data-n-head=\"ssr\" href=\"//log.popin.cc\" rel=\"preconnect\"/><link data-n-head=\"ssr\" href=\"//mtwidget04.affiliate.rakuten.co.jp\" rel=\"preconnect\"/><link data-n-head=\"ssr\" href=\"//mtwidget05.affiliate.ashiato.rakuten.co.jp\" rel=\"preconnect\"/><link data-n-head=\"ssr\" href=\"//pagead2.googlesyndication.com\" rel=\"preconnect\"/><link data-n-head=\"ssr\" href=\"//partner.googleadservices.com\" rel=\"preconnect\"/><link data-n-head=\"ssr\" href=\"//pb.ladsp.com\" rel=\"preconnect\"/><link data-n-head=\"ssr\" href=\"//pbs.twimg.com\" rel=\"preconnect\"/><link data-n-head=\"ssr\" href=\"//pixel.adsafeprotected.com\" rel=\"preconnect\"/><link data-n-head=\"ssr\" href=\"//platform.twitter.com\" rel=\"preconnect\"/><link data-n-head=\"ssr\" href=\"//prebid.flux-analytics.com\" rel=\"preconnect\"/><link data-n-head=\"ssr\" href=\"//r.popin.cc\" rel=\"preconnect\"/><link data-n-head=\"ssr\" href=\"//rlog.popin.cc\" rel=\"preconnect\"/><link data-n-head=\"ssr\" href=\"//s-rtb-pb.send.microad.jp\" rel=\"preconnect\"/><link data-n-head=\"ssr\" href=\"//s.amazon-adsystem.com\" rel=\"preconnect\"/><link data-n-head=\"ssr\" href=\"//s0.2mdn.net\" rel=\"preconnect\"/><link data-n-head=\"ssr\" href=\"//securepubads.g.doubleclick.net\" rel=\"preconnect\"/><link data-n-head=\"ssr\" href=\"//static.adsafeprotected.com\" rel=\"preconnect\"/><link data-n-head=\"ssr\" href=\"//static.affiliate.rakuten.co.jp\" rel=\"preconnect\"/><link data-n-head=\"ssr\" href=\"//static.criteo.net\" rel=\"preconnect\"/><link data-n-head=\"ssr\" href=\"//syndication.twitter.com\" rel=\"preconnect\"/><link data-n-head=\"ssr\" href=\"//tg.socdm.com\" rel=\"preconnect\"/><link data-n-head=\"ssr\" href=\"//thumbnail.image.rakuten.co.jp\" rel=\"preconnect\"/><link data-n-head=\"ssr\" href=\"//ton.twimg.com\" rel=\"preconnect\"/><link data-n-head=\"ssr\" href=\"//tpc.googlesyndication.com\" rel=\"preconnect\"/><link data-n-head=\"ssr\" href=\"//tracking.emerse.com\" rel=\"preconnect\"/><link data-n-head=\"ssr\" href=\"//www.google-analytics.com\" rel=\"preconnect\"/><link data-n-head=\"ssr\" href=\"//www.google.com\" rel=\"preconnect\"/><link data-n-head=\"ssr\" href=\"//www.googletagmanager.com\" rel=\"preconnect\"/><link data-n-head=\"ssr\" href=\"//www.googletagservices.com\" rel=\"preconnect\"/><link data-n-head=\"ssr\" href=\"//x.bidswitch.net\" rel=\"preconnect\"/><link data-n-head=\"ssr\" href=\"//xml.affiliate.rakuten.co.jp\" rel=\"preconnect\"/><link data-n-head=\"ssr\" href=\"//y.one.impact-ad.jp\" rel=\"preconnect\"/><link data-n-head=\"ssr\" href=\"//yab.yomiuri.co.jp\" rel=\"preconnect\"/><link data-n-head=\"ssr\" href=\"//impact-ad.jp\" rel=\"preconnect\"/><link data-n-head=\"ssr\" href=\"//google.com\" rel=\"preconnect\"/><link data-n-head=\"ssr\" href=\"//openx.com\" rel=\"preconnect\"/><link data-n-head=\"ssr\" href=\"//rubiconproject.com\" rel=\"preconnect\"/><link data-n-head=\"ssr\" href=\"//appnexus.com\" rel=\"preconnect\"/><link data-n-head=\"ssr\" href=\"//amoad.com\" rel=\"preconnect\"/><link data-n-head=\"ssr\" href=\"//i-mobile.co.jp\" rel=\"preconnect\"/><link data-n-head=\"ssr\" href=\"//adingo.jp\" rel=\"preconnect\"/><link data-n-head=\"ssr\" href=\"//pubmatic.com\" rel=\"preconnect\"/><link data-n-head=\"ssr\" href=\"//ad-generation.jp\" rel=\"preconnect\"/><link data-n-head=\"ssr\" href=\"//microad.co.jp\" rel=\"preconnect\"/><link data-n-head=\"ssr\" href=\"//ad-stir.com\" rel=\"preconnect\"/><link data-n-head=\"ssr\" href=\"//gmossp.jp\" rel=\"preconnect\"/><link data-n-head=\"ssr\" href=\"//proparm.jp\" rel=\"preconnect\"/><link data-n-head=\"ssr\" href=\"//indexexchange.com\" rel=\"preconnect\"/><link data-n-head=\"ssr\" href=\"//gmossp-sp.jp\" rel=\"preconnect\"/><link data-n-head=\"ssr\" href=\"//teads.tv\" rel=\"preconnect\"/><link data-n-head=\"ssr\" href=\"//appvador.com\" rel=\"preconnect\"/><link data-n-head=\"ssr\" href=\"//video.unrulymedia.com\" rel=\"preconnect\"/><link data-n-head=\"ssr\" href=\"//outbrain.com\" rel=\"preconnect\"/><link data-n-head=\"ssr\" href=\"//tremorhub.com\" rel=\"preconnect\"/><link data-n-head=\"ssr\" href=\"//spotxchange.com\" rel=\"preconnect\"/><link data-n-head=\"ssr\" href=\"//uliza.jp\" rel=\"preconnect\"/><link data-n-head=\"ssr\" href=\"//smaato.com\" rel=\"preconnect\"/><link data-n-head=\"ssr\" href=\"//spotx.tv\" rel=\"preconnect\"/><link data-n-head=\"ssr\" href=\"//beachfront.com\" rel=\"preconnect\"/><link data-n-head=\"ssr\" href=\"//improvedigital.com\" rel=\"preconnect\"/><link data-n-head=\"ssr\" href=\"//contextweb.com\" rel=\"preconnect\"/><link data-n-head=\"ssr\" href=\"//districtm.io\" rel=\"preconnect\"/><link data-n-head=\"ssr\" href=\"//gumgum.com\" rel=\"preconnect\"/><link data-n-head=\"ssr\" href=\"//bidtellect.com\" rel=\"preconnect\"/><link data-n-head=\"ssr\" href=\"//criteo.com\" rel=\"preconnect\"/><link data-n-head=\"ssr\" href=\"//rhythmone.com\" rel=\"preconnect\"/><link data-n-head=\"ssr\" href=\"//lkqd.com\" rel=\"preconnect\"/><link data-n-head=\"ssr\" href=\"//lkqd.net\" rel=\"preconnect\"/><link data-n-head=\"ssr\" href=\"//33across.com\" rel=\"preconnect\"/><link data-n-head=\"ssr\" href=\"//emxdgt.com\" rel=\"preconnect\"/><link data-n-head=\"ssr\" href=\"//nend.net\" rel=\"preconnect\"/><link data-n-head=\"ssr\" href=\"//as.amanad.adtdp.com\" rel=\"preconnect\"/><link data-n-head=\"ssr\" href=\"//genieesspv.jp\" rel=\"preconnect\"/><link data-n-head=\"ssr\" href=\"//fivecdm.com\" rel=\"preconnect\"/><link data-n-head=\"ssr\" href=\"//adm.shinobi.jp\" rel=\"preconnect\"/><link data-n-head=\"ssr\" href=\"//aralego.com\" rel=\"preconnect\"/><link data-n-head=\"ssr\" href=\"//ucfunnel.com\" rel=\"preconnect\"/><link data-n-head=\"ssr\" href=\"//aps.amazon.com\" rel=\"preconnect\"/><link data-n-head=\"ssr\" href=\"//adform.com\" rel=\"preconnect\"/><link data-n-head=\"ssr\" href=\"//yahoo.com\" rel=\"preconnect\"/><link data-n-head=\"ssr\" href=\"//pubnative.net\" rel=\"preconnect\"/><link data-n-head=\"ssr\" href=\"//adcolony.com\" rel=\"preconnect\"/><link data-n-head=\"ssr\" href=\"//tapjoy.com\" rel=\"preconnect\"/><link data-n-head=\"ssr\" href=\"//admixer.net\" rel=\"preconnect\"/><link data-n-head=\"ssr\" href=\"//vidazoo.com\" rel=\"preconnect\"/><link data-n-head=\"ssr\" href=\"//synacor.com\" rel=\"preconnect\"/><link data-n-head=\"ssr\" href=\"//cdnjs.cloudflare.com\" rel=\"preconnect\"/><link data-n-head=\"ssr\" href=\"//polyfill.io\" rel=\"preconnect\"/><link data-n-head=\"ssr\" href=\"/favicon.ico\" rel=\"icon\" type=\"image/x-icon\"/><link data-n-head=\"ssr\" href=\"/splashImage/splash_1125_2436.png\" media=\"(device-width: 375px) and (device-height: 812px) and (-webkit-device-pixel-ratio: 3)\" rel=\"apple-touch-startup-image\"/><link data-n-head=\"ssr\" href=\"/splashImage/splash_0750_1334.png\" media=\"(device-width: 375px) and (device-height: 667px) and (-webkit-device-pixel-ratio: 2)\" rel=\"apple-touch-startup-image\"/><link data-n-head=\"ssr\" href=\"/splashImage/splash_1242_2208.png\" media=\"(device-width: 414px) and (device-height: 736px) and (-webkit-device-pixel-ratio: 3)\" rel=\"apple-touch-startup-image\"/><link data-n-head=\"ssr\" href=\"/splashImage/splash_0828_1792.png\" media=\"(device-width: 414px) and (device-height: 896px) and (-webkit-device-pixel-ratio: 2)\" rel=\"apple-touch-startup-image\"/><link data-n-head=\"ssr\" href=\"/splashImage/splash_0640_1136.png\" media=\"(device-width: 320px) and (device-height: 568px) and (-webkit-device-pixel-ratio: 2)\" rel=\"apple-touch-startup-image\"/><link data-n-head=\"ssr\" href=\"/splashImage/splash_1536_2048.png\" media=\"(device-width: 768px) and (device-height: 1024px) and (-webkit-device-pixel-ratio: 2)\" rel=\"apple-touch-startup-image\"/><link data-n-head=\"ssr\" href=\"/splashImage/splash_1668_2224.png\" media=\"(device-width: 834px) and (device-height: 1112px) and (-webkit-device-pixel-ratio: 2)\" rel=\"apple-touch-startup-image\"/><link data-n-head=\"ssr\" href=\"/splashImage/splash_2048_2732.png\" media=\"(device-width: 1024px) and (device-height: 1366px) and (-webkit-device-pixel-ratio: 2)\" rel=\"apple-touch-startup-image\"/><link data-hid=\"shortcut-icon\" data-n-head=\"ssr\" href=\"/appIcon/logo_512.png\" rel=\"shortcut icon\"/><link data-hid=\"apple-touch-icon\" data-n-head=\"ssr\" href=\"/_nuxt/icons/icon_512x512.4a6652.png\" rel=\"apple-touch-icon\" sizes=\"512x512\"/><link data-hid=\"manifest\" data-n-head=\"ssr\" href=\"/_nuxt/manifest.f60609b7.json\" rel=\"manifest\"/><script data-hid=\"polyfill\" data-n-head=\"ssr\">if( /msie|trident/.test(navigator.userAgent.toLowerCase()) ) document.write('<scr' + 'ipt src=\"https://polyfill.io/v3/polyfill.min.js\"></scr' + 'ipt><scr' + 'ipt src=\"https://cdnjs.cloudflare.com/ajax/libs/babel-polyfill/7.8.7/polyfill.min.js\"></scr' + 'ipt>')</script><script data-hid=\"adScript-0\" data-n-head=\"ssr\">!function(t,e){if(void 0===e[t]){e[t]=function(){e[t].clients.push(this),this._init=[Array.prototype.slice.call(arguments)]},e[t].clients=[];for(var r=function(t){return function(){return this[\"_\"+t]=this[\"_\"+t]||[],this[\"_\"+t].push(Array.prototype.slice.call(arguments)),this}},s=[\"addRecord\",\"blockEvents\",\"fetchServerCookie\",\"fetchGlobalID\",\"fetchUserSegments\",\"resetUUID\",\"ready\",\"setSignedMode\",\"setAnonymousMode\",\"set\",\"trackEvent\",\"trackPageview\",\"trackClicks\",\"unblockEvents\"],n=0;n<s.length;n++){var c=s[n];e[t].prototype[c]=r(c)}var o=document.createElement(\"script\");o.type=\"text/javascript\",o.async=!0,o.src=(\"https:\"===document.location.protocol?\"https:\":\"http:\")+\"//cdn.treasuredata.com/sdk/2.5/td.min.js\";var a=document.getElementsByTagName(\"script\")[0];a.parentNode.insertBefore(o,a)}}(\"Treasure\",this);</script><script data-hid=\"adScript-1\" data-n-head=\"ssr\">!function(t,e,i,s){\"use strict\";var n=function(t){this.version=\"0.3.2\",this.customParam=t.customParam||{},this.idSyncList=t.idSyncList||[],this.table=t.table,this.trackClicks=t.trackClicks||!1,this.trackCrossDomain=t.trackCrossDomain||!1,this.trackFingerprint=t.trackFingerprint||!1,this.trackTealiumId=t.trackTealiumId||!1,this.id=\"tdw_\"+Math.random().toString(36).substring(7),this.sent=!1,this.tokenIntimateMerger=t.tokenIntimateMerger||void 0,this.clickTable=t.clickTable||\"clicks\",this.dmpCb={list:{},funcs:[],cnt:0},this.ac=this._getAccountInfo(t.initParams),this.useSsc=t.initParams.useServerSideCookie||!1;var i=new e.Treasure(t.initParams);return i.set(\"$global\",this.customParam),this.trackCrossDomain&&i.set(\"$global\",\"td_global_id\",\"td_global_id\"),this.success=this._prepareSuccessCallback(t.successCallback||[]),this.fail=t.errorCallback||void 0,this.td=i,e[s][this.id]=this,this};n.prototype._getAccountInfo=function(t){var e=t.writeKey.split(\"/\")[0];return this._getPlatformInfo(t.host.split(\".\")[0])+\"-\"+e},n.prototype._getPlatformInfo=function(t){return\"in\"===t?\"aws-us\":\"tokyo\"===t?\"aws-tokyo\":\"idcf\"===t?\"idcf\":\"unknown-\"+t},n.prototype._setDmpCallbacks=function(){if(void 0!==this.tokenIntimateMerger){var t={parent:this,onReceive:function(t){var e={};void 0!==t.imid&&(e.imid=t.imid),void 0!==t.segment_eids&&(e.im_segmentids=t.segment_eids),this.parent._onDmpCallback(e)}},e=\"sync.im-apps.net/imid/segment?token=\"+this.tokenIntimateMerger+\"&callback=\"+encodeURIComponent(s+\".\"+this.id+\".dmpCb.list.im.onReceive\");this.dmpCb.list.im=t,this.dmpCb.funcs.push(this._buildCreateScriptFunc(e))}},n.prototype._onDmpCallback=function(t){this.td.set(\"$global\",t),this.dmpCb.cnt++,Object.keys(this.dmpCb.list).length===this.dmpCb.cnt&&this.sendRequest()},n.prototype._getCookie=function(t){var e,i,s,n=document.cookie.split(\";\");for(e=0;e<n.length;e++)if(i=n[e].substr(0,n[e].indexOf(\"=\")),s=n[e].substr(n[e].indexOf(\"=\")+1),(i=i.replace(/^\\s+|\\s+$/g,\"\"))===t)return decodeURIComponent(s);return\"\"},n.prototype._prepareSuccessCallback=function(t){var e=[];if(void 0!==typeof t&&\"function\"==typeof t&&e.push(t),0!==this.idSyncList.length);return function(){e.forEach(function(t){t()})}},n.prototype._buildCreateScriptFunc=function(t){return function(){var e=t,s=i.createElement(\"script\");s.type=\"text/javascript\",s.async=!0,s.src=\"https://\"+e;var n=i.getElementsByTagName(\"script\")[0];n.parentNode.insertBefore(s,n)}},n.prototype._fireEvents=function(t){t.td.trackEvent(t.table,{},t.success,t.fail),t.trackClicks&&t.td.trackClicks({tableName:t.clickTable})},n.prototype._getSscFlg=function(t){return t.useSsc&&void 0!==t.td.fetchServerCookie},n.prototype._trackEvent=function(t){t._getSscFlg(t)?t.td.fetchServerCookie(function(e){t.td.set(\"$global\",{td_ssc_id:e}),t._fireEvents(t)},function(){t._fireEvents(t)}):t._fireEvents(t)},n.prototype.sendRequest=function(){if(!this.sent){if(this.trackFingerprint&&e.Fingerprint2){var t=this;(new Fingerprint2).get(function(e){t.td.set(\"$global\",\"td_fingerprint_id\",e),t._trackEvent(t)})}else this._trackEvent(this);this.sent=!0}},n.prototype.boot=function(){this._setDmpCallbacks(),0!==this.dmpCb.funcs.length?this.dmpCb.funcs.forEach(function(t){t()}):this.sendRequest()},e[s]=n}(0,window,document,\"TDWrapper_\");</script><script data-hid=\"adScript-2\" data-n-head=\"ssr\">var userId=document.cookie.replace(/(?:(?:^|.*;\\s*)dmuh\\s*\\=\\s*([^;]*).*$)|^.*$/,\"$1\");var _opts={initParams:{host:\"tokyo.in.treasuredata.com\",writeKey:\"263/5a95fcdb542d3e8aa1bcf4d9e304e4a0ea8a2db2\",database:\"yomi_db\",startInSignedMode:true,sscDomain:\"yomiuri.co.jp\",sscServer:\"ssc.yomiuri.co.jp\",useServerSideCookie:true},table:\"td_raw_web_komachi_yomiuri_pgview\",tokenIntimateMerger:\"hg6Bf6D60oLGM09UZqwoBg\",customParam:{\"userid\":userId},successCallback:function(){tdw_.td.fetchGlobalID(function(_td_global){dataLayer.push({\"event\":\"td_push\",\"td_global_id\":_td_global,\"td_ssc_id\":tdw_.td.getCookie(\"_td_ssc_id\"),\"td_client_id\":tdw_.td.getCookie(\"_td\")})})},trackClicks:false,trackCrossDomain:true,trackFingerprint:false};var tdw_=new TDWrapper_(_opts);tdw_.boot();</script><script async=\"\" data-n-head=\"ssr\" src=\"https://flux-cdn.com/client/yomiuri/komachi2.min.js\"></script><script data-hid=\"adScript-4\" data-n-head=\"ssr\">window.pbjs=window.pbjs||{que:[]};var pbFlux=pbFlux||{};pbFlux.bidderTimeout=1e3;</script><script async=\"\" data-n-head=\"ssr\" src=\"https://securepubads.g.doubleclick.net/tag/js/gpt.js\"></script><script data-hid=\"adScript-6\" data-n-head=\"ssr\">window.googletag=window.googletag||{cmd:[]};var AD3=AD3||{};</script><script data-hid=\"adScript-7\" data-n-head=\"ssr\">window.fluxtag={readyBids:{prebid:false,amazon:false,google:false},failSafeTimeout:2e3,isFn:function isFn(object){var _t='Function';var toString=Object.prototype.toString;return toString.call(object)==='[object '+_t+']'},launchAdServer:function(){if(!fluxtag.readyBids.prebid||!fluxtag.readyBids.amazon){return}fluxtag.requestAdServer()},requestAdServer:function(){if(!fluxtag.readyBids.google){fluxtag.readyBids.google=true;googletag.cmd.push(function(){if(!!(pbjs.setTargetingForGPTAsync)&&fluxtag.isFn(pbjs.setTargetingForGPTAsync)){pbjs.que.push(function(){pbjs.setTargetingForGPTAsync()})}apstag.setDisplayBids();googletag.pubads().refresh()})}},renderAds:function(lines,gamAds){googletag.cmd.push(function(){var refreshLines=[];var params=(function(){var readyBids={amazon:false,google:false,prebid:false,};var refreshSlots=[];var apsSlots=[];var divIds=[];var apsDivIds=[];var definedSlots=[];var displayDivIds=[];googletag.pubads().getSlots().forEach(function(slot){definedSlots[slot.getSlotElementId()]=slot});for(var i=0;i<lines.length;i++){var divId=lines[i].divId;var adUnitCode=lines[i].code;var sizes=lines[i].sizes;var isAps=lines[i].isAps||false;refreshLines.push({code:adUnitCode,size:sizes,id:divId});if(definedSlots[divId]){refreshSlots.push(definedSlots[divId])}else{refreshSlots.push(googletag.defineSlot(adUnitCode,sizes,divId).addService(googletag.pubads()));displayDivIds.push(divId)}divIds.push(divId);if(isAps){apsSlots.push({slotID:divId,slotName:adUnitCode,sizes:sizes});apsDivIds.push(divId)}}if(apsSlots.length===0){readyBids.amazon=true}var adServerSend=function(){if(!readyBids.amazon||!readyBids.prebid){return}if(!readyBids.google){readyBids.google=true;for(var i=0;i<displayDivIds.length;i++){googletag.display(displayDivIds[i])}if(!!(pbjs.setTargetingForGPTAsync)&&fluxtag.isFn(pbjs.setTargetingForGPTAsync)){pbjs.que.push(function(){pbjs.setTargetingForGPTAsync()})}if(apsSlots.length>0&&!!(window.apstag)&&fluxtag.isFn(window.apstag.fetchBids)){window.apstag.setDisplayBids(apsDivIds)};AD3.setTargeting();for(var i=0;i<refreshSlots.length;i++){googletag.display(refreshSlots[i].getSlotElementId())};googletag.pubads().refresh(refreshSlots);if(gamAds!=undefined){gamAds()}}};var apsCallback=function(){readyBids.amazon=true;adServerSend()};var prebidCallback=function(){readyBids.prebid=true;adServerSend()};setTimeout(function(){readyBids.amazon=true;readyBids.prebid=true;adServerSend()},3000);return{aps:{slots:apsSlots,callback:apsCallback,},prebid:{callback:prebidCallback,}}})();if(!!(window.pbFlux)&&window.pbFlux.refresh&&fluxtag.isFn(window.pbFlux.refresh)){pbjs.que.push(function(){pbFlux.refresh({lines:refreshLines,callback:params.prebid.callback,timeout:1000})})}else{params.prebid.callback()}if(params.aps.slots.length>0&&!!(window.apstag)&&fluxtag.isFn(window.apstag.fetchBids)){window.apstag.fetchBids({slots:params.aps.slots,timeout:15e2},function(bids){params.aps.callback()})}else{params.aps.callback()}})}}</script><script data-hid=\"adScript-8\" data-n-head=\"ssr\">!function(a9,a,p,s,t,A,g){if(a[a9])return;function q(c,r){a[a9]._Q.push([c,r])}a[a9]={init:function(){q(\"i\",arguments)},fetchBids:function(){q(\"f\",arguments)},setDisplayBids:function(){},targetingKeys:function(){return[]},_Q:[]};A=p.createElement(s);A.async=!0;A.src=t;g=p.getElementsByTagName(s)[0];g.parentNode.insertBefore(A,g)}(\"apstag\",window,document,\"script\",\"//c.amazon-adsystem.com/aax2/apstag.js\");apstag.init({pubID:\"3962\",adServer:\"googletag\",bidTimeout:1e3})</script><script data-hid=\"adScript-9\" data-n-head=\"ssr\">googletag.cmd.push(function(){googletag.pubads().disableInitialLoad();googletag.pubads().enableSingleRequest();googletag.enableServices()});</script><script data-hid=\"adScript-10\" data-n-head=\"ssr\">AD3={adUnitCode:\"/51343015/hatsugen2021\",AD_HEIGHT:150,adDevice:\"\",adCategory:\"\",getDir:function(){return location.href.replace(/^.*?\\.[^/]*(\\/)/,\"\").replace(/(\\?|#).*?$/,\"\").replace(/\\.([^.]*?)$/,\"\").replace(/\\/$/,\"\").split(\"/\")},getPar:function(){var par=encodeURIComponent(location.search.substring(1)).split(\"%26\");return par},getCategory:function(){if(this.getDir()[1]!=\"id\"){return\"top\"}else{return\"topics\"}},getCookie:function(){var arr=[],decode=function(encodedURIParams){try{return decodeURIComponent(encodedURIParams)}catch(err){return\"\"}};if(document.cookie!=\"\"){var item=document.cookie.split(\"; \");for(var i=0;i<item.length;i++){var data=item[i].split(\"=\");arr[data[0]]=decode(data[1])}}return arr},getCookieValue:function(key){var arr=this.getCookie(),val=\"\";if(arr[key]!=undefined){val=\"000000\"+arr[key]}return val},getWidth:function(){if(768<window.innerWidth){return\"PC\"}else{return\"SP\"}},getHashtag:function(a){var listTag=[];var e=document.getElementsByClassName(a);var l=e.length;if(l!=0){for(var i=0;i<l;i++){var t=e[i].innerText;listTag.push(t.slice(1))}}return listTag},getSearchkey:function(a){var arr=a,t=\"text%3D\",k=\"\";arr.forEach(function(e){if(!e.indexOf(t)){try{k=decodeURIComponent(decodeURIComponent(e.replace(t,\"\")))}catch(e){return\"\"}}});return k},setTargeting:function(){googletag.pubads().clearTargeting();var dir=this.getDir(),par=this.getPar();googletag.pubads().setTargeting(\"uri\",dir).setTargeting(\"parameter\",par).setTargeting(\"device\",this.adDevice);if(dir[1]==\"id\"){googletag.pubads().setTargeting(\"hashtag\",this.getHashtag(\"p-tagItem__inner\"))}if(dir[0]==\"search\"&&par[0]!=\"\"){googletag.pubads().setTargeting(\"searchkey\",this.getSearchkey(par))}googletag.pubads().setPublisherProvidedId(AD3.getCookieValue(\"_td_ssc_id\"))},adsDisplay:function(IgnitionSlots){var HBSlots=[],GAMSlots=[];for(var i=0;i<IgnitionSlots.length;++i){var key=IgnitionSlots[i];if(this.adSlots[key][\"Type\"]==\"HB\"){HBSlots.push({code:this.adSlots[key][\"UnitPath\"],sizes:this.adSlots[key][\"TAMSize\"],divId:key,isAps:this.adSlots[key][\"isAps\"]})}else{GAMSlots.push(this.adSlots[key][\"Slot\"]);googletag.cmd.push(function(){googletag.display(AD3.adSlots[key][\"Slot\"])})}}if(HBSlots.length!=0){window.fluxtag.renderAds(HBSlots)}if(GAMSlots.length!=0){googletag.cmd.push(function(){googletag.pubads().refresh(GAMSlots)})}},adWakeUp:function(){var IgnitionSlots=[];for(var key in this.adSlots){var margin=this.adSlots[key][\"LAZY\"][this.adDevice];if(this.adSlots[key][\"Ignition\"]){if(margin>=0){var elem=document.getElementById(key);if(elem!==null){var rect;if(elem.style.display==\"none\"){elem.style.display=\"block\";rect=elem.getBoundingClientRect();elem.style.display=\"none\"}else{rect=elem.getBoundingClientRect()}if(-this.AD_HEIGHT-margin<rect.top&&rect.top<window.innerHeight+margin){IgnitionSlots.push(key);this.adSlots[key][\"Ignition\"]=false;if(this.adSlots[key][\"Group\"]){for(var key2 in this.adSlots){if(this.adSlots[key2][\"Ignition\"]&&this.adSlots[key2][\"Group\"]==this.adSlots[key][\"Group\"]){IgnitionSlots.push(key2);this.adSlots[key2][\"Ignition\"]=false}}}}}}else if(margin==-1){if(window.pageYOffset>100){if(this.adCategory==\"top\"||this.topi_stop()>0){IgnitionSlots.push(key);this.adSlots[key][\"Ignition\"]=false;document.getElementById(\"ad_overlay_div\").style.display=\"block\"}}}}}if(IgnitionSlots.length!=0){this.adsDisplay(IgnitionSlots)}var p_ads_overlay=document.getElementsByClassName(\"p-ads-overlay\");if(p_ads_overlay.length!=0){var overlayDiv=p_ads_overlay[0];if(!overlayDiv.hasAttribute(\"style\")){overlayDiv.style.display=\"none\"}if((overlayDiv.style.display==\"block\"||overlayDiv.style.display==\"\")&&window.pageYOffset<300){overlayDiv.style.display=\"none\"}else if(overlayDiv.style.display==\"none\"&&window.pageYOffset>=300){overlayDiv.style.display=\"block\"}}},adsRefresh:function(){this.adDevice=this.getWidth();this.adCategory=this.getCategory();for(var key in this.adSlots){if(key!=\"ad_gam_top_thumbnail-txt1\"){var ret=true;if(this.adSlots[key][\"LAZY\"][this.adDevice]==-2){ret=false}else if(key.slice(-2)==\"-r\"&&window.innerWidth<1160){ret=false}else if(this.adCategory==\"topics\"){if(key.slice(0,11)==\"ad_gam_top_\"){ret=false}}else if(key.slice(0,14)==\"ad_gam_topics_\"){ret=false}this.adSlots[key][\"Ignition\"]=ret}}this.setTargeting();this.adWakeUp()},adsRefreshThumbTxt1:function(){this.adSlots[\"ad_gam_top_thumbnail-txt1\"][\"Ignition\"]=true;this.adWakeUp()},topi_stop:function(){return document.getElementsByClassName(\"is-endByTerm\").length+document.getElementsByClassName(\"is-endByCount\").length+document.getElementsByClassName(\"is-stop\").length},adSlots:{ad_gam_banner:{UnitPath:\"/banner\",Group:\"\",Ignition:\"\",Slot:\"\",Type:\"HB\",isAps:true,TAMSize:[[728,90],[970,250],[320,50],[320,100]],GAMMapping:\"mapping1\",LAZY:{PC:0,SP:0}},ad_gam_rec1:{UnitPath:\"/rec1\",Group:\"\",Ignition:\"\",Slot:\"\",Type:\"HB\",isAps:true,TAMSize:[[300,250],[336,280],[300,600]],GAMMapping:\"mapping4\",LAZY:{PC:800,SP:500}},ad_gam_skyscraper:{UnitPath:\"/skyscraper\",Group:\"\",Ignition:\"\",Slot:\"\",Type:\"HB\",isAps:true,TAMSize:[[160,600]],GAMSize:[[160,600]],LAZY:{PC:800,SP:-2}},ad_gam_rec2:{UnitPath:\"/rec2\",Group:\"\",Ignition:\"\",Slot:\"\",Type:\"HB\",isAps:true,TAMSize:[[300,250],[336,280],[300,600]],GAMMapping:\"mapping4\",LAZY:{PC:500,SP:-2}},\"ad_gam_topics_article-rec\":{UnitPath:\"/topics_article-rec\",Group:\"\",Ignition:\"\",Slot:\"\",Type:\"HB\",isAps:true,TAMSize:[[300,250],[336,280]],GAMMapping:\"mapping2\",LAZY:{PC:500,SP:500}},\"ad_gam_top_middle-rec1\":{UnitPath:\"/top_middle-rec1\",Group:\"TopReq1\",Ignition:\"\",Slot:\"\",Type:\"HB\",isAps:true,TAMSize:[[300,250],[336,280]],GAMMapping:\"mapping3\",LAZY:{PC:500,SP:500}},\"ad_gam_top_middle-rec2\":{UnitPath:\"/top_middle-rec2\",Group:\"TopReq2\",Ignition:\"\",Slot:\"\",Type:\"HB\",isAps:true,TAMSize:[[300,250],[336,280]],GAMMapping:\"mapping3\",LAZY:{PC:500,SP:500}},\"ad_gam_top_middle-rec3\":{UnitPath:\"/top_middle-rec3\",Group:\"TopReq3\",Ignition:\"\",Slot:\"\",Type:\"HB\",isAps:true,TAMSize:[[300,250],[336,280]],GAMMapping:\"mapping3\",LAZY:{PC:500,SP:500}},\"ad_gam_top_middle-rec4\":{UnitPath:\"/top_middle-rec4\",Group:\"TopReq4\",Ignition:\"\",Slot:\"\",Type:\"HB\",isAps:true,TAMSize:[[300,250],[336,280]],GAMMapping:\"mapping3\",LAZY:{PC:500,SP:500}},\"ad_gam_topics_middle-rec1\":{UnitPath:\"/topics_middle-rec1\",Group:\"TopicsReq1\",Ignition:\"\",Slot:\"\",Type:\"HB\",isAps:true,TAMSize:[[300,250],[336,280]],GAMMapping:\"mapping3\",LAZY:{PC:800,SP:800}},\"ad_gam_topics_middle-rec2\":{UnitPath:\"/topics_middle-rec2\",Group:\"TopicsReq2\",Ignition:\"\",Slot:\"\",Type:\"HB\",isAps:true,TAMSize:[[300,250],[336,280]],GAMMapping:\"mapping3\",LAZY:{PC:800,SP:800}},\"ad_gam_top_middle-rec1-r\":{UnitPath:\"/top_middle-rec1-r\",Group:\"TopReq1\",Ignition:\"\",Slot:\"\",Type:\"HB\",isAps:true,TAMSize:[[300,250]],GAMSize:[[300,1],[300,250]],LAZY:{PC:500,SP:-2}},\"ad_gam_top_middle-rec2-r\":{UnitPath:\"/top_middle-rec2-r\",Group:\"TopReq2\",Ignition:\"\",Slot:\"\",Type:\"HB\",isAps:true,TAMSize:[[300,250]],GAMSize:[[300,1],[300,250]],LAZY:{PC:500,SP:-2}},\"ad_gam_top_middle-rec3-r\":{UnitPath:\"/top_middle-rec3-r\",Group:\"TopReq3\",Ignition:\"\",Slot:\"\",Type:\"HB\",isAps:true,TAMSize:[[300,250]],GAMSize:[[300,1],[300,250]],LAZY:{PC:500,SP:-2}},\"ad_gam_top_middle-rec4-r\":{UnitPath:\"/top_middle-rec4-r\",Group:\"TopReq4\",Ignition:\"\",Slot:\"\",Type:\"HB\",isAps:true,TAMSize:[[300,250]],GAMSize:[[300,1],[300,250]],LAZY:{PC:500,SP:-2}},\"ad_gam_topics_middle-rec1-r\":{UnitPath:\"/topics_middle-rec1-r\",Group:\"TopicsReq1\",Ignition:\"\",Slot:\"\",Type:\"HB\",isAps:true,TAMSize:[[300,250]],GAMSize:[[300,1],[300,250]],LAZY:{PC:800,SP:-2}},\"ad_gam_topics_middle-rec2-r\":{UnitPath:\"/topics_middle-rec2-r\",Group:\"TopicsReq2\",Ignition:\"\",Slot:\"\",Type:\"HB\",isAps:true,TAMSize:[[300,250]],GAMSize:[[300,1],[300,250]],LAZY:{PC:800,SP:-2}},ad_gam_overlay:{UnitPath:\"/overlay\",Group:\"\",Ignition:\"\",Slot:\"\",Type:\"HB\",isAps:true,TAMSize:[[728,90],[320,50],[320,70]],GAMMapping:\"mapping7\",LAZY:{PC:-1,SP:-1}},\"ad_gam_osusume-pr1\":{UnitPath:\"/osusume-pr1\",Group:\"Osusume\",Ignition:\"\",Slot:\"\",Type:\"GAM\",LAZY:{PC:300,SP:100}},\"ad_gam_osusume-pr2\":{UnitPath:\"/osusume-pr2\",Group:\"Osusume\",Ignition:\"\",Slot:\"\",Type:\"GAM\",LAZY:{PC:300,SP:100}},\"ad_gam_osusume-pr3\":{UnitPath:\"/osusume-pr3\",Group:\"Osusume\",Ignition:\"\",Slot:\"\",Type:\"GAM\",LAZY:{PC:300,SP:100}},ad_gam_text1:{UnitPath:\"/text1\",Group:\"Text\",Ignition:\"\",Slot:\"\",Type:\"GAM\",LAZY:{PC:100,SP:100}},ad_gam_text2:{UnitPath:\"/text2\",Group:\"Text\",Ignition:\"\",Slot:\"\",Type:\"GAM\",LAZY:{PC:100,SP:100}},ad_gam_text3:{UnitPath:\"/text3\",Group:\"Text\",Ignition:\"\",Slot:\"\",Type:\"GAM\",LAZY:{PC:100,SP:100}},\"ad_gam_top_thumbnail-txt1\":{UnitPath:\"/top_thumbnail-txt1\",Group:\"\",Ignition:\"\",Slot:\"\",Type:\"GAM\",LAZY:{PC:300,SP:300}},\"ad_gam_top_thumbnail-txt2\":{UnitPath:\"/top_thumbnail-txt2\",Group:\"\",Ignition:\"\",Slot:\"\",Type:\"GAM\",LAZY:{PC:300,SP:300}},\"ad_gam_top_thumbnail-txt3\":{UnitPath:\"/top_thumbnail-txt3\",Group:\"\",Ignition:\"\",Slot:\"\",Type:\"GAM\",LAZY:{PC:300,SP:300}},\"ad_gam_top_thumbnail-txt4\":{UnitPath:\"/top_thumbnail-txt4\",Group:\"\",Ignition:\"\",Slot:\"\",Type:\"GAM\",LAZY:{PC:300,SP:300}},\"ad_gam_top_thumbnail-txt5\":{UnitPath:\"/top_thumbnail-txt5\",Group:\"\",Ignition:\"\",Slot:\"\",Type:\"GAM\",LAZY:{PC:300,SP:300}}},Mapping:{mapping1:[[[963,0],[[970,250],[1056,250],[970,1]]],[[752,0],[[728,90],[728,1]]],[[0,0],[[320,50],[320,100],[320,180],[320,1]]]],mapping2:[[[1200,0],[[640,1],[640,360],[300,250]]],[[336,280],[[320,1],[320,180],[300,250],[336,280],\"fluid\"]],[[0,0],[[320,1],[320,180],[300,250],\"fluid\"]]],mapping3:[[[752,0],[[300,1],[300,250]]],[[336,280],[[300,1],[300,250],[336,280],\"fluid\"]],[[0,0],[[300,1],[300,250],\"fluid\"]]],mapping4:[[[752,0],[[300,1],[300,250],[300,600]]],[[336,280],[[300,250],[336,280],\"fluid\"]],[[0,0],[[300,250],\"fluid\"]]],mapping7:[[[752,0],[[728,1],[728,90]]],[[0,0],[[320,1],[320,50],[320,70]]]]}};</script><script data-hid=\"adScript-11\" data-n-head=\"ssr\">googletag.cmd.push(function(){for(var key in AD3.adSlots){AD3.adSlots[key][\"UnitPath\"]=AD3.adUnitCode+AD3.adSlots[key][\"UnitPath\"];var tmpSlot=AD3.adSlots[key];if(tmpSlot[\"GAMMapping\"]){AD3.adSlots[key][\"Slot\"]=googletag.defineSlot(tmpSlot[\"UnitPath\"],[[1,1]],key).defineSizeMapping(AD3.Mapping[tmpSlot[\"GAMMapping\"]]).addService(googletag.pubads())}else if(tmpSlot[\"GAMSize\"]){AD3.adSlots[key][\"Slot\"]=googletag.defineSlot(tmpSlot[\"UnitPath\"],tmpSlot[\"GAMSize\"],key).addService(googletag.pubads())}else{AD3.adSlots[key][\"Slot\"]=googletag.defineSlot(tmpSlot[\"UnitPath\"],[[1,1],\"fluid\"],key).addService(googletag.pubads())}}AD3.adsRefresh();googletag.pubads().addEventListener(\"slotRenderEnded\",function(event){var slot=event.slot,slotElementId=slot.getSlotElementId();if(!event.isEmpty){if(slotElementId===\"ad_gam_overlay\"){var width=event.size[0],height=event.size[1],elm=document.getElementById(slotElementId),parent=elm.parentNode;if(width==\"320\"&&window.innerWidth<560){var scale=window.innerWidth/width;var bottom=(scale*height-height)/2;var style=\"transform: scale(\"+scale+\");\";elm.setAttribute(\"style\",style+elm.style.cssText);parent.style.bottom=bottom+\"px\"}}if(slotElementId===\"ad_gam_banner\"){if(event.size[0]==\"1056\"){for(var key in AD3.adSlots){if(key.slice(-2)==\"-r\"){AD3.adSlots[key][\"Ignition\"]=false}}}}}else{var elm=document.getElementById(slotElementId);if(elm){elm.style.display=\"none\"}}})});window.onload=function(){var timeoutId;window.addEventListener(\"scroll\",function(){if(timeoutId)return;timeoutId=setTimeout(function(){timeoutId=0;AD3.adWakeUp()},333)})};</script><script data-hid=\"gtm-script\" data-n-head=\"ssr\">if(!window._gtm_init){window._gtm_init=1;(function(w,n,d,m,e,p){w[d]=(w[d]==1||n[d]=='yes'||n[d]==1||n[m]==1||(w[e]&&w[e][p]&&w[e][p]()))?1:0})(window,navigator,'doNotTrack','msDoNotTrack','external','msTrackingProtectionEnabled');(function(w,d,s,l,x,y){w[x]={};w._gtm_inject=function(i){if(w.doNotTrack||w[x][i])return;w[x][i]=1;w[l]=w[l]||[];w[l].push({'gtm.start':new Date().getTime(),event:'gtm.js'});var f=d.getElementsByTagName(s)[0],j=d.createElement(s);j.async=true;j.src='https://www.googletagmanager.com/gtm.js?id='+i;f.parentNode.insertBefore(j,f);};w[y]('GTM-5CTH9NM')})(window,document,'script','dataLayer','_gtm_ids','_gtm_inject')}</script><script data-hid=\"nuxt-jsonld--67647ae0\" data-n-head=\"ssr\" type=\"application/ld+json\">{\"@context\":\"http://schema.org/\",\"@type\":\"CollectionPage\",\"url\":\"https://komachi.yomiuri.co.jp/topics/genre/life/\",\"description\":\"話題：日常の小さな疑問から一世一代の出来事まで何でもどうぞ。\",\"hasPart\":[{\"name\":\"若い女性の態度に腹がたち意地悪してしまいました\",\"dateCreated\":\"2022-01-31T12:58:18Z\",\"text\":\"デパートで清掃の仕事をしています。開店前は売り場、開店後はバックヤードです。バックヤードのトイレ（従業員用）を清掃するときは、出入口に看板をたてておきます。基本的に「清掃中につき立ち入りご遠慮ください」なのですが、接客で忙しいなか他の階まで…\",\"@type\":\"Question\",\"answerCount\":0,\"url\":\"https://komachi.yomiuri.co.jp/topics/id/1048447/\",\"author\":{\"name\":\"ルン婆\",\"@type\":\"Person\"}},{\"name\":\"子供の貧困を聞くと涙が出る\",\"dateCreated\":\"2022-01-31T12:21:29Z\",\"text\":\"興味を持っていただき、ありがとうございます。ニュースで子供の貧困問題が取り上げられる度、悲しい気持ちになります。「うちに来たらお腹いっぱい食べられるよ」とテレビの前で呟いています。あたたかいお布団で寝られるのかな?洗濯したお洋服が着られるの…\",\"@type\":\"Question\",\"answerCount\":0,\"url\":\"https://komachi.yomiuri.co.jp/topics/id/1048443/\",\"author\":{\"name\":\"みとた\",\"@type\":\"Person\"}},{\"name\":\"うつ病3年、死にたいです\",\"dateCreated\":\"2022-01-31T11:57:59Z\",\"text\":\"28歳女既婚、夫は同い年です。3年前に仕事で債権回収業務にあたってからうつ病になってしまい、いまだ治っていません。休職を繰り返し、傷病手当金も期限が切れ、貯金も尽きたところで限界だということで、昨年の6月に退職しました。前職は官公庁関連だっ…\",\"@type\":\"Question\",\"answerCount\":0,\"url\":\"https://komachi.yomiuri.co.jp/topics/id/1048441/\",\"author\":{\"name\":\"はるこ\",\"@type\":\"Person\"}},{\"name\":\"アパートの不具合を管理会社に言いづらい\",\"dateCreated\":\"2022-01-31T11:48:32Z\",\"text\":\"今のアパートに入居して3年目になります。ここ半年間で色々とトラブルがあり、その度に管理会社に連絡して対処して頂きました。1件目：エアコンの故障2件目：給湯器の故障3件目：上階からの水漏れこの3つが半年以内に起こりました。3件目については2週…\",\"@type\":\"Question\",\"answerCount\":0,\"url\":\"https://komachi.yomiuri.co.jp/topics/id/1048440/\",\"author\":{\"name\":\"みずもれ\",\"@type\":\"Person\"}},{\"name\":\"お菓子を全部食べられた！\",\"dateCreated\":\"2022-01-31T10:59:38Z\",\"text\":\"くだらない話ですが、聞いてください。わたしは友人とルームシェアをしています。先日、自分用にお菓子(個包装5袋入り)を買い、一袋だけ食べてお菓子を置いている棚に入れておきました。そして2日後に残りのお菓子を食べようと棚を開けると全てなくなって…\",\"@type\":\"Question\",\"answerCount\":0,\"url\":\"https://komachi.yomiuri.co.jp/topics/id/1048437/\",\"author\":{\"name\":\"みゃこ\",\"@type\":\"Person\"}},{\"name\":\"ファミレスで、ランチプレートに髪の毛が入っていたら\",\"dateCreated\":\"2022-01-31T10:55:55Z\",\"text\":\"ファミレスで、ランチプレートに髪の毛が入っていたら、みなさんどうしますか？？彼氏とランチに行った時、食品に髪の毛がついていました。気を利かせて店員さんを呼ぶボタンを押したら、こんなことで呼ばなくていい、どけて食べたらいいんだから。お前はクレ…\",\"@type\":\"Question\",\"answerCount\":0,\"url\":\"https://komachi.yomiuri.co.jp/topics/id/1048436/\",\"author\":{\"name\":\"はな\",\"@type\":\"Person\"}},{\"name\":\"社宅だからの騒音に悩む\",\"dateCreated\":\"2022-01-31T10:48:32Z\",\"text\":\"築30年鉄筋コンクリートの社宅（4階建て）築30年なので、床がフローリングじゃなくてただの板張りです。もちろん消音とか断熱材も入ってない、古いアパートです。なので、とにかく子どもの足音、走り廻る音、何処からか飛び降りる音が部屋中に響き渡り困…\",\"@type\":\"Question\",\"answerCount\":0,\"url\":\"https://komachi.yomiuri.co.jp/topics/id/1048434/\",\"author\":{\"name\":\"社宅住まい\",\"@type\":\"Person\"}},{\"name\":\"おすすめの番組教えてください。\",\"dateCreated\":\"2022-01-31T10:10:53Z\",\"text\":\"療養中及びコロナ禍で、家にいる時間が格段に増えたため、動画見放題の虜になっております。特に、「ブリティッシュベイクオフ」、「ソーイングビー」という、イギリスのコンテスト番組が大好きで、あっという間に見終わってしまいました。どちらも素人の方が…\",\"@type\":\"Question\",\"answerCount\":0,\"url\":\"https://komachi.yomiuri.co.jp/topics/id/1048430/\",\"author\":{\"name\":\"キノ\",\"@type\":\"Person\"}},{\"name\":\"お金が無くても子供がいたら幸せですか\",\"dateCreated\":\"2022-01-31T10:04:51Z\",\"text\":\"私はある程度お金に余裕があった上で、子供がいたら幸せと考えるのですが、お金が無くても子供がいたら幸せでしょうか。結婚して子供を何人持つか考えた時、生活に余裕を持ちながら子供にもお金を掛けられるのは二人までと考えて、現在二人の子供がいます。無…\",\"@type\":\"Question\",\"answerCount\":0,\"url\":\"https://komachi.yomiuri.co.jp/topics/id/1048428/\",\"author\":{\"name\":\"トマト\",\"@type\":\"Person\"}},{\"name\":\"空き家になった田舎の実家、どうしましたか？\",\"dateCreated\":\"2022-01-28T16:15:51Z\",\"text\":\"トピを開いていただきありがとうございます。50代半ばの主婦です。両親が亡くなり、実家が空き家になりました。わたしもきょうだいも実家を出て家を持っており、実家に戻ることは考えていません。実家はかなり田舎な上に狭い狭い道を通っての一番奥の土地で…\",\"@type\":\"Question\",\"answerCount\":5,\"url\":\"https://komachi.yomiuri.co.jp/topics/id/1048128/\",\"author\":{\"name\":\"いちご大福\",\"@type\":\"Person\"}},{\"name\":\"隣家からBB弾を撃ち込まれています…\",\"dateCreated\":\"2022-01-31T07:45:34Z\",\"text\":\"南側の隣家から1週間の間に100発近いBB弾を撃ち込まれている者です。我が家への嫌がらせではありません。理由は我が家の東側の隣家の木々と、我が家の南にある畑に集まる小鳥(主に雀、ヒヨドリ、ムクドリなど)に向けて撃ち込んでいるようです。最初に…\",\"@type\":\"Question\",\"answerCount\":6,\"url\":\"https://komachi.yomiuri.co.jp/topics/id/1048408/\",\"author\":{\"name\":\"あーやん\",\"@type\":\"Person\"}},{\"name\":\"ホテルのような寝室\",\"dateCreated\":\"2022-01-30T05:54:47Z\",\"text\":\"はじめまして。現在、家の設計を考えています。私の理想なのですが寝室はホテルのようにシャワールームがあれば便利だな。と思うのですが実際、生活してみてどうなのでしょうか。二階建てで１階にもバスルームは設置します。シャワールームの横に洗面台を置い…\",\"@type\":\"Question\",\"answerCount\":13,\"url\":\"https://komachi.yomiuri.co.jp/topics/id/1048282/\",\"author\":{\"name\":\"こまり\",\"@type\":\"Person\"}},{\"name\":\"感染対策？店員と話さない\",\"dateCreated\":\"2022-01-31T02:47:59Z\",\"text\":\"私はスーパーでレジの仕事をしています。最近、感染対策の為なのか全く話さないお客様が増えているように感じます。レジは「商品を登録してお会計をするだけ」と思われがちですが意外にお客様とコミュニケーションをとる場面が多いです。例えば、袋やお箸が必…\",\"@type\":\"Question\",\"answerCount\":7,\"url\":\"https://komachi.yomiuri.co.jp/topics/id/1048376/\",\"author\":{\"name\":\"レジっこ\",\"@type\":\"Person\"}},{\"name\":\"回転焼き ？？\",\"dateCreated\":\"2022-01-27T00:03:47Z\",\"text\":\"朝ドラを見ている時のことです。「今川焼き」を「回転焼き」と呼ぶではないですか。私は生まれも育ちも東京ですが、あれを「回転焼き」と呼ぶ人に一度も、お目にかかったことがありません。朝ドラの舞台は京都でした。東北の地方都市出身の家人は、なんと「回…\",\"@type\":\"Question\",\"answerCount\":148,\"url\":\"https://komachi.yomiuri.co.jp/topics/id/1047931/\",\"author\":{\"name\":\"ユ\",\"@type\":\"Person\"}},{\"name\":\"置き配設定をしてるのにチャイムを鳴らされる\",\"dateCreated\":\"2022-01-29T02:10:25Z\",\"text\":\"ネットで買い物をした時に置き配設定をしているのに毎回チャイムを鳴らされます。小さい赤ちゃんがいるので寝かしつけてる時だとチャイムを鳴らされたくないし、外出する用事がない時はずっと部屋着で髪も整えていないので時間指定以外の時は正直配送業者の方…\",\"@type\":\"Question\",\"answerCount\":41,\"url\":\"https://komachi.yomiuri.co.jp/topics/id/1048157/\",\"author\":{\"name\":\"an\",\"@type\":\"Person\"}},{\"name\":\"45才女性が年下男性と早めに結婚するには\",\"dateCreated\":\"2022-01-28T11:18:48Z\",\"text\":\"私は元々独りが苦にならないタイプで結婚願望も薄い人間でした。30代前半までは短期スパンの恋愛を繰り返していましたが、30代半ばで病気になり、命にかかわるレベルではなかったものの投薬や放射線治療で５年を消化、今は元気に暮らしています。割りと稼…\",\"@type\":\"Question\",\"answerCount\":35,\"url\":\"https://komachi.yomiuri.co.jp/topics/id/1048099/\",\"author\":{\"name\":\"にゃん\",\"@type\":\"Person\"}},{\"name\":\"トイレットペーパー・お茶、僅かに残ってても替えるのは、なぜ？\",\"dateCreated\":\"2022-01-30T23:56:05Z\",\"text\":\"シンプルに疑問でわからないから教えてほしんですけど、トイレットペーパーの残りが数10㎝なら、新しいのに替えなきゃいけないとか麦茶残り1㎝で冷蔵庫に戻さない、ってなぜなんですか？個人的にはトイレットペーパーは、残ってる数10cmと新しいのから…\",\"@type\":\"Question\",\"answerCount\":18,\"url\":\"https://komachi.yomiuri.co.jp/topics/id/1048356/\",\"author\":{\"name\":\"きまぐれ\",\"@type\":\"Person\"}},{\"name\":\"愛犬の死。動物病院に連絡しますか？\",\"dateCreated\":\"2022-01-31T05:33:00Z\",\"text\":\"お正月に愛犬が亡くなりました。15歳でした。年末から少し様子がおかしかったのですが、かかりつけの動物病院はお正月休みに入っていて、診察を受けられませんでした。年明けに救急の動物病院に駆け込んだのですが、間に合わず虹の橋を渡りました。かかりつ…\",\"@type\":\"Question\",\"answerCount\":8,\"url\":\"https://komachi.yomiuri.co.jp/topics/id/1048391/\",\"author\":{\"name\":\"ミント\",\"@type\":\"Person\"}},{\"name\":\"歳を重ねて聞いた時に泣きそうになった曲\",\"dateCreated\":\"2022-01-30T02:03:30Z\",\"text\":\"トピを開いてくださりありがとうございます。50後半のおばちゃんです。先日車を運転していた時に何気なく聞いていたラジオから、かまやつひろしさんの【我が良き友よ】が流れてきました。この曲が発売された頃は小学生で、特に何も思っていなかったのですが…\",\"@type\":\"Question\",\"answerCount\":41,\"url\":\"https://komachi.yomiuri.co.jp/topics/id/1048257/\",\"author\":{\"name\":\"さくら\",\"@type\":\"Person\"}},{\"name\":\"転勤・介護・一人っ子\",\"dateCreated\":\"2022-01-31T00:35:16Z\",\"text\":\"こんにちは、40代パート主婦です。主人は同年齢、小３（9才）男児の3人家族です。夫は、全国転勤のある会社に勤めており、現在は福岡に10年住んでいて、子供も福岡で出産しています。通常は5年単位で転勤になるのですが、異動もなく親子ともに友達もた…\",\"@type\":\"Question\",\"answerCount\":8,\"url\":\"https://komachi.yomiuri.co.jp/topics/id/1048363/\",\"author\":{\"name\":\"悩める主婦\",\"@type\":\"Person\"}}],\"breadcrumb\":{\"itemListElement\":[{\"position\":1,\"name\":\"ホーム\",\"item\":\"https://komachi.yomiuri.co.jp/\",\"@type\":\"ListItem\"},{\"position\":2,\"name\":\"生活・身近な話題\",\"item\":\"https://komachi.yomiuri.co.jp/topics/genre/life/\",\"@type\":\"ListItem\"}],\"@type\":\"BreadcrumbList\"}}</script><link href=\"/_nuxt/app_202201270233.css\" rel=\"stylesheet\"/><link href=\"/_nuxt/layouts/default_202201270233.css\" rel=\"stylesheet\"/><link href=\"/_nuxt/159_202201270233.css\" rel=\"stylesheet\"/><link href=\"/_nuxt/33_202201270233.css\" rel=\"stylesheet\"/><link href=\"/_nuxt/164_202201270233.css\" rel=\"stylesheet\"/><link href=\"/_nuxt/201_202201270233.css\" rel=\"stylesheet\"/><link href=\"/_nuxt/161_202201270233.css\" rel=\"stylesheet\"/><link href=\"/_nuxt/9_202201270233.css\" rel=\"stylesheet\"/><link href=\"/_nuxt/2_202201270233.css\" rel=\"stylesheet\"/><link href=\"/_nuxt/10_202201270233.css\" rel=\"stylesheet\"/><link href=\"/_nuxt/16_202201270233.css\" rel=\"stylesheet\"/><link href=\"/_nuxt/44_202201270233.css\" rel=\"stylesheet\"/><link href=\"/_nuxt/6_202201270233.css\" rel=\"stylesheet\"/><link href=\"/_nuxt/21_202201270233.css\" rel=\"stylesheet\"/><link href=\"/_nuxt/22_202201270233.css\" rel=\"stylesheet\"/><link href=\"/_nuxt/184_202201270233.css\" rel=\"stylesheet\"/><link href=\"/_nuxt/1_202201270233.css\" rel=\"stylesheet\"/><link href=\"/_nuxt/160_202201270233.css\" rel=\"stylesheet\"/><link href=\"/_nuxt/176_202201270233.css\" rel=\"stylesheet\"/><link href=\"/_nuxt/200_202201270233.css\" rel=\"stylesheet\"/></head><body><noscript data-hid=\"gtm-noscript\" data-n-head=\"ssr\" data-pbody=\"true\"><iframe height=\"0\" src=\"https://www.googletagmanager.com/ns.html?id=GTM-5CTH9NM&amp;\" style=\"display:none;visibility:hidden\" title=\"gtm\" width=\"0\"></iframe></noscript><div data-server-rendered=\"true\" id=\"__nuxt\"><div id=\"__layout\"><div><header class=\"layout-header\"><div class=\"layout-header__inner\"><div class=\"layout-header__body\"><button class=\"layout-header__hmenu sp\" type=\"button\"><span>メニュー</span></button> <button class=\"layout-header__hmenu tab\" type=\"button\"><span>メニュー</span></button> <a class=\"layout-header__logo nuxt-link-active\" href=\"/\"><img alt=\"発言小町\" class=\"layout-header__logoImage\" height=\"31\" src=\"/_nuxt/header_icon_202201270233.svg\" width=\"118\"/></a> <ul class=\"layout-header__list pc\"><li class=\"layout-header__listItem is-topiListLink\"><a class=\"layout-header__listRanking nuxt-link-active\" href=\"/\">ランキング</a> <a class=\"layout-header__listNew nuxt-link-active\" href=\"/topics/\">新着順</a></li> <li class=\"layout-header__listItem\"><!-- --> <div class=\"layout-header__listSignup\">\n",
      "            マイページ作成 (無料)\n",
      "          </div></li> <li aria-label=\"ログイン\" class=\"layout-header__listItem is-loginLink\"><span class=\"layout-header__listLogin\">ログイン</span></li></ul> <div class=\"layout-header__searchPc pc\"><div class=\"layout-header__searchPcInputForm\"><form><input class=\"layout-header__searchPcInput\" maxlength=\"50\" placeholder=\"例：結婚の条件\" type=\"text\" value=\"\"/> <button class=\"layout-header__searchPcSubmit\" type=\"submit\">\n",
      "              検索\n",
      "            </button></form></div> <p class=\"layout-header__searchPcModalSwitch\">\n",
      "          詳細検索\n",
      "        </p></div> <div class=\"layout-header__searchTab tab\"><button type=\"button\">\n",
      "          検索\n",
      "        </button></div> <div class=\"layout-header__searchSp sp\"><button type=\"button\">\n",
      "          検索\n",
      "        </button></div> <button class=\"layout-header__newEntry\" type=\"button\">\n",
      "        トピ作成\n",
      "      </button></div></div> <div class=\"tab\"><ul class=\"p-genreList is-header\"></ul></div></header> <div id=\"ad_overlay_div\" style=\"display:;\"><div class=\"p-ads-overlay\"><div id=\"ad_gam_overlay\"></div></div></div> <div class=\"p-contentsSwitchingTab sp\"><ul class=\"p-contentsSwitchingTab__list\"><li class=\"p-contentsSwitchingTab__listItem\" data-tab=\"ranking\"><a class=\"p-contentsSwitchingTab__listItemLink nuxt-link-active\" href=\"/\">ランキング</a></li> <li class=\"p-contentsSwitchingTab__listItem is-current\" data-tab=\"topics\"><a class=\"p-contentsSwitchingTab__listItemLink nuxt-link-active\" href=\"/topics/\">新着順</a></li> <li class=\"p-contentsSwitchingTab__listItem\" data-tab=\"favorite\"><span class=\"p-contentsSwitchingTab__listItemLink\">お気に入り</span></li> <li class=\"p-contentsSwitchingTab__listItem\" data-tab=\"mypage\"><span class=\"p-contentsSwitchingTab__listItemLink\">マイページ\n",
      "      </span></li></ul></div> <div class=\"p-ad_gamBanner\"><div id=\"ad_gam_banner\"></div></div> <div class=\"p-bannerArea__large sp\"><!-- --></div> <div class=\"p-bannerArea__large tab\"><!-- --></div> <div class=\"layout-contents\"><div class=\"layout-contents__left\"><nav class=\"p-globalMenu\"><div class=\"p-globalMenu__overlay\"></div> <div class=\"p-globalMenu__inner\"><!-- --> <div class=\"p-globalMenu__fontSize\">\n",
      "      文字の表示サイズ\n",
      "      <div class=\"p-globalMenu__fontSizeChange\"><button class=\"p-globalMenu__fontSizeChangeButton\">\n",
      "          小\n",
      "        </button> <button class=\"p-globalMenu__fontSizeChangeButton is-current\">\n",
      "          中\n",
      "        </button> <button class=\"p-globalMenu__fontSizeChangeButton\">\n",
      "          大\n",
      "        </button></div></div> <div class=\"p-globalMenu__contentsLinks\"><div class=\"p-globalMenu__contentsLinksHead\"><a class=\"p-globalMenu__contentsLinksTop nuxt-link-active\" href=\"/\">トップへ</a> <!-- --></div> <div class=\"p-globalMenu__contentsLinks__head\">\n",
      "        掲示板\n",
      "      </div> <ul class=\"p-globalMenu__contentsLinksGenreList\"></ul> <div class=\"p-globalMenu__contentsLinks__head\">\n",
      "        記事\n",
      "      </div> <div class=\"p-globalMenu__articlesLinksListHome\"><a class=\"p-globalMenu__articlesLinksListItemLink is-home\" href=\"/articles/\">記事一覧</a></div> <ul class=\"p-globalMenu__articlesLinksList\"></ul></div> <div class=\"p-globalMenu__guide p-globalMenu__help\"><div class=\"p-globalMenu__guideTitle\">ヘルプ</div> <ul class=\"p-globalMenu__guideList p-globalMenu__helpList\"><li class=\"p-globalMenu__helpListItem\"><a class=\"p-globalMenu__helpListItemLink\" href=\"/help/\">初めての方</a></li> <li class=\"p-globalMenu__helpListItem\"><a class=\"p-globalMenu__helpListItemLink\" href=\"/help/parts/\">使い方</a></li> <li class=\"p-globalMenu__helpListItem\"><a class=\"p-globalMenu__helpListItemLink\" href=\"/help/mypage/\">マイページの使い方</a></li> <li class=\"p-globalMenu__helpListItem\"><a class=\"p-globalMenu__helpListItemLink\" href=\"/help/faq/\">よくあるご質問</a></li> <li class=\"p-globalMenu__helpListItem\"><a class=\"p-globalMenu__helpListItemLink\" href=\"/help/sitemap/\">サイトマップ</a></li></ul></div> <div class=\"p-globalMenu__guide p-globalMenu__relation\"><div class=\"p-globalMenu__guideTitle\">\n",
      "        関連サイト\n",
      "      </div> <ul class=\"p-globalMenu__guideList p-globalMenu__relationList\"><li class=\"p-globalMenu__relationListItem\"><a class=\"p-globalMenu__relationListItemLink\" href=\"https://otekomachi.yomiuri.co.jp/\" rel=\"noopener\" target=\"_blank\">OTEKOMACHI</a></li> <li class=\"p-globalMenu__relationListItem\"><a class=\"p-globalMenu__relationListItemLink\" href=\"https://www.yomiuri.co.jp/komachiplus/\" rel=\"noopener\" target=\"_blank\">発言小町＋</a></li> <li class=\"p-globalMenu__relationListItem\"><a class=\"p-globalMenu__relationListItemLink\" href=\"https://www.yomiuri.co.jp/\" rel=\"noopener\" target=\"_blank\">読売新聞オンライン</a></li></ul></div></div></nav> <div class=\"p-ads-center bottom p-ads__gamSkyscraper pc\" id=\"ad_gam_skyscraper\"></div></div> <div class=\"layout-contents__center p-mainContents\"><div data-fetch-key=\"GenreIndex:0\"><div class=\"p-notice\"><!-- --> <!-- --></div> <div class=\"p-pagingBackAnchor\" id=\"pagingBackAnchor\"></div> <div class=\"p-mainContentsBtnGroupHead is-new\"><h1 class=\"p-mainContentsBtnGroupHead__title\"><img alt=\"生活・身近な話題\" class=\"icon-genre\" height=\"30\" loading=\"lazy\" src=\"/images/upload/icon/icon_new01.png\" width=\"30\"/>生活・身近な話題\n",
      "  </h1> </div> <div class=\"p-mainContentsBtnGroupMenu\"><ul class=\"p-mainContentsBtnGroupMenu__list\"><li class=\"p-mainContentsBtnGroupMenu__listItem\"><a class=\"p-mainContentsBtnGroupMenu__listItemText\" href=\"/topics/genre/life/ranking/\">\n",
      "        ランキング\n",
      "      </a></li> <li class=\"p-mainContentsBtnGroupMenu__listItem is-current\"><a aria-current=\"page\" class=\"p-mainContentsBtnGroupMenu__listItemText nuxt-link-exact-active nuxt-link-active\" href=\"/topics/genre/life/\">新着順</a></li></ul> <div class=\"p-mainContentsRescueSearch\"><span class=\"p-mainContentsRescueSearch__btn\">\n",
      "    レス求！トピ一覧\n",
      "  </span></div></div> <ul class=\"p-switchingTab\"><li class=\"p-switchingTab__item is-current icon-updated\">\n",
      "    更新順\n",
      "    <!-- --></li><li class=\"p-switchingTab__item icon-access\">\n",
      "    アクセス数\n",
      "    <!-- --></li><li class=\"p-switchingTab__item icon-responseDesc\">\n",
      "    レス数\n",
      "    <!-- --></li><li class=\"p-switchingTab__item icon-korepochi\">\n",
      "    これポチ合計\n",
      "    <!-- --></li></ul> <div class=\"p-mainContents__inner\"><div class=\"p-pagination\"><ul class=\"p-pagination__list\"><li class=\"p-pagination__listItem is-current\"><span class=\"p-pagination__listItemLink\">1</span></li><li class=\"p-pagination__listItem\"><span class=\"p-pagination__listItemLink\">2</span></li><li class=\"p-pagination__listItem\"><span class=\"p-pagination__listItemLink\">3</span></li><li class=\"p-pagination__listItem\"><span class=\"p-pagination__listItemLink\">4</span></li><li class=\"p-pagination__listItem\"><span class=\"p-pagination__listItemLink\">5</span></li></ul> <div class=\"p-pagination__container\"><span class=\"p-pagination__first is-disabled\">先頭へ</span> <span class=\"p-pagination__prev is-disabled\">前へ</span> <div class=\"p-pagination__num\"><span class=\"p-pagination__numFrom\">1</span> <span class=\"p-pagination__numTo\">30</span>\n",
      "       / \n",
      "      <span class=\"p-pagination__numMax\">1253</span>\n",
      "      件\n",
      "    </div> <span class=\"p-pagination__next\">次へ</span> <span class=\"p-pagination__last\">最後尾へ</span></div></div> <div class=\"p-topiList\"><div><div class=\"p-topiList__item\"><a class=\"p-topiList__itemLink\" href=\"/topics/id/1048447/\"><img alt=\"話題\" class=\"icon-genre\" height=\"36\" loading=\"lazy\" src=\"/images/upload/icon/icon_new01.png\" width=\"36\"/> <div class=\"p-topiList__itemContent\"><h1 class=\"p-topiList__itemContentTitle\">\n",
      "        若い女性の態度に腹がたち意地悪してしまいました\n",
      "      </h1> <div class=\"p-topiList__itemContentInfo\"><!-- --> <div class=\"p-topiList__itemContentInfoItem c-smallText is-colorLink c-iconRes\">\n",
      "          0\n",
      "        </div> <!-- --> <div class=\"p-topiList__itemContentInfoItem\"><time class=\"p-topiList__itemContentInfoItem c-smallText\" datetime=\"2022-01-31T12:58:18Z\">\n",
      "            2022年1月31日 12:58\n",
      "          </time> <span class=\"p-topiList__itemContentInfoItem c-smallText\">話題</span></div> <!-- --></div></div></a></div> <!-- --> <!-- --> <!-- --> <!-- --> <!-- --> <!-- --> <!-- --> <!-- --> <!-- --> <!-- --> <!-- --></div><div><div class=\"p-topiList__item\"><a class=\"p-topiList__itemLink\" href=\"/topics/id/1048443/\"><img alt=\"話題\" class=\"icon-genre\" height=\"36\" loading=\"lazy\" src=\"/images/upload/icon/icon_new01.png\" width=\"36\"/> <div class=\"p-topiList__itemContent\"><h1 class=\"p-topiList__itemContentTitle\">\n",
      "        子供の貧困を聞くと涙が出る\n",
      "      </h1> <div class=\"p-topiList__itemContentInfo\"><!-- --> <div class=\"p-topiList__itemContentInfoItem c-smallText is-colorLink c-iconRes\">\n",
      "          0\n",
      "        </div> <!-- --> <div class=\"p-topiList__itemContentInfoItem\"><time class=\"p-topiList__itemContentInfoItem c-smallText\" datetime=\"2022-01-31T12:21:29Z\">\n",
      "            2022年1月31日 12:21\n",
      "          </time> <span class=\"p-topiList__itemContentInfoItem c-smallText\">話題</span></div> <!-- --></div></div></a></div> <!-- --> <!-- --> <!-- --> <!-- --> <!-- --> <!-- --> <!-- --> <!-- --> <!-- --> <!-- --> <!-- --></div><div><div class=\"p-topiList__item\"><a class=\"p-topiList__itemLink\" href=\"/topics/id/1048441/\"><img alt=\"話題\" class=\"icon-genre\" height=\"36\" loading=\"lazy\" src=\"/images/upload/icon/icon_new01.png\" width=\"36\"/> <div class=\"p-topiList__itemContent\"><h1 class=\"p-topiList__itemContentTitle\">\n",
      "        うつ病3年、死にたいです\n",
      "      </h1> <div class=\"p-topiList__itemContentInfo\"><!-- --> <div class=\"p-topiList__itemContentInfoItem c-smallText is-colorLink c-iconRes\">\n",
      "          0\n",
      "        </div> <!-- --> <div class=\"p-topiList__itemContentInfoItem\"><time class=\"p-topiList__itemContentInfoItem c-smallText\" datetime=\"2022-01-31T11:57:59Z\">\n",
      "            2022年1月31日 11:57\n",
      "          </time> <span class=\"p-topiList__itemContentInfoItem c-smallText\">話題</span></div> <!-- --></div></div></a></div> <div class=\"ads list-ad-pr1\"><div class=\"p-ads-flex\"><div class=\"p-ad__thumbnailText\" id=\"ad_gam_top_thumbnail-txt1\"></div></div></div> <!-- --> <!-- --> <!-- --> <!-- --> <!-- --> <!-- --> <!-- --> <!-- --> <!-- --> <!-- --></div><div><div class=\"p-topiList__item\"><a class=\"p-topiList__itemLink\" href=\"/topics/id/1048440/\"><img alt=\"話題\" class=\"icon-genre\" height=\"36\" loading=\"lazy\" src=\"/images/upload/icon/icon_new01.png\" width=\"36\"/> <div class=\"p-topiList__itemContent\"><h1 class=\"p-topiList__itemContentTitle\">\n",
      "        アパートの不具合を管理会社に言いづらい\n",
      "      </h1> <div class=\"p-topiList__itemContentInfo\"><!-- --> <div class=\"p-topiList__itemContentInfoItem c-smallText is-colorLink c-iconRes\">\n",
      "          0\n",
      "        </div> <!-- --> <div class=\"p-topiList__itemContentInfoItem\"><time class=\"p-topiList__itemContentInfoItem c-smallText\" datetime=\"2022-01-31T11:48:32Z\">\n",
      "            2022年1月31日 11:48\n",
      "          </time> <span class=\"p-topiList__itemContentInfoItem c-smallText\">話題</span></div> <!-- --></div></div></a></div> <!-- --> <!-- --> <!-- --> <!-- --> <!-- --> <!-- --> <!-- --> <!-- --> <!-- --> <!-- --> <!-- --></div><div><div class=\"p-topiList__item\"><a class=\"p-topiList__itemLink\" href=\"/topics/id/1048437/\"><img alt=\"話題\" class=\"icon-genre\" height=\"36\" loading=\"lazy\" src=\"/images/upload/icon/icon_new01.png\" width=\"36\"/> <div class=\"p-topiList__itemContent\"><h1 class=\"p-topiList__itemContentTitle\">\n",
      "        お菓子を全部食べられた！\n",
      "      </h1> <div class=\"p-topiList__itemContentInfo\"><!-- --> <div class=\"p-topiList__itemContentInfoItem c-smallText is-colorLink c-iconRes\">\n",
      "          0\n",
      "        </div> <!-- --> <div class=\"p-topiList__itemContentInfoItem\"><time class=\"p-topiList__itemContentInfoItem c-smallText\" datetime=\"2022-01-31T10:59:38Z\">\n",
      "            2022年1月31日 10:59\n",
      "          </time> <span class=\"p-topiList__itemContentInfoItem c-smallText\">話題</span></div> <!-- --></div></div></a></div> <!-- --> <!-- --> <!-- --> <!-- --> <!-- --> <!-- --> <!-- --> <!-- --> <!-- --> <!-- --> <!-- --></div><div><div class=\"p-topiList__item\"><a class=\"p-topiList__itemLink\" href=\"/topics/id/1048436/\"><img alt=\"話題\" class=\"icon-genre\" height=\"36\" loading=\"lazy\" src=\"/images/upload/icon/icon_new01.png\" width=\"36\"/> <div class=\"p-topiList__itemContent\"><h1 class=\"p-topiList__itemContentTitle\">\n",
      "        ファミレスで、ランチプレートに髪の毛が入っていたら\n",
      "      </h1> <div class=\"p-topiList__itemContentInfo\"><!-- --> <div class=\"p-topiList__itemContentInfoItem c-smallText is-colorLink c-iconRes\">\n",
      "          0\n",
      "        </div> <!-- --> <div class=\"p-topiList__itemContentInfoItem\"><time class=\"p-topiList__itemContentInfoItem c-smallText\" datetime=\"2022-01-31T10:55:55Z\">\n",
      "            2022年1月31日 10:55\n",
      "          </time> <span class=\"p-topiList__itemContentInfoItem c-smallText\">話題</span></div> <!-- --></div></div></a></div> <!-- --> <!-- --> <!-- --> <!-- --> <!-- --> <!-- --> <!-- --> <!-- --> <!-- --> <!-- --> <!-- --></div><div><div class=\"p-topiList__item\"><a class=\"p-topiList__itemLink\" href=\"/topics/id/1048434/\"><img alt=\"話題\" class=\"icon-genre\" height=\"36\" loading=\"lazy\" src=\"/images/upload/icon/icon_new01.png\" width=\"36\"/> <div class=\"p-topiList__itemContent\"><h1 class=\"p-topiList__itemContentTitle\">\n",
      "        社宅だからの騒音に悩む\n",
      "      </h1> <div class=\"p-topiList__itemContentInfo\"><!-- --> <div class=\"p-topiList__itemContentInfoItem c-smallText is-colorLink c-iconRes\">\n",
      "          0\n",
      "        </div> <!-- --> <div class=\"p-topiList__itemContentInfoItem\"><time class=\"p-topiList__itemContentInfoItem c-smallText\" datetime=\"2022-01-31T10:48:32Z\">\n",
      "            2022年1月31日 10:48\n",
      "          </time> <span class=\"p-topiList__itemContentInfoItem c-smallText\">話題</span></div> <!-- --></div></div></a></div> <!-- --> <!-- --> <!-- --> <!-- --> <!-- --> <!-- --> <!-- --> <!-- --> <!-- --> <!-- --> <!-- --></div><div><div class=\"p-topiList__item\"><a class=\"p-topiList__itemLink\" href=\"/topics/id/1048430/\"><img alt=\"話題\" class=\"icon-genre\" height=\"36\" loading=\"lazy\" src=\"/images/upload/icon/icon_new01.png\" width=\"36\"/> <div class=\"p-topiList__itemContent\"><h1 class=\"p-topiList__itemContentTitle\">\n",
      "        おすすめの番組教えてください。\n",
      "      </h1> <div class=\"p-topiList__itemContentInfo\"><!-- --> <div class=\"p-topiList__itemContentInfoItem c-smallText is-colorLink c-iconRes\">\n",
      "          0\n",
      "        </div> <!-- --> <div class=\"p-topiList__itemContentInfoItem\"><time class=\"p-topiList__itemContentInfoItem c-smallText\" datetime=\"2022-01-31T10:10:53Z\">\n",
      "            2022年1月31日 10:10\n",
      "          </time> <span class=\"p-topiList__itemContentInfoItem c-smallText\">話題</span></div> <!-- --></div></div></a></div> <!-- --> <!-- --> <!-- --> <!-- --> <!-- --> <!-- --> <!-- --> <!-- --> <!-- --> <!-- --> <!-- --></div><div><div class=\"p-topiList__item\"><a class=\"p-topiList__itemLink\" href=\"/topics/id/1048428/\"><img alt=\"話題\" class=\"icon-genre\" height=\"36\" loading=\"lazy\" src=\"/images/upload/icon/icon_new01.png\" width=\"36\"/> <div class=\"p-topiList__itemContent\"><h1 class=\"p-topiList__itemContentTitle\">\n",
      "        お金が無くても子供がいたら幸せですか\n",
      "      </h1> <div class=\"p-topiList__itemContentInfo\"><!-- --> <div class=\"p-topiList__itemContentInfoItem c-smallText is-colorLink c-iconRes\">\n",
      "          0\n",
      "        </div> <!-- --> <div class=\"p-topiList__itemContentInfoItem\"><time class=\"p-topiList__itemContentInfoItem c-smallText\" datetime=\"2022-01-31T10:04:51Z\">\n",
      "            2022年1月31日 10:04\n",
      "          </time> <span class=\"p-topiList__itemContentInfoItem c-smallText\">話題</span></div> <!-- --></div></div></a></div> <!-- --> <!-- --> <!-- --> <!-- --> <!-- --> <!-- --> <!-- --> <!-- --> <!-- --> <!-- --> <!-- --></div><div><div class=\"p-topiList__item\"><a class=\"p-topiList__itemLink\" href=\"/topics/id/1048128/\"><img alt=\"話題\" class=\"icon-genre\" height=\"36\" loading=\"lazy\" src=\"/images/upload/icon/icon_new01.png\" width=\"36\"/> <div class=\"p-topiList__itemContent\"><h1 class=\"p-topiList__itemContentTitle\">\n",
      "        空き家になった田舎の実家、どうしましたか？\n",
      "      </h1> <div class=\"p-topiList__itemContentInfo\"><!-- --> <div class=\"p-topiList__itemContentInfoItem c-smallText is-colorLink c-iconRes\">\n",
      "          5\n",
      "        </div> <!-- --> <div class=\"p-topiList__itemContentInfoItem\"><time class=\"p-topiList__itemContentInfoItem c-smallText\" datetime=\"2022-01-31T09:55:31Z\">\n",
      "            2022年1月31日 09:55\n",
      "          </time> <span class=\"p-topiList__itemContentInfoItem c-smallText\">話題</span></div> <!-- --></div></div></a></div> <!-- --> <div class=\"p-topiList__item py-1\"><div class=\"p-ad__middleRectangles\"><div class=\"p-ad__middleRectangle\" id=\"ad_gam_top_middle-rec1\"></div> <div class=\"p-ad__middleRectangle\" id=\"ad_gam_top_middle-rec1-r\"></div></div></div> <!-- --> <!-- --> <!-- --> <!-- --> <!-- --> <!-- --> <!-- --> <!-- --> <!-- --></div><div><div class=\"p-topiList__item\"><a class=\"p-topiList__itemLink\" href=\"/topics/id/1048408/\"><img alt=\"話題\" class=\"icon-genre\" height=\"36\" loading=\"lazy\" src=\"/images/upload/icon/icon_new01.png\" width=\"36\"/> <div class=\"p-topiList__itemContent\"><h1 class=\"p-topiList__itemContentTitle\">\n",
      "        隣家からBB弾を撃ち込まれています…\n",
      "      </h1> <div class=\"p-topiList__itemContentInfo\"><!-- --> <div class=\"p-topiList__itemContentInfoItem c-smallText is-colorLink c-iconRes\">\n",
      "          6\n",
      "        </div> <!-- --> <div class=\"p-topiList__itemContentInfoItem\"><time class=\"p-topiList__itemContentInfoItem c-smallText\" datetime=\"2022-01-31T09:51:46Z\">\n",
      "            2022年1月31日 09:51\n",
      "          </time> <span class=\"p-topiList__itemContentInfoItem c-smallText\">話題</span></div> <!-- --></div></div></a></div> <!-- --> <!-- --> <!-- --> <!-- --> <!-- --> <!-- --> <!-- --> <!-- --> <!-- --> <!-- --> <!-- --></div><div><div class=\"p-topiList__item\"><a class=\"p-topiList__itemLink\" href=\"/topics/id/1048282/\"><img alt=\"話題\" class=\"icon-genre\" height=\"36\" loading=\"lazy\" src=\"/images/upload/icon/icon_new01.png\" width=\"36\"/> <div class=\"p-topiList__itemContent\"><h1 class=\"p-topiList__itemContentTitle\">\n",
      "        ホテルのような寝室\n",
      "      </h1> <div class=\"p-topiList__itemContentInfo\"><!-- --> <div class=\"p-topiList__itemContentInfoItem c-smallText is-colorLink c-iconRes\">\n",
      "          13\n",
      "        </div> <!-- --> <div class=\"p-topiList__itemContentInfoItem\"><time class=\"p-topiList__itemContentInfoItem c-smallText\" datetime=\"2022-01-31T09:49:40Z\">\n",
      "            2022年1月31日 09:49\n",
      "          </time> <span class=\"p-topiList__itemContentInfoItem c-smallText\">話題</span></div> <!-- --></div></div></a></div> <!-- --> <!-- --> <!-- --> <!-- --> <!-- --> <!-- --> <!-- --> <!-- --> <!-- --> <!-- --> <!-- --></div><div><div class=\"p-topiList__item\"><a class=\"p-topiList__itemLink\" href=\"/topics/id/1048376/\"><img alt=\"話題\" class=\"icon-genre\" height=\"36\" loading=\"lazy\" src=\"/images/upload/icon/icon_new01.png\" width=\"36\"/> <div class=\"p-topiList__itemContent\"><h1 class=\"p-topiList__itemContentTitle\">\n",
      "        感染対策？店員と話さない\n",
      "      </h1> <div class=\"p-topiList__itemContentInfo\"><!-- --> <div class=\"p-topiList__itemContentInfoItem c-smallText is-colorLink c-iconRes\">\n",
      "          7\n",
      "        </div> <!-- --> <div class=\"p-topiList__itemContentInfoItem\"><time class=\"p-topiList__itemContentInfoItem c-smallText\" datetime=\"2022-01-31T09:44:31Z\">\n",
      "            2022年1月31日 09:44\n",
      "          </time> <span class=\"p-topiList__itemContentInfoItem c-smallText\">話題</span></div> <!-- --></div></div></a></div> <!-- --> <!-- --> <div class=\"ads list-ad-pr2\"><div class=\"p-ads-flex\"><div class=\"p-ad__thumbnailText ad_thumbnail-txt\" id=\"ad_gam_top_thumbnail-txt2\"></div></div></div> <!-- --> <!-- --> <!-- --> <!-- --> <!-- --> <!-- --> <!-- --> <!-- --></div><div><div class=\"p-topiList__item\"><a class=\"p-topiList__itemLink\" href=\"/topics/id/1047931/\"><img alt=\"話題\" class=\"icon-genre\" height=\"36\" loading=\"lazy\" src=\"/images/upload/icon/icon_new01.png\" width=\"36\"/> <div class=\"p-topiList__itemContent\"><h1 class=\"p-topiList__itemContentTitle\">\n",
      "        回転焼き ？？\n",
      "      </h1> <div class=\"p-topiList__itemContentInfo\"><!-- --> <div class=\"p-topiList__itemContentInfoItem c-smallText is-colorLink c-iconRes\">\n",
      "          148\n",
      "        </div> <!-- --> <div class=\"p-topiList__itemContentInfoItem\"><time class=\"p-topiList__itemContentInfoItem c-smallText\" datetime=\"2022-01-31T09:41:39Z\">\n",
      "            2022年1月31日 09:41\n",
      "          </time> <span class=\"p-topiList__itemContentInfoItem c-smallText\">話題</span></div> <!-- --></div></div></a></div> <!-- --> <!-- --> <!-- --> <!-- --> <!-- --> <!-- --> <!-- --> <!-- --> <!-- --> <!-- --> <!-- --></div><div><div class=\"p-topiList__item\"><a class=\"p-topiList__itemLink\" href=\"/topics/id/1048157/\"><img alt=\"話題\" class=\"icon-genre\" height=\"36\" loading=\"lazy\" src=\"/images/upload/icon/icon_new01.png\" width=\"36\"/> <div class=\"p-topiList__itemContent\"><h1 class=\"p-topiList__itemContentTitle\">\n",
      "        置き配設定をしてるのにチャイムを鳴らされる\n",
      "      </h1> <div class=\"p-topiList__itemContentInfo\"><!-- --> <div class=\"p-topiList__itemContentInfoItem c-smallText is-colorLink c-iconRes\">\n",
      "          41\n",
      "        </div> <!-- --> <div class=\"p-topiList__itemContentInfoItem\"><time class=\"p-topiList__itemContentInfoItem c-smallText\" datetime=\"2022-01-31T09:36:00Z\">\n",
      "            2022年1月31日 09:36\n",
      "          </time> <span class=\"p-topiList__itemContentInfoItem c-smallText\">話題</span></div> <!-- --></div></div></a></div> <!-- --> <!-- --> <!-- --> <div class=\"p-topiList__itemRelation\"><div class=\"p-topiRelation is-pickups is-wrap\"><h2 class=\"p-topiRelation__title\"><span>注目！</span>おすすめトピ一覧</h2> <ul class=\"p-topiRelationList\"></ul> <a class=\"p-topiRelation__link\" href=\"/topics/pickups/\"><span class=\"pc\">\n",
      "      すべて見る\n",
      "    </span> <span class=\"sp\">\n",
      "      すべて見る\n",
      "    </span></a></div></div> <!-- --> <!-- --> <!-- --> <!-- --> <!-- --> <!-- --> <!-- --></div><div><div class=\"p-topiList__item\"><a class=\"p-topiList__itemLink\" href=\"/topics/id/1048099/\"><img alt=\"話題\" class=\"icon-genre\" height=\"36\" loading=\"lazy\" src=\"/images/upload/icon/icon_new01.png\" width=\"36\"/> <div class=\"p-topiList__itemContent\"><h1 class=\"p-topiList__itemContentTitle\">\n",
      "        45才女性が年下男性と早めに結婚するには\n",
      "      </h1> <div class=\"p-topiList__itemContentInfo\"><!-- --> <div class=\"p-topiList__itemContentInfoItem c-smallText is-colorLink c-iconRes\">\n",
      "          35\n",
      "        </div> <!-- --> <div class=\"p-topiList__itemContentInfoItem\"><time class=\"p-topiList__itemContentInfoItem c-smallText\" datetime=\"2022-01-31T09:32:07Z\">\n",
      "            2022年1月31日 09:32\n",
      "          </time> <span class=\"p-topiList__itemContentInfoItem c-smallText\">話題</span></div> <!-- --></div></div></a></div> <!-- --> <!-- --> <!-- --> <!-- --> <!-- --> <!-- --> <!-- --> <!-- --> <!-- --> <!-- --> <!-- --></div><div><div class=\"p-topiList__item\"><a class=\"p-topiList__itemLink\" href=\"/topics/id/1048356/\"><img alt=\"話題\" class=\"icon-genre\" height=\"36\" loading=\"lazy\" src=\"/images/upload/icon/icon_new01.png\" width=\"36\"/> <div class=\"p-topiList__itemContent\"><h1 class=\"p-topiList__itemContentTitle\">\n",
      "        トイレットペーパー・お茶、僅かに残ってても替えるのは、なぜ？\n",
      "      </h1> <div class=\"p-topiList__itemContentInfo\"><!-- --> <div class=\"p-topiList__itemContentInfoItem c-smallText is-colorLink c-iconRes\">\n",
      "          18\n",
      "        </div> <!-- --> <div class=\"p-topiList__itemContentInfoItem\"><time class=\"p-topiList__itemContentInfoItem c-smallText\" datetime=\"2022-01-31T09:26:21Z\">\n",
      "            2022年1月31日 09:26\n",
      "          </time> <span class=\"p-topiList__itemContentInfoItem c-smallText\">話題</span></div> <!-- --></div></div></a></div> <!-- --> <!-- --> <!-- --> <!-- --> <!-- --> <!-- --> <!-- --> <!-- --> <!-- --> <!-- --> <!-- --></div><div><div class=\"p-topiList__item\"><a class=\"p-topiList__itemLink\" href=\"/topics/id/1048391/\"><img alt=\"話題\" class=\"icon-genre\" height=\"36\" loading=\"lazy\" src=\"/images/upload/icon/icon_new01.png\" width=\"36\"/> <div class=\"p-topiList__itemContent\"><h1 class=\"p-topiList__itemContentTitle\">\n",
      "        愛犬の死。動物病院に連絡しますか？\n",
      "      </h1> <div class=\"p-topiList__itemContentInfo\"><!-- --> <div class=\"p-topiList__itemContentInfoItem c-smallText is-colorLink c-iconRes\">\n",
      "          8\n",
      "        </div> <!-- --> <div class=\"p-topiList__itemContentInfoItem\"><time class=\"p-topiList__itemContentInfoItem c-smallText\" datetime=\"2022-01-31T09:23:16Z\">\n",
      "            2022年1月31日 09:23\n",
      "          </time> <span class=\"p-topiList__itemContentInfoItem c-smallText\">話題</span></div> <!-- --></div></div></a></div> <!-- --> <!-- --> <!-- --> <!-- --> <!-- --> <!-- --> <!-- --> <!-- --> <!-- --> <!-- --> <!-- --></div><div><div class=\"p-topiList__item\"><a class=\"p-topiList__itemLink\" href=\"/topics/id/1048257/\"><img alt=\"話題\" class=\"icon-genre\" height=\"36\" loading=\"lazy\" src=\"/images/upload/icon/icon_new01.png\" width=\"36\"/> <div class=\"p-topiList__itemContent\"><h1 class=\"p-topiList__itemContentTitle\">\n",
      "        歳を重ねて聞いた時に泣きそうになった曲\n",
      "      </h1> <div class=\"p-topiList__itemContentInfo\"><!-- --> <div class=\"p-topiList__itemContentInfoItem c-smallText is-colorLink c-iconRes\">\n",
      "          41\n",
      "        </div> <!-- --> <div class=\"p-topiList__itemContentInfoItem\"><time class=\"p-topiList__itemContentInfoItem c-smallText\" datetime=\"2022-01-31T09:14:54Z\">\n",
      "            2022年1月31日 09:14\n",
      "          </time> <span class=\"p-topiList__itemContentInfoItem c-smallText\">話題</span></div> <!-- --></div></div></a></div> <!-- --> <!-- --> <!-- --> <!-- --> <!-- --> <!-- --> <!-- --> <!-- --> <!-- --> <!-- --> <!-- --></div><div><div class=\"p-topiList__item\"><a class=\"p-topiList__itemLink\" href=\"/topics/id/1048363/\"><img alt=\"話題\" class=\"icon-genre\" height=\"36\" loading=\"lazy\" src=\"/images/upload/icon/icon_new01.png\" width=\"36\"/> <div class=\"p-topiList__itemContent\"><h1 class=\"p-topiList__itemContentTitle\">\n",
      "        転勤・介護・一人っ子\n",
      "      </h1> <div class=\"p-topiList__itemContentInfo\"><!-- --> <div class=\"p-topiList__itemContentInfoItem c-smallText is-colorLink c-iconRes\">\n",
      "          8\n",
      "        </div> <!-- --> <div class=\"p-topiList__itemContentInfoItem\"><time class=\"p-topiList__itemContentInfoItem c-smallText\" datetime=\"2022-01-31T09:01:47Z\">\n",
      "            2022年1月31日 09:01\n",
      "          </time> <span class=\"p-topiList__itemContentInfoItem c-smallText\">話題</span></div> <!-- --></div></div></a></div> <!-- --> <!-- --> <!-- --> <!-- --> <div class=\"p-topiList__item py-1\"><div class=\"p-ad__middleRectangles\"><div class=\"p-ad__middleRectangle ad-middle-rec\" id=\"ad_gam_top_middle-rec2\"></div> <div class=\"p-ad__middleRectangle\" id=\"ad_gam_top_middle-rec2-r\"></div></div></div> <!-- --> <!-- --> <!-- --> <!-- --> <!-- --> <!-- --></div><div><div class=\"p-topiList__item\"><a class=\"p-topiList__itemLink\" href=\"/topics/id/1048103/\"><img alt=\"話題\" class=\"icon-genre\" height=\"36\" loading=\"lazy\" src=\"/images/upload/icon/icon_new01.png\" width=\"36\"/> <div class=\"p-topiList__itemContent\"><h1 class=\"p-topiList__itemContentTitle\">\n",
      "        スープがまずいです。\n",
      "      </h1> <div class=\"p-topiList__itemContentInfo\"><!-- --> <div class=\"p-topiList__itemContentInfoItem c-smallText is-colorLink c-iconRes\">\n",
      "          43\n",
      "        </div> <!-- --> <div class=\"p-topiList__itemContentInfoItem\"><time class=\"p-topiList__itemContentInfoItem c-smallText\" datetime=\"2022-01-31T08:28:38Z\">\n",
      "            2022年1月31日 08:28\n",
      "          </time> <span class=\"p-topiList__itemContentInfoItem c-smallText\">話題</span></div> <!-- --></div></div></a></div> <!-- --> <!-- --> <!-- --> <!-- --> <!-- --> <!-- --> <!-- --> <!-- --> <!-- --> <!-- --> <!-- --></div><div><div class=\"p-topiList__item\"><a class=\"p-topiList__itemLink\" href=\"/topics/id/1048193/\"><img alt=\"話題\" class=\"icon-genre\" height=\"36\" loading=\"lazy\" src=\"/images/upload/icon/icon_new01.png\" width=\"36\"/> <div class=\"p-topiList__itemContent\"><h1 class=\"p-topiList__itemContentTitle\">\n",
      "        馴れ馴れしい賃貸マンション清掃員\n",
      "      </h1> <div class=\"p-topiList__itemContentInfo\"><!-- --> <div class=\"p-topiList__itemContentInfoItem c-smallText is-colorLink c-iconRes\">\n",
      "          51\n",
      "        </div> <!-- --> <div class=\"p-topiList__itemContentInfoItem\"><time class=\"p-topiList__itemContentInfoItem c-smallText\" datetime=\"2022-01-31T08:24:02Z\">\n",
      "            2022年1月31日 08:24\n",
      "          </time> <span class=\"p-topiList__itemContentInfoItem c-smallText\">話題</span></div> <!-- --></div></div></a></div> <!-- --> <!-- --> <!-- --> <!-- --> <!-- --> <!-- --> <!-- --> <!-- --> <!-- --> <!-- --> <!-- --></div><div><div class=\"p-topiList__item\"><a class=\"p-topiList__itemLink\" href=\"/topics/id/1048316/\"><img alt=\"話題\" class=\"icon-genre\" height=\"36\" loading=\"lazy\" src=\"/images/upload/icon/icon_new01.png\" width=\"36\"/> <div class=\"p-topiList__itemContent\"><h1 class=\"p-topiList__itemContentTitle\">\n",
      "        独身時代に組んだ住宅ローン\n",
      "      </h1> <div class=\"p-topiList__itemContentInfo\"><!-- --> <div class=\"p-topiList__itemContentInfoItem c-smallText is-colorLink c-iconRes\">\n",
      "          21\n",
      "        </div> <!-- --> <div class=\"p-topiList__itemContentInfoItem\"><time class=\"p-topiList__itemContentInfoItem c-smallText\" datetime=\"2022-01-31T08:14:28Z\">\n",
      "            2022年1月31日 08:14\n",
      "          </time> <span class=\"p-topiList__itemContentInfoItem c-smallText\">話題</span></div> <!-- --></div></div></a></div> <!-- --> <!-- --> <!-- --> <!-- --> <!-- --> <div class=\"ads list-ad-pr3\"><div class=\"p-ads-flex\"><div class=\"p-ad__thumbnailText ad_thumbnail-txt\" id=\"ad_gam_top_thumbnail-txt3\"></div></div></div> <!-- --> <!-- --> <!-- --> <!-- --> <!-- --></div><div><div class=\"p-topiList__item\"><a class=\"p-topiList__itemLink\" href=\"/topics/id/1048189/\"><img alt=\"話題\" class=\"icon-genre\" height=\"36\" loading=\"lazy\" src=\"/images/upload/icon/icon_new01.png\" width=\"36\"/> <div class=\"p-topiList__itemContent\"><h1 class=\"p-topiList__itemContentTitle\">\n",
      "        海老天を柩に入れるのはありですか？\n",
      "      </h1> <div class=\"p-topiList__itemContentInfo\"><!-- --> <div class=\"p-topiList__itemContentInfoItem c-smallText is-colorLink c-iconRes\">\n",
      "          54\n",
      "        </div> <!-- --> <div class=\"p-topiList__itemContentInfoItem\"><time class=\"p-topiList__itemContentInfoItem c-smallText\" datetime=\"2022-01-31T08:12:50Z\">\n",
      "            2022年1月31日 08:12\n",
      "          </time> <span class=\"p-topiList__itemContentInfoItem c-smallText\">話題</span></div> <!-- --></div></div></a></div> <!-- --> <!-- --> <!-- --> <!-- --> <!-- --> <!-- --> <!-- --> <!-- --> <!-- --> <!-- --> <!-- --></div><div><div class=\"p-topiList__item\"><a class=\"p-topiList__itemLink\" href=\"/topics/id/1042329/\"><img alt=\"話題\" class=\"icon-genre\" height=\"36\" loading=\"lazy\" src=\"/images/upload/icon/icon_new01.png\" width=\"36\"/> <div class=\"p-topiList__itemContent\"><h1 class=\"p-topiList__itemContentTitle\">\n",
      "        努力したことありますか？\n",
      "      </h1> <div class=\"p-topiList__itemContentInfo\"><!-- --> <div class=\"p-topiList__itemContentInfoItem c-smallText is-colorLink c-iconRes\">\n",
      "          4\n",
      "        </div> <!-- --> <div class=\"p-topiList__itemContentInfoItem\"><time class=\"p-topiList__itemContentInfoItem c-smallText\" datetime=\"2022-01-31T07:58:31Z\">\n",
      "            2022年1月31日 07:58\n",
      "          </time> <span class=\"p-topiList__itemContentInfoItem c-smallText\">話題</span></div> <!-- --></div></div></a></div> <!-- --> <!-- --> <!-- --> <!-- --> <!-- --> <!-- --> <div class=\"p-topiList__itemYol mt-1 mb-1\"><div class=\"p-topiList__itemYolHead\"><a href=\"https://www.yomiuri.co.jp/\" rel=\"noopener\" target=\"_blank\"><img alt=\"読売オンライン\" class=\"p-topiList__itemYolHeadImage\" height=\"18\" loading=\"lazy\" src=\"/_nuxt/logo_yol_202201270233.png\" width=\"150\"/></a></div> <ul class=\"p-yolList\"></ul></div> <!-- --> <!-- --> <!-- --> <!-- --></div><div><div class=\"p-topiList__item\"><a class=\"p-topiList__itemLink\" href=\"/topics/id/1048159/\"><img alt=\"話題\" class=\"icon-genre\" height=\"36\" loading=\"lazy\" src=\"/images/upload/icon/icon_new01.png\" width=\"36\"/> <div class=\"p-topiList__itemContent\"><h1 class=\"p-topiList__itemContentTitle\">\n",
      "        亡くなった親名義の田舎の古家について\n",
      "      </h1> <div class=\"p-topiList__itemContentInfo\"><!-- --> <div class=\"p-topiList__itemContentInfoItem c-smallText is-colorLink c-iconRes\">\n",
      "          11\n",
      "        </div> <!-- --> <div class=\"p-topiList__itemContentInfoItem\"><time class=\"p-topiList__itemContentInfoItem c-smallText\" datetime=\"2022-01-31T07:54:02Z\">\n",
      "            2022年1月31日 07:54\n",
      "          </time> <span class=\"p-topiList__itemContentInfoItem c-smallText\">話題</span></div> <!-- --></div></div></a></div> <!-- --> <!-- --> <!-- --> <!-- --> <!-- --> <!-- --> <!-- --> <!-- --> <!-- --> <!-- --> <!-- --></div><div><div class=\"p-topiList__item\"><a class=\"p-topiList__itemLink\" href=\"/topics/id/1046988/\"><img alt=\"話題\" class=\"icon-genre\" height=\"36\" loading=\"lazy\" src=\"/images/upload/icon/icon_new01.png\" width=\"36\"/> <div class=\"p-topiList__itemContent\"><h1 class=\"p-topiList__itemContentTitle\">\n",
      "        支払調書、送りますか？貰ってますか？\n",
      "      </h1> <div class=\"p-topiList__itemContentInfo\"><!-- --> <div class=\"p-topiList__itemContentInfoItem c-smallText is-colorLink c-iconRes\">\n",
      "          12\n",
      "        </div> <!-- --> <div class=\"p-topiList__itemContentInfoItem\"><time class=\"p-topiList__itemContentInfoItem c-smallText\" datetime=\"2022-01-31T07:43:29Z\">\n",
      "            2022年1月31日 07:43\n",
      "          </time> <span class=\"p-topiList__itemContentInfoItem c-smallText\">話題</span></div> <!-- --></div></div></a></div> <!-- --> <!-- --> <!-- --> <!-- --> <!-- --> <!-- --> <!-- --> <!-- --> <!-- --> <!-- --> <!-- --></div><div><div class=\"p-topiList__item\"><a class=\"p-topiList__itemLink\" href=\"/topics/id/1048306/\"><img alt=\"話題\" class=\"icon-genre\" height=\"36\" loading=\"lazy\" src=\"/images/upload/icon/icon_new01.png\" width=\"36\"/> <div class=\"p-topiList__itemContent\"><h1 class=\"p-topiList__itemContentTitle\">\n",
      "        旦那の浪費癖が治らない\n",
      "      </h1> <div class=\"p-topiList__itemContentInfo\"><!-- --> <div class=\"p-topiList__itemContentInfoItem c-smallText is-colorLink c-iconRes\">\n",
      "          15\n",
      "        </div> <!-- --> <div class=\"p-topiList__itemContentInfoItem\"><time class=\"p-topiList__itemContentInfoItem c-smallText\" datetime=\"2022-01-31T07:27:03Z\">\n",
      "            2022年1月31日 07:27\n",
      "          </time> <span class=\"p-topiList__itemContentInfoItem c-smallText\">話題</span></div> <!-- --></div></div></a></div> <!-- --> <!-- --> <!-- --> <!-- --> <!-- --> <!-- --> <!-- --> <!-- --> <!-- --> <!-- --> <!-- --></div><div><div class=\"p-topiList__item\"><a class=\"p-topiList__itemLink\" href=\"/topics/id/1048355/\"><img alt=\"話題\" class=\"icon-genre\" height=\"36\" loading=\"lazy\" src=\"/images/upload/icon/icon_new01.png\" width=\"36\"/> <div class=\"p-topiList__itemContent\"><h1 class=\"p-topiList__itemContentTitle\">\n",
      "        子供が嫌いだけど寄ってくる\n",
      "      </h1> <div class=\"p-topiList__itemContentInfo\"><!-- --> <div class=\"p-topiList__itemContentInfoItem c-smallText is-colorLink c-iconRes\">\n",
      "          2\n",
      "        </div> <!-- --> <div class=\"p-topiList__itemContentInfoItem\"><time class=\"p-topiList__itemContentInfoItem c-smallText\" datetime=\"2022-01-31T07:07:21Z\">\n",
      "            2022年1月31日 07:07\n",
      "          </time> <span class=\"p-topiList__itemContentInfoItem c-smallText\">話題</span></div> <!-- --></div></div></a></div> <!-- --> <!-- --> <!-- --> <!-- --> <!-- --> <!-- --> <!-- --> <!-- --> <!-- --> <!-- --> <!-- --></div><div><div class=\"p-topiList__item no-border\"><a class=\"p-topiList__itemLink\" href=\"/topics/id/1048067/\"><img alt=\"話題\" class=\"icon-genre\" height=\"36\" loading=\"lazy\" src=\"/images/upload/icon/icon_new01.png\" width=\"36\"/> <div class=\"p-topiList__itemContent\"><h1 class=\"p-topiList__itemContentTitle\">\n",
      "        あの人は何者だったのか\n",
      "      </h1> <div class=\"p-topiList__itemContentInfo\"><!-- --> <div class=\"p-topiList__itemContentInfoItem c-smallText is-colorLink c-iconRes\">\n",
      "          37\n",
      "        </div> <!-- --> <div class=\"p-topiList__itemContentInfoItem\"><time class=\"p-topiList__itemContentInfoItem c-smallText\" datetime=\"2022-01-31T07:00:05Z\">\n",
      "            2022年1月31日 07:00\n",
      "          </time> <span class=\"p-topiList__itemContentInfoItem c-smallText\">話題</span></div> <!-- --></div></div></a></div> <!-- --> <!-- --> <!-- --> <!-- --> <!-- --> <!-- --> <!-- --> <div class=\"p-topiList__item py-1\"><div class=\"p-ad__middleRectangles\"><div class=\"p-ad__middleRectangle ad-middle-rec\" id=\"ad_gam_top_middle-rec3\"></div> <div class=\"p-ad__middleRectangle\" id=\"ad_gam_top_middle-rec3-r\"></div></div></div> <!-- --> <!-- --> <!-- --></div></div> <div class=\"p-pagination is-bottom\"><ul class=\"p-pagination__list\"><li class=\"p-pagination__listItem is-current\"><span class=\"p-pagination__listItemLink\">1</span></li><li class=\"p-pagination__listItem\"><span class=\"p-pagination__listItemLink\">2</span></li><li class=\"p-pagination__listItem\"><span class=\"p-pagination__listItemLink\">3</span></li><li class=\"p-pagination__listItem\"><span class=\"p-pagination__listItemLink\">4</span></li><li class=\"p-pagination__listItem\"><span class=\"p-pagination__listItemLink\">5</span></li></ul> <div class=\"p-pagination__container\"><span class=\"p-pagination__first is-disabled\">先頭へ</span> <span class=\"p-pagination__prev is-disabled\">前へ</span> <div class=\"p-pagination__num\"><span class=\"p-pagination__numFrom\">1</span> <span class=\"p-pagination__numTo\">30</span>\n",
      "       / \n",
      "      <span class=\"p-pagination__numMax\">1253</span>\n",
      "      件\n",
      "    </div> <span class=\"p-pagination__next\">次へ</span> <span class=\"p-pagination__last\">最後尾へ</span></div></div></div> <ul class=\"p-switchingTab is-bottom\"><li class=\"p-switchingTab__item is-current icon-updated\">\n",
      "    更新順\n",
      "    <!-- --></li><li class=\"p-switchingTab__item icon-access\">\n",
      "    アクセス数\n",
      "    <!-- --></li><li class=\"p-switchingTab__item icon-responseDesc\">\n",
      "    レス数\n",
      "    <!-- --></li><li class=\"p-switchingTab__item icon-korepochi\">\n",
      "    これポチ合計\n",
      "    <!-- --></li></ul> <div class=\"p-mainContentsFoot\"><div class=\"p-mainContentsBtnGroupMenu is-bottom\"><ul class=\"p-mainContentsBtnGroupMenu__list\"><li class=\"p-mainContentsBtnGroupMenu__listItem is-bottom\"><a class=\"p-mainContentsBtnGroupMenu__listItemText\" href=\"/topics/genre/life/ranking/\">\n",
      "        ランキング\n",
      "      </a></li> <li class=\"p-mainContentsBtnGroupMenu__listItem is-bottom is-current\"><a aria-current=\"page\" class=\"p-mainContentsBtnGroupMenu__listItemText nuxt-link-exact-active nuxt-link-active\" href=\"/topics/genre/life/\">新着順</a></li></ul> </div> <div class=\"p-mainContentsFootNew\"><div class=\"p-mainContentsFootNew__post\"><h2 class=\"p-mainContentsFootNew__postTitle\">\n",
      "      あなたも書いてみませんか？\n",
      "    </h2> <button class=\"p-mainContentsFootNew__postBtn c-button-rounded\" type=\"button\"><span class=\"p-mainContentsFootNew__postBtnText\">トピを作成する</span></button></div> <div class=\"p-mainContentsFootNew__attention\"><ul class=\"p-mainContentsFootNew__attentionList\"><li class=\"p-mainContentsFootNew__attentionListItem\">\n",
      "        他人への誹謗中傷は禁止しているので安心\n",
      "      </li> <li class=\"p-mainContentsFootNew__attentionListItem\">\n",
      "        不愉快・いかがわしい表現掲載されません\n",
      "      </li> <li class=\"p-mainContentsFootNew__attentionListItem\">\n",
      "        匿名で楽しめるので、特定されません\n",
      "      </li></ul> <a class=\"p-mainContentsFootNew__attentionLink\" href=\"/policy/postrules/\">[詳しいルールを確認する]</a></div></div></div></div></div> <div class=\"layout-contents__right\"><div class=\"p-sidebar__inner\"><div class=\"p-ads-center p-ads_gamRectangle mb-1\"><div id=\"ad_gam_rec1\"></div></div> <div class=\"p-sidebar__favoriteBlock mb-1\" id=\"sidebarFavorite\"><div class=\"p-sidebarConductMember\"><div class=\"p-sidebarConductMember__contents\"><div class=\"p-sidebarConductMember__headWrapper\"><div class=\"p-sidebarConductMember__head pc\"><img alt=\"気に入ったトピを保存するといつでも読み返せる\" class=\"p-sidebarConductMember__headImg\" height=\"58\" src=\"/_nuxt/rightbar_conduct_head_pc_202201270233.png\" width=\"273\"/></div> <div class=\"p-sidebarConductMember__head sp\"><img alt=\"気に入ったトピを保存するといつでも読み返せる\" class=\"p-sidebarConductMember__headImg\" height=\"58\" loading=\"lazy\" src=\"/_nuxt/rightbar_conduct_head_202201270233.png\" width=\"273\"/></div> <div class=\"p-sidebarConductMember__sample\"><div class=\"pc\"><img alt=\"使用イメージ\" class=\"p-sidebarConductMember__sampleImg\" height=\"185\" src=\"/_nuxt/rightbar_conduct_sample_pc_202201270233.png\" width=\"280\"/></div> <div class=\"sp\"><img alt=\"使用イメージ\" class=\"p-sidebarConductMember__sampleImg\" height=\"194\" loading=\"lazy\" src=\"/_nuxt/rightbar_conduct_sample_sp_202201270233.png\" width=\"335\"/></div></div></div> <div class=\"p-sidebarConductMember__apply\"><p class=\"p-sidebarConductMember__applyHead\">\n",
      "        マイページ利用でもっと便利に！\n",
      "      </p> <div class=\"p-sidebarConductMember__applyBox\"><span class=\"p-sidebarConductMember__applySignup\">お気に入り機能を使う\n",
      "        </span> <span class=\"p-sidebarConductMember__applyLogin\">ログイン\n",
      "        </span></div></div></div></div></div> <a class=\"p-sidebar__rescue\" href=\"/topics/rescue/\"><img alt=\"レス求！トピ一覧\" class=\"p-sidebar__rescueImage\" height=\"42\" loading=\"lazy\" src=\"/_nuxt/banner_rescue_202201270233.png\" width=\"300\"/></a> <div class=\"p-sidebarAttention\"><h2 class=\"p-sidebarAttention__head\">注目トピ</h2> <div class=\"p-sidebarAttention__contents\"><ul class=\"p-sidebarAttention__contentsList\"></ul> <!-- --></div></div> <div class=\"p-ad__gamTexts\"><div class=\"p-ad__gamTextsItem\" id=\"ad_gam_text1\"></div> <div class=\"p-ad__gamTextsItem\" id=\"ad_gam_text2\"></div> <div class=\"p-ad__gamTextsItem\" id=\"ad_gam_text3\"></div></div> <div class=\"_popIn_ranking_otekomachi mb-1\" data-url=\"https://komachi.yomiuri.co.jp/topics/genre/life/\"></div> <div class=\"p-sidebarKomachiVote\"><div class=\"p-sidebarKomachiVote__banner\"><a class=\"p-sidebarKomachiVote__bannerLink\" href=\"/articles/categories//\"><img alt=\"みんなの投票結果\" class=\"p-sidebarKomachiVote__bannerImg\" height=\"71\" loading=\"lazy\" src=\"/_nuxt/icon_banner_komachi_vote_202201270233.png\" width=\"300\"/></a></div> <div class=\"p-sidebarKomachiVote__articleContents\"><!-- --></div></div> <div class=\"sidebar-ad-rakuten mb-1\"><!-- --></div> <div class=\"p-sidebarEditorial\"><h2 class=\"p-sidebarEditorial__head\">\n",
      "    編集部から\n",
      "  </h2> <div class=\"p-sidebarEditorial__contents\"><p class=\"p-sidebarEditorial__noContents p-1\">\n",
      "      編集部からのお知らせはありません\n",
      "    </p></div></div> <div class=\"p-sidebarFujinkoron\"><a class=\"p-sidebarFujinkoron__head\" href=\"https://fujinkoron.jp/\" rel=\"noopener\" target=\"_blank\">からのおすすめ</a> <div class=\"p-sidebarFujinkoron__contents\"><ul class=\"p-sidebarFujinkoron__contentsList\"></ul></div></div> <div class=\"p-sidebar__horoscopeBanner mb-1\"><a class=\"p-sidebar__horoscopeBannerLink\" href=\"https://otekomachi.yomiuri.co.jp/horoscope/\" rel=\"noopener\" target=\"_blank\"><img alt=\"Horoscope | 大手小町\" class=\"p-sidebar__horoscopeBannerImage\" height=\"72\" loading=\"lazy\" src=\"/_nuxt/bnr_horoscope_202201270233.png\" width=\"355\"/></a></div> <div class=\"_popIn_recommend_tieup mb-1\" data-url=\"https://komachi.yomiuri.co.jp/topics/genre/life/\"></div> <div class=\"mb-1\"><div class=\"p-ad__gamOsusumeItem\" id=\"ad_gam_osusume-pr1\"></div> <div class=\"p-ad__gamOsusumeItem\" id=\"ad_gam_osusume-pr2\"></div> <div class=\"p-ad__gamOsusumeItem\" id=\"ad_gam_osusume-pr3\"></div></div> <div class=\"p-sidebarTwitter\"><div class=\"p-sidebarTwitter__head\"><h2 class=\"p-sidebarTwitter__headTitle\">Twitter</h2> <a class=\"p-sidebarTwitter__headFollow tw-follow-btn\" href=\"https://twitter.com/kuraget\" rel=\"nofollow noopener\" target=\"_blank\">\n",
      "      Follow\n",
      "    </a></div> <div class=\"p-sidebarTwitter__timelineWrap\"><!-- --></div></div> <div class=\"p-sidebarBestTopic\"><h2 class=\"p-sidebarBestTopic__head\">発言小町大賞0</h2> <ul class=\"p-sidebarBestTopic__contentsList\"></ul></div></div> <div class=\"p-ads-center p-ads_gamRectangle is-bottom p-ad_gam_rec2\"><div id=\"ad_gam_rec2\"></div></div></div></div> <footer class=\"layout-footer\"><ul class=\"layout-footer__navList\"><li class=\"layout-footer__navListItem is-genre\"><a class=\"layout-footer__navListItemHeader nuxt-link-active\" href=\"/\">掲示板</a> <ul class=\"p-genreList\"><li class=\"p-genreList__Item\"><a class=\"p-genreList__ItemLink\" href=\"/topics/genre/life/ranking/\"><img alt=\"話題\" class=\"icon-genre\" height=\"18\" loading=\"lazy\" src=\"/images/upload/icon/icon_new01.png\" width=\"18\"/>\n",
      "      話題</a></li><li class=\"p-genreList__Item\"><a class=\"p-genreList__ItemLink\" href=\"/topics/genre/love/ranking/\"><img alt=\"恋愛\" class=\"icon-genre\" height=\"18\" loading=\"lazy\" src=\"/images/upload/icon/icon_new04.png\" width=\"18\"/>\n",
      "      恋愛</a></li><li class=\"p-genreList__Item\"><a class=\"p-genreList__ItemLink\" href=\"/topics/genre/couple/ranking/\"><img alt=\"夫婦\" class=\"icon-genre\" height=\"18\" loading=\"lazy\" src=\"/images/upload/icon/icon_new16.png\" width=\"18\"/>\n",
      "      夫婦</a></li><li class=\"p-genreList__Item\"><a class=\"p-genreList__ItemLink\" href=\"/topics/genre/child/ranking/\"><img alt=\"子供\" class=\"icon-genre\" height=\"18\" loading=\"lazy\" src=\"/images/upload/icon/icon_new05.png\" width=\"18\"/>\n",
      "      子供</a></li><li class=\"p-genreList__Item\"><a class=\"p-genreList__ItemLink\" href=\"/topics/genre/work/ranking/\"><img alt=\"仕事\" class=\"icon-genre\" height=\"18\" loading=\"lazy\" src=\"/images/upload/icon/icon_new02.png\" width=\"18\"/>\n",
      "      仕事</a></li><li class=\"p-genreList__Item\"><a class=\"p-genreList__ItemLink\" href=\"/topics/genre/people/ranking/\"><img alt=\"ひと\" class=\"icon-genre\" height=\"18\" loading=\"lazy\" src=\"/images/upload/icon/icon_new06.png\" width=\"18\"/>\n",
      "      ひと</a></li><li class=\"p-genreList__Item\"><a class=\"p-genreList__ItemLink\" href=\"/topics/genre/health/ranking/\"><img alt=\"ヘルス\" class=\"icon-genre\" height=\"18\" loading=\"lazy\" src=\"/images/upload/icon/icon_new03.png\" width=\"18\"/>\n",
      "      ヘルス</a></li><li class=\"p-genreList__Item\"><a class=\"p-genreList__ItemLink\" href=\"/topics/genre/beauty/ranking/\"><img alt=\"美\" class=\"icon-genre\" height=\"18\" loading=\"lazy\" src=\"/images/upload/icon/icon_new07.png\" width=\"18\"/>\n",
      "      美</a></li></ul></li> <li class=\"layout-footer__navListItem is-articleCorner\"><a class=\"layout-footer__navListItemHeader\" href=\"/articles/\">記事</a> <ul class=\"p-articleCornerList\"><li class=\"p-articleCornerList__Item\"><a class=\"p-articleCornerList__ItemLink\" href=\"/articles/categories/news/\">小町ニュース</a></li><li class=\"p-articleCornerList__Item\"><a class=\"p-articleCornerList__ItemLink\" href=\"/articles/categories/vote/\">小町VOTE</a></li><li class=\"p-articleCornerList__Item\"><a class=\"p-articleCornerList__ItemLink\" href=\"/articles/categories/history/\">ヒストリー</a></li><li class=\"p-articleCornerList__Item\"><a class=\"p-articleCornerList__ItemLink\" href=\"/articles/categories/awards/\">発言小町大賞</a></li><li class=\"p-articleCornerList__Item\"><a class=\"p-articleCornerList__ItemLink\" href=\"/articles/categories/info/\">お知らせ</a></li></ul></li> <li class=\"layout-footer__navListItem layout-footer__linkBtns\"><a class=\"layout-footer__linkBtnOtekomachi\" href=\"https://otekomachi.yomiuri.co.jp/\" rel=\"noopener\" target=\"_blank\"><img alt=\"大手小町\" class=\"layout-footer__linkBtnOtekomachiImg\" height=\"34\" loading=\"lazy\" src=\"/_nuxt/logo_otekomachi_202201270233.svg\" width=\"180\"/></a> <a class=\"layout-footer__linkBtnYol\" href=\"https://www.yomiuri.co.jp/\" rel=\"noopener\" target=\"_blank\"><img alt=\"読売新聞オンライン\" class=\"layout-footer__linkBtnYolImg\" height=\"18\" loading=\"lazy\" src=\"/_nuxt/logo_yol_202201270233.png\" width=\"150\"/></a></li></ul> <div class=\"layout-footer__toTop\">上へ</div> <div class=\"layout-footer__link\"><ul class=\"layout-footer__linkList\"><li class=\"layout-footer__linkListItem\"><a href=\"/help/\">初めての方</a></li> <li class=\"layout-footer__linkListItem\"><a href=\"/help/parts/\">使い方</a></li> <li class=\"layout-footer__linkListItem\"><a href=\"/help/mypage/\">マイページの使い方</a></li> <li class=\"layout-footer__linkListItem\"><a href=\"/help/faq/\">よくあるご質問</a></li> <li class=\"layout-footer__linkListItem\"><a href=\"/help/sitemap/\">サイトマップ</a></li></ul></div> <div class=\"layout-footer__copyright\">\n",
      "    Copyright © The Yomiuri Shimbun.\n",
      "  </div></footer> <!-- --> <!-- --> <!-- --> <!-- --> <!-- --> <!-- --> <!-- --> <!-- --> <!-- --> <!-- --> <!-- --> <!-- --> <!-- --> <!-- --></div></div></div><script>window.__NUXT__=(function(a,b,c,d,e,f,g,h,i,j,k,l,m,n,o,p,q,r,s,t,u,v,w,x,y,z,A,B,C,D,E,F,G,H,I,J,K,L,M,N,O,P,Q,R,S,T,U,V,W,X,Y,Z,_,$,aa,ab,ac,ad,ae,af,ag,ah,ai,aj,ak,al,am,an,ao,ap,aq,ar,as,at,au,av,aw,ax,ay,az,aA,aB,aC,aD,aE,aF,aG,aH,aI,aJ,aK,aL,aM,aN,aO,aP,aQ,aR,aS,aT,aU,aV,aW,aX,aY,aZ,a_,a$,ba,bb,bc,bd){return {layout:\"default\",data:[{initTabName:Y}],fetch:{\"GenreIndex:0\":{connections:[],currentTabName:Y,isLoadingTopiList:a,currentPage:e,currentTabMetaTitle:[],initTabName:Y}},error:c,state:{topics:{getTopics:{count:B,currentPage:e,lastPage:Z,totalCount:1253,topics:[{id:1048447,genre:{id:e,name:i,shortName:j,path:k,icon:l,displayOrder:h,adminOnlyFlag:a,keywords:m,nondisplayFlag:a,createdAt:b,updatedAt:n,deletedAt:c},memberId:c,tags:[{id:x,name:y,displayOrder:z,tagGenreId:e,nondisplayFlag:a,createdAt:b,updatedAt:o,deletedAt:c},{id:G,name:H,displayOrder:I,tagGenreId:p,nondisplayFlag:a,createdAt:b,updatedAt:q,deletedAt:c},{id:A,name:C,displayOrder:J,tagGenreId:p,nondisplayFlag:a,createdAt:K,updatedAt:q,deletedAt:c},{id:_,name:\"同僚\",displayOrder:\"100\",tagGenreId:s,nondisplayFlag:a,createdAt:b,updatedAt:o,deletedAt:c}],postUserId:\"34044b06c38c480e\",title:\"若い女性の態度に腹がたち意地悪してしまいました\",emojiId:r,handleName:\"ルン婆\",content:\"デパートで清掃の仕事をしています。開店前は売り場、開店後はバックヤードです。\\nバックヤードのトイレ（従業員用）を清掃するときは、出入口に看板をたてておきます。\\n基本的に「清掃中につき立ち入りご遠慮ください」なのですが、接客で忙しいなか他の階まで行くのも大変だろうし、「（使っても）いいですか」と訊かれたら、「どうぞ」と応じることが多いです。\\n\\nここからは実感ですので、性差別と言われると困るのですが…。\\n男性はまず１００％「いいかな？」と声をかけてこられます。中年以上の女性もほとんど声かけをされます。\\n若い女性は黙って入ってこられる方が多いんです。\\n看板が読めているのかどうか、ためらいも見せずに入ってくるのですが、こちらから「お疲れ様です」と会釈しても、挨拶を返すどころか見向きもしません。お互い同士は鏡に向かいつつおしゃべりするのですが…。\\nまわりで掃除を続けていてもお構いなしに長居するので仕事に支障も出ますし、さすがにムカついて、大人気ないとは思いますがちょっと意地悪をいたしました。\\n「清掃中」の立看板は出入口の半分を塞ぐ大きさです。これまでは、使わせてほしいという人のために少し片寄せておいたのですが、それを遠慮なくど真ん中に置き、さらにバケツや中身入りの黒ビニール袋などを左右に置きました。こうしておけば、どかしてほしくて何か言うだろうと思ったのです。\\nしかし、相手の方が上手でした。なんと。無言でバケツやゴミ袋を跨いで入ってきたのです！　看板はさすがに高さがあるので跨げなかったようです。\\nムダだとわかったので、もうこんな意地悪は止めます。\\nそれにしても、なぜたったひとこと声をかけないのか、理解に苦しみます。\",shortContent:\"デパートで清掃の仕事をしています。開店前は売り場、開店後はバックヤードです。バックヤードのトイレ（従業員用）を清掃するときは、出入口に看板をたてておきます。基本的に「清掃中につき立ち入りご遠慮ください」なのですが、接客で忙しいなか他の階まで…\",resReceptionStatus:d,publishDate:\"2022-01-31T13:17:01Z\",adminPostFlag:a,prFlag:a,resCount:d,userResCount:d,lastUserResDate:c,createdAt:aj,updatedAt:aj},{id:1048443,genre:{id:e,name:i,shortName:j,path:k,icon:l,displayOrder:h,adminOnlyFlag:a,keywords:m,nondisplayFlag:a,createdAt:b,updatedAt:n,deletedAt:c},memberId:c,tags:[{id:L,name:M,displayOrder:N,tagGenreId:s,nondisplayFlag:a,createdAt:b,updatedAt:o,deletedAt:c}],postUserId:\"2bf7963aae2bbc57\",title:\"子供の貧困を聞くと涙が出る\",emojiId:O,handleName:\"みとた\",content:\"興味を持っていただき、ありがとうございます。\\n\\nニュースで子供の貧困問題が取り上げられる度、悲しい気持ちになります。\\n\\n「うちに来たらお腹いっぱい食べられるよ」とテレビの前で呟いています。\\n\\nあたたかいお布団で寝られるのかな?\\n\\n洗濯したお洋服が着られるのかな？\\n\\n私にできることは何でしょうか。\\n\\n子ども食堂へ食品支援、\\nNPO法人や育英会・国公立大学へ寄付等していますが、焼け石に水です。\\n\\nうちの子は何不自由なく成人しました。\\n\\nよその子もすくすくと育ってほしいです。\\n\\nオンライン里親という制度があることを知りましたが、躊躇しています。\\n\\nもっと草の根的にできることはないものでしょうか。\\n\\nお知恵をお貸しください。\\n\",shortContent:\"興味を持っていただき、ありがとうございます。ニュースで子供の貧困問題が取り上げられる度、悲しい気持ちになります。「うちに来たらお腹いっぱい食べられるよ」とテレビの前で呟いています。あたたかいお布団で寝られるのかな?洗濯したお洋服が着られるの…\",resReceptionStatus:d,publishDate:$,adminPostFlag:a,prFlag:a,resCount:d,userResCount:d,lastUserResDate:c,createdAt:ak,updatedAt:ak},{id:1048441,genre:{id:e,name:i,shortName:j,path:k,icon:l,displayOrder:h,adminOnlyFlag:a,keywords:m,nondisplayFlag:a,createdAt:b,updatedAt:n,deletedAt:c},memberId:23782,tags:[{id:aa,name:ab,displayOrder:ac,tagGenreId:e,nondisplayFlag:a,createdAt:b,updatedAt:o,deletedAt:c},{id:al,name:am,displayOrder:an,tagGenreId:p,nondisplayFlag:a,createdAt:b,updatedAt:q,deletedAt:c},{id:A,name:C,displayOrder:J,tagGenreId:p,nondisplayFlag:a,createdAt:K,updatedAt:q,deletedAt:c}],postUserId:\"38e8b68c3d6a819a\",title:\"うつ病3年、死にたいです\",emojiId:P,handleName:\"はるこ\",content:\"28歳女既婚、夫は同い年です。\\n\\n3年前に仕事で債権回収業務にあたってからうつ病になってしまい、いまだ治っていません。\\n休職を繰り返し、傷病手当金も期限が切れ、貯金も尽きたところで限界だということで、昨年の6月に退職しました。\\n前職は官公庁関連だったため潰しが効かず、いまだ転職先を見つけられていません。\\n書類選考が通っても面接で落とされる日々、挫けそうです。\\n夫はというと、年収450万円ありますが、結婚前の借金が1000万円あり、そらを自己破産したため、貯金がまったくありません。私が働きに出ないと行けない状況です。\\nいまは失業給付と障害年金で食い繋いでいますが、それもいまだけのこと。\\n将来のことを考えるとお先真っ暗です。毎日死にたくてたまりません。\",shortContent:\"28歳女既婚、夫は同い年です。3年前に仕事で債権回収業務にあたってからうつ病になってしまい、いまだ治っていません。休職を繰り返し、傷病手当金も期限が切れ、貯金も尽きたところで限界だということで、昨年の6月に退職しました。前職は官公庁関連だっ…\",resReceptionStatus:d,publishDate:$,adminPostFlag:a,prFlag:a,resCount:d,userResCount:d,lastUserResDate:c,createdAt:ao,updatedAt:ao},{id:1048440,genre:{id:e,name:i,shortName:j,path:k,icon:l,displayOrder:h,adminOnlyFlag:a,keywords:m,nondisplayFlag:a,createdAt:b,updatedAt:n,deletedAt:c},memberId:c,tags:[{id:t,name:u,displayOrder:v,tagGenreId:p,nondisplayFlag:a,createdAt:b,updatedAt:q,deletedAt:c}],postUserId:\"15b00ab01ec4745a\",title:\"アパートの不具合を管理会社に言いづらい\",emojiId:r,handleName:\"みずもれ\",content:\"今のアパートに入居して3年目になります。\\n\\nここ半年間で色々とトラブルがあり、その度に管理会社に連絡して対処して頂きました。\\n\\n1件目：エアコンの故障\\n2件目：給湯器の故障\\n3件目：上階からの水漏れ\\nこの3つが半年以内に起こりました。\\n3件目については2週間前に対処してもらったばかりです。\\n\\nこの度、トイレが水漏れを起こすようになり、チョロチョロと水が便器に流れている状態です。\\nまた連絡して良いものか迷っています。\\n\\n「この人またか。しつこいな」とか思われるんでしょうか。\\n退去時に異常な高額請求などの意地悪されたら嫌だなと思います。\\n\\nご意見をお聞かせください。\\nお願いいたします。\",shortContent:\"今のアパートに入居して3年目になります。ここ半年間で色々とトラブルがあり、その度に管理会社に連絡して対処して頂きました。1件目：エアコンの故障2件目：給湯器の故障3件目：上階からの水漏れこの3つが半年以内に起こりました。3件目については2週…\",resReceptionStatus:d,publishDate:$,adminPostFlag:a,prFlag:a,resCount:d,userResCount:d,lastUserResDate:c,createdAt:ap,updatedAt:ap},{id:1048437,genre:{id:e,name:i,shortName:j,path:k,icon:l,displayOrder:h,adminOnlyFlag:a,keywords:m,nondisplayFlag:a,createdAt:b,updatedAt:n,deletedAt:c},memberId:21768,tags:[],postUserId:\"3e6b5cdf8f9c065d\",title:\"お菓子を全部食べられた！\",emojiId:r,handleName:\"みゃこ\",content:\"くだらない話ですが、聞いてください。\\n\\nわたしは友人とルームシェアをしています。\\n先日、自分用にお菓子(個包装5袋入り)を買い、一袋だけ食べてお菓子を置いている棚に入れておきました。\\nそして2日後に残りのお菓子を食べようと棚を開けると全てなくなっていたんです！\\n\\nわたしも友人が買ってきたファミリーパックのお菓子を勝手にひとつふたつもらうことはありますし、個包装になっていないお菓子を開ける際に「いっしょに食べよう」とシェアすることもしょっちゅうです。\\n\\nですが、5袋のうちの4袋を買った人の許可なく食べるのはいかがなものでしょうか！？\\nちょっと減ってたくらいなら気にしないんです。\\nでもあると思って楽しみにしていた5分の4が全てなくなっていた悲しみと言ったら…。\\n\\n友人に尋ねると「食べちゃった〜」と悪びれる様子もなく言われました。\\n思わず「えー！普通全部食べる〜！？」と言ったところ「まあまた買えばいいじゃん。お金出すよ」と言われましたが、そういうことじゃないんだよ〜となんだかモヤモヤします。\\n\\n皆さんにはこの気持ちわかっていただけますか？わたしの心が狭いんでしょうか？\",shortContent:\"くだらない話ですが、聞いてください。わたしは友人とルームシェアをしています。先日、自分用にお菓子(個包装5袋入り)を買い、一袋だけ食べてお菓子を置いている棚に入れておきました。そして2日後に残りのお菓子を食べようと棚を開けると全てなくなって…\",resReceptionStatus:d,publishDate:\"2022-01-31T11:45:09Z\",adminPostFlag:a,prFlag:a,resCount:d,userResCount:d,lastUserResDate:c,createdAt:aq,updatedAt:aq},{id:1048436,genre:{id:e,name:i,shortName:j,path:k,icon:l,displayOrder:h,adminOnlyFlag:a,keywords:m,nondisplayFlag:a,createdAt:b,updatedAt:n,deletedAt:c},memberId:c,tags:[{id:\"33\",name:\"食\",displayOrder:\"320\",tagGenreId:p,nondisplayFlag:a,createdAt:b,updatedAt:q,deletedAt:c}],postUserId:\"6c11e1e88d242902\",title:\"ファミレスで、ランチプレートに髪の毛が入っていたら\",emojiId:r,handleName:\"はな\",content:\"ファミレスで、ランチプレートに髪の毛が入っていたら、みなさんどうしますか？？\\n\\n彼氏とランチに行った時、食品に髪の毛がついていました。\\n気を利かせて店員さんを呼ぶボタンを押したら、\\nこんなことで呼ばなくていい、どけて食べたらいいんだから。\\n\\nお前はクレーマーだ、と私が責められ、信じられない思いでいます。\\n髪の毛は４センチくらい、こんな少しのことでと彼は言います。\\n\\n私だったら食欲なくなりますが、\\n店員さんを呼んだのは大袈裟ですか？\",shortContent:\"ファミレスで、ランチプレートに髪の毛が入っていたら、みなさんどうしますか？？彼氏とランチに行った時、食品に髪の毛がついていました。気を利かせて店員さんを呼ぶボタンを押したら、こんなことで呼ばなくていい、どけて食べたらいいんだから。お前はクレ…\",resReceptionStatus:d,publishDate:ar,adminPostFlag:a,prFlag:a,resCount:d,userResCount:d,lastUserResDate:c,createdAt:as,updatedAt:as},{id:1048434,genre:{id:e,name:i,shortName:j,path:k,icon:l,displayOrder:h,adminOnlyFlag:a,keywords:m,nondisplayFlag:a,createdAt:b,updatedAt:n,deletedAt:c},memberId:c,tags:[{id:G,name:H,displayOrder:I,tagGenreId:p,nondisplayFlag:a,createdAt:b,updatedAt:q,deletedAt:c},{id:t,name:u,displayOrder:v,tagGenreId:p,nondisplayFlag:a,createdAt:b,updatedAt:q,deletedAt:c},{id:L,name:M,displayOrder:N,tagGenreId:s,nondisplayFlag:a,createdAt:b,updatedAt:o,deletedAt:c},{id:\"32\",name:\"非常識\",displayOrder:\"390\",tagGenreId:p,nondisplayFlag:a,createdAt:b,updatedAt:q,deletedAt:c}],postUserId:\"81129733fbba990c\",title:\"社宅だからの騒音に悩む\",emojiId:r,handleName:\"社宅住まい\",content:\"築30年鉄筋コンクリートの社宅（4階建て）\\n築30年なので、床がフローリングじゃなくてただの板張りです。\\nもちろん消音とか断熱材も入ってない、古いアパートです。\\nなので、とにかく子どもの足音、走り廻る音、何処からか飛び降りる音が部屋中に響き渡り困っています。\\n\\n毎日、幼稚園や小学校から帰ってきて、寝るまで（夜９時位）、断続的に続きます。\\n\\nこちらは大人のみなので、静かにしているので部屋中に音が響き、頭痛がします。\\n\\nただ社宅ですが、半分は独身。単身赴任世帯なのです。\\n家族世帯でも、夫婦のみや中学生等がいる世帯は静かだと思います。\\n\\nとにかく小さい子どもがいる世帯が音を出しています。数軒か１軒か。\\n\\nただここが子育て世帯のいる分譲マンションならまだ分かるのですが。。\\n\\n社宅なので、（部署が違い夫同士が知り合いでは無い場合が多い）。\\n苦情を言う管理部署が無く。我慢する毎日です。\\n\\n\\n社宅でも、床に防音マットを敷いたり、走り廻る子どもをちゃんと躾をしているお母さんいたら教えてほしいです。\\n\\n社宅でも騒音に気をつけている方いますか？\\n\\n子育てに、防音もきちんとしている方のお話を聞いて、自分を慰めたいと思っています。涙\\nよろしくお願いします\\n\\n\\n（１部が転勤族の為、２年したら転居です。田舎の為、賃貸物件が少なく。転勤族はやむを得ず入居になります。）\",shortContent:\"築30年鉄筋コンクリートの社宅（4階建て）築30年なので、床がフローリングじゃなくてただの板張りです。もちろん消音とか断熱材も入ってない、古いアパートです。なので、とにかく子どもの足音、走り廻る音、何処からか飛び降りる音が部屋中に響き渡り困…\",resReceptionStatus:d,publishDate:ar,adminPostFlag:a,prFlag:a,resCount:d,userResCount:d,lastUserResDate:c,createdAt:at,updatedAt:at},{id:1048430,genre:{id:e,name:i,shortName:j,path:k,icon:l,displayOrder:h,adminOnlyFlag:a,keywords:m,nondisplayFlag:a,createdAt:b,updatedAt:n,deletedAt:c},memberId:c,tags:[{id:au,name:av,displayOrder:_,tagGenreId:e,nondisplayFlag:a,createdAt:b,updatedAt:o,deletedAt:c},{id:aa,name:ab,displayOrder:ac,tagGenreId:e,nondisplayFlag:a,createdAt:b,updatedAt:o,deletedAt:c},{id:Q,name:R,displayOrder:S,tagGenreId:e,nondisplayFlag:a,createdAt:b,updatedAt:o,deletedAt:c},{id:T,name:U,displayOrder:V,tagGenreId:e,nondisplayFlag:a,createdAt:b,updatedAt:o,deletedAt:c},{id:x,name:y,displayOrder:z,tagGenreId:e,nondisplayFlag:a,createdAt:b,updatedAt:o,deletedAt:c}],postUserId:\"18325f9082ccfe3c\",title:\"おすすめの番組教えてください。\",emojiId:ad,handleName:\"キノ\",content:\"療養中及びコロナ禍で、家にいる時間が格段に増えたため、動画見放題の虜になっております。\\n\\n特に、「ブリティッシュベイクオフ」、「ソーイングビー」という、イギリスのコンテスト番組が大好きで、あっという間に見終わってしまいました。\\n\\nどちらも素人の方が、ご自身の作品で競い合う、日本のTVチャンピオンのような番組です。\\n\\n同じような番組をご存知の方、是非ご紹介頂けないでしょうか？自分でも色々探したのですが見つけられませんでした。\\n\\n他にも「メアオブイーストタウン」の様なドロドロのサスペンスドラマが大好きです。こちらもおすすめがありましたら是非ご紹介ください。\\n\",shortContent:\"療養中及びコロナ禍で、家にいる時間が格段に増えたため、動画見放題の虜になっております。特に、「ブリティッシュベイクオフ」、「ソーイングビー」という、イギリスのコンテスト番組が大好きで、あっという間に見終わってしまいました。どちらも素人の方が…\",resReceptionStatus:d,publishDate:aw,adminPostFlag:a,prFlag:a,resCount:d,userResCount:d,lastUserResDate:c,createdAt:ax,updatedAt:ax},{id:1048428,genre:{id:e,name:i,shortName:j,path:k,icon:l,displayOrder:h,adminOnlyFlag:a,keywords:m,nondisplayFlag:a,createdAt:b,updatedAt:n,deletedAt:c},memberId:c,tags:[],postUserId:\"31d2d2cab1aacf7f\",title:\"お金が無くても子供がいたら幸せですか\",emojiId:r,handleName:\"トマト\",content:\"私はある程度お金に余裕があった上で、子供がいたら幸せと考えるのですが、お金が無くても子供がいたら幸せでしょうか。\\n\\n結婚して子供を何人持つか考えた時、生活に余裕を持ちながら子供にもお金を掛けられるのは二人までと考えて、現在二人の子供がいます。\\n\\n無理すれば三人目も何とかなるかなって考えた事もありますが、生活に余裕が無ければ子育てにイライラしたり、家族がギスギスしてしまうと思います。\\n\\n何より、子供たちも我慢することが増えて不憫な思いをさせてしまいます。\\n\\n子供たちの立場で考えると、多少我慢する事があっても、兄弟は多い方が嬉しいと思うのでしょうか。\\nそのために大学進学で奨学金を借りる事になっても、良かったと思うのでしょうか。\",shortContent:\"私はある程度お金に余裕があった上で、子供がいたら幸せと考えるのですが、お金が無くても子供がいたら幸せでしょうか。結婚して子供を何人持つか考えた時、生活に余裕を持ちながら子供にもお金を掛けられるのは二人までと考えて、現在二人の子供がいます。無…\",resReceptionStatus:d,publishDate:aw,adminPostFlag:a,prFlag:a,resCount:d,userResCount:d,lastUserResDate:c,createdAt:ay,updatedAt:ay},{id:1048128,genre:{id:e,name:i,shortName:j,path:k,icon:l,displayOrder:h,adminOnlyFlag:a,keywords:m,nondisplayFlag:a,createdAt:b,updatedAt:n,deletedAt:c},memberId:c,tags:[{id:x,name:y,displayOrder:z,tagGenreId:e,nondisplayFlag:a,createdAt:b,updatedAt:o,deletedAt:c},{id:t,name:u,displayOrder:v,tagGenreId:p,nondisplayFlag:a,createdAt:b,updatedAt:q,deletedAt:c}],postUserId:\"1022b1138b095d33\",title:\"空き家になった田舎の実家、どうしましたか？\",emojiId:ae,handleName:\"いちご大福\",content:\"トピを開いていただきありがとうございます。\\n\\n50代半ばの主婦です。\\n両親が亡くなり、実家が空き家になりました。\\nわたしもきょうだいも実家を出て家を持っており、実家に戻ることは考えていません。\\n実家はかなり田舎な上に狭い狭い道を通っての一番奥の土地でとても売却できるとは思えません。\\n更地にする見積もりや不動産屋さんに売却出来るかの査定の予約を入れています。（賃貸は考えておりません）\\n両親はとにかく家が廃屋になり朽ちることだけは嫌だと長年申しておりましてので更地、または現状のまま大事に使ってくださる方に買っていただくことを希望していますが現実は厳しいのではと思っています。\\n売却できなければ、更地にして年に数回除草作業をお願いしながら持っておく他ないのですがこの土地を子ども達や甥姪の宿題にするわけにはいかないと思っています。\\n\\n田舎のご実家を相続された方の体験談をお聞かせいただきたいです。\\nよろしくお願いします。\",shortContent:\"トピを開いていただきありがとうございます。50代半ばの主婦です。両親が亡くなり、実家が空き家になりました。わたしもきょうだいも実家を出て家を持っており、実家に戻ることは考えていません。実家はかなり田舎な上に狭い狭い道を通っての一番奥の土地で…\",resReceptionStatus:d,publishDate:\"2022-01-29T01:57:59Z\",adminPostFlag:a,prFlag:a,resCount:w,userResCount:e,lastUserResDate:az,createdAt:\"2022-01-28T16:15:51Z\",updatedAt:az},{id:1048408,genre:{id:e,name:i,shortName:j,path:k,icon:l,displayOrder:h,adminOnlyFlag:a,keywords:m,nondisplayFlag:a,createdAt:b,updatedAt:n,deletedAt:c},memberId:23520,tags:[],postUserId:\"52f97524bab8c0f3\",title:\"隣家からBB弾を撃ち込まれています…\",emojiId:aA,handleName:\"あーやん\",content:\"南側の隣家から1週間の間に100発近いBB弾を撃ち込まれている者です。\\n\\n我が家への嫌がらせではありません。\\n\\n理由は我が家の東側の隣家の木々と、我が家の南にある畑に集まる小鳥(主に雀、ヒヨドリ、ムクドリなど)に向けて撃ち込んでいるようです。\\n\\n最初に気づいたのは旦那がウッドデッキでタバコを吸っていた時でした。\\nガラガラっと窓が開く音がして、パシュッパシュッという乾いた音が聞こえだして何事かと辺りを見渡すと、南側の隣家の2階の窓から手が出ていてBB拳銃？を手に電線や木々に留まる小鳥たちに向け撃っていたようです。\\n\\nビックリして言葉も出なかったです。\\nただ古いお家なので窓を閉めていても小鳥の鳴き声が不快なんだろうなと思い、実害は無いからと何も言いはしませんでした。\\n\\nそんなことをしていると気づいたのが、つい2週間くらい前で、我が家が越してきて10ヶ月経つので私たちは相当の期間気づいてなかったようです。\\n地鎮祭の時と引越しの際に挨拶は行きましたし、自治会が一緒なのでたまに顔も合わせます。\\n\\n実害は無いと言いましたが、正直庭に落ちているBB弾の数が尋常では無いのです。\\nまた最近は我が家に向かって撃ち込まれることも増えて、窓から5mほどの位置に大量にBB弾が落ちているんです。\\n\\n南側の隣家とは庭を含めて窓付近まで20m以上離れているのに、こんな近くまでBB弾って飛ぶの？と驚きと同時に緑の人工芝に無数に落ちる白いBB弾が本当に汚らしく見えて実害は無いけれど嫌って言えば嫌です。\\n\\n嫌がらせでは無いのは確かです、木々に群がる小鳥や、畑の葉っぱを啄む小鳥たちに向け撃っているのは確認しているので…\\n\\n撃っているのは75歳？くらいのご夫婦のどちらかです。\\n東側の隣家ももしかしたらBB弾を撃ち込まれていることに気づいている？のかもしれませんが、藪から棒に聞く訳にもいかず対応に困っています。\",shortContent:\"南側の隣家から1週間の間に100発近いBB弾を撃ち込まれている者です。我が家への嫌がらせではありません。理由は我が家の東側の隣家の木々と、我が家の南にある畑に集まる小鳥(主に雀、ヒヨドリ、ムクドリなど)に向けて撃ち込んでいるようです。最初に…\",resReceptionStatus:d,publishDate:\"2022-01-31T07:56:32Z\",adminPostFlag:a,prFlag:a,resCount:P,userResCount:d,lastUserResDate:c,createdAt:\"2022-01-31T07:45:34Z\",updatedAt:\"2022-01-31T09:51:46Z\"},{id:1048282,genre:{id:e,name:i,shortName:j,path:k,icon:l,displayOrder:h,adminOnlyFlag:a,keywords:m,nondisplayFlag:a,createdAt:b,updatedAt:n,deletedAt:c},memberId:c,tags:[{id:t,name:u,displayOrder:v,tagGenreId:p,nondisplayFlag:a,createdAt:b,updatedAt:q,deletedAt:c}],postUserId:\"372c4a66d660cabe\",title:\"ホテルのような寝室\",emojiId:r,handleName:\"こまり\",content:\"はじめまして。\\n現在、家の設計を考えています。\\n私の理想なのですが\\n寝室はホテルのように\\nシャワールームがあれば便利だな。\\nと思うのですが\\n実際、生活してみて\\nどうなのでしょうか。\\n\\n二階建てで１階にも\\nバスルームは設置します。\\nシャワールームの横に\\n洗面台を置いて…\\nなんて考えています。\\n\\n色々なモデルハウスを見ましたが\\n寝室にシャワールームは\\n見たことないので\\n現実的ではないのかな。なんて\\n思ったり。\\n\\n予算などは気にせず\\nあれば便利！\\n不便な理由など\\nご意見いただけたら\\n有難いです。\\n\\n水回りは老朽化すると\\n後々、大変なのかな…\\n現実的なご意見ください。\\nよろしくお願いします。\",shortContent:\"はじめまして。現在、家の設計を考えています。私の理想なのですが寝室はホテルのようにシャワールームがあれば便利だな。と思うのですが実際、生活してみてどうなのでしょうか。二階建てで１階にもバスルームは設置します。シャワールームの横に洗面台を置い…\",resReceptionStatus:d,publishDate:\"2022-01-30T06:03:10Z\",adminPostFlag:a,prFlag:a,resCount:aB,userResCount:d,lastUserResDate:c,createdAt:\"2022-01-30T05:54:47Z\",updatedAt:\"2022-01-31T09:49:40Z\"},{id:1048376,genre:{id:e,name:i,shortName:j,path:k,icon:l,displayOrder:h,adminOnlyFlag:a,keywords:m,nondisplayFlag:a,createdAt:b,updatedAt:n,deletedAt:c},memberId:c,tags:[{id:A,name:C,displayOrder:J,tagGenreId:p,nondisplayFlag:a,createdAt:K,updatedAt:q,deletedAt:c}],postUserId:\"64ec1ffde05f4c52\",title:\"感染対策？店員と話さない\",emojiId:w,handleName:\"レジっこ\",content:\"私はスーパーでレジの仕事をしています。最近、感染対策の為なのか全く話さないお客様が増えているように感じます。\\nレジは「商品を登録してお会計をするだけ」と思われがちですが意外にお客様とコミュニケーションをとる場面が多いです。\\n例えば、袋やお箸が必要か不用か？お支払いは現金かクレジットかスマホ決済か？などなど。これらの確認が出来ないと「お箸がなかった」「袋がなくてどうやって持って帰るんだよ」「スマホを持っているんだからスマホ決済に決まってるだろ」というクレームになります。\\nコロナが流行してからレジを取り巻く環境が180度変わりました。感染防止シートやマスクで声が届きづらい、マスクで表情が伝わりにくい、袋詰めなどのサービスが出来ないなど、「接客」の妨げになることが山ほどあります。その中でさらに「一切、話さないお客様」が増えました。\\n先日も「袋はお持ちでしょうか？」と伺ったところ、マスク越しに微笑むだけの意思表示をされ判断がつきませんでした。レジを仕事でしている以上、責任が伴います。それでクレームになった場合「お客様が答えなかった」では済まされない現状があります。「なぜ、答えてもらえなかったか考えろ。」と店長から言われることもあります。まさに板挟みです。\",shortContent:\"私はスーパーでレジの仕事をしています。最近、感染対策の為なのか全く話さないお客様が増えているように感じます。レジは「商品を登録してお会計をするだけ」と思われがちですが意外にお客様とコミュニケーションをとる場面が多いです。例えば、袋やお箸が必…\",resReceptionStatus:d,publishDate:\"2022-01-31T03:10:05Z\",adminPostFlag:a,prFlag:a,resCount:D,userResCount:d,lastUserResDate:c,createdAt:\"2022-01-31T02:47:59Z\",updatedAt:\"2022-01-31T09:44:31Z\"},{id:1047931,genre:{id:e,name:i,shortName:j,path:k,icon:l,displayOrder:h,adminOnlyFlag:a,keywords:m,nondisplayFlag:a,createdAt:b,updatedAt:n,deletedAt:c},memberId:523,tags:[],postUserId:\"3d3ec8c90383fe43\",title:\"回転焼き ？？\",emojiId:aC,handleName:\"ユ\",content:\"朝ドラを見ている時のことです。\\n「今川焼き」を「回転焼き」と呼ぶではないですか。\\n\\n私は生まれも育ちも東京ですが、あれを「回転焼き」と呼ぶ人に一度も、お目にかかったことがありません。\\n\\n朝ドラの舞台は京都でした。\\n東北の地方都市出身の家人は、なんと「回転焼き」だと言います。\\n\\nどうやら箱根の関所を境にした、関東圏、関西圏は関係ないようです。\\n皆さまが住んでいる地域では「今川焼き」を何と呼びますか？\",shortContent:\"朝ドラを見ている時のことです。「今川焼き」を「回転焼き」と呼ぶではないですか。私は生まれも育ちも東京ですが、あれを「回転焼き」と呼ぶ人に一度も、お目にかかったことがありません。朝ドラの舞台は京都でした。東北の地方都市出身の家人は、なんと「回…\",resReceptionStatus:d,publishDate:\"2022-01-27T00:31:51Z\",adminPostFlag:a,prFlag:a,resCount:148,userResCount:e,lastUserResDate:\"2022-01-27T07:54:56Z\",createdAt:\"2022-01-27T00:03:47Z\",updatedAt:\"2022-01-31T09:41:39Z\"},{id:1048157,genre:{id:e,name:i,shortName:j,path:k,icon:l,displayOrder:h,adminOnlyFlag:a,keywords:m,nondisplayFlag:a,createdAt:b,updatedAt:n,deletedAt:c},memberId:c,tags:[],postUserId:\"971294a95452ea9a\",title:\"置き配設定をしてるのにチャイムを鳴らされる\",emojiId:r,handleName:\"an\",content:\"ネットで買い物をした時に置き配設定をしているのに毎回チャイムを鳴らされます。\\n\\n小さい赤ちゃんがいるので寝かしつけてる時だとチャイムを鳴らされたくないし、外出する用事がない時はずっと部屋着で髪も整えていないので時間指定以外の時は正直配送業者の方と顔を合わせたくありません。\\n\\nなので毎回インターフォンごしに「すみませんが玄関前に置いておいてください」と言ってしまいます。\\n\\n配送業者としてはやはり手渡しの方が良いのでしょうか。家にいるのに玄関前に置いておいてもらうのは失礼でしょうか。\",shortContent:\"ネットで買い物をした時に置き配設定をしているのに毎回チャイムを鳴らされます。小さい赤ちゃんがいるので寝かしつけてる時だとチャイムを鳴らされたくないし、外出する用事がない時はずっと部屋着で髪も整えていないので時間指定以外の時は正直配送業者の方…\",resReceptionStatus:d,publishDate:aD,adminPostFlag:a,prFlag:a,resCount:O,userResCount:d,lastUserResDate:c,createdAt:\"2022-01-29T02:10:25Z\",updatedAt:\"2022-01-31T09:36:00Z\"},{id:1048099,genre:{id:e,name:i,shortName:j,path:k,icon:l,displayOrder:h,adminOnlyFlag:a,keywords:m,nondisplayFlag:a,createdAt:b,updatedAt:n,deletedAt:c},memberId:c,tags:[{id:T,name:U,displayOrder:V,tagGenreId:e,nondisplayFlag:a,createdAt:b,updatedAt:o,deletedAt:c},{id:\"15\",name:\"友だち\",displayOrder:\"160\",tagGenreId:s,nondisplayFlag:a,createdAt:b,updatedAt:o,deletedAt:c},{id:\"23\",name:aE,displayOrder:\"230\",tagGenreId:p,nondisplayFlag:a,createdAt:b,updatedAt:q,deletedAt:c},{id:\"22\",name:\"結婚\",displayOrder:\"240\",tagGenreId:p,nondisplayFlag:a,createdAt:b,updatedAt:q,deletedAt:c},{id:\"24\",name:\"離婚\",displayOrder:\"410\",tagGenreId:p,nondisplayFlag:a,createdAt:b,updatedAt:q,deletedAt:c}],postUserId:\"5ef2f83fbbadb0ac\",title:\"45才女性が年下男性と早めに結婚するには\",emojiId:aF,handleName:\"にゃん\",content:\"私は元々独りが苦にならないタイプで結婚願望も薄い人間でした。\\n30代前半までは短期スパンの恋愛を繰り返していましたが、30代半ばで病気になり、命にかかわるレベルではなかったものの投薬や放射線治療で５年を消化、今は元気に暮らしています。\\n割りと稼ぎもあり、老後１人でもなんとかなるだろうとその後も好き勝手に暮らしていましたが、コロナ在宅を経た今、独身を続けることに多少の不安を感じています。\\n\\nそんな中、３ヶ月前に、器量よし、スペックよし、性格よしという聖人みたいな４歳年下の男性と知り合いました。\\n聞けば結婚願望あり、彼女の類いはなしと言います。会話が尽きないのと、子供はいらない、定年後に地方移住したいなど共通点もあり、気になる存在になりました。\\nただネットでの出会い、会うまでにお互いについて細かく話してはいたものの、会ったのは年明けに２回なので、お相手の素性について確証に乏しい面はあります。\\n\\nまた婚活系アプリ経由でもないので、恋愛結婚前提で話を進める感じでもありませんでした。しかし早くしないと他にいっちゃうだろうなーと思っています。\\nお互いの自宅は近く往来も容易なため、話しが進んでもお試し同棲は考えていません。見る目がなく失敗だったら自己責任で、離婚すればよいとも思っています。\\n\\n来月、双方の誕生日が立て続けにあり、少し遠出する計画を立てています(コロナ中にすみません)\\n私に好意を寄せる発言も時折あり、バレンタインも挟むのでなんとかしたいと思っていますが、久々の色恋で最近やや冷静さを欠いている自覚もあります。アドバイスをお願いします。\",shortContent:\"私は元々独りが苦にならないタイプで結婚願望も薄い人間でした。30代前半までは短期スパンの恋愛を繰り返していましたが、30代半ばで病気になり、命にかかわるレベルではなかったものの投薬や放射線治療で５年を消化、今は元気に暮らしています。割りと稼…\",resReceptionStatus:d,publishDate:\"2022-01-28T11:27:48Z\",adminPostFlag:a,prFlag:a,resCount:aG,userResCount:d,lastUserResDate:c,createdAt:\"2022-01-28T11:18:48Z\",updatedAt:\"2022-01-31T09:32:07Z\"},{id:1048356,genre:{id:e,name:i,shortName:j,path:k,icon:l,displayOrder:h,adminOnlyFlag:a,keywords:m,nondisplayFlag:a,createdAt:b,updatedAt:n,deletedAt:c},memberId:c,tags:[{id:Q,name:R,displayOrder:S,tagGenreId:e,nondisplayFlag:a,createdAt:b,updatedAt:o,deletedAt:c},{id:\"71\",name:\"家事\",displayOrder:\"290\",tagGenreId:p,nondisplayFlag:a,createdAt:\"2021-09-16T04:19:48Z\",updatedAt:q,deletedAt:c}],postUserId:\"a17c88252e51c300\",title:\"トイレットペーパー・お茶、僅かに残ってても替えるのは、なぜ？\",emojiId:r,handleName:\"きまぐれ\",content:\"シンプルに疑問でわからないから教えてほしんですけど、\\nトイレットペーパーの残りが数10㎝なら、新しいのに替えなきゃいけないとか\\n麦茶残り1㎝で冷蔵庫に戻さない、ってなぜなんですか？\\n\\n個人的にはトイレットペーパーは、残ってる数10cmと新しいのから追加で少し巻いて使えばいいと思ってるし、\\n麦茶も残り1cmだろうと今飲まないなら冷蔵庫に戻すし、\\n次飲む時は、それともう1つ用意してるのを足して飲んでるので。\\n\\nこのルール、たまに聞くけど常識みたいに言われてるのが、\\n私としては本当にわからないんです。\\nよろしければ、なぜ替えなきゃいけないのか、お教え頂けないでしょうか？\\nよろしくお願い致します。\",shortContent:\"シンプルに疑問でわからないから教えてほしんですけど、トイレットペーパーの残りが数10㎝なら、新しいのに替えなきゃいけないとか麦茶残り1㎝で冷蔵庫に戻さない、ってなぜなんですか？個人的にはトイレットペーパーは、残ってる数10cmと新しいのから…\",resReceptionStatus:d,publishDate:aH,adminPostFlag:a,prFlag:a,resCount:aI,userResCount:e,lastUserResDate:\"2022-01-31T06:56:50Z\",createdAt:\"2022-01-30T23:56:05Z\",updatedAt:\"2022-01-31T09:26:21Z\"},{id:1048391,genre:{id:e,name:i,shortName:j,path:k,icon:l,displayOrder:h,adminOnlyFlag:a,keywords:m,nondisplayFlag:a,createdAt:b,updatedAt:n,deletedAt:c},memberId:1244,tags:[{id:T,name:U,displayOrder:V,tagGenreId:e,nondisplayFlag:a,createdAt:b,updatedAt:o,deletedAt:c},{id:\"19\",name:\"ペット\",displayOrder:\"200\",tagGenreId:s,nondisplayFlag:a,createdAt:b,updatedAt:o,deletedAt:c},{id:G,name:H,displayOrder:I,tagGenreId:p,nondisplayFlag:a,createdAt:b,updatedAt:q,deletedAt:c}],postUserId:\"3255eb1e09fa989f\",title:\"愛犬の死。動物病院に連絡しますか？\",emojiId:w,handleName:\"ミント\",content:\"お正月に愛犬が亡くなりました。15歳でした。\\n年末から少し様子がおかしかったのですが、かかりつけの動物病院はお正月休みに入っていて、診察を受けられませんでした。年明けに救急の動物病院に駆け込んだのですが、間に合わず虹の橋を渡りました。\\n\\nかかりつけの動物病院はワクチン接種の時期や、フィラリア予防の薬の投与の時期になると、ハガキを送ってくれていました。\\nもうすぐワクチン接種のハガキが届きそうです。ハガキを書く手間や、ハガキ代の事を考えたら、届く前に連絡した方がいいのでしょうか？もしくは、何も連絡しない方がいいのでしょうか？\\n\\nペットを亡くされた方、動物病院に連絡されましたか？\",shortContent:\"お正月に愛犬が亡くなりました。15歳でした。年末から少し様子がおかしかったのですが、かかりつけの動物病院はお正月休みに入っていて、診察を受けられませんでした。年明けに救急の動物病院に駆け込んだのですが、間に合わず虹の橋を渡りました。かかりつ…\",resReceptionStatus:d,publishDate:\"2022-01-31T06:46:40Z\",adminPostFlag:a,prFlag:a,resCount:W,userResCount:d,lastUserResDate:c,createdAt:\"2022-01-31T05:33:00Z\",updatedAt:\"2022-01-31T09:23:16Z\"},{id:1048257,genre:{id:e,name:i,shortName:j,path:k,icon:l,displayOrder:h,adminOnlyFlag:a,keywords:m,nondisplayFlag:a,createdAt:b,updatedAt:n,deletedAt:c},memberId:c,tags:[{id:x,name:y,displayOrder:z,tagGenreId:e,nondisplayFlag:a,createdAt:b,updatedAt:o,deletedAt:c}],postUserId:\"17e086b1c1a56e00\",title:\"歳を重ねて聞いた時に泣きそうになった曲\",emojiId:r,handleName:aJ,content:\"トピを開いてくださりありがとうございます。\\n50後半のおばちゃんです。\\n先日車を運転していた時に何気なく聞いていたラジオから、かまやつひろしさんの【我が良き友よ】が流れてきました。この曲が発売された頃は小学生で、特に何も思っていなかったのですが、この年齢になって聞くと、涙が出そうになりました。\\n古き良き時代とはまさにこの事だなと思って、自分の学生時代を懐かしく思い出しました。\\nみなさんもこんな曲、ありますか？\",shortContent:\"トピを開いてくださりありがとうございます。50後半のおばちゃんです。先日車を運転していた時に何気なく聞いていたラジオから、かまやつひろしさんの【我が良き友よ】が流れてきました。この曲が発売された頃は小学生で、特に何も思っていなかったのですが…\",resReceptionStatus:d,publishDate:\"2022-01-30T02:28:08Z\",adminPostFlag:a,prFlag:a,resCount:O,userResCount:D,lastUserResDate:\"2022-01-31T08:09:41Z\",createdAt:\"2022-01-30T02:03:30Z\",updatedAt:\"2022-01-31T09:14:54Z\"},{id:1048363,genre:{id:e,name:i,shortName:j,path:k,icon:l,displayOrder:h,adminOnlyFlag:a,keywords:m,nondisplayFlag:a,createdAt:b,updatedAt:n,deletedAt:c},memberId:3514,tags:[{id:T,name:U,displayOrder:V,tagGenreId:e,nondisplayFlag:a,createdAt:b,updatedAt:o,deletedAt:c},{id:x,name:y,displayOrder:z,tagGenreId:e,nondisplayFlag:a,createdAt:b,updatedAt:o,deletedAt:c},{id:t,name:u,displayOrder:v,tagGenreId:p,nondisplayFlag:a,createdAt:b,updatedAt:q,deletedAt:c},{id:aK,name:aL,displayOrder:A,tagGenreId:s,nondisplayFlag:a,createdAt:b,updatedAt:o,deletedAt:c},{id:L,name:M,displayOrder:N,tagGenreId:s,nondisplayFlag:a,createdAt:b,updatedAt:o,deletedAt:c},{id:\"69\",name:\"父親・母親\",displayOrder:\"110\",tagGenreId:s,nondisplayFlag:a,createdAt:\"2021-09-16T04:18:42Z\",updatedAt:o,deletedAt:c}],postUserId:\"7ebe9da8b87a5bee\",title:\"転勤・介護・一人っ子\",emojiId:D,handleName:\"悩める主婦\",content:\"こんにちは、40代パート主婦です。主人は同年齢、小３（9才）男児の3人家族です。\\n\\n夫は、全国転勤のある会社に勤めており、現在は福岡に10年住んでいて、子供も福岡で出産しています。\\n通常は5年単位で転勤になるのですが\\n、異動もなく親子ともに友達もたくさんできて楽しく過ごしていました。\\n\\nですがいつも気がかりなことがありました。\\n私は関西出身で、実家には86才の父親と82才の母親が暮らしており、なんとか2人で暮らしている状態です。\\n私は一人っ子で、まわりに親戚等も住んでいないのです。\\nそんな状態なので、主人に会社には介護の為という理由で、関西への異動希望を出してもらっていました。さすがに今年の人事異動では、家族で関西に戻れるであろうと信じていました。\\n\\n甘かったです、東北への転勤を打診されてしまいました。もし次に戻れなかったら、妻子で関西に戻ろうと軽く考えていたのですが、現実を目の前にすると、激務の夫を一人で東北に行かせること、せめて子供が小学生の間は家族一緒に暮らしたいこと、妻子で関西に戻ると家賃は自分で払うことになること（実家は父親と折り合いが悪く同居はできない）、実家は田舎であること、親の介護の為に家族を振り回す事など、\\nもう考えれば考えるほど、八方塞がりで辛いです。\\n\\n夫の考えはというと、\\n夫婦の共通認識としては、あまり転校はさせたくない。この次の転勤は中学にかかるため、単身赴任はやむなし。\\nあくまで希望で、福岡が大好きで、妻子は福岡で住み月１ぐらいで帰ってきたいようです。\\nでも介護あるし、関西の方が大学もたくさんあるから仕方ない、けど関西に家を買うのは嫌だそうです。\\n\\nちなみに夫は中国地方出身ですが、住む場所のしがらみはありません。\\n\\n長くなってしまいましたが、こういう状況なら皆様はどうするか、想像でもいいのでお聞かせ下さい。\\nよろしくお願いします。\",shortContent:\"こんにちは、40代パート主婦です。主人は同年齢、小３（9才）男児の3人家族です。夫は、全国転勤のある会社に勤めており、現在は福岡に10年住んでいて、子供も福岡で出産しています。通常は5年単位で転勤になるのですが、異動もなく親子ともに友達もた…\",resReceptionStatus:d,publishDate:\"2022-01-31T03:06:31Z\",adminPostFlag:a,prFlag:a,resCount:W,userResCount:s,lastUserResDate:\"2022-01-31T08:04:40Z\",createdAt:\"2022-01-31T00:35:16Z\",updatedAt:\"2022-01-31T09:01:47Z\"},{id:1048103,genre:{id:e,name:i,shortName:j,path:k,icon:l,displayOrder:h,adminOnlyFlag:a,keywords:m,nondisplayFlag:a,createdAt:b,updatedAt:n,deletedAt:c},memberId:c,tags:[{id:au,name:av,displayOrder:_,tagGenreId:e,nondisplayFlag:a,createdAt:b,updatedAt:o,deletedAt:c},{id:aa,name:ab,displayOrder:ac,tagGenreId:e,nondisplayFlag:a,createdAt:b,updatedAt:o,deletedAt:c},{id:\"72\",name:\"料理・レシピ\",displayOrder:\"330\",tagGenreId:p,nondisplayFlag:a,createdAt:\"2021-09-16T04:20:03Z\",updatedAt:q,deletedAt:c}],postUserId:\"a8b16aba95cb92f8\",title:\"スープがまずいです。\",emojiId:E,handleName:\"つぼみ\",content:\"こんにちは。トピック開いてくださりありがとうございます。先程5人分？くらいのスープを作りました。（玉ねぎ、キムチ、豆腐、ウインナー、昆布だし、生姜、たまご）サイトをみて大体の分量を測ったはずなのですが、水の量が多かったのか味が薄く、不味くなってしまいました。キムチや食べるラー油などで無理やり食べてみたのですが、それでも限界があり、あと4人分ほどは残っています。もし何か良いリメイクの方法があれば教えていただきたいです。\\nよろしくお願いいたします。\",shortContent:\"こんにちは。トピック開いてくださりありがとうございます。先程5人分？くらいのスープを作りました。（玉ねぎ、キムチ、豆腐、ウインナー、昆布だし、生姜、たまご）サイトをみて大体の分量を測ったはずなのですが、水の量が多かったのか味が薄く、不味くな…\",resReceptionStatus:d,publishDate:\"2022-01-28T11:36:48Z\",adminPostFlag:a,prFlag:a,resCount:ae,userResCount:d,lastUserResDate:c,createdAt:\"2022-01-28T11:24:42Z\",updatedAt:\"2022-01-31T08:28:38Z\"},{id:1048193,genre:{id:e,name:i,shortName:j,path:k,icon:l,displayOrder:h,adminOnlyFlag:a,keywords:m,nondisplayFlag:a,createdAt:b,updatedAt:n,deletedAt:c},memberId:c,tags:[{id:t,name:u,displayOrder:v,tagGenreId:p,nondisplayFlag:a,createdAt:b,updatedAt:q,deletedAt:c}],postUserId:\"0e68d1d1349a25c8\",title:\"馴れ馴れしい賃貸マンション清掃員\",emojiId:r,handleName:\"ゆったり\",content:\"こんにちは。トピを開いて下さりありがとうございます。50代専業主婦です。\\n\\n週2回数時間程度来られる、70代半ばくらいの男性清掃員の方にモヤモヤしています。とにかく色々タメ口で馴れ馴れしく聞いてきます。\\n\\n初めは挨拶だけでした。ところがしばらくすると、挨拶後「どこ行くん？買い物？」とか「仕事しとん？」など、こちらからは挨拶以外に何も話しかけることはないのに、いちいち聞いてきます。清掃の予定なども勝手に説明してきます。\\n\\nそのうち、「おはようございます」と言えば、「おー」と偉そうに返され、「こんな所にゴミがある。非常識な人がおるもんや」などと愚痴られるようにもなりました。\\n\\n一言二言返してすぐに立ち去るようにしていましたが、お構い無し。鬱陶しいので、挨拶もやめて素通りすることにしました。\\n\\nこれで話しかけて来ることは無くなり、しばらくが出くわすこともなかったのですが、先日久しぶりに間近で出くわしました。何か話しかけて来ましたが、私はさっさと立ち去りました。\\n\\nこういうタイプの人はハッキリ言わないと分からないとは思います。もし、若かりし日の私であれば、ズケッと一言で済ましていたでしょう。でも、今はこんな後期高齢者のような方に言うのも如何なものかと思ったりもします。\\n\\n挨拶後、お天気などの一言二言で済ませられる会話ならいいですが、この方の話は鬱陶しいしかありません。\\n\\n頭では放っておくのが1番だと思っていますが、感情がついていかずモヤモヤしてしまいます。\\n\\nやはり、馴れ馴れしく話しかけないでと、はっきり言うしかないのでしょうか·····？\",shortContent:\"こんにちは。トピを開いて下さりありがとうございます。50代専業主婦です。週2回数時間程度来られる、70代半ばくらいの男性清掃員の方にモヤモヤしています。とにかく色々タメ口で馴れ馴れしく聞いてきます。初めは挨拶だけでした。ところがしばらくする…\",resReceptionStatus:d,publishDate:\"2022-01-29T07:06:22Z\",adminPostFlag:a,prFlag:a,resCount:51,userResCount:aM,lastUserResDate:\"2022-01-31T08:15:01Z\",createdAt:\"2022-01-29T07:02:09Z\",updatedAt:\"2022-01-31T08:24:02Z\"},{id:1048316,genre:{id:e,name:i,shortName:j,path:k,icon:l,displayOrder:h,adminOnlyFlag:a,keywords:m,nondisplayFlag:a,createdAt:b,updatedAt:n,deletedAt:c},memberId:c,tags:[{id:t,name:u,displayOrder:v,tagGenreId:p,nondisplayFlag:a,createdAt:b,updatedAt:q,deletedAt:c}],postUserId:\"0df72a2936097127\",title:\"独身時代に組んだ住宅ローン\",emojiId:w,handleName:aJ,content:\"はじめまして。\\nトピをご覧頂きありがとうございます。\\n\\n6年前に私名義で住宅ローン35年を契約しました。\\n\\nしかし、この度ご縁があり、結婚が決まり関西から四国に行くことになりました。(住宅ローンのことは存じています)\\n\\n私は売ろうと思ったのですがローンを組んだ家は、母親が住み続けたいそうです。\\n\\nローンを組んだ銀行は地方の信用金庫です。\\n\\nこの場合、四国に移住しても住宅ローンを継続することは可能なのでしょうか？\\n一括返済を迫られないか大変不安です…\",shortContent:\"はじめまして。トピをご覧頂きありがとうございます。6年前に私名義で住宅ローン35年を契約しました。しかし、この度ご縁があり、結婚が決まり関西から四国に行くことになりました。(住宅ローンのことは存じています)私は売ろうと思ったのですがローンを…\",resReceptionStatus:d,publishDate:\"2022-01-30T12:55:31Z\",adminPostFlag:a,prFlag:a,resCount:aN,userResCount:s,lastUserResDate:aO,createdAt:\"2022-01-30T12:07:17Z\",updatedAt:aO},{id:1048189,genre:{id:e,name:i,shortName:j,path:k,icon:l,displayOrder:h,adminOnlyFlag:a,keywords:m,nondisplayFlag:a,createdAt:b,updatedAt:n,deletedAt:c},memberId:c,tags:[{id:x,name:y,displayOrder:z,tagGenreId:e,nondisplayFlag:a,createdAt:b,updatedAt:o,deletedAt:c},{id:G,name:H,displayOrder:I,tagGenreId:p,nondisplayFlag:a,createdAt:b,updatedAt:q,deletedAt:c},{id:\"11\",name:\"義実家\",displayOrder:\"120\",tagGenreId:s,nondisplayFlag:a,createdAt:b,updatedAt:o,deletedAt:c}],postUserId:\"2d321a96887ad677\",title:\"海老天を柩に入れるのはありですか？\",emojiId:Z,handleName:\"みっちゃん\",content:\"先日　夫の叔母が　103歳で大往生しました　その葬儀の時　叔母が好きだったという事で　義妹が海老天を柩の中に入れ　義姉が　良いおかずができて良かったね　良く気が付いてくれた　と喜んでいました　生じゃ無いけど　海老ってと思った私は古いのでしょうか　係の方も\\n何も　仰られなかったし　私も　義姉妹には　何も言っていませんが　？？？な気持ちでした　今は　何でもありですか？\",shortContent:\"先日　夫の叔母が　103歳で大往生しました　その葬儀の時　叔母が好きだったという事で　義妹が海老天を柩の中に入れ　義姉が　良いおかずができて良かったね　良く気が付いてくれた　と喜んでいました　生じゃ無いけど　海老ってと思った私は古いのでしょ…\",resReceptionStatus:d,publishDate:\"2022-01-29T06:37:31Z\",adminPostFlag:a,prFlag:a,resCount:54,userResCount:s,lastUserResDate:\"2022-01-31T07:56:58Z\",createdAt:\"2022-01-29T06:31:12Z\",updatedAt:\"2022-01-31T08:12:50Z\"},{id:1042329,genre:{id:e,name:i,shortName:j,path:k,icon:l,displayOrder:h,adminOnlyFlag:a,keywords:m,nondisplayFlag:a,createdAt:b,updatedAt:n,deletedAt:c},memberId:c,tags:[],postUserId:\"7c4d0d10e2efe30d\",title:\"努力したことありますか？\",emojiId:r,handleName:\"ことは\",content:\"どのような努力をした経験がありますか？努力をしたことはありますか？\\n\\n私は1日中勉強をしたり深夜まで受験勉強をしたことは「努力っぽい」経験だけど、\\n環境のおかげで頑張らなくても楽しく受験勉強していました。\\nそのため努力とは違う気がします。\\n\\nダイエットも自己管理が容易な時は痩せて、目標にそった行動の管理ができない時は太るというだけで、\\n努力で痩せたとも感じません。\\n\\n寒い冬に布団から出て、1限や2限に遅れながらも高校に通っていたこと、\\n大学生でイイ女は高いヒールを履くという信念のもと、何処へ行くにも足の痛みに耐え続けたことが、唯一の努力のように思います。\\n\\n皆さんの努力の経験を聞かせてください！\",shortContent:\"どのような努力をした経験がありますか？努力をしたことはありますか？私は1日中勉強をしたり深夜まで受験勉強をしたことは「努力っぽい」経験だけど、環境のおかげで頑張らなくても楽しく受験勉強していました。そのため努力とは違う気がします。ダイエット…\",resReceptionStatus:d,publishDate:\"2021-12-07T05:58:58Z\",adminPostFlag:a,prFlag:a,resCount:E,userResCount:d,lastUserResDate:c,createdAt:\"2021-12-07T05:19:06Z\",updatedAt:\"2022-01-31T07:58:31Z\"},{id:1048159,genre:{id:e,name:i,shortName:j,path:k,icon:l,displayOrder:h,adminOnlyFlag:a,keywords:m,nondisplayFlag:a,createdAt:b,updatedAt:n,deletedAt:c},memberId:c,tags:[{id:t,name:u,displayOrder:v,tagGenreId:p,nondisplayFlag:a,createdAt:b,updatedAt:q,deletedAt:c}],postUserId:\"804826ef598c1cd1\",title:\"亡くなった親名義の田舎の古家について\",emojiId:r,handleName:\"ひこ\",content:\"無知でお恥ずかしいのですが、教えて下さい。\\nタイトル通り、親が亡くなりずっと誰も住んでいなかった遠方の田舎の小さな古家があります。(親名義で親が子ども時代に住んでいた)その家は自動的に娘の私に相続されてしまうのですよね？\\nこの先その土地の固定資産税(大した額ではないとは思う)の請求は私にくるようになるんですか？\\nそれを放置するわけにはいけないですよね？\\n絶対売れないような場所の小さな土地と古家にずっと固定資産税を払うことになるって思うかなり気分も滅入ります。\\n昔隣の家からはかなり苦情があったと親から聞かされていました。\\n隣の人がどんな人かも知りませんし、隣の人が買ってくれる可能性もないと思います。\\n\\nどうしていいのかわからず焦っています。\\nアドバイスいただけませんか？\\nよろしくお願いします。\",shortContent:\"無知でお恥ずかしいのですが、教えて下さい。タイトル通り、親が亡くなりずっと誰も住んでいなかった遠方の田舎の小さな古家があります。(親名義で親が子ども時代に住んでいた)その家は自動的に娘の私に相続されてしまうのですよね？この先その土地の固定資…\",resReceptionStatus:d,publishDate:aD,adminPostFlag:a,prFlag:a,resCount:aP,userResCount:e,lastUserResDate:\"2022-01-30T02:24:37Z\",createdAt:\"2022-01-29T02:18:08Z\",updatedAt:\"2022-01-31T07:54:02Z\"},{id:1046988,genre:{id:e,name:i,shortName:j,path:k,icon:l,displayOrder:h,adminOnlyFlag:a,keywords:m,nondisplayFlag:a,createdAt:b,updatedAt:n,deletedAt:c},memberId:c,tags:[{id:al,name:am,displayOrder:an,tagGenreId:p,nondisplayFlag:a,createdAt:b,updatedAt:q,deletedAt:c},{id:A,name:C,displayOrder:J,tagGenreId:p,nondisplayFlag:a,createdAt:K,updatedAt:q,deletedAt:c}],postUserId:\"0528db6a5fa82784\",title:\"支払調書、送りますか？貰ってますか？\",emojiId:r,handleName:\"ショッカー\",content:\"小さい会社で20年ほど経理をしています(1人事務)\\n支払調書、支払先に送る義務が無いことは知っていますが、送ってくるもの(送ることが義務)だと思っている方が多く、\\nまた担当者宛に連絡が来ることが殆どで、担当者自身が理解していなかったり説明するのを面倒がって「送って欲しい」と言われ送り続けている状態です。\\nしかし移転の手続きをしないままで返送されてきても、「再送して欲しい」と言ってこない人もいるので、実は不要な人も多いんじゃないだろうか？と思っています。\\n\\n1人で事務をしていて他社の方と会う機会もない為、世の中的にどうなのかな～と思いトピをたてました。\\n支払調書、支払先にも送られていますか？送られてきていますか？\\n出来れば業種と、送っている人数も教えて頂けると幸いです。\\n受け取る側の方の場合、どれぐらいの割合で送られてきているか・・・\\n私は映像制作業で、人数は150～200名です。\\n\\nよろしくお願いします。\",shortContent:\"小さい会社で20年ほど経理をしています(1人事務)支払調書、支払先に送る義務が無いことは知っていますが、送ってくるもの(送ることが義務)だと思っている方が多く、また担当者宛に連絡が来ることが殆どで、担当者自身が理解していなかったり説明するの…\",resReceptionStatus:d,publishDate:\"2022-01-18T07:46:53Z\",adminPostFlag:a,prFlag:a,resCount:aQ,userResCount:e,lastUserResDate:aR,createdAt:\"2022-01-18T07:30:42Z\",updatedAt:aR},{id:1048306,genre:{id:e,name:i,shortName:j,path:k,icon:l,displayOrder:h,adminOnlyFlag:a,keywords:m,nondisplayFlag:a,createdAt:b,updatedAt:n,deletedAt:c},memberId:c,tags:[{id:Q,name:R,displayOrder:S,tagGenreId:e,nondisplayFlag:a,createdAt:b,updatedAt:o,deletedAt:c},{id:aK,name:aL,displayOrder:A,tagGenreId:s,nondisplayFlag:a,createdAt:b,updatedAt:o,deletedAt:c}],postUserId:\"837fa480d5d27f3d\",title:\"旦那の浪費癖が治らない\",emojiId:w,handleName:\"あみあみ\",content:\"初めまして、いま30代前半の私と40歳になる旦那と小学生2人と幼稚園１人の五人家族です。\\n最近35年ローンで家を購入しました。\\n頭金は殆ど無く3700万ほどの家を買いました。\\n支払いは70代まで続きます。\\n旦那は年収600万ちょっとで私はパートを始めました。\\n旦那は競馬などをやり今月は八万円も使ってます。\\nかなりのモラハラでその事を言うとお前のせいでイライラしたと自分のことは棚にあげて手がつけられなくなります。\\nその他にもお昼代に五万円ほど月にかかります。\\n出張費もカードで払って会社からその都度手渡しでもらいますがそれも自分のものにしていて毎回15万は使ってます。\\nモラハラで話し合いもきちんとできなくて暴れたり暴力を振るったりします。\\n独身時代も家族と喧嘩ばかりだったみたいです。\\n家のローン退職したらどうやって払っていくの？退職金いくらぐらいもらえるの？などと話しても団信でガンになればタダになるとかアホなことばかり言われてて疲れます。\\n毎日、モラハラでなにもしてないのにキレられて最近、心底嫌になってきました。\\n下の子の大学費も貯めたく保険に入りたいと話しても聞いてくれません。\\nお金にだらしなく、子供ともゲームセンターしか遊んでくれないで、公園なども連れてかないしいつも私が子供三人連れてってシングルマザーみたいだなといつも思います。\\n旦那の実家も私が一人で連れてってばかりで旦那は家でゲームをしています。\\n家も建てたばかりですがそれも旦那が殆ど勝手に決めてしまいました。\\n私が反対意見をだせば怒り狂います。\\n話がまとまらなくてすみません。\\nこれならシングルマザーになったほうが幸せなのでしょうか？\",shortContent:\"初めまして、いま30代前半の私と40歳になる旦那と小学生2人と幼稚園１人の五人家族です。最近35年ローンで家を購入しました。頭金は殆ど無く3700万ほどの家を買いました。支払いは70代まで続きます。旦那は年収600万ちょっとで私はパートを始…\",resReceptionStatus:d,publishDate:\"2022-01-30T09:59:55Z\",adminPostFlag:a,prFlag:a,resCount:ad,userResCount:d,lastUserResDate:c,createdAt:\"2022-01-30T09:50:43Z\",updatedAt:\"2022-01-31T07:27:03Z\"},{id:1048355,genre:{id:e,name:i,shortName:j,path:k,icon:l,displayOrder:h,adminOnlyFlag:a,keywords:m,nondisplayFlag:a,createdAt:b,updatedAt:n,deletedAt:c},memberId:c,tags:[{id:Q,name:R,displayOrder:S,tagGenreId:e,nondisplayFlag:a,createdAt:b,updatedAt:o,deletedAt:c},{id:L,name:M,displayOrder:N,tagGenreId:s,nondisplayFlag:a,createdAt:b,updatedAt:o,deletedAt:c},{id:\"29\",name:\"心の悩み\",displayOrder:\"420\",tagGenreId:p,nondisplayFlag:a,createdAt:b,updatedAt:q,deletedAt:c}],postUserId:\"806feeca60c119d4\",title:\"子供が嫌いだけど寄ってくる\",emojiId:r,handleName:\"困る\",content:\"私は子供が嫌いです。\\n全く可愛いと思いません。\\n学生時代、授業でいった保育体験は地獄でしたし、未成年の時も、大人になっても、子供嫌いが変わりません。\\n\\nですが、子供が私に近づいてきます。\\n\\n一人で海に行って座っていれば、遊ぼうよと手を引っ張られますし、\\n泣いている子供は私の方を見て笑顔になります。\\n電車にのれば隣に座った子供から必ず話しかけられます。\\n\\n友人に話したらそんなこと普通はない、といわれて自意識過剰かもと思い直したのですが、やはり何かおかしいのです。\\n（実際そのあと一緒に出かけた友人が私の様子をみて、なんか変なフェロモン出てるんじゃないかってくらい、これはすごいね。と言っていました）\\n\\nわたしからレスを貰ったら優勝！みたいなクエストがあるのか？！と思うほど、子供に好かれます。\\n\\nどこを触ったのかわからない手で触れられるのも、話しかけられることも嫌なので、無言で立ち去るようにしているのですが、出かけるたびにストレスで心が持ちません。\\n\\n嫌いなものと隣り合わせの外出。\\nどうしたら子供が私に近寄らなくなるでしょうか。\",shortContent:\"私は子供が嫌いです。全く可愛いと思いません。学生時代、授業でいった保育体験は地獄でしたし、未成年の時も、大人になっても、子供嫌いが変わりません。ですが、子供が私に近づいてきます。一人で海に行って座っていれば、遊ぼうよと手を引っ張られますし、…\",resReceptionStatus:d,publishDate:aH,adminPostFlag:a,prFlag:a,resCount:s,userResCount:d,lastUserResDate:c,createdAt:\"2022-01-30T23:53:29Z\",updatedAt:\"2022-01-31T07:07:21Z\"},{id:1048067,genre:{id:e,name:i,shortName:j,path:k,icon:l,displayOrder:h,adminOnlyFlag:a,keywords:m,nondisplayFlag:a,createdAt:b,updatedAt:n,deletedAt:c},memberId:2182,tags:[{id:\"43\",name:\"駄\",displayOrder:\"470\",tagGenreId:p,nondisplayFlag:a,createdAt:b,updatedAt:q,deletedAt:c}],postUserId:\"36206cc9b1aaa887\",title:\"あの人は何者だったのか\",emojiId:aS,handleName:\"りえり\",content:\"これは今から２０年ほど前のお話です。\\n\\n２０代半ばだった私は、半年後に結婚を控えていました。\\n\\nある日、仕事の関係で主要駅をさっさか歩いていました。\\nすると、前方から歩いてきた３０代前半くらいの男性が、私の顔を一瞥すると\\nとても驚いた表情で真っ直ぐこちらに近づいてきました。\\n\\n（なんだろう、知らない人だし）と思っていると、声を掛けられました。\\n\\n「突然すみません。失礼ですが、あなた今、人生の岐路にいませんか？」\\n\\n普段なら声を掛けられても無視するところですが、「人生の岐路」と言う言葉に思わず立ち止まりました。\\n\\n「は？？」\\n「たとえば、近々ご結婚されるとか」\\n「はぁ・・・」\\n「やはりそうですか！実は私、何かしらで人生の岐路に立っている人がわかるんです。\\n　そういう人は、おでこに黒い線が見えるんです。」\\n\\n男性はそう言うと、人差し指で自分のおでこに横に一本線を引くジェスチャーをしました。\\n\\n「あなたは遠くから見てもはっきりと分かるくらい、強い線が見えたのです。だから思わず声を掛けてしまいました。\\n こんなにハッキリ見える人も珍しいんですよ。では！」\\n\\n男性はそう言うと、颯爽と去っていきました。\\n\\n残された私はポカーーーンです。\\n\\nこの男性は一体何者だと思いますか？？\\n同じような経験をされた方はいらっしゃいますか？\\n\\n※ちなみに指輪やアクセサリーの類は身につけていなかったので、指輪から判断した可能性は無いです。\\n\\n何故か、ふと思い出したので投稿してみました。\",shortContent:\"これは今から２０年ほど前のお話です。２０代半ばだった私は、半年後に結婚を控えていました。ある日、仕事の関係で主要駅をさっさか歩いていました。すると、前方から歩いてきた３０代前半くらいの男性が、私の顔を一瞥するととても驚いた表情で真っ直ぐこち…\",resReceptionStatus:d,publishDate:\"2022-01-28T05:40:46Z\",adminPostFlag:a,prFlag:a,resCount:aT,userResCount:e,lastUserResDate:\"2022-01-29T12:39:55Z\",createdAt:\"2022-01-28T04:04:07Z\",updatedAt:\"2022-01-31T07:00:05Z\"}]},getTopicsRankings:{count:d,currentPage:d,lastPage:d,topics:[],result:g,totalCount:d},getTopicsRankingForDetail:{count:d,currentPage:d,lastPage:d,topics:[],result:g},getAccessRanking:{loaded:a,count:d,currentPage:d,lastPage:d,topics:[],result:g},getTopicsRankingsPochis:{count:d,currentPage:d,lastPage:d,totalCount:d,topics:[],result:g},_korepochisLocal:[],getTopicsGenres:{result:F,genres:[{id:e,name:i,shortName:j,path:k,icon:l,displayOrder:h,adminOnlyFlag:a,keywords:m,nondisplayFlag:a,createdAt:b,updatedAt:n,deletedAt:c},{id:E,name:\"恋愛・結婚\",shortName:aE,path:\"love\",icon:\"\\u002Fimages\\u002Fupload\\u002Ficon\\u002Ficon_new04.png\",displayOrder:X,adminOnlyFlag:a,keywords:\"恋愛,結婚,年収,後悔,結婚式,プロポーズ,職場結婚,お見合い,顔合わせ,年の差,誕生日,ずるい\",nondisplayFlag:a,createdAt:b,updatedAt:\"2021-12-07T04:14:57Z\",deletedAt:c},{id:aU,name:\"夫婦関係・離婚\",shortName:\"夫婦\",path:\"couple\",icon:\"\\u002Fimages\\u002Fupload\\u002Ficon\\u002Ficon_new16.png\",displayOrder:B,adminOnlyFlag:a,keywords:\"夫婦,離婚,むかつく,非常識,不倫,後悔,働かない,専業主婦,家事,ずるい\",nondisplayFlag:a,createdAt:b,updatedAt:\"2021-12-07T04:15:13Z\",deletedAt:c},{id:w,name:\"妊娠・出産・育児\",shortName:\"子供\",path:\"child\",icon:\"\\u002Fimages\\u002Fupload\\u002Ficon\\u002Ficon_new05.png\",displayOrder:r,adminOnlyFlag:a,keywords:\"おねしょ,子宮全摘,体外受精,妊娠,赤ちゃん,出産祝い,支援級,耳垢,ベタベタ,産後,ストレス,ワーママ,高齢出産,混合,完母\",nondisplayFlag:a,createdAt:b,updatedAt:\"2021-12-07T04:15:32Z\",deletedAt:c},{id:s,name:\"キャリア・職場\",shortName:C,path:\"work\",icon:\"\\u002Fimages\\u002Fupload\\u002Ficon\\u002Ficon_new02.png\",displayOrder:aV,adminOnlyFlag:a,keywords:\"キャリア,時短勤務,派遣,妊娠報告,育休明け,迷惑,退職,もったいない\",nondisplayFlag:a,createdAt:b,updatedAt:\"2021-12-07T04:15:50Z\",deletedAt:c},{id:P,name:\"家族・友人・人間関係\",shortName:\"ひと\",path:\"people\",icon:\"\\u002Fimages\\u002Fupload\\u002Ficon\\u002Ficon_new06.png\",displayOrder:aW,adminOnlyFlag:a,keywords:\"家族,友人,迷惑,嫌,ベランダ,タバコ,仕返し,専業主婦,家事,電話,障害,心理\",nondisplayFlag:a,createdAt:b,updatedAt:\"2021-12-07T04:16:43Z\",deletedAt:c},{id:p,name:\"心や体の悩み\",shortName:\"ヘルス\",path:\"health\",icon:\"\\u002Fimages\\u002Fupload\\u002Ficon\\u002Ficon_new03.png\",displayOrder:af,adminOnlyFlag:a,keywords:\"鼻,かゆい,コンタクト,奥歯,矯正,近視,身長,ゲップ,排卵痛,体臭,うつ,くしゃみ,眠れない,低血糖,生理前\",nondisplayFlag:a,createdAt:b,updatedAt:\"2021-12-07T04:16:06Z\",deletedAt:c},{id:D,name:\"美容・ファッション\",shortName:\"美\",path:\"beauty\",icon:\"\\u002Fimages\\u002Fupload\\u002Ficon\\u002Ficon_new07.png\",displayOrder:aX,adminOnlyFlag:a,keywords:\"美容院,髪,角栓,引き締め,ヘアカラー,禁煙,便秘,体重,首,顔,気持ち悪い\",nondisplayFlag:a,createdAt:b,updatedAt:\"2021-12-07T04:16:19Z\",deletedAt:c}]},getTopicsAwards:{awards:[],loaded:a,awardedYear:d},getTopicsPickups:{loaded:a,result:g,count:g,topics:[]},getTopicsPickupsForAll:{result:g,count:g,topics:[]},getTopicsRecommends:{count:g,topics:[]},getTopicDetail:{topic:{},userInfo:{},result:g},getTopicDetailForResModal:{topic:{},userInfo:{},result:g},getTopicDetailResponses:{count:d,currentPage:d,lastPage:d,totalCount:d,responses:[],result:g},getTopicDetailResponsesTopicOwner:{count:d,currentPage:d,lastPage:d,totalCount:d,responses:[],result:g},getTopicDetailResponsesTopicOwnerForResModal:{count:d,currentPage:d,lastPage:d,totalCount:d,responses:[],result:g},getTopicDetailRelatives:{count:d,currentPage:d,lastPage:d,totalCount:d,topics:[],result:g},getRelativeTopicsForResComplete:{count:d,currentPage:d,lastPage:d,totalCount:d,topics:[],result:g},getTopicDetailTags:{tags:[],result:g},getTopicDetailPochis:{pochis:[]},postTopic:{topics:c},postTopicResponse:{res:c},interfaces:{getTopicsRecommendsParams:{},postTopicParams:{}}},tags:{getTagsGenres:[],getTagsGenreDetail:{},getTags:[],getTagsRankings:{result:g,count:d,currentPage:d,lastPage:d,totalCount:d,tags:[]}},surrogateKey:{surrogateKey:\"contents contents-appeals articles articles-corners emojis topics topics-genres contents-informations topics-updated-genre-1 t1048447 t1048443 t1048441 t1048440 t1048437 t1048436 t1048434 t1048430 t1048428 t1048128 t1048408 t1048282 t1048376 t1047931 t1048157 t1048099 t1048356 t1048391 t1048257 t1048363 t1048103 t1048193 t1048316 t1048189 t1042329 t1048159 t1046988 t1048306 t1048355 t1048067 topics-latest\"},search:{postSearch:{result:g,count:d,currentPage:d,lastPage:d,text:g,list:[],topics:[],articles:[]},interfaces:{requestParameters:{postSearchParams:{}}}},mypage:{login:{sessionToken:g,member:c},isSugotokuMember:{result:g,member:c},sendPin:{result:g},getProperties:{result:g,member:c},_callbackMessages:[],getKorepochis:{result:g,count:d,lastPage:d,topics:[]},getBookmarks:{result:g,count:d,currentPage:d,lastPage:d,topics:[]},getFavorites:{result:g,count:d,currentPage:d,lastPage:d,topics:[]},getKeywords:{result:g,count:d,currentPage:d,lastPage:d,keywords:[]},postKeywords:{keyword:c},putKeywords:{keyword:c},getPosts:{count:d,currentPage:d,lastPage:d,topics:[]},getResponses:{count:d,currentPage:d,lastPage:d,totalCount:d,member:c,responses:[]},getFollows:{count:d,currentPage:d,lastPage:d,members:[],result:g},getFollowIds:{memberIds:[],result:g},postFollows:{result:g},getFollowsPosts:{count:d,currentPage:d,lastPage:d,followsPosts:[],result:g},getDraft:{result:g,count:d,currentPage:d,lastPage:d,drafts:[]},getNotifications:{notifications:[],result:g},getNotificationsCount:{newCount:d,result:g},interfaces:{requestParameters:{checkSessionParam:{},deleteBookmarkParams:{},deleteFavoriteParams:{},deleteKeywordsParams:{},existingMemberParams:{},isSugotokuMemberParam:{},loginParam:{},pinParams:{},postDraftParams:{},postMemberParams:{},putDraftParams:{},putMemberParams:{},sendPinParams:{}}}},meta:{env:{API_BASE_URL:aY,API_BASE_URL_LOCAL:aZ,API_VERSION:\"v1\",OCP_APIM_SUBSCRIPTION_KEY_VALUE:a_},initAdMounted:a,getSiteSettings:{description:g,keywords:g},meta:[{id:ag,hid:ag,name:ag,content:a$},{id:ah,hid:ah,name:ah,content:\"勘違い,非常識,むかつく,非課税世帯,新札,ずるい,事故,やばい,騒音,方言,新着,最新,質問,回答,悩み,相談,反応,口コミ,発言小町,小町,発言,名作,読売新聞,こまち,投稿,まとめ,すっきり,モヤモヤ\"},{hid:ba,property:ba,content:bb},{hid:bc,property:bc,content:a$}],title:bb},emojis:{getEmojis:{result:F,emojis:[{id:r,imageFlag:a,content:\"&#x1f642;\",selectableFlag:f,adminOnlyFlag:a,displayOrder:h,createdAt:b,updatedAt:b},{id:e,imageFlag:a,content:\"&#x1f600;\",selectableFlag:f,adminOnlyFlag:a,displayOrder:X,createdAt:b,updatedAt:b},{id:s,imageFlag:a,content:\"&#x1f609;\",selectableFlag:f,adminOnlyFlag:a,displayOrder:B,createdAt:b,updatedAt:b},{id:p,imageFlag:a,content:\"&#x1f60d;\",selectableFlag:f,adminOnlyFlag:a,displayOrder:r,createdAt:b,updatedAt:b},{id:E,imageFlag:a,content:\"&#x1f628;\",selectableFlag:f,adminOnlyFlag:a,displayOrder:aV,createdAt:b,updatedAt:b},{id:w,imageFlag:a,content:\"&#x1f622;\",selectableFlag:f,adminOnlyFlag:a,displayOrder:aW,createdAt:b,updatedAt:b},{id:P,imageFlag:a,content:\"&#x1f62d;\",selectableFlag:f,adminOnlyFlag:a,displayOrder:af,createdAt:b,updatedAt:b},{id:D,imageFlag:a,content:\"&#x1f623;\",selectableFlag:f,adminOnlyFlag:a,displayOrder:aX,createdAt:b,updatedAt:b},{id:W,imageFlag:a,content:\"&#x1f611;\",selectableFlag:a,adminOnlyFlag:a,displayOrder:90,createdAt:b,updatedAt:b},{id:bd,imageFlag:a,content:\"&#x1f620;\",selectableFlag:a,adminOnlyFlag:a,displayOrder:100,createdAt:b,updatedAt:b},{id:h,imageFlag:a,content:\"&#x1f61d;\",selectableFlag:a,adminOnlyFlag:a,displayOrder:110,createdAt:b,updatedAt:b},{id:aP,imageFlag:a,content:\"&#x1f612;\",selectableFlag:f,adminOnlyFlag:a,displayOrder:120,createdAt:b,updatedAt:b},{id:aQ,imageFlag:a,content:\"&#x1f621;\",selectableFlag:f,adminOnlyFlag:a,displayOrder:130,createdAt:b,updatedAt:b},{id:aB,imageFlag:a,content:\"&#x1f436;\",selectableFlag:f,adminOnlyFlag:a,displayOrder:140,createdAt:b,updatedAt:b},{id:aF,imageFlag:a,content:\"&#x1f431;\",selectableFlag:f,adminOnlyFlag:a,displayOrder:150,createdAt:b,updatedAt:b},{id:ad,imageFlag:a,content:\"&#x1f424;\",selectableFlag:f,adminOnlyFlag:a,displayOrder:160,createdAt:b,updatedAt:b},{id:aU,imageFlag:a,content:\"&#x1f427;\",selectableFlag:a,adminOnlyFlag:a,displayOrder:170,createdAt:b,updatedAt:b},{id:17,imageFlag:a,content:\"&#x1f434;\",selectableFlag:a,adminOnlyFlag:a,displayOrder:180,createdAt:b,updatedAt:b},{id:aI,imageFlag:a,content:\"&#x1f437;\",selectableFlag:a,adminOnlyFlag:a,displayOrder:190,createdAt:b,updatedAt:b},{id:19,imageFlag:a,content:\"\\u003Cspan style=\\\"color:#EF9B11;\\\"\\u003E&#x2600;\\u003C\\u002Fspan\\u003E\",selectableFlag:a,adminOnlyFlag:a,displayOrder:200,createdAt:b,updatedAt:b},{id:X,imageFlag:a,content:\"\\u003Cspan style=\\\"color:#B7C4CF;\\\"\\u003E&#x2601;\\u003C\\u002Fspan\\u003E\",selectableFlag:a,adminOnlyFlag:a,displayOrder:210,createdAt:b,updatedAt:b},{id:aN,imageFlag:a,content:\"\\u003Cspan style=\\\"color:#4BA0F5;\\\"\\u003E&#x2602;\\u003C\\u002Fspan\\u003E\",selectableFlag:a,adminOnlyFlag:a,displayOrder:220,createdAt:b,updatedAt:b},{id:22,imageFlag:a,content:\"&#x26c4;\",selectableFlag:a,adminOnlyFlag:a,displayOrder:230,createdAt:b,updatedAt:b},{id:aM,imageFlag:a,content:\"&#x26a1;\",selectableFlag:a,adminOnlyFlag:a,displayOrder:240,createdAt:b,updatedAt:b},{id:24,imageFlag:a,content:\"\\u003Cspan style=\\\"color:#FF4A57;\\\"\\u003E&#x2764;\\u003C\\u002Fspan\\u003E\",selectableFlag:f,adminOnlyFlag:a,displayOrder:250,createdAt:b,updatedAt:b},{id:25,imageFlag:a,content:\"&#x1f494;\",selectableFlag:f,adminOnlyFlag:a,displayOrder:260,createdAt:b,updatedAt:b},{id:26,imageFlag:a,content:\"&#x1f3b6;\",selectableFlag:f,adminOnlyFlag:a,displayOrder:270,createdAt:b,updatedAt:b},{id:27,imageFlag:a,content:\"\\u003Cspan style=\\\"color:#DC0000;\\\"\\u003E&#x2668;\\u003C\\u002Fspan\\u003E\",selectableFlag:a,adminOnlyFlag:a,displayOrder:280,createdAt:b,updatedAt:b},{id:28,imageFlag:a,content:\"&#x1f48b;\",selectableFlag:a,adminOnlyFlag:a,displayOrder:290,createdAt:b,updatedAt:b},{id:29,imageFlag:a,content:\"&#x2728;\",selectableFlag:a,adminOnlyFlag:a,displayOrder:300,createdAt:b,updatedAt:b},{id:B,imageFlag:a,content:\"&#x1f4a1;\",selectableFlag:a,adminOnlyFlag:a,displayOrder:310,createdAt:b,updatedAt:b},{id:31,imageFlag:a,content:\"&#x1f4a2;\",selectableFlag:f,adminOnlyFlag:a,displayOrder:320,createdAt:b,updatedAt:b},{id:32,imageFlag:a,content:\"&#x1f4a4;\",selectableFlag:a,adminOnlyFlag:a,displayOrder:330,createdAt:b,updatedAt:b},{id:33,imageFlag:a,content:\"&#x1f374;\",selectableFlag:a,adminOnlyFlag:a,displayOrder:340,createdAt:b,updatedAt:b},{id:34,imageFlag:a,content:\"&#x1f381;\",selectableFlag:a,adminOnlyFlag:a,displayOrder:350,createdAt:b,updatedAt:b},{id:aG,imageFlag:a,content:\"&#x1f6f3;\",selectableFlag:a,adminOnlyFlag:a,displayOrder:360,createdAt:b,updatedAt:b},{id:36,imageFlag:a,content:\"&#x1f484;\",selectableFlag:a,adminOnlyFlag:a,displayOrder:370,createdAt:b,updatedAt:b},{id:aT,imageFlag:a,content:\"&#x1f4b0;\",selectableFlag:a,adminOnlyFlag:a,displayOrder:380,createdAt:b,updatedAt:b},{id:38,imageFlag:a,content:\"&#x1f48d;\",selectableFlag:a,adminOnlyFlag:a,displayOrder:390,createdAt:b,updatedAt:b},{id:39,imageFlag:a,content:\"&#x1f382;\",selectableFlag:a,adminOnlyFlag:a,displayOrder:400,createdAt:b,updatedAt:b},{id:Z,imageFlag:a,content:\"&#x1f605;\",selectableFlag:f,adminOnlyFlag:a,displayOrder:410,createdAt:b,updatedAt:b},{id:ae,imageFlag:a,content:\"&#x1f914;\",selectableFlag:f,adminOnlyFlag:a,displayOrder:420,createdAt:b,updatedAt:b},{id:44,imageFlag:a,content:\"&#x1f923;\",selectableFlag:f,adminOnlyFlag:a,displayOrder:430,createdAt:b,updatedAt:b},{id:aC,imageFlag:a,content:\"&#x1f637;\",selectableFlag:f,adminOnlyFlag:a,displayOrder:440,createdAt:b,updatedAt:b},{id:aS,imageFlag:a,content:\"&#x1f62e;\",selectableFlag:f,adminOnlyFlag:a,displayOrder:450,createdAt:b,updatedAt:b},{id:47,imageFlag:a,content:\"&#x1f631;\",selectableFlag:f,adminOnlyFlag:a,displayOrder:460,createdAt:b,updatedAt:b},{id:aA,imageFlag:a,content:\"&#x1f624;\",selectableFlag:f,adminOnlyFlag:a,displayOrder:470,createdAt:b,updatedAt:b},{id:991,imageFlag:f,content:\"\\u002Fimages\\u002Fupload\\u002Femoji\\u002Ficon_edit991.png\",selectableFlag:f,adminOnlyFlag:f,displayOrder:10010,createdAt:b,updatedAt:b},{id:992,imageFlag:f,content:\"\\u002Fimages\\u002Fupload\\u002Femoji\\u002Ficon_edit992.png\",selectableFlag:f,adminOnlyFlag:f,displayOrder:10020,createdAt:b,updatedAt:b},{id:993,imageFlag:f,content:\"\\u002Fimages\\u002Fupload\\u002Femoji\\u002Ficon_edit993.png\",selectableFlag:f,adminOnlyFlag:f,displayOrder:10030,createdAt:b,updatedAt:b},{id:994,imageFlag:f,content:\"\\u002Fimages\\u002Fupload\\u002Femoji\\u002Ficon_edit994.png\",selectableFlag:f,adminOnlyFlag:f,displayOrder:10040,createdAt:b,updatedAt:b},{id:995,imageFlag:f,content:\"\\u002Fimages\\u002Fupload\\u002Femoji\\u002Ficon_edit995.png\",selectableFlag:f,adminOnlyFlag:f,displayOrder:10050,createdAt:b,updatedAt:b},{id:996,imageFlag:f,content:\"\\u002Fimages\\u002Fupload\\u002Femoji\\u002Ficon_edit996.png\",selectableFlag:f,adminOnlyFlag:f,displayOrder:10060,createdAt:b,updatedAt:b},{id:997,imageFlag:f,content:\"\\u002Fimages\\u002Fupload\\u002Femoji\\u002Ficon_edit997.png\",selectableFlag:f,adminOnlyFlag:f,displayOrder:10070,createdAt:b,updatedAt:b},{id:998,imageFlag:f,content:\"\\u002Fimages\\u002Fupload\\u002Femoji\\u002Ficon_edit998.png\",selectableFlag:f,adminOnlyFlag:f,displayOrder:10080,createdAt:b,updatedAt:b},{id:999,imageFlag:f,content:\"\\u002Fimages\\u002Fupload\\u002Femoji\\u002Ficon_edit999.png\",selectableFlag:f,adminOnlyFlag:f,displayOrder:10090,createdAt:b,updatedAt:b},{id:O,imageFlag:f,content:\"\\u002Fimages\\u002Fupload\\u002Femoji\\u002Ficon_edit000.png\",selectableFlag:f,adminOnlyFlag:a,displayOrder:100000,createdAt:b,updatedAt:b}]}},contents:{getInformations:{result:F,informations:[]},getAppeals:{result:F,appeals:[]},getPrefectures:{prefectures:[]},getPartnerFeeds:{result:g,count:d,currentPage:d,lastPage:d,totalCount:g,feed:{}},getFujinkoronFeeds:{result:g,count:d,currentPage:d,lastPage:d,totalCount:g,feed:c},getNews:{loaded:a,news:[]},interfaces:{getPartnerFeedsParams:{}}},articles:{getArticles:{result:g,count:d,currentPage:d,totalCount:d,articles:[]},getArticlesForDetail:{loaded:a,result:g,count:d,currentPage:d,totalCount:d,articles:[]},getArticlesCorners:{result:F,corners:[{id:W,name:\"小町ニュース\",path:\"news\",displayOrder:h,targetType:d,keywords:\"発言小町,小町,発言,名作,読売新聞,こまち,投稿,記事,一覧,トピック,悩み,相談,反応,口コミ,名作,ニュース\",description:\"「発言小町」で話題の投稿は「ニュース」そのもの。最新のトレンド、みんなで考えたい気になるトピックについてお伝えします。\",nondisplayFlag:a,createdAt:b,updatedAt:ai,deletedAt:c},{id:e,name:\"小町VOTE\",path:\"vote\",displayOrder:X,targetType:d,keywords:\"発言小町,小町,発言,名作,読売新聞,こまち,投稿,記事,一覧,トピック,悩み,相談,反応,口コミ,名作,投票,vote\",description:\"「発言小町」の投稿からみんなの意見をお尋ねしたいトピックを、編集部がセレクト。投票結果をご紹介します。\",nondisplayFlag:a,createdAt:b,updatedAt:ai,deletedAt:c},{id:E,name:\"ヒストリー\",path:\"history\",displayOrder:B,targetType:d,keywords:\"発言小町,小町,発言,名作,読売新聞,こまち,投稿,記事,一覧,トピック,悩み,相談,反応,口コミ,名作,投票,大賞,ベストトピ,15周年,20周年,ヒストリー,歴史\",description:\"１９９９年に誕生した掲示板サイト・発言小町の「これまで」がわかる記事を掲載しています。\",nondisplayFlag:a,createdAt:b,updatedAt:ai,deletedAt:c},{id:s,name:\"発言小町大賞\",path:\"awards\",displayOrder:r,targetType:h,keywords:\"発言小町,小町,発言,名作,読売新聞,こまち,投稿,記事,一覧,トピック,悩み,相談,反応,口コミ,名作,投票,大賞,ベストトピ,涙ぽろり,胸キュン\",description:\"年間に投稿されたトピックの中から、一番心に残ったトピックを選ぶ「発言小町大賞」。読者投票を基に、編集部が選びます。\",nondisplayFlag:a,createdAt:b,updatedAt:\"2021-12-03T01:42:39Z\",deletedAt:c},{id:bd,name:\"お知らせ\",path:\"info\",displayOrder:af,targetType:h,keywords:\"発言小町,編集部,お知らせ,インフォメーション\",description:\"発言小町編集部からのお知らせです。\",nondisplayFlag:a,createdAt:\"2021-06-17T02:44:35Z\",updatedAt:\"2021-10-19T04:47:43Z\",deletedAt:c}]},getArticle:{result:g,article:c},getArticleTags:{tags:[]},getArticleRelatedTopics:{loaded:a,result:g,count:d,currentPage:d,lastPage:d,totalCount:d,topics:[]},getArticlesForRightbar:{result:g,count:d,currentPage:d,totalCount:d,articles:[]},interfaces:{getArticleRelatedTopicsParams:{}}}},serverRendered:f,routePath:\"\\u002Ftopics\\u002Fgenre\\u002Flife\\u002F\",config:{API_BASE_URL:aY,API_BASE_URL_LOCAL:aZ,OCP_APIM_SUBSCRIPTION_KEY_VALUE:a_,_app:{basePath:\"\\u002F\",assetsPath:\"\\u002F_nuxt\\u002F\",cdnURL:c}}}}(false,\"2021-05-31T15:00:00Z\",null,0,1,true,\"\",10,\"生活・身近な話題\",\"話題\",\"life\",\"\\u002Fimages\\u002Fupload\\u002Ficon\\u002Ficon_new01.png\",\"勘違い,非常識,むかつく,非課税世帯,新札,ずるい,事故,やばい,騒音,方言\",\"2021-12-07T04:14:34Z\",\"2021-09-16T04:22:37Z\",3,\"2021-09-16T04:30:15Z\",40,2,\"31\",\"住まい\",\"340\",5,\"5\",\"５０代以上\",\"50\",\"70\",30,\"仕事\",7,4,\"000\",\"41\",\"マナー\",\"380\",\"260\",\"2021-09-16T04:19:32Z\",\"8\",\"子ども\",\"80\",41,6,\"3\",\"３０代\",\"30\",\"4\",\"４０代\",\"40\",8,20,\"updated\",42,\"10\",\"2022-01-31T13:08:32Z\",\"2\",\"２０代\",\"20\",15,43,70,\"description\",\"keywords\",\"2021-05-28T06:46:20Z\",\"2022-01-31T12:58:18Z\",\"2022-01-31T12:21:29Z\",\"25\",\"お金\",\"300\",\"2022-01-31T11:57:59Z\",\"2022-01-31T11:48:32Z\",\"2022-01-31T10:59:38Z\",\"2022-01-31T11:07:31Z\",\"2022-01-31T10:55:55Z\",\"2022-01-31T10:48:32Z\",\"1\",\"１０代\",\"2022-01-31T10:20:14Z\",\"2022-01-31T10:10:53Z\",\"2022-01-31T10:04:51Z\",\"2022-01-31T09:55:31Z\",48,13,45,\"2022-01-29T03:06:27Z\",\"恋愛\",14,35,\"2022-01-31T02:15:00Z\",18,\"さくら\",\"7\",\"夫\",23,21,\"2022-01-31T08:14:28Z\",11,12,\"2022-01-31T07:43:29Z\",46,37,16,50,60,80,\"https:\\u002F\\u002Fkomachi.yomiuri.co.jp\",\"http:\\u002F\\u002Flocalhost:8180\",\"7745b5aa1f0f4b55ab793a2655adc0d1\",\"話題：日常の小さな疑問から一世一代の出来事まで何でもどうぞ。\",\"og:title\",\"新着一覧 | 生活・身近な話題 | 発言小町\",\"og:description\",9));</script><script defer=\"\" src=\"/_nuxt/runtime_202201270233.js\"></script><script defer=\"\" src=\"/_nuxt/layouts/default_202201270233.js\"></script><script defer=\"\" src=\"/_nuxt/159_202201270233.js\"></script><script defer=\"\" src=\"/_nuxt/33_202201270233.js\"></script><script defer=\"\" src=\"/_nuxt/226_202201270233.js\"></script><script defer=\"\" src=\"/_nuxt/164_202201270233.js\"></script><script defer=\"\" src=\"/_nuxt/220_202201270233.js\"></script><script defer=\"\" src=\"/_nuxt/201_202201270233.js\"></script><script defer=\"\" src=\"/_nuxt/161_202201270233.js\"></script><script defer=\"\" src=\"/_nuxt/229_202201270233.js\"></script><script defer=\"\" src=\"/_nuxt/pages/topics/genre/_genrePath/index_202201270233.js\"></script><script defer=\"\" src=\"/_nuxt/9_202201270233.js\"></script><script defer=\"\" src=\"/_nuxt/2_202201270233.js\"></script><script defer=\"\" src=\"/_nuxt/10_202201270233.js\"></script><script defer=\"\" src=\"/_nuxt/16_202201270233.js\"></script><script defer=\"\" src=\"/_nuxt/44_202201270233.js\"></script><script defer=\"\" src=\"/_nuxt/6_202201270233.js\"></script><script defer=\"\" src=\"/_nuxt/214_202201270233.js\"></script><script defer=\"\" src=\"/_nuxt/221_202201270233.js\"></script><script defer=\"\" src=\"/_nuxt/231_202201270233.js\"></script><script defer=\"\" src=\"/_nuxt/21_202201270233.js\"></script><script defer=\"\" src=\"/_nuxt/22_202201270233.js\"></script><script defer=\"\" src=\"/_nuxt/222_202201270233.js\"></script><script defer=\"\" src=\"/_nuxt/232_202201270233.js\"></script><script defer=\"\" src=\"/_nuxt/184_202201270233.js\"></script><script defer=\"\" src=\"/_nuxt/223_202201270233.js\"></script><script defer=\"\" src=\"/_nuxt/1_202201270233.js\"></script><script defer=\"\" src=\"/_nuxt/160_202201270233.js\"></script><script defer=\"\" src=\"/_nuxt/227_202201270233.js\"></script><script defer=\"\" src=\"/_nuxt/185_202201270233.js\"></script><script defer=\"\" src=\"/_nuxt/217_202201270233.js\"></script><script defer=\"\" src=\"/_nuxt/272_202201270233.js\"></script><script defer=\"\" src=\"/_nuxt/273_202201270233.js\"></script><script defer=\"\" src=\"/_nuxt/230_202201270233.js\"></script><script defer=\"\" src=\"/_nuxt/237_202201270233.js\"></script><script defer=\"\" src=\"/_nuxt/218_202201270233.js\"></script><script defer=\"\" src=\"/_nuxt/239_202201270233.js\"></script><script defer=\"\" src=\"/_nuxt/276_202201270233.js\"></script><script defer=\"\" src=\"/_nuxt/278_202201270233.js\"></script><script defer=\"\" src=\"/_nuxt/238_202201270233.js\"></script><script defer=\"\" src=\"/_nuxt/225_202201270233.js\"></script><script defer=\"\" src=\"/_nuxt/279_202201270233.js\"></script><script defer=\"\" src=\"/_nuxt/274_202201270233.js\"></script><script defer=\"\" src=\"/_nuxt/228_202201270233.js\"></script><script defer=\"\" src=\"/_nuxt/176_202201270233.js\"></script><script defer=\"\" src=\"/_nuxt/200_202201270233.js\"></script><script defer=\"\" src=\"/_nuxt/vendors/app_202201270233.js\"></script><script defer=\"\" src=\"/_nuxt/app_202201270233.js\"></script><script async=\"\" data-body=\"true\" data-n-head=\"ssr\" id=\"footScript\" src=\"//api.popin.cc/searchbox/komachi_yomiuri_2021.js\"></script></body></html>\n"
     ]
    }
   ],
   "source": [
    "\n",
    "import requests\n",
    "from bs4 import BeautifulSoup\n",
    "\n",
    "def main():\n",
    "#    params = {\n",
    "#        'keyword': 'おじさん',\n",
    "#        'ym': '202201',\n",
    "#    }\n",
    "    url = 'https://komachi.yomiuri.co.jp/topics/genre/life/'\n",
    "    res = requests.get(url)#, params=params\n",
    "    content = res.content\n",
    "\n",
    "    soup = BeautifulSoup(content,'html.parser')\n",
    "    #全スポンサーの情報が含まれているdiv要素取得\n",
    "    articles = soup.find_all('div',class_='p-topiList__itemLink')\n",
    "    #スポンサー情報から値を取り出している。最初にURLとって次にスポンサーの名前\n",
    "    for article in articles:\n",
    "        kiji=article.h1.a['href']\n",
    "        #name = article.h1.text\n",
    "        print(kiji)\n",
    "\n",
    "#    event_info = r.json()  # レスポンスのJSONを変換\n",
    "\n",
    "#    print('件数:', event_info['results_returned'])  # 件数を表示\n",
    "#    for event in event_info['events']:\n",
    "#        print(event['title'])\n",
    "#        print(event['started_at'])\n",
    "\n",
    "if __name__ == '__main__':\n",
    "    main()\n",
    "    \n",
    "import requests\n",
    "from bs4 import BeautifulSoup\n",
    "url = 'https://komachi.yomiuri.co.jp/topics/genre/life/'\n",
    "r = requests.get(url)\n",
    "soup = BeautifulSoup(r.content,'html.parser')\n",
    "soup.title\n",
    "soup.title.name\n",
    "print(soup)"
   ]
  },
  {
   "cell_type": "code",
   "execution_count": 36,
   "id": "96a6d11a",
   "metadata": {},
   "outputs": [
    {
     "name": "stdout",
     "output_type": "stream",
     "text": [
      "\n",
      "        若い女性の態度に腹がたち意地悪してしまいました\n",
      "      \n",
      "None\n"
     ]
    }
   ],
   "source": [
    "#find_all できないね\n",
    "print(soup.find('h1',class_='p-topiList__itemContentTitle').text)\n",
    "print(soup.find(\".topicslist .hd a\"))"
   ]
  },
  {
   "cell_type": "code",
   "execution_count": 44,
   "id": "33d78f73",
   "metadata": {},
   "outputs": [
    {
     "ename": "IndentationError",
     "evalue": "expected an indented block (4154276424.py, line 6)",
     "output_type": "error",
     "traceback": [
      "\u001b[0;36m  File \u001b[0;32m\"/var/folders/7g/cr3jlst110q6l21dbfw7hmjr0000gn/T/ipykernel_59986/4154276424.py\"\u001b[0;36m, line \u001b[0;32m6\u001b[0m\n\u001b[0;31m    url = div.h1.a['href']\u001b[0m\n\u001b[0m      ^\u001b[0m\n\u001b[0;31mIndentationError\u001b[0m\u001b[0;31m:\u001b[0m expected an indented block\n"
     ]
    }
   ],
   "source": [
    "content = soup.find(class_=\"entry-content\")\n",
    "print(content)\n",
    "\n",
    "for element in soup.find_all(\"a\"):    # すべてのh1タグを検索して表示\n",
    "    #print(element.text)\n",
    "url = div.h1.a['href']\n",
    "print(url)"
   ]
  },
  {
   "cell_type": "code",
   "execution_count": null,
   "id": "b55a337d",
   "metadata": {},
   "outputs": [],
   "source": [
    "\n"
   ]
  },
  {
   "cell_type": "code",
   "execution_count": null,
   "id": "cca06234",
   "metadata": {},
   "outputs": [],
   "source": []
  },
  {
   "cell_type": "code",
   "execution_count": 93,
   "id": "58aebc40",
   "metadata": {},
   "outputs": [
    {
     "name": "stdout",
     "output_type": "stream",
     "text": [
      "40代、5歳の子を持つ主婦です。夫は会社員ですが、自分達が食べる分くらいのお米を作っています。タイトルの友達とは中学時代から20年以上の付き合いになります。彼女も主婦で3人の子供がいます。数年前からその友達がうちからお米を買うようになって新米ができると連絡して取りに来てもらっていました。1年分まとめて買ってもらうので、スーパーなどで買うよりはだいぶ安い値段にしています。去年の9月も新米ができたと連絡し取りに来てもらうことになっていました。ところがお米を取りに来る前日に友達から「明日うちの旦那が釣りに出かけていないから良かったら遊びに来ない？」と LINEがあったので遊びに行くことにし、ついでにお米も持っていくことにしたんです。当日お米と手土産のケーキを持って友達の家に向かい、腰が痛いという友達の代わりに30kgの米袋5袋を車から家に運びました。友達の子供達とうちの子は久しぶりの対面に嬉しそうで一緒に走り回っていました。ここまではいいのですが、着いてからお茶のひとつも出てきません。招待しておいてお茶も出さないの？とちょっとモヤモヤした気持ちになりました。久しぶりにおしゃべりしよ〜！という割には会話は弾まないしなにも出ないし走り回っていた子供が喉が乾いたようなので1時間も経たないくらいで帰ることにしました。するとその友達が一言、「何のお構いもしませんで〜。」きっと最初からお茶を出す気はなかったんですね…今まで遊びに行ってそんな対応をされたことがなかったのでモヤモヤと共にショックでした。お米を安くしていることにも手土産を持っていったことにもお米を運んだことにもお礼の言葉がなかったことにもモヤモヤ…私は仲のいい友達と認識していましたが友達はそうは思っていなかったのかも？今後の付き合い方をどうすればいいのか悩んでいます。\n"
     ]
    },
    {
     "data": {
      "text/plain": [
       "<function TextIOWrapper.close()>"
      ]
     },
     "execution_count": 93,
     "metadata": {},
     "output_type": "execute_result"
    }
   ],
   "source": [
    "    \n",
    "load_url = 'https://komachi.yomiuri.co.jp/topics/id/1048192/'\n",
    "html = requests.get(load_url)\n",
    "soup=BeautifulSoup(html.content,\"html.parser\")\n",
    "\n",
    "topic = soup.find(class_ = 'topicsId__articleContentText')\n",
    "#for element in topic.find_all(\"br\"):\n",
    " #   print(element.text)\n",
    "print(topic.text)\n",
    "f = open('komachi.txt', 'w')\n",
    "\n",
    "f.write(soup.find(class_ = 'topicsId__articleContentText').text)\n",
    "f.close"
   ]
  },
  {
   "cell_type": "code",
   "execution_count": 97,
   "id": "2f51a0fc",
   "metadata": {},
   "outputs": [
    {
     "name": "stdout",
     "output_type": "stream",
     "text": [
      "40代、5歳の子を持つ主婦です。夫は会社員ですが、自分達が食べる分くらいのお米を作っています。タイトルの友達とは中学時代から20年以上の付き合いになります。彼女も主婦で3人の子供がいます。数年前からその友達がうちからお米を買うようになって新米ができると連絡して取りに来てもらっていました。1年分まとめて買ってもらうので、スーパーなどで買うよりはだいぶ安い値段にしています。去年の9月も新米ができたと連絡し取りに来てもらうことになっていました。ところがお米を取りに来る前日に友達から「明日うちの旦那が釣りに出かけていないから良かったら遊びに来ない？」と LINEがあったので遊びに行くことにし、ついでにお米も持っていくことにしたんです。当日お米と手土産のケーキを持って友達の家に向かい、腰が痛いという友達の代わりに30kgの米袋5袋を車から家に運びました。友達の子供達とうちの子は久しぶりの対面に嬉しそうで一緒に走り回っていました。ここまではいいのですが、着いてからお茶のひとつも出てきません。招待しておいてお茶も出さないの？とちょっとモヤモヤした気持ちになりました。久しぶりにおしゃべりしよ〜！という割には会話は弾まないしなにも出ないし走り回っていた子供が喉が乾いたようなので1時間も経たないくらいで帰ることにしました。するとその友達が一言、「何のお構いもしませんで〜。」きっと最初からお茶を出す気はなかったんですね…今まで遊びに行ってそんな対応をされたことがなかったのでモヤモヤと共にショックでした。お米を安くしていることにも手土産を持っていったことにもお米を運んだことにもお礼の言葉がなかったことにもモヤモヤ…私は仲のいい友達と認識していましたが友達はそうは思っていなかったのかも？今後の付き合い方をどうすればいいのか悩んでいます。\n",
      "---追記前--\n",
      "地方暮らしの29歳。娘二人、婿旦那、両親、祖母と4世代7人暮らしです私の家は地方の兼業農家で、今の田畑はそんなに多くはないのですが、江戸時代から続く家で、私はその家の三姉妹の末っ子です子供の頃から三人の内、誰かが婿を取って、家を継いで欲しいと言われてきました。上の姉は早々に結婚して、年子の姉も東京で就職し、地元に戻る気はないと言っていたので、私は専門学校卒業後、地元に戻って就職し、結婚相談所で紹介された旦那と24歳で結婚しました旦那は7歳年上で、知り合った当初は婿に入るのに難色を示していたのですが、結婚してからは、子煩悩で、真面目に仕事もしてくれるし、土日休日は両親や私と一緒に田んぼや畑もしてくれます去年、コロナの影響で、東京で働いていた姉が帰ってきました。すぐに東京に戻って再就職するだろうと考えていたのですが、無職のまま、既に1年以上経っています姉の「男の子産まないの？」「二世帯住宅にすればいいのに」など、我が家の経済状況を無視した無神経なイライラ話や「こっちで結婚しようかな。誰か紹介してよ」などの現実離れした話も我慢して来ました。でも、先週、とうとう爆発してしまいました旦那が風呂上りに風呂場から私たちの部屋まで半裸で動き回るのが気に入らないと言い出したのです私も「気に入らないんだったら、出てけば」「ここはもうあんたの家じゃないの」「30にもなって、仕事も貯金もなくて、結婚もできないくせに、なに言ってんのよ」と応戦してしまいましたその日は、旦那のとりなしもあったので、怒りを鎮めましたが、上の姉から電話があり「あんまり、下の姉を責めないで」という言葉と私を咎める話を聞いて、本当に全てが嫌になりました絶対姉を追い出したいです。我慢できません。どうすればいいでしょうか？追い出せないんだったら、私たちが出ていこうと思っています地方暮らしの29歳。娘二人、婿旦那、両親、祖母と4世代7人暮らしです私の家は地方の兼業農家で、今の田畑はそんなに多くはないのですが、江戸時代から続く家で、私はその家の三姉妹の末っ子です子供の頃から三人の内、誰かが婿を取って、家を継いで欲しいと言われてきました。上の姉は早々に結婚して、年子の姉も東京で就職し、地元に戻る気はないと言っていたので、私は専門学校卒業後、地元に戻って就職し、結婚相談所で紹介された旦那と24歳で結婚しました旦那は7歳年上で、知り合った当初は婿に入るのに難色を示していたのですが、結婚してからは、子煩悩で、真面目に仕事もしてくれるし、土日休日は両親や私と一緒に田んぼや畑もしてくれます去年、コロナの影響で、東京で働いていた姉が帰ってきました。すぐに東京に戻って再就職するだろうと考えていたのですが、無職のまま、既に1年以上経っています姉の「男の子産まないの？」「二世帯住宅にすればいいのに」など、我が家の経済状況を無視した無神経なイライラ話や「こっちで結婚しようかな。誰か紹介してよ」などの現実離れした話も我慢して来ました。でも、先週、とうとう爆発してしまいました旦那が風呂上りに風呂場から私たちの部屋まで半裸で動き回るのが気に入らないと言い出したのです私も「気に入らないんだったら、出てけば」「ここはもうあんたの家じゃないの」「30にもなって、仕事も貯金もなくて、結婚もできないくせに、なに言ってんのよ」と応戦してしまいましたその日は、旦那のとりなしもあったので、怒りを鎮めましたが、上の姉から電話があり「あんまり、下の姉を責めないで」という言葉と私を咎める話を聞いて、本当に全てが嫌になりました絶対姉を追い出したいです。我慢できません。どうすればいいでしょうか？追い出せないんだったら、私たちが出ていこうと思っています地方暮らしの29歳。娘二人、婿旦那、両親、祖母と4世代7人暮らしです私の家は地方の兼業農家で、今の田畑はそんなに多くはないのですが、江戸時代から続く家で、私はその家の三姉妹の末っ子です子供の頃から三人の内、誰かが婿を取って、家を継いで欲しいと言われてきました。上の姉は早々に結婚して、年子の姉も東京で就職し、地元に戻る気はないと言っていたので、私は専門学校卒業後、地元に戻って就職し、結婚相談所で紹介された旦那と24歳で結婚しました旦那は7歳年上で、知り合った当初は婿に入るのに難色を示していたのですが、結婚してからは、子煩悩で、真面目に仕事もしてくれるし、土日休日は両親や私と一緒に田んぼや畑もしてくれます去年、コロナの影響で、東京で働いていた姉が帰ってきました。すぐに東京に戻って再就職するだろうと考えていたのですが、無職のまま、既に1年以上経っています姉の「男の子産まないの？」「二世帯住宅にすればいいのに」など、我が家の経済状況を無視した無神経なイライラ話や「こっちで結婚しようかな。誰か紹介してよ」などの現実離れした話も我慢して来ました。でも、先週、とうとう爆発してしまいました旦那が風呂上りに風呂場から私たちの部屋まで半裸で動き回るのが気に入らないと言い出したのです私も「気に入らないんだったら、出てけば」「ここはもうあんたの家じゃないの」「30にもなって、仕事も貯金もなくて、結婚もできないくせに、なに言ってんのよ」と応戦してしまいましたその日は、旦那のとりなしもあったので、怒りを鎮めましたが、上の姉から電話があり「あんまり、下の姉を責めないで」という言葉と私を咎める話を聞いて、本当に全てが嫌になりました絶対姉を追い出したいです。我慢できません。どうすればいいでしょうか？追い出せないんだったら、私たちが出ていこうと思っています\n",
      "<_io.TextIOWrapper name='komachi.txt' mode='a' encoding='UTF-8'>\n"
     ]
    }
   ],
   "source": [
    "load_url = 'https://komachi.yomiuri.co.jp/topics/id/1048192/'\n",
    "html = requests.get(load_url)\n",
    "soup=BeautifulSoup(html.content,\"html.parser\")\n",
    "\n",
    "topic = soup.find(class_ = 'topicsId__articleContentText')\n",
    "#for element in topic.find_all(\"br\"):\n",
    " #   print(element.text)\n",
    "print(topic.text)\n",
    "\n",
    "print('---追記前--')\n",
    "with open('komachi.txt','r') as f:\n",
    "    print(f.read())\n",
    "with open('komachi.txt', 'a') as f:\n",
    "#f.writelines(topic.text)\n",
    "    f.write(soup.find(class_ = 'topicsId__articleContentText').text)\n",
    "    print(f)\n",
    "    f.close"
   ]
  },
  {
   "cell_type": "code",
   "execution_count": 98,
   "id": "72502329",
   "metadata": {},
   "outputs": [
    {
     "name": "stdout",
     "output_type": "stream",
     "text": [
      "交際2年の彼女からもう泊まりに来ないでと言われました。当方35歳です。付き合ってからほぼ毎週末、彼女の家で過ごしていました。喧嘩もなくとても仲良くしてきたと思っています。先日彼女から泊まり拒否の申し出を受け、理由を聞いたところ結婚もしていないのに毎週末男性が部屋に出入りするのは世間的にも良くないと思う。少しだけ離れて距離を保った付き合いをしたい。と言われました。聞いた時は彼女の気持ちが冷めたのかとショックでしたが、それ以降も会えば今まで通りの彼女ですし、心変わりなどもなさそうです。僕が家へ帰るときも、彼女は寂しそうにしています。好きで一緒にいたいのに泊まりの拒否をする彼女の気持があまり理解できません。小町の皆様、彼女の気持ちを教えてください。また、どうすれば以前のように泊まりを含めたデートができるようになるでしょうか。よろしくお願いします。\n",
      "---追記前--\n",
      "地方暮らしの29歳。娘二人、婿旦那、両親、祖母と4世代7人暮らしです私の家は地方の兼業農家で、今の田畑はそんなに多くはないのですが、江戸時代から続く家で、私はその家の三姉妹の末っ子です子供の頃から三人の内、誰かが婿を取って、家を継いで欲しいと言われてきました。上の姉は早々に結婚して、年子の姉も東京で就職し、地元に戻る気はないと言っていたので、私は専門学校卒業後、地元に戻って就職し、結婚相談所で紹介された旦那と24歳で結婚しました旦那は7歳年上で、知り合った当初は婿に入るのに難色を示していたのですが、結婚してからは、子煩悩で、真面目に仕事もしてくれるし、土日休日は両親や私と一緒に田んぼや畑もしてくれます去年、コロナの影響で、東京で働いていた姉が帰ってきました。すぐに東京に戻って再就職するだろうと考えていたのですが、無職のまま、既に1年以上経っています姉の「男の子産まないの？」「二世帯住宅にすればいいのに」など、我が家の経済状況を無視した無神経なイライラ話や「こっちで結婚しようかな。誰か紹介してよ」などの現実離れした話も我慢して来ました。でも、先週、とうとう爆発してしまいました旦那が風呂上りに風呂場から私たちの部屋まで半裸で動き回るのが気に入らないと言い出したのです私も「気に入らないんだったら、出てけば」「ここはもうあんたの家じゃないの」「30にもなって、仕事も貯金もなくて、結婚もできないくせに、なに言ってんのよ」と応戦してしまいましたその日は、旦那のとりなしもあったので、怒りを鎮めましたが、上の姉から電話があり「あんまり、下の姉を責めないで」という言葉と私を咎める話を聞いて、本当に全てが嫌になりました絶対姉を追い出したいです。我慢できません。どうすればいいでしょうか？追い出せないんだったら、私たちが出ていこうと思っています地方暮らしの29歳。娘二人、婿旦那、両親、祖母と4世代7人暮らしです私の家は地方の兼業農家で、今の田畑はそんなに多くはないのですが、江戸時代から続く家で、私はその家の三姉妹の末っ子です子供の頃から三人の内、誰かが婿を取って、家を継いで欲しいと言われてきました。上の姉は早々に結婚して、年子の姉も東京で就職し、地元に戻る気はないと言っていたので、私は専門学校卒業後、地元に戻って就職し、結婚相談所で紹介された旦那と24歳で結婚しました旦那は7歳年上で、知り合った当初は婿に入るのに難色を示していたのですが、結婚してからは、子煩悩で、真面目に仕事もしてくれるし、土日休日は両親や私と一緒に田んぼや畑もしてくれます去年、コロナの影響で、東京で働いていた姉が帰ってきました。すぐに東京に戻って再就職するだろうと考えていたのですが、無職のまま、既に1年以上経っています姉の「男の子産まないの？」「二世帯住宅にすればいいのに」など、我が家の経済状況を無視した無神経なイライラ話や「こっちで結婚しようかな。誰か紹介してよ」などの現実離れした話も我慢して来ました。でも、先週、とうとう爆発してしまいました旦那が風呂上りに風呂場から私たちの部屋まで半裸で動き回るのが気に入らないと言い出したのです私も「気に入らないんだったら、出てけば」「ここはもうあんたの家じゃないの」「30にもなって、仕事も貯金もなくて、結婚もできないくせに、なに言ってんのよ」と応戦してしまいましたその日は、旦那のとりなしもあったので、怒りを鎮めましたが、上の姉から電話があり「あんまり、下の姉を責めないで」という言葉と私を咎める話を聞いて、本当に全てが嫌になりました絶対姉を追い出したいです。我慢できません。どうすればいいでしょうか？追い出せないんだったら、私たちが出ていこうと思っています地方暮らしの29歳。娘二人、婿旦那、両親、祖母と4世代7人暮らしです私の家は地方の兼業農家で、今の田畑はそんなに多くはないのですが、江戸時代から続く家で、私はその家の三姉妹の末っ子です子供の頃から三人の内、誰かが婿を取って、家を継いで欲しいと言われてきました。上の姉は早々に結婚して、年子の姉も東京で就職し、地元に戻る気はないと言っていたので、私は専門学校卒業後、地元に戻って就職し、結婚相談所で紹介された旦那と24歳で結婚しました旦那は7歳年上で、知り合った当初は婿に入るのに難色を示していたのですが、結婚してからは、子煩悩で、真面目に仕事もしてくれるし、土日休日は両親や私と一緒に田んぼや畑もしてくれます去年、コロナの影響で、東京で働いていた姉が帰ってきました。すぐに東京に戻って再就職するだろうと考えていたのですが、無職のまま、既に1年以上経っています姉の「男の子産まないの？」「二世帯住宅にすればいいのに」など、我が家の経済状況を無視した無神経なイライラ話や「こっちで結婚しようかな。誰か紹介してよ」などの現実離れした話も我慢して来ました。でも、先週、とうとう爆発してしまいました旦那が風呂上りに風呂場から私たちの部屋まで半裸で動き回るのが気に入らないと言い出したのです私も「気に入らないんだったら、出てけば」「ここはもうあんたの家じゃないの」「30にもなって、仕事も貯金もなくて、結婚もできないくせに、なに言ってんのよ」と応戦してしまいましたその日は、旦那のとりなしもあったので、怒りを鎮めましたが、上の姉から電話があり「あんまり、下の姉を責めないで」という言葉と私を咎める話を聞いて、本当に全てが嫌になりました絶対姉を追い出したいです。我慢できません。どうすればいいでしょうか？追い出せないんだったら、私たちが出ていこうと思っています40代、5歳の子を持つ主婦です。夫は会社員ですが、自分達が食べる分くらいのお米を作っています。タイトルの友達とは中学時代から20年以上の付き合いになります。彼女も主婦で3人の子供がいます。数年前からその友達がうちからお米を買うようになって新米ができると連絡して取りに来てもらっていました。1年分まとめて買ってもらうので、スーパーなどで買うよりはだいぶ安い値段にしています。去年の9月も新米ができたと連絡し取りに来てもらうことになっていました。ところがお米を取りに来る前日に友達から「明日うちの旦那が釣りに出かけていないから良かったら遊びに来ない？」と LINEがあったので遊びに行くことにし、ついでにお米も持っていくことにしたんです。当日お米と手土産のケーキを持って友達の家に向かい、腰が痛いという友達の代わりに30kgの米袋5袋を車から家に運びました。友達の子供達とうちの子は久しぶりの対面に嬉しそうで一緒に走り回っていました。ここまではいいのですが、着いてからお茶のひとつも出てきません。招待しておいてお茶も出さないの？とちょっとモヤモヤした気持ちになりました。久しぶりにおしゃべりしよ〜！という割には会話は弾まないしなにも出ないし走り回っていた子供が喉が乾いたようなので1時間も経たないくらいで帰ることにしました。するとその友達が一言、「何のお構いもしませんで〜。」きっと最初からお茶を出す気はなかったんですね…今まで遊びに行ってそんな対応をされたことがなかったのでモヤモヤと共にショックでした。お米を安くしていることにも手土産を持っていったことにもお米を運んだことにもお礼の言葉がなかったことにもモヤモヤ…私は仲のいい友達と認識していましたが友達はそうは思っていなかったのかも？今後の付き合い方をどうすればいいのか悩んでいます。\n",
      "<_io.TextIOWrapper name='komachi.txt' mode='a' encoding='UTF-8'>\n"
     ]
    }
   ],
   "source": [
    "load_url = 'https://komachi.yomiuri.co.jp/topics/id/1047971/'\n",
    "html = requests.get(load_url)\n",
    "soup=BeautifulSoup(html.content,\"html.parser\")\n",
    "\n",
    "topic = soup.find(class_ = 'topicsId__articleContentText')\n",
    "#for element in topic.find_all(\"br\"):\n",
    " #   print(element.text)\n",
    "print(topic.text)\n",
    "\n",
    "print('---追記前--')\n",
    "with open('komachi.txt','r') as f:\n",
    "    print(f.read())\n",
    "with open('komachi.txt', 'a') as f:\n",
    "#f.writelines(topic.text)\n",
    "    f.write(soup.find(class_ = 'topicsId__articleContentText').text)\n",
    "    print(f)\n",
    "    f.close"
   ]
  },
  {
   "cell_type": "code",
   "execution_count": 99,
   "id": "16b7d4e2",
   "metadata": {},
   "outputs": [
    {
     "name": "stdout",
     "output_type": "stream",
     "text": [
      "交際2年の彼女からもう泊まりに来ないでと言われました。当方35歳です。付き合ってからほぼ毎週末、彼女の家で過ごしていました。喧嘩もなくとても仲良くしてきたと思っています。先日彼女から泊まり拒否の申し出を受け、理由を聞いたところ結婚もしていないのに毎週末男性が部屋に出入りするのは世間的にも良くないと思う。少しだけ離れて距離を保った付き合いをしたい。と言われました。聞いた時は彼女の気持ちが冷めたのかとショックでしたが、それ以降も会えば今まで通りの彼女ですし、心変わりなどもなさそうです。僕が家へ帰るときも、彼女は寂しそうにしています。好きで一緒にいたいのに泊まりの拒否をする彼女の気持があまり理解できません。小町の皆様、彼女の気持ちを教えてください。また、どうすれば以前のように泊まりを含めたデートができるようになるでしょうか。よろしくお願いします。\n",
      "---追記前--\n",
      "地方暮らしの29歳。娘二人、婿旦那、両親、祖母と4世代7人暮らしです私の家は地方の兼業農家で、今の田畑はそんなに多くはないのですが、江戸時代から続く家で、私はその家の三姉妹の末っ子です子供の頃から三人の内、誰かが婿を取って、家を継いで欲しいと言われてきました。上の姉は早々に結婚して、年子の姉も東京で就職し、地元に戻る気はないと言っていたので、私は専門学校卒業後、地元に戻って就職し、結婚相談所で紹介された旦那と24歳で結婚しました旦那は7歳年上で、知り合った当初は婿に入るのに難色を示していたのですが、結婚してからは、子煩悩で、真面目に仕事もしてくれるし、土日休日は両親や私と一緒に田んぼや畑もしてくれます去年、コロナの影響で、東京で働いていた姉が帰ってきました。すぐに東京に戻って再就職するだろうと考えていたのですが、無職のまま、既に1年以上経っています姉の「男の子産まないの？」「二世帯住宅にすればいいのに」など、我が家の経済状況を無視した無神経なイライラ話や「こっちで結婚しようかな。誰か紹介してよ」などの現実離れした話も我慢して来ました。でも、先週、とうとう爆発してしまいました旦那が風呂上りに風呂場から私たちの部屋まで半裸で動き回るのが気に入らないと言い出したのです私も「気に入らないんだったら、出てけば」「ここはもうあんたの家じゃないの」「30にもなって、仕事も貯金もなくて、結婚もできないくせに、なに言ってんのよ」と応戦してしまいましたその日は、旦那のとりなしもあったので、怒りを鎮めましたが、上の姉から電話があり「あんまり、下の姉を責めないで」という言葉と私を咎める話を聞いて、本当に全てが嫌になりました絶対姉を追い出したいです。我慢できません。どうすればいいでしょうか？追い出せないんだったら、私たちが出ていこうと思っています地方暮らしの29歳。娘二人、婿旦那、両親、祖母と4世代7人暮らしです私の家は地方の兼業農家で、今の田畑はそんなに多くはないのですが、江戸時代から続く家で、私はその家の三姉妹の末っ子です子供の頃から三人の内、誰かが婿を取って、家を継いで欲しいと言われてきました。上の姉は早々に結婚して、年子の姉も東京で就職し、地元に戻る気はないと言っていたので、私は専門学校卒業後、地元に戻って就職し、結婚相談所で紹介された旦那と24歳で結婚しました旦那は7歳年上で、知り合った当初は婿に入るのに難色を示していたのですが、結婚してからは、子煩悩で、真面目に仕事もしてくれるし、土日休日は両親や私と一緒に田んぼや畑もしてくれます去年、コロナの影響で、東京で働いていた姉が帰ってきました。すぐに東京に戻って再就職するだろうと考えていたのですが、無職のまま、既に1年以上経っています姉の「男の子産まないの？」「二世帯住宅にすればいいのに」など、我が家の経済状況を無視した無神経なイライラ話や「こっちで結婚しようかな。誰か紹介してよ」などの現実離れした話も我慢して来ました。でも、先週、とうとう爆発してしまいました旦那が風呂上りに風呂場から私たちの部屋まで半裸で動き回るのが気に入らないと言い出したのです私も「気に入らないんだったら、出てけば」「ここはもうあんたの家じゃないの」「30にもなって、仕事も貯金もなくて、結婚もできないくせに、なに言ってんのよ」と応戦してしまいましたその日は、旦那のとりなしもあったので、怒りを鎮めましたが、上の姉から電話があり「あんまり、下の姉を責めないで」という言葉と私を咎める話を聞いて、本当に全てが嫌になりました絶対姉を追い出したいです。我慢できません。どうすればいいでしょうか？追い出せないんだったら、私たちが出ていこうと思っています地方暮らしの29歳。娘二人、婿旦那、両親、祖母と4世代7人暮らしです私の家は地方の兼業農家で、今の田畑はそんなに多くはないのですが、江戸時代から続く家で、私はその家の三姉妹の末っ子です子供の頃から三人の内、誰かが婿を取って、家を継いで欲しいと言われてきました。上の姉は早々に結婚して、年子の姉も東京で就職し、地元に戻る気はないと言っていたので、私は専門学校卒業後、地元に戻って就職し、結婚相談所で紹介された旦那と24歳で結婚しました旦那は7歳年上で、知り合った当初は婿に入るのに難色を示していたのですが、結婚してからは、子煩悩で、真面目に仕事もしてくれるし、土日休日は両親や私と一緒に田んぼや畑もしてくれます去年、コロナの影響で、東京で働いていた姉が帰ってきました。すぐに東京に戻って再就職するだろうと考えていたのですが、無職のまま、既に1年以上経っています姉の「男の子産まないの？」「二世帯住宅にすればいいのに」など、我が家の経済状況を無視した無神経なイライラ話や「こっちで結婚しようかな。誰か紹介してよ」などの現実離れした話も我慢して来ました。でも、先週、とうとう爆発してしまいました旦那が風呂上りに風呂場から私たちの部屋まで半裸で動き回るのが気に入らないと言い出したのです私も「気に入らないんだったら、出てけば」「ここはもうあんたの家じゃないの」「30にもなって、仕事も貯金もなくて、結婚もできないくせに、なに言ってんのよ」と応戦してしまいましたその日は、旦那のとりなしもあったので、怒りを鎮めましたが、上の姉から電話があり「あんまり、下の姉を責めないで」という言葉と私を咎める話を聞いて、本当に全てが嫌になりました絶対姉を追い出したいです。我慢できません。どうすればいいでしょうか？追い出せないんだったら、私たちが出ていこうと思っています40代、5歳の子を持つ主婦です。夫は会社員ですが、自分達が食べる分くらいのお米を作っています。タイトルの友達とは中学時代から20年以上の付き合いになります。彼女も主婦で3人の子供がいます。数年前からその友達がうちからお米を買うようになって新米ができると連絡して取りに来てもらっていました。1年分まとめて買ってもらうので、スーパーなどで買うよりはだいぶ安い値段にしています。去年の9月も新米ができたと連絡し取りに来てもらうことになっていました。ところがお米を取りに来る前日に友達から「明日うちの旦那が釣りに出かけていないから良かったら遊びに来ない？」と LINEがあったので遊びに行くことにし、ついでにお米も持っていくことにしたんです。当日お米と手土産のケーキを持って友達の家に向かい、腰が痛いという友達の代わりに30kgの米袋5袋を車から家に運びました。友達の子供達とうちの子は久しぶりの対面に嬉しそうで一緒に走り回っていました。ここまではいいのですが、着いてからお茶のひとつも出てきません。招待しておいてお茶も出さないの？とちょっとモヤモヤした気持ちになりました。久しぶりにおしゃべりしよ〜！という割には会話は弾まないしなにも出ないし走り回っていた子供が喉が乾いたようなので1時間も経たないくらいで帰ることにしました。するとその友達が一言、「何のお構いもしませんで〜。」きっと最初からお茶を出す気はなかったんですね…今まで遊びに行ってそんな対応をされたことがなかったのでモヤモヤと共にショックでした。お米を安くしていることにも手土産を持っていったことにもお米を運んだことにもお礼の言葉がなかったことにもモヤモヤ…私は仲のいい友達と認識していましたが友達はそうは思っていなかったのかも？今後の付き合い方をどうすればいいのか悩んでいます。交際2年の彼女からもう泊まりに来ないでと言われました。当方35歳です。付き合ってからほぼ毎週末、彼女の家で過ごしていました。喧嘩もなくとても仲良くしてきたと思っています。先日彼女から泊まり拒否の申し出を受け、理由を聞いたところ結婚もしていないのに毎週末男性が部屋に出入りするのは世間的にも良くないと思う。少しだけ離れて距離を保った付き合いをしたい。と言われました。聞いた時は彼女の気持ちが冷めたのかとショックでしたが、それ以降も会えば今まで通りの彼女ですし、心変わりなどもなさそうです。僕が家へ帰るときも、彼女は寂しそうにしています。好きで一緒にいたいのに泊まりの拒否をする彼女の気持があまり理解できません。小町の皆様、彼女の気持ちを教えてください。また、どうすれば以前のように泊まりを含めたデートができるようになるでしょうか。よろしくお願いします。\n",
      "<_io.TextIOWrapper name='komachi.txt' mode='a' encoding='UTF-8'>\n"
     ]
    }
   ],
   "source": [
    "#https://komachi.yomiuri.co.jp/topics/id/1047713/\n",
    "    \n",
    "load_url = 'https://komachi.yomiuri.co.jp/topics/id/1047971/'\n",
    "html = requests.get(load_url)\n",
    "soup2=BeautifulSoup(html.content,\"html.parser\")\n",
    "\n",
    "topic = soup2.find(class_ = 'topicsId__articleContentText')\n",
    "#for element in topic.find_all(\"br\"):\n",
    " #   print(element.text)\n",
    "print(topic.text)\n",
    "\n",
    "print('---追記前--')\n",
    "with open('komachi.txt','r') as f:\n",
    "    print(f.read())\n",
    "with open('komachi.txt', 'a') as f:\n",
    "#f.writelines(topic.text)\n",
    "    f.write(soup2.find(class_ = 'topicsId__articleContentText').text)\n",
    "    print(f)\n",
    "    f.close "
   ]
  },
  {
   "cell_type": "code",
   "execution_count": 104,
   "id": "e7d9e66a",
   "metadata": {},
   "outputs": [
    {
     "name": "stdout",
     "output_type": "stream",
     "text": [
      "小学４年生の子どもがいます。幼稚園の頃からの友達が３人おり、毎週、順番に子どもたちを家で遊ばせていて、その間、私たち母親は、会話を楽しんでいます。その中の一人Aさんについて、相談があります。無口過ぎるのです。私たちのおしゃべりを聴いてはいるのですが、頭の回転が鈍いのか、聞くだけです。それなのに、時々、マウントのように聞こえることを言い（〇〇の△△は美味しいですよね、とか）、文脈関係ない話も飛び出してきて、反応に困ります。大学、仕事のことは、一切話しません。私、Ｂ、Ｃは気にせず話しますが、Ａだけは、あいまいに濁され、話してくれません。帰国子女か留学していたようで、無理にではないけれど、色々聞いてみたいのですが、隠す理由がわかりません。心を開いてくれていない気がして、疲れます。なぜ私たちと一緒にいるのだろう？利用してるだけ？もしかして、本当はグループを抜けたいけど、言い出しにくいのか？とイライラします。だから、４年生に進級するタイミングで、「中学受験や、お稽古事の都合もあるだろうから、そちらの都合を優先してもらっていいよ。無理して来なくてもいいよ。」と再三言ったのですが、相変わらず来ます。私の本心は伝わっているはずです。Ａは転勤族なので、遅かれ早かれ、いなくなります。中学生になれば、忙しくなるし、子供たちも親ぬきで遊ぶようになるでしょう。二度と会うこともないと思います。もう一度、Ａに「グループを抜けてもいいよ。」と言うつもりですが、どう言ったらわかってもらえますか？\n",
      "---追記前--\n",
      "地方暮らしの29歳。娘二人、婿旦那、両親、祖母と4世代7人暮らしです私の家は地方の兼業農家で、今の田畑はそんなに多くはないのですが、江戸時代から続く家で、私はその家の三姉妹の末っ子です子供の頃から三人の内、誰かが婿を取って、家を継いで欲しいと言われてきました。上の姉は早々に結婚して、年子の姉も東京で就職し、地元に戻る気はないと言っていたので、私は専門学校卒業後、地元に戻って就職し、結婚相談所で紹介された旦那と24歳で結婚しました旦那は7歳年上で、知り合った当初は婿に入るのに難色を示していたのですが、結婚してからは、子煩悩で、真面目に仕事もしてくれるし、土日休日は両親や私と一緒に田んぼや畑もしてくれます去年、コロナの影響で、東京で働いていた姉が帰ってきました。すぐに東京に戻って再就職するだろうと考えていたのですが、無職のまま、既に1年以上経っています姉の「男の子産まないの？」「二世帯住宅にすればいいのに」など、我が家の経済状況を無視した無神経なイライラ話や「こっちで結婚しようかな。誰か紹介してよ」などの現実離れした話も我慢して来ました。でも、先週、とうとう爆発してしまいました旦那が風呂上りに風呂場から私たちの部屋まで半裸で動き回るのが気に入らないと言い出したのです私も「気に入らないんだったら、出てけば」「ここはもうあんたの家じゃないの」「30にもなって、仕事も貯金もなくて、結婚もできないくせに、なに言ってんのよ」と応戦してしまいましたその日は、旦那のとりなしもあったので、怒りを鎮めましたが、上の姉から電話があり「あんまり、下の姉を責めないで」という言葉と私を咎める話を聞いて、本当に全てが嫌になりました絶対姉を追い出したいです。我慢できません。どうすればいいでしょうか？追い出せないんだったら、私たちが出ていこうと思っています地方暮らしの29歳。娘二人、婿旦那、両親、祖母と4世代7人暮らしです私の家は地方の兼業農家で、今の田畑はそんなに多くはないのですが、江戸時代から続く家で、私はその家の三姉妹の末っ子です子供の頃から三人の内、誰かが婿を取って、家を継いで欲しいと言われてきました。上の姉は早々に結婚して、年子の姉も東京で就職し、地元に戻る気はないと言っていたので、私は専門学校卒業後、地元に戻って就職し、結婚相談所で紹介された旦那と24歳で結婚しました旦那は7歳年上で、知り合った当初は婿に入るのに難色を示していたのですが、結婚してからは、子煩悩で、真面目に仕事もしてくれるし、土日休日は両親や私と一緒に田んぼや畑もしてくれます去年、コロナの影響で、東京で働いていた姉が帰ってきました。すぐに東京に戻って再就職するだろうと考えていたのですが、無職のまま、既に1年以上経っています姉の「男の子産まないの？」「二世帯住宅にすればいいのに」など、我が家の経済状況を無視した無神経なイライラ話や「こっちで結婚しようかな。誰か紹介してよ」などの現実離れした話も我慢して来ました。でも、先週、とうとう爆発してしまいました旦那が風呂上りに風呂場から私たちの部屋まで半裸で動き回るのが気に入らないと言い出したのです私も「気に入らないんだったら、出てけば」「ここはもうあんたの家じゃないの」「30にもなって、仕事も貯金もなくて、結婚もできないくせに、なに言ってんのよ」と応戦してしまいましたその日は、旦那のとりなしもあったので、怒りを鎮めましたが、上の姉から電話があり「あんまり、下の姉を責めないで」という言葉と私を咎める話を聞いて、本当に全てが嫌になりました絶対姉を追い出したいです。我慢できません。どうすればいいでしょうか？追い出せないんだったら、私たちが出ていこうと思っています地方暮らしの29歳。娘二人、婿旦那、両親、祖母と4世代7人暮らしです私の家は地方の兼業農家で、今の田畑はそんなに多くはないのですが、江戸時代から続く家で、私はその家の三姉妹の末っ子です子供の頃から三人の内、誰かが婿を取って、家を継いで欲しいと言われてきました。上の姉は早々に結婚して、年子の姉も東京で就職し、地元に戻る気はないと言っていたので、私は専門学校卒業後、地元に戻って就職し、結婚相談所で紹介された旦那と24歳で結婚しました旦那は7歳年上で、知り合った当初は婿に入るのに難色を示していたのですが、結婚してからは、子煩悩で、真面目に仕事もしてくれるし、土日休日は両親や私と一緒に田んぼや畑もしてくれます去年、コロナの影響で、東京で働いていた姉が帰ってきました。すぐに東京に戻って再就職するだろうと考えていたのですが、無職のまま、既に1年以上経っています姉の「男の子産まないの？」「二世帯住宅にすればいいのに」など、我が家の経済状況を無視した無神経なイライラ話や「こっちで結婚しようかな。誰か紹介してよ」などの現実離れした話も我慢して来ました。でも、先週、とうとう爆発してしまいました旦那が風呂上りに風呂場から私たちの部屋まで半裸で動き回るのが気に入らないと言い出したのです私も「気に入らないんだったら、出てけば」「ここはもうあんたの家じゃないの」「30にもなって、仕事も貯金もなくて、結婚もできないくせに、なに言ってんのよ」と応戦してしまいましたその日は、旦那のとりなしもあったので、怒りを鎮めましたが、上の姉から電話があり「あんまり、下の姉を責めないで」という言葉と私を咎める話を聞いて、本当に全てが嫌になりました絶対姉を追い出したいです。我慢できません。どうすればいいでしょうか？追い出せないんだったら、私たちが出ていこうと思っています40代、5歳の子を持つ主婦です。夫は会社員ですが、自分達が食べる分くらいのお米を作っています。タイトルの友達とは中学時代から20年以上の付き合いになります。彼女も主婦で3人の子供がいます。数年前からその友達がうちからお米を買うようになって新米ができると連絡して取りに来てもらっていました。1年分まとめて買ってもらうので、スーパーなどで買うよりはだいぶ安い値段にしています。去年の9月も新米ができたと連絡し取りに来てもらうことになっていました。ところがお米を取りに来る前日に友達から「明日うちの旦那が釣りに出かけていないから良かったら遊びに来ない？」と LINEがあったので遊びに行くことにし、ついでにお米も持っていくことにしたんです。当日お米と手土産のケーキを持って友達の家に向かい、腰が痛いという友達の代わりに30kgの米袋5袋を車から家に運びました。友達の子供達とうちの子は久しぶりの対面に嬉しそうで一緒に走り回っていました。ここまではいいのですが、着いてからお茶のひとつも出てきません。招待しておいてお茶も出さないの？とちょっとモヤモヤした気持ちになりました。久しぶりにおしゃべりしよ〜！という割には会話は弾まないしなにも出ないし走り回っていた子供が喉が乾いたようなので1時間も経たないくらいで帰ることにしました。するとその友達が一言、「何のお構いもしませんで〜。」きっと最初からお茶を出す気はなかったんですね…今まで遊びに行ってそんな対応をされたことがなかったのでモヤモヤと共にショックでした。お米を安くしていることにも手土産を持っていったことにもお米を運んだことにもお礼の言葉がなかったことにもモヤモヤ…私は仲のいい友達と認識していましたが友達はそうは思っていなかったのかも？今後の付き合い方をどうすればいいのか悩んでいます。交際2年の彼女からもう泊まりに来ないでと言われました。当方35歳です。付き合ってからほぼ毎週末、彼女の家で過ごしていました。喧嘩もなくとても仲良くしてきたと思っています。先日彼女から泊まり拒否の申し出を受け、理由を聞いたところ結婚もしていないのに毎週末男性が部屋に出入りするのは世間的にも良くないと思う。少しだけ離れて距離を保った付き合いをしたい。と言われました。聞いた時は彼女の気持ちが冷めたのかとショックでしたが、それ以降も会えば今まで通りの彼女ですし、心変わりなどもなさそうです。僕が家へ帰るときも、彼女は寂しそうにしています。好きで一緒にいたいのに泊まりの拒否をする彼女の気持があまり理解できません。小町の皆様、彼女の気持ちを教えてください。また、どうすれば以前のように泊まりを含めたデートができるようになるでしょうか。よろしくお願いします。交際2年の彼女からもう泊まりに来ないでと言われました。当方35歳です。付き合ってからほぼ毎週末、彼女の家で過ごしていました。喧嘩もなくとても仲良くしてきたと思っています。先日彼女から泊まり拒否の申し出を受け、理由を聞いたところ結婚もしていないのに毎週末男性が部屋に出入りするのは世間的にも良くないと思う。少しだけ離れて距離を保った付き合いをしたい。と言われました。聞いた時は彼女の気持ちが冷めたのかとショックでしたが、それ以降も会えば今まで通りの彼女ですし、心変わりなどもなさそうです。僕が家へ帰るときも、彼女は寂しそうにしています。好きで一緒にいたいのに泊まりの拒否をする彼女の気持があまり理解できません。小町の皆様、彼女の気持ちを教えてください。また、どうすれば以前のように泊まりを含めたデートができるようになるでしょうか。よろしくお願いします。小学４年生の子どもがいます。幼稚園の頃からの友達が３人おり、毎週、順番に子どもたちを家で遊ばせていて、その間、私たち母親は、会話を楽しんでいます。その中の一人Aさんについて、相談があります。無口過ぎるのです。私たちのおしゃべりを聴いてはいるのですが、頭の回転が鈍いのか、聞くだけです。それなのに、時々、マウントのように聞こえることを言い（〇〇の△△は美味しいですよね、とか）、文脈関係ない話も飛び出してきて、反応に困ります。大学、仕事のことは、一切話しません。私、Ｂ、Ｃは気にせず話しますが、Ａだけは、あいまいに濁され、話してくれません。帰国子女か留学していたようで、無理にではないけれど、色々聞いてみたいのですが、隠す理由がわかりません。心を開いてくれていない気がして、疲れます。なぜ私たちと一緒にいるのだろう？利用してるだけ？もしかして、本当はグループを抜けたいけど、言い出しにくいのか？とイライラします。だから、４年生に進級するタイミングで、「中学受験や、お稽古事の都合もあるだろうから、そちらの都合を優先してもらっていいよ。無理して来なくてもいいよ。」と再三言ったのですが、相変わらず来ます。私の本心は伝わっているはずです。Ａは転勤族なので、遅かれ早かれ、いなくなります。中学生になれば、忙しくなるし、子供たちも親ぬきで遊ぶようになるでしょう。二度と会うこともないと思います。もう一度、Ａに「グループを抜けてもいいよ。」と言うつもりですが、どう言ったらわかってもらえますか？\n",
      "<_io.TextIOWrapper name='komachi.txt' mode='a' encoding='UTF-8'>\n"
     ]
    }
   ],
   "source": [
    "#https://komachi.yomiuri.co.jp/topics/id/1047713/\n",
    "\n",
    "load_url = 'https://komachi.yomiuri.co.jp/topics/id/1047713/'\n",
    "html = requests.get(load_url)\n",
    "soup3=BeautifulSoup(html.content,\"html.parser\")\n",
    "\n",
    "topic = soup3.find(class_ = 'topicsId__articleContentText')\n",
    "#for element in topic.find_all(\"br\"):\n",
    " #   print(element.text)\n",
    "#print(topic.text)\n",
    "\n",
    "print('---追記前--')\n",
    "with open('komachi.txt','r') as f:\n",
    "    print(f.read())\n",
    "with open('komachi.txt', 'a') as f:\n",
    "#f.writelines(topic.text)\n",
    "    f.write(soup3.find(class_ = 'topicsId__articleContentText').text)\n",
    "    print(f)\n",
    "    f.close "
   ]
  },
  {
   "cell_type": "code",
   "execution_count": 106,
   "id": "6aeff2a5",
   "metadata": {},
   "outputs": [
    {
     "name": "stdout",
     "output_type": "stream",
     "text": [
      "---追記前--\n",
      "地方暮らしの29歳。娘二人、婿旦那、両親、祖母と4世代7人暮らしです私の家は地方の兼業農家で、今の田畑はそんなに多くはないのですが、江戸時代から続く家で、私はその家の三姉妹の末っ子です子供の頃から三人の内、誰かが婿を取って、家を継いで欲しいと言われてきました。上の姉は早々に結婚して、年子の姉も東京で就職し、地元に戻る気はないと言っていたので、私は専門学校卒業後、地元に戻って就職し、結婚相談所で紹介された旦那と24歳で結婚しました旦那は7歳年上で、知り合った当初は婿に入るのに難色を示していたのですが、結婚してからは、子煩悩で、真面目に仕事もしてくれるし、土日休日は両親や私と一緒に田んぼや畑もしてくれます去年、コロナの影響で、東京で働いていた姉が帰ってきました。すぐに東京に戻って再就職するだろうと考えていたのですが、無職のまま、既に1年以上経っています姉の「男の子産まないの？」「二世帯住宅にすればいいのに」など、我が家の経済状況を無視した無神経なイライラ話や「こっちで結婚しようかな。誰か紹介してよ」などの現実離れした話も我慢して来ました。でも、先週、とうとう爆発してしまいました旦那が風呂上りに風呂場から私たちの部屋まで半裸で動き回るのが気に入らないと言い出したのです私も「気に入らないんだったら、出てけば」「ここはもうあんたの家じゃないの」「30にもなって、仕事も貯金もなくて、結婚もできないくせに、なに言ってんのよ」と応戦してしまいましたその日は、旦那のとりなしもあったので、怒りを鎮めましたが、上の姉から電話があり「あんまり、下の姉を責めないで」という言葉と私を咎める話を聞いて、本当に全てが嫌になりました絶対姉を追い出したいです。我慢できません。どうすればいいでしょうか？追い出せないんだったら、私たちが出ていこうと思っています地方暮らしの29歳。娘二人、婿旦那、両親、祖母と4世代7人暮らしです私の家は地方の兼業農家で、今の田畑はそんなに多くはないのですが、江戸時代から続く家で、私はその家の三姉妹の末っ子です子供の頃から三人の内、誰かが婿を取って、家を継いで欲しいと言われてきました。上の姉は早々に結婚して、年子の姉も東京で就職し、地元に戻る気はないと言っていたので、私は専門学校卒業後、地元に戻って就職し、結婚相談所で紹介された旦那と24歳で結婚しました旦那は7歳年上で、知り合った当初は婿に入るのに難色を示していたのですが、結婚してからは、子煩悩で、真面目に仕事もしてくれるし、土日休日は両親や私と一緒に田んぼや畑もしてくれます去年、コロナの影響で、東京で働いていた姉が帰ってきました。すぐに東京に戻って再就職するだろうと考えていたのですが、無職のまま、既に1年以上経っています姉の「男の子産まないの？」「二世帯住宅にすればいいのに」など、我が家の経済状況を無視した無神経なイライラ話や「こっちで結婚しようかな。誰か紹介してよ」などの現実離れした話も我慢して来ました。でも、先週、とうとう爆発してしまいました旦那が風呂上りに風呂場から私たちの部屋まで半裸で動き回るのが気に入らないと言い出したのです私も「気に入らないんだったら、出てけば」「ここはもうあんたの家じゃないの」「30にもなって、仕事も貯金もなくて、結婚もできないくせに、なに言ってんのよ」と応戦してしまいましたその日は、旦那のとりなしもあったので、怒りを鎮めましたが、上の姉から電話があり「あんまり、下の姉を責めないで」という言葉と私を咎める話を聞いて、本当に全てが嫌になりました絶対姉を追い出したいです。我慢できません。どうすればいいでしょうか？追い出せないんだったら、私たちが出ていこうと思っています地方暮らしの29歳。娘二人、婿旦那、両親、祖母と4世代7人暮らしです私の家は地方の兼業農家で、今の田畑はそんなに多くはないのですが、江戸時代から続く家で、私はその家の三姉妹の末っ子です子供の頃から三人の内、誰かが婿を取って、家を継いで欲しいと言われてきました。上の姉は早々に結婚して、年子の姉も東京で就職し、地元に戻る気はないと言っていたので、私は専門学校卒業後、地元に戻って就職し、結婚相談所で紹介された旦那と24歳で結婚しました旦那は7歳年上で、知り合った当初は婿に入るのに難色を示していたのですが、結婚してからは、子煩悩で、真面目に仕事もしてくれるし、土日休日は両親や私と一緒に田んぼや畑もしてくれます去年、コロナの影響で、東京で働いていた姉が帰ってきました。すぐに東京に戻って再就職するだろうと考えていたのですが、無職のまま、既に1年以上経っています姉の「男の子産まないの？」「二世帯住宅にすればいいのに」など、我が家の経済状況を無視した無神経なイライラ話や「こっちで結婚しようかな。誰か紹介してよ」などの現実離れした話も我慢して来ました。でも、先週、とうとう爆発してしまいました旦那が風呂上りに風呂場から私たちの部屋まで半裸で動き回るのが気に入らないと言い出したのです私も「気に入らないんだったら、出てけば」「ここはもうあんたの家じゃないの」「30にもなって、仕事も貯金もなくて、結婚もできないくせに、なに言ってんのよ」と応戦してしまいましたその日は、旦那のとりなしもあったので、怒りを鎮めましたが、上の姉から電話があり「あんまり、下の姉を責めないで」という言葉と私を咎める話を聞いて、本当に全てが嫌になりました絶対姉を追い出したいです。我慢できません。どうすればいいでしょうか？追い出せないんだったら、私たちが出ていこうと思っています40代、5歳の子を持つ主婦です。夫は会社員ですが、自分達が食べる分くらいのお米を作っています。タイトルの友達とは中学時代から20年以上の付き合いになります。彼女も主婦で3人の子供がいます。数年前からその友達がうちからお米を買うようになって新米ができると連絡して取りに来てもらっていました。1年分まとめて買ってもらうので、スーパーなどで買うよりはだいぶ安い値段にしています。去年の9月も新米ができたと連絡し取りに来てもらうことになっていました。ところがお米を取りに来る前日に友達から「明日うちの旦那が釣りに出かけていないから良かったら遊びに来ない？」と LINEがあったので遊びに行くことにし、ついでにお米も持っていくことにしたんです。当日お米と手土産のケーキを持って友達の家に向かい、腰が痛いという友達の代わりに30kgの米袋5袋を車から家に運びました。友達の子供達とうちの子は久しぶりの対面に嬉しそうで一緒に走り回っていました。ここまではいいのですが、着いてからお茶のひとつも出てきません。招待しておいてお茶も出さないの？とちょっとモヤモヤした気持ちになりました。久しぶりにおしゃべりしよ〜！という割には会話は弾まないしなにも出ないし走り回っていた子供が喉が乾いたようなので1時間も経たないくらいで帰ることにしました。するとその友達が一言、「何のお構いもしませんで〜。」きっと最初からお茶を出す気はなかったんですね…今まで遊びに行ってそんな対応をされたことがなかったのでモヤモヤと共にショックでした。お米を安くしていることにも手土産を持っていったことにもお米を運んだことにもお礼の言葉がなかったことにもモヤモヤ…私は仲のいい友達と認識していましたが友達はそうは思っていなかったのかも？今後の付き合い方をどうすればいいのか悩んでいます。交際2年の彼女からもう泊まりに来ないでと言われました。当方35歳です。付き合ってからほぼ毎週末、彼女の家で過ごしていました。喧嘩もなくとても仲良くしてきたと思っています。先日彼女から泊まり拒否の申し出を受け、理由を聞いたところ結婚もしていないのに毎週末男性が部屋に出入りするのは世間的にも良くないと思う。少しだけ離れて距離を保った付き合いをしたい。と言われました。聞いた時は彼女の気持ちが冷めたのかとショックでしたが、それ以降も会えば今まで通りの彼女ですし、心変わりなどもなさそうです。僕が家へ帰るときも、彼女は寂しそうにしています。好きで一緒にいたいのに泊まりの拒否をする彼女の気持があまり理解できません。小町の皆様、彼女の気持ちを教えてください。また、どうすれば以前のように泊まりを含めたデートができるようになるでしょうか。よろしくお願いします。交際2年の彼女からもう泊まりに来ないでと言われました。当方35歳です。付き合ってからほぼ毎週末、彼女の家で過ごしていました。喧嘩もなくとても仲良くしてきたと思っています。先日彼女から泊まり拒否の申し出を受け、理由を聞いたところ結婚もしていないのに毎週末男性が部屋に出入りするのは世間的にも良くないと思う。少しだけ離れて距離を保った付き合いをしたい。と言われました。聞いた時は彼女の気持ちが冷めたのかとショックでしたが、それ以降も会えば今まで通りの彼女ですし、心変わりなどもなさそうです。僕が家へ帰るときも、彼女は寂しそうにしています。好きで一緒にいたいのに泊まりの拒否をする彼女の気持があまり理解できません。小町の皆様、彼女の気持ちを教えてください。また、どうすれば以前のように泊まりを含めたデートができるようになるでしょうか。よろしくお願いします。小学４年生の子どもがいます。幼稚園の頃からの友達が３人おり、毎週、順番に子どもたちを家で遊ばせていて、その間、私たち母親は、会話を楽しんでいます。その中の一人Aさんについて、相談があります。無口過ぎるのです。私たちのおしゃべりを聴いてはいるのですが、頭の回転が鈍いのか、聞くだけです。それなのに、時々、マウントのように聞こえることを言い（〇〇の△△は美味しいですよね、とか）、文脈関係ない話も飛び出してきて、反応に困ります。大学、仕事のことは、一切話しません。私、Ｂ、Ｃは気にせず話しますが、Ａだけは、あいまいに濁され、話してくれません。帰国子女か留学していたようで、無理にではないけれど、色々聞いてみたいのですが、隠す理由がわかりません。心を開いてくれていない気がして、疲れます。なぜ私たちと一緒にいるのだろう？利用してるだけ？もしかして、本当はグループを抜けたいけど、言い出しにくいのか？とイライラします。だから、４年生に進級するタイミングで、「中学受験や、お稽古事の都合もあるだろうから、そちらの都合を優先してもらっていいよ。無理して来なくてもいいよ。」と再三言ったのですが、相変わらず来ます。私の本心は伝わっているはずです。Ａは転勤族なので、遅かれ早かれ、いなくなります。中学生になれば、忙しくなるし、子供たちも親ぬきで遊ぶようになるでしょう。二度と会うこともないと思います。もう一度、Ａに「グループを抜けてもいいよ。」と言うつもりですが、どう言ったらわかってもらえますか？小学４年生の子どもがいます。幼稚園の頃からの友達が３人おり、毎週、順番に子どもたちを家で遊ばせていて、その間、私たち母親は、会話を楽しんでいます。その中の一人Aさんについて、相談があります。無口過ぎるのです。私たちのおしゃべりを聴いてはいるのですが、頭の回転が鈍いのか、聞くだけです。それなのに、時々、マウントのように聞こえることを言い（〇〇の△△は美味しいですよね、とか）、文脈関係ない話も飛び出してきて、反応に困ります。大学、仕事のことは、一切話しません。私、Ｂ、Ｃは気にせず話しますが、Ａだけは、あいまいに濁され、話してくれません。帰国子女か留学していたようで、無理にではないけれど、色々聞いてみたいのですが、隠す理由がわかりません。心を開いてくれていない気がして、疲れます。なぜ私たちと一緒にいるのだろう？利用してるだけ？もしかして、本当はグループを抜けたいけど、言い出しにくいのか？とイライラします。だから、４年生に進級するタイミングで、「中学受験や、お稽古事の都合もあるだろうから、そちらの都合を優先してもらっていいよ。無理して来なくてもいいよ。」と再三言ったのですが、相変わらず来ます。私の本心は伝わっているはずです。Ａは転勤族なので、遅かれ早かれ、いなくなります。中学生になれば、忙しくなるし、子供たちも親ぬきで遊ぶようになるでしょう。二度と会うこともないと思います。もう一度、Ａに「グループを抜けてもいいよ。」と言うつもりですが、どう言ったらわかってもらえますか？お姑さんと同居、主人、小学生の２人兄弟の男の子の5人家族です。先日、夕飯にサバの味噌煮を出しました。主人のお給料日だったので、魚屋さんに行っていつもより高品質、大きめのサバです。味噌煮は子どもたちも大好きだったので、ペロリと平らげてくれました。とそこへ、姑が「冷凍のサバの味噌煮なんてやめてくださる？」と、、。私「え？これは今日買ってきた生のさばですけど。。」姑「こんなにきれいに味噌煮なんてできないけど。」私「いえ、これは本当に冷凍じゃありません!!レシート見ますか？」主人「もういいからお前はだまってろよ！」私「え？私がいけないの？もっと汚く作ればよかったですね、すみませんでした!!」普段から料理に失敗したら文句、家族のことを考えてないだのなんだの言っていて、上手くできてもこんな文句か、、とイライラしてしまいました。こういうときはどう対処すればいいのでしょうか？最近イライラがとまりません。かわす、ことをおさめる方法がなかなか思い付きません。以前にも炊き込みご飯を出したら出来合いのものを混ぜないで！といきなり皆の前でおこられました。違います、、手作りです。。ちなみに敷地内に義弟夫婦がおり、週の半分ご飯を食べにくるので、緊急対処用に冷凍の魚類は置いてあります。たぶん、それを疑ってのことだと思います。\n",
      "<_io.TextIOWrapper name='komachi.txt' mode='a' encoding='UTF-8'>\n"
     ]
    }
   ],
   "source": [
    "load_url = 'https://komachi.yomiuri.co.jp/topics/id/1048097/'\n",
    "html = requests.get(load_url)\n",
    "soup4=BeautifulSoup(html.content,\"html.parser\")\n",
    "\n",
    "topic4= soup4.find(class_ = 'topicsId__articleContentText')\n",
    "#for element in topic.find_all(\"br\"):\n",
    " #   print(element.text)\n",
    "#print(topic.text)\n",
    "\n",
    "print('---追記前--')\n",
    "with open('komachi.txt','r') as f:\n",
    "    print(f.read())\n",
    "with open('komachi.txt', 'a') as f:\n",
    "#f.writelines(topic.text)\n",
    "    f.write(topic4.text)\n",
    "    print(f)\n",
    "    f.close "
   ]
  },
  {
   "cell_type": "code",
   "execution_count": 108,
   "id": "362377cc",
   "metadata": {},
   "outputs": [
    {
     "name": "stdout",
     "output_type": "stream",
     "text": [
      "---追記前--\n",
      "地方暮らしの29歳。娘二人、婿旦那、両親、祖母と4世代7人暮らしです私の家は地方の兼業農家で、今の田畑はそんなに多くはないのですが、江戸時代から続く家で、私はその家の三姉妹の末っ子です子供の頃から三人の内、誰かが婿を取って、家を継いで欲しいと言われてきました。上の姉は早々に結婚して、年子の姉も東京で就職し、地元に戻る気はないと言っていたので、私は専門学校卒業後、地元に戻って就職し、結婚相談所で紹介された旦那と24歳で結婚しました旦那は7歳年上で、知り合った当初は婿に入るのに難色を示していたのですが、結婚してからは、子煩悩で、真面目に仕事もしてくれるし、土日休日は両親や私と一緒に田んぼや畑もしてくれます去年、コロナの影響で、東京で働いていた姉が帰ってきました。すぐに東京に戻って再就職するだろうと考えていたのですが、無職のまま、既に1年以上経っています姉の「男の子産まないの？」「二世帯住宅にすればいいのに」など、我が家の経済状況を無視した無神経なイライラ話や「こっちで結婚しようかな。誰か紹介してよ」などの現実離れした話も我慢して来ました。でも、先週、とうとう爆発してしまいました旦那が風呂上りに風呂場から私たちの部屋まで半裸で動き回るのが気に入らないと言い出したのです私も「気に入らないんだったら、出てけば」「ここはもうあんたの家じゃないの」「30にもなって、仕事も貯金もなくて、結婚もできないくせに、なに言ってんのよ」と応戦してしまいましたその日は、旦那のとりなしもあったので、怒りを鎮めましたが、上の姉から電話があり「あんまり、下の姉を責めないで」という言葉と私を咎める話を聞いて、本当に全てが嫌になりました絶対姉を追い出したいです。我慢できません。どうすればいいでしょうか？追い出せないんだったら、私たちが出ていこうと思っています地方暮らしの29歳。娘二人、婿旦那、両親、祖母と4世代7人暮らしです私の家は地方の兼業農家で、今の田畑はそんなに多くはないのですが、江戸時代から続く家で、私はその家の三姉妹の末っ子です子供の頃から三人の内、誰かが婿を取って、家を継いで欲しいと言われてきました。上の姉は早々に結婚して、年子の姉も東京で就職し、地元に戻る気はないと言っていたので、私は専門学校卒業後、地元に戻って就職し、結婚相談所で紹介された旦那と24歳で結婚しました旦那は7歳年上で、知り合った当初は婿に入るのに難色を示していたのですが、結婚してからは、子煩悩で、真面目に仕事もしてくれるし、土日休日は両親や私と一緒に田んぼや畑もしてくれます去年、コロナの影響で、東京で働いていた姉が帰ってきました。すぐに東京に戻って再就職するだろうと考えていたのですが、無職のまま、既に1年以上経っています姉の「男の子産まないの？」「二世帯住宅にすればいいのに」など、我が家の経済状況を無視した無神経なイライラ話や「こっちで結婚しようかな。誰か紹介してよ」などの現実離れした話も我慢して来ました。でも、先週、とうとう爆発してしまいました旦那が風呂上りに風呂場から私たちの部屋まで半裸で動き回るのが気に入らないと言い出したのです私も「気に入らないんだったら、出てけば」「ここはもうあんたの家じゃないの」「30にもなって、仕事も貯金もなくて、結婚もできないくせに、なに言ってんのよ」と応戦してしまいましたその日は、旦那のとりなしもあったので、怒りを鎮めましたが、上の姉から電話があり「あんまり、下の姉を責めないで」という言葉と私を咎める話を聞いて、本当に全てが嫌になりました絶対姉を追い出したいです。我慢できません。どうすればいいでしょうか？追い出せないんだったら、私たちが出ていこうと思っています地方暮らしの29歳。娘二人、婿旦那、両親、祖母と4世代7人暮らしです私の家は地方の兼業農家で、今の田畑はそんなに多くはないのですが、江戸時代から続く家で、私はその家の三姉妹の末っ子です子供の頃から三人の内、誰かが婿を取って、家を継いで欲しいと言われてきました。上の姉は早々に結婚して、年子の姉も東京で就職し、地元に戻る気はないと言っていたので、私は専門学校卒業後、地元に戻って就職し、結婚相談所で紹介された旦那と24歳で結婚しました旦那は7歳年上で、知り合った当初は婿に入るのに難色を示していたのですが、結婚してからは、子煩悩で、真面目に仕事もしてくれるし、土日休日は両親や私と一緒に田んぼや畑もしてくれます去年、コロナの影響で、東京で働いていた姉が帰ってきました。すぐに東京に戻って再就職するだろうと考えていたのですが、無職のまま、既に1年以上経っています姉の「男の子産まないの？」「二世帯住宅にすればいいのに」など、我が家の経済状況を無視した無神経なイライラ話や「こっちで結婚しようかな。誰か紹介してよ」などの現実離れした話も我慢して来ました。でも、先週、とうとう爆発してしまいました旦那が風呂上りに風呂場から私たちの部屋まで半裸で動き回るのが気に入らないと言い出したのです私も「気に入らないんだったら、出てけば」「ここはもうあんたの家じゃないの」「30にもなって、仕事も貯金もなくて、結婚もできないくせに、なに言ってんのよ」と応戦してしまいましたその日は、旦那のとりなしもあったので、怒りを鎮めましたが、上の姉から電話があり「あんまり、下の姉を責めないで」という言葉と私を咎める話を聞いて、本当に全てが嫌になりました絶対姉を追い出したいです。我慢できません。どうすればいいでしょうか？追い出せないんだったら、私たちが出ていこうと思っています40代、5歳の子を持つ主婦です。夫は会社員ですが、自分達が食べる分くらいのお米を作っています。タイトルの友達とは中学時代から20年以上の付き合いになります。彼女も主婦で3人の子供がいます。数年前からその友達がうちからお米を買うようになって新米ができると連絡して取りに来てもらっていました。1年分まとめて買ってもらうので、スーパーなどで買うよりはだいぶ安い値段にしています。去年の9月も新米ができたと連絡し取りに来てもらうことになっていました。ところがお米を取りに来る前日に友達から「明日うちの旦那が釣りに出かけていないから良かったら遊びに来ない？」と LINEがあったので遊びに行くことにし、ついでにお米も持っていくことにしたんです。当日お米と手土産のケーキを持って友達の家に向かい、腰が痛いという友達の代わりに30kgの米袋5袋を車から家に運びました。友達の子供達とうちの子は久しぶりの対面に嬉しそうで一緒に走り回っていました。ここまではいいのですが、着いてからお茶のひとつも出てきません。招待しておいてお茶も出さないの？とちょっとモヤモヤした気持ちになりました。久しぶりにおしゃべりしよ〜！という割には会話は弾まないしなにも出ないし走り回っていた子供が喉が乾いたようなので1時間も経たないくらいで帰ることにしました。するとその友達が一言、「何のお構いもしませんで〜。」きっと最初からお茶を出す気はなかったんですね…今まで遊びに行ってそんな対応をされたことがなかったのでモヤモヤと共にショックでした。お米を安くしていることにも手土産を持っていったことにもお米を運んだことにもお礼の言葉がなかったことにもモヤモヤ…私は仲のいい友達と認識していましたが友達はそうは思っていなかったのかも？今後の付き合い方をどうすればいいのか悩んでいます。交際2年の彼女からもう泊まりに来ないでと言われました。当方35歳です。付き合ってからほぼ毎週末、彼女の家で過ごしていました。喧嘩もなくとても仲良くしてきたと思っています。先日彼女から泊まり拒否の申し出を受け、理由を聞いたところ結婚もしていないのに毎週末男性が部屋に出入りするのは世間的にも良くないと思う。少しだけ離れて距離を保った付き合いをしたい。と言われました。聞いた時は彼女の気持ちが冷めたのかとショックでしたが、それ以降も会えば今まで通りの彼女ですし、心変わりなどもなさそうです。僕が家へ帰るときも、彼女は寂しそうにしています。好きで一緒にいたいのに泊まりの拒否をする彼女の気持があまり理解できません。小町の皆様、彼女の気持ちを教えてください。また、どうすれば以前のように泊まりを含めたデートができるようになるでしょうか。よろしくお願いします。交際2年の彼女からもう泊まりに来ないでと言われました。当方35歳です。付き合ってからほぼ毎週末、彼女の家で過ごしていました。喧嘩もなくとても仲良くしてきたと思っています。先日彼女から泊まり拒否の申し出を受け、理由を聞いたところ結婚もしていないのに毎週末男性が部屋に出入りするのは世間的にも良くないと思う。少しだけ離れて距離を保った付き合いをしたい。と言われました。聞いた時は彼女の気持ちが冷めたのかとショックでしたが、それ以降も会えば今まで通りの彼女ですし、心変わりなどもなさそうです。僕が家へ帰るときも、彼女は寂しそうにしています。好きで一緒にいたいのに泊まりの拒否をする彼女の気持があまり理解できません。小町の皆様、彼女の気持ちを教えてください。また、どうすれば以前のように泊まりを含めたデートができるようになるでしょうか。よろしくお願いします。小学４年生の子どもがいます。幼稚園の頃からの友達が３人おり、毎週、順番に子どもたちを家で遊ばせていて、その間、私たち母親は、会話を楽しんでいます。その中の一人Aさんについて、相談があります。無口過ぎるのです。私たちのおしゃべりを聴いてはいるのですが、頭の回転が鈍いのか、聞くだけです。それなのに、時々、マウントのように聞こえることを言い（〇〇の△△は美味しいですよね、とか）、文脈関係ない話も飛び出してきて、反応に困ります。大学、仕事のことは、一切話しません。私、Ｂ、Ｃは気にせず話しますが、Ａだけは、あいまいに濁され、話してくれません。帰国子女か留学していたようで、無理にではないけれど、色々聞いてみたいのですが、隠す理由がわかりません。心を開いてくれていない気がして、疲れます。なぜ私たちと一緒にいるのだろう？利用してるだけ？もしかして、本当はグループを抜けたいけど、言い出しにくいのか？とイライラします。だから、４年生に進級するタイミングで、「中学受験や、お稽古事の都合もあるだろうから、そちらの都合を優先してもらっていいよ。無理して来なくてもいいよ。」と再三言ったのですが、相変わらず来ます。私の本心は伝わっているはずです。Ａは転勤族なので、遅かれ早かれ、いなくなります。中学生になれば、忙しくなるし、子供たちも親ぬきで遊ぶようになるでしょう。二度と会うこともないと思います。もう一度、Ａに「グループを抜けてもいいよ。」と言うつもりですが、どう言ったらわかってもらえますか？小学４年生の子どもがいます。幼稚園の頃からの友達が３人おり、毎週、順番に子どもたちを家で遊ばせていて、その間、私たち母親は、会話を楽しんでいます。その中の一人Aさんについて、相談があります。無口過ぎるのです。私たちのおしゃべりを聴いてはいるのですが、頭の回転が鈍いのか、聞くだけです。それなのに、時々、マウントのように聞こえることを言い（〇〇の△△は美味しいですよね、とか）、文脈関係ない話も飛び出してきて、反応に困ります。大学、仕事のことは、一切話しません。私、Ｂ、Ｃは気にせず話しますが、Ａだけは、あいまいに濁され、話してくれません。帰国子女か留学していたようで、無理にではないけれど、色々聞いてみたいのですが、隠す理由がわかりません。心を開いてくれていない気がして、疲れます。なぜ私たちと一緒にいるのだろう？利用してるだけ？もしかして、本当はグループを抜けたいけど、言い出しにくいのか？とイライラします。だから、４年生に進級するタイミングで、「中学受験や、お稽古事の都合もあるだろうから、そちらの都合を優先してもらっていいよ。無理して来なくてもいいよ。」と再三言ったのですが、相変わらず来ます。私の本心は伝わっているはずです。Ａは転勤族なので、遅かれ早かれ、いなくなります。中学生になれば、忙しくなるし、子供たちも親ぬきで遊ぶようになるでしょう。二度と会うこともないと思います。もう一度、Ａに「グループを抜けてもいいよ。」と言うつもりですが、どう言ったらわかってもらえますか？お姑さんと同居、主人、小学生の２人兄弟の男の子の5人家族です。先日、夕飯にサバの味噌煮を出しました。主人のお給料日だったので、魚屋さんに行っていつもより高品質、大きめのサバです。味噌煮は子どもたちも大好きだったので、ペロリと平らげてくれました。とそこへ、姑が「冷凍のサバの味噌煮なんてやめてくださる？」と、、。私「え？これは今日買ってきた生のさばですけど。。」姑「こんなにきれいに味噌煮なんてできないけど。」私「いえ、これは本当に冷凍じゃありません!!レシート見ますか？」主人「もういいからお前はだまってろよ！」私「え？私がいけないの？もっと汚く作ればよかったですね、すみませんでした!!」普段から料理に失敗したら文句、家族のことを考えてないだのなんだの言っていて、上手くできてもこんな文句か、、とイライラしてしまいました。こういうときはどう対処すればいいのでしょうか？最近イライラがとまりません。かわす、ことをおさめる方法がなかなか思い付きません。以前にも炊き込みご飯を出したら出来合いのものを混ぜないで！といきなり皆の前でおこられました。違います、、手作りです。。ちなみに敷地内に義弟夫婦がおり、週の半分ご飯を食べにくるので、緊急対処用に冷凍の魚類は置いてあります。たぶん、それを疑ってのことだと思います。お姑さんと同居、主人、小学生の２人兄弟の男の子の5人家族です。先日、夕飯にサバの味噌煮を出しました。主人のお給料日だったので、魚屋さんに行っていつもより高品質、大きめのサバです。味噌煮は子どもたちも大好きだったので、ペロリと平らげてくれました。とそこへ、姑が「冷凍のサバの味噌煮なんてやめてくださる？」と、、。私「え？これは今日買ってきた生のさばですけど。。」姑「こんなにきれいに味噌煮なんてできないけど。」私「いえ、これは本当に冷凍じゃありません!!レシート見ますか？」主人「もういいからお前はだまってろよ！」私「え？私がいけないの？もっと汚く作ればよかったですね、すみませんでした!!」普段から料理に失敗したら文句、家族のことを考えてないだのなんだの言っていて、上手くできてもこんな文句か、、とイライラしてしまいました。こういうときはどう対処すればいいのでしょうか？最近イライラがとまりません。かわす、ことをおさめる方法がなかなか思い付きません。以前にも炊き込みご飯を出したら出来合いのものを混ぜないで！といきなり皆の前でおこられました。違います、、手作りです。。ちなみに敷地内に義弟夫婦がおり、週の半分ご飯を食べにくるので、緊急対処用に冷凍の魚類は置いてあります。たぶん、それを疑ってのことだと思います。40代未婚の正社員です。この春他社から出向してきた後輩の男性社員が机の上に妻子の写真を額縁に入れて飾っており、結婚も出産も断念せざるを得なかった身としては、自分との差を思い知らされるようで大変辛いです。当社は室単位で仕事を行い、従って部屋も室ごとに分かれており、アットホーム逆にいえば閉鎖的な環境です。さりげなく「奥さんとお子さん？かわいいね。家族の写真飾ってる人なんて初めて見たけど、なんでわざわざ仕事中まで置いとくの？」と聞いたら、「愛する妻子の顔を見ていると仕事に精が出るからですよ」と答えました。「家庭に恵まれて幸せものねえ」と茶化して返しましたが、内心惨めさでいっぱいでした。「旦那さんはどんなお仕事されてるんですか？」と彼に聞かれることがあったので「結婚歴はありません、もう結婚も出産も諦めました、仕事が旦那です（笑）」と茶化しながら言いましたし、内心を察して写真を飾るのをやめてほしかったのですが、一向に意に介してないようです。彼は私の10個ほど年下。最近子供が生まれたばかりで、かわいくて仕方ないようで、何かにつけのろけ話が出てきて、私に対するあてつけなのではないかとすら思えてきてしまいました。数週間前から、朝一番早く来て、その写真をパタンと伏せるようにしました。当然彼はまたそれを立て掛けますが、何日も続けることで気づいてほしかったんです。しかし気付かず「毎朝写真が倒れてるんだけど、なんでだろう？」等と同僚に聞いています。とある先輩から「あいつに写真飾るのやめろって言おうか？」と聞かれ、気づかれていたことが分かりました。醜い内心を見抜かれて恥ずかしかったので「そんなことは言わなくていい」と言いましたが、頼んだ方がよかったのでしょうか。それとも私自ら辞めてと言うべきでしょうか。それともいちいち気にする方がおかしいのでしょうか。\n",
      "<_io.TextIOWrapper name='komachi.txt' mode='a' encoding='UTF-8'>\n"
     ]
    }
   ],
   "source": [
    "#https://komachi.yomiuri.co.jp/topics/id/527075/\n",
    "load_url = 'https://komachi.yomiuri.co.jp/topics/id/527075/'\n",
    "html = requests.get(load_url)\n",
    "soup5=BeautifulSoup(html.content,\"html.parser\")\n",
    "\n",
    "topic5= soup5.find(class_ = 'topicsId__articleContentText')\n",
    "#for element in topic.find_all(\"br\"):\n",
    " #   print(element.text)\n",
    "#print(topic.text)\n",
    "\n",
    "print('---追記前--')\n",
    "with open('komachi.txt','r') as f:\n",
    "    print(f.read())\n",
    "with open('komachi.txt', 'a') as f:\n",
    "#f.writelines(topic.text)\n",
    "    f.write(topic5.text)\n",
    "    print(f)\n",
    "    f.close "
   ]
  },
  {
   "cell_type": "code",
   "execution_count": 110,
   "id": "1ff3c1fb",
   "metadata": {},
   "outputs": [
    {
     "name": "stdout",
     "output_type": "stream",
     "text": [
      "---追記前--\n",
      "地方暮らしの29歳。娘二人、婿旦那、両親、祖母と4世代7人暮らしです私の家は地方の兼業農家で、今の田畑はそんなに多くはないのですが、江戸時代から続く家で、私はその家の三姉妹の末っ子です子供の頃から三人の内、誰かが婿を取って、家を継いで欲しいと言われてきました。上の姉は早々に結婚して、年子の姉も東京で就職し、地元に戻る気はないと言っていたので、私は専門学校卒業後、地元に戻って就職し、結婚相談所で紹介された旦那と24歳で結婚しました旦那は7歳年上で、知り合った当初は婿に入るのに難色を示していたのですが、結婚してからは、子煩悩で、真面目に仕事もしてくれるし、土日休日は両親や私と一緒に田んぼや畑もしてくれます去年、コロナの影響で、東京で働いていた姉が帰ってきました。すぐに東京に戻って再就職するだろうと考えていたのですが、無職のまま、既に1年以上経っています姉の「男の子産まないの？」「二世帯住宅にすればいいのに」など、我が家の経済状況を無視した無神経なイライラ話や「こっちで結婚しようかな。誰か紹介してよ」などの現実離れした話も我慢して来ました。でも、先週、とうとう爆発してしまいました旦那が風呂上りに風呂場から私たちの部屋まで半裸で動き回るのが気に入らないと言い出したのです私も「気に入らないんだったら、出てけば」「ここはもうあんたの家じゃないの」「30にもなって、仕事も貯金もなくて、結婚もできないくせに、なに言ってんのよ」と応戦してしまいましたその日は、旦那のとりなしもあったので、怒りを鎮めましたが、上の姉から電話があり「あんまり、下の姉を責めないで」という言葉と私を咎める話を聞いて、本当に全てが嫌になりました絶対姉を追い出したいです。我慢できません。どうすればいいでしょうか？追い出せないんだったら、私たちが出ていこうと思っています地方暮らしの29歳。娘二人、婿旦那、両親、祖母と4世代7人暮らしです私の家は地方の兼業農家で、今の田畑はそんなに多くはないのですが、江戸時代から続く家で、私はその家の三姉妹の末っ子です子供の頃から三人の内、誰かが婿を取って、家を継いで欲しいと言われてきました。上の姉は早々に結婚して、年子の姉も東京で就職し、地元に戻る気はないと言っていたので、私は専門学校卒業後、地元に戻って就職し、結婚相談所で紹介された旦那と24歳で結婚しました旦那は7歳年上で、知り合った当初は婿に入るのに難色を示していたのですが、結婚してからは、子煩悩で、真面目に仕事もしてくれるし、土日休日は両親や私と一緒に田んぼや畑もしてくれます去年、コロナの影響で、東京で働いていた姉が帰ってきました。すぐに東京に戻って再就職するだろうと考えていたのですが、無職のまま、既に1年以上経っています姉の「男の子産まないの？」「二世帯住宅にすればいいのに」など、我が家の経済状況を無視した無神経なイライラ話や「こっちで結婚しようかな。誰か紹介してよ」などの現実離れした話も我慢して来ました。でも、先週、とうとう爆発してしまいました旦那が風呂上りに風呂場から私たちの部屋まで半裸で動き回るのが気に入らないと言い出したのです私も「気に入らないんだったら、出てけば」「ここはもうあんたの家じゃないの」「30にもなって、仕事も貯金もなくて、結婚もできないくせに、なに言ってんのよ」と応戦してしまいましたその日は、旦那のとりなしもあったので、怒りを鎮めましたが、上の姉から電話があり「あんまり、下の姉を責めないで」という言葉と私を咎める話を聞いて、本当に全てが嫌になりました絶対姉を追い出したいです。我慢できません。どうすればいいでしょうか？追い出せないんだったら、私たちが出ていこうと思っています地方暮らしの29歳。娘二人、婿旦那、両親、祖母と4世代7人暮らしです私の家は地方の兼業農家で、今の田畑はそんなに多くはないのですが、江戸時代から続く家で、私はその家の三姉妹の末っ子です子供の頃から三人の内、誰かが婿を取って、家を継いで欲しいと言われてきました。上の姉は早々に結婚して、年子の姉も東京で就職し、地元に戻る気はないと言っていたので、私は専門学校卒業後、地元に戻って就職し、結婚相談所で紹介された旦那と24歳で結婚しました旦那は7歳年上で、知り合った当初は婿に入るのに難色を示していたのですが、結婚してからは、子煩悩で、真面目に仕事もしてくれるし、土日休日は両親や私と一緒に田んぼや畑もしてくれます去年、コロナの影響で、東京で働いていた姉が帰ってきました。すぐに東京に戻って再就職するだろうと考えていたのですが、無職のまま、既に1年以上経っています姉の「男の子産まないの？」「二世帯住宅にすればいいのに」など、我が家の経済状況を無視した無神経なイライラ話や「こっちで結婚しようかな。誰か紹介してよ」などの現実離れした話も我慢して来ました。でも、先週、とうとう爆発してしまいました旦那が風呂上りに風呂場から私たちの部屋まで半裸で動き回るのが気に入らないと言い出したのです私も「気に入らないんだったら、出てけば」「ここはもうあんたの家じゃないの」「30にもなって、仕事も貯金もなくて、結婚もできないくせに、なに言ってんのよ」と応戦してしまいましたその日は、旦那のとりなしもあったので、怒りを鎮めましたが、上の姉から電話があり「あんまり、下の姉を責めないで」という言葉と私を咎める話を聞いて、本当に全てが嫌になりました絶対姉を追い出したいです。我慢できません。どうすればいいでしょうか？追い出せないんだったら、私たちが出ていこうと思っています40代、5歳の子を持つ主婦です。夫は会社員ですが、自分達が食べる分くらいのお米を作っています。タイトルの友達とは中学時代から20年以上の付き合いになります。彼女も主婦で3人の子供がいます。数年前からその友達がうちからお米を買うようになって新米ができると連絡して取りに来てもらっていました。1年分まとめて買ってもらうので、スーパーなどで買うよりはだいぶ安い値段にしています。去年の9月も新米ができたと連絡し取りに来てもらうことになっていました。ところがお米を取りに来る前日に友達から「明日うちの旦那が釣りに出かけていないから良かったら遊びに来ない？」と LINEがあったので遊びに行くことにし、ついでにお米も持っていくことにしたんです。当日お米と手土産のケーキを持って友達の家に向かい、腰が痛いという友達の代わりに30kgの米袋5袋を車から家に運びました。友達の子供達とうちの子は久しぶりの対面に嬉しそうで一緒に走り回っていました。ここまではいいのですが、着いてからお茶のひとつも出てきません。招待しておいてお茶も出さないの？とちょっとモヤモヤした気持ちになりました。久しぶりにおしゃべりしよ〜！という割には会話は弾まないしなにも出ないし走り回っていた子供が喉が乾いたようなので1時間も経たないくらいで帰ることにしました。するとその友達が一言、「何のお構いもしませんで〜。」きっと最初からお茶を出す気はなかったんですね…今まで遊びに行ってそんな対応をされたことがなかったのでモヤモヤと共にショックでした。お米を安くしていることにも手土産を持っていったことにもお米を運んだことにもお礼の言葉がなかったことにもモヤモヤ…私は仲のいい友達と認識していましたが友達はそうは思っていなかったのかも？今後の付き合い方をどうすればいいのか悩んでいます。交際2年の彼女からもう泊まりに来ないでと言われました。当方35歳です。付き合ってからほぼ毎週末、彼女の家で過ごしていました。喧嘩もなくとても仲良くしてきたと思っています。先日彼女から泊まり拒否の申し出を受け、理由を聞いたところ結婚もしていないのに毎週末男性が部屋に出入りするのは世間的にも良くないと思う。少しだけ離れて距離を保った付き合いをしたい。と言われました。聞いた時は彼女の気持ちが冷めたのかとショックでしたが、それ以降も会えば今まで通りの彼女ですし、心変わりなどもなさそうです。僕が家へ帰るときも、彼女は寂しそうにしています。好きで一緒にいたいのに泊まりの拒否をする彼女の気持があまり理解できません。小町の皆様、彼女の気持ちを教えてください。また、どうすれば以前のように泊まりを含めたデートができるようになるでしょうか。よろしくお願いします。交際2年の彼女からもう泊まりに来ないでと言われました。当方35歳です。付き合ってからほぼ毎週末、彼女の家で過ごしていました。喧嘩もなくとても仲良くしてきたと思っています。先日彼女から泊まり拒否の申し出を受け、理由を聞いたところ結婚もしていないのに毎週末男性が部屋に出入りするのは世間的にも良くないと思う。少しだけ離れて距離を保った付き合いをしたい。と言われました。聞いた時は彼女の気持ちが冷めたのかとショックでしたが、それ以降も会えば今まで通りの彼女ですし、心変わりなどもなさそうです。僕が家へ帰るときも、彼女は寂しそうにしています。好きで一緒にいたいのに泊まりの拒否をする彼女の気持があまり理解できません。小町の皆様、彼女の気持ちを教えてください。また、どうすれば以前のように泊まりを含めたデートができるようになるでしょうか。よろしくお願いします。小学４年生の子どもがいます。幼稚園の頃からの友達が３人おり、毎週、順番に子どもたちを家で遊ばせていて、その間、私たち母親は、会話を楽しんでいます。その中の一人Aさんについて、相談があります。無口過ぎるのです。私たちのおしゃべりを聴いてはいるのですが、頭の回転が鈍いのか、聞くだけです。それなのに、時々、マウントのように聞こえることを言い（〇〇の△△は美味しいですよね、とか）、文脈関係ない話も飛び出してきて、反応に困ります。大学、仕事のことは、一切話しません。私、Ｂ、Ｃは気にせず話しますが、Ａだけは、あいまいに濁され、話してくれません。帰国子女か留学していたようで、無理にではないけれど、色々聞いてみたいのですが、隠す理由がわかりません。心を開いてくれていない気がして、疲れます。なぜ私たちと一緒にいるのだろう？利用してるだけ？もしかして、本当はグループを抜けたいけど、言い出しにくいのか？とイライラします。だから、４年生に進級するタイミングで、「中学受験や、お稽古事の都合もあるだろうから、そちらの都合を優先してもらっていいよ。無理して来なくてもいいよ。」と再三言ったのですが、相変わらず来ます。私の本心は伝わっているはずです。Ａは転勤族なので、遅かれ早かれ、いなくなります。中学生になれば、忙しくなるし、子供たちも親ぬきで遊ぶようになるでしょう。二度と会うこともないと思います。もう一度、Ａに「グループを抜けてもいいよ。」と言うつもりですが、どう言ったらわかってもらえますか？小学４年生の子どもがいます。幼稚園の頃からの友達が３人おり、毎週、順番に子どもたちを家で遊ばせていて、その間、私たち母親は、会話を楽しんでいます。その中の一人Aさんについて、相談があります。無口過ぎるのです。私たちのおしゃべりを聴いてはいるのですが、頭の回転が鈍いのか、聞くだけです。それなのに、時々、マウントのように聞こえることを言い（〇〇の△△は美味しいですよね、とか）、文脈関係ない話も飛び出してきて、反応に困ります。大学、仕事のことは、一切話しません。私、Ｂ、Ｃは気にせず話しますが、Ａだけは、あいまいに濁され、話してくれません。帰国子女か留学していたようで、無理にではないけれど、色々聞いてみたいのですが、隠す理由がわかりません。心を開いてくれていない気がして、疲れます。なぜ私たちと一緒にいるのだろう？利用してるだけ？もしかして、本当はグループを抜けたいけど、言い出しにくいのか？とイライラします。だから、４年生に進級するタイミングで、「中学受験や、お稽古事の都合もあるだろうから、そちらの都合を優先してもらっていいよ。無理して来なくてもいいよ。」と再三言ったのですが、相変わらず来ます。私の本心は伝わっているはずです。Ａは転勤族なので、遅かれ早かれ、いなくなります。中学生になれば、忙しくなるし、子供たちも親ぬきで遊ぶようになるでしょう。二度と会うこともないと思います。もう一度、Ａに「グループを抜けてもいいよ。」と言うつもりですが、どう言ったらわかってもらえますか？お姑さんと同居、主人、小学生の２人兄弟の男の子の5人家族です。先日、夕飯にサバの味噌煮を出しました。主人のお給料日だったので、魚屋さんに行っていつもより高品質、大きめのサバです。味噌煮は子どもたちも大好きだったので、ペロリと平らげてくれました。とそこへ、姑が「冷凍のサバの味噌煮なんてやめてくださる？」と、、。私「え？これは今日買ってきた生のさばですけど。。」姑「こんなにきれいに味噌煮なんてできないけど。」私「いえ、これは本当に冷凍じゃありません!!レシート見ますか？」主人「もういいからお前はだまってろよ！」私「え？私がいけないの？もっと汚く作ればよかったですね、すみませんでした!!」普段から料理に失敗したら文句、家族のことを考えてないだのなんだの言っていて、上手くできてもこんな文句か、、とイライラしてしまいました。こういうときはどう対処すればいいのでしょうか？最近イライラがとまりません。かわす、ことをおさめる方法がなかなか思い付きません。以前にも炊き込みご飯を出したら出来合いのものを混ぜないで！といきなり皆の前でおこられました。違います、、手作りです。。ちなみに敷地内に義弟夫婦がおり、週の半分ご飯を食べにくるので、緊急対処用に冷凍の魚類は置いてあります。たぶん、それを疑ってのことだと思います。お姑さんと同居、主人、小学生の２人兄弟の男の子の5人家族です。先日、夕飯にサバの味噌煮を出しました。主人のお給料日だったので、魚屋さんに行っていつもより高品質、大きめのサバです。味噌煮は子どもたちも大好きだったので、ペロリと平らげてくれました。とそこへ、姑が「冷凍のサバの味噌煮なんてやめてくださる？」と、、。私「え？これは今日買ってきた生のさばですけど。。」姑「こんなにきれいに味噌煮なんてできないけど。」私「いえ、これは本当に冷凍じゃありません!!レシート見ますか？」主人「もういいからお前はだまってろよ！」私「え？私がいけないの？もっと汚く作ればよかったですね、すみませんでした!!」普段から料理に失敗したら文句、家族のことを考えてないだのなんだの言っていて、上手くできてもこんな文句か、、とイライラしてしまいました。こういうときはどう対処すればいいのでしょうか？最近イライラがとまりません。かわす、ことをおさめる方法がなかなか思い付きません。以前にも炊き込みご飯を出したら出来合いのものを混ぜないで！といきなり皆の前でおこられました。違います、、手作りです。。ちなみに敷地内に義弟夫婦がおり、週の半分ご飯を食べにくるので、緊急対処用に冷凍の魚類は置いてあります。たぶん、それを疑ってのことだと思います。40代未婚の正社員です。この春他社から出向してきた後輩の男性社員が机の上に妻子の写真を額縁に入れて飾っており、結婚も出産も断念せざるを得なかった身としては、自分との差を思い知らされるようで大変辛いです。当社は室単位で仕事を行い、従って部屋も室ごとに分かれており、アットホーム逆にいえば閉鎖的な環境です。さりげなく「奥さんとお子さん？かわいいね。家族の写真飾ってる人なんて初めて見たけど、なんでわざわざ仕事中まで置いとくの？」と聞いたら、「愛する妻子の顔を見ていると仕事に精が出るからですよ」と答えました。「家庭に恵まれて幸せものねえ」と茶化して返しましたが、内心惨めさでいっぱいでした。「旦那さんはどんなお仕事されてるんですか？」と彼に聞かれることがあったので「結婚歴はありません、もう結婚も出産も諦めました、仕事が旦那です（笑）」と茶化しながら言いましたし、内心を察して写真を飾るのをやめてほしかったのですが、一向に意に介してないようです。彼は私の10個ほど年下。最近子供が生まれたばかりで、かわいくて仕方ないようで、何かにつけのろけ話が出てきて、私に対するあてつけなのではないかとすら思えてきてしまいました。数週間前から、朝一番早く来て、その写真をパタンと伏せるようにしました。当然彼はまたそれを立て掛けますが、何日も続けることで気づいてほしかったんです。しかし気付かず「毎朝写真が倒れてるんだけど、なんでだろう？」等と同僚に聞いています。とある先輩から「あいつに写真飾るのやめろって言おうか？」と聞かれ、気づかれていたことが分かりました。醜い内心を見抜かれて恥ずかしかったので「そんなことは言わなくていい」と言いましたが、頼んだ方がよかったのでしょうか。それとも私自ら辞めてと言うべきでしょうか。それともいちいち気にする方がおかしいのでしょうか。40代未婚の正社員です。この春他社から出向してきた後輩の男性社員が机の上に妻子の写真を額縁に入れて飾っており、結婚も出産も断念せざるを得なかった身としては、自分との差を思い知らされるようで大変辛いです。当社は室単位で仕事を行い、従って部屋も室ごとに分かれており、アットホーム逆にいえば閉鎖的な環境です。さりげなく「奥さんとお子さん？かわいいね。家族の写真飾ってる人なんて初めて見たけど、なんでわざわざ仕事中まで置いとくの？」と聞いたら、「愛する妻子の顔を見ていると仕事に精が出るからですよ」と答えました。「家庭に恵まれて幸せものねえ」と茶化して返しましたが、内心惨めさでいっぱいでした。「旦那さんはどんなお仕事されてるんですか？」と彼に聞かれることがあったので「結婚歴はありません、もう結婚も出産も諦めました、仕事が旦那です（笑）」と茶化しながら言いましたし、内心を察して写真を飾るのをやめてほしかったのですが、一向に意に介してないようです。彼は私の10個ほど年下。最近子供が生まれたばかりで、かわいくて仕方ないようで、何かにつけのろけ話が出てきて、私に対するあてつけなのではないかとすら思えてきてしまいました。数週間前から、朝一番早く来て、その写真をパタンと伏せるようにしました。当然彼はまたそれを立て掛けますが、何日も続けることで気づいてほしかったんです。しかし気付かず「毎朝写真が倒れてるんだけど、なんでだろう？」等と同僚に聞いています。とある先輩から「あいつに写真飾るのやめろって言おうか？」と聞かれ、気づかれていたことが分かりました。醜い内心を見抜かれて恥ずかしかったので「そんなことは言わなくていい」と言いましたが、頼んだ方がよかったのでしょうか。それとも私自ら辞めてと言うべきでしょうか。それともいちいち気にする方がおかしいのでしょうか。60代の主婦です。夫:60代。現在再雇用で一般企業勤務A子:20代半ば。夫の勤務先の社員。夫と同じ部署→人事異動で他部署に異動先日、夫から突然離婚を切り出されました。理由を聞くと「A子のことが好きになった。異動してから悩んでいることが多くて、相談を持ちかけられたり、食事に誘ったら来てくれたりする。下ネタを言ってみても照れたりするから多分脈アリだ」とのことでした。たしかに夫とA子が2人で食事に行っていることは知っていました。しかし、それを許可していたのは夫が「A子から相談したいことがあると言われたから話を聞いてくる」と言っていたからです。夫が話を聞くことで少しでもA子が楽になるならという思いでした。親子ほど年齢の離れた2人が、まさかそんなことになるとはと私も動揺しており、すぐに夫の携帯からA子に電話をかけさせました。電話に出たA子を問い詰めたところ・相談なんて持ちかけたことはない・食事を断らなかったのは、社会人としての礼儀だと思った。2人で行ったのは確かに軽率だったかもしれないが、自分の親ほどの年齢の人に誘われて断れなかった。あくまでも同僚として、人生の先輩として尊敬していただけ・大体、親子ほど離れてる人に好意を持つわけないでしょう。現実を見てください。こんな時間に電話をかけてきて迷惑です(確かに平日の夜でした)・食事に行こうとか、一人暮らしの私の家に行きたいとかの電話や下ネタがあまりにもしつこいので迷惑してました。この電話があったこと含めてハラスメント担当者に話しますと言われました。夫からA子に「それだけはやめてくれ。穏便にすませよう」と伝えてA子もそれで了承したので、その時は電話を切りました。続きます\n",
      "<_io.TextIOWrapper name='komachi.txt' mode='a' encoding='UTF-8'>\n"
     ]
    }
   ],
   "source": [
    "load_url = 'https://komachi.yomiuri.co.jp/topics/id/1046071/'\n",
    "html = requests.get(load_url)\n",
    "soup6=BeautifulSoup(html.content,\"html.parser\")\n",
    "\n",
    "topic6= soup6.find(class_ = 'topicsId__articleContentText')\n",
    "#for element in topic.find_all(\"br\"):\n",
    " #   print(element.text)\n",
    "#print(topic.text)\n",
    "\n",
    "print('---追記前--')\n",
    "with open('komachi.txt','r') as f:\n",
    "    print(f.read())\n",
    "with open('komachi.txt', 'a') as f:\n",
    "#f.writelines(topic.text)\n",
    "    f.write(topic6.text)\n",
    "    print(f)\n",
    "    f.close "
   ]
  },
  {
   "cell_type": "code",
   "execution_count": 112,
   "id": "4ac94301",
   "metadata": {},
   "outputs": [
    {
     "name": "stdout",
     "output_type": "stream",
     "text": [
      "---追記前--\n",
      "地方暮らしの29歳。娘二人、婿旦那、両親、祖母と4世代7人暮らしです私の家は地方の兼業農家で、今の田畑はそんなに多くはないのですが、江戸時代から続く家で、私はその家の三姉妹の末っ子です子供の頃から三人の内、誰かが婿を取って、家を継いで欲しいと言われてきました。上の姉は早々に結婚して、年子の姉も東京で就職し、地元に戻る気はないと言っていたので、私は専門学校卒業後、地元に戻って就職し、結婚相談所で紹介された旦那と24歳で結婚しました旦那は7歳年上で、知り合った当初は婿に入るのに難色を示していたのですが、結婚してからは、子煩悩で、真面目に仕事もしてくれるし、土日休日は両親や私と一緒に田んぼや畑もしてくれます去年、コロナの影響で、東京で働いていた姉が帰ってきました。すぐに東京に戻って再就職するだろうと考えていたのですが、無職のまま、既に1年以上経っています姉の「男の子産まないの？」「二世帯住宅にすればいいのに」など、我が家の経済状況を無視した無神経なイライラ話や「こっちで結婚しようかな。誰か紹介してよ」などの現実離れした話も我慢して来ました。でも、先週、とうとう爆発してしまいました旦那が風呂上りに風呂場から私たちの部屋まで半裸で動き回るのが気に入らないと言い出したのです私も「気に入らないんだったら、出てけば」「ここはもうあんたの家じゃないの」「30にもなって、仕事も貯金もなくて、結婚もできないくせに、なに言ってんのよ」と応戦してしまいましたその日は、旦那のとりなしもあったので、怒りを鎮めましたが、上の姉から電話があり「あんまり、下の姉を責めないで」という言葉と私を咎める話を聞いて、本当に全てが嫌になりました絶対姉を追い出したいです。我慢できません。どうすればいいでしょうか？追い出せないんだったら、私たちが出ていこうと思っています地方暮らしの29歳。娘二人、婿旦那、両親、祖母と4世代7人暮らしです私の家は地方の兼業農家で、今の田畑はそんなに多くはないのですが、江戸時代から続く家で、私はその家の三姉妹の末っ子です子供の頃から三人の内、誰かが婿を取って、家を継いで欲しいと言われてきました。上の姉は早々に結婚して、年子の姉も東京で就職し、地元に戻る気はないと言っていたので、私は専門学校卒業後、地元に戻って就職し、結婚相談所で紹介された旦那と24歳で結婚しました旦那は7歳年上で、知り合った当初は婿に入るのに難色を示していたのですが、結婚してからは、子煩悩で、真面目に仕事もしてくれるし、土日休日は両親や私と一緒に田んぼや畑もしてくれます去年、コロナの影響で、東京で働いていた姉が帰ってきました。すぐに東京に戻って再就職するだろうと考えていたのですが、無職のまま、既に1年以上経っています姉の「男の子産まないの？」「二世帯住宅にすればいいのに」など、我が家の経済状況を無視した無神経なイライラ話や「こっちで結婚しようかな。誰か紹介してよ」などの現実離れした話も我慢して来ました。でも、先週、とうとう爆発してしまいました旦那が風呂上りに風呂場から私たちの部屋まで半裸で動き回るのが気に入らないと言い出したのです私も「気に入らないんだったら、出てけば」「ここはもうあんたの家じゃないの」「30にもなって、仕事も貯金もなくて、結婚もできないくせに、なに言ってんのよ」と応戦してしまいましたその日は、旦那のとりなしもあったので、怒りを鎮めましたが、上の姉から電話があり「あんまり、下の姉を責めないで」という言葉と私を咎める話を聞いて、本当に全てが嫌になりました絶対姉を追い出したいです。我慢できません。どうすればいいでしょうか？追い出せないんだったら、私たちが出ていこうと思っています地方暮らしの29歳。娘二人、婿旦那、両親、祖母と4世代7人暮らしです私の家は地方の兼業農家で、今の田畑はそんなに多くはないのですが、江戸時代から続く家で、私はその家の三姉妹の末っ子です子供の頃から三人の内、誰かが婿を取って、家を継いで欲しいと言われてきました。上の姉は早々に結婚して、年子の姉も東京で就職し、地元に戻る気はないと言っていたので、私は専門学校卒業後、地元に戻って就職し、結婚相談所で紹介された旦那と24歳で結婚しました旦那は7歳年上で、知り合った当初は婿に入るのに難色を示していたのですが、結婚してからは、子煩悩で、真面目に仕事もしてくれるし、土日休日は両親や私と一緒に田んぼや畑もしてくれます去年、コロナの影響で、東京で働いていた姉が帰ってきました。すぐに東京に戻って再就職するだろうと考えていたのですが、無職のまま、既に1年以上経っています姉の「男の子産まないの？」「二世帯住宅にすればいいのに」など、我が家の経済状況を無視した無神経なイライラ話や「こっちで結婚しようかな。誰か紹介してよ」などの現実離れした話も我慢して来ました。でも、先週、とうとう爆発してしまいました旦那が風呂上りに風呂場から私たちの部屋まで半裸で動き回るのが気に入らないと言い出したのです私も「気に入らないんだったら、出てけば」「ここはもうあんたの家じゃないの」「30にもなって、仕事も貯金もなくて、結婚もできないくせに、なに言ってんのよ」と応戦してしまいましたその日は、旦那のとりなしもあったので、怒りを鎮めましたが、上の姉から電話があり「あんまり、下の姉を責めないで」という言葉と私を咎める話を聞いて、本当に全てが嫌になりました絶対姉を追い出したいです。我慢できません。どうすればいいでしょうか？追い出せないんだったら、私たちが出ていこうと思っています40代、5歳の子を持つ主婦です。夫は会社員ですが、自分達が食べる分くらいのお米を作っています。タイトルの友達とは中学時代から20年以上の付き合いになります。彼女も主婦で3人の子供がいます。数年前からその友達がうちからお米を買うようになって新米ができると連絡して取りに来てもらっていました。1年分まとめて買ってもらうので、スーパーなどで買うよりはだいぶ安い値段にしています。去年の9月も新米ができたと連絡し取りに来てもらうことになっていました。ところがお米を取りに来る前日に友達から「明日うちの旦那が釣りに出かけていないから良かったら遊びに来ない？」と LINEがあったので遊びに行くことにし、ついでにお米も持っていくことにしたんです。当日お米と手土産のケーキを持って友達の家に向かい、腰が痛いという友達の代わりに30kgの米袋5袋を車から家に運びました。友達の子供達とうちの子は久しぶりの対面に嬉しそうで一緒に走り回っていました。ここまではいいのですが、着いてからお茶のひとつも出てきません。招待しておいてお茶も出さないの？とちょっとモヤモヤした気持ちになりました。久しぶりにおしゃべりしよ〜！という割には会話は弾まないしなにも出ないし走り回っていた子供が喉が乾いたようなので1時間も経たないくらいで帰ることにしました。するとその友達が一言、「何のお構いもしませんで〜。」きっと最初からお茶を出す気はなかったんですね…今まで遊びに行ってそんな対応をされたことがなかったのでモヤモヤと共にショックでした。お米を安くしていることにも手土産を持っていったことにもお米を運んだことにもお礼の言葉がなかったことにもモヤモヤ…私は仲のいい友達と認識していましたが友達はそうは思っていなかったのかも？今後の付き合い方をどうすればいいのか悩んでいます。交際2年の彼女からもう泊まりに来ないでと言われました。当方35歳です。付き合ってからほぼ毎週末、彼女の家で過ごしていました。喧嘩もなくとても仲良くしてきたと思っています。先日彼女から泊まり拒否の申し出を受け、理由を聞いたところ結婚もしていないのに毎週末男性が部屋に出入りするのは世間的にも良くないと思う。少しだけ離れて距離を保った付き合いをしたい。と言われました。聞いた時は彼女の気持ちが冷めたのかとショックでしたが、それ以降も会えば今まで通りの彼女ですし、心変わりなどもなさそうです。僕が家へ帰るときも、彼女は寂しそうにしています。好きで一緒にいたいのに泊まりの拒否をする彼女の気持があまり理解できません。小町の皆様、彼女の気持ちを教えてください。また、どうすれば以前のように泊まりを含めたデートができるようになるでしょうか。よろしくお願いします。交際2年の彼女からもう泊まりに来ないでと言われました。当方35歳です。付き合ってからほぼ毎週末、彼女の家で過ごしていました。喧嘩もなくとても仲良くしてきたと思っています。先日彼女から泊まり拒否の申し出を受け、理由を聞いたところ結婚もしていないのに毎週末男性が部屋に出入りするのは世間的にも良くないと思う。少しだけ離れて距離を保った付き合いをしたい。と言われました。聞いた時は彼女の気持ちが冷めたのかとショックでしたが、それ以降も会えば今まで通りの彼女ですし、心変わりなどもなさそうです。僕が家へ帰るときも、彼女は寂しそうにしています。好きで一緒にいたいのに泊まりの拒否をする彼女の気持があまり理解できません。小町の皆様、彼女の気持ちを教えてください。また、どうすれば以前のように泊まりを含めたデートができるようになるでしょうか。よろしくお願いします。小学４年生の子どもがいます。幼稚園の頃からの友達が３人おり、毎週、順番に子どもたちを家で遊ばせていて、その間、私たち母親は、会話を楽しんでいます。その中の一人Aさんについて、相談があります。無口過ぎるのです。私たちのおしゃべりを聴いてはいるのですが、頭の回転が鈍いのか、聞くだけです。それなのに、時々、マウントのように聞こえることを言い（〇〇の△△は美味しいですよね、とか）、文脈関係ない話も飛び出してきて、反応に困ります。大学、仕事のことは、一切話しません。私、Ｂ、Ｃは気にせず話しますが、Ａだけは、あいまいに濁され、話してくれません。帰国子女か留学していたようで、無理にではないけれど、色々聞いてみたいのですが、隠す理由がわかりません。心を開いてくれていない気がして、疲れます。なぜ私たちと一緒にいるのだろう？利用してるだけ？もしかして、本当はグループを抜けたいけど、言い出しにくいのか？とイライラします。だから、４年生に進級するタイミングで、「中学受験や、お稽古事の都合もあるだろうから、そちらの都合を優先してもらっていいよ。無理して来なくてもいいよ。」と再三言ったのですが、相変わらず来ます。私の本心は伝わっているはずです。Ａは転勤族なので、遅かれ早かれ、いなくなります。中学生になれば、忙しくなるし、子供たちも親ぬきで遊ぶようになるでしょう。二度と会うこともないと思います。もう一度、Ａに「グループを抜けてもいいよ。」と言うつもりですが、どう言ったらわかってもらえますか？小学４年生の子どもがいます。幼稚園の頃からの友達が３人おり、毎週、順番に子どもたちを家で遊ばせていて、その間、私たち母親は、会話を楽しんでいます。その中の一人Aさんについて、相談があります。無口過ぎるのです。私たちのおしゃべりを聴いてはいるのですが、頭の回転が鈍いのか、聞くだけです。それなのに、時々、マウントのように聞こえることを言い（〇〇の△△は美味しいですよね、とか）、文脈関係ない話も飛び出してきて、反応に困ります。大学、仕事のことは、一切話しません。私、Ｂ、Ｃは気にせず話しますが、Ａだけは、あいまいに濁され、話してくれません。帰国子女か留学していたようで、無理にではないけれど、色々聞いてみたいのですが、隠す理由がわかりません。心を開いてくれていない気がして、疲れます。なぜ私たちと一緒にいるのだろう？利用してるだけ？もしかして、本当はグループを抜けたいけど、言い出しにくいのか？とイライラします。だから、４年生に進級するタイミングで、「中学受験や、お稽古事の都合もあるだろうから、そちらの都合を優先してもらっていいよ。無理して来なくてもいいよ。」と再三言ったのですが、相変わらず来ます。私の本心は伝わっているはずです。Ａは転勤族なので、遅かれ早かれ、いなくなります。中学生になれば、忙しくなるし、子供たちも親ぬきで遊ぶようになるでしょう。二度と会うこともないと思います。もう一度、Ａに「グループを抜けてもいいよ。」と言うつもりですが、どう言ったらわかってもらえますか？お姑さんと同居、主人、小学生の２人兄弟の男の子の5人家族です。先日、夕飯にサバの味噌煮を出しました。主人のお給料日だったので、魚屋さんに行っていつもより高品質、大きめのサバです。味噌煮は子どもたちも大好きだったので、ペロリと平らげてくれました。とそこへ、姑が「冷凍のサバの味噌煮なんてやめてくださる？」と、、。私「え？これは今日買ってきた生のさばですけど。。」姑「こんなにきれいに味噌煮なんてできないけど。」私「いえ、これは本当に冷凍じゃありません!!レシート見ますか？」主人「もういいからお前はだまってろよ！」私「え？私がいけないの？もっと汚く作ればよかったですね、すみませんでした!!」普段から料理に失敗したら文句、家族のことを考えてないだのなんだの言っていて、上手くできてもこんな文句か、、とイライラしてしまいました。こういうときはどう対処すればいいのでしょうか？最近イライラがとまりません。かわす、ことをおさめる方法がなかなか思い付きません。以前にも炊き込みご飯を出したら出来合いのものを混ぜないで！といきなり皆の前でおこられました。違います、、手作りです。。ちなみに敷地内に義弟夫婦がおり、週の半分ご飯を食べにくるので、緊急対処用に冷凍の魚類は置いてあります。たぶん、それを疑ってのことだと思います。お姑さんと同居、主人、小学生の２人兄弟の男の子の5人家族です。先日、夕飯にサバの味噌煮を出しました。主人のお給料日だったので、魚屋さんに行っていつもより高品質、大きめのサバです。味噌煮は子どもたちも大好きだったので、ペロリと平らげてくれました。とそこへ、姑が「冷凍のサバの味噌煮なんてやめてくださる？」と、、。私「え？これは今日買ってきた生のさばですけど。。」姑「こんなにきれいに味噌煮なんてできないけど。」私「いえ、これは本当に冷凍じゃありません!!レシート見ますか？」主人「もういいからお前はだまってろよ！」私「え？私がいけないの？もっと汚く作ればよかったですね、すみませんでした!!」普段から料理に失敗したら文句、家族のことを考えてないだのなんだの言っていて、上手くできてもこんな文句か、、とイライラしてしまいました。こういうときはどう対処すればいいのでしょうか？最近イライラがとまりません。かわす、ことをおさめる方法がなかなか思い付きません。以前にも炊き込みご飯を出したら出来合いのものを混ぜないで！といきなり皆の前でおこられました。違います、、手作りです。。ちなみに敷地内に義弟夫婦がおり、週の半分ご飯を食べにくるので、緊急対処用に冷凍の魚類は置いてあります。たぶん、それを疑ってのことだと思います。40代未婚の正社員です。この春他社から出向してきた後輩の男性社員が机の上に妻子の写真を額縁に入れて飾っており、結婚も出産も断念せざるを得なかった身としては、自分との差を思い知らされるようで大変辛いです。当社は室単位で仕事を行い、従って部屋も室ごとに分かれており、アットホーム逆にいえば閉鎖的な環境です。さりげなく「奥さんとお子さん？かわいいね。家族の写真飾ってる人なんて初めて見たけど、なんでわざわざ仕事中まで置いとくの？」と聞いたら、「愛する妻子の顔を見ていると仕事に精が出るからですよ」と答えました。「家庭に恵まれて幸せものねえ」と茶化して返しましたが、内心惨めさでいっぱいでした。「旦那さんはどんなお仕事されてるんですか？」と彼に聞かれることがあったので「結婚歴はありません、もう結婚も出産も諦めました、仕事が旦那です（笑）」と茶化しながら言いましたし、内心を察して写真を飾るのをやめてほしかったのですが、一向に意に介してないようです。彼は私の10個ほど年下。最近子供が生まれたばかりで、かわいくて仕方ないようで、何かにつけのろけ話が出てきて、私に対するあてつけなのではないかとすら思えてきてしまいました。数週間前から、朝一番早く来て、その写真をパタンと伏せるようにしました。当然彼はまたそれを立て掛けますが、何日も続けることで気づいてほしかったんです。しかし気付かず「毎朝写真が倒れてるんだけど、なんでだろう？」等と同僚に聞いています。とある先輩から「あいつに写真飾るのやめろって言おうか？」と聞かれ、気づかれていたことが分かりました。醜い内心を見抜かれて恥ずかしかったので「そんなことは言わなくていい」と言いましたが、頼んだ方がよかったのでしょうか。それとも私自ら辞めてと言うべきでしょうか。それともいちいち気にする方がおかしいのでしょうか。40代未婚の正社員です。この春他社から出向してきた後輩の男性社員が机の上に妻子の写真を額縁に入れて飾っており、結婚も出産も断念せざるを得なかった身としては、自分との差を思い知らされるようで大変辛いです。当社は室単位で仕事を行い、従って部屋も室ごとに分かれており、アットホーム逆にいえば閉鎖的な環境です。さりげなく「奥さんとお子さん？かわいいね。家族の写真飾ってる人なんて初めて見たけど、なんでわざわざ仕事中まで置いとくの？」と聞いたら、「愛する妻子の顔を見ていると仕事に精が出るからですよ」と答えました。「家庭に恵まれて幸せものねえ」と茶化して返しましたが、内心惨めさでいっぱいでした。「旦那さんはどんなお仕事されてるんですか？」と彼に聞かれることがあったので「結婚歴はありません、もう結婚も出産も諦めました、仕事が旦那です（笑）」と茶化しながら言いましたし、内心を察して写真を飾るのをやめてほしかったのですが、一向に意に介してないようです。彼は私の10個ほど年下。最近子供が生まれたばかりで、かわいくて仕方ないようで、何かにつけのろけ話が出てきて、私に対するあてつけなのではないかとすら思えてきてしまいました。数週間前から、朝一番早く来て、その写真をパタンと伏せるようにしました。当然彼はまたそれを立て掛けますが、何日も続けることで気づいてほしかったんです。しかし気付かず「毎朝写真が倒れてるんだけど、なんでだろう？」等と同僚に聞いています。とある先輩から「あいつに写真飾るのやめろって言おうか？」と聞かれ、気づかれていたことが分かりました。醜い内心を見抜かれて恥ずかしかったので「そんなことは言わなくていい」と言いましたが、頼んだ方がよかったのでしょうか。それとも私自ら辞めてと言うべきでしょうか。それともいちいち気にする方がおかしいのでしょうか。60代の主婦です。夫:60代。現在再雇用で一般企業勤務A子:20代半ば。夫の勤務先の社員。夫と同じ部署→人事異動で他部署に異動先日、夫から突然離婚を切り出されました。理由を聞くと「A子のことが好きになった。異動してから悩んでいることが多くて、相談を持ちかけられたり、食事に誘ったら来てくれたりする。下ネタを言ってみても照れたりするから多分脈アリだ」とのことでした。たしかに夫とA子が2人で食事に行っていることは知っていました。しかし、それを許可していたのは夫が「A子から相談したいことがあると言われたから話を聞いてくる」と言っていたからです。夫が話を聞くことで少しでもA子が楽になるならという思いでした。親子ほど年齢の離れた2人が、まさかそんなことになるとはと私も動揺しており、すぐに夫の携帯からA子に電話をかけさせました。電話に出たA子を問い詰めたところ・相談なんて持ちかけたことはない・食事を断らなかったのは、社会人としての礼儀だと思った。2人で行ったのは確かに軽率だったかもしれないが、自分の親ほどの年齢の人に誘われて断れなかった。あくまでも同僚として、人生の先輩として尊敬していただけ・大体、親子ほど離れてる人に好意を持つわけないでしょう。現実を見てください。こんな時間に電話をかけてきて迷惑です(確かに平日の夜でした)・食事に行こうとか、一人暮らしの私の家に行きたいとかの電話や下ネタがあまりにもしつこいので迷惑してました。この電話があったこと含めてハラスメント担当者に話しますと言われました。夫からA子に「それだけはやめてくれ。穏便にすませよう」と伝えてA子もそれで了承したので、その時は電話を切りました。続きます60代の主婦です。夫:60代。現在再雇用で一般企業勤務A子:20代半ば。夫の勤務先の社員。夫と同じ部署→人事異動で他部署に異動先日、夫から突然離婚を切り出されました。理由を聞くと「A子のことが好きになった。異動してから悩んでいることが多くて、相談を持ちかけられたり、食事に誘ったら来てくれたりする。下ネタを言ってみても照れたりするから多分脈アリだ」とのことでした。たしかに夫とA子が2人で食事に行っていることは知っていました。しかし、それを許可していたのは夫が「A子から相談したいことがあると言われたから話を聞いてくる」と言っていたからです。夫が話を聞くことで少しでもA子が楽になるならという思いでした。親子ほど年齢の離れた2人が、まさかそんなことになるとはと私も動揺しており、すぐに夫の携帯からA子に電話をかけさせました。電話に出たA子を問い詰めたところ・相談なんて持ちかけたことはない・食事を断らなかったのは、社会人としての礼儀だと思った。2人で行ったのは確かに軽率だったかもしれないが、自分の親ほどの年齢の人に誘われて断れなかった。あくまでも同僚として、人生の先輩として尊敬していただけ・大体、親子ほど離れてる人に好意を持つわけないでしょう。現実を見てください。こんな時間に電話をかけてきて迷惑です(確かに平日の夜でした)・食事に行こうとか、一人暮らしの私の家に行きたいとかの電話や下ネタがあまりにもしつこいので迷惑してました。この電話があったこと含めてハラスメント担当者に話しますと言われました。夫からA子に「それだけはやめてくれ。穏便にすませよう」と伝えてA子もそれで了承したので、その時は電話を切りました。続きます年末から、県外に進学していた娘が、今年成人式ということもあり久しぶりに帰ってきました。本当に久しぶりの帰郷なので、娘は「今日は中学時代の友人」「明日は高校時代の友人」「週末は部活の友人」･･･という感じで、会うメンバーをチェンジしながら旧交を温めていました。そんな中、ご近所に住む方（＝Ａさん）が娘の成人のお祝いをあげたいと連絡くださいました。その方とは家族ぐるみのお付き合いをしていたので（最近は子どもが大きくなり疎遠にはなってますが）どうぞ我が家で夕飯をご一緒しましょうとお誘いしました。この食事会は約２週間前のことで、まだオミクロンは今ほど猛威をふるっていませんでした。しかし、食事会の２日後、娘が発熱してしまいコロナと診断されてしまいました。飲食を共にしたＡさんにすぐに連絡し、恐らく濃厚接触者にあたるので検査をして欲しいとお願いしました。幸いにもＡさんご家族は全員陰性でしたが、やはり濃厚接触者になると宣告され、１０日間の自宅待機生活になるそうで、申し訳なさでいっぱいになりました。最初、Ａさんは、「感染したのは娘ちゃんが悪いわけではないから気にしないで。」と言っていたのですが、うっかり、実は娘はワクチン未接種であること、帰郷後、飲み歩いていたことを話したところ、態度が一変してしまったのです。検査代が家族分で２万円近くかかった。（検査自体は公費ですが病院の初診料等がかかった。）パートを休まざるを得なくなり職場に迷惑を掛けたし、給料が減額される。娘ちゃんが、ワクチン未接種なのに迂闊な行動をしていたと知っていたら、お宅に行くことはなかったのに。などなど、直接的な言葉ではありませんが、上記のようなことを言われてしまいました。Ａさんが支払った検査代を負担すべきでしょうか？\n",
      "<_io.TextIOWrapper name='komachi.txt' mode='a' encoding='UTF-8'>\n"
     ]
    }
   ],
   "source": [
    "load_url = 'https://komachi.yomiuri.co.jp/topics/id/1047937/'\n",
    "html = requests.get(load_url)\n",
    "soup7=BeautifulSoup(html.content,\"html.parser\")\n",
    "\n",
    "topic7= soup7.find(class_ = 'topicsId__articleContentText')\n",
    "#for element in topic.find_all(\"br\"):\n",
    " #   print(element.text)\n",
    "#print(topic.text)\n",
    "\n",
    "print('---追記前--')\n",
    "with open('komachi.txt','r') as f:\n",
    "    print(f.read())\n",
    "with open('komachi.txt', 'a') as f:\n",
    "#f.writelines(topic.text)\n",
    "    f.write(topic7.text)\n",
    "    print(f)\n",
    "    f.close "
   ]
  },
  {
   "cell_type": "code",
   "execution_count": 114,
   "id": "22e772e4",
   "metadata": {},
   "outputs": [
    {
     "name": "stdout",
     "output_type": "stream",
     "text": [
      "---追記前--\n",
      "地方暮らしの29歳。娘二人、婿旦那、両親、祖母と4世代7人暮らしです私の家は地方の兼業農家で、今の田畑はそんなに多くはないのですが、江戸時代から続く家で、私はその家の三姉妹の末っ子です子供の頃から三人の内、誰かが婿を取って、家を継いで欲しいと言われてきました。上の姉は早々に結婚して、年子の姉も東京で就職し、地元に戻る気はないと言っていたので、私は専門学校卒業後、地元に戻って就職し、結婚相談所で紹介された旦那と24歳で結婚しました旦那は7歳年上で、知り合った当初は婿に入るのに難色を示していたのですが、結婚してからは、子煩悩で、真面目に仕事もしてくれるし、土日休日は両親や私と一緒に田んぼや畑もしてくれます去年、コロナの影響で、東京で働いていた姉が帰ってきました。すぐに東京に戻って再就職するだろうと考えていたのですが、無職のまま、既に1年以上経っています姉の「男の子産まないの？」「二世帯住宅にすればいいのに」など、我が家の経済状況を無視した無神経なイライラ話や「こっちで結婚しようかな。誰か紹介してよ」などの現実離れした話も我慢して来ました。でも、先週、とうとう爆発してしまいました旦那が風呂上りに風呂場から私たちの部屋まで半裸で動き回るのが気に入らないと言い出したのです私も「気に入らないんだったら、出てけば」「ここはもうあんたの家じゃないの」「30にもなって、仕事も貯金もなくて、結婚もできないくせに、なに言ってんのよ」と応戦してしまいましたその日は、旦那のとりなしもあったので、怒りを鎮めましたが、上の姉から電話があり「あんまり、下の姉を責めないで」という言葉と私を咎める話を聞いて、本当に全てが嫌になりました絶対姉を追い出したいです。我慢できません。どうすればいいでしょうか？追い出せないんだったら、私たちが出ていこうと思っています地方暮らしの29歳。娘二人、婿旦那、両親、祖母と4世代7人暮らしです私の家は地方の兼業農家で、今の田畑はそんなに多くはないのですが、江戸時代から続く家で、私はその家の三姉妹の末っ子です子供の頃から三人の内、誰かが婿を取って、家を継いで欲しいと言われてきました。上の姉は早々に結婚して、年子の姉も東京で就職し、地元に戻る気はないと言っていたので、私は専門学校卒業後、地元に戻って就職し、結婚相談所で紹介された旦那と24歳で結婚しました旦那は7歳年上で、知り合った当初は婿に入るのに難色を示していたのですが、結婚してからは、子煩悩で、真面目に仕事もしてくれるし、土日休日は両親や私と一緒に田んぼや畑もしてくれます去年、コロナの影響で、東京で働いていた姉が帰ってきました。すぐに東京に戻って再就職するだろうと考えていたのですが、無職のまま、既に1年以上経っています姉の「男の子産まないの？」「二世帯住宅にすればいいのに」など、我が家の経済状況を無視した無神経なイライラ話や「こっちで結婚しようかな。誰か紹介してよ」などの現実離れした話も我慢して来ました。でも、先週、とうとう爆発してしまいました旦那が風呂上りに風呂場から私たちの部屋まで半裸で動き回るのが気に入らないと言い出したのです私も「気に入らないんだったら、出てけば」「ここはもうあんたの家じゃないの」「30にもなって、仕事も貯金もなくて、結婚もできないくせに、なに言ってんのよ」と応戦してしまいましたその日は、旦那のとりなしもあったので、怒りを鎮めましたが、上の姉から電話があり「あんまり、下の姉を責めないで」という言葉と私を咎める話を聞いて、本当に全てが嫌になりました絶対姉を追い出したいです。我慢できません。どうすればいいでしょうか？追い出せないんだったら、私たちが出ていこうと思っています地方暮らしの29歳。娘二人、婿旦那、両親、祖母と4世代7人暮らしです私の家は地方の兼業農家で、今の田畑はそんなに多くはないのですが、江戸時代から続く家で、私はその家の三姉妹の末っ子です子供の頃から三人の内、誰かが婿を取って、家を継いで欲しいと言われてきました。上の姉は早々に結婚して、年子の姉も東京で就職し、地元に戻る気はないと言っていたので、私は専門学校卒業後、地元に戻って就職し、結婚相談所で紹介された旦那と24歳で結婚しました旦那は7歳年上で、知り合った当初は婿に入るのに難色を示していたのですが、結婚してからは、子煩悩で、真面目に仕事もしてくれるし、土日休日は両親や私と一緒に田んぼや畑もしてくれます去年、コロナの影響で、東京で働いていた姉が帰ってきました。すぐに東京に戻って再就職するだろうと考えていたのですが、無職のまま、既に1年以上経っています姉の「男の子産まないの？」「二世帯住宅にすればいいのに」など、我が家の経済状況を無視した無神経なイライラ話や「こっちで結婚しようかな。誰か紹介してよ」などの現実離れした話も我慢して来ました。でも、先週、とうとう爆発してしまいました旦那が風呂上りに風呂場から私たちの部屋まで半裸で動き回るのが気に入らないと言い出したのです私も「気に入らないんだったら、出てけば」「ここはもうあんたの家じゃないの」「30にもなって、仕事も貯金もなくて、結婚もできないくせに、なに言ってんのよ」と応戦してしまいましたその日は、旦那のとりなしもあったので、怒りを鎮めましたが、上の姉から電話があり「あんまり、下の姉を責めないで」という言葉と私を咎める話を聞いて、本当に全てが嫌になりました絶対姉を追い出したいです。我慢できません。どうすればいいでしょうか？追い出せないんだったら、私たちが出ていこうと思っています40代、5歳の子を持つ主婦です。夫は会社員ですが、自分達が食べる分くらいのお米を作っています。タイトルの友達とは中学時代から20年以上の付き合いになります。彼女も主婦で3人の子供がいます。数年前からその友達がうちからお米を買うようになって新米ができると連絡して取りに来てもらっていました。1年分まとめて買ってもらうので、スーパーなどで買うよりはだいぶ安い値段にしています。去年の9月も新米ができたと連絡し取りに来てもらうことになっていました。ところがお米を取りに来る前日に友達から「明日うちの旦那が釣りに出かけていないから良かったら遊びに来ない？」と LINEがあったので遊びに行くことにし、ついでにお米も持っていくことにしたんです。当日お米と手土産のケーキを持って友達の家に向かい、腰が痛いという友達の代わりに30kgの米袋5袋を車から家に運びました。友達の子供達とうちの子は久しぶりの対面に嬉しそうで一緒に走り回っていました。ここまではいいのですが、着いてからお茶のひとつも出てきません。招待しておいてお茶も出さないの？とちょっとモヤモヤした気持ちになりました。久しぶりにおしゃべりしよ〜！という割には会話は弾まないしなにも出ないし走り回っていた子供が喉が乾いたようなので1時間も経たないくらいで帰ることにしました。するとその友達が一言、「何のお構いもしませんで〜。」きっと最初からお茶を出す気はなかったんですね…今まで遊びに行ってそんな対応をされたことがなかったのでモヤモヤと共にショックでした。お米を安くしていることにも手土産を持っていったことにもお米を運んだことにもお礼の言葉がなかったことにもモヤモヤ…私は仲のいい友達と認識していましたが友達はそうは思っていなかったのかも？今後の付き合い方をどうすればいいのか悩んでいます。交際2年の彼女からもう泊まりに来ないでと言われました。当方35歳です。付き合ってからほぼ毎週末、彼女の家で過ごしていました。喧嘩もなくとても仲良くしてきたと思っています。先日彼女から泊まり拒否の申し出を受け、理由を聞いたところ結婚もしていないのに毎週末男性が部屋に出入りするのは世間的にも良くないと思う。少しだけ離れて距離を保った付き合いをしたい。と言われました。聞いた時は彼女の気持ちが冷めたのかとショックでしたが、それ以降も会えば今まで通りの彼女ですし、心変わりなどもなさそうです。僕が家へ帰るときも、彼女は寂しそうにしています。好きで一緒にいたいのに泊まりの拒否をする彼女の気持があまり理解できません。小町の皆様、彼女の気持ちを教えてください。また、どうすれば以前のように泊まりを含めたデートができるようになるでしょうか。よろしくお願いします。交際2年の彼女からもう泊まりに来ないでと言われました。当方35歳です。付き合ってからほぼ毎週末、彼女の家で過ごしていました。喧嘩もなくとても仲良くしてきたと思っています。先日彼女から泊まり拒否の申し出を受け、理由を聞いたところ結婚もしていないのに毎週末男性が部屋に出入りするのは世間的にも良くないと思う。少しだけ離れて距離を保った付き合いをしたい。と言われました。聞いた時は彼女の気持ちが冷めたのかとショックでしたが、それ以降も会えば今まで通りの彼女ですし、心変わりなどもなさそうです。僕が家へ帰るときも、彼女は寂しそうにしています。好きで一緒にいたいのに泊まりの拒否をする彼女の気持があまり理解できません。小町の皆様、彼女の気持ちを教えてください。また、どうすれば以前のように泊まりを含めたデートができるようになるでしょうか。よろしくお願いします。小学４年生の子どもがいます。幼稚園の頃からの友達が３人おり、毎週、順番に子どもたちを家で遊ばせていて、その間、私たち母親は、会話を楽しんでいます。その中の一人Aさんについて、相談があります。無口過ぎるのです。私たちのおしゃべりを聴いてはいるのですが、頭の回転が鈍いのか、聞くだけです。それなのに、時々、マウントのように聞こえることを言い（〇〇の△△は美味しいですよね、とか）、文脈関係ない話も飛び出してきて、反応に困ります。大学、仕事のことは、一切話しません。私、Ｂ、Ｃは気にせず話しますが、Ａだけは、あいまいに濁され、話してくれません。帰国子女か留学していたようで、無理にではないけれど、色々聞いてみたいのですが、隠す理由がわかりません。心を開いてくれていない気がして、疲れます。なぜ私たちと一緒にいるのだろう？利用してるだけ？もしかして、本当はグループを抜けたいけど、言い出しにくいのか？とイライラします。だから、４年生に進級するタイミングで、「中学受験や、お稽古事の都合もあるだろうから、そちらの都合を優先してもらっていいよ。無理して来なくてもいいよ。」と再三言ったのですが、相変わらず来ます。私の本心は伝わっているはずです。Ａは転勤族なので、遅かれ早かれ、いなくなります。中学生になれば、忙しくなるし、子供たちも親ぬきで遊ぶようになるでしょう。二度と会うこともないと思います。もう一度、Ａに「グループを抜けてもいいよ。」と言うつもりですが、どう言ったらわかってもらえますか？小学４年生の子どもがいます。幼稚園の頃からの友達が３人おり、毎週、順番に子どもたちを家で遊ばせていて、その間、私たち母親は、会話を楽しんでいます。その中の一人Aさんについて、相談があります。無口過ぎるのです。私たちのおしゃべりを聴いてはいるのですが、頭の回転が鈍いのか、聞くだけです。それなのに、時々、マウントのように聞こえることを言い（〇〇の△△は美味しいですよね、とか）、文脈関係ない話も飛び出してきて、反応に困ります。大学、仕事のことは、一切話しません。私、Ｂ、Ｃは気にせず話しますが、Ａだけは、あいまいに濁され、話してくれません。帰国子女か留学していたようで、無理にではないけれど、色々聞いてみたいのですが、隠す理由がわかりません。心を開いてくれていない気がして、疲れます。なぜ私たちと一緒にいるのだろう？利用してるだけ？もしかして、本当はグループを抜けたいけど、言い出しにくいのか？とイライラします。だから、４年生に進級するタイミングで、「中学受験や、お稽古事の都合もあるだろうから、そちらの都合を優先してもらっていいよ。無理して来なくてもいいよ。」と再三言ったのですが、相変わらず来ます。私の本心は伝わっているはずです。Ａは転勤族なので、遅かれ早かれ、いなくなります。中学生になれば、忙しくなるし、子供たちも親ぬきで遊ぶようになるでしょう。二度と会うこともないと思います。もう一度、Ａに「グループを抜けてもいいよ。」と言うつもりですが、どう言ったらわかってもらえますか？お姑さんと同居、主人、小学生の２人兄弟の男の子の5人家族です。先日、夕飯にサバの味噌煮を出しました。主人のお給料日だったので、魚屋さんに行っていつもより高品質、大きめのサバです。味噌煮は子どもたちも大好きだったので、ペロリと平らげてくれました。とそこへ、姑が「冷凍のサバの味噌煮なんてやめてくださる？」と、、。私「え？これは今日買ってきた生のさばですけど。。」姑「こんなにきれいに味噌煮なんてできないけど。」私「いえ、これは本当に冷凍じゃありません!!レシート見ますか？」主人「もういいからお前はだまってろよ！」私「え？私がいけないの？もっと汚く作ればよかったですね、すみませんでした!!」普段から料理に失敗したら文句、家族のことを考えてないだのなんだの言っていて、上手くできてもこんな文句か、、とイライラしてしまいました。こういうときはどう対処すればいいのでしょうか？最近イライラがとまりません。かわす、ことをおさめる方法がなかなか思い付きません。以前にも炊き込みご飯を出したら出来合いのものを混ぜないで！といきなり皆の前でおこられました。違います、、手作りです。。ちなみに敷地内に義弟夫婦がおり、週の半分ご飯を食べにくるので、緊急対処用に冷凍の魚類は置いてあります。たぶん、それを疑ってのことだと思います。お姑さんと同居、主人、小学生の２人兄弟の男の子の5人家族です。先日、夕飯にサバの味噌煮を出しました。主人のお給料日だったので、魚屋さんに行っていつもより高品質、大きめのサバです。味噌煮は子どもたちも大好きだったので、ペロリと平らげてくれました。とそこへ、姑が「冷凍のサバの味噌煮なんてやめてくださる？」と、、。私「え？これは今日買ってきた生のさばですけど。。」姑「こんなにきれいに味噌煮なんてできないけど。」私「いえ、これは本当に冷凍じゃありません!!レシート見ますか？」主人「もういいからお前はだまってろよ！」私「え？私がいけないの？もっと汚く作ればよかったですね、すみませんでした!!」普段から料理に失敗したら文句、家族のことを考えてないだのなんだの言っていて、上手くできてもこんな文句か、、とイライラしてしまいました。こういうときはどう対処すればいいのでしょうか？最近イライラがとまりません。かわす、ことをおさめる方法がなかなか思い付きません。以前にも炊き込みご飯を出したら出来合いのものを混ぜないで！といきなり皆の前でおこられました。違います、、手作りです。。ちなみに敷地内に義弟夫婦がおり、週の半分ご飯を食べにくるので、緊急対処用に冷凍の魚類は置いてあります。たぶん、それを疑ってのことだと思います。40代未婚の正社員です。この春他社から出向してきた後輩の男性社員が机の上に妻子の写真を額縁に入れて飾っており、結婚も出産も断念せざるを得なかった身としては、自分との差を思い知らされるようで大変辛いです。当社は室単位で仕事を行い、従って部屋も室ごとに分かれており、アットホーム逆にいえば閉鎖的な環境です。さりげなく「奥さんとお子さん？かわいいね。家族の写真飾ってる人なんて初めて見たけど、なんでわざわざ仕事中まで置いとくの？」と聞いたら、「愛する妻子の顔を見ていると仕事に精が出るからですよ」と答えました。「家庭に恵まれて幸せものねえ」と茶化して返しましたが、内心惨めさでいっぱいでした。「旦那さんはどんなお仕事されてるんですか？」と彼に聞かれることがあったので「結婚歴はありません、もう結婚も出産も諦めました、仕事が旦那です（笑）」と茶化しながら言いましたし、内心を察して写真を飾るのをやめてほしかったのですが、一向に意に介してないようです。彼は私の10個ほど年下。最近子供が生まれたばかりで、かわいくて仕方ないようで、何かにつけのろけ話が出てきて、私に対するあてつけなのではないかとすら思えてきてしまいました。数週間前から、朝一番早く来て、その写真をパタンと伏せるようにしました。当然彼はまたそれを立て掛けますが、何日も続けることで気づいてほしかったんです。しかし気付かず「毎朝写真が倒れてるんだけど、なんでだろう？」等と同僚に聞いています。とある先輩から「あいつに写真飾るのやめろって言おうか？」と聞かれ、気づかれていたことが分かりました。醜い内心を見抜かれて恥ずかしかったので「そんなことは言わなくていい」と言いましたが、頼んだ方がよかったのでしょうか。それとも私自ら辞めてと言うべきでしょうか。それともいちいち気にする方がおかしいのでしょうか。40代未婚の正社員です。この春他社から出向してきた後輩の男性社員が机の上に妻子の写真を額縁に入れて飾っており、結婚も出産も断念せざるを得なかった身としては、自分との差を思い知らされるようで大変辛いです。当社は室単位で仕事を行い、従って部屋も室ごとに分かれており、アットホーム逆にいえば閉鎖的な環境です。さりげなく「奥さんとお子さん？かわいいね。家族の写真飾ってる人なんて初めて見たけど、なんでわざわざ仕事中まで置いとくの？」と聞いたら、「愛する妻子の顔を見ていると仕事に精が出るからですよ」と答えました。「家庭に恵まれて幸せものねえ」と茶化して返しましたが、内心惨めさでいっぱいでした。「旦那さんはどんなお仕事されてるんですか？」と彼に聞かれることがあったので「結婚歴はありません、もう結婚も出産も諦めました、仕事が旦那です（笑）」と茶化しながら言いましたし、内心を察して写真を飾るのをやめてほしかったのですが、一向に意に介してないようです。彼は私の10個ほど年下。最近子供が生まれたばかりで、かわいくて仕方ないようで、何かにつけのろけ話が出てきて、私に対するあてつけなのではないかとすら思えてきてしまいました。数週間前から、朝一番早く来て、その写真をパタンと伏せるようにしました。当然彼はまたそれを立て掛けますが、何日も続けることで気づいてほしかったんです。しかし気付かず「毎朝写真が倒れてるんだけど、なんでだろう？」等と同僚に聞いています。とある先輩から「あいつに写真飾るのやめろって言おうか？」と聞かれ、気づかれていたことが分かりました。醜い内心を見抜かれて恥ずかしかったので「そんなことは言わなくていい」と言いましたが、頼んだ方がよかったのでしょうか。それとも私自ら辞めてと言うべきでしょうか。それともいちいち気にする方がおかしいのでしょうか。60代の主婦です。夫:60代。現在再雇用で一般企業勤務A子:20代半ば。夫の勤務先の社員。夫と同じ部署→人事異動で他部署に異動先日、夫から突然離婚を切り出されました。理由を聞くと「A子のことが好きになった。異動してから悩んでいることが多くて、相談を持ちかけられたり、食事に誘ったら来てくれたりする。下ネタを言ってみても照れたりするから多分脈アリだ」とのことでした。たしかに夫とA子が2人で食事に行っていることは知っていました。しかし、それを許可していたのは夫が「A子から相談したいことがあると言われたから話を聞いてくる」と言っていたからです。夫が話を聞くことで少しでもA子が楽になるならという思いでした。親子ほど年齢の離れた2人が、まさかそんなことになるとはと私も動揺しており、すぐに夫の携帯からA子に電話をかけさせました。電話に出たA子を問い詰めたところ・相談なんて持ちかけたことはない・食事を断らなかったのは、社会人としての礼儀だと思った。2人で行ったのは確かに軽率だったかもしれないが、自分の親ほどの年齢の人に誘われて断れなかった。あくまでも同僚として、人生の先輩として尊敬していただけ・大体、親子ほど離れてる人に好意を持つわけないでしょう。現実を見てください。こんな時間に電話をかけてきて迷惑です(確かに平日の夜でした)・食事に行こうとか、一人暮らしの私の家に行きたいとかの電話や下ネタがあまりにもしつこいので迷惑してました。この電話があったこと含めてハラスメント担当者に話しますと言われました。夫からA子に「それだけはやめてくれ。穏便にすませよう」と伝えてA子もそれで了承したので、その時は電話を切りました。続きます60代の主婦です。夫:60代。現在再雇用で一般企業勤務A子:20代半ば。夫の勤務先の社員。夫と同じ部署→人事異動で他部署に異動先日、夫から突然離婚を切り出されました。理由を聞くと「A子のことが好きになった。異動してから悩んでいることが多くて、相談を持ちかけられたり、食事に誘ったら来てくれたりする。下ネタを言ってみても照れたりするから多分脈アリだ」とのことでした。たしかに夫とA子が2人で食事に行っていることは知っていました。しかし、それを許可していたのは夫が「A子から相談したいことがあると言われたから話を聞いてくる」と言っていたからです。夫が話を聞くことで少しでもA子が楽になるならという思いでした。親子ほど年齢の離れた2人が、まさかそんなことになるとはと私も動揺しており、すぐに夫の携帯からA子に電話をかけさせました。電話に出たA子を問い詰めたところ・相談なんて持ちかけたことはない・食事を断らなかったのは、社会人としての礼儀だと思った。2人で行ったのは確かに軽率だったかもしれないが、自分の親ほどの年齢の人に誘われて断れなかった。あくまでも同僚として、人生の先輩として尊敬していただけ・大体、親子ほど離れてる人に好意を持つわけないでしょう。現実を見てください。こんな時間に電話をかけてきて迷惑です(確かに平日の夜でした)・食事に行こうとか、一人暮らしの私の家に行きたいとかの電話や下ネタがあまりにもしつこいので迷惑してました。この電話があったこと含めてハラスメント担当者に話しますと言われました。夫からA子に「それだけはやめてくれ。穏便にすませよう」と伝えてA子もそれで了承したので、その時は電話を切りました。続きます年末から、県外に進学していた娘が、今年成人式ということもあり久しぶりに帰ってきました。本当に久しぶりの帰郷なので、娘は「今日は中学時代の友人」「明日は高校時代の友人」「週末は部活の友人」･･･という感じで、会うメンバーをチェンジしながら旧交を温めていました。そんな中、ご近所に住む方（＝Ａさん）が娘の成人のお祝いをあげたいと連絡くださいました。その方とは家族ぐるみのお付き合いをしていたので（最近は子どもが大きくなり疎遠にはなってますが）どうぞ我が家で夕飯をご一緒しましょうとお誘いしました。この食事会は約２週間前のことで、まだオミクロンは今ほど猛威をふるっていませんでした。しかし、食事会の２日後、娘が発熱してしまいコロナと診断されてしまいました。飲食を共にしたＡさんにすぐに連絡し、恐らく濃厚接触者にあたるので検査をして欲しいとお願いしました。幸いにもＡさんご家族は全員陰性でしたが、やはり濃厚接触者になると宣告され、１０日間の自宅待機生活になるそうで、申し訳なさでいっぱいになりました。最初、Ａさんは、「感染したのは娘ちゃんが悪いわけではないから気にしないで。」と言っていたのですが、うっかり、実は娘はワクチン未接種であること、帰郷後、飲み歩いていたことを話したところ、態度が一変してしまったのです。検査代が家族分で２万円近くかかった。（検査自体は公費ですが病院の初診料等がかかった。）パートを休まざるを得なくなり職場に迷惑を掛けたし、給料が減額される。娘ちゃんが、ワクチン未接種なのに迂闊な行動をしていたと知っていたら、お宅に行くことはなかったのに。などなど、直接的な言葉ではありませんが、上記のようなことを言われてしまいました。Ａさんが支払った検査代を負担すべきでしょうか？年末から、県外に進学していた娘が、今年成人式ということもあり久しぶりに帰ってきました。本当に久しぶりの帰郷なので、娘は「今日は中学時代の友人」「明日は高校時代の友人」「週末は部活の友人」･･･という感じで、会うメンバーをチェンジしながら旧交を温めていました。そんな中、ご近所に住む方（＝Ａさん）が娘の成人のお祝いをあげたいと連絡くださいました。その方とは家族ぐるみのお付き合いをしていたので（最近は子どもが大きくなり疎遠にはなってますが）どうぞ我が家で夕飯をご一緒しましょうとお誘いしました。この食事会は約２週間前のことで、まだオミクロンは今ほど猛威をふるっていませんでした。しかし、食事会の２日後、娘が発熱してしまいコロナと診断されてしまいました。飲食を共にしたＡさんにすぐに連絡し、恐らく濃厚接触者にあたるので検査をして欲しいとお願いしました。幸いにもＡさんご家族は全員陰性でしたが、やはり濃厚接触者になると宣告され、１０日間の自宅待機生活になるそうで、申し訳なさでいっぱいになりました。最初、Ａさんは、「感染したのは娘ちゃんが悪いわけではないから気にしないで。」と言っていたのですが、うっかり、実は娘はワクチン未接種であること、帰郷後、飲み歩いていたことを話したところ、態度が一変してしまったのです。検査代が家族分で２万円近くかかった。（検査自体は公費ですが病院の初診料等がかかった。）パートを休まざるを得なくなり職場に迷惑を掛けたし、給料が減額される。娘ちゃんが、ワクチン未接種なのに迂闊な行動をしていたと知っていたら、お宅に行くことはなかったのに。などなど、直接的な言葉ではありませんが、上記のようなことを言われてしまいました。Ａさんが支払った検査代を負担すべきでしょうか？誰かに話を聞いて頂きたいと思い、長くなりますが聞いてください。昨日一年半弱お付き合いした彼と別れました。私は33歳、彼は39歳です。彼とは笑いのツボも合い、家族に対する考え方等が自分と近い事もあり、良き相談相手でもありました。会うのは週末一緒に過ごし、月曜は彼の家から仕事へ行くのがルーティンでした。お互い疲れている日はゆっくりしようと言えるくらいの仲でした。付き合った当初は本当に紳士的でこんな完璧な人いるのか？と思うくらいでした。笑しかし、最近は喧嘩のスパンが増えてきてよくよく考えると殆ど同じ事で喧嘩していました。彼はとても連絡がマメで、仕事終わり、出かける際も何時頃には帰るよ→今家着いたよ等の連絡は欠かさない人でした。私はマメな方では無く、彼と同じように連絡をして欲しいと言われていたので、心がけていました。仕事の時は、仕事が終わった事、無事家についた事。これは必ずしていました。しかし生理前や、仕事が遅くなって疲れてたりすると、うっかり家に着いたよの連絡を忘れてしまった事が数ヶ月に一回あったんです。(彼が次の日仕事で早く、もう寝ると先にLINEが来た日にそうなりがちです。起きている時は必ず連絡します)友達とご飯に行く際も、彼からのLINEに対して後で返そうと思っても、連絡のラリーが途絶えた事ですごく怒られた事もありました。彼は相手を心配させないようにと言う思いがとても強いので、マメに連絡してくれているのはわかりますし、私も彼と付き合ってその方が良いと思ってそうしてきました。ただ根本の性格を変える事は難しく努力していても状況によって、する気分になれない時もあります。今回は彼が寝てる状態で、帰ったよ！の連絡をせず、次の日LINEした事によって怒ってしまいました。続きます↓\n",
      "<_io.TextIOWrapper name='komachi.txt' mode='a' encoding='UTF-8'>\n"
     ]
    }
   ],
   "source": [
    "load_url = 'https://komachi.yomiuri.co.jp/topics/id/1048104/'\n",
    "html = requests.get(load_url)\n",
    "soup8=BeautifulSoup(html.content,\"html.parser\")\n",
    "\n",
    "topic8= soup8.find(class_ = 'topicsId__articleContentText')\n",
    "#for element in topic.find_all(\"br\"):\n",
    " #   print(element.text)\n",
    "#print(topic.text)\n",
    "\n",
    "print('---追記前--')\n",
    "with open('komachi.txt','r') as f:\n",
    "    print(f.read())\n",
    "with open('komachi.txt', 'a') as f:\n",
    "#f.writelines(topic.text)\n",
    "    f.write(topic8.text)\n",
    "    print(f)\n",
    "    f.close "
   ]
  },
  {
   "cell_type": "code",
   "execution_count": 116,
   "id": "4fde579a",
   "metadata": {},
   "outputs": [
    {
     "name": "stdout",
     "output_type": "stream",
     "text": [
      "---追記前--\n",
      "地方暮らしの29歳。娘二人、婿旦那、両親、祖母と4世代7人暮らしです私の家は地方の兼業農家で、今の田畑はそんなに多くはないのですが、江戸時代から続く家で、私はその家の三姉妹の末っ子です子供の頃から三人の内、誰かが婿を取って、家を継いで欲しいと言われてきました。上の姉は早々に結婚して、年子の姉も東京で就職し、地元に戻る気はないと言っていたので、私は専門学校卒業後、地元に戻って就職し、結婚相談所で紹介された旦那と24歳で結婚しました旦那は7歳年上で、知り合った当初は婿に入るのに難色を示していたのですが、結婚してからは、子煩悩で、真面目に仕事もしてくれるし、土日休日は両親や私と一緒に田んぼや畑もしてくれます去年、コロナの影響で、東京で働いていた姉が帰ってきました。すぐに東京に戻って再就職するだろうと考えていたのですが、無職のまま、既に1年以上経っています姉の「男の子産まないの？」「二世帯住宅にすればいいのに」など、我が家の経済状況を無視した無神経なイライラ話や「こっちで結婚しようかな。誰か紹介してよ」などの現実離れした話も我慢して来ました。でも、先週、とうとう爆発してしまいました旦那が風呂上りに風呂場から私たちの部屋まで半裸で動き回るのが気に入らないと言い出したのです私も「気に入らないんだったら、出てけば」「ここはもうあんたの家じゃないの」「30にもなって、仕事も貯金もなくて、結婚もできないくせに、なに言ってんのよ」と応戦してしまいましたその日は、旦那のとりなしもあったので、怒りを鎮めましたが、上の姉から電話があり「あんまり、下の姉を責めないで」という言葉と私を咎める話を聞いて、本当に全てが嫌になりました絶対姉を追い出したいです。我慢できません。どうすればいいでしょうか？追い出せないんだったら、私たちが出ていこうと思っています地方暮らしの29歳。娘二人、婿旦那、両親、祖母と4世代7人暮らしです私の家は地方の兼業農家で、今の田畑はそんなに多くはないのですが、江戸時代から続く家で、私はその家の三姉妹の末っ子です子供の頃から三人の内、誰かが婿を取って、家を継いで欲しいと言われてきました。上の姉は早々に結婚して、年子の姉も東京で就職し、地元に戻る気はないと言っていたので、私は専門学校卒業後、地元に戻って就職し、結婚相談所で紹介された旦那と24歳で結婚しました旦那は7歳年上で、知り合った当初は婿に入るのに難色を示していたのですが、結婚してからは、子煩悩で、真面目に仕事もしてくれるし、土日休日は両親や私と一緒に田んぼや畑もしてくれます去年、コロナの影響で、東京で働いていた姉が帰ってきました。すぐに東京に戻って再就職するだろうと考えていたのですが、無職のまま、既に1年以上経っています姉の「男の子産まないの？」「二世帯住宅にすればいいのに」など、我が家の経済状況を無視した無神経なイライラ話や「こっちで結婚しようかな。誰か紹介してよ」などの現実離れした話も我慢して来ました。でも、先週、とうとう爆発してしまいました旦那が風呂上りに風呂場から私たちの部屋まで半裸で動き回るのが気に入らないと言い出したのです私も「気に入らないんだったら、出てけば」「ここはもうあんたの家じゃないの」「30にもなって、仕事も貯金もなくて、結婚もできないくせに、なに言ってんのよ」と応戦してしまいましたその日は、旦那のとりなしもあったので、怒りを鎮めましたが、上の姉から電話があり「あんまり、下の姉を責めないで」という言葉と私を咎める話を聞いて、本当に全てが嫌になりました絶対姉を追い出したいです。我慢できません。どうすればいいでしょうか？追い出せないんだったら、私たちが出ていこうと思っています地方暮らしの29歳。娘二人、婿旦那、両親、祖母と4世代7人暮らしです私の家は地方の兼業農家で、今の田畑はそんなに多くはないのですが、江戸時代から続く家で、私はその家の三姉妹の末っ子です子供の頃から三人の内、誰かが婿を取って、家を継いで欲しいと言われてきました。上の姉は早々に結婚して、年子の姉も東京で就職し、地元に戻る気はないと言っていたので、私は専門学校卒業後、地元に戻って就職し、結婚相談所で紹介された旦那と24歳で結婚しました旦那は7歳年上で、知り合った当初は婿に入るのに難色を示していたのですが、結婚してからは、子煩悩で、真面目に仕事もしてくれるし、土日休日は両親や私と一緒に田んぼや畑もしてくれます去年、コロナの影響で、東京で働いていた姉が帰ってきました。すぐに東京に戻って再就職するだろうと考えていたのですが、無職のまま、既に1年以上経っています姉の「男の子産まないの？」「二世帯住宅にすればいいのに」など、我が家の経済状況を無視した無神経なイライラ話や「こっちで結婚しようかな。誰か紹介してよ」などの現実離れした話も我慢して来ました。でも、先週、とうとう爆発してしまいました旦那が風呂上りに風呂場から私たちの部屋まで半裸で動き回るのが気に入らないと言い出したのです私も「気に入らないんだったら、出てけば」「ここはもうあんたの家じゃないの」「30にもなって、仕事も貯金もなくて、結婚もできないくせに、なに言ってんのよ」と応戦してしまいましたその日は、旦那のとりなしもあったので、怒りを鎮めましたが、上の姉から電話があり「あんまり、下の姉を責めないで」という言葉と私を咎める話を聞いて、本当に全てが嫌になりました絶対姉を追い出したいです。我慢できません。どうすればいいでしょうか？追い出せないんだったら、私たちが出ていこうと思っています40代、5歳の子を持つ主婦です。夫は会社員ですが、自分達が食べる分くらいのお米を作っています。タイトルの友達とは中学時代から20年以上の付き合いになります。彼女も主婦で3人の子供がいます。数年前からその友達がうちからお米を買うようになって新米ができると連絡して取りに来てもらっていました。1年分まとめて買ってもらうので、スーパーなどで買うよりはだいぶ安い値段にしています。去年の9月も新米ができたと連絡し取りに来てもらうことになっていました。ところがお米を取りに来る前日に友達から「明日うちの旦那が釣りに出かけていないから良かったら遊びに来ない？」と LINEがあったので遊びに行くことにし、ついでにお米も持っていくことにしたんです。当日お米と手土産のケーキを持って友達の家に向かい、腰が痛いという友達の代わりに30kgの米袋5袋を車から家に運びました。友達の子供達とうちの子は久しぶりの対面に嬉しそうで一緒に走り回っていました。ここまではいいのですが、着いてからお茶のひとつも出てきません。招待しておいてお茶も出さないの？とちょっとモヤモヤした気持ちになりました。久しぶりにおしゃべりしよ〜！という割には会話は弾まないしなにも出ないし走り回っていた子供が喉が乾いたようなので1時間も経たないくらいで帰ることにしました。するとその友達が一言、「何のお構いもしませんで〜。」きっと最初からお茶を出す気はなかったんですね…今まで遊びに行ってそんな対応をされたことがなかったのでモヤモヤと共にショックでした。お米を安くしていることにも手土産を持っていったことにもお米を運んだことにもお礼の言葉がなかったことにもモヤモヤ…私は仲のいい友達と認識していましたが友達はそうは思っていなかったのかも？今後の付き合い方をどうすればいいのか悩んでいます。交際2年の彼女からもう泊まりに来ないでと言われました。当方35歳です。付き合ってからほぼ毎週末、彼女の家で過ごしていました。喧嘩もなくとても仲良くしてきたと思っています。先日彼女から泊まり拒否の申し出を受け、理由を聞いたところ結婚もしていないのに毎週末男性が部屋に出入りするのは世間的にも良くないと思う。少しだけ離れて距離を保った付き合いをしたい。と言われました。聞いた時は彼女の気持ちが冷めたのかとショックでしたが、それ以降も会えば今まで通りの彼女ですし、心変わりなどもなさそうです。僕が家へ帰るときも、彼女は寂しそうにしています。好きで一緒にいたいのに泊まりの拒否をする彼女の気持があまり理解できません。小町の皆様、彼女の気持ちを教えてください。また、どうすれば以前のように泊まりを含めたデートができるようになるでしょうか。よろしくお願いします。交際2年の彼女からもう泊まりに来ないでと言われました。当方35歳です。付き合ってからほぼ毎週末、彼女の家で過ごしていました。喧嘩もなくとても仲良くしてきたと思っています。先日彼女から泊まり拒否の申し出を受け、理由を聞いたところ結婚もしていないのに毎週末男性が部屋に出入りするのは世間的にも良くないと思う。少しだけ離れて距離を保った付き合いをしたい。と言われました。聞いた時は彼女の気持ちが冷めたのかとショックでしたが、それ以降も会えば今まで通りの彼女ですし、心変わりなどもなさそうです。僕が家へ帰るときも、彼女は寂しそうにしています。好きで一緒にいたいのに泊まりの拒否をする彼女の気持があまり理解できません。小町の皆様、彼女の気持ちを教えてください。また、どうすれば以前のように泊まりを含めたデートができるようになるでしょうか。よろしくお願いします。小学４年生の子どもがいます。幼稚園の頃からの友達が３人おり、毎週、順番に子どもたちを家で遊ばせていて、その間、私たち母親は、会話を楽しんでいます。その中の一人Aさんについて、相談があります。無口過ぎるのです。私たちのおしゃべりを聴いてはいるのですが、頭の回転が鈍いのか、聞くだけです。それなのに、時々、マウントのように聞こえることを言い（〇〇の△△は美味しいですよね、とか）、文脈関係ない話も飛び出してきて、反応に困ります。大学、仕事のことは、一切話しません。私、Ｂ、Ｃは気にせず話しますが、Ａだけは、あいまいに濁され、話してくれません。帰国子女か留学していたようで、無理にではないけれど、色々聞いてみたいのですが、隠す理由がわかりません。心を開いてくれていない気がして、疲れます。なぜ私たちと一緒にいるのだろう？利用してるだけ？もしかして、本当はグループを抜けたいけど、言い出しにくいのか？とイライラします。だから、４年生に進級するタイミングで、「中学受験や、お稽古事の都合もあるだろうから、そちらの都合を優先してもらっていいよ。無理して来なくてもいいよ。」と再三言ったのですが、相変わらず来ます。私の本心は伝わっているはずです。Ａは転勤族なので、遅かれ早かれ、いなくなります。中学生になれば、忙しくなるし、子供たちも親ぬきで遊ぶようになるでしょう。二度と会うこともないと思います。もう一度、Ａに「グループを抜けてもいいよ。」と言うつもりですが、どう言ったらわかってもらえますか？小学４年生の子どもがいます。幼稚園の頃からの友達が３人おり、毎週、順番に子どもたちを家で遊ばせていて、その間、私たち母親は、会話を楽しんでいます。その中の一人Aさんについて、相談があります。無口過ぎるのです。私たちのおしゃべりを聴いてはいるのですが、頭の回転が鈍いのか、聞くだけです。それなのに、時々、マウントのように聞こえることを言い（〇〇の△△は美味しいですよね、とか）、文脈関係ない話も飛び出してきて、反応に困ります。大学、仕事のことは、一切話しません。私、Ｂ、Ｃは気にせず話しますが、Ａだけは、あいまいに濁され、話してくれません。帰国子女か留学していたようで、無理にではないけれど、色々聞いてみたいのですが、隠す理由がわかりません。心を開いてくれていない気がして、疲れます。なぜ私たちと一緒にいるのだろう？利用してるだけ？もしかして、本当はグループを抜けたいけど、言い出しにくいのか？とイライラします。だから、４年生に進級するタイミングで、「中学受験や、お稽古事の都合もあるだろうから、そちらの都合を優先してもらっていいよ。無理して来なくてもいいよ。」と再三言ったのですが、相変わらず来ます。私の本心は伝わっているはずです。Ａは転勤族なので、遅かれ早かれ、いなくなります。中学生になれば、忙しくなるし、子供たちも親ぬきで遊ぶようになるでしょう。二度と会うこともないと思います。もう一度、Ａに「グループを抜けてもいいよ。」と言うつもりですが、どう言ったらわかってもらえますか？お姑さんと同居、主人、小学生の２人兄弟の男の子の5人家族です。先日、夕飯にサバの味噌煮を出しました。主人のお給料日だったので、魚屋さんに行っていつもより高品質、大きめのサバです。味噌煮は子どもたちも大好きだったので、ペロリと平らげてくれました。とそこへ、姑が「冷凍のサバの味噌煮なんてやめてくださる？」と、、。私「え？これは今日買ってきた生のさばですけど。。」姑「こんなにきれいに味噌煮なんてできないけど。」私「いえ、これは本当に冷凍じゃありません!!レシート見ますか？」主人「もういいからお前はだまってろよ！」私「え？私がいけないの？もっと汚く作ればよかったですね、すみませんでした!!」普段から料理に失敗したら文句、家族のことを考えてないだのなんだの言っていて、上手くできてもこんな文句か、、とイライラしてしまいました。こういうときはどう対処すればいいのでしょうか？最近イライラがとまりません。かわす、ことをおさめる方法がなかなか思い付きません。以前にも炊き込みご飯を出したら出来合いのものを混ぜないで！といきなり皆の前でおこられました。違います、、手作りです。。ちなみに敷地内に義弟夫婦がおり、週の半分ご飯を食べにくるので、緊急対処用に冷凍の魚類は置いてあります。たぶん、それを疑ってのことだと思います。お姑さんと同居、主人、小学生の２人兄弟の男の子の5人家族です。先日、夕飯にサバの味噌煮を出しました。主人のお給料日だったので、魚屋さんに行っていつもより高品質、大きめのサバです。味噌煮は子どもたちも大好きだったので、ペロリと平らげてくれました。とそこへ、姑が「冷凍のサバの味噌煮なんてやめてくださる？」と、、。私「え？これは今日買ってきた生のさばですけど。。」姑「こんなにきれいに味噌煮なんてできないけど。」私「いえ、これは本当に冷凍じゃありません!!レシート見ますか？」主人「もういいからお前はだまってろよ！」私「え？私がいけないの？もっと汚く作ればよかったですね、すみませんでした!!」普段から料理に失敗したら文句、家族のことを考えてないだのなんだの言っていて、上手くできてもこんな文句か、、とイライラしてしまいました。こういうときはどう対処すればいいのでしょうか？最近イライラがとまりません。かわす、ことをおさめる方法がなかなか思い付きません。以前にも炊き込みご飯を出したら出来合いのものを混ぜないで！といきなり皆の前でおこられました。違います、、手作りです。。ちなみに敷地内に義弟夫婦がおり、週の半分ご飯を食べにくるので、緊急対処用に冷凍の魚類は置いてあります。たぶん、それを疑ってのことだと思います。40代未婚の正社員です。この春他社から出向してきた後輩の男性社員が机の上に妻子の写真を額縁に入れて飾っており、結婚も出産も断念せざるを得なかった身としては、自分との差を思い知らされるようで大変辛いです。当社は室単位で仕事を行い、従って部屋も室ごとに分かれており、アットホーム逆にいえば閉鎖的な環境です。さりげなく「奥さんとお子さん？かわいいね。家族の写真飾ってる人なんて初めて見たけど、なんでわざわざ仕事中まで置いとくの？」と聞いたら、「愛する妻子の顔を見ていると仕事に精が出るからですよ」と答えました。「家庭に恵まれて幸せものねえ」と茶化して返しましたが、内心惨めさでいっぱいでした。「旦那さんはどんなお仕事されてるんですか？」と彼に聞かれることがあったので「結婚歴はありません、もう結婚も出産も諦めました、仕事が旦那です（笑）」と茶化しながら言いましたし、内心を察して写真を飾るのをやめてほしかったのですが、一向に意に介してないようです。彼は私の10個ほど年下。最近子供が生まれたばかりで、かわいくて仕方ないようで、何かにつけのろけ話が出てきて、私に対するあてつけなのではないかとすら思えてきてしまいました。数週間前から、朝一番早く来て、その写真をパタンと伏せるようにしました。当然彼はまたそれを立て掛けますが、何日も続けることで気づいてほしかったんです。しかし気付かず「毎朝写真が倒れてるんだけど、なんでだろう？」等と同僚に聞いています。とある先輩から「あいつに写真飾るのやめろって言おうか？」と聞かれ、気づかれていたことが分かりました。醜い内心を見抜かれて恥ずかしかったので「そんなことは言わなくていい」と言いましたが、頼んだ方がよかったのでしょうか。それとも私自ら辞めてと言うべきでしょうか。それともいちいち気にする方がおかしいのでしょうか。40代未婚の正社員です。この春他社から出向してきた後輩の男性社員が机の上に妻子の写真を額縁に入れて飾っており、結婚も出産も断念せざるを得なかった身としては、自分との差を思い知らされるようで大変辛いです。当社は室単位で仕事を行い、従って部屋も室ごとに分かれており、アットホーム逆にいえば閉鎖的な環境です。さりげなく「奥さんとお子さん？かわいいね。家族の写真飾ってる人なんて初めて見たけど、なんでわざわざ仕事中まで置いとくの？」と聞いたら、「愛する妻子の顔を見ていると仕事に精が出るからですよ」と答えました。「家庭に恵まれて幸せものねえ」と茶化して返しましたが、内心惨めさでいっぱいでした。「旦那さんはどんなお仕事されてるんですか？」と彼に聞かれることがあったので「結婚歴はありません、もう結婚も出産も諦めました、仕事が旦那です（笑）」と茶化しながら言いましたし、内心を察して写真を飾るのをやめてほしかったのですが、一向に意に介してないようです。彼は私の10個ほど年下。最近子供が生まれたばかりで、かわいくて仕方ないようで、何かにつけのろけ話が出てきて、私に対するあてつけなのではないかとすら思えてきてしまいました。数週間前から、朝一番早く来て、その写真をパタンと伏せるようにしました。当然彼はまたそれを立て掛けますが、何日も続けることで気づいてほしかったんです。しかし気付かず「毎朝写真が倒れてるんだけど、なんでだろう？」等と同僚に聞いています。とある先輩から「あいつに写真飾るのやめろって言おうか？」と聞かれ、気づかれていたことが分かりました。醜い内心を見抜かれて恥ずかしかったので「そんなことは言わなくていい」と言いましたが、頼んだ方がよかったのでしょうか。それとも私自ら辞めてと言うべきでしょうか。それともいちいち気にする方がおかしいのでしょうか。60代の主婦です。夫:60代。現在再雇用で一般企業勤務A子:20代半ば。夫の勤務先の社員。夫と同じ部署→人事異動で他部署に異動先日、夫から突然離婚を切り出されました。理由を聞くと「A子のことが好きになった。異動してから悩んでいることが多くて、相談を持ちかけられたり、食事に誘ったら来てくれたりする。下ネタを言ってみても照れたりするから多分脈アリだ」とのことでした。たしかに夫とA子が2人で食事に行っていることは知っていました。しかし、それを許可していたのは夫が「A子から相談したいことがあると言われたから話を聞いてくる」と言っていたからです。夫が話を聞くことで少しでもA子が楽になるならという思いでした。親子ほど年齢の離れた2人が、まさかそんなことになるとはと私も動揺しており、すぐに夫の携帯からA子に電話をかけさせました。電話に出たA子を問い詰めたところ・相談なんて持ちかけたことはない・食事を断らなかったのは、社会人としての礼儀だと思った。2人で行ったのは確かに軽率だったかもしれないが、自分の親ほどの年齢の人に誘われて断れなかった。あくまでも同僚として、人生の先輩として尊敬していただけ・大体、親子ほど離れてる人に好意を持つわけないでしょう。現実を見てください。こんな時間に電話をかけてきて迷惑です(確かに平日の夜でした)・食事に行こうとか、一人暮らしの私の家に行きたいとかの電話や下ネタがあまりにもしつこいので迷惑してました。この電話があったこと含めてハラスメント担当者に話しますと言われました。夫からA子に「それだけはやめてくれ。穏便にすませよう」と伝えてA子もそれで了承したので、その時は電話を切りました。続きます60代の主婦です。夫:60代。現在再雇用で一般企業勤務A子:20代半ば。夫の勤務先の社員。夫と同じ部署→人事異動で他部署に異動先日、夫から突然離婚を切り出されました。理由を聞くと「A子のことが好きになった。異動してから悩んでいることが多くて、相談を持ちかけられたり、食事に誘ったら来てくれたりする。下ネタを言ってみても照れたりするから多分脈アリだ」とのことでした。たしかに夫とA子が2人で食事に行っていることは知っていました。しかし、それを許可していたのは夫が「A子から相談したいことがあると言われたから話を聞いてくる」と言っていたからです。夫が話を聞くことで少しでもA子が楽になるならという思いでした。親子ほど年齢の離れた2人が、まさかそんなことになるとはと私も動揺しており、すぐに夫の携帯からA子に電話をかけさせました。電話に出たA子を問い詰めたところ・相談なんて持ちかけたことはない・食事を断らなかったのは、社会人としての礼儀だと思った。2人で行ったのは確かに軽率だったかもしれないが、自分の親ほどの年齢の人に誘われて断れなかった。あくまでも同僚として、人生の先輩として尊敬していただけ・大体、親子ほど離れてる人に好意を持つわけないでしょう。現実を見てください。こんな時間に電話をかけてきて迷惑です(確かに平日の夜でした)・食事に行こうとか、一人暮らしの私の家に行きたいとかの電話や下ネタがあまりにもしつこいので迷惑してました。この電話があったこと含めてハラスメント担当者に話しますと言われました。夫からA子に「それだけはやめてくれ。穏便にすませよう」と伝えてA子もそれで了承したので、その時は電話を切りました。続きます年末から、県外に進学していた娘が、今年成人式ということもあり久しぶりに帰ってきました。本当に久しぶりの帰郷なので、娘は「今日は中学時代の友人」「明日は高校時代の友人」「週末は部活の友人」･･･という感じで、会うメンバーをチェンジしながら旧交を温めていました。そんな中、ご近所に住む方（＝Ａさん）が娘の成人のお祝いをあげたいと連絡くださいました。その方とは家族ぐるみのお付き合いをしていたので（最近は子どもが大きくなり疎遠にはなってますが）どうぞ我が家で夕飯をご一緒しましょうとお誘いしました。この食事会は約２週間前のことで、まだオミクロンは今ほど猛威をふるっていませんでした。しかし、食事会の２日後、娘が発熱してしまいコロナと診断されてしまいました。飲食を共にしたＡさんにすぐに連絡し、恐らく濃厚接触者にあたるので検査をして欲しいとお願いしました。幸いにもＡさんご家族は全員陰性でしたが、やはり濃厚接触者になると宣告され、１０日間の自宅待機生活になるそうで、申し訳なさでいっぱいになりました。最初、Ａさんは、「感染したのは娘ちゃんが悪いわけではないから気にしないで。」と言っていたのですが、うっかり、実は娘はワクチン未接種であること、帰郷後、飲み歩いていたことを話したところ、態度が一変してしまったのです。検査代が家族分で２万円近くかかった。（検査自体は公費ですが病院の初診料等がかかった。）パートを休まざるを得なくなり職場に迷惑を掛けたし、給料が減額される。娘ちゃんが、ワクチン未接種なのに迂闊な行動をしていたと知っていたら、お宅に行くことはなかったのに。などなど、直接的な言葉ではありませんが、上記のようなことを言われてしまいました。Ａさんが支払った検査代を負担すべきでしょうか？年末から、県外に進学していた娘が、今年成人式ということもあり久しぶりに帰ってきました。本当に久しぶりの帰郷なので、娘は「今日は中学時代の友人」「明日は高校時代の友人」「週末は部活の友人」･･･という感じで、会うメンバーをチェンジしながら旧交を温めていました。そんな中、ご近所に住む方（＝Ａさん）が娘の成人のお祝いをあげたいと連絡くださいました。その方とは家族ぐるみのお付き合いをしていたので（最近は子どもが大きくなり疎遠にはなってますが）どうぞ我が家で夕飯をご一緒しましょうとお誘いしました。この食事会は約２週間前のことで、まだオミクロンは今ほど猛威をふるっていませんでした。しかし、食事会の２日後、娘が発熱してしまいコロナと診断されてしまいました。飲食を共にしたＡさんにすぐに連絡し、恐らく濃厚接触者にあたるので検査をして欲しいとお願いしました。幸いにもＡさんご家族は全員陰性でしたが、やはり濃厚接触者になると宣告され、１０日間の自宅待機生活になるそうで、申し訳なさでいっぱいになりました。最初、Ａさんは、「感染したのは娘ちゃんが悪いわけではないから気にしないで。」と言っていたのですが、うっかり、実は娘はワクチン未接種であること、帰郷後、飲み歩いていたことを話したところ、態度が一変してしまったのです。検査代が家族分で２万円近くかかった。（検査自体は公費ですが病院の初診料等がかかった。）パートを休まざるを得なくなり職場に迷惑を掛けたし、給料が減額される。娘ちゃんが、ワクチン未接種なのに迂闊な行動をしていたと知っていたら、お宅に行くことはなかったのに。などなど、直接的な言葉ではありませんが、上記のようなことを言われてしまいました。Ａさんが支払った検査代を負担すべきでしょうか？誰かに話を聞いて頂きたいと思い、長くなりますが聞いてください。昨日一年半弱お付き合いした彼と別れました。私は33歳、彼は39歳です。彼とは笑いのツボも合い、家族に対する考え方等が自分と近い事もあり、良き相談相手でもありました。会うのは週末一緒に過ごし、月曜は彼の家から仕事へ行くのがルーティンでした。お互い疲れている日はゆっくりしようと言えるくらいの仲でした。付き合った当初は本当に紳士的でこんな完璧な人いるのか？と思うくらいでした。笑しかし、最近は喧嘩のスパンが増えてきてよくよく考えると殆ど同じ事で喧嘩していました。彼はとても連絡がマメで、仕事終わり、出かける際も何時頃には帰るよ→今家着いたよ等の連絡は欠かさない人でした。私はマメな方では無く、彼と同じように連絡をして欲しいと言われていたので、心がけていました。仕事の時は、仕事が終わった事、無事家についた事。これは必ずしていました。しかし生理前や、仕事が遅くなって疲れてたりすると、うっかり家に着いたよの連絡を忘れてしまった事が数ヶ月に一回あったんです。(彼が次の日仕事で早く、もう寝ると先にLINEが来た日にそうなりがちです。起きている時は必ず連絡します)友達とご飯に行く際も、彼からのLINEに対して後で返そうと思っても、連絡のラリーが途絶えた事ですごく怒られた事もありました。彼は相手を心配させないようにと言う思いがとても強いので、マメに連絡してくれているのはわかりますし、私も彼と付き合ってその方が良いと思ってそうしてきました。ただ根本の性格を変える事は難しく努力していても状況によって、する気分になれない時もあります。今回は彼が寝てる状態で、帰ったよ！の連絡をせず、次の日LINEした事によって怒ってしまいました。続きます↓誰かに話を聞いて頂きたいと思い、長くなりますが聞いてください。昨日一年半弱お付き合いした彼と別れました。私は33歳、彼は39歳です。彼とは笑いのツボも合い、家族に対する考え方等が自分と近い事もあり、良き相談相手でもありました。会うのは週末一緒に過ごし、月曜は彼の家から仕事へ行くのがルーティンでした。お互い疲れている日はゆっくりしようと言えるくらいの仲でした。付き合った当初は本当に紳士的でこんな完璧な人いるのか？と思うくらいでした。笑しかし、最近は喧嘩のスパンが増えてきてよくよく考えると殆ど同じ事で喧嘩していました。彼はとても連絡がマメで、仕事終わり、出かける際も何時頃には帰るよ→今家着いたよ等の連絡は欠かさない人でした。私はマメな方では無く、彼と同じように連絡をして欲しいと言われていたので、心がけていました。仕事の時は、仕事が終わった事、無事家についた事。これは必ずしていました。しかし生理前や、仕事が遅くなって疲れてたりすると、うっかり家に着いたよの連絡を忘れてしまった事が数ヶ月に一回あったんです。(彼が次の日仕事で早く、もう寝ると先にLINEが来た日にそうなりがちです。起きている時は必ず連絡します)友達とご飯に行く際も、彼からのLINEに対して後で返そうと思っても、連絡のラリーが途絶えた事ですごく怒られた事もありました。彼は相手を心配させないようにと言う思いがとても強いので、マメに連絡してくれているのはわかりますし、私も彼と付き合ってその方が良いと思ってそうしてきました。ただ根本の性格を変える事は難しく努力していても状況によって、する気分になれない時もあります。今回は彼が寝てる状態で、帰ったよ！の連絡をせず、次の日LINEした事によって怒ってしまいました。続きます↓こんにちは。トピを開いて下さりありがとうございます。50代専業主婦です。週2回数時間程度来られる、70代半ばくらいの男性清掃員の方にモヤモヤしています。とにかく色々タメ口で馴れ馴れしく聞いてきます。初めは挨拶だけでした。ところがしばらくすると、挨拶後「どこ行くん？買い物？」とか「仕事しとん？」など、こちらからは挨拶以外に何も話しかけることはないのに、いちいち聞いてきます。清掃の予定なども勝手に説明してきます。そのうち、「おはようございます」と言えば、「おー」と偉そうに返され、「こんな所にゴミがある。非常識な人がおるもんや」などと愚痴られるようにもなりました。一言二言返してすぐに立ち去るようにしていましたが、お構い無し。鬱陶しいので、挨拶もやめて素通りすることにしました。これで話しかけて来ることは無くなり、しばらくが出くわすこともなかったのですが、先日久しぶりに間近で出くわしました。何か話しかけて来ましたが、私はさっさと立ち去りました。こういうタイプの人はハッキリ言わないと分からないとは思います。もし、若かりし日の私であれば、ズケッと一言で済ましていたでしょう。でも、今はこんな後期高齢者のような方に言うのも如何なものかと思ったりもします。挨拶後、お天気などの一言二言で済ませられる会話ならいいですが、この方の話は鬱陶しいしかありません。頭では放っておくのが1番だと思っていますが、感情がついていかずモヤモヤしてしまいます。やはり、馴れ馴れしく話しかけないでと、はっきり言うしかないのでしょうか·····？\n",
      "<_io.TextIOWrapper name='komachi.txt' mode='a' encoding='UTF-8'>\n"
     ]
    }
   ],
   "source": [
    "load_url = 'https://komachi.yomiuri.co.jp/topics/id/1048193/'\n",
    "html = requests.get(load_url)\n",
    "soup9=BeautifulSoup(html.content,\"html.parser\")\n",
    "\n",
    "topic9= soup9.find(class_ = 'topicsId__articleContentText')\n",
    "#for element in topic.find_all(\"br\"):\n",
    " #   print(element.text)\n",
    "#print(topic.text)\n",
    "\n",
    "print('---追記前--')\n",
    "with open('komachi.txt','r') as f:\n",
    "    print(f.read())\n",
    "with open('komachi.txt', 'a') as f:\n",
    "#f.writelines(topic.text)\n",
    "    f.write(topic9.text)\n",
    "    print(f)\n",
    "    f.close "
   ]
  },
  {
   "cell_type": "code",
   "execution_count": 118,
   "id": "12ba831b",
   "metadata": {},
   "outputs": [
    {
     "name": "stdout",
     "output_type": "stream",
     "text": [
      "---追記前--\n",
      "地方暮らしの29歳。娘二人、婿旦那、両親、祖母と4世代7人暮らしです私の家は地方の兼業農家で、今の田畑はそんなに多くはないのですが、江戸時代から続く家で、私はその家の三姉妹の末っ子です子供の頃から三人の内、誰かが婿を取って、家を継いで欲しいと言われてきました。上の姉は早々に結婚して、年子の姉も東京で就職し、地元に戻る気はないと言っていたので、私は専門学校卒業後、地元に戻って就職し、結婚相談所で紹介された旦那と24歳で結婚しました旦那は7歳年上で、知り合った当初は婿に入るのに難色を示していたのですが、結婚してからは、子煩悩で、真面目に仕事もしてくれるし、土日休日は両親や私と一緒に田んぼや畑もしてくれます去年、コロナの影響で、東京で働いていた姉が帰ってきました。すぐに東京に戻って再就職するだろうと考えていたのですが、無職のまま、既に1年以上経っています姉の「男の子産まないの？」「二世帯住宅にすればいいのに」など、我が家の経済状況を無視した無神経なイライラ話や「こっちで結婚しようかな。誰か紹介してよ」などの現実離れした話も我慢して来ました。でも、先週、とうとう爆発してしまいました旦那が風呂上りに風呂場から私たちの部屋まで半裸で動き回るのが気に入らないと言い出したのです私も「気に入らないんだったら、出てけば」「ここはもうあんたの家じゃないの」「30にもなって、仕事も貯金もなくて、結婚もできないくせに、なに言ってんのよ」と応戦してしまいましたその日は、旦那のとりなしもあったので、怒りを鎮めましたが、上の姉から電話があり「あんまり、下の姉を責めないで」という言葉と私を咎める話を聞いて、本当に全てが嫌になりました絶対姉を追い出したいです。我慢できません。どうすればいいでしょうか？追い出せないんだったら、私たちが出ていこうと思っています地方暮らしの29歳。娘二人、婿旦那、両親、祖母と4世代7人暮らしです私の家は地方の兼業農家で、今の田畑はそんなに多くはないのですが、江戸時代から続く家で、私はその家の三姉妹の末っ子です子供の頃から三人の内、誰かが婿を取って、家を継いで欲しいと言われてきました。上の姉は早々に結婚して、年子の姉も東京で就職し、地元に戻る気はないと言っていたので、私は専門学校卒業後、地元に戻って就職し、結婚相談所で紹介された旦那と24歳で結婚しました旦那は7歳年上で、知り合った当初は婿に入るのに難色を示していたのですが、結婚してからは、子煩悩で、真面目に仕事もしてくれるし、土日休日は両親や私と一緒に田んぼや畑もしてくれます去年、コロナの影響で、東京で働いていた姉が帰ってきました。すぐに東京に戻って再就職するだろうと考えていたのですが、無職のまま、既に1年以上経っています姉の「男の子産まないの？」「二世帯住宅にすればいいのに」など、我が家の経済状況を無視した無神経なイライラ話や「こっちで結婚しようかな。誰か紹介してよ」などの現実離れした話も我慢して来ました。でも、先週、とうとう爆発してしまいました旦那が風呂上りに風呂場から私たちの部屋まで半裸で動き回るのが気に入らないと言い出したのです私も「気に入らないんだったら、出てけば」「ここはもうあんたの家じゃないの」「30にもなって、仕事も貯金もなくて、結婚もできないくせに、なに言ってんのよ」と応戦してしまいましたその日は、旦那のとりなしもあったので、怒りを鎮めましたが、上の姉から電話があり「あんまり、下の姉を責めないで」という言葉と私を咎める話を聞いて、本当に全てが嫌になりました絶対姉を追い出したいです。我慢できません。どうすればいいでしょうか？追い出せないんだったら、私たちが出ていこうと思っています地方暮らしの29歳。娘二人、婿旦那、両親、祖母と4世代7人暮らしです私の家は地方の兼業農家で、今の田畑はそんなに多くはないのですが、江戸時代から続く家で、私はその家の三姉妹の末っ子です子供の頃から三人の内、誰かが婿を取って、家を継いで欲しいと言われてきました。上の姉は早々に結婚して、年子の姉も東京で就職し、地元に戻る気はないと言っていたので、私は専門学校卒業後、地元に戻って就職し、結婚相談所で紹介された旦那と24歳で結婚しました旦那は7歳年上で、知り合った当初は婿に入るのに難色を示していたのですが、結婚してからは、子煩悩で、真面目に仕事もしてくれるし、土日休日は両親や私と一緒に田んぼや畑もしてくれます去年、コロナの影響で、東京で働いていた姉が帰ってきました。すぐに東京に戻って再就職するだろうと考えていたのですが、無職のまま、既に1年以上経っています姉の「男の子産まないの？」「二世帯住宅にすればいいのに」など、我が家の経済状況を無視した無神経なイライラ話や「こっちで結婚しようかな。誰か紹介してよ」などの現実離れした話も我慢して来ました。でも、先週、とうとう爆発してしまいました旦那が風呂上りに風呂場から私たちの部屋まで半裸で動き回るのが気に入らないと言い出したのです私も「気に入らないんだったら、出てけば」「ここはもうあんたの家じゃないの」「30にもなって、仕事も貯金もなくて、結婚もできないくせに、なに言ってんのよ」と応戦してしまいましたその日は、旦那のとりなしもあったので、怒りを鎮めましたが、上の姉から電話があり「あんまり、下の姉を責めないで」という言葉と私を咎める話を聞いて、本当に全てが嫌になりました絶対姉を追い出したいです。我慢できません。どうすればいいでしょうか？追い出せないんだったら、私たちが出ていこうと思っています40代、5歳の子を持つ主婦です。夫は会社員ですが、自分達が食べる分くらいのお米を作っています。タイトルの友達とは中学時代から20年以上の付き合いになります。彼女も主婦で3人の子供がいます。数年前からその友達がうちからお米を買うようになって新米ができると連絡して取りに来てもらっていました。1年分まとめて買ってもらうので、スーパーなどで買うよりはだいぶ安い値段にしています。去年の9月も新米ができたと連絡し取りに来てもらうことになっていました。ところがお米を取りに来る前日に友達から「明日うちの旦那が釣りに出かけていないから良かったら遊びに来ない？」と LINEがあったので遊びに行くことにし、ついでにお米も持っていくことにしたんです。当日お米と手土産のケーキを持って友達の家に向かい、腰が痛いという友達の代わりに30kgの米袋5袋を車から家に運びました。友達の子供達とうちの子は久しぶりの対面に嬉しそうで一緒に走り回っていました。ここまではいいのですが、着いてからお茶のひとつも出てきません。招待しておいてお茶も出さないの？とちょっとモヤモヤした気持ちになりました。久しぶりにおしゃべりしよ〜！という割には会話は弾まないしなにも出ないし走り回っていた子供が喉が乾いたようなので1時間も経たないくらいで帰ることにしました。するとその友達が一言、「何のお構いもしませんで〜。」きっと最初からお茶を出す気はなかったんですね…今まで遊びに行ってそんな対応をされたことがなかったのでモヤモヤと共にショックでした。お米を安くしていることにも手土産を持っていったことにもお米を運んだことにもお礼の言葉がなかったことにもモヤモヤ…私は仲のいい友達と認識していましたが友達はそうは思っていなかったのかも？今後の付き合い方をどうすればいいのか悩んでいます。交際2年の彼女からもう泊まりに来ないでと言われました。当方35歳です。付き合ってからほぼ毎週末、彼女の家で過ごしていました。喧嘩もなくとても仲良くしてきたと思っています。先日彼女から泊まり拒否の申し出を受け、理由を聞いたところ結婚もしていないのに毎週末男性が部屋に出入りするのは世間的にも良くないと思う。少しだけ離れて距離を保った付き合いをしたい。と言われました。聞いた時は彼女の気持ちが冷めたのかとショックでしたが、それ以降も会えば今まで通りの彼女ですし、心変わりなどもなさそうです。僕が家へ帰るときも、彼女は寂しそうにしています。好きで一緒にいたいのに泊まりの拒否をする彼女の気持があまり理解できません。小町の皆様、彼女の気持ちを教えてください。また、どうすれば以前のように泊まりを含めたデートができるようになるでしょうか。よろしくお願いします。交際2年の彼女からもう泊まりに来ないでと言われました。当方35歳です。付き合ってからほぼ毎週末、彼女の家で過ごしていました。喧嘩もなくとても仲良くしてきたと思っています。先日彼女から泊まり拒否の申し出を受け、理由を聞いたところ結婚もしていないのに毎週末男性が部屋に出入りするのは世間的にも良くないと思う。少しだけ離れて距離を保った付き合いをしたい。と言われました。聞いた時は彼女の気持ちが冷めたのかとショックでしたが、それ以降も会えば今まで通りの彼女ですし、心変わりなどもなさそうです。僕が家へ帰るときも、彼女は寂しそうにしています。好きで一緒にいたいのに泊まりの拒否をする彼女の気持があまり理解できません。小町の皆様、彼女の気持ちを教えてください。また、どうすれば以前のように泊まりを含めたデートができるようになるでしょうか。よろしくお願いします。小学４年生の子どもがいます。幼稚園の頃からの友達が３人おり、毎週、順番に子どもたちを家で遊ばせていて、その間、私たち母親は、会話を楽しんでいます。その中の一人Aさんについて、相談があります。無口過ぎるのです。私たちのおしゃべりを聴いてはいるのですが、頭の回転が鈍いのか、聞くだけです。それなのに、時々、マウントのように聞こえることを言い（〇〇の△△は美味しいですよね、とか）、文脈関係ない話も飛び出してきて、反応に困ります。大学、仕事のことは、一切話しません。私、Ｂ、Ｃは気にせず話しますが、Ａだけは、あいまいに濁され、話してくれません。帰国子女か留学していたようで、無理にではないけれど、色々聞いてみたいのですが、隠す理由がわかりません。心を開いてくれていない気がして、疲れます。なぜ私たちと一緒にいるのだろう？利用してるだけ？もしかして、本当はグループを抜けたいけど、言い出しにくいのか？とイライラします。だから、４年生に進級するタイミングで、「中学受験や、お稽古事の都合もあるだろうから、そちらの都合を優先してもらっていいよ。無理して来なくてもいいよ。」と再三言ったのですが、相変わらず来ます。私の本心は伝わっているはずです。Ａは転勤族なので、遅かれ早かれ、いなくなります。中学生になれば、忙しくなるし、子供たちも親ぬきで遊ぶようになるでしょう。二度と会うこともないと思います。もう一度、Ａに「グループを抜けてもいいよ。」と言うつもりですが、どう言ったらわかってもらえますか？小学４年生の子どもがいます。幼稚園の頃からの友達が３人おり、毎週、順番に子どもたちを家で遊ばせていて、その間、私たち母親は、会話を楽しんでいます。その中の一人Aさんについて、相談があります。無口過ぎるのです。私たちのおしゃべりを聴いてはいるのですが、頭の回転が鈍いのか、聞くだけです。それなのに、時々、マウントのように聞こえることを言い（〇〇の△△は美味しいですよね、とか）、文脈関係ない話も飛び出してきて、反応に困ります。大学、仕事のことは、一切話しません。私、Ｂ、Ｃは気にせず話しますが、Ａだけは、あいまいに濁され、話してくれません。帰国子女か留学していたようで、無理にではないけれど、色々聞いてみたいのですが、隠す理由がわかりません。心を開いてくれていない気がして、疲れます。なぜ私たちと一緒にいるのだろう？利用してるだけ？もしかして、本当はグループを抜けたいけど、言い出しにくいのか？とイライラします。だから、４年生に進級するタイミングで、「中学受験や、お稽古事の都合もあるだろうから、そちらの都合を優先してもらっていいよ。無理して来なくてもいいよ。」と再三言ったのですが、相変わらず来ます。私の本心は伝わっているはずです。Ａは転勤族なので、遅かれ早かれ、いなくなります。中学生になれば、忙しくなるし、子供たちも親ぬきで遊ぶようになるでしょう。二度と会うこともないと思います。もう一度、Ａに「グループを抜けてもいいよ。」と言うつもりですが、どう言ったらわかってもらえますか？お姑さんと同居、主人、小学生の２人兄弟の男の子の5人家族です。先日、夕飯にサバの味噌煮を出しました。主人のお給料日だったので、魚屋さんに行っていつもより高品質、大きめのサバです。味噌煮は子どもたちも大好きだったので、ペロリと平らげてくれました。とそこへ、姑が「冷凍のサバの味噌煮なんてやめてくださる？」と、、。私「え？これは今日買ってきた生のさばですけど。。」姑「こんなにきれいに味噌煮なんてできないけど。」私「いえ、これは本当に冷凍じゃありません!!レシート見ますか？」主人「もういいからお前はだまってろよ！」私「え？私がいけないの？もっと汚く作ればよかったですね、すみませんでした!!」普段から料理に失敗したら文句、家族のことを考えてないだのなんだの言っていて、上手くできてもこんな文句か、、とイライラしてしまいました。こういうときはどう対処すればいいのでしょうか？最近イライラがとまりません。かわす、ことをおさめる方法がなかなか思い付きません。以前にも炊き込みご飯を出したら出来合いのものを混ぜないで！といきなり皆の前でおこられました。違います、、手作りです。。ちなみに敷地内に義弟夫婦がおり、週の半分ご飯を食べにくるので、緊急対処用に冷凍の魚類は置いてあります。たぶん、それを疑ってのことだと思います。お姑さんと同居、主人、小学生の２人兄弟の男の子の5人家族です。先日、夕飯にサバの味噌煮を出しました。主人のお給料日だったので、魚屋さんに行っていつもより高品質、大きめのサバです。味噌煮は子どもたちも大好きだったので、ペロリと平らげてくれました。とそこへ、姑が「冷凍のサバの味噌煮なんてやめてくださる？」と、、。私「え？これは今日買ってきた生のさばですけど。。」姑「こんなにきれいに味噌煮なんてできないけど。」私「いえ、これは本当に冷凍じゃありません!!レシート見ますか？」主人「もういいからお前はだまってろよ！」私「え？私がいけないの？もっと汚く作ればよかったですね、すみませんでした!!」普段から料理に失敗したら文句、家族のことを考えてないだのなんだの言っていて、上手くできてもこんな文句か、、とイライラしてしまいました。こういうときはどう対処すればいいのでしょうか？最近イライラがとまりません。かわす、ことをおさめる方法がなかなか思い付きません。以前にも炊き込みご飯を出したら出来合いのものを混ぜないで！といきなり皆の前でおこられました。違います、、手作りです。。ちなみに敷地内に義弟夫婦がおり、週の半分ご飯を食べにくるので、緊急対処用に冷凍の魚類は置いてあります。たぶん、それを疑ってのことだと思います。40代未婚の正社員です。この春他社から出向してきた後輩の男性社員が机の上に妻子の写真を額縁に入れて飾っており、結婚も出産も断念せざるを得なかった身としては、自分との差を思い知らされるようで大変辛いです。当社は室単位で仕事を行い、従って部屋も室ごとに分かれており、アットホーム逆にいえば閉鎖的な環境です。さりげなく「奥さんとお子さん？かわいいね。家族の写真飾ってる人なんて初めて見たけど、なんでわざわざ仕事中まで置いとくの？」と聞いたら、「愛する妻子の顔を見ていると仕事に精が出るからですよ」と答えました。「家庭に恵まれて幸せものねえ」と茶化して返しましたが、内心惨めさでいっぱいでした。「旦那さんはどんなお仕事されてるんですか？」と彼に聞かれることがあったので「結婚歴はありません、もう結婚も出産も諦めました、仕事が旦那です（笑）」と茶化しながら言いましたし、内心を察して写真を飾るのをやめてほしかったのですが、一向に意に介してないようです。彼は私の10個ほど年下。最近子供が生まれたばかりで、かわいくて仕方ないようで、何かにつけのろけ話が出てきて、私に対するあてつけなのではないかとすら思えてきてしまいました。数週間前から、朝一番早く来て、その写真をパタンと伏せるようにしました。当然彼はまたそれを立て掛けますが、何日も続けることで気づいてほしかったんです。しかし気付かず「毎朝写真が倒れてるんだけど、なんでだろう？」等と同僚に聞いています。とある先輩から「あいつに写真飾るのやめろって言おうか？」と聞かれ、気づかれていたことが分かりました。醜い内心を見抜かれて恥ずかしかったので「そんなことは言わなくていい」と言いましたが、頼んだ方がよかったのでしょうか。それとも私自ら辞めてと言うべきでしょうか。それともいちいち気にする方がおかしいのでしょうか。40代未婚の正社員です。この春他社から出向してきた後輩の男性社員が机の上に妻子の写真を額縁に入れて飾っており、結婚も出産も断念せざるを得なかった身としては、自分との差を思い知らされるようで大変辛いです。当社は室単位で仕事を行い、従って部屋も室ごとに分かれており、アットホーム逆にいえば閉鎖的な環境です。さりげなく「奥さんとお子さん？かわいいね。家族の写真飾ってる人なんて初めて見たけど、なんでわざわざ仕事中まで置いとくの？」と聞いたら、「愛する妻子の顔を見ていると仕事に精が出るからですよ」と答えました。「家庭に恵まれて幸せものねえ」と茶化して返しましたが、内心惨めさでいっぱいでした。「旦那さんはどんなお仕事されてるんですか？」と彼に聞かれることがあったので「結婚歴はありません、もう結婚も出産も諦めました、仕事が旦那です（笑）」と茶化しながら言いましたし、内心を察して写真を飾るのをやめてほしかったのですが、一向に意に介してないようです。彼は私の10個ほど年下。最近子供が生まれたばかりで、かわいくて仕方ないようで、何かにつけのろけ話が出てきて、私に対するあてつけなのではないかとすら思えてきてしまいました。数週間前から、朝一番早く来て、その写真をパタンと伏せるようにしました。当然彼はまたそれを立て掛けますが、何日も続けることで気づいてほしかったんです。しかし気付かず「毎朝写真が倒れてるんだけど、なんでだろう？」等と同僚に聞いています。とある先輩から「あいつに写真飾るのやめろって言おうか？」と聞かれ、気づかれていたことが分かりました。醜い内心を見抜かれて恥ずかしかったので「そんなことは言わなくていい」と言いましたが、頼んだ方がよかったのでしょうか。それとも私自ら辞めてと言うべきでしょうか。それともいちいち気にする方がおかしいのでしょうか。60代の主婦です。夫:60代。現在再雇用で一般企業勤務A子:20代半ば。夫の勤務先の社員。夫と同じ部署→人事異動で他部署に異動先日、夫から突然離婚を切り出されました。理由を聞くと「A子のことが好きになった。異動してから悩んでいることが多くて、相談を持ちかけられたり、食事に誘ったら来てくれたりする。下ネタを言ってみても照れたりするから多分脈アリだ」とのことでした。たしかに夫とA子が2人で食事に行っていることは知っていました。しかし、それを許可していたのは夫が「A子から相談したいことがあると言われたから話を聞いてくる」と言っていたからです。夫が話を聞くことで少しでもA子が楽になるならという思いでした。親子ほど年齢の離れた2人が、まさかそんなことになるとはと私も動揺しており、すぐに夫の携帯からA子に電話をかけさせました。電話に出たA子を問い詰めたところ・相談なんて持ちかけたことはない・食事を断らなかったのは、社会人としての礼儀だと思った。2人で行ったのは確かに軽率だったかもしれないが、自分の親ほどの年齢の人に誘われて断れなかった。あくまでも同僚として、人生の先輩として尊敬していただけ・大体、親子ほど離れてる人に好意を持つわけないでしょう。現実を見てください。こんな時間に電話をかけてきて迷惑です(確かに平日の夜でした)・食事に行こうとか、一人暮らしの私の家に行きたいとかの電話や下ネタがあまりにもしつこいので迷惑してました。この電話があったこと含めてハラスメント担当者に話しますと言われました。夫からA子に「それだけはやめてくれ。穏便にすませよう」と伝えてA子もそれで了承したので、その時は電話を切りました。続きます60代の主婦です。夫:60代。現在再雇用で一般企業勤務A子:20代半ば。夫の勤務先の社員。夫と同じ部署→人事異動で他部署に異動先日、夫から突然離婚を切り出されました。理由を聞くと「A子のことが好きになった。異動してから悩んでいることが多くて、相談を持ちかけられたり、食事に誘ったら来てくれたりする。下ネタを言ってみても照れたりするから多分脈アリだ」とのことでした。たしかに夫とA子が2人で食事に行っていることは知っていました。しかし、それを許可していたのは夫が「A子から相談したいことがあると言われたから話を聞いてくる」と言っていたからです。夫が話を聞くことで少しでもA子が楽になるならという思いでした。親子ほど年齢の離れた2人が、まさかそんなことになるとはと私も動揺しており、すぐに夫の携帯からA子に電話をかけさせました。電話に出たA子を問い詰めたところ・相談なんて持ちかけたことはない・食事を断らなかったのは、社会人としての礼儀だと思った。2人で行ったのは確かに軽率だったかもしれないが、自分の親ほどの年齢の人に誘われて断れなかった。あくまでも同僚として、人生の先輩として尊敬していただけ・大体、親子ほど離れてる人に好意を持つわけないでしょう。現実を見てください。こんな時間に電話をかけてきて迷惑です(確かに平日の夜でした)・食事に行こうとか、一人暮らしの私の家に行きたいとかの電話や下ネタがあまりにもしつこいので迷惑してました。この電話があったこと含めてハラスメント担当者に話しますと言われました。夫からA子に「それだけはやめてくれ。穏便にすませよう」と伝えてA子もそれで了承したので、その時は電話を切りました。続きます年末から、県外に進学していた娘が、今年成人式ということもあり久しぶりに帰ってきました。本当に久しぶりの帰郷なので、娘は「今日は中学時代の友人」「明日は高校時代の友人」「週末は部活の友人」･･･という感じで、会うメンバーをチェンジしながら旧交を温めていました。そんな中、ご近所に住む方（＝Ａさん）が娘の成人のお祝いをあげたいと連絡くださいました。その方とは家族ぐるみのお付き合いをしていたので（最近は子どもが大きくなり疎遠にはなってますが）どうぞ我が家で夕飯をご一緒しましょうとお誘いしました。この食事会は約２週間前のことで、まだオミクロンは今ほど猛威をふるっていませんでした。しかし、食事会の２日後、娘が発熱してしまいコロナと診断されてしまいました。飲食を共にしたＡさんにすぐに連絡し、恐らく濃厚接触者にあたるので検査をして欲しいとお願いしました。幸いにもＡさんご家族は全員陰性でしたが、やはり濃厚接触者になると宣告され、１０日間の自宅待機生活になるそうで、申し訳なさでいっぱいになりました。最初、Ａさんは、「感染したのは娘ちゃんが悪いわけではないから気にしないで。」と言っていたのですが、うっかり、実は娘はワクチン未接種であること、帰郷後、飲み歩いていたことを話したところ、態度が一変してしまったのです。検査代が家族分で２万円近くかかった。（検査自体は公費ですが病院の初診料等がかかった。）パートを休まざるを得なくなり職場に迷惑を掛けたし、給料が減額される。娘ちゃんが、ワクチン未接種なのに迂闊な行動をしていたと知っていたら、お宅に行くことはなかったのに。などなど、直接的な言葉ではありませんが、上記のようなことを言われてしまいました。Ａさんが支払った検査代を負担すべきでしょうか？年末から、県外に進学していた娘が、今年成人式ということもあり久しぶりに帰ってきました。本当に久しぶりの帰郷なので、娘は「今日は中学時代の友人」「明日は高校時代の友人」「週末は部活の友人」･･･という感じで、会うメンバーをチェンジしながら旧交を温めていました。そんな中、ご近所に住む方（＝Ａさん）が娘の成人のお祝いをあげたいと連絡くださいました。その方とは家族ぐるみのお付き合いをしていたので（最近は子どもが大きくなり疎遠にはなってますが）どうぞ我が家で夕飯をご一緒しましょうとお誘いしました。この食事会は約２週間前のことで、まだオミクロンは今ほど猛威をふるっていませんでした。しかし、食事会の２日後、娘が発熱してしまいコロナと診断されてしまいました。飲食を共にしたＡさんにすぐに連絡し、恐らく濃厚接触者にあたるので検査をして欲しいとお願いしました。幸いにもＡさんご家族は全員陰性でしたが、やはり濃厚接触者になると宣告され、１０日間の自宅待機生活になるそうで、申し訳なさでいっぱいになりました。最初、Ａさんは、「感染したのは娘ちゃんが悪いわけではないから気にしないで。」と言っていたのですが、うっかり、実は娘はワクチン未接種であること、帰郷後、飲み歩いていたことを話したところ、態度が一変してしまったのです。検査代が家族分で２万円近くかかった。（検査自体は公費ですが病院の初診料等がかかった。）パートを休まざるを得なくなり職場に迷惑を掛けたし、給料が減額される。娘ちゃんが、ワクチン未接種なのに迂闊な行動をしていたと知っていたら、お宅に行くことはなかったのに。などなど、直接的な言葉ではありませんが、上記のようなことを言われてしまいました。Ａさんが支払った検査代を負担すべきでしょうか？誰かに話を聞いて頂きたいと思い、長くなりますが聞いてください。昨日一年半弱お付き合いした彼と別れました。私は33歳、彼は39歳です。彼とは笑いのツボも合い、家族に対する考え方等が自分と近い事もあり、良き相談相手でもありました。会うのは週末一緒に過ごし、月曜は彼の家から仕事へ行くのがルーティンでした。お互い疲れている日はゆっくりしようと言えるくらいの仲でした。付き合った当初は本当に紳士的でこんな完璧な人いるのか？と思うくらいでした。笑しかし、最近は喧嘩のスパンが増えてきてよくよく考えると殆ど同じ事で喧嘩していました。彼はとても連絡がマメで、仕事終わり、出かける際も何時頃には帰るよ→今家着いたよ等の連絡は欠かさない人でした。私はマメな方では無く、彼と同じように連絡をして欲しいと言われていたので、心がけていました。仕事の時は、仕事が終わった事、無事家についた事。これは必ずしていました。しかし生理前や、仕事が遅くなって疲れてたりすると、うっかり家に着いたよの連絡を忘れてしまった事が数ヶ月に一回あったんです。(彼が次の日仕事で早く、もう寝ると先にLINEが来た日にそうなりがちです。起きている時は必ず連絡します)友達とご飯に行く際も、彼からのLINEに対して後で返そうと思っても、連絡のラリーが途絶えた事ですごく怒られた事もありました。彼は相手を心配させないようにと言う思いがとても強いので、マメに連絡してくれているのはわかりますし、私も彼と付き合ってその方が良いと思ってそうしてきました。ただ根本の性格を変える事は難しく努力していても状況によって、する気分になれない時もあります。今回は彼が寝てる状態で、帰ったよ！の連絡をせず、次の日LINEした事によって怒ってしまいました。続きます↓誰かに話を聞いて頂きたいと思い、長くなりますが聞いてください。昨日一年半弱お付き合いした彼と別れました。私は33歳、彼は39歳です。彼とは笑いのツボも合い、家族に対する考え方等が自分と近い事もあり、良き相談相手でもありました。会うのは週末一緒に過ごし、月曜は彼の家から仕事へ行くのがルーティンでした。お互い疲れている日はゆっくりしようと言えるくらいの仲でした。付き合った当初は本当に紳士的でこんな完璧な人いるのか？と思うくらいでした。笑しかし、最近は喧嘩のスパンが増えてきてよくよく考えると殆ど同じ事で喧嘩していました。彼はとても連絡がマメで、仕事終わり、出かける際も何時頃には帰るよ→今家着いたよ等の連絡は欠かさない人でした。私はマメな方では無く、彼と同じように連絡をして欲しいと言われていたので、心がけていました。仕事の時は、仕事が終わった事、無事家についた事。これは必ずしていました。しかし生理前や、仕事が遅くなって疲れてたりすると、うっかり家に着いたよの連絡を忘れてしまった事が数ヶ月に一回あったんです。(彼が次の日仕事で早く、もう寝ると先にLINEが来た日にそうなりがちです。起きている時は必ず連絡します)友達とご飯に行く際も、彼からのLINEに対して後で返そうと思っても、連絡のラリーが途絶えた事ですごく怒られた事もありました。彼は相手を心配させないようにと言う思いがとても強いので、マメに連絡してくれているのはわかりますし、私も彼と付き合ってその方が良いと思ってそうしてきました。ただ根本の性格を変える事は難しく努力していても状況によって、する気分になれない時もあります。今回は彼が寝てる状態で、帰ったよ！の連絡をせず、次の日LINEした事によって怒ってしまいました。続きます↓こんにちは。トピを開いて下さりありがとうございます。50代専業主婦です。週2回数時間程度来られる、70代半ばくらいの男性清掃員の方にモヤモヤしています。とにかく色々タメ口で馴れ馴れしく聞いてきます。初めは挨拶だけでした。ところがしばらくすると、挨拶後「どこ行くん？買い物？」とか「仕事しとん？」など、こちらからは挨拶以外に何も話しかけることはないのに、いちいち聞いてきます。清掃の予定なども勝手に説明してきます。そのうち、「おはようございます」と言えば、「おー」と偉そうに返され、「こんな所にゴミがある。非常識な人がおるもんや」などと愚痴られるようにもなりました。一言二言返してすぐに立ち去るようにしていましたが、お構い無し。鬱陶しいので、挨拶もやめて素通りすることにしました。これで話しかけて来ることは無くなり、しばらくが出くわすこともなかったのですが、先日久しぶりに間近で出くわしました。何か話しかけて来ましたが、私はさっさと立ち去りました。こういうタイプの人はハッキリ言わないと分からないとは思います。もし、若かりし日の私であれば、ズケッと一言で済ましていたでしょう。でも、今はこんな後期高齢者のような方に言うのも如何なものかと思ったりもします。挨拶後、お天気などの一言二言で済ませられる会話ならいいですが、この方の話は鬱陶しいしかありません。頭では放っておくのが1番だと思っていますが、感情がついていかずモヤモヤしてしまいます。やはり、馴れ馴れしく話しかけないでと、はっきり言うしかないのでしょうか·····？こんにちは。トピを開いて下さりありがとうございます。50代専業主婦です。週2回数時間程度来られる、70代半ばくらいの男性清掃員の方にモヤモヤしています。とにかく色々タメ口で馴れ馴れしく聞いてきます。初めは挨拶だけでした。ところがしばらくすると、挨拶後「どこ行くん？買い物？」とか「仕事しとん？」など、こちらからは挨拶以外に何も話しかけることはないのに、いちいち聞いてきます。清掃の予定なども勝手に説明してきます。そのうち、「おはようございます」と言えば、「おー」と偉そうに返され、「こんな所にゴミがある。非常識な人がおるもんや」などと愚痴られるようにもなりました。一言二言返してすぐに立ち去るようにしていましたが、お構い無し。鬱陶しいので、挨拶もやめて素通りすることにしました。これで話しかけて来ることは無くなり、しばらくが出くわすこともなかったのですが、先日久しぶりに間近で出くわしました。何か話しかけて来ましたが、私はさっさと立ち去りました。こういうタイプの人はハッキリ言わないと分からないとは思います。もし、若かりし日の私であれば、ズケッと一言で済ましていたでしょう。でも、今はこんな後期高齢者のような方に言うのも如何なものかと思ったりもします。挨拶後、お天気などの一言二言で済ませられる会話ならいいですが、この方の話は鬱陶しいしかありません。頭では放っておくのが1番だと思っていますが、感情がついていかずモヤモヤしてしまいます。やはり、馴れ馴れしく話しかけないでと、はっきり言うしかないのでしょうか·····？先日　きゅうりを一本買おうとしたところ、おじさんが綺麗に並んでいるきゅうりを下の方から何度も何度も取り出して、選んでました。内心そんなにひっかきまわさないでよ。と思いながら見ていましたら、私にきずきどうぞって言うので一本取って去ろうとしたら、おれがどうぞって言ったんだから何とか言ったらどうだって。私はすみませんって言いましたけど、これっておじさんが言うことではないかと。私も買い物でなるべく新しい物を選んでしまいますが、待っている人がいたら急いで選んで、すみませんっと言って場所をあけますが、皆さんのご意見お聞かせ下さい。\n",
      "<_io.TextIOWrapper name='komachi.txt' mode='a' encoding='UTF-8'>\n"
     ]
    }
   ],
   "source": [
    "load_url = 'https://komachi.yomiuri.co.jp/topics/id/1047904/'\n",
    "html = requests.get(load_url)\n",
    "soup9=BeautifulSoup(html.content,\"html.parser\")\n",
    "\n",
    "topic9= soup9.find(class_ = 'topicsId__articleContentText')\n",
    "#for element in topic.find_all(\"br\"):\n",
    " #   print(element.text)\n",
    "#print(topic.text)\n",
    "\n",
    "print('---追記前--')\n",
    "with open('komachi.txt','r') as f:\n",
    "    print(f.read())\n",
    "with open('komachi.txt', 'a') as f:\n",
    "#f.writelines(topic.text)\n",
    "    f.write(topic9.text)\n",
    "    print(f)\n",
    "    f.close "
   ]
  },
  {
   "cell_type": "code",
   "execution_count": 120,
   "id": "28921080",
   "metadata": {},
   "outputs": [
    {
     "name": "stdout",
     "output_type": "stream",
     "text": [
      "---追記前--\n",
      "地方暮らしの29歳。娘二人、婿旦那、両親、祖母と4世代7人暮らしです私の家は地方の兼業農家で、今の田畑はそんなに多くはないのですが、江戸時代から続く家で、私はその家の三姉妹の末っ子です子供の頃から三人の内、誰かが婿を取って、家を継いで欲しいと言われてきました。上の姉は早々に結婚して、年子の姉も東京で就職し、地元に戻る気はないと言っていたので、私は専門学校卒業後、地元に戻って就職し、結婚相談所で紹介された旦那と24歳で結婚しました旦那は7歳年上で、知り合った当初は婿に入るのに難色を示していたのですが、結婚してからは、子煩悩で、真面目に仕事もしてくれるし、土日休日は両親や私と一緒に田んぼや畑もしてくれます去年、コロナの影響で、東京で働いていた姉が帰ってきました。すぐに東京に戻って再就職するだろうと考えていたのですが、無職のまま、既に1年以上経っています姉の「男の子産まないの？」「二世帯住宅にすればいいのに」など、我が家の経済状況を無視した無神経なイライラ話や「こっちで結婚しようかな。誰か紹介してよ」などの現実離れした話も我慢して来ました。でも、先週、とうとう爆発してしまいました旦那が風呂上りに風呂場から私たちの部屋まで半裸で動き回るのが気に入らないと言い出したのです私も「気に入らないんだったら、出てけば」「ここはもうあんたの家じゃないの」「30にもなって、仕事も貯金もなくて、結婚もできないくせに、なに言ってんのよ」と応戦してしまいましたその日は、旦那のとりなしもあったので、怒りを鎮めましたが、上の姉から電話があり「あんまり、下の姉を責めないで」という言葉と私を咎める話を聞いて、本当に全てが嫌になりました絶対姉を追い出したいです。我慢できません。どうすればいいでしょうか？追い出せないんだったら、私たちが出ていこうと思っています地方暮らしの29歳。娘二人、婿旦那、両親、祖母と4世代7人暮らしです私の家は地方の兼業農家で、今の田畑はそんなに多くはないのですが、江戸時代から続く家で、私はその家の三姉妹の末っ子です子供の頃から三人の内、誰かが婿を取って、家を継いで欲しいと言われてきました。上の姉は早々に結婚して、年子の姉も東京で就職し、地元に戻る気はないと言っていたので、私は専門学校卒業後、地元に戻って就職し、結婚相談所で紹介された旦那と24歳で結婚しました旦那は7歳年上で、知り合った当初は婿に入るのに難色を示していたのですが、結婚してからは、子煩悩で、真面目に仕事もしてくれるし、土日休日は両親や私と一緒に田んぼや畑もしてくれます去年、コロナの影響で、東京で働いていた姉が帰ってきました。すぐに東京に戻って再就職するだろうと考えていたのですが、無職のまま、既に1年以上経っています姉の「男の子産まないの？」「二世帯住宅にすればいいのに」など、我が家の経済状況を無視した無神経なイライラ話や「こっちで結婚しようかな。誰か紹介してよ」などの現実離れした話も我慢して来ました。でも、先週、とうとう爆発してしまいました旦那が風呂上りに風呂場から私たちの部屋まで半裸で動き回るのが気に入らないと言い出したのです私も「気に入らないんだったら、出てけば」「ここはもうあんたの家じゃないの」「30にもなって、仕事も貯金もなくて、結婚もできないくせに、なに言ってんのよ」と応戦してしまいましたその日は、旦那のとりなしもあったので、怒りを鎮めましたが、上の姉から電話があり「あんまり、下の姉を責めないで」という言葉と私を咎める話を聞いて、本当に全てが嫌になりました絶対姉を追い出したいです。我慢できません。どうすればいいでしょうか？追い出せないんだったら、私たちが出ていこうと思っています地方暮らしの29歳。娘二人、婿旦那、両親、祖母と4世代7人暮らしです私の家は地方の兼業農家で、今の田畑はそんなに多くはないのですが、江戸時代から続く家で、私はその家の三姉妹の末っ子です子供の頃から三人の内、誰かが婿を取って、家を継いで欲しいと言われてきました。上の姉は早々に結婚して、年子の姉も東京で就職し、地元に戻る気はないと言っていたので、私は専門学校卒業後、地元に戻って就職し、結婚相談所で紹介された旦那と24歳で結婚しました旦那は7歳年上で、知り合った当初は婿に入るのに難色を示していたのですが、結婚してからは、子煩悩で、真面目に仕事もしてくれるし、土日休日は両親や私と一緒に田んぼや畑もしてくれます去年、コロナの影響で、東京で働いていた姉が帰ってきました。すぐに東京に戻って再就職するだろうと考えていたのですが、無職のまま、既に1年以上経っています姉の「男の子産まないの？」「二世帯住宅にすればいいのに」など、我が家の経済状況を無視した無神経なイライラ話や「こっちで結婚しようかな。誰か紹介してよ」などの現実離れした話も我慢して来ました。でも、先週、とうとう爆発してしまいました旦那が風呂上りに風呂場から私たちの部屋まで半裸で動き回るのが気に入らないと言い出したのです私も「気に入らないんだったら、出てけば」「ここはもうあんたの家じゃないの」「30にもなって、仕事も貯金もなくて、結婚もできないくせに、なに言ってんのよ」と応戦してしまいましたその日は、旦那のとりなしもあったので、怒りを鎮めましたが、上の姉から電話があり「あんまり、下の姉を責めないで」という言葉と私を咎める話を聞いて、本当に全てが嫌になりました絶対姉を追い出したいです。我慢できません。どうすればいいでしょうか？追い出せないんだったら、私たちが出ていこうと思っています40代、5歳の子を持つ主婦です。夫は会社員ですが、自分達が食べる分くらいのお米を作っています。タイトルの友達とは中学時代から20年以上の付き合いになります。彼女も主婦で3人の子供がいます。数年前からその友達がうちからお米を買うようになって新米ができると連絡して取りに来てもらっていました。1年分まとめて買ってもらうので、スーパーなどで買うよりはだいぶ安い値段にしています。去年の9月も新米ができたと連絡し取りに来てもらうことになっていました。ところがお米を取りに来る前日に友達から「明日うちの旦那が釣りに出かけていないから良かったら遊びに来ない？」と LINEがあったので遊びに行くことにし、ついでにお米も持っていくことにしたんです。当日お米と手土産のケーキを持って友達の家に向かい、腰が痛いという友達の代わりに30kgの米袋5袋を車から家に運びました。友達の子供達とうちの子は久しぶりの対面に嬉しそうで一緒に走り回っていました。ここまではいいのですが、着いてからお茶のひとつも出てきません。招待しておいてお茶も出さないの？とちょっとモヤモヤした気持ちになりました。久しぶりにおしゃべりしよ〜！という割には会話は弾まないしなにも出ないし走り回っていた子供が喉が乾いたようなので1時間も経たないくらいで帰ることにしました。するとその友達が一言、「何のお構いもしませんで〜。」きっと最初からお茶を出す気はなかったんですね…今まで遊びに行ってそんな対応をされたことがなかったのでモヤモヤと共にショックでした。お米を安くしていることにも手土産を持っていったことにもお米を運んだことにもお礼の言葉がなかったことにもモヤモヤ…私は仲のいい友達と認識していましたが友達はそうは思っていなかったのかも？今後の付き合い方をどうすればいいのか悩んでいます。交際2年の彼女からもう泊まりに来ないでと言われました。当方35歳です。付き合ってからほぼ毎週末、彼女の家で過ごしていました。喧嘩もなくとても仲良くしてきたと思っています。先日彼女から泊まり拒否の申し出を受け、理由を聞いたところ結婚もしていないのに毎週末男性が部屋に出入りするのは世間的にも良くないと思う。少しだけ離れて距離を保った付き合いをしたい。と言われました。聞いた時は彼女の気持ちが冷めたのかとショックでしたが、それ以降も会えば今まで通りの彼女ですし、心変わりなどもなさそうです。僕が家へ帰るときも、彼女は寂しそうにしています。好きで一緒にいたいのに泊まりの拒否をする彼女の気持があまり理解できません。小町の皆様、彼女の気持ちを教えてください。また、どうすれば以前のように泊まりを含めたデートができるようになるでしょうか。よろしくお願いします。交際2年の彼女からもう泊まりに来ないでと言われました。当方35歳です。付き合ってからほぼ毎週末、彼女の家で過ごしていました。喧嘩もなくとても仲良くしてきたと思っています。先日彼女から泊まり拒否の申し出を受け、理由を聞いたところ結婚もしていないのに毎週末男性が部屋に出入りするのは世間的にも良くないと思う。少しだけ離れて距離を保った付き合いをしたい。と言われました。聞いた時は彼女の気持ちが冷めたのかとショックでしたが、それ以降も会えば今まで通りの彼女ですし、心変わりなどもなさそうです。僕が家へ帰るときも、彼女は寂しそうにしています。好きで一緒にいたいのに泊まりの拒否をする彼女の気持があまり理解できません。小町の皆様、彼女の気持ちを教えてください。また、どうすれば以前のように泊まりを含めたデートができるようになるでしょうか。よろしくお願いします。小学４年生の子どもがいます。幼稚園の頃からの友達が３人おり、毎週、順番に子どもたちを家で遊ばせていて、その間、私たち母親は、会話を楽しんでいます。その中の一人Aさんについて、相談があります。無口過ぎるのです。私たちのおしゃべりを聴いてはいるのですが、頭の回転が鈍いのか、聞くだけです。それなのに、時々、マウントのように聞こえることを言い（〇〇の△△は美味しいですよね、とか）、文脈関係ない話も飛び出してきて、反応に困ります。大学、仕事のことは、一切話しません。私、Ｂ、Ｃは気にせず話しますが、Ａだけは、あいまいに濁され、話してくれません。帰国子女か留学していたようで、無理にではないけれど、色々聞いてみたいのですが、隠す理由がわかりません。心を開いてくれていない気がして、疲れます。なぜ私たちと一緒にいるのだろう？利用してるだけ？もしかして、本当はグループを抜けたいけど、言い出しにくいのか？とイライラします。だから、４年生に進級するタイミングで、「中学受験や、お稽古事の都合もあるだろうから、そちらの都合を優先してもらっていいよ。無理して来なくてもいいよ。」と再三言ったのですが、相変わらず来ます。私の本心は伝わっているはずです。Ａは転勤族なので、遅かれ早かれ、いなくなります。中学生になれば、忙しくなるし、子供たちも親ぬきで遊ぶようになるでしょう。二度と会うこともないと思います。もう一度、Ａに「グループを抜けてもいいよ。」と言うつもりですが、どう言ったらわかってもらえますか？小学４年生の子どもがいます。幼稚園の頃からの友達が３人おり、毎週、順番に子どもたちを家で遊ばせていて、その間、私たち母親は、会話を楽しんでいます。その中の一人Aさんについて、相談があります。無口過ぎるのです。私たちのおしゃべりを聴いてはいるのですが、頭の回転が鈍いのか、聞くだけです。それなのに、時々、マウントのように聞こえることを言い（〇〇の△△は美味しいですよね、とか）、文脈関係ない話も飛び出してきて、反応に困ります。大学、仕事のことは、一切話しません。私、Ｂ、Ｃは気にせず話しますが、Ａだけは、あいまいに濁され、話してくれません。帰国子女か留学していたようで、無理にではないけれど、色々聞いてみたいのですが、隠す理由がわかりません。心を開いてくれていない気がして、疲れます。なぜ私たちと一緒にいるのだろう？利用してるだけ？もしかして、本当はグループを抜けたいけど、言い出しにくいのか？とイライラします。だから、４年生に進級するタイミングで、「中学受験や、お稽古事の都合もあるだろうから、そちらの都合を優先してもらっていいよ。無理して来なくてもいいよ。」と再三言ったのですが、相変わらず来ます。私の本心は伝わっているはずです。Ａは転勤族なので、遅かれ早かれ、いなくなります。中学生になれば、忙しくなるし、子供たちも親ぬきで遊ぶようになるでしょう。二度と会うこともないと思います。もう一度、Ａに「グループを抜けてもいいよ。」と言うつもりですが、どう言ったらわかってもらえますか？お姑さんと同居、主人、小学生の２人兄弟の男の子の5人家族です。先日、夕飯にサバの味噌煮を出しました。主人のお給料日だったので、魚屋さんに行っていつもより高品質、大きめのサバです。味噌煮は子どもたちも大好きだったので、ペロリと平らげてくれました。とそこへ、姑が「冷凍のサバの味噌煮なんてやめてくださる？」と、、。私「え？これは今日買ってきた生のさばですけど。。」姑「こんなにきれいに味噌煮なんてできないけど。」私「いえ、これは本当に冷凍じゃありません!!レシート見ますか？」主人「もういいからお前はだまってろよ！」私「え？私がいけないの？もっと汚く作ればよかったですね、すみませんでした!!」普段から料理に失敗したら文句、家族のことを考えてないだのなんだの言っていて、上手くできてもこんな文句か、、とイライラしてしまいました。こういうときはどう対処すればいいのでしょうか？最近イライラがとまりません。かわす、ことをおさめる方法がなかなか思い付きません。以前にも炊き込みご飯を出したら出来合いのものを混ぜないで！といきなり皆の前でおこられました。違います、、手作りです。。ちなみに敷地内に義弟夫婦がおり、週の半分ご飯を食べにくるので、緊急対処用に冷凍の魚類は置いてあります。たぶん、それを疑ってのことだと思います。お姑さんと同居、主人、小学生の２人兄弟の男の子の5人家族です。先日、夕飯にサバの味噌煮を出しました。主人のお給料日だったので、魚屋さんに行っていつもより高品質、大きめのサバです。味噌煮は子どもたちも大好きだったので、ペロリと平らげてくれました。とそこへ、姑が「冷凍のサバの味噌煮なんてやめてくださる？」と、、。私「え？これは今日買ってきた生のさばですけど。。」姑「こんなにきれいに味噌煮なんてできないけど。」私「いえ、これは本当に冷凍じゃありません!!レシート見ますか？」主人「もういいからお前はだまってろよ！」私「え？私がいけないの？もっと汚く作ればよかったですね、すみませんでした!!」普段から料理に失敗したら文句、家族のことを考えてないだのなんだの言っていて、上手くできてもこんな文句か、、とイライラしてしまいました。こういうときはどう対処すればいいのでしょうか？最近イライラがとまりません。かわす、ことをおさめる方法がなかなか思い付きません。以前にも炊き込みご飯を出したら出来合いのものを混ぜないで！といきなり皆の前でおこられました。違います、、手作りです。。ちなみに敷地内に義弟夫婦がおり、週の半分ご飯を食べにくるので、緊急対処用に冷凍の魚類は置いてあります。たぶん、それを疑ってのことだと思います。40代未婚の正社員です。この春他社から出向してきた後輩の男性社員が机の上に妻子の写真を額縁に入れて飾っており、結婚も出産も断念せざるを得なかった身としては、自分との差を思い知らされるようで大変辛いです。当社は室単位で仕事を行い、従って部屋も室ごとに分かれており、アットホーム逆にいえば閉鎖的な環境です。さりげなく「奥さんとお子さん？かわいいね。家族の写真飾ってる人なんて初めて見たけど、なんでわざわざ仕事中まで置いとくの？」と聞いたら、「愛する妻子の顔を見ていると仕事に精が出るからですよ」と答えました。「家庭に恵まれて幸せものねえ」と茶化して返しましたが、内心惨めさでいっぱいでした。「旦那さんはどんなお仕事されてるんですか？」と彼に聞かれることがあったので「結婚歴はありません、もう結婚も出産も諦めました、仕事が旦那です（笑）」と茶化しながら言いましたし、内心を察して写真を飾るのをやめてほしかったのですが、一向に意に介してないようです。彼は私の10個ほど年下。最近子供が生まれたばかりで、かわいくて仕方ないようで、何かにつけのろけ話が出てきて、私に対するあてつけなのではないかとすら思えてきてしまいました。数週間前から、朝一番早く来て、その写真をパタンと伏せるようにしました。当然彼はまたそれを立て掛けますが、何日も続けることで気づいてほしかったんです。しかし気付かず「毎朝写真が倒れてるんだけど、なんでだろう？」等と同僚に聞いています。とある先輩から「あいつに写真飾るのやめろって言おうか？」と聞かれ、気づかれていたことが分かりました。醜い内心を見抜かれて恥ずかしかったので「そんなことは言わなくていい」と言いましたが、頼んだ方がよかったのでしょうか。それとも私自ら辞めてと言うべきでしょうか。それともいちいち気にする方がおかしいのでしょうか。40代未婚の正社員です。この春他社から出向してきた後輩の男性社員が机の上に妻子の写真を額縁に入れて飾っており、結婚も出産も断念せざるを得なかった身としては、自分との差を思い知らされるようで大変辛いです。当社は室単位で仕事を行い、従って部屋も室ごとに分かれており、アットホーム逆にいえば閉鎖的な環境です。さりげなく「奥さんとお子さん？かわいいね。家族の写真飾ってる人なんて初めて見たけど、なんでわざわざ仕事中まで置いとくの？」と聞いたら、「愛する妻子の顔を見ていると仕事に精が出るからですよ」と答えました。「家庭に恵まれて幸せものねえ」と茶化して返しましたが、内心惨めさでいっぱいでした。「旦那さんはどんなお仕事されてるんですか？」と彼に聞かれることがあったので「結婚歴はありません、もう結婚も出産も諦めました、仕事が旦那です（笑）」と茶化しながら言いましたし、内心を察して写真を飾るのをやめてほしかったのですが、一向に意に介してないようです。彼は私の10個ほど年下。最近子供が生まれたばかりで、かわいくて仕方ないようで、何かにつけのろけ話が出てきて、私に対するあてつけなのではないかとすら思えてきてしまいました。数週間前から、朝一番早く来て、その写真をパタンと伏せるようにしました。当然彼はまたそれを立て掛けますが、何日も続けることで気づいてほしかったんです。しかし気付かず「毎朝写真が倒れてるんだけど、なんでだろう？」等と同僚に聞いています。とある先輩から「あいつに写真飾るのやめろって言おうか？」と聞かれ、気づかれていたことが分かりました。醜い内心を見抜かれて恥ずかしかったので「そんなことは言わなくていい」と言いましたが、頼んだ方がよかったのでしょうか。それとも私自ら辞めてと言うべきでしょうか。それともいちいち気にする方がおかしいのでしょうか。60代の主婦です。夫:60代。現在再雇用で一般企業勤務A子:20代半ば。夫の勤務先の社員。夫と同じ部署→人事異動で他部署に異動先日、夫から突然離婚を切り出されました。理由を聞くと「A子のことが好きになった。異動してから悩んでいることが多くて、相談を持ちかけられたり、食事に誘ったら来てくれたりする。下ネタを言ってみても照れたりするから多分脈アリだ」とのことでした。たしかに夫とA子が2人で食事に行っていることは知っていました。しかし、それを許可していたのは夫が「A子から相談したいことがあると言われたから話を聞いてくる」と言っていたからです。夫が話を聞くことで少しでもA子が楽になるならという思いでした。親子ほど年齢の離れた2人が、まさかそんなことになるとはと私も動揺しており、すぐに夫の携帯からA子に電話をかけさせました。電話に出たA子を問い詰めたところ・相談なんて持ちかけたことはない・食事を断らなかったのは、社会人としての礼儀だと思った。2人で行ったのは確かに軽率だったかもしれないが、自分の親ほどの年齢の人に誘われて断れなかった。あくまでも同僚として、人生の先輩として尊敬していただけ・大体、親子ほど離れてる人に好意を持つわけないでしょう。現実を見てください。こんな時間に電話をかけてきて迷惑です(確かに平日の夜でした)・食事に行こうとか、一人暮らしの私の家に行きたいとかの電話や下ネタがあまりにもしつこいので迷惑してました。この電話があったこと含めてハラスメント担当者に話しますと言われました。夫からA子に「それだけはやめてくれ。穏便にすませよう」と伝えてA子もそれで了承したので、その時は電話を切りました。続きます60代の主婦です。夫:60代。現在再雇用で一般企業勤務A子:20代半ば。夫の勤務先の社員。夫と同じ部署→人事異動で他部署に異動先日、夫から突然離婚を切り出されました。理由を聞くと「A子のことが好きになった。異動してから悩んでいることが多くて、相談を持ちかけられたり、食事に誘ったら来てくれたりする。下ネタを言ってみても照れたりするから多分脈アリだ」とのことでした。たしかに夫とA子が2人で食事に行っていることは知っていました。しかし、それを許可していたのは夫が「A子から相談したいことがあると言われたから話を聞いてくる」と言っていたからです。夫が話を聞くことで少しでもA子が楽になるならという思いでした。親子ほど年齢の離れた2人が、まさかそんなことになるとはと私も動揺しており、すぐに夫の携帯からA子に電話をかけさせました。電話に出たA子を問い詰めたところ・相談なんて持ちかけたことはない・食事を断らなかったのは、社会人としての礼儀だと思った。2人で行ったのは確かに軽率だったかもしれないが、自分の親ほどの年齢の人に誘われて断れなかった。あくまでも同僚として、人生の先輩として尊敬していただけ・大体、親子ほど離れてる人に好意を持つわけないでしょう。現実を見てください。こんな時間に電話をかけてきて迷惑です(確かに平日の夜でした)・食事に行こうとか、一人暮らしの私の家に行きたいとかの電話や下ネタがあまりにもしつこいので迷惑してました。この電話があったこと含めてハラスメント担当者に話しますと言われました。夫からA子に「それだけはやめてくれ。穏便にすませよう」と伝えてA子もそれで了承したので、その時は電話を切りました。続きます年末から、県外に進学していた娘が、今年成人式ということもあり久しぶりに帰ってきました。本当に久しぶりの帰郷なので、娘は「今日は中学時代の友人」「明日は高校時代の友人」「週末は部活の友人」･･･という感じで、会うメンバーをチェンジしながら旧交を温めていました。そんな中、ご近所に住む方（＝Ａさん）が娘の成人のお祝いをあげたいと連絡くださいました。その方とは家族ぐるみのお付き合いをしていたので（最近は子どもが大きくなり疎遠にはなってますが）どうぞ我が家で夕飯をご一緒しましょうとお誘いしました。この食事会は約２週間前のことで、まだオミクロンは今ほど猛威をふるっていませんでした。しかし、食事会の２日後、娘が発熱してしまいコロナと診断されてしまいました。飲食を共にしたＡさんにすぐに連絡し、恐らく濃厚接触者にあたるので検査をして欲しいとお願いしました。幸いにもＡさんご家族は全員陰性でしたが、やはり濃厚接触者になると宣告され、１０日間の自宅待機生活になるそうで、申し訳なさでいっぱいになりました。最初、Ａさんは、「感染したのは娘ちゃんが悪いわけではないから気にしないで。」と言っていたのですが、うっかり、実は娘はワクチン未接種であること、帰郷後、飲み歩いていたことを話したところ、態度が一変してしまったのです。検査代が家族分で２万円近くかかった。（検査自体は公費ですが病院の初診料等がかかった。）パートを休まざるを得なくなり職場に迷惑を掛けたし、給料が減額される。娘ちゃんが、ワクチン未接種なのに迂闊な行動をしていたと知っていたら、お宅に行くことはなかったのに。などなど、直接的な言葉ではありませんが、上記のようなことを言われてしまいました。Ａさんが支払った検査代を負担すべきでしょうか？年末から、県外に進学していた娘が、今年成人式ということもあり久しぶりに帰ってきました。本当に久しぶりの帰郷なので、娘は「今日は中学時代の友人」「明日は高校時代の友人」「週末は部活の友人」･･･という感じで、会うメンバーをチェンジしながら旧交を温めていました。そんな中、ご近所に住む方（＝Ａさん）が娘の成人のお祝いをあげたいと連絡くださいました。その方とは家族ぐるみのお付き合いをしていたので（最近は子どもが大きくなり疎遠にはなってますが）どうぞ我が家で夕飯をご一緒しましょうとお誘いしました。この食事会は約２週間前のことで、まだオミクロンは今ほど猛威をふるっていませんでした。しかし、食事会の２日後、娘が発熱してしまいコロナと診断されてしまいました。飲食を共にしたＡさんにすぐに連絡し、恐らく濃厚接触者にあたるので検査をして欲しいとお願いしました。幸いにもＡさんご家族は全員陰性でしたが、やはり濃厚接触者になると宣告され、１０日間の自宅待機生活になるそうで、申し訳なさでいっぱいになりました。最初、Ａさんは、「感染したのは娘ちゃんが悪いわけではないから気にしないで。」と言っていたのですが、うっかり、実は娘はワクチン未接種であること、帰郷後、飲み歩いていたことを話したところ、態度が一変してしまったのです。検査代が家族分で２万円近くかかった。（検査自体は公費ですが病院の初診料等がかかった。）パートを休まざるを得なくなり職場に迷惑を掛けたし、給料が減額される。娘ちゃんが、ワクチン未接種なのに迂闊な行動をしていたと知っていたら、お宅に行くことはなかったのに。などなど、直接的な言葉ではありませんが、上記のようなことを言われてしまいました。Ａさんが支払った検査代を負担すべきでしょうか？誰かに話を聞いて頂きたいと思い、長くなりますが聞いてください。昨日一年半弱お付き合いした彼と別れました。私は33歳、彼は39歳です。彼とは笑いのツボも合い、家族に対する考え方等が自分と近い事もあり、良き相談相手でもありました。会うのは週末一緒に過ごし、月曜は彼の家から仕事へ行くのがルーティンでした。お互い疲れている日はゆっくりしようと言えるくらいの仲でした。付き合った当初は本当に紳士的でこんな完璧な人いるのか？と思うくらいでした。笑しかし、最近は喧嘩のスパンが増えてきてよくよく考えると殆ど同じ事で喧嘩していました。彼はとても連絡がマメで、仕事終わり、出かける際も何時頃には帰るよ→今家着いたよ等の連絡は欠かさない人でした。私はマメな方では無く、彼と同じように連絡をして欲しいと言われていたので、心がけていました。仕事の時は、仕事が終わった事、無事家についた事。これは必ずしていました。しかし生理前や、仕事が遅くなって疲れてたりすると、うっかり家に着いたよの連絡を忘れてしまった事が数ヶ月に一回あったんです。(彼が次の日仕事で早く、もう寝ると先にLINEが来た日にそうなりがちです。起きている時は必ず連絡します)友達とご飯に行く際も、彼からのLINEに対して後で返そうと思っても、連絡のラリーが途絶えた事ですごく怒られた事もありました。彼は相手を心配させないようにと言う思いがとても強いので、マメに連絡してくれているのはわかりますし、私も彼と付き合ってその方が良いと思ってそうしてきました。ただ根本の性格を変える事は難しく努力していても状況によって、する気分になれない時もあります。今回は彼が寝てる状態で、帰ったよ！の連絡をせず、次の日LINEした事によって怒ってしまいました。続きます↓誰かに話を聞いて頂きたいと思い、長くなりますが聞いてください。昨日一年半弱お付き合いした彼と別れました。私は33歳、彼は39歳です。彼とは笑いのツボも合い、家族に対する考え方等が自分と近い事もあり、良き相談相手でもありました。会うのは週末一緒に過ごし、月曜は彼の家から仕事へ行くのがルーティンでした。お互い疲れている日はゆっくりしようと言えるくらいの仲でした。付き合った当初は本当に紳士的でこんな完璧な人いるのか？と思うくらいでした。笑しかし、最近は喧嘩のスパンが増えてきてよくよく考えると殆ど同じ事で喧嘩していました。彼はとても連絡がマメで、仕事終わり、出かける際も何時頃には帰るよ→今家着いたよ等の連絡は欠かさない人でした。私はマメな方では無く、彼と同じように連絡をして欲しいと言われていたので、心がけていました。仕事の時は、仕事が終わった事、無事家についた事。これは必ずしていました。しかし生理前や、仕事が遅くなって疲れてたりすると、うっかり家に着いたよの連絡を忘れてしまった事が数ヶ月に一回あったんです。(彼が次の日仕事で早く、もう寝ると先にLINEが来た日にそうなりがちです。起きている時は必ず連絡します)友達とご飯に行く際も、彼からのLINEに対して後で返そうと思っても、連絡のラリーが途絶えた事ですごく怒られた事もありました。彼は相手を心配させないようにと言う思いがとても強いので、マメに連絡してくれているのはわかりますし、私も彼と付き合ってその方が良いと思ってそうしてきました。ただ根本の性格を変える事は難しく努力していても状況によって、する気分になれない時もあります。今回は彼が寝てる状態で、帰ったよ！の連絡をせず、次の日LINEした事によって怒ってしまいました。続きます↓こんにちは。トピを開いて下さりありがとうございます。50代専業主婦です。週2回数時間程度来られる、70代半ばくらいの男性清掃員の方にモヤモヤしています。とにかく色々タメ口で馴れ馴れしく聞いてきます。初めは挨拶だけでした。ところがしばらくすると、挨拶後「どこ行くん？買い物？」とか「仕事しとん？」など、こちらからは挨拶以外に何も話しかけることはないのに、いちいち聞いてきます。清掃の予定なども勝手に説明してきます。そのうち、「おはようございます」と言えば、「おー」と偉そうに返され、「こんな所にゴミがある。非常識な人がおるもんや」などと愚痴られるようにもなりました。一言二言返してすぐに立ち去るようにしていましたが、お構い無し。鬱陶しいので、挨拶もやめて素通りすることにしました。これで話しかけて来ることは無くなり、しばらくが出くわすこともなかったのですが、先日久しぶりに間近で出くわしました。何か話しかけて来ましたが、私はさっさと立ち去りました。こういうタイプの人はハッキリ言わないと分からないとは思います。もし、若かりし日の私であれば、ズケッと一言で済ましていたでしょう。でも、今はこんな後期高齢者のような方に言うのも如何なものかと思ったりもします。挨拶後、お天気などの一言二言で済ませられる会話ならいいですが、この方の話は鬱陶しいしかありません。頭では放っておくのが1番だと思っていますが、感情がついていかずモヤモヤしてしまいます。やはり、馴れ馴れしく話しかけないでと、はっきり言うしかないのでしょうか·····？こんにちは。トピを開いて下さりありがとうございます。50代専業主婦です。週2回数時間程度来られる、70代半ばくらいの男性清掃員の方にモヤモヤしています。とにかく色々タメ口で馴れ馴れしく聞いてきます。初めは挨拶だけでした。ところがしばらくすると、挨拶後「どこ行くん？買い物？」とか「仕事しとん？」など、こちらからは挨拶以外に何も話しかけることはないのに、いちいち聞いてきます。清掃の予定なども勝手に説明してきます。そのうち、「おはようございます」と言えば、「おー」と偉そうに返され、「こんな所にゴミがある。非常識な人がおるもんや」などと愚痴られるようにもなりました。一言二言返してすぐに立ち去るようにしていましたが、お構い無し。鬱陶しいので、挨拶もやめて素通りすることにしました。これで話しかけて来ることは無くなり、しばらくが出くわすこともなかったのですが、先日久しぶりに間近で出くわしました。何か話しかけて来ましたが、私はさっさと立ち去りました。こういうタイプの人はハッキリ言わないと分からないとは思います。もし、若かりし日の私であれば、ズケッと一言で済ましていたでしょう。でも、今はこんな後期高齢者のような方に言うのも如何なものかと思ったりもします。挨拶後、お天気などの一言二言で済ませられる会話ならいいですが、この方の話は鬱陶しいしかありません。頭では放っておくのが1番だと思っていますが、感情がついていかずモヤモヤしてしまいます。やはり、馴れ馴れしく話しかけないでと、はっきり言うしかないのでしょうか·····？先日　きゅうりを一本買おうとしたところ、おじさんが綺麗に並んでいるきゅうりを下の方から何度も何度も取り出して、選んでました。内心そんなにひっかきまわさないでよ。と思いながら見ていましたら、私にきずきどうぞって言うので一本取って去ろうとしたら、おれがどうぞって言ったんだから何とか言ったらどうだって。私はすみませんって言いましたけど、これっておじさんが言うことではないかと。私も買い物でなるべく新しい物を選んでしまいますが、待っている人がいたら急いで選んで、すみませんっと言って場所をあけますが、皆さんのご意見お聞かせ下さい。先日　きゅうりを一本買おうとしたところ、おじさんが綺麗に並んでいるきゅうりを下の方から何度も何度も取り出して、選んでました。内心そんなにひっかきまわさないでよ。と思いながら見ていましたら、私にきずきどうぞって言うので一本取って去ろうとしたら、おれがどうぞって言ったんだから何とか言ったらどうだって。私はすみませんって言いましたけど、これっておじさんが言うことではないかと。私も買い物でなるべく新しい物を選んでしまいますが、待っている人がいたら急いで選んで、すみませんっと言って場所をあけますが、皆さんのご意見お聞かせ下さい。体力向上・ダイエット目的で土日だけジムに通う20代女性です。タイトルにあるように、今日、ジムでおじさんにフォームのアドバイスを受けました。ああだこうだとうるさい言い方ではありませんでしたが、少し気になることがあったのでこちらに書かせてください。チェストプレスをした後に、肩より手首が低いと肩を痛めるから、同じ高さにした方がいいよ、と言われました。肩痛める前に言ってもらえて良かったです、ありがとうございます、と伝えました。この一言くらいなら良いのですが、一回やってみて、と言われて少しビックリしました。え、誰目線？と思いつつも、一回ポジションにだけ入って、ああこんな感じですね、で終わらせました。直後にスタジオレッスンがあったので、正直足を止めてほしくなかったのです。そのときは、急にごめんね、と言われて終わったのですが、後から段々モヤモヤしてきました。トレーナーでもないのに、素人目で間違っていても勝手にやらせてくれ、と。終始お互いにこやかで、悪い空気も流れませんでしたが、今後もアドバイスを受けることがあれば正直面倒です。しかも相手に悪意はないので尚更。こう思ってしまう私は心が狭いのでしょうか。最近はさとり世代だの何だので、若者の態度が悪く言われることもある中、私も世間的にはその一味に入るのか？と考えてしまいました。また、このように話しかけられたときは、どう対応するのがベストなのでしょうか。\n",
      "<_io.TextIOWrapper name='komachi.txt' mode='a' encoding='UTF-8'>\n"
     ]
    }
   ],
   "source": [
    "load_url = 'https://komachi.yomiuri.co.jp/topics/id/1047424/'\n",
    "html = requests.get(load_url)\n",
    "soup9=BeautifulSoup(html.content,\"html.parser\")\n",
    "\n",
    "topic9= soup9.find(class_ = 'topicsId__articleContentText')\n",
    "#for element in topic.find_all(\"br\"):\n",
    " #   print(element.text)\n",
    "#print(topic.text)\n",
    "\n",
    "print('---追記前--')\n",
    "with open('komachi.txt','r') as f:\n",
    "    print(f.read())\n",
    "with open('komachi.txt', 'a') as f:\n",
    "#f.writelines(topic.text)\n",
    "    f.write(topic9.text)\n",
    "    print(f)\n",
    "    f.close "
   ]
  },
  {
   "cell_type": "code",
   "execution_count": 122,
   "id": "ba82dcb0",
   "metadata": {},
   "outputs": [
    {
     "name": "stdout",
     "output_type": "stream",
     "text": [
      "---追記前--\n",
      "地方暮らしの29歳。娘二人、婿旦那、両親、祖母と4世代7人暮らしです私の家は地方の兼業農家で、今の田畑はそんなに多くはないのですが、江戸時代から続く家で、私はその家の三姉妹の末っ子です子供の頃から三人の内、誰かが婿を取って、家を継いで欲しいと言われてきました。上の姉は早々に結婚して、年子の姉も東京で就職し、地元に戻る気はないと言っていたので、私は専門学校卒業後、地元に戻って就職し、結婚相談所で紹介された旦那と24歳で結婚しました旦那は7歳年上で、知り合った当初は婿に入るのに難色を示していたのですが、結婚してからは、子煩悩で、真面目に仕事もしてくれるし、土日休日は両親や私と一緒に田んぼや畑もしてくれます去年、コロナの影響で、東京で働いていた姉が帰ってきました。すぐに東京に戻って再就職するだろうと考えていたのですが、無職のまま、既に1年以上経っています姉の「男の子産まないの？」「二世帯住宅にすればいいのに」など、我が家の経済状況を無視した無神経なイライラ話や「こっちで結婚しようかな。誰か紹介してよ」などの現実離れした話も我慢して来ました。でも、先週、とうとう爆発してしまいました旦那が風呂上りに風呂場から私たちの部屋まで半裸で動き回るのが気に入らないと言い出したのです私も「気に入らないんだったら、出てけば」「ここはもうあんたの家じゃないの」「30にもなって、仕事も貯金もなくて、結婚もできないくせに、なに言ってんのよ」と応戦してしまいましたその日は、旦那のとりなしもあったので、怒りを鎮めましたが、上の姉から電話があり「あんまり、下の姉を責めないで」という言葉と私を咎める話を聞いて、本当に全てが嫌になりました絶対姉を追い出したいです。我慢できません。どうすればいいでしょうか？追い出せないんだったら、私たちが出ていこうと思っています地方暮らしの29歳。娘二人、婿旦那、両親、祖母と4世代7人暮らしです私の家は地方の兼業農家で、今の田畑はそんなに多くはないのですが、江戸時代から続く家で、私はその家の三姉妹の末っ子です子供の頃から三人の内、誰かが婿を取って、家を継いで欲しいと言われてきました。上の姉は早々に結婚して、年子の姉も東京で就職し、地元に戻る気はないと言っていたので、私は専門学校卒業後、地元に戻って就職し、結婚相談所で紹介された旦那と24歳で結婚しました旦那は7歳年上で、知り合った当初は婿に入るのに難色を示していたのですが、結婚してからは、子煩悩で、真面目に仕事もしてくれるし、土日休日は両親や私と一緒に田んぼや畑もしてくれます去年、コロナの影響で、東京で働いていた姉が帰ってきました。すぐに東京に戻って再就職するだろうと考えていたのですが、無職のまま、既に1年以上経っています姉の「男の子産まないの？」「二世帯住宅にすればいいのに」など、我が家の経済状況を無視した無神経なイライラ話や「こっちで結婚しようかな。誰か紹介してよ」などの現実離れした話も我慢して来ました。でも、先週、とうとう爆発してしまいました旦那が風呂上りに風呂場から私たちの部屋まで半裸で動き回るのが気に入らないと言い出したのです私も「気に入らないんだったら、出てけば」「ここはもうあんたの家じゃないの」「30にもなって、仕事も貯金もなくて、結婚もできないくせに、なに言ってんのよ」と応戦してしまいましたその日は、旦那のとりなしもあったので、怒りを鎮めましたが、上の姉から電話があり「あんまり、下の姉を責めないで」という言葉と私を咎める話を聞いて、本当に全てが嫌になりました絶対姉を追い出したいです。我慢できません。どうすればいいでしょうか？追い出せないんだったら、私たちが出ていこうと思っています地方暮らしの29歳。娘二人、婿旦那、両親、祖母と4世代7人暮らしです私の家は地方の兼業農家で、今の田畑はそんなに多くはないのですが、江戸時代から続く家で、私はその家の三姉妹の末っ子です子供の頃から三人の内、誰かが婿を取って、家を継いで欲しいと言われてきました。上の姉は早々に結婚して、年子の姉も東京で就職し、地元に戻る気はないと言っていたので、私は専門学校卒業後、地元に戻って就職し、結婚相談所で紹介された旦那と24歳で結婚しました旦那は7歳年上で、知り合った当初は婿に入るのに難色を示していたのですが、結婚してからは、子煩悩で、真面目に仕事もしてくれるし、土日休日は両親や私と一緒に田んぼや畑もしてくれます去年、コロナの影響で、東京で働いていた姉が帰ってきました。すぐに東京に戻って再就職するだろうと考えていたのですが、無職のまま、既に1年以上経っています姉の「男の子産まないの？」「二世帯住宅にすればいいのに」など、我が家の経済状況を無視した無神経なイライラ話や「こっちで結婚しようかな。誰か紹介してよ」などの現実離れした話も我慢して来ました。でも、先週、とうとう爆発してしまいました旦那が風呂上りに風呂場から私たちの部屋まで半裸で動き回るのが気に入らないと言い出したのです私も「気に入らないんだったら、出てけば」「ここはもうあんたの家じゃないの」「30にもなって、仕事も貯金もなくて、結婚もできないくせに、なに言ってんのよ」と応戦してしまいましたその日は、旦那のとりなしもあったので、怒りを鎮めましたが、上の姉から電話があり「あんまり、下の姉を責めないで」という言葉と私を咎める話を聞いて、本当に全てが嫌になりました絶対姉を追い出したいです。我慢できません。どうすればいいでしょうか？追い出せないんだったら、私たちが出ていこうと思っています40代、5歳の子を持つ主婦です。夫は会社員ですが、自分達が食べる分くらいのお米を作っています。タイトルの友達とは中学時代から20年以上の付き合いになります。彼女も主婦で3人の子供がいます。数年前からその友達がうちからお米を買うようになって新米ができると連絡して取りに来てもらっていました。1年分まとめて買ってもらうので、スーパーなどで買うよりはだいぶ安い値段にしています。去年の9月も新米ができたと連絡し取りに来てもらうことになっていました。ところがお米を取りに来る前日に友達から「明日うちの旦那が釣りに出かけていないから良かったら遊びに来ない？」と LINEがあったので遊びに行くことにし、ついでにお米も持っていくことにしたんです。当日お米と手土産のケーキを持って友達の家に向かい、腰が痛いという友達の代わりに30kgの米袋5袋を車から家に運びました。友達の子供達とうちの子は久しぶりの対面に嬉しそうで一緒に走り回っていました。ここまではいいのですが、着いてからお茶のひとつも出てきません。招待しておいてお茶も出さないの？とちょっとモヤモヤした気持ちになりました。久しぶりにおしゃべりしよ〜！という割には会話は弾まないしなにも出ないし走り回っていた子供が喉が乾いたようなので1時間も経たないくらいで帰ることにしました。するとその友達が一言、「何のお構いもしませんで〜。」きっと最初からお茶を出す気はなかったんですね…今まで遊びに行ってそんな対応をされたことがなかったのでモヤモヤと共にショックでした。お米を安くしていることにも手土産を持っていったことにもお米を運んだことにもお礼の言葉がなかったことにもモヤモヤ…私は仲のいい友達と認識していましたが友達はそうは思っていなかったのかも？今後の付き合い方をどうすればいいのか悩んでいます。交際2年の彼女からもう泊まりに来ないでと言われました。当方35歳です。付き合ってからほぼ毎週末、彼女の家で過ごしていました。喧嘩もなくとても仲良くしてきたと思っています。先日彼女から泊まり拒否の申し出を受け、理由を聞いたところ結婚もしていないのに毎週末男性が部屋に出入りするのは世間的にも良くないと思う。少しだけ離れて距離を保った付き合いをしたい。と言われました。聞いた時は彼女の気持ちが冷めたのかとショックでしたが、それ以降も会えば今まで通りの彼女ですし、心変わりなどもなさそうです。僕が家へ帰るときも、彼女は寂しそうにしています。好きで一緒にいたいのに泊まりの拒否をする彼女の気持があまり理解できません。小町の皆様、彼女の気持ちを教えてください。また、どうすれば以前のように泊まりを含めたデートができるようになるでしょうか。よろしくお願いします。交際2年の彼女からもう泊まりに来ないでと言われました。当方35歳です。付き合ってからほぼ毎週末、彼女の家で過ごしていました。喧嘩もなくとても仲良くしてきたと思っています。先日彼女から泊まり拒否の申し出を受け、理由を聞いたところ結婚もしていないのに毎週末男性が部屋に出入りするのは世間的にも良くないと思う。少しだけ離れて距離を保った付き合いをしたい。と言われました。聞いた時は彼女の気持ちが冷めたのかとショックでしたが、それ以降も会えば今まで通りの彼女ですし、心変わりなどもなさそうです。僕が家へ帰るときも、彼女は寂しそうにしています。好きで一緒にいたいのに泊まりの拒否をする彼女の気持があまり理解できません。小町の皆様、彼女の気持ちを教えてください。また、どうすれば以前のように泊まりを含めたデートができるようになるでしょうか。よろしくお願いします。小学４年生の子どもがいます。幼稚園の頃からの友達が３人おり、毎週、順番に子どもたちを家で遊ばせていて、その間、私たち母親は、会話を楽しんでいます。その中の一人Aさんについて、相談があります。無口過ぎるのです。私たちのおしゃべりを聴いてはいるのですが、頭の回転が鈍いのか、聞くだけです。それなのに、時々、マウントのように聞こえることを言い（〇〇の△△は美味しいですよね、とか）、文脈関係ない話も飛び出してきて、反応に困ります。大学、仕事のことは、一切話しません。私、Ｂ、Ｃは気にせず話しますが、Ａだけは、あいまいに濁され、話してくれません。帰国子女か留学していたようで、無理にではないけれど、色々聞いてみたいのですが、隠す理由がわかりません。心を開いてくれていない気がして、疲れます。なぜ私たちと一緒にいるのだろう？利用してるだけ？もしかして、本当はグループを抜けたいけど、言い出しにくいのか？とイライラします。だから、４年生に進級するタイミングで、「中学受験や、お稽古事の都合もあるだろうから、そちらの都合を優先してもらっていいよ。無理して来なくてもいいよ。」と再三言ったのですが、相変わらず来ます。私の本心は伝わっているはずです。Ａは転勤族なので、遅かれ早かれ、いなくなります。中学生になれば、忙しくなるし、子供たちも親ぬきで遊ぶようになるでしょう。二度と会うこともないと思います。もう一度、Ａに「グループを抜けてもいいよ。」と言うつもりですが、どう言ったらわかってもらえますか？小学４年生の子どもがいます。幼稚園の頃からの友達が３人おり、毎週、順番に子どもたちを家で遊ばせていて、その間、私たち母親は、会話を楽しんでいます。その中の一人Aさんについて、相談があります。無口過ぎるのです。私たちのおしゃべりを聴いてはいるのですが、頭の回転が鈍いのか、聞くだけです。それなのに、時々、マウントのように聞こえることを言い（〇〇の△△は美味しいですよね、とか）、文脈関係ない話も飛び出してきて、反応に困ります。大学、仕事のことは、一切話しません。私、Ｂ、Ｃは気にせず話しますが、Ａだけは、あいまいに濁され、話してくれません。帰国子女か留学していたようで、無理にではないけれど、色々聞いてみたいのですが、隠す理由がわかりません。心を開いてくれていない気がして、疲れます。なぜ私たちと一緒にいるのだろう？利用してるだけ？もしかして、本当はグループを抜けたいけど、言い出しにくいのか？とイライラします。だから、４年生に進級するタイミングで、「中学受験や、お稽古事の都合もあるだろうから、そちらの都合を優先してもらっていいよ。無理して来なくてもいいよ。」と再三言ったのですが、相変わらず来ます。私の本心は伝わっているはずです。Ａは転勤族なので、遅かれ早かれ、いなくなります。中学生になれば、忙しくなるし、子供たちも親ぬきで遊ぶようになるでしょう。二度と会うこともないと思います。もう一度、Ａに「グループを抜けてもいいよ。」と言うつもりですが、どう言ったらわかってもらえますか？お姑さんと同居、主人、小学生の２人兄弟の男の子の5人家族です。先日、夕飯にサバの味噌煮を出しました。主人のお給料日だったので、魚屋さんに行っていつもより高品質、大きめのサバです。味噌煮は子どもたちも大好きだったので、ペロリと平らげてくれました。とそこへ、姑が「冷凍のサバの味噌煮なんてやめてくださる？」と、、。私「え？これは今日買ってきた生のさばですけど。。」姑「こんなにきれいに味噌煮なんてできないけど。」私「いえ、これは本当に冷凍じゃありません!!レシート見ますか？」主人「もういいからお前はだまってろよ！」私「え？私がいけないの？もっと汚く作ればよかったですね、すみませんでした!!」普段から料理に失敗したら文句、家族のことを考えてないだのなんだの言っていて、上手くできてもこんな文句か、、とイライラしてしまいました。こういうときはどう対処すればいいのでしょうか？最近イライラがとまりません。かわす、ことをおさめる方法がなかなか思い付きません。以前にも炊き込みご飯を出したら出来合いのものを混ぜないで！といきなり皆の前でおこられました。違います、、手作りです。。ちなみに敷地内に義弟夫婦がおり、週の半分ご飯を食べにくるので、緊急対処用に冷凍の魚類は置いてあります。たぶん、それを疑ってのことだと思います。お姑さんと同居、主人、小学生の２人兄弟の男の子の5人家族です。先日、夕飯にサバの味噌煮を出しました。主人のお給料日だったので、魚屋さんに行っていつもより高品質、大きめのサバです。味噌煮は子どもたちも大好きだったので、ペロリと平らげてくれました。とそこへ、姑が「冷凍のサバの味噌煮なんてやめてくださる？」と、、。私「え？これは今日買ってきた生のさばですけど。。」姑「こんなにきれいに味噌煮なんてできないけど。」私「いえ、これは本当に冷凍じゃありません!!レシート見ますか？」主人「もういいからお前はだまってろよ！」私「え？私がいけないの？もっと汚く作ればよかったですね、すみませんでした!!」普段から料理に失敗したら文句、家族のことを考えてないだのなんだの言っていて、上手くできてもこんな文句か、、とイライラしてしまいました。こういうときはどう対処すればいいのでしょうか？最近イライラがとまりません。かわす、ことをおさめる方法がなかなか思い付きません。以前にも炊き込みご飯を出したら出来合いのものを混ぜないで！といきなり皆の前でおこられました。違います、、手作りです。。ちなみに敷地内に義弟夫婦がおり、週の半分ご飯を食べにくるので、緊急対処用に冷凍の魚類は置いてあります。たぶん、それを疑ってのことだと思います。40代未婚の正社員です。この春他社から出向してきた後輩の男性社員が机の上に妻子の写真を額縁に入れて飾っており、結婚も出産も断念せざるを得なかった身としては、自分との差を思い知らされるようで大変辛いです。当社は室単位で仕事を行い、従って部屋も室ごとに分かれており、アットホーム逆にいえば閉鎖的な環境です。さりげなく「奥さんとお子さん？かわいいね。家族の写真飾ってる人なんて初めて見たけど、なんでわざわざ仕事中まで置いとくの？」と聞いたら、「愛する妻子の顔を見ていると仕事に精が出るからですよ」と答えました。「家庭に恵まれて幸せものねえ」と茶化して返しましたが、内心惨めさでいっぱいでした。「旦那さんはどんなお仕事されてるんですか？」と彼に聞かれることがあったので「結婚歴はありません、もう結婚も出産も諦めました、仕事が旦那です（笑）」と茶化しながら言いましたし、内心を察して写真を飾るのをやめてほしかったのですが、一向に意に介してないようです。彼は私の10個ほど年下。最近子供が生まれたばかりで、かわいくて仕方ないようで、何かにつけのろけ話が出てきて、私に対するあてつけなのではないかとすら思えてきてしまいました。数週間前から、朝一番早く来て、その写真をパタンと伏せるようにしました。当然彼はまたそれを立て掛けますが、何日も続けることで気づいてほしかったんです。しかし気付かず「毎朝写真が倒れてるんだけど、なんでだろう？」等と同僚に聞いています。とある先輩から「あいつに写真飾るのやめろって言おうか？」と聞かれ、気づかれていたことが分かりました。醜い内心を見抜かれて恥ずかしかったので「そんなことは言わなくていい」と言いましたが、頼んだ方がよかったのでしょうか。それとも私自ら辞めてと言うべきでしょうか。それともいちいち気にする方がおかしいのでしょうか。40代未婚の正社員です。この春他社から出向してきた後輩の男性社員が机の上に妻子の写真を額縁に入れて飾っており、結婚も出産も断念せざるを得なかった身としては、自分との差を思い知らされるようで大変辛いです。当社は室単位で仕事を行い、従って部屋も室ごとに分かれており、アットホーム逆にいえば閉鎖的な環境です。さりげなく「奥さんとお子さん？かわいいね。家族の写真飾ってる人なんて初めて見たけど、なんでわざわざ仕事中まで置いとくの？」と聞いたら、「愛する妻子の顔を見ていると仕事に精が出るからですよ」と答えました。「家庭に恵まれて幸せものねえ」と茶化して返しましたが、内心惨めさでいっぱいでした。「旦那さんはどんなお仕事されてるんですか？」と彼に聞かれることがあったので「結婚歴はありません、もう結婚も出産も諦めました、仕事が旦那です（笑）」と茶化しながら言いましたし、内心を察して写真を飾るのをやめてほしかったのですが、一向に意に介してないようです。彼は私の10個ほど年下。最近子供が生まれたばかりで、かわいくて仕方ないようで、何かにつけのろけ話が出てきて、私に対するあてつけなのではないかとすら思えてきてしまいました。数週間前から、朝一番早く来て、その写真をパタンと伏せるようにしました。当然彼はまたそれを立て掛けますが、何日も続けることで気づいてほしかったんです。しかし気付かず「毎朝写真が倒れてるんだけど、なんでだろう？」等と同僚に聞いています。とある先輩から「あいつに写真飾るのやめろって言おうか？」と聞かれ、気づかれていたことが分かりました。醜い内心を見抜かれて恥ずかしかったので「そんなことは言わなくていい」と言いましたが、頼んだ方がよかったのでしょうか。それとも私自ら辞めてと言うべきでしょうか。それともいちいち気にする方がおかしいのでしょうか。60代の主婦です。夫:60代。現在再雇用で一般企業勤務A子:20代半ば。夫の勤務先の社員。夫と同じ部署→人事異動で他部署に異動先日、夫から突然離婚を切り出されました。理由を聞くと「A子のことが好きになった。異動してから悩んでいることが多くて、相談を持ちかけられたり、食事に誘ったら来てくれたりする。下ネタを言ってみても照れたりするから多分脈アリだ」とのことでした。たしかに夫とA子が2人で食事に行っていることは知っていました。しかし、それを許可していたのは夫が「A子から相談したいことがあると言われたから話を聞いてくる」と言っていたからです。夫が話を聞くことで少しでもA子が楽になるならという思いでした。親子ほど年齢の離れた2人が、まさかそんなことになるとはと私も動揺しており、すぐに夫の携帯からA子に電話をかけさせました。電話に出たA子を問い詰めたところ・相談なんて持ちかけたことはない・食事を断らなかったのは、社会人としての礼儀だと思った。2人で行ったのは確かに軽率だったかもしれないが、自分の親ほどの年齢の人に誘われて断れなかった。あくまでも同僚として、人生の先輩として尊敬していただけ・大体、親子ほど離れてる人に好意を持つわけないでしょう。現実を見てください。こんな時間に電話をかけてきて迷惑です(確かに平日の夜でした)・食事に行こうとか、一人暮らしの私の家に行きたいとかの電話や下ネタがあまりにもしつこいので迷惑してました。この電話があったこと含めてハラスメント担当者に話しますと言われました。夫からA子に「それだけはやめてくれ。穏便にすませよう」と伝えてA子もそれで了承したので、その時は電話を切りました。続きます60代の主婦です。夫:60代。現在再雇用で一般企業勤務A子:20代半ば。夫の勤務先の社員。夫と同じ部署→人事異動で他部署に異動先日、夫から突然離婚を切り出されました。理由を聞くと「A子のことが好きになった。異動してから悩んでいることが多くて、相談を持ちかけられたり、食事に誘ったら来てくれたりする。下ネタを言ってみても照れたりするから多分脈アリだ」とのことでした。たしかに夫とA子が2人で食事に行っていることは知っていました。しかし、それを許可していたのは夫が「A子から相談したいことがあると言われたから話を聞いてくる」と言っていたからです。夫が話を聞くことで少しでもA子が楽になるならという思いでした。親子ほど年齢の離れた2人が、まさかそんなことになるとはと私も動揺しており、すぐに夫の携帯からA子に電話をかけさせました。電話に出たA子を問い詰めたところ・相談なんて持ちかけたことはない・食事を断らなかったのは、社会人としての礼儀だと思った。2人で行ったのは確かに軽率だったかもしれないが、自分の親ほどの年齢の人に誘われて断れなかった。あくまでも同僚として、人生の先輩として尊敬していただけ・大体、親子ほど離れてる人に好意を持つわけないでしょう。現実を見てください。こんな時間に電話をかけてきて迷惑です(確かに平日の夜でした)・食事に行こうとか、一人暮らしの私の家に行きたいとかの電話や下ネタがあまりにもしつこいので迷惑してました。この電話があったこと含めてハラスメント担当者に話しますと言われました。夫からA子に「それだけはやめてくれ。穏便にすませよう」と伝えてA子もそれで了承したので、その時は電話を切りました。続きます年末から、県外に進学していた娘が、今年成人式ということもあり久しぶりに帰ってきました。本当に久しぶりの帰郷なので、娘は「今日は中学時代の友人」「明日は高校時代の友人」「週末は部活の友人」･･･という感じで、会うメンバーをチェンジしながら旧交を温めていました。そんな中、ご近所に住む方（＝Ａさん）が娘の成人のお祝いをあげたいと連絡くださいました。その方とは家族ぐるみのお付き合いをしていたので（最近は子どもが大きくなり疎遠にはなってますが）どうぞ我が家で夕飯をご一緒しましょうとお誘いしました。この食事会は約２週間前のことで、まだオミクロンは今ほど猛威をふるっていませんでした。しかし、食事会の２日後、娘が発熱してしまいコロナと診断されてしまいました。飲食を共にしたＡさんにすぐに連絡し、恐らく濃厚接触者にあたるので検査をして欲しいとお願いしました。幸いにもＡさんご家族は全員陰性でしたが、やはり濃厚接触者になると宣告され、１０日間の自宅待機生活になるそうで、申し訳なさでいっぱいになりました。最初、Ａさんは、「感染したのは娘ちゃんが悪いわけではないから気にしないで。」と言っていたのですが、うっかり、実は娘はワクチン未接種であること、帰郷後、飲み歩いていたことを話したところ、態度が一変してしまったのです。検査代が家族分で２万円近くかかった。（検査自体は公費ですが病院の初診料等がかかった。）パートを休まざるを得なくなり職場に迷惑を掛けたし、給料が減額される。娘ちゃんが、ワクチン未接種なのに迂闊な行動をしていたと知っていたら、お宅に行くことはなかったのに。などなど、直接的な言葉ではありませんが、上記のようなことを言われてしまいました。Ａさんが支払った検査代を負担すべきでしょうか？年末から、県外に進学していた娘が、今年成人式ということもあり久しぶりに帰ってきました。本当に久しぶりの帰郷なので、娘は「今日は中学時代の友人」「明日は高校時代の友人」「週末は部活の友人」･･･という感じで、会うメンバーをチェンジしながら旧交を温めていました。そんな中、ご近所に住む方（＝Ａさん）が娘の成人のお祝いをあげたいと連絡くださいました。その方とは家族ぐるみのお付き合いをしていたので（最近は子どもが大きくなり疎遠にはなってますが）どうぞ我が家で夕飯をご一緒しましょうとお誘いしました。この食事会は約２週間前のことで、まだオミクロンは今ほど猛威をふるっていませんでした。しかし、食事会の２日後、娘が発熱してしまいコロナと診断されてしまいました。飲食を共にしたＡさんにすぐに連絡し、恐らく濃厚接触者にあたるので検査をして欲しいとお願いしました。幸いにもＡさんご家族は全員陰性でしたが、やはり濃厚接触者になると宣告され、１０日間の自宅待機生活になるそうで、申し訳なさでいっぱいになりました。最初、Ａさんは、「感染したのは娘ちゃんが悪いわけではないから気にしないで。」と言っていたのですが、うっかり、実は娘はワクチン未接種であること、帰郷後、飲み歩いていたことを話したところ、態度が一変してしまったのです。検査代が家族分で２万円近くかかった。（検査自体は公費ですが病院の初診料等がかかった。）パートを休まざるを得なくなり職場に迷惑を掛けたし、給料が減額される。娘ちゃんが、ワクチン未接種なのに迂闊な行動をしていたと知っていたら、お宅に行くことはなかったのに。などなど、直接的な言葉ではありませんが、上記のようなことを言われてしまいました。Ａさんが支払った検査代を負担すべきでしょうか？誰かに話を聞いて頂きたいと思い、長くなりますが聞いてください。昨日一年半弱お付き合いした彼と別れました。私は33歳、彼は39歳です。彼とは笑いのツボも合い、家族に対する考え方等が自分と近い事もあり、良き相談相手でもありました。会うのは週末一緒に過ごし、月曜は彼の家から仕事へ行くのがルーティンでした。お互い疲れている日はゆっくりしようと言えるくらいの仲でした。付き合った当初は本当に紳士的でこんな完璧な人いるのか？と思うくらいでした。笑しかし、最近は喧嘩のスパンが増えてきてよくよく考えると殆ど同じ事で喧嘩していました。彼はとても連絡がマメで、仕事終わり、出かける際も何時頃には帰るよ→今家着いたよ等の連絡は欠かさない人でした。私はマメな方では無く、彼と同じように連絡をして欲しいと言われていたので、心がけていました。仕事の時は、仕事が終わった事、無事家についた事。これは必ずしていました。しかし生理前や、仕事が遅くなって疲れてたりすると、うっかり家に着いたよの連絡を忘れてしまった事が数ヶ月に一回あったんです。(彼が次の日仕事で早く、もう寝ると先にLINEが来た日にそうなりがちです。起きている時は必ず連絡します)友達とご飯に行く際も、彼からのLINEに対して後で返そうと思っても、連絡のラリーが途絶えた事ですごく怒られた事もありました。彼は相手を心配させないようにと言う思いがとても強いので、マメに連絡してくれているのはわかりますし、私も彼と付き合ってその方が良いと思ってそうしてきました。ただ根本の性格を変える事は難しく努力していても状況によって、する気分になれない時もあります。今回は彼が寝てる状態で、帰ったよ！の連絡をせず、次の日LINEした事によって怒ってしまいました。続きます↓誰かに話を聞いて頂きたいと思い、長くなりますが聞いてください。昨日一年半弱お付き合いした彼と別れました。私は33歳、彼は39歳です。彼とは笑いのツボも合い、家族に対する考え方等が自分と近い事もあり、良き相談相手でもありました。会うのは週末一緒に過ごし、月曜は彼の家から仕事へ行くのがルーティンでした。お互い疲れている日はゆっくりしようと言えるくらいの仲でした。付き合った当初は本当に紳士的でこんな完璧な人いるのか？と思うくらいでした。笑しかし、最近は喧嘩のスパンが増えてきてよくよく考えると殆ど同じ事で喧嘩していました。彼はとても連絡がマメで、仕事終わり、出かける際も何時頃には帰るよ→今家着いたよ等の連絡は欠かさない人でした。私はマメな方では無く、彼と同じように連絡をして欲しいと言われていたので、心がけていました。仕事の時は、仕事が終わった事、無事家についた事。これは必ずしていました。しかし生理前や、仕事が遅くなって疲れてたりすると、うっかり家に着いたよの連絡を忘れてしまった事が数ヶ月に一回あったんです。(彼が次の日仕事で早く、もう寝ると先にLINEが来た日にそうなりがちです。起きている時は必ず連絡します)友達とご飯に行く際も、彼からのLINEに対して後で返そうと思っても、連絡のラリーが途絶えた事ですごく怒られた事もありました。彼は相手を心配させないようにと言う思いがとても強いので、マメに連絡してくれているのはわかりますし、私も彼と付き合ってその方が良いと思ってそうしてきました。ただ根本の性格を変える事は難しく努力していても状況によって、する気分になれない時もあります。今回は彼が寝てる状態で、帰ったよ！の連絡をせず、次の日LINEした事によって怒ってしまいました。続きます↓こんにちは。トピを開いて下さりありがとうございます。50代専業主婦です。週2回数時間程度来られる、70代半ばくらいの男性清掃員の方にモヤモヤしています。とにかく色々タメ口で馴れ馴れしく聞いてきます。初めは挨拶だけでした。ところがしばらくすると、挨拶後「どこ行くん？買い物？」とか「仕事しとん？」など、こちらからは挨拶以外に何も話しかけることはないのに、いちいち聞いてきます。清掃の予定なども勝手に説明してきます。そのうち、「おはようございます」と言えば、「おー」と偉そうに返され、「こんな所にゴミがある。非常識な人がおるもんや」などと愚痴られるようにもなりました。一言二言返してすぐに立ち去るようにしていましたが、お構い無し。鬱陶しいので、挨拶もやめて素通りすることにしました。これで話しかけて来ることは無くなり、しばらくが出くわすこともなかったのですが、先日久しぶりに間近で出くわしました。何か話しかけて来ましたが、私はさっさと立ち去りました。こういうタイプの人はハッキリ言わないと分からないとは思います。もし、若かりし日の私であれば、ズケッと一言で済ましていたでしょう。でも、今はこんな後期高齢者のような方に言うのも如何なものかと思ったりもします。挨拶後、お天気などの一言二言で済ませられる会話ならいいですが、この方の話は鬱陶しいしかありません。頭では放っておくのが1番だと思っていますが、感情がついていかずモヤモヤしてしまいます。やはり、馴れ馴れしく話しかけないでと、はっきり言うしかないのでしょうか·····？こんにちは。トピを開いて下さりありがとうございます。50代専業主婦です。週2回数時間程度来られる、70代半ばくらいの男性清掃員の方にモヤモヤしています。とにかく色々タメ口で馴れ馴れしく聞いてきます。初めは挨拶だけでした。ところがしばらくすると、挨拶後「どこ行くん？買い物？」とか「仕事しとん？」など、こちらからは挨拶以外に何も話しかけることはないのに、いちいち聞いてきます。清掃の予定なども勝手に説明してきます。そのうち、「おはようございます」と言えば、「おー」と偉そうに返され、「こんな所にゴミがある。非常識な人がおるもんや」などと愚痴られるようにもなりました。一言二言返してすぐに立ち去るようにしていましたが、お構い無し。鬱陶しいので、挨拶もやめて素通りすることにしました。これで話しかけて来ることは無くなり、しばらくが出くわすこともなかったのですが、先日久しぶりに間近で出くわしました。何か話しかけて来ましたが、私はさっさと立ち去りました。こういうタイプの人はハッキリ言わないと分からないとは思います。もし、若かりし日の私であれば、ズケッと一言で済ましていたでしょう。でも、今はこんな後期高齢者のような方に言うのも如何なものかと思ったりもします。挨拶後、お天気などの一言二言で済ませられる会話ならいいですが、この方の話は鬱陶しいしかありません。頭では放っておくのが1番だと思っていますが、感情がついていかずモヤモヤしてしまいます。やはり、馴れ馴れしく話しかけないでと、はっきり言うしかないのでしょうか·····？先日　きゅうりを一本買おうとしたところ、おじさんが綺麗に並んでいるきゅうりを下の方から何度も何度も取り出して、選んでました。内心そんなにひっかきまわさないでよ。と思いながら見ていましたら、私にきずきどうぞって言うので一本取って去ろうとしたら、おれがどうぞって言ったんだから何とか言ったらどうだって。私はすみませんって言いましたけど、これっておじさんが言うことではないかと。私も買い物でなるべく新しい物を選んでしまいますが、待っている人がいたら急いで選んで、すみませんっと言って場所をあけますが、皆さんのご意見お聞かせ下さい。先日　きゅうりを一本買おうとしたところ、おじさんが綺麗に並んでいるきゅうりを下の方から何度も何度も取り出して、選んでました。内心そんなにひっかきまわさないでよ。と思いながら見ていましたら、私にきずきどうぞって言うので一本取って去ろうとしたら、おれがどうぞって言ったんだから何とか言ったらどうだって。私はすみませんって言いましたけど、これっておじさんが言うことではないかと。私も買い物でなるべく新しい物を選んでしまいますが、待っている人がいたら急いで選んで、すみませんっと言って場所をあけますが、皆さんのご意見お聞かせ下さい。体力向上・ダイエット目的で土日だけジムに通う20代女性です。タイトルにあるように、今日、ジムでおじさんにフォームのアドバイスを受けました。ああだこうだとうるさい言い方ではありませんでしたが、少し気になることがあったのでこちらに書かせてください。チェストプレスをした後に、肩より手首が低いと肩を痛めるから、同じ高さにした方がいいよ、と言われました。肩痛める前に言ってもらえて良かったです、ありがとうございます、と伝えました。この一言くらいなら良いのですが、一回やってみて、と言われて少しビックリしました。え、誰目線？と思いつつも、一回ポジションにだけ入って、ああこんな感じですね、で終わらせました。直後にスタジオレッスンがあったので、正直足を止めてほしくなかったのです。そのときは、急にごめんね、と言われて終わったのですが、後から段々モヤモヤしてきました。トレーナーでもないのに、素人目で間違っていても勝手にやらせてくれ、と。終始お互いにこやかで、悪い空気も流れませんでしたが、今後もアドバイスを受けることがあれば正直面倒です。しかも相手に悪意はないので尚更。こう思ってしまう私は心が狭いのでしょうか。最近はさとり世代だの何だので、若者の態度が悪く言われることもある中、私も世間的にはその一味に入るのか？と考えてしまいました。また、このように話しかけられたときは、どう対応するのがベストなのでしょうか。体力向上・ダイエット目的で土日だけジムに通う20代女性です。タイトルにあるように、今日、ジムでおじさんにフォームのアドバイスを受けました。ああだこうだとうるさい言い方ではありませんでしたが、少し気になることがあったのでこちらに書かせてください。チェストプレスをした後に、肩より手首が低いと肩を痛めるから、同じ高さにした方がいいよ、と言われました。肩痛める前に言ってもらえて良かったです、ありがとうございます、と伝えました。この一言くらいなら良いのですが、一回やってみて、と言われて少しビックリしました。え、誰目線？と思いつつも、一回ポジションにだけ入って、ああこんな感じですね、で終わらせました。直後にスタジオレッスンがあったので、正直足を止めてほしくなかったのです。そのときは、急にごめんね、と言われて終わったのですが、後から段々モヤモヤしてきました。トレーナーでもないのに、素人目で間違っていても勝手にやらせてくれ、と。終始お互いにこやかで、悪い空気も流れませんでしたが、今後もアドバイスを受けることがあれば正直面倒です。しかも相手に悪意はないので尚更。こう思ってしまう私は心が狭いのでしょうか。最近はさとり世代だの何だので、若者の態度が悪く言われることもある中、私も世間的にはその一味に入るのか？と考えてしまいました。また、このように話しかけられたときは、どう対応するのがベストなのでしょうか。私は現在25歳です。最近、気がついたことがあってスーパーなどで40代から60代のおじさん世代からちらっと見られたりします。気のせいだと思っていたのですが、母と一緒に出掛けたときに母から「さっき60代くらいの男の人があんたのこと見てたで、前も40代くらいの男の人もちらっと見てたことあったで」と言われたので気のせいではないみたいです。でも、逆に自分と同年代の男性や学生くらいの男性にはほとんど見られたことはないです。私は身長が170くらいあって顔立ちが派手でハーフと間違えられたりエキゾチックと言われたりします。なんかこわいというか何故おじさん世代から見られるのか自分ではわかりません。おじさん世代から好まれる容姿なのでしょうか？\n",
      "<_io.TextIOWrapper name='komachi.txt' mode='a' encoding='UTF-8'>\n"
     ]
    }
   ],
   "source": [
    "load_url = 'https://komachi.yomiuri.co.jp/topics/id/1040619/'\n",
    "html = requests.get(load_url)\n",
    "soup9=BeautifulSoup(html.content,\"html.parser\")\n",
    "\n",
    "topic9= soup9.find(class_ = 'topicsId__articleContentText')\n",
    "#for element in topic.find_all(\"br\"):\n",
    " #   print(element.text)\n",
    "#print(topic.text)\n",
    "\n",
    "print('---追記前--')\n",
    "with open('komachi.txt','r') as f:\n",
    "    print(f.read())\n",
    "with open('komachi.txt', 'a') as f:\n",
    "#f.writelines(topic.text)\n",
    "    f.write(topic9.text)\n",
    "    print(f)\n",
    "    f.close "
   ]
  },
  {
   "cell_type": "code",
   "execution_count": 124,
   "id": "87d0b354",
   "metadata": {},
   "outputs": [
    {
     "name": "stdout",
     "output_type": "stream",
     "text": [
      "---追記前--\n",
      "地方暮らしの29歳。娘二人、婿旦那、両親、祖母と4世代7人暮らしです私の家は地方の兼業農家で、今の田畑はそんなに多くはないのですが、江戸時代から続く家で、私はその家の三姉妹の末っ子です子供の頃から三人の内、誰かが婿を取って、家を継いで欲しいと言われてきました。上の姉は早々に結婚して、年子の姉も東京で就職し、地元に戻る気はないと言っていたので、私は専門学校卒業後、地元に戻って就職し、結婚相談所で紹介された旦那と24歳で結婚しました旦那は7歳年上で、知り合った当初は婿に入るのに難色を示していたのですが、結婚してからは、子煩悩で、真面目に仕事もしてくれるし、土日休日は両親や私と一緒に田んぼや畑もしてくれます去年、コロナの影響で、東京で働いていた姉が帰ってきました。すぐに東京に戻って再就職するだろうと考えていたのですが、無職のまま、既に1年以上経っています姉の「男の子産まないの？」「二世帯住宅にすればいいのに」など、我が家の経済状況を無視した無神経なイライラ話や「こっちで結婚しようかな。誰か紹介してよ」などの現実離れした話も我慢して来ました。でも、先週、とうとう爆発してしまいました旦那が風呂上りに風呂場から私たちの部屋まで半裸で動き回るのが気に入らないと言い出したのです私も「気に入らないんだったら、出てけば」「ここはもうあんたの家じゃないの」「30にもなって、仕事も貯金もなくて、結婚もできないくせに、なに言ってんのよ」と応戦してしまいましたその日は、旦那のとりなしもあったので、怒りを鎮めましたが、上の姉から電話があり「あんまり、下の姉を責めないで」という言葉と私を咎める話を聞いて、本当に全てが嫌になりました絶対姉を追い出したいです。我慢できません。どうすればいいでしょうか？追い出せないんだったら、私たちが出ていこうと思っています地方暮らしの29歳。娘二人、婿旦那、両親、祖母と4世代7人暮らしです私の家は地方の兼業農家で、今の田畑はそんなに多くはないのですが、江戸時代から続く家で、私はその家の三姉妹の末っ子です子供の頃から三人の内、誰かが婿を取って、家を継いで欲しいと言われてきました。上の姉は早々に結婚して、年子の姉も東京で就職し、地元に戻る気はないと言っていたので、私は専門学校卒業後、地元に戻って就職し、結婚相談所で紹介された旦那と24歳で結婚しました旦那は7歳年上で、知り合った当初は婿に入るのに難色を示していたのですが、結婚してからは、子煩悩で、真面目に仕事もしてくれるし、土日休日は両親や私と一緒に田んぼや畑もしてくれます去年、コロナの影響で、東京で働いていた姉が帰ってきました。すぐに東京に戻って再就職するだろうと考えていたのですが、無職のまま、既に1年以上経っています姉の「男の子産まないの？」「二世帯住宅にすればいいのに」など、我が家の経済状況を無視した無神経なイライラ話や「こっちで結婚しようかな。誰か紹介してよ」などの現実離れした話も我慢して来ました。でも、先週、とうとう爆発してしまいました旦那が風呂上りに風呂場から私たちの部屋まで半裸で動き回るのが気に入らないと言い出したのです私も「気に入らないんだったら、出てけば」「ここはもうあんたの家じゃないの」「30にもなって、仕事も貯金もなくて、結婚もできないくせに、なに言ってんのよ」と応戦してしまいましたその日は、旦那のとりなしもあったので、怒りを鎮めましたが、上の姉から電話があり「あんまり、下の姉を責めないで」という言葉と私を咎める話を聞いて、本当に全てが嫌になりました絶対姉を追い出したいです。我慢できません。どうすればいいでしょうか？追い出せないんだったら、私たちが出ていこうと思っています地方暮らしの29歳。娘二人、婿旦那、両親、祖母と4世代7人暮らしです私の家は地方の兼業農家で、今の田畑はそんなに多くはないのですが、江戸時代から続く家で、私はその家の三姉妹の末っ子です子供の頃から三人の内、誰かが婿を取って、家を継いで欲しいと言われてきました。上の姉は早々に結婚して、年子の姉も東京で就職し、地元に戻る気はないと言っていたので、私は専門学校卒業後、地元に戻って就職し、結婚相談所で紹介された旦那と24歳で結婚しました旦那は7歳年上で、知り合った当初は婿に入るのに難色を示していたのですが、結婚してからは、子煩悩で、真面目に仕事もしてくれるし、土日休日は両親や私と一緒に田んぼや畑もしてくれます去年、コロナの影響で、東京で働いていた姉が帰ってきました。すぐに東京に戻って再就職するだろうと考えていたのですが、無職のまま、既に1年以上経っています姉の「男の子産まないの？」「二世帯住宅にすればいいのに」など、我が家の経済状況を無視した無神経なイライラ話や「こっちで結婚しようかな。誰か紹介してよ」などの現実離れした話も我慢して来ました。でも、先週、とうとう爆発してしまいました旦那が風呂上りに風呂場から私たちの部屋まで半裸で動き回るのが気に入らないと言い出したのです私も「気に入らないんだったら、出てけば」「ここはもうあんたの家じゃないの」「30にもなって、仕事も貯金もなくて、結婚もできないくせに、なに言ってんのよ」と応戦してしまいましたその日は、旦那のとりなしもあったので、怒りを鎮めましたが、上の姉から電話があり「あんまり、下の姉を責めないで」という言葉と私を咎める話を聞いて、本当に全てが嫌になりました絶対姉を追い出したいです。我慢できません。どうすればいいでしょうか？追い出せないんだったら、私たちが出ていこうと思っています40代、5歳の子を持つ主婦です。夫は会社員ですが、自分達が食べる分くらいのお米を作っています。タイトルの友達とは中学時代から20年以上の付き合いになります。彼女も主婦で3人の子供がいます。数年前からその友達がうちからお米を買うようになって新米ができると連絡して取りに来てもらっていました。1年分まとめて買ってもらうので、スーパーなどで買うよりはだいぶ安い値段にしています。去年の9月も新米ができたと連絡し取りに来てもらうことになっていました。ところがお米を取りに来る前日に友達から「明日うちの旦那が釣りに出かけていないから良かったら遊びに来ない？」と LINEがあったので遊びに行くことにし、ついでにお米も持っていくことにしたんです。当日お米と手土産のケーキを持って友達の家に向かい、腰が痛いという友達の代わりに30kgの米袋5袋を車から家に運びました。友達の子供達とうちの子は久しぶりの対面に嬉しそうで一緒に走り回っていました。ここまではいいのですが、着いてからお茶のひとつも出てきません。招待しておいてお茶も出さないの？とちょっとモヤモヤした気持ちになりました。久しぶりにおしゃべりしよ〜！という割には会話は弾まないしなにも出ないし走り回っていた子供が喉が乾いたようなので1時間も経たないくらいで帰ることにしました。するとその友達が一言、「何のお構いもしませんで〜。」きっと最初からお茶を出す気はなかったんですね…今まで遊びに行ってそんな対応をされたことがなかったのでモヤモヤと共にショックでした。お米を安くしていることにも手土産を持っていったことにもお米を運んだことにもお礼の言葉がなかったことにもモヤモヤ…私は仲のいい友達と認識していましたが友達はそうは思っていなかったのかも？今後の付き合い方をどうすればいいのか悩んでいます。交際2年の彼女からもう泊まりに来ないでと言われました。当方35歳です。付き合ってからほぼ毎週末、彼女の家で過ごしていました。喧嘩もなくとても仲良くしてきたと思っています。先日彼女から泊まり拒否の申し出を受け、理由を聞いたところ結婚もしていないのに毎週末男性が部屋に出入りするのは世間的にも良くないと思う。少しだけ離れて距離を保った付き合いをしたい。と言われました。聞いた時は彼女の気持ちが冷めたのかとショックでしたが、それ以降も会えば今まで通りの彼女ですし、心変わりなどもなさそうです。僕が家へ帰るときも、彼女は寂しそうにしています。好きで一緒にいたいのに泊まりの拒否をする彼女の気持があまり理解できません。小町の皆様、彼女の気持ちを教えてください。また、どうすれば以前のように泊まりを含めたデートができるようになるでしょうか。よろしくお願いします。交際2年の彼女からもう泊まりに来ないでと言われました。当方35歳です。付き合ってからほぼ毎週末、彼女の家で過ごしていました。喧嘩もなくとても仲良くしてきたと思っています。先日彼女から泊まり拒否の申し出を受け、理由を聞いたところ結婚もしていないのに毎週末男性が部屋に出入りするのは世間的にも良くないと思う。少しだけ離れて距離を保った付き合いをしたい。と言われました。聞いた時は彼女の気持ちが冷めたのかとショックでしたが、それ以降も会えば今まで通りの彼女ですし、心変わりなどもなさそうです。僕が家へ帰るときも、彼女は寂しそうにしています。好きで一緒にいたいのに泊まりの拒否をする彼女の気持があまり理解できません。小町の皆様、彼女の気持ちを教えてください。また、どうすれば以前のように泊まりを含めたデートができるようになるでしょうか。よろしくお願いします。小学４年生の子どもがいます。幼稚園の頃からの友達が３人おり、毎週、順番に子どもたちを家で遊ばせていて、その間、私たち母親は、会話を楽しんでいます。その中の一人Aさんについて、相談があります。無口過ぎるのです。私たちのおしゃべりを聴いてはいるのですが、頭の回転が鈍いのか、聞くだけです。それなのに、時々、マウントのように聞こえることを言い（〇〇の△△は美味しいですよね、とか）、文脈関係ない話も飛び出してきて、反応に困ります。大学、仕事のことは、一切話しません。私、Ｂ、Ｃは気にせず話しますが、Ａだけは、あいまいに濁され、話してくれません。帰国子女か留学していたようで、無理にではないけれど、色々聞いてみたいのですが、隠す理由がわかりません。心を開いてくれていない気がして、疲れます。なぜ私たちと一緒にいるのだろう？利用してるだけ？もしかして、本当はグループを抜けたいけど、言い出しにくいのか？とイライラします。だから、４年生に進級するタイミングで、「中学受験や、お稽古事の都合もあるだろうから、そちらの都合を優先してもらっていいよ。無理して来なくてもいいよ。」と再三言ったのですが、相変わらず来ます。私の本心は伝わっているはずです。Ａは転勤族なので、遅かれ早かれ、いなくなります。中学生になれば、忙しくなるし、子供たちも親ぬきで遊ぶようになるでしょう。二度と会うこともないと思います。もう一度、Ａに「グループを抜けてもいいよ。」と言うつもりですが、どう言ったらわかってもらえますか？小学４年生の子どもがいます。幼稚園の頃からの友達が３人おり、毎週、順番に子どもたちを家で遊ばせていて、その間、私たち母親は、会話を楽しんでいます。その中の一人Aさんについて、相談があります。無口過ぎるのです。私たちのおしゃべりを聴いてはいるのですが、頭の回転が鈍いのか、聞くだけです。それなのに、時々、マウントのように聞こえることを言い（〇〇の△△は美味しいですよね、とか）、文脈関係ない話も飛び出してきて、反応に困ります。大学、仕事のことは、一切話しません。私、Ｂ、Ｃは気にせず話しますが、Ａだけは、あいまいに濁され、話してくれません。帰国子女か留学していたようで、無理にではないけれど、色々聞いてみたいのですが、隠す理由がわかりません。心を開いてくれていない気がして、疲れます。なぜ私たちと一緒にいるのだろう？利用してるだけ？もしかして、本当はグループを抜けたいけど、言い出しにくいのか？とイライラします。だから、４年生に進級するタイミングで、「中学受験や、お稽古事の都合もあるだろうから、そちらの都合を優先してもらっていいよ。無理して来なくてもいいよ。」と再三言ったのですが、相変わらず来ます。私の本心は伝わっているはずです。Ａは転勤族なので、遅かれ早かれ、いなくなります。中学生になれば、忙しくなるし、子供たちも親ぬきで遊ぶようになるでしょう。二度と会うこともないと思います。もう一度、Ａに「グループを抜けてもいいよ。」と言うつもりですが、どう言ったらわかってもらえますか？お姑さんと同居、主人、小学生の２人兄弟の男の子の5人家族です。先日、夕飯にサバの味噌煮を出しました。主人のお給料日だったので、魚屋さんに行っていつもより高品質、大きめのサバです。味噌煮は子どもたちも大好きだったので、ペロリと平らげてくれました。とそこへ、姑が「冷凍のサバの味噌煮なんてやめてくださる？」と、、。私「え？これは今日買ってきた生のさばですけど。。」姑「こんなにきれいに味噌煮なんてできないけど。」私「いえ、これは本当に冷凍じゃありません!!レシート見ますか？」主人「もういいからお前はだまってろよ！」私「え？私がいけないの？もっと汚く作ればよかったですね、すみませんでした!!」普段から料理に失敗したら文句、家族のことを考えてないだのなんだの言っていて、上手くできてもこんな文句か、、とイライラしてしまいました。こういうときはどう対処すればいいのでしょうか？最近イライラがとまりません。かわす、ことをおさめる方法がなかなか思い付きません。以前にも炊き込みご飯を出したら出来合いのものを混ぜないで！といきなり皆の前でおこられました。違います、、手作りです。。ちなみに敷地内に義弟夫婦がおり、週の半分ご飯を食べにくるので、緊急対処用に冷凍の魚類は置いてあります。たぶん、それを疑ってのことだと思います。お姑さんと同居、主人、小学生の２人兄弟の男の子の5人家族です。先日、夕飯にサバの味噌煮を出しました。主人のお給料日だったので、魚屋さんに行っていつもより高品質、大きめのサバです。味噌煮は子どもたちも大好きだったので、ペロリと平らげてくれました。とそこへ、姑が「冷凍のサバの味噌煮なんてやめてくださる？」と、、。私「え？これは今日買ってきた生のさばですけど。。」姑「こんなにきれいに味噌煮なんてできないけど。」私「いえ、これは本当に冷凍じゃありません!!レシート見ますか？」主人「もういいからお前はだまってろよ！」私「え？私がいけないの？もっと汚く作ればよかったですね、すみませんでした!!」普段から料理に失敗したら文句、家族のことを考えてないだのなんだの言っていて、上手くできてもこんな文句か、、とイライラしてしまいました。こういうときはどう対処すればいいのでしょうか？最近イライラがとまりません。かわす、ことをおさめる方法がなかなか思い付きません。以前にも炊き込みご飯を出したら出来合いのものを混ぜないで！といきなり皆の前でおこられました。違います、、手作りです。。ちなみに敷地内に義弟夫婦がおり、週の半分ご飯を食べにくるので、緊急対処用に冷凍の魚類は置いてあります。たぶん、それを疑ってのことだと思います。40代未婚の正社員です。この春他社から出向してきた後輩の男性社員が机の上に妻子の写真を額縁に入れて飾っており、結婚も出産も断念せざるを得なかった身としては、自分との差を思い知らされるようで大変辛いです。当社は室単位で仕事を行い、従って部屋も室ごとに分かれており、アットホーム逆にいえば閉鎖的な環境です。さりげなく「奥さんとお子さん？かわいいね。家族の写真飾ってる人なんて初めて見たけど、なんでわざわざ仕事中まで置いとくの？」と聞いたら、「愛する妻子の顔を見ていると仕事に精が出るからですよ」と答えました。「家庭に恵まれて幸せものねえ」と茶化して返しましたが、内心惨めさでいっぱいでした。「旦那さんはどんなお仕事されてるんですか？」と彼に聞かれることがあったので「結婚歴はありません、もう結婚も出産も諦めました、仕事が旦那です（笑）」と茶化しながら言いましたし、内心を察して写真を飾るのをやめてほしかったのですが、一向に意に介してないようです。彼は私の10個ほど年下。最近子供が生まれたばかりで、かわいくて仕方ないようで、何かにつけのろけ話が出てきて、私に対するあてつけなのではないかとすら思えてきてしまいました。数週間前から、朝一番早く来て、その写真をパタンと伏せるようにしました。当然彼はまたそれを立て掛けますが、何日も続けることで気づいてほしかったんです。しかし気付かず「毎朝写真が倒れてるんだけど、なんでだろう？」等と同僚に聞いています。とある先輩から「あいつに写真飾るのやめろって言おうか？」と聞かれ、気づかれていたことが分かりました。醜い内心を見抜かれて恥ずかしかったので「そんなことは言わなくていい」と言いましたが、頼んだ方がよかったのでしょうか。それとも私自ら辞めてと言うべきでしょうか。それともいちいち気にする方がおかしいのでしょうか。40代未婚の正社員です。この春他社から出向してきた後輩の男性社員が机の上に妻子の写真を額縁に入れて飾っており、結婚も出産も断念せざるを得なかった身としては、自分との差を思い知らされるようで大変辛いです。当社は室単位で仕事を行い、従って部屋も室ごとに分かれており、アットホーム逆にいえば閉鎖的な環境です。さりげなく「奥さんとお子さん？かわいいね。家族の写真飾ってる人なんて初めて見たけど、なんでわざわざ仕事中まで置いとくの？」と聞いたら、「愛する妻子の顔を見ていると仕事に精が出るからですよ」と答えました。「家庭に恵まれて幸せものねえ」と茶化して返しましたが、内心惨めさでいっぱいでした。「旦那さんはどんなお仕事されてるんですか？」と彼に聞かれることがあったので「結婚歴はありません、もう結婚も出産も諦めました、仕事が旦那です（笑）」と茶化しながら言いましたし、内心を察して写真を飾るのをやめてほしかったのですが、一向に意に介してないようです。彼は私の10個ほど年下。最近子供が生まれたばかりで、かわいくて仕方ないようで、何かにつけのろけ話が出てきて、私に対するあてつけなのではないかとすら思えてきてしまいました。数週間前から、朝一番早く来て、その写真をパタンと伏せるようにしました。当然彼はまたそれを立て掛けますが、何日も続けることで気づいてほしかったんです。しかし気付かず「毎朝写真が倒れてるんだけど、なんでだろう？」等と同僚に聞いています。とある先輩から「あいつに写真飾るのやめろって言おうか？」と聞かれ、気づかれていたことが分かりました。醜い内心を見抜かれて恥ずかしかったので「そんなことは言わなくていい」と言いましたが、頼んだ方がよかったのでしょうか。それとも私自ら辞めてと言うべきでしょうか。それともいちいち気にする方がおかしいのでしょうか。60代の主婦です。夫:60代。現在再雇用で一般企業勤務A子:20代半ば。夫の勤務先の社員。夫と同じ部署→人事異動で他部署に異動先日、夫から突然離婚を切り出されました。理由を聞くと「A子のことが好きになった。異動してから悩んでいることが多くて、相談を持ちかけられたり、食事に誘ったら来てくれたりする。下ネタを言ってみても照れたりするから多分脈アリだ」とのことでした。たしかに夫とA子が2人で食事に行っていることは知っていました。しかし、それを許可していたのは夫が「A子から相談したいことがあると言われたから話を聞いてくる」と言っていたからです。夫が話を聞くことで少しでもA子が楽になるならという思いでした。親子ほど年齢の離れた2人が、まさかそんなことになるとはと私も動揺しており、すぐに夫の携帯からA子に電話をかけさせました。電話に出たA子を問い詰めたところ・相談なんて持ちかけたことはない・食事を断らなかったのは、社会人としての礼儀だと思った。2人で行ったのは確かに軽率だったかもしれないが、自分の親ほどの年齢の人に誘われて断れなかった。あくまでも同僚として、人生の先輩として尊敬していただけ・大体、親子ほど離れてる人に好意を持つわけないでしょう。現実を見てください。こんな時間に電話をかけてきて迷惑です(確かに平日の夜でした)・食事に行こうとか、一人暮らしの私の家に行きたいとかの電話や下ネタがあまりにもしつこいので迷惑してました。この電話があったこと含めてハラスメント担当者に話しますと言われました。夫からA子に「それだけはやめてくれ。穏便にすませよう」と伝えてA子もそれで了承したので、その時は電話を切りました。続きます60代の主婦です。夫:60代。現在再雇用で一般企業勤務A子:20代半ば。夫の勤務先の社員。夫と同じ部署→人事異動で他部署に異動先日、夫から突然離婚を切り出されました。理由を聞くと「A子のことが好きになった。異動してから悩んでいることが多くて、相談を持ちかけられたり、食事に誘ったら来てくれたりする。下ネタを言ってみても照れたりするから多分脈アリだ」とのことでした。たしかに夫とA子が2人で食事に行っていることは知っていました。しかし、それを許可していたのは夫が「A子から相談したいことがあると言われたから話を聞いてくる」と言っていたからです。夫が話を聞くことで少しでもA子が楽になるならという思いでした。親子ほど年齢の離れた2人が、まさかそんなことになるとはと私も動揺しており、すぐに夫の携帯からA子に電話をかけさせました。電話に出たA子を問い詰めたところ・相談なんて持ちかけたことはない・食事を断らなかったのは、社会人としての礼儀だと思った。2人で行ったのは確かに軽率だったかもしれないが、自分の親ほどの年齢の人に誘われて断れなかった。あくまでも同僚として、人生の先輩として尊敬していただけ・大体、親子ほど離れてる人に好意を持つわけないでしょう。現実を見てください。こんな時間に電話をかけてきて迷惑です(確かに平日の夜でした)・食事に行こうとか、一人暮らしの私の家に行きたいとかの電話や下ネタがあまりにもしつこいので迷惑してました。この電話があったこと含めてハラスメント担当者に話しますと言われました。夫からA子に「それだけはやめてくれ。穏便にすませよう」と伝えてA子もそれで了承したので、その時は電話を切りました。続きます年末から、県外に進学していた娘が、今年成人式ということもあり久しぶりに帰ってきました。本当に久しぶりの帰郷なので、娘は「今日は中学時代の友人」「明日は高校時代の友人」「週末は部活の友人」･･･という感じで、会うメンバーをチェンジしながら旧交を温めていました。そんな中、ご近所に住む方（＝Ａさん）が娘の成人のお祝いをあげたいと連絡くださいました。その方とは家族ぐるみのお付き合いをしていたので（最近は子どもが大きくなり疎遠にはなってますが）どうぞ我が家で夕飯をご一緒しましょうとお誘いしました。この食事会は約２週間前のことで、まだオミクロンは今ほど猛威をふるっていませんでした。しかし、食事会の２日後、娘が発熱してしまいコロナと診断されてしまいました。飲食を共にしたＡさんにすぐに連絡し、恐らく濃厚接触者にあたるので検査をして欲しいとお願いしました。幸いにもＡさんご家族は全員陰性でしたが、やはり濃厚接触者になると宣告され、１０日間の自宅待機生活になるそうで、申し訳なさでいっぱいになりました。最初、Ａさんは、「感染したのは娘ちゃんが悪いわけではないから気にしないで。」と言っていたのですが、うっかり、実は娘はワクチン未接種であること、帰郷後、飲み歩いていたことを話したところ、態度が一変してしまったのです。検査代が家族分で２万円近くかかった。（検査自体は公費ですが病院の初診料等がかかった。）パートを休まざるを得なくなり職場に迷惑を掛けたし、給料が減額される。娘ちゃんが、ワクチン未接種なのに迂闊な行動をしていたと知っていたら、お宅に行くことはなかったのに。などなど、直接的な言葉ではありませんが、上記のようなことを言われてしまいました。Ａさんが支払った検査代を負担すべきでしょうか？年末から、県外に進学していた娘が、今年成人式ということもあり久しぶりに帰ってきました。本当に久しぶりの帰郷なので、娘は「今日は中学時代の友人」「明日は高校時代の友人」「週末は部活の友人」･･･という感じで、会うメンバーをチェンジしながら旧交を温めていました。そんな中、ご近所に住む方（＝Ａさん）が娘の成人のお祝いをあげたいと連絡くださいました。その方とは家族ぐるみのお付き合いをしていたので（最近は子どもが大きくなり疎遠にはなってますが）どうぞ我が家で夕飯をご一緒しましょうとお誘いしました。この食事会は約２週間前のことで、まだオミクロンは今ほど猛威をふるっていませんでした。しかし、食事会の２日後、娘が発熱してしまいコロナと診断されてしまいました。飲食を共にしたＡさんにすぐに連絡し、恐らく濃厚接触者にあたるので検査をして欲しいとお願いしました。幸いにもＡさんご家族は全員陰性でしたが、やはり濃厚接触者になると宣告され、１０日間の自宅待機生活になるそうで、申し訳なさでいっぱいになりました。最初、Ａさんは、「感染したのは娘ちゃんが悪いわけではないから気にしないで。」と言っていたのですが、うっかり、実は娘はワクチン未接種であること、帰郷後、飲み歩いていたことを話したところ、態度が一変してしまったのです。検査代が家族分で２万円近くかかった。（検査自体は公費ですが病院の初診料等がかかった。）パートを休まざるを得なくなり職場に迷惑を掛けたし、給料が減額される。娘ちゃんが、ワクチン未接種なのに迂闊な行動をしていたと知っていたら、お宅に行くことはなかったのに。などなど、直接的な言葉ではありませんが、上記のようなことを言われてしまいました。Ａさんが支払った検査代を負担すべきでしょうか？誰かに話を聞いて頂きたいと思い、長くなりますが聞いてください。昨日一年半弱お付き合いした彼と別れました。私は33歳、彼は39歳です。彼とは笑いのツボも合い、家族に対する考え方等が自分と近い事もあり、良き相談相手でもありました。会うのは週末一緒に過ごし、月曜は彼の家から仕事へ行くのがルーティンでした。お互い疲れている日はゆっくりしようと言えるくらいの仲でした。付き合った当初は本当に紳士的でこんな完璧な人いるのか？と思うくらいでした。笑しかし、最近は喧嘩のスパンが増えてきてよくよく考えると殆ど同じ事で喧嘩していました。彼はとても連絡がマメで、仕事終わり、出かける際も何時頃には帰るよ→今家着いたよ等の連絡は欠かさない人でした。私はマメな方では無く、彼と同じように連絡をして欲しいと言われていたので、心がけていました。仕事の時は、仕事が終わった事、無事家についた事。これは必ずしていました。しかし生理前や、仕事が遅くなって疲れてたりすると、うっかり家に着いたよの連絡を忘れてしまった事が数ヶ月に一回あったんです。(彼が次の日仕事で早く、もう寝ると先にLINEが来た日にそうなりがちです。起きている時は必ず連絡します)友達とご飯に行く際も、彼からのLINEに対して後で返そうと思っても、連絡のラリーが途絶えた事ですごく怒られた事もありました。彼は相手を心配させないようにと言う思いがとても強いので、マメに連絡してくれているのはわかりますし、私も彼と付き合ってその方が良いと思ってそうしてきました。ただ根本の性格を変える事は難しく努力していても状況によって、する気分になれない時もあります。今回は彼が寝てる状態で、帰ったよ！の連絡をせず、次の日LINEした事によって怒ってしまいました。続きます↓誰かに話を聞いて頂きたいと思い、長くなりますが聞いてください。昨日一年半弱お付き合いした彼と別れました。私は33歳、彼は39歳です。彼とは笑いのツボも合い、家族に対する考え方等が自分と近い事もあり、良き相談相手でもありました。会うのは週末一緒に過ごし、月曜は彼の家から仕事へ行くのがルーティンでした。お互い疲れている日はゆっくりしようと言えるくらいの仲でした。付き合った当初は本当に紳士的でこんな完璧な人いるのか？と思うくらいでした。笑しかし、最近は喧嘩のスパンが増えてきてよくよく考えると殆ど同じ事で喧嘩していました。彼はとても連絡がマメで、仕事終わり、出かける際も何時頃には帰るよ→今家着いたよ等の連絡は欠かさない人でした。私はマメな方では無く、彼と同じように連絡をして欲しいと言われていたので、心がけていました。仕事の時は、仕事が終わった事、無事家についた事。これは必ずしていました。しかし生理前や、仕事が遅くなって疲れてたりすると、うっかり家に着いたよの連絡を忘れてしまった事が数ヶ月に一回あったんです。(彼が次の日仕事で早く、もう寝ると先にLINEが来た日にそうなりがちです。起きている時は必ず連絡します)友達とご飯に行く際も、彼からのLINEに対して後で返そうと思っても、連絡のラリーが途絶えた事ですごく怒られた事もありました。彼は相手を心配させないようにと言う思いがとても強いので、マメに連絡してくれているのはわかりますし、私も彼と付き合ってその方が良いと思ってそうしてきました。ただ根本の性格を変える事は難しく努力していても状況によって、する気分になれない時もあります。今回は彼が寝てる状態で、帰ったよ！の連絡をせず、次の日LINEした事によって怒ってしまいました。続きます↓こんにちは。トピを開いて下さりありがとうございます。50代専業主婦です。週2回数時間程度来られる、70代半ばくらいの男性清掃員の方にモヤモヤしています。とにかく色々タメ口で馴れ馴れしく聞いてきます。初めは挨拶だけでした。ところがしばらくすると、挨拶後「どこ行くん？買い物？」とか「仕事しとん？」など、こちらからは挨拶以外に何も話しかけることはないのに、いちいち聞いてきます。清掃の予定なども勝手に説明してきます。そのうち、「おはようございます」と言えば、「おー」と偉そうに返され、「こんな所にゴミがある。非常識な人がおるもんや」などと愚痴られるようにもなりました。一言二言返してすぐに立ち去るようにしていましたが、お構い無し。鬱陶しいので、挨拶もやめて素通りすることにしました。これで話しかけて来ることは無くなり、しばらくが出くわすこともなかったのですが、先日久しぶりに間近で出くわしました。何か話しかけて来ましたが、私はさっさと立ち去りました。こういうタイプの人はハッキリ言わないと分からないとは思います。もし、若かりし日の私であれば、ズケッと一言で済ましていたでしょう。でも、今はこんな後期高齢者のような方に言うのも如何なものかと思ったりもします。挨拶後、お天気などの一言二言で済ませられる会話ならいいですが、この方の話は鬱陶しいしかありません。頭では放っておくのが1番だと思っていますが、感情がついていかずモヤモヤしてしまいます。やはり、馴れ馴れしく話しかけないでと、はっきり言うしかないのでしょうか·····？こんにちは。トピを開いて下さりありがとうございます。50代専業主婦です。週2回数時間程度来られる、70代半ばくらいの男性清掃員の方にモヤモヤしています。とにかく色々タメ口で馴れ馴れしく聞いてきます。初めは挨拶だけでした。ところがしばらくすると、挨拶後「どこ行くん？買い物？」とか「仕事しとん？」など、こちらからは挨拶以外に何も話しかけることはないのに、いちいち聞いてきます。清掃の予定なども勝手に説明してきます。そのうち、「おはようございます」と言えば、「おー」と偉そうに返され、「こんな所にゴミがある。非常識な人がおるもんや」などと愚痴られるようにもなりました。一言二言返してすぐに立ち去るようにしていましたが、お構い無し。鬱陶しいので、挨拶もやめて素通りすることにしました。これで話しかけて来ることは無くなり、しばらくが出くわすこともなかったのですが、先日久しぶりに間近で出くわしました。何か話しかけて来ましたが、私はさっさと立ち去りました。こういうタイプの人はハッキリ言わないと分からないとは思います。もし、若かりし日の私であれば、ズケッと一言で済ましていたでしょう。でも、今はこんな後期高齢者のような方に言うのも如何なものかと思ったりもします。挨拶後、お天気などの一言二言で済ませられる会話ならいいですが、この方の話は鬱陶しいしかありません。頭では放っておくのが1番だと思っていますが、感情がついていかずモヤモヤしてしまいます。やはり、馴れ馴れしく話しかけないでと、はっきり言うしかないのでしょうか·····？先日　きゅうりを一本買おうとしたところ、おじさんが綺麗に並んでいるきゅうりを下の方から何度も何度も取り出して、選んでました。内心そんなにひっかきまわさないでよ。と思いながら見ていましたら、私にきずきどうぞって言うので一本取って去ろうとしたら、おれがどうぞって言ったんだから何とか言ったらどうだって。私はすみませんって言いましたけど、これっておじさんが言うことではないかと。私も買い物でなるべく新しい物を選んでしまいますが、待っている人がいたら急いで選んで、すみませんっと言って場所をあけますが、皆さんのご意見お聞かせ下さい。先日　きゅうりを一本買おうとしたところ、おじさんが綺麗に並んでいるきゅうりを下の方から何度も何度も取り出して、選んでました。内心そんなにひっかきまわさないでよ。と思いながら見ていましたら、私にきずきどうぞって言うので一本取って去ろうとしたら、おれがどうぞって言ったんだから何とか言ったらどうだって。私はすみませんって言いましたけど、これっておじさんが言うことではないかと。私も買い物でなるべく新しい物を選んでしまいますが、待っている人がいたら急いで選んで、すみませんっと言って場所をあけますが、皆さんのご意見お聞かせ下さい。体力向上・ダイエット目的で土日だけジムに通う20代女性です。タイトルにあるように、今日、ジムでおじさんにフォームのアドバイスを受けました。ああだこうだとうるさい言い方ではありませんでしたが、少し気になることがあったのでこちらに書かせてください。チェストプレスをした後に、肩より手首が低いと肩を痛めるから、同じ高さにした方がいいよ、と言われました。肩痛める前に言ってもらえて良かったです、ありがとうございます、と伝えました。この一言くらいなら良いのですが、一回やってみて、と言われて少しビックリしました。え、誰目線？と思いつつも、一回ポジションにだけ入って、ああこんな感じですね、で終わらせました。直後にスタジオレッスンがあったので、正直足を止めてほしくなかったのです。そのときは、急にごめんね、と言われて終わったのですが、後から段々モヤモヤしてきました。トレーナーでもないのに、素人目で間違っていても勝手にやらせてくれ、と。終始お互いにこやかで、悪い空気も流れませんでしたが、今後もアドバイスを受けることがあれば正直面倒です。しかも相手に悪意はないので尚更。こう思ってしまう私は心が狭いのでしょうか。最近はさとり世代だの何だので、若者の態度が悪く言われることもある中、私も世間的にはその一味に入るのか？と考えてしまいました。また、このように話しかけられたときは、どう対応するのがベストなのでしょうか。体力向上・ダイエット目的で土日だけジムに通う20代女性です。タイトルにあるように、今日、ジムでおじさんにフォームのアドバイスを受けました。ああだこうだとうるさい言い方ではありませんでしたが、少し気になることがあったのでこちらに書かせてください。チェストプレスをした後に、肩より手首が低いと肩を痛めるから、同じ高さにした方がいいよ、と言われました。肩痛める前に言ってもらえて良かったです、ありがとうございます、と伝えました。この一言くらいなら良いのですが、一回やってみて、と言われて少しビックリしました。え、誰目線？と思いつつも、一回ポジションにだけ入って、ああこんな感じですね、で終わらせました。直後にスタジオレッスンがあったので、正直足を止めてほしくなかったのです。そのときは、急にごめんね、と言われて終わったのですが、後から段々モヤモヤしてきました。トレーナーでもないのに、素人目で間違っていても勝手にやらせてくれ、と。終始お互いにこやかで、悪い空気も流れませんでしたが、今後もアドバイスを受けることがあれば正直面倒です。しかも相手に悪意はないので尚更。こう思ってしまう私は心が狭いのでしょうか。最近はさとり世代だの何だので、若者の態度が悪く言われることもある中、私も世間的にはその一味に入るのか？と考えてしまいました。また、このように話しかけられたときは、どう対応するのがベストなのでしょうか。私は現在25歳です。最近、気がついたことがあってスーパーなどで40代から60代のおじさん世代からちらっと見られたりします。気のせいだと思っていたのですが、母と一緒に出掛けたときに母から「さっき60代くらいの男の人があんたのこと見てたで、前も40代くらいの男の人もちらっと見てたことあったで」と言われたので気のせいではないみたいです。でも、逆に自分と同年代の男性や学生くらいの男性にはほとんど見られたことはないです。私は身長が170くらいあって顔立ちが派手でハーフと間違えられたりエキゾチックと言われたりします。なんかこわいというか何故おじさん世代から見られるのか自分ではわかりません。おじさん世代から好まれる容姿なのでしょうか？私は現在25歳です。最近、気がついたことがあってスーパーなどで40代から60代のおじさん世代からちらっと見られたりします。気のせいだと思っていたのですが、母と一緒に出掛けたときに母から「さっき60代くらいの男の人があんたのこと見てたで、前も40代くらいの男の人もちらっと見てたことあったで」と言われたので気のせいではないみたいです。でも、逆に自分と同年代の男性や学生くらいの男性にはほとんど見られたことはないです。私は身長が170くらいあって顔立ちが派手でハーフと間違えられたりエキゾチックと言われたりします。なんかこわいというか何故おじさん世代から見られるのか自分ではわかりません。おじさん世代から好まれる容姿なのでしょうか？本日牛丼チェーン店で昼食をとり、お会計をしたところ、「おい、並んでるんだけど」とものすごい圧を僕にかけ怒鳴られました。その牛丼チェーン店ではレジが２つあり、テイクアウトと普通の会計に分かれているものだと勝手に思っていました(どっちもできるのかもしれないけど)。片方にはテイクアウト目的の人達がかなり並んでおり、もう片方のレジはひとりもいなかったためそこで会計をしようとしたところ、２つのレジの真ん中にたっていたおじさんに怒鳴られました。私は、「並んでいたんですね、すみません」と言いましたが、「もういいよやれよ」と言われたので先に済まさせて頂きました。その後もいらいらが僕は止まりません。テイクアウトもお会計も両方できるレジだったとしても並んでいたなら僕がそこで会計を先に済ませるのは間違っています。しかし、僕がおじさんの前に入った時点で並んでるんですけどと一言言えば良くないですか？わざわざ会計してる最中に怒鳴られても。と思います。真ん中に立ってどっちに並んでいるのかも分からないような位置にいて。どうおもいますか？すっきりしません。あの人にもう一度会って謝りたいですし、こっちの思いも聞いて欲しいです。\n",
      "<_io.TextIOWrapper name='komachi.txt' mode='a' encoding='UTF-8'>\n"
     ]
    }
   ],
   "source": [
    "load_url = 'https://komachi.yomiuri.co.jp/topics/id/1040330/'\n",
    "html = requests.get(load_url)\n",
    "soup9=BeautifulSoup(html.content,\"html.parser\")\n",
    "\n",
    "topic9= soup9.find(class_ = 'topicsId__articleContentText')\n",
    "#for element in topic.find_all(\"br\"):\n",
    " #   print(element.text)\n",
    "#print(topic.text)\n",
    "\n",
    "print('---追記前--')\n",
    "with open('komachi.txt','r') as f:\n",
    "    print(f.read())\n",
    "with open('komachi.txt', 'a') as f:\n",
    "#f.writelines(topic.text)\n",
    "    f.write(topic9.text)\n",
    "    print(f)\n",
    "    f.close "
   ]
  },
  {
   "cell_type": "code",
   "execution_count": 126,
   "id": "c539feaf",
   "metadata": {},
   "outputs": [
    {
     "name": "stdout",
     "output_type": "stream",
     "text": [
      "---追記前--\n",
      "地方暮らしの29歳。娘二人、婿旦那、両親、祖母と4世代7人暮らしです私の家は地方の兼業農家で、今の田畑はそんなに多くはないのですが、江戸時代から続く家で、私はその家の三姉妹の末っ子です子供の頃から三人の内、誰かが婿を取って、家を継いで欲しいと言われてきました。上の姉は早々に結婚して、年子の姉も東京で就職し、地元に戻る気はないと言っていたので、私は専門学校卒業後、地元に戻って就職し、結婚相談所で紹介された旦那と24歳で結婚しました旦那は7歳年上で、知り合った当初は婿に入るのに難色を示していたのですが、結婚してからは、子煩悩で、真面目に仕事もしてくれるし、土日休日は両親や私と一緒に田んぼや畑もしてくれます去年、コロナの影響で、東京で働いていた姉が帰ってきました。すぐに東京に戻って再就職するだろうと考えていたのですが、無職のまま、既に1年以上経っています姉の「男の子産まないの？」「二世帯住宅にすればいいのに」など、我が家の経済状況を無視した無神経なイライラ話や「こっちで結婚しようかな。誰か紹介してよ」などの現実離れした話も我慢して来ました。でも、先週、とうとう爆発してしまいました旦那が風呂上りに風呂場から私たちの部屋まで半裸で動き回るのが気に入らないと言い出したのです私も「気に入らないんだったら、出てけば」「ここはもうあんたの家じゃないの」「30にもなって、仕事も貯金もなくて、結婚もできないくせに、なに言ってんのよ」と応戦してしまいましたその日は、旦那のとりなしもあったので、怒りを鎮めましたが、上の姉から電話があり「あんまり、下の姉を責めないで」という言葉と私を咎める話を聞いて、本当に全てが嫌になりました絶対姉を追い出したいです。我慢できません。どうすればいいでしょうか？追い出せないんだったら、私たちが出ていこうと思っています地方暮らしの29歳。娘二人、婿旦那、両親、祖母と4世代7人暮らしです私の家は地方の兼業農家で、今の田畑はそんなに多くはないのですが、江戸時代から続く家で、私はその家の三姉妹の末っ子です子供の頃から三人の内、誰かが婿を取って、家を継いで欲しいと言われてきました。上の姉は早々に結婚して、年子の姉も東京で就職し、地元に戻る気はないと言っていたので、私は専門学校卒業後、地元に戻って就職し、結婚相談所で紹介された旦那と24歳で結婚しました旦那は7歳年上で、知り合った当初は婿に入るのに難色を示していたのですが、結婚してからは、子煩悩で、真面目に仕事もしてくれるし、土日休日は両親や私と一緒に田んぼや畑もしてくれます去年、コロナの影響で、東京で働いていた姉が帰ってきました。すぐに東京に戻って再就職するだろうと考えていたのですが、無職のまま、既に1年以上経っています姉の「男の子産まないの？」「二世帯住宅にすればいいのに」など、我が家の経済状況を無視した無神経なイライラ話や「こっちで結婚しようかな。誰か紹介してよ」などの現実離れした話も我慢して来ました。でも、先週、とうとう爆発してしまいました旦那が風呂上りに風呂場から私たちの部屋まで半裸で動き回るのが気に入らないと言い出したのです私も「気に入らないんだったら、出てけば」「ここはもうあんたの家じゃないの」「30にもなって、仕事も貯金もなくて、結婚もできないくせに、なに言ってんのよ」と応戦してしまいましたその日は、旦那のとりなしもあったので、怒りを鎮めましたが、上の姉から電話があり「あんまり、下の姉を責めないで」という言葉と私を咎める話を聞いて、本当に全てが嫌になりました絶対姉を追い出したいです。我慢できません。どうすればいいでしょうか？追い出せないんだったら、私たちが出ていこうと思っています地方暮らしの29歳。娘二人、婿旦那、両親、祖母と4世代7人暮らしです私の家は地方の兼業農家で、今の田畑はそんなに多くはないのですが、江戸時代から続く家で、私はその家の三姉妹の末っ子です子供の頃から三人の内、誰かが婿を取って、家を継いで欲しいと言われてきました。上の姉は早々に結婚して、年子の姉も東京で就職し、地元に戻る気はないと言っていたので、私は専門学校卒業後、地元に戻って就職し、結婚相談所で紹介された旦那と24歳で結婚しました旦那は7歳年上で、知り合った当初は婿に入るのに難色を示していたのですが、結婚してからは、子煩悩で、真面目に仕事もしてくれるし、土日休日は両親や私と一緒に田んぼや畑もしてくれます去年、コロナの影響で、東京で働いていた姉が帰ってきました。すぐに東京に戻って再就職するだろうと考えていたのですが、無職のまま、既に1年以上経っています姉の「男の子産まないの？」「二世帯住宅にすればいいのに」など、我が家の経済状況を無視した無神経なイライラ話や「こっちで結婚しようかな。誰か紹介してよ」などの現実離れした話も我慢して来ました。でも、先週、とうとう爆発してしまいました旦那が風呂上りに風呂場から私たちの部屋まで半裸で動き回るのが気に入らないと言い出したのです私も「気に入らないんだったら、出てけば」「ここはもうあんたの家じゃないの」「30にもなって、仕事も貯金もなくて、結婚もできないくせに、なに言ってんのよ」と応戦してしまいましたその日は、旦那のとりなしもあったので、怒りを鎮めましたが、上の姉から電話があり「あんまり、下の姉を責めないで」という言葉と私を咎める話を聞いて、本当に全てが嫌になりました絶対姉を追い出したいです。我慢できません。どうすればいいでしょうか？追い出せないんだったら、私たちが出ていこうと思っています40代、5歳の子を持つ主婦です。夫は会社員ですが、自分達が食べる分くらいのお米を作っています。タイトルの友達とは中学時代から20年以上の付き合いになります。彼女も主婦で3人の子供がいます。数年前からその友達がうちからお米を買うようになって新米ができると連絡して取りに来てもらっていました。1年分まとめて買ってもらうので、スーパーなどで買うよりはだいぶ安い値段にしています。去年の9月も新米ができたと連絡し取りに来てもらうことになっていました。ところがお米を取りに来る前日に友達から「明日うちの旦那が釣りに出かけていないから良かったら遊びに来ない？」と LINEがあったので遊びに行くことにし、ついでにお米も持っていくことにしたんです。当日お米と手土産のケーキを持って友達の家に向かい、腰が痛いという友達の代わりに30kgの米袋5袋を車から家に運びました。友達の子供達とうちの子は久しぶりの対面に嬉しそうで一緒に走り回っていました。ここまではいいのですが、着いてからお茶のひとつも出てきません。招待しておいてお茶も出さないの？とちょっとモヤモヤした気持ちになりました。久しぶりにおしゃべりしよ〜！という割には会話は弾まないしなにも出ないし走り回っていた子供が喉が乾いたようなので1時間も経たないくらいで帰ることにしました。するとその友達が一言、「何のお構いもしませんで〜。」きっと最初からお茶を出す気はなかったんですね…今まで遊びに行ってそんな対応をされたことがなかったのでモヤモヤと共にショックでした。お米を安くしていることにも手土産を持っていったことにもお米を運んだことにもお礼の言葉がなかったことにもモヤモヤ…私は仲のいい友達と認識していましたが友達はそうは思っていなかったのかも？今後の付き合い方をどうすればいいのか悩んでいます。交際2年の彼女からもう泊まりに来ないでと言われました。当方35歳です。付き合ってからほぼ毎週末、彼女の家で過ごしていました。喧嘩もなくとても仲良くしてきたと思っています。先日彼女から泊まり拒否の申し出を受け、理由を聞いたところ結婚もしていないのに毎週末男性が部屋に出入りするのは世間的にも良くないと思う。少しだけ離れて距離を保った付き合いをしたい。と言われました。聞いた時は彼女の気持ちが冷めたのかとショックでしたが、それ以降も会えば今まで通りの彼女ですし、心変わりなどもなさそうです。僕が家へ帰るときも、彼女は寂しそうにしています。好きで一緒にいたいのに泊まりの拒否をする彼女の気持があまり理解できません。小町の皆様、彼女の気持ちを教えてください。また、どうすれば以前のように泊まりを含めたデートができるようになるでしょうか。よろしくお願いします。交際2年の彼女からもう泊まりに来ないでと言われました。当方35歳です。付き合ってからほぼ毎週末、彼女の家で過ごしていました。喧嘩もなくとても仲良くしてきたと思っています。先日彼女から泊まり拒否の申し出を受け、理由を聞いたところ結婚もしていないのに毎週末男性が部屋に出入りするのは世間的にも良くないと思う。少しだけ離れて距離を保った付き合いをしたい。と言われました。聞いた時は彼女の気持ちが冷めたのかとショックでしたが、それ以降も会えば今まで通りの彼女ですし、心変わりなどもなさそうです。僕が家へ帰るときも、彼女は寂しそうにしています。好きで一緒にいたいのに泊まりの拒否をする彼女の気持があまり理解できません。小町の皆様、彼女の気持ちを教えてください。また、どうすれば以前のように泊まりを含めたデートができるようになるでしょうか。よろしくお願いします。小学４年生の子どもがいます。幼稚園の頃からの友達が３人おり、毎週、順番に子どもたちを家で遊ばせていて、その間、私たち母親は、会話を楽しんでいます。その中の一人Aさんについて、相談があります。無口過ぎるのです。私たちのおしゃべりを聴いてはいるのですが、頭の回転が鈍いのか、聞くだけです。それなのに、時々、マウントのように聞こえることを言い（〇〇の△△は美味しいですよね、とか）、文脈関係ない話も飛び出してきて、反応に困ります。大学、仕事のことは、一切話しません。私、Ｂ、Ｃは気にせず話しますが、Ａだけは、あいまいに濁され、話してくれません。帰国子女か留学していたようで、無理にではないけれど、色々聞いてみたいのですが、隠す理由がわかりません。心を開いてくれていない気がして、疲れます。なぜ私たちと一緒にいるのだろう？利用してるだけ？もしかして、本当はグループを抜けたいけど、言い出しにくいのか？とイライラします。だから、４年生に進級するタイミングで、「中学受験や、お稽古事の都合もあるだろうから、そちらの都合を優先してもらっていいよ。無理して来なくてもいいよ。」と再三言ったのですが、相変わらず来ます。私の本心は伝わっているはずです。Ａは転勤族なので、遅かれ早かれ、いなくなります。中学生になれば、忙しくなるし、子供たちも親ぬきで遊ぶようになるでしょう。二度と会うこともないと思います。もう一度、Ａに「グループを抜けてもいいよ。」と言うつもりですが、どう言ったらわかってもらえますか？小学４年生の子どもがいます。幼稚園の頃からの友達が３人おり、毎週、順番に子どもたちを家で遊ばせていて、その間、私たち母親は、会話を楽しんでいます。その中の一人Aさんについて、相談があります。無口過ぎるのです。私たちのおしゃべりを聴いてはいるのですが、頭の回転が鈍いのか、聞くだけです。それなのに、時々、マウントのように聞こえることを言い（〇〇の△△は美味しいですよね、とか）、文脈関係ない話も飛び出してきて、反応に困ります。大学、仕事のことは、一切話しません。私、Ｂ、Ｃは気にせず話しますが、Ａだけは、あいまいに濁され、話してくれません。帰国子女か留学していたようで、無理にではないけれど、色々聞いてみたいのですが、隠す理由がわかりません。心を開いてくれていない気がして、疲れます。なぜ私たちと一緒にいるのだろう？利用してるだけ？もしかして、本当はグループを抜けたいけど、言い出しにくいのか？とイライラします。だから、４年生に進級するタイミングで、「中学受験や、お稽古事の都合もあるだろうから、そちらの都合を優先してもらっていいよ。無理して来なくてもいいよ。」と再三言ったのですが、相変わらず来ます。私の本心は伝わっているはずです。Ａは転勤族なので、遅かれ早かれ、いなくなります。中学生になれば、忙しくなるし、子供たちも親ぬきで遊ぶようになるでしょう。二度と会うこともないと思います。もう一度、Ａに「グループを抜けてもいいよ。」と言うつもりですが、どう言ったらわかってもらえますか？お姑さんと同居、主人、小学生の２人兄弟の男の子の5人家族です。先日、夕飯にサバの味噌煮を出しました。主人のお給料日だったので、魚屋さんに行っていつもより高品質、大きめのサバです。味噌煮は子どもたちも大好きだったので、ペロリと平らげてくれました。とそこへ、姑が「冷凍のサバの味噌煮なんてやめてくださる？」と、、。私「え？これは今日買ってきた生のさばですけど。。」姑「こんなにきれいに味噌煮なんてできないけど。」私「いえ、これは本当に冷凍じゃありません!!レシート見ますか？」主人「もういいからお前はだまってろよ！」私「え？私がいけないの？もっと汚く作ればよかったですね、すみませんでした!!」普段から料理に失敗したら文句、家族のことを考えてないだのなんだの言っていて、上手くできてもこんな文句か、、とイライラしてしまいました。こういうときはどう対処すればいいのでしょうか？最近イライラがとまりません。かわす、ことをおさめる方法がなかなか思い付きません。以前にも炊き込みご飯を出したら出来合いのものを混ぜないで！といきなり皆の前でおこられました。違います、、手作りです。。ちなみに敷地内に義弟夫婦がおり、週の半分ご飯を食べにくるので、緊急対処用に冷凍の魚類は置いてあります。たぶん、それを疑ってのことだと思います。お姑さんと同居、主人、小学生の２人兄弟の男の子の5人家族です。先日、夕飯にサバの味噌煮を出しました。主人のお給料日だったので、魚屋さんに行っていつもより高品質、大きめのサバです。味噌煮は子どもたちも大好きだったので、ペロリと平らげてくれました。とそこへ、姑が「冷凍のサバの味噌煮なんてやめてくださる？」と、、。私「え？これは今日買ってきた生のさばですけど。。」姑「こんなにきれいに味噌煮なんてできないけど。」私「いえ、これは本当に冷凍じゃありません!!レシート見ますか？」主人「もういいからお前はだまってろよ！」私「え？私がいけないの？もっと汚く作ればよかったですね、すみませんでした!!」普段から料理に失敗したら文句、家族のことを考えてないだのなんだの言っていて、上手くできてもこんな文句か、、とイライラしてしまいました。こういうときはどう対処すればいいのでしょうか？最近イライラがとまりません。かわす、ことをおさめる方法がなかなか思い付きません。以前にも炊き込みご飯を出したら出来合いのものを混ぜないで！といきなり皆の前でおこられました。違います、、手作りです。。ちなみに敷地内に義弟夫婦がおり、週の半分ご飯を食べにくるので、緊急対処用に冷凍の魚類は置いてあります。たぶん、それを疑ってのことだと思います。40代未婚の正社員です。この春他社から出向してきた後輩の男性社員が机の上に妻子の写真を額縁に入れて飾っており、結婚も出産も断念せざるを得なかった身としては、自分との差を思い知らされるようで大変辛いです。当社は室単位で仕事を行い、従って部屋も室ごとに分かれており、アットホーム逆にいえば閉鎖的な環境です。さりげなく「奥さんとお子さん？かわいいね。家族の写真飾ってる人なんて初めて見たけど、なんでわざわざ仕事中まで置いとくの？」と聞いたら、「愛する妻子の顔を見ていると仕事に精が出るからですよ」と答えました。「家庭に恵まれて幸せものねえ」と茶化して返しましたが、内心惨めさでいっぱいでした。「旦那さんはどんなお仕事されてるんですか？」と彼に聞かれることがあったので「結婚歴はありません、もう結婚も出産も諦めました、仕事が旦那です（笑）」と茶化しながら言いましたし、内心を察して写真を飾るのをやめてほしかったのですが、一向に意に介してないようです。彼は私の10個ほど年下。最近子供が生まれたばかりで、かわいくて仕方ないようで、何かにつけのろけ話が出てきて、私に対するあてつけなのではないかとすら思えてきてしまいました。数週間前から、朝一番早く来て、その写真をパタンと伏せるようにしました。当然彼はまたそれを立て掛けますが、何日も続けることで気づいてほしかったんです。しかし気付かず「毎朝写真が倒れてるんだけど、なんでだろう？」等と同僚に聞いています。とある先輩から「あいつに写真飾るのやめろって言おうか？」と聞かれ、気づかれていたことが分かりました。醜い内心を見抜かれて恥ずかしかったので「そんなことは言わなくていい」と言いましたが、頼んだ方がよかったのでしょうか。それとも私自ら辞めてと言うべきでしょうか。それともいちいち気にする方がおかしいのでしょうか。40代未婚の正社員です。この春他社から出向してきた後輩の男性社員が机の上に妻子の写真を額縁に入れて飾っており、結婚も出産も断念せざるを得なかった身としては、自分との差を思い知らされるようで大変辛いです。当社は室単位で仕事を行い、従って部屋も室ごとに分かれており、アットホーム逆にいえば閉鎖的な環境です。さりげなく「奥さんとお子さん？かわいいね。家族の写真飾ってる人なんて初めて見たけど、なんでわざわざ仕事中まで置いとくの？」と聞いたら、「愛する妻子の顔を見ていると仕事に精が出るからですよ」と答えました。「家庭に恵まれて幸せものねえ」と茶化して返しましたが、内心惨めさでいっぱいでした。「旦那さんはどんなお仕事されてるんですか？」と彼に聞かれることがあったので「結婚歴はありません、もう結婚も出産も諦めました、仕事が旦那です（笑）」と茶化しながら言いましたし、内心を察して写真を飾るのをやめてほしかったのですが、一向に意に介してないようです。彼は私の10個ほど年下。最近子供が生まれたばかりで、かわいくて仕方ないようで、何かにつけのろけ話が出てきて、私に対するあてつけなのではないかとすら思えてきてしまいました。数週間前から、朝一番早く来て、その写真をパタンと伏せるようにしました。当然彼はまたそれを立て掛けますが、何日も続けることで気づいてほしかったんです。しかし気付かず「毎朝写真が倒れてるんだけど、なんでだろう？」等と同僚に聞いています。とある先輩から「あいつに写真飾るのやめろって言おうか？」と聞かれ、気づかれていたことが分かりました。醜い内心を見抜かれて恥ずかしかったので「そんなことは言わなくていい」と言いましたが、頼んだ方がよかったのでしょうか。それとも私自ら辞めてと言うべきでしょうか。それともいちいち気にする方がおかしいのでしょうか。60代の主婦です。夫:60代。現在再雇用で一般企業勤務A子:20代半ば。夫の勤務先の社員。夫と同じ部署→人事異動で他部署に異動先日、夫から突然離婚を切り出されました。理由を聞くと「A子のことが好きになった。異動してから悩んでいることが多くて、相談を持ちかけられたり、食事に誘ったら来てくれたりする。下ネタを言ってみても照れたりするから多分脈アリだ」とのことでした。たしかに夫とA子が2人で食事に行っていることは知っていました。しかし、それを許可していたのは夫が「A子から相談したいことがあると言われたから話を聞いてくる」と言っていたからです。夫が話を聞くことで少しでもA子が楽になるならという思いでした。親子ほど年齢の離れた2人が、まさかそんなことになるとはと私も動揺しており、すぐに夫の携帯からA子に電話をかけさせました。電話に出たA子を問い詰めたところ・相談なんて持ちかけたことはない・食事を断らなかったのは、社会人としての礼儀だと思った。2人で行ったのは確かに軽率だったかもしれないが、自分の親ほどの年齢の人に誘われて断れなかった。あくまでも同僚として、人生の先輩として尊敬していただけ・大体、親子ほど離れてる人に好意を持つわけないでしょう。現実を見てください。こんな時間に電話をかけてきて迷惑です(確かに平日の夜でした)・食事に行こうとか、一人暮らしの私の家に行きたいとかの電話や下ネタがあまりにもしつこいので迷惑してました。この電話があったこと含めてハラスメント担当者に話しますと言われました。夫からA子に「それだけはやめてくれ。穏便にすませよう」と伝えてA子もそれで了承したので、その時は電話を切りました。続きます60代の主婦です。夫:60代。現在再雇用で一般企業勤務A子:20代半ば。夫の勤務先の社員。夫と同じ部署→人事異動で他部署に異動先日、夫から突然離婚を切り出されました。理由を聞くと「A子のことが好きになった。異動してから悩んでいることが多くて、相談を持ちかけられたり、食事に誘ったら来てくれたりする。下ネタを言ってみても照れたりするから多分脈アリだ」とのことでした。たしかに夫とA子が2人で食事に行っていることは知っていました。しかし、それを許可していたのは夫が「A子から相談したいことがあると言われたから話を聞いてくる」と言っていたからです。夫が話を聞くことで少しでもA子が楽になるならという思いでした。親子ほど年齢の離れた2人が、まさかそんなことになるとはと私も動揺しており、すぐに夫の携帯からA子に電話をかけさせました。電話に出たA子を問い詰めたところ・相談なんて持ちかけたことはない・食事を断らなかったのは、社会人としての礼儀だと思った。2人で行ったのは確かに軽率だったかもしれないが、自分の親ほどの年齢の人に誘われて断れなかった。あくまでも同僚として、人生の先輩として尊敬していただけ・大体、親子ほど離れてる人に好意を持つわけないでしょう。現実を見てください。こんな時間に電話をかけてきて迷惑です(確かに平日の夜でした)・食事に行こうとか、一人暮らしの私の家に行きたいとかの電話や下ネタがあまりにもしつこいので迷惑してました。この電話があったこと含めてハラスメント担当者に話しますと言われました。夫からA子に「それだけはやめてくれ。穏便にすませよう」と伝えてA子もそれで了承したので、その時は電話を切りました。続きます年末から、県外に進学していた娘が、今年成人式ということもあり久しぶりに帰ってきました。本当に久しぶりの帰郷なので、娘は「今日は中学時代の友人」「明日は高校時代の友人」「週末は部活の友人」･･･という感じで、会うメンバーをチェンジしながら旧交を温めていました。そんな中、ご近所に住む方（＝Ａさん）が娘の成人のお祝いをあげたいと連絡くださいました。その方とは家族ぐるみのお付き合いをしていたので（最近は子どもが大きくなり疎遠にはなってますが）どうぞ我が家で夕飯をご一緒しましょうとお誘いしました。この食事会は約２週間前のことで、まだオミクロンは今ほど猛威をふるっていませんでした。しかし、食事会の２日後、娘が発熱してしまいコロナと診断されてしまいました。飲食を共にしたＡさんにすぐに連絡し、恐らく濃厚接触者にあたるので検査をして欲しいとお願いしました。幸いにもＡさんご家族は全員陰性でしたが、やはり濃厚接触者になると宣告され、１０日間の自宅待機生活になるそうで、申し訳なさでいっぱいになりました。最初、Ａさんは、「感染したのは娘ちゃんが悪いわけではないから気にしないで。」と言っていたのですが、うっかり、実は娘はワクチン未接種であること、帰郷後、飲み歩いていたことを話したところ、態度が一変してしまったのです。検査代が家族分で２万円近くかかった。（検査自体は公費ですが病院の初診料等がかかった。）パートを休まざるを得なくなり職場に迷惑を掛けたし、給料が減額される。娘ちゃんが、ワクチン未接種なのに迂闊な行動をしていたと知っていたら、お宅に行くことはなかったのに。などなど、直接的な言葉ではありませんが、上記のようなことを言われてしまいました。Ａさんが支払った検査代を負担すべきでしょうか？年末から、県外に進学していた娘が、今年成人式ということもあり久しぶりに帰ってきました。本当に久しぶりの帰郷なので、娘は「今日は中学時代の友人」「明日は高校時代の友人」「週末は部活の友人」･･･という感じで、会うメンバーをチェンジしながら旧交を温めていました。そんな中、ご近所に住む方（＝Ａさん）が娘の成人のお祝いをあげたいと連絡くださいました。その方とは家族ぐるみのお付き合いをしていたので（最近は子どもが大きくなり疎遠にはなってますが）どうぞ我が家で夕飯をご一緒しましょうとお誘いしました。この食事会は約２週間前のことで、まだオミクロンは今ほど猛威をふるっていませんでした。しかし、食事会の２日後、娘が発熱してしまいコロナと診断されてしまいました。飲食を共にしたＡさんにすぐに連絡し、恐らく濃厚接触者にあたるので検査をして欲しいとお願いしました。幸いにもＡさんご家族は全員陰性でしたが、やはり濃厚接触者になると宣告され、１０日間の自宅待機生活になるそうで、申し訳なさでいっぱいになりました。最初、Ａさんは、「感染したのは娘ちゃんが悪いわけではないから気にしないで。」と言っていたのですが、うっかり、実は娘はワクチン未接種であること、帰郷後、飲み歩いていたことを話したところ、態度が一変してしまったのです。検査代が家族分で２万円近くかかった。（検査自体は公費ですが病院の初診料等がかかった。）パートを休まざるを得なくなり職場に迷惑を掛けたし、給料が減額される。娘ちゃんが、ワクチン未接種なのに迂闊な行動をしていたと知っていたら、お宅に行くことはなかったのに。などなど、直接的な言葉ではありませんが、上記のようなことを言われてしまいました。Ａさんが支払った検査代を負担すべきでしょうか？誰かに話を聞いて頂きたいと思い、長くなりますが聞いてください。昨日一年半弱お付き合いした彼と別れました。私は33歳、彼は39歳です。彼とは笑いのツボも合い、家族に対する考え方等が自分と近い事もあり、良き相談相手でもありました。会うのは週末一緒に過ごし、月曜は彼の家から仕事へ行くのがルーティンでした。お互い疲れている日はゆっくりしようと言えるくらいの仲でした。付き合った当初は本当に紳士的でこんな完璧な人いるのか？と思うくらいでした。笑しかし、最近は喧嘩のスパンが増えてきてよくよく考えると殆ど同じ事で喧嘩していました。彼はとても連絡がマメで、仕事終わり、出かける際も何時頃には帰るよ→今家着いたよ等の連絡は欠かさない人でした。私はマメな方では無く、彼と同じように連絡をして欲しいと言われていたので、心がけていました。仕事の時は、仕事が終わった事、無事家についた事。これは必ずしていました。しかし生理前や、仕事が遅くなって疲れてたりすると、うっかり家に着いたよの連絡を忘れてしまった事が数ヶ月に一回あったんです。(彼が次の日仕事で早く、もう寝ると先にLINEが来た日にそうなりがちです。起きている時は必ず連絡します)友達とご飯に行く際も、彼からのLINEに対して後で返そうと思っても、連絡のラリーが途絶えた事ですごく怒られた事もありました。彼は相手を心配させないようにと言う思いがとても強いので、マメに連絡してくれているのはわかりますし、私も彼と付き合ってその方が良いと思ってそうしてきました。ただ根本の性格を変える事は難しく努力していても状況によって、する気分になれない時もあります。今回は彼が寝てる状態で、帰ったよ！の連絡をせず、次の日LINEした事によって怒ってしまいました。続きます↓誰かに話を聞いて頂きたいと思い、長くなりますが聞いてください。昨日一年半弱お付き合いした彼と別れました。私は33歳、彼は39歳です。彼とは笑いのツボも合い、家族に対する考え方等が自分と近い事もあり、良き相談相手でもありました。会うのは週末一緒に過ごし、月曜は彼の家から仕事へ行くのがルーティンでした。お互い疲れている日はゆっくりしようと言えるくらいの仲でした。付き合った当初は本当に紳士的でこんな完璧な人いるのか？と思うくらいでした。笑しかし、最近は喧嘩のスパンが増えてきてよくよく考えると殆ど同じ事で喧嘩していました。彼はとても連絡がマメで、仕事終わり、出かける際も何時頃には帰るよ→今家着いたよ等の連絡は欠かさない人でした。私はマメな方では無く、彼と同じように連絡をして欲しいと言われていたので、心がけていました。仕事の時は、仕事が終わった事、無事家についた事。これは必ずしていました。しかし生理前や、仕事が遅くなって疲れてたりすると、うっかり家に着いたよの連絡を忘れてしまった事が数ヶ月に一回あったんです。(彼が次の日仕事で早く、もう寝ると先にLINEが来た日にそうなりがちです。起きている時は必ず連絡します)友達とご飯に行く際も、彼からのLINEに対して後で返そうと思っても、連絡のラリーが途絶えた事ですごく怒られた事もありました。彼は相手を心配させないようにと言う思いがとても強いので、マメに連絡してくれているのはわかりますし、私も彼と付き合ってその方が良いと思ってそうしてきました。ただ根本の性格を変える事は難しく努力していても状況によって、する気分になれない時もあります。今回は彼が寝てる状態で、帰ったよ！の連絡をせず、次の日LINEした事によって怒ってしまいました。続きます↓こんにちは。トピを開いて下さりありがとうございます。50代専業主婦です。週2回数時間程度来られる、70代半ばくらいの男性清掃員の方にモヤモヤしています。とにかく色々タメ口で馴れ馴れしく聞いてきます。初めは挨拶だけでした。ところがしばらくすると、挨拶後「どこ行くん？買い物？」とか「仕事しとん？」など、こちらからは挨拶以外に何も話しかけることはないのに、いちいち聞いてきます。清掃の予定なども勝手に説明してきます。そのうち、「おはようございます」と言えば、「おー」と偉そうに返され、「こんな所にゴミがある。非常識な人がおるもんや」などと愚痴られるようにもなりました。一言二言返してすぐに立ち去るようにしていましたが、お構い無し。鬱陶しいので、挨拶もやめて素通りすることにしました。これで話しかけて来ることは無くなり、しばらくが出くわすこともなかったのですが、先日久しぶりに間近で出くわしました。何か話しかけて来ましたが、私はさっさと立ち去りました。こういうタイプの人はハッキリ言わないと分からないとは思います。もし、若かりし日の私であれば、ズケッと一言で済ましていたでしょう。でも、今はこんな後期高齢者のような方に言うのも如何なものかと思ったりもします。挨拶後、お天気などの一言二言で済ませられる会話ならいいですが、この方の話は鬱陶しいしかありません。頭では放っておくのが1番だと思っていますが、感情がついていかずモヤモヤしてしまいます。やはり、馴れ馴れしく話しかけないでと、はっきり言うしかないのでしょうか·····？こんにちは。トピを開いて下さりありがとうございます。50代専業主婦です。週2回数時間程度来られる、70代半ばくらいの男性清掃員の方にモヤモヤしています。とにかく色々タメ口で馴れ馴れしく聞いてきます。初めは挨拶だけでした。ところがしばらくすると、挨拶後「どこ行くん？買い物？」とか「仕事しとん？」など、こちらからは挨拶以外に何も話しかけることはないのに、いちいち聞いてきます。清掃の予定なども勝手に説明してきます。そのうち、「おはようございます」と言えば、「おー」と偉そうに返され、「こんな所にゴミがある。非常識な人がおるもんや」などと愚痴られるようにもなりました。一言二言返してすぐに立ち去るようにしていましたが、お構い無し。鬱陶しいので、挨拶もやめて素通りすることにしました。これで話しかけて来ることは無くなり、しばらくが出くわすこともなかったのですが、先日久しぶりに間近で出くわしました。何か話しかけて来ましたが、私はさっさと立ち去りました。こういうタイプの人はハッキリ言わないと分からないとは思います。もし、若かりし日の私であれば、ズケッと一言で済ましていたでしょう。でも、今はこんな後期高齢者のような方に言うのも如何なものかと思ったりもします。挨拶後、お天気などの一言二言で済ませられる会話ならいいですが、この方の話は鬱陶しいしかありません。頭では放っておくのが1番だと思っていますが、感情がついていかずモヤモヤしてしまいます。やはり、馴れ馴れしく話しかけないでと、はっきり言うしかないのでしょうか·····？先日　きゅうりを一本買おうとしたところ、おじさんが綺麗に並んでいるきゅうりを下の方から何度も何度も取り出して、選んでました。内心そんなにひっかきまわさないでよ。と思いながら見ていましたら、私にきずきどうぞって言うので一本取って去ろうとしたら、おれがどうぞって言ったんだから何とか言ったらどうだって。私はすみませんって言いましたけど、これっておじさんが言うことではないかと。私も買い物でなるべく新しい物を選んでしまいますが、待っている人がいたら急いで選んで、すみませんっと言って場所をあけますが、皆さんのご意見お聞かせ下さい。先日　きゅうりを一本買おうとしたところ、おじさんが綺麗に並んでいるきゅうりを下の方から何度も何度も取り出して、選んでました。内心そんなにひっかきまわさないでよ。と思いながら見ていましたら、私にきずきどうぞって言うので一本取って去ろうとしたら、おれがどうぞって言ったんだから何とか言ったらどうだって。私はすみませんって言いましたけど、これっておじさんが言うことではないかと。私も買い物でなるべく新しい物を選んでしまいますが、待っている人がいたら急いで選んで、すみませんっと言って場所をあけますが、皆さんのご意見お聞かせ下さい。体力向上・ダイエット目的で土日だけジムに通う20代女性です。タイトルにあるように、今日、ジムでおじさんにフォームのアドバイスを受けました。ああだこうだとうるさい言い方ではありませんでしたが、少し気になることがあったのでこちらに書かせてください。チェストプレスをした後に、肩より手首が低いと肩を痛めるから、同じ高さにした方がいいよ、と言われました。肩痛める前に言ってもらえて良かったです、ありがとうございます、と伝えました。この一言くらいなら良いのですが、一回やってみて、と言われて少しビックリしました。え、誰目線？と思いつつも、一回ポジションにだけ入って、ああこんな感じですね、で終わらせました。直後にスタジオレッスンがあったので、正直足を止めてほしくなかったのです。そのときは、急にごめんね、と言われて終わったのですが、後から段々モヤモヤしてきました。トレーナーでもないのに、素人目で間違っていても勝手にやらせてくれ、と。終始お互いにこやかで、悪い空気も流れませんでしたが、今後もアドバイスを受けることがあれば正直面倒です。しかも相手に悪意はないので尚更。こう思ってしまう私は心が狭いのでしょうか。最近はさとり世代だの何だので、若者の態度が悪く言われることもある中、私も世間的にはその一味に入るのか？と考えてしまいました。また、このように話しかけられたときは、どう対応するのがベストなのでしょうか。体力向上・ダイエット目的で土日だけジムに通う20代女性です。タイトルにあるように、今日、ジムでおじさんにフォームのアドバイスを受けました。ああだこうだとうるさい言い方ではありませんでしたが、少し気になることがあったのでこちらに書かせてください。チェストプレスをした後に、肩より手首が低いと肩を痛めるから、同じ高さにした方がいいよ、と言われました。肩痛める前に言ってもらえて良かったです、ありがとうございます、と伝えました。この一言くらいなら良いのですが、一回やってみて、と言われて少しビックリしました。え、誰目線？と思いつつも、一回ポジションにだけ入って、ああこんな感じですね、で終わらせました。直後にスタジオレッスンがあったので、正直足を止めてほしくなかったのです。そのときは、急にごめんね、と言われて終わったのですが、後から段々モヤモヤしてきました。トレーナーでもないのに、素人目で間違っていても勝手にやらせてくれ、と。終始お互いにこやかで、悪い空気も流れませんでしたが、今後もアドバイスを受けることがあれば正直面倒です。しかも相手に悪意はないので尚更。こう思ってしまう私は心が狭いのでしょうか。最近はさとり世代だの何だので、若者の態度が悪く言われることもある中、私も世間的にはその一味に入るのか？と考えてしまいました。また、このように話しかけられたときは、どう対応するのがベストなのでしょうか。私は現在25歳です。最近、気がついたことがあってスーパーなどで40代から60代のおじさん世代からちらっと見られたりします。気のせいだと思っていたのですが、母と一緒に出掛けたときに母から「さっき60代くらいの男の人があんたのこと見てたで、前も40代くらいの男の人もちらっと見てたことあったで」と言われたので気のせいではないみたいです。でも、逆に自分と同年代の男性や学生くらいの男性にはほとんど見られたことはないです。私は身長が170くらいあって顔立ちが派手でハーフと間違えられたりエキゾチックと言われたりします。なんかこわいというか何故おじさん世代から見られるのか自分ではわかりません。おじさん世代から好まれる容姿なのでしょうか？私は現在25歳です。最近、気がついたことがあってスーパーなどで40代から60代のおじさん世代からちらっと見られたりします。気のせいだと思っていたのですが、母と一緒に出掛けたときに母から「さっき60代くらいの男の人があんたのこと見てたで、前も40代くらいの男の人もちらっと見てたことあったで」と言われたので気のせいではないみたいです。でも、逆に自分と同年代の男性や学生くらいの男性にはほとんど見られたことはないです。私は身長が170くらいあって顔立ちが派手でハーフと間違えられたりエキゾチックと言われたりします。なんかこわいというか何故おじさん世代から見られるのか自分ではわかりません。おじさん世代から好まれる容姿なのでしょうか？本日牛丼チェーン店で昼食をとり、お会計をしたところ、「おい、並んでるんだけど」とものすごい圧を僕にかけ怒鳴られました。その牛丼チェーン店ではレジが２つあり、テイクアウトと普通の会計に分かれているものだと勝手に思っていました(どっちもできるのかもしれないけど)。片方にはテイクアウト目的の人達がかなり並んでおり、もう片方のレジはひとりもいなかったためそこで会計をしようとしたところ、２つのレジの真ん中にたっていたおじさんに怒鳴られました。私は、「並んでいたんですね、すみません」と言いましたが、「もういいよやれよ」と言われたので先に済まさせて頂きました。その後もいらいらが僕は止まりません。テイクアウトもお会計も両方できるレジだったとしても並んでいたなら僕がそこで会計を先に済ませるのは間違っています。しかし、僕がおじさんの前に入った時点で並んでるんですけどと一言言えば良くないですか？わざわざ会計してる最中に怒鳴られても。と思います。真ん中に立ってどっちに並んでいるのかも分からないような位置にいて。どうおもいますか？すっきりしません。あの人にもう一度会って謝りたいですし、こっちの思いも聞いて欲しいです。本日牛丼チェーン店で昼食をとり、お会計をしたところ、「おい、並んでるんだけど」とものすごい圧を僕にかけ怒鳴られました。その牛丼チェーン店ではレジが２つあり、テイクアウトと普通の会計に分かれているものだと勝手に思っていました(どっちもできるのかもしれないけど)。片方にはテイクアウト目的の人達がかなり並んでおり、もう片方のレジはひとりもいなかったためそこで会計をしようとしたところ、２つのレジの真ん中にたっていたおじさんに怒鳴られました。私は、「並んでいたんですね、すみません」と言いましたが、「もういいよやれよ」と言われたので先に済まさせて頂きました。その後もいらいらが僕は止まりません。テイクアウトもお会計も両方できるレジだったとしても並んでいたなら僕がそこで会計を先に済ませるのは間違っています。しかし、僕がおじさんの前に入った時点で並んでるんですけどと一言言えば良くないですか？わざわざ会計してる最中に怒鳴られても。と思います。真ん中に立ってどっちに並んでいるのかも分からないような位置にいて。どうおもいますか？すっきりしません。あの人にもう一度会って謝りたいですし、こっちの思いも聞いて欲しいです。私は賃貸アパートの一階に住んで居るのですが、先日近所のおじさんから私の隣の家の木の剪定のために私の家のベランダに入っても良いかと聞かれました。その次の日私の帰りをおじさんが待っていて、お宅のベランダに置いてある苺の苗が気になって鉢と肥料を持ってきたと言うのです。苺の苗は職場の友人にもらい置いてありました。おじさんは、白菜の漬物を漬ける桶が使わなくなったから丁度いいと思い持ってきてあげたよと得意気に話しました。ここできっぱり断れば良かったのですが断りきれず貰ってしまいました。ベランダまで運んでくれ洗濯物を干す時に便利な台がある…とおじさんは話し私は話半分で聞いていたのですが週末家に居たところ窓越しにベランダに人気を感じそーっと見ると、板を運び込んでいるおじさんが見えました。勝手に入ってきていました。ベランダなので洗濯物も干してあるのに洗濯物をかき分けおじさんは立っていました。持ってきた台は台と言うか渡り廊下のような大きなすのこのような物で50×200センチ位ありました。得意気でどこに置く?この辺?と言い去って行きました。数日たち仕事から帰り洗濯物を入れようとベランダに出たら何と１枚だった渡り廊下のようなすのこが２枚になっているんです。やられた…と思いました。また勝手にベランダに入り勝手に置いて行ったのです。作業中に洗濯物も動かした様で位置がずれているし本当に気持ち悪くてショックです。初めにキッパリ断っていれば良かったのですがどうしていいかわかりません。直接言った方がいいのか、どんな言葉で伝えればいいのか、ご近所の方なのでこれからも会うことになります。だからなるべく問題無い方向で伝えたいのですが、何か良い伝え方がありましたらアドバイス頂きたいと思っています。お願いします。\n",
      "<_io.TextIOWrapper name='komachi.txt' mode='a' encoding='UTF-8'>\n"
     ]
    }
   ],
   "source": [
    "load_url = 'https://komachi.yomiuri.co.jp/topics/id/1039302/'\n",
    "html = requests.get(load_url)\n",
    "soup9=BeautifulSoup(html.content,\"html.parser\")\n",
    "\n",
    "topic9= soup9.find(class_ = 'topicsId__articleContentText')\n",
    "#for element in topic.find_all(\"br\"):\n",
    " #   print(element.text)\n",
    "#print(topic.text)\n",
    "\n",
    "print('---追記前--')\n",
    "with open('komachi.txt','r') as f:\n",
    "    print(f.read())\n",
    "with open('komachi.txt', 'a') as f:\n",
    "#f.writelines(topic.text)\n",
    "    f.write(topic9.text)\n",
    "    print(f)\n",
    "    f.close "
   ]
  },
  {
   "cell_type": "code",
   "execution_count": 128,
   "id": "37a5718f",
   "metadata": {},
   "outputs": [
    {
     "name": "stdout",
     "output_type": "stream",
     "text": [
      "---追記前--\n",
      "地方暮らしの29歳。娘二人、婿旦那、両親、祖母と4世代7人暮らしです私の家は地方の兼業農家で、今の田畑はそんなに多くはないのですが、江戸時代から続く家で、私はその家の三姉妹の末っ子です子供の頃から三人の内、誰かが婿を取って、家を継いで欲しいと言われてきました。上の姉は早々に結婚して、年子の姉も東京で就職し、地元に戻る気はないと言っていたので、私は専門学校卒業後、地元に戻って就職し、結婚相談所で紹介された旦那と24歳で結婚しました旦那は7歳年上で、知り合った当初は婿に入るのに難色を示していたのですが、結婚してからは、子煩悩で、真面目に仕事もしてくれるし、土日休日は両親や私と一緒に田んぼや畑もしてくれます去年、コロナの影響で、東京で働いていた姉が帰ってきました。すぐに東京に戻って再就職するだろうと考えていたのですが、無職のまま、既に1年以上経っています姉の「男の子産まないの？」「二世帯住宅にすればいいのに」など、我が家の経済状況を無視した無神経なイライラ話や「こっちで結婚しようかな。誰か紹介してよ」などの現実離れした話も我慢して来ました。でも、先週、とうとう爆発してしまいました旦那が風呂上りに風呂場から私たちの部屋まで半裸で動き回るのが気に入らないと言い出したのです私も「気に入らないんだったら、出てけば」「ここはもうあんたの家じゃないの」「30にもなって、仕事も貯金もなくて、結婚もできないくせに、なに言ってんのよ」と応戦してしまいましたその日は、旦那のとりなしもあったので、怒りを鎮めましたが、上の姉から電話があり「あんまり、下の姉を責めないで」という言葉と私を咎める話を聞いて、本当に全てが嫌になりました絶対姉を追い出したいです。我慢できません。どうすればいいでしょうか？追い出せないんだったら、私たちが出ていこうと思っています地方暮らしの29歳。娘二人、婿旦那、両親、祖母と4世代7人暮らしです私の家は地方の兼業農家で、今の田畑はそんなに多くはないのですが、江戸時代から続く家で、私はその家の三姉妹の末っ子です子供の頃から三人の内、誰かが婿を取って、家を継いで欲しいと言われてきました。上の姉は早々に結婚して、年子の姉も東京で就職し、地元に戻る気はないと言っていたので、私は専門学校卒業後、地元に戻って就職し、結婚相談所で紹介された旦那と24歳で結婚しました旦那は7歳年上で、知り合った当初は婿に入るのに難色を示していたのですが、結婚してからは、子煩悩で、真面目に仕事もしてくれるし、土日休日は両親や私と一緒に田んぼや畑もしてくれます去年、コロナの影響で、東京で働いていた姉が帰ってきました。すぐに東京に戻って再就職するだろうと考えていたのですが、無職のまま、既に1年以上経っています姉の「男の子産まないの？」「二世帯住宅にすればいいのに」など、我が家の経済状況を無視した無神経なイライラ話や「こっちで結婚しようかな。誰か紹介してよ」などの現実離れした話も我慢して来ました。でも、先週、とうとう爆発してしまいました旦那が風呂上りに風呂場から私たちの部屋まで半裸で動き回るのが気に入らないと言い出したのです私も「気に入らないんだったら、出てけば」「ここはもうあんたの家じゃないの」「30にもなって、仕事も貯金もなくて、結婚もできないくせに、なに言ってんのよ」と応戦してしまいましたその日は、旦那のとりなしもあったので、怒りを鎮めましたが、上の姉から電話があり「あんまり、下の姉を責めないで」という言葉と私を咎める話を聞いて、本当に全てが嫌になりました絶対姉を追い出したいです。我慢できません。どうすればいいでしょうか？追い出せないんだったら、私たちが出ていこうと思っています地方暮らしの29歳。娘二人、婿旦那、両親、祖母と4世代7人暮らしです私の家は地方の兼業農家で、今の田畑はそんなに多くはないのですが、江戸時代から続く家で、私はその家の三姉妹の末っ子です子供の頃から三人の内、誰かが婿を取って、家を継いで欲しいと言われてきました。上の姉は早々に結婚して、年子の姉も東京で就職し、地元に戻る気はないと言っていたので、私は専門学校卒業後、地元に戻って就職し、結婚相談所で紹介された旦那と24歳で結婚しました旦那は7歳年上で、知り合った当初は婿に入るのに難色を示していたのですが、結婚してからは、子煩悩で、真面目に仕事もしてくれるし、土日休日は両親や私と一緒に田んぼや畑もしてくれます去年、コロナの影響で、東京で働いていた姉が帰ってきました。すぐに東京に戻って再就職するだろうと考えていたのですが、無職のまま、既に1年以上経っています姉の「男の子産まないの？」「二世帯住宅にすればいいのに」など、我が家の経済状況を無視した無神経なイライラ話や「こっちで結婚しようかな。誰か紹介してよ」などの現実離れした話も我慢して来ました。でも、先週、とうとう爆発してしまいました旦那が風呂上りに風呂場から私たちの部屋まで半裸で動き回るのが気に入らないと言い出したのです私も「気に入らないんだったら、出てけば」「ここはもうあんたの家じゃないの」「30にもなって、仕事も貯金もなくて、結婚もできないくせに、なに言ってんのよ」と応戦してしまいましたその日は、旦那のとりなしもあったので、怒りを鎮めましたが、上の姉から電話があり「あんまり、下の姉を責めないで」という言葉と私を咎める話を聞いて、本当に全てが嫌になりました絶対姉を追い出したいです。我慢できません。どうすればいいでしょうか？追い出せないんだったら、私たちが出ていこうと思っています40代、5歳の子を持つ主婦です。夫は会社員ですが、自分達が食べる分くらいのお米を作っています。タイトルの友達とは中学時代から20年以上の付き合いになります。彼女も主婦で3人の子供がいます。数年前からその友達がうちからお米を買うようになって新米ができると連絡して取りに来てもらっていました。1年分まとめて買ってもらうので、スーパーなどで買うよりはだいぶ安い値段にしています。去年の9月も新米ができたと連絡し取りに来てもらうことになっていました。ところがお米を取りに来る前日に友達から「明日うちの旦那が釣りに出かけていないから良かったら遊びに来ない？」と LINEがあったので遊びに行くことにし、ついでにお米も持っていくことにしたんです。当日お米と手土産のケーキを持って友達の家に向かい、腰が痛いという友達の代わりに30kgの米袋5袋を車から家に運びました。友達の子供達とうちの子は久しぶりの対面に嬉しそうで一緒に走り回っていました。ここまではいいのですが、着いてからお茶のひとつも出てきません。招待しておいてお茶も出さないの？とちょっとモヤモヤした気持ちになりました。久しぶりにおしゃべりしよ〜！という割には会話は弾まないしなにも出ないし走り回っていた子供が喉が乾いたようなので1時間も経たないくらいで帰ることにしました。するとその友達が一言、「何のお構いもしませんで〜。」きっと最初からお茶を出す気はなかったんですね…今まで遊びに行ってそんな対応をされたことがなかったのでモヤモヤと共にショックでした。お米を安くしていることにも手土産を持っていったことにもお米を運んだことにもお礼の言葉がなかったことにもモヤモヤ…私は仲のいい友達と認識していましたが友達はそうは思っていなかったのかも？今後の付き合い方をどうすればいいのか悩んでいます。交際2年の彼女からもう泊まりに来ないでと言われました。当方35歳です。付き合ってからほぼ毎週末、彼女の家で過ごしていました。喧嘩もなくとても仲良くしてきたと思っています。先日彼女から泊まり拒否の申し出を受け、理由を聞いたところ結婚もしていないのに毎週末男性が部屋に出入りするのは世間的にも良くないと思う。少しだけ離れて距離を保った付き合いをしたい。と言われました。聞いた時は彼女の気持ちが冷めたのかとショックでしたが、それ以降も会えば今まで通りの彼女ですし、心変わりなどもなさそうです。僕が家へ帰るときも、彼女は寂しそうにしています。好きで一緒にいたいのに泊まりの拒否をする彼女の気持があまり理解できません。小町の皆様、彼女の気持ちを教えてください。また、どうすれば以前のように泊まりを含めたデートができるようになるでしょうか。よろしくお願いします。交際2年の彼女からもう泊まりに来ないでと言われました。当方35歳です。付き合ってからほぼ毎週末、彼女の家で過ごしていました。喧嘩もなくとても仲良くしてきたと思っています。先日彼女から泊まり拒否の申し出を受け、理由を聞いたところ結婚もしていないのに毎週末男性が部屋に出入りするのは世間的にも良くないと思う。少しだけ離れて距離を保った付き合いをしたい。と言われました。聞いた時は彼女の気持ちが冷めたのかとショックでしたが、それ以降も会えば今まで通りの彼女ですし、心変わりなどもなさそうです。僕が家へ帰るときも、彼女は寂しそうにしています。好きで一緒にいたいのに泊まりの拒否をする彼女の気持があまり理解できません。小町の皆様、彼女の気持ちを教えてください。また、どうすれば以前のように泊まりを含めたデートができるようになるでしょうか。よろしくお願いします。小学４年生の子どもがいます。幼稚園の頃からの友達が３人おり、毎週、順番に子どもたちを家で遊ばせていて、その間、私たち母親は、会話を楽しんでいます。その中の一人Aさんについて、相談があります。無口過ぎるのです。私たちのおしゃべりを聴いてはいるのですが、頭の回転が鈍いのか、聞くだけです。それなのに、時々、マウントのように聞こえることを言い（〇〇の△△は美味しいですよね、とか）、文脈関係ない話も飛び出してきて、反応に困ります。大学、仕事のことは、一切話しません。私、Ｂ、Ｃは気にせず話しますが、Ａだけは、あいまいに濁され、話してくれません。帰国子女か留学していたようで、無理にではないけれど、色々聞いてみたいのですが、隠す理由がわかりません。心を開いてくれていない気がして、疲れます。なぜ私たちと一緒にいるのだろう？利用してるだけ？もしかして、本当はグループを抜けたいけど、言い出しにくいのか？とイライラします。だから、４年生に進級するタイミングで、「中学受験や、お稽古事の都合もあるだろうから、そちらの都合を優先してもらっていいよ。無理して来なくてもいいよ。」と再三言ったのですが、相変わらず来ます。私の本心は伝わっているはずです。Ａは転勤族なので、遅かれ早かれ、いなくなります。中学生になれば、忙しくなるし、子供たちも親ぬきで遊ぶようになるでしょう。二度と会うこともないと思います。もう一度、Ａに「グループを抜けてもいいよ。」と言うつもりですが、どう言ったらわかってもらえますか？小学４年生の子どもがいます。幼稚園の頃からの友達が３人おり、毎週、順番に子どもたちを家で遊ばせていて、その間、私たち母親は、会話を楽しんでいます。その中の一人Aさんについて、相談があります。無口過ぎるのです。私たちのおしゃべりを聴いてはいるのですが、頭の回転が鈍いのか、聞くだけです。それなのに、時々、マウントのように聞こえることを言い（〇〇の△△は美味しいですよね、とか）、文脈関係ない話も飛び出してきて、反応に困ります。大学、仕事のことは、一切話しません。私、Ｂ、Ｃは気にせず話しますが、Ａだけは、あいまいに濁され、話してくれません。帰国子女か留学していたようで、無理にではないけれど、色々聞いてみたいのですが、隠す理由がわかりません。心を開いてくれていない気がして、疲れます。なぜ私たちと一緒にいるのだろう？利用してるだけ？もしかして、本当はグループを抜けたいけど、言い出しにくいのか？とイライラします。だから、４年生に進級するタイミングで、「中学受験や、お稽古事の都合もあるだろうから、そちらの都合を優先してもらっていいよ。無理して来なくてもいいよ。」と再三言ったのですが、相変わらず来ます。私の本心は伝わっているはずです。Ａは転勤族なので、遅かれ早かれ、いなくなります。中学生になれば、忙しくなるし、子供たちも親ぬきで遊ぶようになるでしょう。二度と会うこともないと思います。もう一度、Ａに「グループを抜けてもいいよ。」と言うつもりですが、どう言ったらわかってもらえますか？お姑さんと同居、主人、小学生の２人兄弟の男の子の5人家族です。先日、夕飯にサバの味噌煮を出しました。主人のお給料日だったので、魚屋さんに行っていつもより高品質、大きめのサバです。味噌煮は子どもたちも大好きだったので、ペロリと平らげてくれました。とそこへ、姑が「冷凍のサバの味噌煮なんてやめてくださる？」と、、。私「え？これは今日買ってきた生のさばですけど。。」姑「こんなにきれいに味噌煮なんてできないけど。」私「いえ、これは本当に冷凍じゃありません!!レシート見ますか？」主人「もういいからお前はだまってろよ！」私「え？私がいけないの？もっと汚く作ればよかったですね、すみませんでした!!」普段から料理に失敗したら文句、家族のことを考えてないだのなんだの言っていて、上手くできてもこんな文句か、、とイライラしてしまいました。こういうときはどう対処すればいいのでしょうか？最近イライラがとまりません。かわす、ことをおさめる方法がなかなか思い付きません。以前にも炊き込みご飯を出したら出来合いのものを混ぜないで！といきなり皆の前でおこられました。違います、、手作りです。。ちなみに敷地内に義弟夫婦がおり、週の半分ご飯を食べにくるので、緊急対処用に冷凍の魚類は置いてあります。たぶん、それを疑ってのことだと思います。お姑さんと同居、主人、小学生の２人兄弟の男の子の5人家族です。先日、夕飯にサバの味噌煮を出しました。主人のお給料日だったので、魚屋さんに行っていつもより高品質、大きめのサバです。味噌煮は子どもたちも大好きだったので、ペロリと平らげてくれました。とそこへ、姑が「冷凍のサバの味噌煮なんてやめてくださる？」と、、。私「え？これは今日買ってきた生のさばですけど。。」姑「こんなにきれいに味噌煮なんてできないけど。」私「いえ、これは本当に冷凍じゃありません!!レシート見ますか？」主人「もういいからお前はだまってろよ！」私「え？私がいけないの？もっと汚く作ればよかったですね、すみませんでした!!」普段から料理に失敗したら文句、家族のことを考えてないだのなんだの言っていて、上手くできてもこんな文句か、、とイライラしてしまいました。こういうときはどう対処すればいいのでしょうか？最近イライラがとまりません。かわす、ことをおさめる方法がなかなか思い付きません。以前にも炊き込みご飯を出したら出来合いのものを混ぜないで！といきなり皆の前でおこられました。違います、、手作りです。。ちなみに敷地内に義弟夫婦がおり、週の半分ご飯を食べにくるので、緊急対処用に冷凍の魚類は置いてあります。たぶん、それを疑ってのことだと思います。40代未婚の正社員です。この春他社から出向してきた後輩の男性社員が机の上に妻子の写真を額縁に入れて飾っており、結婚も出産も断念せざるを得なかった身としては、自分との差を思い知らされるようで大変辛いです。当社は室単位で仕事を行い、従って部屋も室ごとに分かれており、アットホーム逆にいえば閉鎖的な環境です。さりげなく「奥さんとお子さん？かわいいね。家族の写真飾ってる人なんて初めて見たけど、なんでわざわざ仕事中まで置いとくの？」と聞いたら、「愛する妻子の顔を見ていると仕事に精が出るからですよ」と答えました。「家庭に恵まれて幸せものねえ」と茶化して返しましたが、内心惨めさでいっぱいでした。「旦那さんはどんなお仕事されてるんですか？」と彼に聞かれることがあったので「結婚歴はありません、もう結婚も出産も諦めました、仕事が旦那です（笑）」と茶化しながら言いましたし、内心を察して写真を飾るのをやめてほしかったのですが、一向に意に介してないようです。彼は私の10個ほど年下。最近子供が生まれたばかりで、かわいくて仕方ないようで、何かにつけのろけ話が出てきて、私に対するあてつけなのではないかとすら思えてきてしまいました。数週間前から、朝一番早く来て、その写真をパタンと伏せるようにしました。当然彼はまたそれを立て掛けますが、何日も続けることで気づいてほしかったんです。しかし気付かず「毎朝写真が倒れてるんだけど、なんでだろう？」等と同僚に聞いています。とある先輩から「あいつに写真飾るのやめろって言おうか？」と聞かれ、気づかれていたことが分かりました。醜い内心を見抜かれて恥ずかしかったので「そんなことは言わなくていい」と言いましたが、頼んだ方がよかったのでしょうか。それとも私自ら辞めてと言うべきでしょうか。それともいちいち気にする方がおかしいのでしょうか。40代未婚の正社員です。この春他社から出向してきた後輩の男性社員が机の上に妻子の写真を額縁に入れて飾っており、結婚も出産も断念せざるを得なかった身としては、自分との差を思い知らされるようで大変辛いです。当社は室単位で仕事を行い、従って部屋も室ごとに分かれており、アットホーム逆にいえば閉鎖的な環境です。さりげなく「奥さんとお子さん？かわいいね。家族の写真飾ってる人なんて初めて見たけど、なんでわざわざ仕事中まで置いとくの？」と聞いたら、「愛する妻子の顔を見ていると仕事に精が出るからですよ」と答えました。「家庭に恵まれて幸せものねえ」と茶化して返しましたが、内心惨めさでいっぱいでした。「旦那さんはどんなお仕事されてるんですか？」と彼に聞かれることがあったので「結婚歴はありません、もう結婚も出産も諦めました、仕事が旦那です（笑）」と茶化しながら言いましたし、内心を察して写真を飾るのをやめてほしかったのですが、一向に意に介してないようです。彼は私の10個ほど年下。最近子供が生まれたばかりで、かわいくて仕方ないようで、何かにつけのろけ話が出てきて、私に対するあてつけなのではないかとすら思えてきてしまいました。数週間前から、朝一番早く来て、その写真をパタンと伏せるようにしました。当然彼はまたそれを立て掛けますが、何日も続けることで気づいてほしかったんです。しかし気付かず「毎朝写真が倒れてるんだけど、なんでだろう？」等と同僚に聞いています。とある先輩から「あいつに写真飾るのやめろって言おうか？」と聞かれ、気づかれていたことが分かりました。醜い内心を見抜かれて恥ずかしかったので「そんなことは言わなくていい」と言いましたが、頼んだ方がよかったのでしょうか。それとも私自ら辞めてと言うべきでしょうか。それともいちいち気にする方がおかしいのでしょうか。60代の主婦です。夫:60代。現在再雇用で一般企業勤務A子:20代半ば。夫の勤務先の社員。夫と同じ部署→人事異動で他部署に異動先日、夫から突然離婚を切り出されました。理由を聞くと「A子のことが好きになった。異動してから悩んでいることが多くて、相談を持ちかけられたり、食事に誘ったら来てくれたりする。下ネタを言ってみても照れたりするから多分脈アリだ」とのことでした。たしかに夫とA子が2人で食事に行っていることは知っていました。しかし、それを許可していたのは夫が「A子から相談したいことがあると言われたから話を聞いてくる」と言っていたからです。夫が話を聞くことで少しでもA子が楽になるならという思いでした。親子ほど年齢の離れた2人が、まさかそんなことになるとはと私も動揺しており、すぐに夫の携帯からA子に電話をかけさせました。電話に出たA子を問い詰めたところ・相談なんて持ちかけたことはない・食事を断らなかったのは、社会人としての礼儀だと思った。2人で行ったのは確かに軽率だったかもしれないが、自分の親ほどの年齢の人に誘われて断れなかった。あくまでも同僚として、人生の先輩として尊敬していただけ・大体、親子ほど離れてる人に好意を持つわけないでしょう。現実を見てください。こんな時間に電話をかけてきて迷惑です(確かに平日の夜でした)・食事に行こうとか、一人暮らしの私の家に行きたいとかの電話や下ネタがあまりにもしつこいので迷惑してました。この電話があったこと含めてハラスメント担当者に話しますと言われました。夫からA子に「それだけはやめてくれ。穏便にすませよう」と伝えてA子もそれで了承したので、その時は電話を切りました。続きます60代の主婦です。夫:60代。現在再雇用で一般企業勤務A子:20代半ば。夫の勤務先の社員。夫と同じ部署→人事異動で他部署に異動先日、夫から突然離婚を切り出されました。理由を聞くと「A子のことが好きになった。異動してから悩んでいることが多くて、相談を持ちかけられたり、食事に誘ったら来てくれたりする。下ネタを言ってみても照れたりするから多分脈アリだ」とのことでした。たしかに夫とA子が2人で食事に行っていることは知っていました。しかし、それを許可していたのは夫が「A子から相談したいことがあると言われたから話を聞いてくる」と言っていたからです。夫が話を聞くことで少しでもA子が楽になるならという思いでした。親子ほど年齢の離れた2人が、まさかそんなことになるとはと私も動揺しており、すぐに夫の携帯からA子に電話をかけさせました。電話に出たA子を問い詰めたところ・相談なんて持ちかけたことはない・食事を断らなかったのは、社会人としての礼儀だと思った。2人で行ったのは確かに軽率だったかもしれないが、自分の親ほどの年齢の人に誘われて断れなかった。あくまでも同僚として、人生の先輩として尊敬していただけ・大体、親子ほど離れてる人に好意を持つわけないでしょう。現実を見てください。こんな時間に電話をかけてきて迷惑です(確かに平日の夜でした)・食事に行こうとか、一人暮らしの私の家に行きたいとかの電話や下ネタがあまりにもしつこいので迷惑してました。この電話があったこと含めてハラスメント担当者に話しますと言われました。夫からA子に「それだけはやめてくれ。穏便にすませよう」と伝えてA子もそれで了承したので、その時は電話を切りました。続きます年末から、県外に進学していた娘が、今年成人式ということもあり久しぶりに帰ってきました。本当に久しぶりの帰郷なので、娘は「今日は中学時代の友人」「明日は高校時代の友人」「週末は部活の友人」･･･という感じで、会うメンバーをチェンジしながら旧交を温めていました。そんな中、ご近所に住む方（＝Ａさん）が娘の成人のお祝いをあげたいと連絡くださいました。その方とは家族ぐるみのお付き合いをしていたので（最近は子どもが大きくなり疎遠にはなってますが）どうぞ我が家で夕飯をご一緒しましょうとお誘いしました。この食事会は約２週間前のことで、まだオミクロンは今ほど猛威をふるっていませんでした。しかし、食事会の２日後、娘が発熱してしまいコロナと診断されてしまいました。飲食を共にしたＡさんにすぐに連絡し、恐らく濃厚接触者にあたるので検査をして欲しいとお願いしました。幸いにもＡさんご家族は全員陰性でしたが、やはり濃厚接触者になると宣告され、１０日間の自宅待機生活になるそうで、申し訳なさでいっぱいになりました。最初、Ａさんは、「感染したのは娘ちゃんが悪いわけではないから気にしないで。」と言っていたのですが、うっかり、実は娘はワクチン未接種であること、帰郷後、飲み歩いていたことを話したところ、態度が一変してしまったのです。検査代が家族分で２万円近くかかった。（検査自体は公費ですが病院の初診料等がかかった。）パートを休まざるを得なくなり職場に迷惑を掛けたし、給料が減額される。娘ちゃんが、ワクチン未接種なのに迂闊な行動をしていたと知っていたら、お宅に行くことはなかったのに。などなど、直接的な言葉ではありませんが、上記のようなことを言われてしまいました。Ａさんが支払った検査代を負担すべきでしょうか？年末から、県外に進学していた娘が、今年成人式ということもあり久しぶりに帰ってきました。本当に久しぶりの帰郷なので、娘は「今日は中学時代の友人」「明日は高校時代の友人」「週末は部活の友人」･･･という感じで、会うメンバーをチェンジしながら旧交を温めていました。そんな中、ご近所に住む方（＝Ａさん）が娘の成人のお祝いをあげたいと連絡くださいました。その方とは家族ぐるみのお付き合いをしていたので（最近は子どもが大きくなり疎遠にはなってますが）どうぞ我が家で夕飯をご一緒しましょうとお誘いしました。この食事会は約２週間前のことで、まだオミクロンは今ほど猛威をふるっていませんでした。しかし、食事会の２日後、娘が発熱してしまいコロナと診断されてしまいました。飲食を共にしたＡさんにすぐに連絡し、恐らく濃厚接触者にあたるので検査をして欲しいとお願いしました。幸いにもＡさんご家族は全員陰性でしたが、やはり濃厚接触者になると宣告され、１０日間の自宅待機生活になるそうで、申し訳なさでいっぱいになりました。最初、Ａさんは、「感染したのは娘ちゃんが悪いわけではないから気にしないで。」と言っていたのですが、うっかり、実は娘はワクチン未接種であること、帰郷後、飲み歩いていたことを話したところ、態度が一変してしまったのです。検査代が家族分で２万円近くかかった。（検査自体は公費ですが病院の初診料等がかかった。）パートを休まざるを得なくなり職場に迷惑を掛けたし、給料が減額される。娘ちゃんが、ワクチン未接種なのに迂闊な行動をしていたと知っていたら、お宅に行くことはなかったのに。などなど、直接的な言葉ではありませんが、上記のようなことを言われてしまいました。Ａさんが支払った検査代を負担すべきでしょうか？誰かに話を聞いて頂きたいと思い、長くなりますが聞いてください。昨日一年半弱お付き合いした彼と別れました。私は33歳、彼は39歳です。彼とは笑いのツボも合い、家族に対する考え方等が自分と近い事もあり、良き相談相手でもありました。会うのは週末一緒に過ごし、月曜は彼の家から仕事へ行くのがルーティンでした。お互い疲れている日はゆっくりしようと言えるくらいの仲でした。付き合った当初は本当に紳士的でこんな完璧な人いるのか？と思うくらいでした。笑しかし、最近は喧嘩のスパンが増えてきてよくよく考えると殆ど同じ事で喧嘩していました。彼はとても連絡がマメで、仕事終わり、出かける際も何時頃には帰るよ→今家着いたよ等の連絡は欠かさない人でした。私はマメな方では無く、彼と同じように連絡をして欲しいと言われていたので、心がけていました。仕事の時は、仕事が終わった事、無事家についた事。これは必ずしていました。しかし生理前や、仕事が遅くなって疲れてたりすると、うっかり家に着いたよの連絡を忘れてしまった事が数ヶ月に一回あったんです。(彼が次の日仕事で早く、もう寝ると先にLINEが来た日にそうなりがちです。起きている時は必ず連絡します)友達とご飯に行く際も、彼からのLINEに対して後で返そうと思っても、連絡のラリーが途絶えた事ですごく怒られた事もありました。彼は相手を心配させないようにと言う思いがとても強いので、マメに連絡してくれているのはわかりますし、私も彼と付き合ってその方が良いと思ってそうしてきました。ただ根本の性格を変える事は難しく努力していても状況によって、する気分になれない時もあります。今回は彼が寝てる状態で、帰ったよ！の連絡をせず、次の日LINEした事によって怒ってしまいました。続きます↓誰かに話を聞いて頂きたいと思い、長くなりますが聞いてください。昨日一年半弱お付き合いした彼と別れました。私は33歳、彼は39歳です。彼とは笑いのツボも合い、家族に対する考え方等が自分と近い事もあり、良き相談相手でもありました。会うのは週末一緒に過ごし、月曜は彼の家から仕事へ行くのがルーティンでした。お互い疲れている日はゆっくりしようと言えるくらいの仲でした。付き合った当初は本当に紳士的でこんな完璧な人いるのか？と思うくらいでした。笑しかし、最近は喧嘩のスパンが増えてきてよくよく考えると殆ど同じ事で喧嘩していました。彼はとても連絡がマメで、仕事終わり、出かける際も何時頃には帰るよ→今家着いたよ等の連絡は欠かさない人でした。私はマメな方では無く、彼と同じように連絡をして欲しいと言われていたので、心がけていました。仕事の時は、仕事が終わった事、無事家についた事。これは必ずしていました。しかし生理前や、仕事が遅くなって疲れてたりすると、うっかり家に着いたよの連絡を忘れてしまった事が数ヶ月に一回あったんです。(彼が次の日仕事で早く、もう寝ると先にLINEが来た日にそうなりがちです。起きている時は必ず連絡します)友達とご飯に行く際も、彼からのLINEに対して後で返そうと思っても、連絡のラリーが途絶えた事ですごく怒られた事もありました。彼は相手を心配させないようにと言う思いがとても強いので、マメに連絡してくれているのはわかりますし、私も彼と付き合ってその方が良いと思ってそうしてきました。ただ根本の性格を変える事は難しく努力していても状況によって、する気分になれない時もあります。今回は彼が寝てる状態で、帰ったよ！の連絡をせず、次の日LINEした事によって怒ってしまいました。続きます↓こんにちは。トピを開いて下さりありがとうございます。50代専業主婦です。週2回数時間程度来られる、70代半ばくらいの男性清掃員の方にモヤモヤしています。とにかく色々タメ口で馴れ馴れしく聞いてきます。初めは挨拶だけでした。ところがしばらくすると、挨拶後「どこ行くん？買い物？」とか「仕事しとん？」など、こちらからは挨拶以外に何も話しかけることはないのに、いちいち聞いてきます。清掃の予定なども勝手に説明してきます。そのうち、「おはようございます」と言えば、「おー」と偉そうに返され、「こんな所にゴミがある。非常識な人がおるもんや」などと愚痴られるようにもなりました。一言二言返してすぐに立ち去るようにしていましたが、お構い無し。鬱陶しいので、挨拶もやめて素通りすることにしました。これで話しかけて来ることは無くなり、しばらくが出くわすこともなかったのですが、先日久しぶりに間近で出くわしました。何か話しかけて来ましたが、私はさっさと立ち去りました。こういうタイプの人はハッキリ言わないと分からないとは思います。もし、若かりし日の私であれば、ズケッと一言で済ましていたでしょう。でも、今はこんな後期高齢者のような方に言うのも如何なものかと思ったりもします。挨拶後、お天気などの一言二言で済ませられる会話ならいいですが、この方の話は鬱陶しいしかありません。頭では放っておくのが1番だと思っていますが、感情がついていかずモヤモヤしてしまいます。やはり、馴れ馴れしく話しかけないでと、はっきり言うしかないのでしょうか·····？こんにちは。トピを開いて下さりありがとうございます。50代専業主婦です。週2回数時間程度来られる、70代半ばくらいの男性清掃員の方にモヤモヤしています。とにかく色々タメ口で馴れ馴れしく聞いてきます。初めは挨拶だけでした。ところがしばらくすると、挨拶後「どこ行くん？買い物？」とか「仕事しとん？」など、こちらからは挨拶以外に何も話しかけることはないのに、いちいち聞いてきます。清掃の予定なども勝手に説明してきます。そのうち、「おはようございます」と言えば、「おー」と偉そうに返され、「こんな所にゴミがある。非常識な人がおるもんや」などと愚痴られるようにもなりました。一言二言返してすぐに立ち去るようにしていましたが、お構い無し。鬱陶しいので、挨拶もやめて素通りすることにしました。これで話しかけて来ることは無くなり、しばらくが出くわすこともなかったのですが、先日久しぶりに間近で出くわしました。何か話しかけて来ましたが、私はさっさと立ち去りました。こういうタイプの人はハッキリ言わないと分からないとは思います。もし、若かりし日の私であれば、ズケッと一言で済ましていたでしょう。でも、今はこんな後期高齢者のような方に言うのも如何なものかと思ったりもします。挨拶後、お天気などの一言二言で済ませられる会話ならいいですが、この方の話は鬱陶しいしかありません。頭では放っておくのが1番だと思っていますが、感情がついていかずモヤモヤしてしまいます。やはり、馴れ馴れしく話しかけないでと、はっきり言うしかないのでしょうか·····？先日　きゅうりを一本買おうとしたところ、おじさんが綺麗に並んでいるきゅうりを下の方から何度も何度も取り出して、選んでました。内心そんなにひっかきまわさないでよ。と思いながら見ていましたら、私にきずきどうぞって言うので一本取って去ろうとしたら、おれがどうぞって言ったんだから何とか言ったらどうだって。私はすみませんって言いましたけど、これっておじさんが言うことではないかと。私も買い物でなるべく新しい物を選んでしまいますが、待っている人がいたら急いで選んで、すみませんっと言って場所をあけますが、皆さんのご意見お聞かせ下さい。先日　きゅうりを一本買おうとしたところ、おじさんが綺麗に並んでいるきゅうりを下の方から何度も何度も取り出して、選んでました。内心そんなにひっかきまわさないでよ。と思いながら見ていましたら、私にきずきどうぞって言うので一本取って去ろうとしたら、おれがどうぞって言ったんだから何とか言ったらどうだって。私はすみませんって言いましたけど、これっておじさんが言うことではないかと。私も買い物でなるべく新しい物を選んでしまいますが、待っている人がいたら急いで選んで、すみませんっと言って場所をあけますが、皆さんのご意見お聞かせ下さい。体力向上・ダイエット目的で土日だけジムに通う20代女性です。タイトルにあるように、今日、ジムでおじさんにフォームのアドバイスを受けました。ああだこうだとうるさい言い方ではありませんでしたが、少し気になることがあったのでこちらに書かせてください。チェストプレスをした後に、肩より手首が低いと肩を痛めるから、同じ高さにした方がいいよ、と言われました。肩痛める前に言ってもらえて良かったです、ありがとうございます、と伝えました。この一言くらいなら良いのですが、一回やってみて、と言われて少しビックリしました。え、誰目線？と思いつつも、一回ポジションにだけ入って、ああこんな感じですね、で終わらせました。直後にスタジオレッスンがあったので、正直足を止めてほしくなかったのです。そのときは、急にごめんね、と言われて終わったのですが、後から段々モヤモヤしてきました。トレーナーでもないのに、素人目で間違っていても勝手にやらせてくれ、と。終始お互いにこやかで、悪い空気も流れませんでしたが、今後もアドバイスを受けることがあれば正直面倒です。しかも相手に悪意はないので尚更。こう思ってしまう私は心が狭いのでしょうか。最近はさとり世代だの何だので、若者の態度が悪く言われることもある中、私も世間的にはその一味に入るのか？と考えてしまいました。また、このように話しかけられたときは、どう対応するのがベストなのでしょうか。体力向上・ダイエット目的で土日だけジムに通う20代女性です。タイトルにあるように、今日、ジムでおじさんにフォームのアドバイスを受けました。ああだこうだとうるさい言い方ではありませんでしたが、少し気になることがあったのでこちらに書かせてください。チェストプレスをした後に、肩より手首が低いと肩を痛めるから、同じ高さにした方がいいよ、と言われました。肩痛める前に言ってもらえて良かったです、ありがとうございます、と伝えました。この一言くらいなら良いのですが、一回やってみて、と言われて少しビックリしました。え、誰目線？と思いつつも、一回ポジションにだけ入って、ああこんな感じですね、で終わらせました。直後にスタジオレッスンがあったので、正直足を止めてほしくなかったのです。そのときは、急にごめんね、と言われて終わったのですが、後から段々モヤモヤしてきました。トレーナーでもないのに、素人目で間違っていても勝手にやらせてくれ、と。終始お互いにこやかで、悪い空気も流れませんでしたが、今後もアドバイスを受けることがあれば正直面倒です。しかも相手に悪意はないので尚更。こう思ってしまう私は心が狭いのでしょうか。最近はさとり世代だの何だので、若者の態度が悪く言われることもある中、私も世間的にはその一味に入るのか？と考えてしまいました。また、このように話しかけられたときは、どう対応するのがベストなのでしょうか。私は現在25歳です。最近、気がついたことがあってスーパーなどで40代から60代のおじさん世代からちらっと見られたりします。気のせいだと思っていたのですが、母と一緒に出掛けたときに母から「さっき60代くらいの男の人があんたのこと見てたで、前も40代くらいの男の人もちらっと見てたことあったで」と言われたので気のせいではないみたいです。でも、逆に自分と同年代の男性や学生くらいの男性にはほとんど見られたことはないです。私は身長が170くらいあって顔立ちが派手でハーフと間違えられたりエキゾチックと言われたりします。なんかこわいというか何故おじさん世代から見られるのか自分ではわかりません。おじさん世代から好まれる容姿なのでしょうか？私は現在25歳です。最近、気がついたことがあってスーパーなどで40代から60代のおじさん世代からちらっと見られたりします。気のせいだと思っていたのですが、母と一緒に出掛けたときに母から「さっき60代くらいの男の人があんたのこと見てたで、前も40代くらいの男の人もちらっと見てたことあったで」と言われたので気のせいではないみたいです。でも、逆に自分と同年代の男性や学生くらいの男性にはほとんど見られたことはないです。私は身長が170くらいあって顔立ちが派手でハーフと間違えられたりエキゾチックと言われたりします。なんかこわいというか何故おじさん世代から見られるのか自分ではわかりません。おじさん世代から好まれる容姿なのでしょうか？本日牛丼チェーン店で昼食をとり、お会計をしたところ、「おい、並んでるんだけど」とものすごい圧を僕にかけ怒鳴られました。その牛丼チェーン店ではレジが２つあり、テイクアウトと普通の会計に分かれているものだと勝手に思っていました(どっちもできるのかもしれないけど)。片方にはテイクアウト目的の人達がかなり並んでおり、もう片方のレジはひとりもいなかったためそこで会計をしようとしたところ、２つのレジの真ん中にたっていたおじさんに怒鳴られました。私は、「並んでいたんですね、すみません」と言いましたが、「もういいよやれよ」と言われたので先に済まさせて頂きました。その後もいらいらが僕は止まりません。テイクアウトもお会計も両方できるレジだったとしても並んでいたなら僕がそこで会計を先に済ませるのは間違っています。しかし、僕がおじさんの前に入った時点で並んでるんですけどと一言言えば良くないですか？わざわざ会計してる最中に怒鳴られても。と思います。真ん中に立ってどっちに並んでいるのかも分からないような位置にいて。どうおもいますか？すっきりしません。あの人にもう一度会って謝りたいですし、こっちの思いも聞いて欲しいです。本日牛丼チェーン店で昼食をとり、お会計をしたところ、「おい、並んでるんだけど」とものすごい圧を僕にかけ怒鳴られました。その牛丼チェーン店ではレジが２つあり、テイクアウトと普通の会計に分かれているものだと勝手に思っていました(どっちもできるのかもしれないけど)。片方にはテイクアウト目的の人達がかなり並んでおり、もう片方のレジはひとりもいなかったためそこで会計をしようとしたところ、２つのレジの真ん中にたっていたおじさんに怒鳴られました。私は、「並んでいたんですね、すみません」と言いましたが、「もういいよやれよ」と言われたので先に済まさせて頂きました。その後もいらいらが僕は止まりません。テイクアウトもお会計も両方できるレジだったとしても並んでいたなら僕がそこで会計を先に済ませるのは間違っています。しかし、僕がおじさんの前に入った時点で並んでるんですけどと一言言えば良くないですか？わざわざ会計してる最中に怒鳴られても。と思います。真ん中に立ってどっちに並んでいるのかも分からないような位置にいて。どうおもいますか？すっきりしません。あの人にもう一度会って謝りたいですし、こっちの思いも聞いて欲しいです。私は賃貸アパートの一階に住んで居るのですが、先日近所のおじさんから私の隣の家の木の剪定のために私の家のベランダに入っても良いかと聞かれました。その次の日私の帰りをおじさんが待っていて、お宅のベランダに置いてある苺の苗が気になって鉢と肥料を持ってきたと言うのです。苺の苗は職場の友人にもらい置いてありました。おじさんは、白菜の漬物を漬ける桶が使わなくなったから丁度いいと思い持ってきてあげたよと得意気に話しました。ここできっぱり断れば良かったのですが断りきれず貰ってしまいました。ベランダまで運んでくれ洗濯物を干す時に便利な台がある…とおじさんは話し私は話半分で聞いていたのですが週末家に居たところ窓越しにベランダに人気を感じそーっと見ると、板を運び込んでいるおじさんが見えました。勝手に入ってきていました。ベランダなので洗濯物も干してあるのに洗濯物をかき分けおじさんは立っていました。持ってきた台は台と言うか渡り廊下のような大きなすのこのような物で50×200センチ位ありました。得意気でどこに置く?この辺?と言い去って行きました。数日たち仕事から帰り洗濯物を入れようとベランダに出たら何と１枚だった渡り廊下のようなすのこが２枚になっているんです。やられた…と思いました。また勝手にベランダに入り勝手に置いて行ったのです。作業中に洗濯物も動かした様で位置がずれているし本当に気持ち悪くてショックです。初めにキッパリ断っていれば良かったのですがどうしていいかわかりません。直接言った方がいいのか、どんな言葉で伝えればいいのか、ご近所の方なのでこれからも会うことになります。だからなるべく問題無い方向で伝えたいのですが、何か良い伝え方がありましたらアドバイス頂きたいと思っています。お願いします。私は賃貸アパートの一階に住んで居るのですが、先日近所のおじさんから私の隣の家の木の剪定のために私の家のベランダに入っても良いかと聞かれました。その次の日私の帰りをおじさんが待っていて、お宅のベランダに置いてある苺の苗が気になって鉢と肥料を持ってきたと言うのです。苺の苗は職場の友人にもらい置いてありました。おじさんは、白菜の漬物を漬ける桶が使わなくなったから丁度いいと思い持ってきてあげたよと得意気に話しました。ここできっぱり断れば良かったのですが断りきれず貰ってしまいました。ベランダまで運んでくれ洗濯物を干す時に便利な台がある…とおじさんは話し私は話半分で聞いていたのですが週末家に居たところ窓越しにベランダに人気を感じそーっと見ると、板を運び込んでいるおじさんが見えました。勝手に入ってきていました。ベランダなので洗濯物も干してあるのに洗濯物をかき分けおじさんは立っていました。持ってきた台は台と言うか渡り廊下のような大きなすのこのような物で50×200センチ位ありました。得意気でどこに置く?この辺?と言い去って行きました。数日たち仕事から帰り洗濯物を入れようとベランダに出たら何と１枚だった渡り廊下のようなすのこが２枚になっているんです。やられた…と思いました。また勝手にベランダに入り勝手に置いて行ったのです。作業中に洗濯物も動かした様で位置がずれているし本当に気持ち悪くてショックです。初めにキッパリ断っていれば良かったのですがどうしていいかわかりません。直接言った方がいいのか、どんな言葉で伝えればいいのか、ご近所の方なのでこれからも会うことになります。だからなるべく問題無い方向で伝えたいのですが、何か良い伝え方がありましたらアドバイス頂きたいと思っています。お願いします。土曜の夕方、車で郵便局に行ったら、駐車場が満車で、5〜6台が道路沿いに並んでいました。なので、私も車を出来るだけ左に寄せて、ハザードを付けて並んで待っていました。私の後ろにも数台が並んでいたと思います。やっと私が先頭になりもうすぐだと思い待っていたら、対向車のおじさんが、大声で何やら叫んで来ました。窓を開けると、「お前のせいで渋滞になっとるやないか！警察に通報するぞ‼︎」と怒られました。確かに、片道一車線ずつの道だったので、郵便局に入らない後ろの車は、対向車が来ないか確認しながら、中央線辺りを通って追い越していましたが、その日中に郵便局に荷物を取りに行かなきゃいけなかったので、迷惑を承知で並んでいました。そのおじさんはそのまま走って行きましたが、私はどの様にしたら、良かったのでしょうか？\n",
      "<_io.TextIOWrapper name='komachi.txt' mode='a' encoding='UTF-8'>\n"
     ]
    }
   ],
   "source": [
    "load_url = 'https://komachi.yomiuri.co.jp/topics/id/1027284/'\n",
    "html = requests.get(load_url)\n",
    "soup9=BeautifulSoup(html.content,\"html.parser\")\n",
    "\n",
    "topic9= soup9.find(class_ = 'topicsId__articleContentText')\n",
    "#for element in topic.find_all(\"br\"):\n",
    " #   print(element.text)\n",
    "#print(topic.text)\n",
    "\n",
    "print('---追記前--')\n",
    "with open('komachi.txt','r') as f:\n",
    "    print(f.read())\n",
    "with open('komachi.txt', 'a') as f:\n",
    "#f.writelines(topic.text)\n",
    "    f.write(topic9.text)\n",
    "    print(f)\n",
    "    f.close "
   ]
  },
  {
   "cell_type": "code",
   "execution_count": 130,
   "id": "a798786c",
   "metadata": {},
   "outputs": [
    {
     "name": "stdout",
     "output_type": "stream",
     "text": [
      "---追記前--\n",
      "地方暮らしの29歳。娘二人、婿旦那、両親、祖母と4世代7人暮らしです私の家は地方の兼業農家で、今の田畑はそんなに多くはないのですが、江戸時代から続く家で、私はその家の三姉妹の末っ子です子供の頃から三人の内、誰かが婿を取って、家を継いで欲しいと言われてきました。上の姉は早々に結婚して、年子の姉も東京で就職し、地元に戻る気はないと言っていたので、私は専門学校卒業後、地元に戻って就職し、結婚相談所で紹介された旦那と24歳で結婚しました旦那は7歳年上で、知り合った当初は婿に入るのに難色を示していたのですが、結婚してからは、子煩悩で、真面目に仕事もしてくれるし、土日休日は両親や私と一緒に田んぼや畑もしてくれます去年、コロナの影響で、東京で働いていた姉が帰ってきました。すぐに東京に戻って再就職するだろうと考えていたのですが、無職のまま、既に1年以上経っています姉の「男の子産まないの？」「二世帯住宅にすればいいのに」など、我が家の経済状況を無視した無神経なイライラ話や「こっちで結婚しようかな。誰か紹介してよ」などの現実離れした話も我慢して来ました。でも、先週、とうとう爆発してしまいました旦那が風呂上りに風呂場から私たちの部屋まで半裸で動き回るのが気に入らないと言い出したのです私も「気に入らないんだったら、出てけば」「ここはもうあんたの家じゃないの」「30にもなって、仕事も貯金もなくて、結婚もできないくせに、なに言ってんのよ」と応戦してしまいましたその日は、旦那のとりなしもあったので、怒りを鎮めましたが、上の姉から電話があり「あんまり、下の姉を責めないで」という言葉と私を咎める話を聞いて、本当に全てが嫌になりました絶対姉を追い出したいです。我慢できません。どうすればいいでしょうか？追い出せないんだったら、私たちが出ていこうと思っています地方暮らしの29歳。娘二人、婿旦那、両親、祖母と4世代7人暮らしです私の家は地方の兼業農家で、今の田畑はそんなに多くはないのですが、江戸時代から続く家で、私はその家の三姉妹の末っ子です子供の頃から三人の内、誰かが婿を取って、家を継いで欲しいと言われてきました。上の姉は早々に結婚して、年子の姉も東京で就職し、地元に戻る気はないと言っていたので、私は専門学校卒業後、地元に戻って就職し、結婚相談所で紹介された旦那と24歳で結婚しました旦那は7歳年上で、知り合った当初は婿に入るのに難色を示していたのですが、結婚してからは、子煩悩で、真面目に仕事もしてくれるし、土日休日は両親や私と一緒に田んぼや畑もしてくれます去年、コロナの影響で、東京で働いていた姉が帰ってきました。すぐに東京に戻って再就職するだろうと考えていたのですが、無職のまま、既に1年以上経っています姉の「男の子産まないの？」「二世帯住宅にすればいいのに」など、我が家の経済状況を無視した無神経なイライラ話や「こっちで結婚しようかな。誰か紹介してよ」などの現実離れした話も我慢して来ました。でも、先週、とうとう爆発してしまいました旦那が風呂上りに風呂場から私たちの部屋まで半裸で動き回るのが気に入らないと言い出したのです私も「気に入らないんだったら、出てけば」「ここはもうあんたの家じゃないの」「30にもなって、仕事も貯金もなくて、結婚もできないくせに、なに言ってんのよ」と応戦してしまいましたその日は、旦那のとりなしもあったので、怒りを鎮めましたが、上の姉から電話があり「あんまり、下の姉を責めないで」という言葉と私を咎める話を聞いて、本当に全てが嫌になりました絶対姉を追い出したいです。我慢できません。どうすればいいでしょうか？追い出せないんだったら、私たちが出ていこうと思っています地方暮らしの29歳。娘二人、婿旦那、両親、祖母と4世代7人暮らしです私の家は地方の兼業農家で、今の田畑はそんなに多くはないのですが、江戸時代から続く家で、私はその家の三姉妹の末っ子です子供の頃から三人の内、誰かが婿を取って、家を継いで欲しいと言われてきました。上の姉は早々に結婚して、年子の姉も東京で就職し、地元に戻る気はないと言っていたので、私は専門学校卒業後、地元に戻って就職し、結婚相談所で紹介された旦那と24歳で結婚しました旦那は7歳年上で、知り合った当初は婿に入るのに難色を示していたのですが、結婚してからは、子煩悩で、真面目に仕事もしてくれるし、土日休日は両親や私と一緒に田んぼや畑もしてくれます去年、コロナの影響で、東京で働いていた姉が帰ってきました。すぐに東京に戻って再就職するだろうと考えていたのですが、無職のまま、既に1年以上経っています姉の「男の子産まないの？」「二世帯住宅にすればいいのに」など、我が家の経済状況を無視した無神経なイライラ話や「こっちで結婚しようかな。誰か紹介してよ」などの現実離れした話も我慢して来ました。でも、先週、とうとう爆発してしまいました旦那が風呂上りに風呂場から私たちの部屋まで半裸で動き回るのが気に入らないと言い出したのです私も「気に入らないんだったら、出てけば」「ここはもうあんたの家じゃないの」「30にもなって、仕事も貯金もなくて、結婚もできないくせに、なに言ってんのよ」と応戦してしまいましたその日は、旦那のとりなしもあったので、怒りを鎮めましたが、上の姉から電話があり「あんまり、下の姉を責めないで」という言葉と私を咎める話を聞いて、本当に全てが嫌になりました絶対姉を追い出したいです。我慢できません。どうすればいいでしょうか？追い出せないんだったら、私たちが出ていこうと思っています40代、5歳の子を持つ主婦です。夫は会社員ですが、自分達が食べる分くらいのお米を作っています。タイトルの友達とは中学時代から20年以上の付き合いになります。彼女も主婦で3人の子供がいます。数年前からその友達がうちからお米を買うようになって新米ができると連絡して取りに来てもらっていました。1年分まとめて買ってもらうので、スーパーなどで買うよりはだいぶ安い値段にしています。去年の9月も新米ができたと連絡し取りに来てもらうことになっていました。ところがお米を取りに来る前日に友達から「明日うちの旦那が釣りに出かけていないから良かったら遊びに来ない？」と LINEがあったので遊びに行くことにし、ついでにお米も持っていくことにしたんです。当日お米と手土産のケーキを持って友達の家に向かい、腰が痛いという友達の代わりに30kgの米袋5袋を車から家に運びました。友達の子供達とうちの子は久しぶりの対面に嬉しそうで一緒に走り回っていました。ここまではいいのですが、着いてからお茶のひとつも出てきません。招待しておいてお茶も出さないの？とちょっとモヤモヤした気持ちになりました。久しぶりにおしゃべりしよ〜！という割には会話は弾まないしなにも出ないし走り回っていた子供が喉が乾いたようなので1時間も経たないくらいで帰ることにしました。するとその友達が一言、「何のお構いもしませんで〜。」きっと最初からお茶を出す気はなかったんですね…今まで遊びに行ってそんな対応をされたことがなかったのでモヤモヤと共にショックでした。お米を安くしていることにも手土産を持っていったことにもお米を運んだことにもお礼の言葉がなかったことにもモヤモヤ…私は仲のいい友達と認識していましたが友達はそうは思っていなかったのかも？今後の付き合い方をどうすればいいのか悩んでいます。交際2年の彼女からもう泊まりに来ないでと言われました。当方35歳です。付き合ってからほぼ毎週末、彼女の家で過ごしていました。喧嘩もなくとても仲良くしてきたと思っています。先日彼女から泊まり拒否の申し出を受け、理由を聞いたところ結婚もしていないのに毎週末男性が部屋に出入りするのは世間的にも良くないと思う。少しだけ離れて距離を保った付き合いをしたい。と言われました。聞いた時は彼女の気持ちが冷めたのかとショックでしたが、それ以降も会えば今まで通りの彼女ですし、心変わりなどもなさそうです。僕が家へ帰るときも、彼女は寂しそうにしています。好きで一緒にいたいのに泊まりの拒否をする彼女の気持があまり理解できません。小町の皆様、彼女の気持ちを教えてください。また、どうすれば以前のように泊まりを含めたデートができるようになるでしょうか。よろしくお願いします。交際2年の彼女からもう泊まりに来ないでと言われました。当方35歳です。付き合ってからほぼ毎週末、彼女の家で過ごしていました。喧嘩もなくとても仲良くしてきたと思っています。先日彼女から泊まり拒否の申し出を受け、理由を聞いたところ結婚もしていないのに毎週末男性が部屋に出入りするのは世間的にも良くないと思う。少しだけ離れて距離を保った付き合いをしたい。と言われました。聞いた時は彼女の気持ちが冷めたのかとショックでしたが、それ以降も会えば今まで通りの彼女ですし、心変わりなどもなさそうです。僕が家へ帰るときも、彼女は寂しそうにしています。好きで一緒にいたいのに泊まりの拒否をする彼女の気持があまり理解できません。小町の皆様、彼女の気持ちを教えてください。また、どうすれば以前のように泊まりを含めたデートができるようになるでしょうか。よろしくお願いします。小学４年生の子どもがいます。幼稚園の頃からの友達が３人おり、毎週、順番に子どもたちを家で遊ばせていて、その間、私たち母親は、会話を楽しんでいます。その中の一人Aさんについて、相談があります。無口過ぎるのです。私たちのおしゃべりを聴いてはいるのですが、頭の回転が鈍いのか、聞くだけです。それなのに、時々、マウントのように聞こえることを言い（〇〇の△△は美味しいですよね、とか）、文脈関係ない話も飛び出してきて、反応に困ります。大学、仕事のことは、一切話しません。私、Ｂ、Ｃは気にせず話しますが、Ａだけは、あいまいに濁され、話してくれません。帰国子女か留学していたようで、無理にではないけれど、色々聞いてみたいのですが、隠す理由がわかりません。心を開いてくれていない気がして、疲れます。なぜ私たちと一緒にいるのだろう？利用してるだけ？もしかして、本当はグループを抜けたいけど、言い出しにくいのか？とイライラします。だから、４年生に進級するタイミングで、「中学受験や、お稽古事の都合もあるだろうから、そちらの都合を優先してもらっていいよ。無理して来なくてもいいよ。」と再三言ったのですが、相変わらず来ます。私の本心は伝わっているはずです。Ａは転勤族なので、遅かれ早かれ、いなくなります。中学生になれば、忙しくなるし、子供たちも親ぬきで遊ぶようになるでしょう。二度と会うこともないと思います。もう一度、Ａに「グループを抜けてもいいよ。」と言うつもりですが、どう言ったらわかってもらえますか？小学４年生の子どもがいます。幼稚園の頃からの友達が３人おり、毎週、順番に子どもたちを家で遊ばせていて、その間、私たち母親は、会話を楽しんでいます。その中の一人Aさんについて、相談があります。無口過ぎるのです。私たちのおしゃべりを聴いてはいるのですが、頭の回転が鈍いのか、聞くだけです。それなのに、時々、マウントのように聞こえることを言い（〇〇の△△は美味しいですよね、とか）、文脈関係ない話も飛び出してきて、反応に困ります。大学、仕事のことは、一切話しません。私、Ｂ、Ｃは気にせず話しますが、Ａだけは、あいまいに濁され、話してくれません。帰国子女か留学していたようで、無理にではないけれど、色々聞いてみたいのですが、隠す理由がわかりません。心を開いてくれていない気がして、疲れます。なぜ私たちと一緒にいるのだろう？利用してるだけ？もしかして、本当はグループを抜けたいけど、言い出しにくいのか？とイライラします。だから、４年生に進級するタイミングで、「中学受験や、お稽古事の都合もあるだろうから、そちらの都合を優先してもらっていいよ。無理して来なくてもいいよ。」と再三言ったのですが、相変わらず来ます。私の本心は伝わっているはずです。Ａは転勤族なので、遅かれ早かれ、いなくなります。中学生になれば、忙しくなるし、子供たちも親ぬきで遊ぶようになるでしょう。二度と会うこともないと思います。もう一度、Ａに「グループを抜けてもいいよ。」と言うつもりですが、どう言ったらわかってもらえますか？お姑さんと同居、主人、小学生の２人兄弟の男の子の5人家族です。先日、夕飯にサバの味噌煮を出しました。主人のお給料日だったので、魚屋さんに行っていつもより高品質、大きめのサバです。味噌煮は子どもたちも大好きだったので、ペロリと平らげてくれました。とそこへ、姑が「冷凍のサバの味噌煮なんてやめてくださる？」と、、。私「え？これは今日買ってきた生のさばですけど。。」姑「こんなにきれいに味噌煮なんてできないけど。」私「いえ、これは本当に冷凍じゃありません!!レシート見ますか？」主人「もういいからお前はだまってろよ！」私「え？私がいけないの？もっと汚く作ればよかったですね、すみませんでした!!」普段から料理に失敗したら文句、家族のことを考えてないだのなんだの言っていて、上手くできてもこんな文句か、、とイライラしてしまいました。こういうときはどう対処すればいいのでしょうか？最近イライラがとまりません。かわす、ことをおさめる方法がなかなか思い付きません。以前にも炊き込みご飯を出したら出来合いのものを混ぜないで！といきなり皆の前でおこられました。違います、、手作りです。。ちなみに敷地内に義弟夫婦がおり、週の半分ご飯を食べにくるので、緊急対処用に冷凍の魚類は置いてあります。たぶん、それを疑ってのことだと思います。お姑さんと同居、主人、小学生の２人兄弟の男の子の5人家族です。先日、夕飯にサバの味噌煮を出しました。主人のお給料日だったので、魚屋さんに行っていつもより高品質、大きめのサバです。味噌煮は子どもたちも大好きだったので、ペロリと平らげてくれました。とそこへ、姑が「冷凍のサバの味噌煮なんてやめてくださる？」と、、。私「え？これは今日買ってきた生のさばですけど。。」姑「こんなにきれいに味噌煮なんてできないけど。」私「いえ、これは本当に冷凍じゃありません!!レシート見ますか？」主人「もういいからお前はだまってろよ！」私「え？私がいけないの？もっと汚く作ればよかったですね、すみませんでした!!」普段から料理に失敗したら文句、家族のことを考えてないだのなんだの言っていて、上手くできてもこんな文句か、、とイライラしてしまいました。こういうときはどう対処すればいいのでしょうか？最近イライラがとまりません。かわす、ことをおさめる方法がなかなか思い付きません。以前にも炊き込みご飯を出したら出来合いのものを混ぜないで！といきなり皆の前でおこられました。違います、、手作りです。。ちなみに敷地内に義弟夫婦がおり、週の半分ご飯を食べにくるので、緊急対処用に冷凍の魚類は置いてあります。たぶん、それを疑ってのことだと思います。40代未婚の正社員です。この春他社から出向してきた後輩の男性社員が机の上に妻子の写真を額縁に入れて飾っており、結婚も出産も断念せざるを得なかった身としては、自分との差を思い知らされるようで大変辛いです。当社は室単位で仕事を行い、従って部屋も室ごとに分かれており、アットホーム逆にいえば閉鎖的な環境です。さりげなく「奥さんとお子さん？かわいいね。家族の写真飾ってる人なんて初めて見たけど、なんでわざわざ仕事中まで置いとくの？」と聞いたら、「愛する妻子の顔を見ていると仕事に精が出るからですよ」と答えました。「家庭に恵まれて幸せものねえ」と茶化して返しましたが、内心惨めさでいっぱいでした。「旦那さんはどんなお仕事されてるんですか？」と彼に聞かれることがあったので「結婚歴はありません、もう結婚も出産も諦めました、仕事が旦那です（笑）」と茶化しながら言いましたし、内心を察して写真を飾るのをやめてほしかったのですが、一向に意に介してないようです。彼は私の10個ほど年下。最近子供が生まれたばかりで、かわいくて仕方ないようで、何かにつけのろけ話が出てきて、私に対するあてつけなのではないかとすら思えてきてしまいました。数週間前から、朝一番早く来て、その写真をパタンと伏せるようにしました。当然彼はまたそれを立て掛けますが、何日も続けることで気づいてほしかったんです。しかし気付かず「毎朝写真が倒れてるんだけど、なんでだろう？」等と同僚に聞いています。とある先輩から「あいつに写真飾るのやめろって言おうか？」と聞かれ、気づかれていたことが分かりました。醜い内心を見抜かれて恥ずかしかったので「そんなことは言わなくていい」と言いましたが、頼んだ方がよかったのでしょうか。それとも私自ら辞めてと言うべきでしょうか。それともいちいち気にする方がおかしいのでしょうか。40代未婚の正社員です。この春他社から出向してきた後輩の男性社員が机の上に妻子の写真を額縁に入れて飾っており、結婚も出産も断念せざるを得なかった身としては、自分との差を思い知らされるようで大変辛いです。当社は室単位で仕事を行い、従って部屋も室ごとに分かれており、アットホーム逆にいえば閉鎖的な環境です。さりげなく「奥さんとお子さん？かわいいね。家族の写真飾ってる人なんて初めて見たけど、なんでわざわざ仕事中まで置いとくの？」と聞いたら、「愛する妻子の顔を見ていると仕事に精が出るからですよ」と答えました。「家庭に恵まれて幸せものねえ」と茶化して返しましたが、内心惨めさでいっぱいでした。「旦那さんはどんなお仕事されてるんですか？」と彼に聞かれることがあったので「結婚歴はありません、もう結婚も出産も諦めました、仕事が旦那です（笑）」と茶化しながら言いましたし、内心を察して写真を飾るのをやめてほしかったのですが、一向に意に介してないようです。彼は私の10個ほど年下。最近子供が生まれたばかりで、かわいくて仕方ないようで、何かにつけのろけ話が出てきて、私に対するあてつけなのではないかとすら思えてきてしまいました。数週間前から、朝一番早く来て、その写真をパタンと伏せるようにしました。当然彼はまたそれを立て掛けますが、何日も続けることで気づいてほしかったんです。しかし気付かず「毎朝写真が倒れてるんだけど、なんでだろう？」等と同僚に聞いています。とある先輩から「あいつに写真飾るのやめろって言おうか？」と聞かれ、気づかれていたことが分かりました。醜い内心を見抜かれて恥ずかしかったので「そんなことは言わなくていい」と言いましたが、頼んだ方がよかったのでしょうか。それとも私自ら辞めてと言うべきでしょうか。それともいちいち気にする方がおかしいのでしょうか。60代の主婦です。夫:60代。現在再雇用で一般企業勤務A子:20代半ば。夫の勤務先の社員。夫と同じ部署→人事異動で他部署に異動先日、夫から突然離婚を切り出されました。理由を聞くと「A子のことが好きになった。異動してから悩んでいることが多くて、相談を持ちかけられたり、食事に誘ったら来てくれたりする。下ネタを言ってみても照れたりするから多分脈アリだ」とのことでした。たしかに夫とA子が2人で食事に行っていることは知っていました。しかし、それを許可していたのは夫が「A子から相談したいことがあると言われたから話を聞いてくる」と言っていたからです。夫が話を聞くことで少しでもA子が楽になるならという思いでした。親子ほど年齢の離れた2人が、まさかそんなことになるとはと私も動揺しており、すぐに夫の携帯からA子に電話をかけさせました。電話に出たA子を問い詰めたところ・相談なんて持ちかけたことはない・食事を断らなかったのは、社会人としての礼儀だと思った。2人で行ったのは確かに軽率だったかもしれないが、自分の親ほどの年齢の人に誘われて断れなかった。あくまでも同僚として、人生の先輩として尊敬していただけ・大体、親子ほど離れてる人に好意を持つわけないでしょう。現実を見てください。こんな時間に電話をかけてきて迷惑です(確かに平日の夜でした)・食事に行こうとか、一人暮らしの私の家に行きたいとかの電話や下ネタがあまりにもしつこいので迷惑してました。この電話があったこと含めてハラスメント担当者に話しますと言われました。夫からA子に「それだけはやめてくれ。穏便にすませよう」と伝えてA子もそれで了承したので、その時は電話を切りました。続きます60代の主婦です。夫:60代。現在再雇用で一般企業勤務A子:20代半ば。夫の勤務先の社員。夫と同じ部署→人事異動で他部署に異動先日、夫から突然離婚を切り出されました。理由を聞くと「A子のことが好きになった。異動してから悩んでいることが多くて、相談を持ちかけられたり、食事に誘ったら来てくれたりする。下ネタを言ってみても照れたりするから多分脈アリだ」とのことでした。たしかに夫とA子が2人で食事に行っていることは知っていました。しかし、それを許可していたのは夫が「A子から相談したいことがあると言われたから話を聞いてくる」と言っていたからです。夫が話を聞くことで少しでもA子が楽になるならという思いでした。親子ほど年齢の離れた2人が、まさかそんなことになるとはと私も動揺しており、すぐに夫の携帯からA子に電話をかけさせました。電話に出たA子を問い詰めたところ・相談なんて持ちかけたことはない・食事を断らなかったのは、社会人としての礼儀だと思った。2人で行ったのは確かに軽率だったかもしれないが、自分の親ほどの年齢の人に誘われて断れなかった。あくまでも同僚として、人生の先輩として尊敬していただけ・大体、親子ほど離れてる人に好意を持つわけないでしょう。現実を見てください。こんな時間に電話をかけてきて迷惑です(確かに平日の夜でした)・食事に行こうとか、一人暮らしの私の家に行きたいとかの電話や下ネタがあまりにもしつこいので迷惑してました。この電話があったこと含めてハラスメント担当者に話しますと言われました。夫からA子に「それだけはやめてくれ。穏便にすませよう」と伝えてA子もそれで了承したので、その時は電話を切りました。続きます年末から、県外に進学していた娘が、今年成人式ということもあり久しぶりに帰ってきました。本当に久しぶりの帰郷なので、娘は「今日は中学時代の友人」「明日は高校時代の友人」「週末は部活の友人」･･･という感じで、会うメンバーをチェンジしながら旧交を温めていました。そんな中、ご近所に住む方（＝Ａさん）が娘の成人のお祝いをあげたいと連絡くださいました。その方とは家族ぐるみのお付き合いをしていたので（最近は子どもが大きくなり疎遠にはなってますが）どうぞ我が家で夕飯をご一緒しましょうとお誘いしました。この食事会は約２週間前のことで、まだオミクロンは今ほど猛威をふるっていませんでした。しかし、食事会の２日後、娘が発熱してしまいコロナと診断されてしまいました。飲食を共にしたＡさんにすぐに連絡し、恐らく濃厚接触者にあたるので検査をして欲しいとお願いしました。幸いにもＡさんご家族は全員陰性でしたが、やはり濃厚接触者になると宣告され、１０日間の自宅待機生活になるそうで、申し訳なさでいっぱいになりました。最初、Ａさんは、「感染したのは娘ちゃんが悪いわけではないから気にしないで。」と言っていたのですが、うっかり、実は娘はワクチン未接種であること、帰郷後、飲み歩いていたことを話したところ、態度が一変してしまったのです。検査代が家族分で２万円近くかかった。（検査自体は公費ですが病院の初診料等がかかった。）パートを休まざるを得なくなり職場に迷惑を掛けたし、給料が減額される。娘ちゃんが、ワクチン未接種なのに迂闊な行動をしていたと知っていたら、お宅に行くことはなかったのに。などなど、直接的な言葉ではありませんが、上記のようなことを言われてしまいました。Ａさんが支払った検査代を負担すべきでしょうか？年末から、県外に進学していた娘が、今年成人式ということもあり久しぶりに帰ってきました。本当に久しぶりの帰郷なので、娘は「今日は中学時代の友人」「明日は高校時代の友人」「週末は部活の友人」･･･という感じで、会うメンバーをチェンジしながら旧交を温めていました。そんな中、ご近所に住む方（＝Ａさん）が娘の成人のお祝いをあげたいと連絡くださいました。その方とは家族ぐるみのお付き合いをしていたので（最近は子どもが大きくなり疎遠にはなってますが）どうぞ我が家で夕飯をご一緒しましょうとお誘いしました。この食事会は約２週間前のことで、まだオミクロンは今ほど猛威をふるっていませんでした。しかし、食事会の２日後、娘が発熱してしまいコロナと診断されてしまいました。飲食を共にしたＡさんにすぐに連絡し、恐らく濃厚接触者にあたるので検査をして欲しいとお願いしました。幸いにもＡさんご家族は全員陰性でしたが、やはり濃厚接触者になると宣告され、１０日間の自宅待機生活になるそうで、申し訳なさでいっぱいになりました。最初、Ａさんは、「感染したのは娘ちゃんが悪いわけではないから気にしないで。」と言っていたのですが、うっかり、実は娘はワクチン未接種であること、帰郷後、飲み歩いていたことを話したところ、態度が一変してしまったのです。検査代が家族分で２万円近くかかった。（検査自体は公費ですが病院の初診料等がかかった。）パートを休まざるを得なくなり職場に迷惑を掛けたし、給料が減額される。娘ちゃんが、ワクチン未接種なのに迂闊な行動をしていたと知っていたら、お宅に行くことはなかったのに。などなど、直接的な言葉ではありませんが、上記のようなことを言われてしまいました。Ａさんが支払った検査代を負担すべきでしょうか？誰かに話を聞いて頂きたいと思い、長くなりますが聞いてください。昨日一年半弱お付き合いした彼と別れました。私は33歳、彼は39歳です。彼とは笑いのツボも合い、家族に対する考え方等が自分と近い事もあり、良き相談相手でもありました。会うのは週末一緒に過ごし、月曜は彼の家から仕事へ行くのがルーティンでした。お互い疲れている日はゆっくりしようと言えるくらいの仲でした。付き合った当初は本当に紳士的でこんな完璧な人いるのか？と思うくらいでした。笑しかし、最近は喧嘩のスパンが増えてきてよくよく考えると殆ど同じ事で喧嘩していました。彼はとても連絡がマメで、仕事終わり、出かける際も何時頃には帰るよ→今家着いたよ等の連絡は欠かさない人でした。私はマメな方では無く、彼と同じように連絡をして欲しいと言われていたので、心がけていました。仕事の時は、仕事が終わった事、無事家についた事。これは必ずしていました。しかし生理前や、仕事が遅くなって疲れてたりすると、うっかり家に着いたよの連絡を忘れてしまった事が数ヶ月に一回あったんです。(彼が次の日仕事で早く、もう寝ると先にLINEが来た日にそうなりがちです。起きている時は必ず連絡します)友達とご飯に行く際も、彼からのLINEに対して後で返そうと思っても、連絡のラリーが途絶えた事ですごく怒られた事もありました。彼は相手を心配させないようにと言う思いがとても強いので、マメに連絡してくれているのはわかりますし、私も彼と付き合ってその方が良いと思ってそうしてきました。ただ根本の性格を変える事は難しく努力していても状況によって、する気分になれない時もあります。今回は彼が寝てる状態で、帰ったよ！の連絡をせず、次の日LINEした事によって怒ってしまいました。続きます↓誰かに話を聞いて頂きたいと思い、長くなりますが聞いてください。昨日一年半弱お付き合いした彼と別れました。私は33歳、彼は39歳です。彼とは笑いのツボも合い、家族に対する考え方等が自分と近い事もあり、良き相談相手でもありました。会うのは週末一緒に過ごし、月曜は彼の家から仕事へ行くのがルーティンでした。お互い疲れている日はゆっくりしようと言えるくらいの仲でした。付き合った当初は本当に紳士的でこんな完璧な人いるのか？と思うくらいでした。笑しかし、最近は喧嘩のスパンが増えてきてよくよく考えると殆ど同じ事で喧嘩していました。彼はとても連絡がマメで、仕事終わり、出かける際も何時頃には帰るよ→今家着いたよ等の連絡は欠かさない人でした。私はマメな方では無く、彼と同じように連絡をして欲しいと言われていたので、心がけていました。仕事の時は、仕事が終わった事、無事家についた事。これは必ずしていました。しかし生理前や、仕事が遅くなって疲れてたりすると、うっかり家に着いたよの連絡を忘れてしまった事が数ヶ月に一回あったんです。(彼が次の日仕事で早く、もう寝ると先にLINEが来た日にそうなりがちです。起きている時は必ず連絡します)友達とご飯に行く際も、彼からのLINEに対して後で返そうと思っても、連絡のラリーが途絶えた事ですごく怒られた事もありました。彼は相手を心配させないようにと言う思いがとても強いので、マメに連絡してくれているのはわかりますし、私も彼と付き合ってその方が良いと思ってそうしてきました。ただ根本の性格を変える事は難しく努力していても状況によって、する気分になれない時もあります。今回は彼が寝てる状態で、帰ったよ！の連絡をせず、次の日LINEした事によって怒ってしまいました。続きます↓こんにちは。トピを開いて下さりありがとうございます。50代専業主婦です。週2回数時間程度来られる、70代半ばくらいの男性清掃員の方にモヤモヤしています。とにかく色々タメ口で馴れ馴れしく聞いてきます。初めは挨拶だけでした。ところがしばらくすると、挨拶後「どこ行くん？買い物？」とか「仕事しとん？」など、こちらからは挨拶以外に何も話しかけることはないのに、いちいち聞いてきます。清掃の予定なども勝手に説明してきます。そのうち、「おはようございます」と言えば、「おー」と偉そうに返され、「こんな所にゴミがある。非常識な人がおるもんや」などと愚痴られるようにもなりました。一言二言返してすぐに立ち去るようにしていましたが、お構い無し。鬱陶しいので、挨拶もやめて素通りすることにしました。これで話しかけて来ることは無くなり、しばらくが出くわすこともなかったのですが、先日久しぶりに間近で出くわしました。何か話しかけて来ましたが、私はさっさと立ち去りました。こういうタイプの人はハッキリ言わないと分からないとは思います。もし、若かりし日の私であれば、ズケッと一言で済ましていたでしょう。でも、今はこんな後期高齢者のような方に言うのも如何なものかと思ったりもします。挨拶後、お天気などの一言二言で済ませられる会話ならいいですが、この方の話は鬱陶しいしかありません。頭では放っておくのが1番だと思っていますが、感情がついていかずモヤモヤしてしまいます。やはり、馴れ馴れしく話しかけないでと、はっきり言うしかないのでしょうか·····？こんにちは。トピを開いて下さりありがとうございます。50代専業主婦です。週2回数時間程度来られる、70代半ばくらいの男性清掃員の方にモヤモヤしています。とにかく色々タメ口で馴れ馴れしく聞いてきます。初めは挨拶だけでした。ところがしばらくすると、挨拶後「どこ行くん？買い物？」とか「仕事しとん？」など、こちらからは挨拶以外に何も話しかけることはないのに、いちいち聞いてきます。清掃の予定なども勝手に説明してきます。そのうち、「おはようございます」と言えば、「おー」と偉そうに返され、「こんな所にゴミがある。非常識な人がおるもんや」などと愚痴られるようにもなりました。一言二言返してすぐに立ち去るようにしていましたが、お構い無し。鬱陶しいので、挨拶もやめて素通りすることにしました。これで話しかけて来ることは無くなり、しばらくが出くわすこともなかったのですが、先日久しぶりに間近で出くわしました。何か話しかけて来ましたが、私はさっさと立ち去りました。こういうタイプの人はハッキリ言わないと分からないとは思います。もし、若かりし日の私であれば、ズケッと一言で済ましていたでしょう。でも、今はこんな後期高齢者のような方に言うのも如何なものかと思ったりもします。挨拶後、お天気などの一言二言で済ませられる会話ならいいですが、この方の話は鬱陶しいしかありません。頭では放っておくのが1番だと思っていますが、感情がついていかずモヤモヤしてしまいます。やはり、馴れ馴れしく話しかけないでと、はっきり言うしかないのでしょうか·····？先日　きゅうりを一本買おうとしたところ、おじさんが綺麗に並んでいるきゅうりを下の方から何度も何度も取り出して、選んでました。内心そんなにひっかきまわさないでよ。と思いながら見ていましたら、私にきずきどうぞって言うので一本取って去ろうとしたら、おれがどうぞって言ったんだから何とか言ったらどうだって。私はすみませんって言いましたけど、これっておじさんが言うことではないかと。私も買い物でなるべく新しい物を選んでしまいますが、待っている人がいたら急いで選んで、すみませんっと言って場所をあけますが、皆さんのご意見お聞かせ下さい。先日　きゅうりを一本買おうとしたところ、おじさんが綺麗に並んでいるきゅうりを下の方から何度も何度も取り出して、選んでました。内心そんなにひっかきまわさないでよ。と思いながら見ていましたら、私にきずきどうぞって言うので一本取って去ろうとしたら、おれがどうぞって言ったんだから何とか言ったらどうだって。私はすみませんって言いましたけど、これっておじさんが言うことではないかと。私も買い物でなるべく新しい物を選んでしまいますが、待っている人がいたら急いで選んで、すみませんっと言って場所をあけますが、皆さんのご意見お聞かせ下さい。体力向上・ダイエット目的で土日だけジムに通う20代女性です。タイトルにあるように、今日、ジムでおじさんにフォームのアドバイスを受けました。ああだこうだとうるさい言い方ではありませんでしたが、少し気になることがあったのでこちらに書かせてください。チェストプレスをした後に、肩より手首が低いと肩を痛めるから、同じ高さにした方がいいよ、と言われました。肩痛める前に言ってもらえて良かったです、ありがとうございます、と伝えました。この一言くらいなら良いのですが、一回やってみて、と言われて少しビックリしました。え、誰目線？と思いつつも、一回ポジションにだけ入って、ああこんな感じですね、で終わらせました。直後にスタジオレッスンがあったので、正直足を止めてほしくなかったのです。そのときは、急にごめんね、と言われて終わったのですが、後から段々モヤモヤしてきました。トレーナーでもないのに、素人目で間違っていても勝手にやらせてくれ、と。終始お互いにこやかで、悪い空気も流れませんでしたが、今後もアドバイスを受けることがあれば正直面倒です。しかも相手に悪意はないので尚更。こう思ってしまう私は心が狭いのでしょうか。最近はさとり世代だの何だので、若者の態度が悪く言われることもある中、私も世間的にはその一味に入るのか？と考えてしまいました。また、このように話しかけられたときは、どう対応するのがベストなのでしょうか。体力向上・ダイエット目的で土日だけジムに通う20代女性です。タイトルにあるように、今日、ジムでおじさんにフォームのアドバイスを受けました。ああだこうだとうるさい言い方ではありませんでしたが、少し気になることがあったのでこちらに書かせてください。チェストプレスをした後に、肩より手首が低いと肩を痛めるから、同じ高さにした方がいいよ、と言われました。肩痛める前に言ってもらえて良かったです、ありがとうございます、と伝えました。この一言くらいなら良いのですが、一回やってみて、と言われて少しビックリしました。え、誰目線？と思いつつも、一回ポジションにだけ入って、ああこんな感じですね、で終わらせました。直後にスタジオレッスンがあったので、正直足を止めてほしくなかったのです。そのときは、急にごめんね、と言われて終わったのですが、後から段々モヤモヤしてきました。トレーナーでもないのに、素人目で間違っていても勝手にやらせてくれ、と。終始お互いにこやかで、悪い空気も流れませんでしたが、今後もアドバイスを受けることがあれば正直面倒です。しかも相手に悪意はないので尚更。こう思ってしまう私は心が狭いのでしょうか。最近はさとり世代だの何だので、若者の態度が悪く言われることもある中、私も世間的にはその一味に入るのか？と考えてしまいました。また、このように話しかけられたときは、どう対応するのがベストなのでしょうか。私は現在25歳です。最近、気がついたことがあってスーパーなどで40代から60代のおじさん世代からちらっと見られたりします。気のせいだと思っていたのですが、母と一緒に出掛けたときに母から「さっき60代くらいの男の人があんたのこと見てたで、前も40代くらいの男の人もちらっと見てたことあったで」と言われたので気のせいではないみたいです。でも、逆に自分と同年代の男性や学生くらいの男性にはほとんど見られたことはないです。私は身長が170くらいあって顔立ちが派手でハーフと間違えられたりエキゾチックと言われたりします。なんかこわいというか何故おじさん世代から見られるのか自分ではわかりません。おじさん世代から好まれる容姿なのでしょうか？私は現在25歳です。最近、気がついたことがあってスーパーなどで40代から60代のおじさん世代からちらっと見られたりします。気のせいだと思っていたのですが、母と一緒に出掛けたときに母から「さっき60代くらいの男の人があんたのこと見てたで、前も40代くらいの男の人もちらっと見てたことあったで」と言われたので気のせいではないみたいです。でも、逆に自分と同年代の男性や学生くらいの男性にはほとんど見られたことはないです。私は身長が170くらいあって顔立ちが派手でハーフと間違えられたりエキゾチックと言われたりします。なんかこわいというか何故おじさん世代から見られるのか自分ではわかりません。おじさん世代から好まれる容姿なのでしょうか？本日牛丼チェーン店で昼食をとり、お会計をしたところ、「おい、並んでるんだけど」とものすごい圧を僕にかけ怒鳴られました。その牛丼チェーン店ではレジが２つあり、テイクアウトと普通の会計に分かれているものだと勝手に思っていました(どっちもできるのかもしれないけど)。片方にはテイクアウト目的の人達がかなり並んでおり、もう片方のレジはひとりもいなかったためそこで会計をしようとしたところ、２つのレジの真ん中にたっていたおじさんに怒鳴られました。私は、「並んでいたんですね、すみません」と言いましたが、「もういいよやれよ」と言われたので先に済まさせて頂きました。その後もいらいらが僕は止まりません。テイクアウトもお会計も両方できるレジだったとしても並んでいたなら僕がそこで会計を先に済ませるのは間違っています。しかし、僕がおじさんの前に入った時点で並んでるんですけどと一言言えば良くないですか？わざわざ会計してる最中に怒鳴られても。と思います。真ん中に立ってどっちに並んでいるのかも分からないような位置にいて。どうおもいますか？すっきりしません。あの人にもう一度会って謝りたいですし、こっちの思いも聞いて欲しいです。本日牛丼チェーン店で昼食をとり、お会計をしたところ、「おい、並んでるんだけど」とものすごい圧を僕にかけ怒鳴られました。その牛丼チェーン店ではレジが２つあり、テイクアウトと普通の会計に分かれているものだと勝手に思っていました(どっちもできるのかもしれないけど)。片方にはテイクアウト目的の人達がかなり並んでおり、もう片方のレジはひとりもいなかったためそこで会計をしようとしたところ、２つのレジの真ん中にたっていたおじさんに怒鳴られました。私は、「並んでいたんですね、すみません」と言いましたが、「もういいよやれよ」と言われたので先に済まさせて頂きました。その後もいらいらが僕は止まりません。テイクアウトもお会計も両方できるレジだったとしても並んでいたなら僕がそこで会計を先に済ませるのは間違っています。しかし、僕がおじさんの前に入った時点で並んでるんですけどと一言言えば良くないですか？わざわざ会計してる最中に怒鳴られても。と思います。真ん中に立ってどっちに並んでいるのかも分からないような位置にいて。どうおもいますか？すっきりしません。あの人にもう一度会って謝りたいですし、こっちの思いも聞いて欲しいです。私は賃貸アパートの一階に住んで居るのですが、先日近所のおじさんから私の隣の家の木の剪定のために私の家のベランダに入っても良いかと聞かれました。その次の日私の帰りをおじさんが待っていて、お宅のベランダに置いてある苺の苗が気になって鉢と肥料を持ってきたと言うのです。苺の苗は職場の友人にもらい置いてありました。おじさんは、白菜の漬物を漬ける桶が使わなくなったから丁度いいと思い持ってきてあげたよと得意気に話しました。ここできっぱり断れば良かったのですが断りきれず貰ってしまいました。ベランダまで運んでくれ洗濯物を干す時に便利な台がある…とおじさんは話し私は話半分で聞いていたのですが週末家に居たところ窓越しにベランダに人気を感じそーっと見ると、板を運び込んでいるおじさんが見えました。勝手に入ってきていました。ベランダなので洗濯物も干してあるのに洗濯物をかき分けおじさんは立っていました。持ってきた台は台と言うか渡り廊下のような大きなすのこのような物で50×200センチ位ありました。得意気でどこに置く?この辺?と言い去って行きました。数日たち仕事から帰り洗濯物を入れようとベランダに出たら何と１枚だった渡り廊下のようなすのこが２枚になっているんです。やられた…と思いました。また勝手にベランダに入り勝手に置いて行ったのです。作業中に洗濯物も動かした様で位置がずれているし本当に気持ち悪くてショックです。初めにキッパリ断っていれば良かったのですがどうしていいかわかりません。直接言った方がいいのか、どんな言葉で伝えればいいのか、ご近所の方なのでこれからも会うことになります。だからなるべく問題無い方向で伝えたいのですが、何か良い伝え方がありましたらアドバイス頂きたいと思っています。お願いします。私は賃貸アパートの一階に住んで居るのですが、先日近所のおじさんから私の隣の家の木の剪定のために私の家のベランダに入っても良いかと聞かれました。その次の日私の帰りをおじさんが待っていて、お宅のベランダに置いてある苺の苗が気になって鉢と肥料を持ってきたと言うのです。苺の苗は職場の友人にもらい置いてありました。おじさんは、白菜の漬物を漬ける桶が使わなくなったから丁度いいと思い持ってきてあげたよと得意気に話しました。ここできっぱり断れば良かったのですが断りきれず貰ってしまいました。ベランダまで運んでくれ洗濯物を干す時に便利な台がある…とおじさんは話し私は話半分で聞いていたのですが週末家に居たところ窓越しにベランダに人気を感じそーっと見ると、板を運び込んでいるおじさんが見えました。勝手に入ってきていました。ベランダなので洗濯物も干してあるのに洗濯物をかき分けおじさんは立っていました。持ってきた台は台と言うか渡り廊下のような大きなすのこのような物で50×200センチ位ありました。得意気でどこに置く?この辺?と言い去って行きました。数日たち仕事から帰り洗濯物を入れようとベランダに出たら何と１枚だった渡り廊下のようなすのこが２枚になっているんです。やられた…と思いました。また勝手にベランダに入り勝手に置いて行ったのです。作業中に洗濯物も動かした様で位置がずれているし本当に気持ち悪くてショックです。初めにキッパリ断っていれば良かったのですがどうしていいかわかりません。直接言った方がいいのか、どんな言葉で伝えればいいのか、ご近所の方なのでこれからも会うことになります。だからなるべく問題無い方向で伝えたいのですが、何か良い伝え方がありましたらアドバイス頂きたいと思っています。お願いします。土曜の夕方、車で郵便局に行ったら、駐車場が満車で、5〜6台が道路沿いに並んでいました。なので、私も車を出来るだけ左に寄せて、ハザードを付けて並んで待っていました。私の後ろにも数台が並んでいたと思います。やっと私が先頭になりもうすぐだと思い待っていたら、対向車のおじさんが、大声で何やら叫んで来ました。窓を開けると、「お前のせいで渋滞になっとるやないか！警察に通報するぞ‼︎」と怒られました。確かに、片道一車線ずつの道だったので、郵便局に入らない後ろの車は、対向車が来ないか確認しながら、中央線辺りを通って追い越していましたが、その日中に郵便局に荷物を取りに行かなきゃいけなかったので、迷惑を承知で並んでいました。そのおじさんはそのまま走って行きましたが、私はどの様にしたら、良かったのでしょうか？土曜の夕方、車で郵便局に行ったら、駐車場が満車で、5〜6台が道路沿いに並んでいました。なので、私も車を出来るだけ左に寄せて、ハザードを付けて並んで待っていました。私の後ろにも数台が並んでいたと思います。やっと私が先頭になりもうすぐだと思い待っていたら、対向車のおじさんが、大声で何やら叫んで来ました。窓を開けると、「お前のせいで渋滞になっとるやないか！警察に通報するぞ‼︎」と怒られました。確かに、片道一車線ずつの道だったので、郵便局に入らない後ろの車は、対向車が来ないか確認しながら、中央線辺りを通って追い越していましたが、その日中に郵便局に荷物を取りに行かなきゃいけなかったので、迷惑を承知で並んでいました。そのおじさんはそのまま走って行きましたが、私はどの様にしたら、良かったのでしょうか？26歳です。43歳の男性と社内恋愛で結婚を視野にお付き合いしていましたが、2ヶ月前にもう色々と限界、と振られました。限界になった理由は、仕事でのとストレスを受けて私生活との両立が難しくなったためで、私の存在が彼女として今は見れないと言われました。さらに親から結婚のプレッシャーをかけられてて、その時に私と付き合っているということを言えなかった、君に彼女として文句は何一つないけど出来れば他の人探したい、仕事安定させて私生活が落ち着いてまだ自分に新しい人がいなければ、また考えてもいい、という何かよく分からないことを言われてしまいました。その時は別れたい、とはっきり言われたわけではなくパニックだったので、待ってると言いました。でも冷静によく考えたらおかし過ぎますよね…色々と。本当に…はぁ…振られる2週間前には将来の話しもしてて、相手の持病も年齢差も仕事も家族のことも全て理解して受け入れて本当に心の底からこの人と将来一緒に家族になりたいと思っていたのでもう喪失感が半端じゃなくひどく、なかなか切り替えられません…男性は他にもいるってのはわかってるんですけどね…その後も頼っていいからとかいうわりに、LINEも返事しないし…こんな優柔不断のひっどい人のどこが良いのかわからないんですけど、それでもまだ嫌いになれないしどこかで期待してしまう自分が情けないです。職場のすぐ後ろの席なので切り替えつかないってのもあるんですけど…あんなワケアリのおじさん私以外に誰が結婚してあげるんーーー？！って感じです。すみません。愚痴です。読んでくださった方、ありがとうございました。\n",
      "<_io.TextIOWrapper name='komachi.txt' mode='a' encoding='UTF-8'>\n"
     ]
    }
   ],
   "source": [
    "\n",
    "load_url = 'https://komachi.yomiuri.co.jp/topics/id/1037499/'\n",
    "html = requests.get(load_url)\n",
    "soup9=BeautifulSoup(html.content,\"html.parser\")\n",
    "\n",
    "topic9= soup9.find(class_ = 'topicsId__articleContentText')\n",
    "#for element in topic.find_all(\"br\"):\n",
    " #   print(element.text)\n",
    "#print(topic.text)\n",
    "\n",
    "print('---追記前--')\n",
    "with open('komachi.txt','r') as f:\n",
    "    print(f.read())\n",
    "with open('komachi.txt', 'a') as f:\n",
    "#f.writelines(topic.text)\n",
    "    f.write(topic9.text/n)\n",
    "    print(f)\n",
    "    f.close "
   ]
  },
  {
   "cell_type": "code",
   "execution_count": 149,
   "id": "f4acd59c",
   "metadata": {},
   "outputs": [
    {
     "name": "stdout",
     "output_type": "stream",
     "text": [
      "---追記前--\n",
      "　地方暮らしの29歳。娘二人、婿旦那、両親、祖母と4世代7人暮らしです\n",
      "私の家は地方の兼業農家で、今の田畑はそんなに多くはないのですが、江戸時代から続く家で、私はその家の三姉妹の末っ子です子供の頃から三人の内、誰かが婿を取って、家を継いで欲しいと言われてきました。上の姉は早々に結婚して、年子の姉も東京で就職し、地元に戻る気はないと言っていたので、私は専門学校卒業後、地元に戻って就職し、結婚相談所で紹介された旦那と24歳で結婚しました旦那は7歳年上で、知り合った当初は婿に入るのに難色を示していたのですが、結婚してからは、子煩悩で、真面目に仕事もしてくれるし、土日休日は両親や私と一緒に田んぼや畑もしてくれます去年、コロナの影響で、東京で働いていた姉が帰ってきました。すぐに東京に戻って再就職するだろうと考えていたのですが、無職のまま、既に1年以上経っています姉の「男の子産まないの？」「二世帯住宅にすればいいのに」など、我が家の経済状況を無視した無神経なイライラ話や「こっちで結婚しようかな。誰か紹介してよ」などの現実離れした話も我慢して来ました。でも、先週、とうとう爆発してしまいました旦那が風呂上りに風呂場から私たちの部屋まで半裸で動き回るのが気に入らないと言い出したのです私も「気に入らないんだったら、出てけば」「ここはもうあんたの家じゃないの」「30にもなって、仕事も貯金もなくて、結婚もできないくせに、なに言ってんのよ」と応戦してしまいましたその日は、旦那のとりなしもあったので、怒りを鎮めましたが、上の姉から電話があり「あんまり、下の姉を責めないで」という言葉と私を咎める話を聞いて、本当に全てが嫌になりました絶対姉を追い出したいです。我慢できません。どうすればいいでしょうか？追い出せないんだったら、私たちが出ていこうと思っています\n",
      "地方暮らしの29歳。娘二人、婿旦那、両親、祖母と4世代7人暮らしです私の家は地方の兼業農家で、今の田畑はそんなに多くはないのですが、江戸時代から続く家で、私はその家の三姉妹の末っ子です子供の頃から三人の内、誰かが婿を取って、家を継いで欲しいと言われてきました。上の姉は早々に結婚して、年子の姉も東京で就職し、地元に戻る気はないと言っていたので、私は専門学校卒業後、地元に戻って就職し、結婚相談所で紹介された旦那と24歳で結婚しました旦那は7歳年上で、知り合った当初は婿に入るのに難色を示していたのですが、結婚してからは、子煩悩で、真面目に仕事もしてくれるし、土日休日は両親や私と一緒に田んぼや畑もしてくれます去年、コロナの影響で、東京で働いていた姉が帰ってきました。すぐに東京に戻って再就職するだろうと考えていたのですが、無職のまま、既に1年以上経っています姉の「男の子産まないの？」「二世帯住宅にすればいいのに」など、我が家の経済状況を無視した無神経なイライラ話や「こっちで結婚しようかな。誰か紹介してよ」などの現実離れした話も我慢して来ました。でも、先週、とうとう爆発してしまいました旦那が風呂上りに風呂場から私たちの部屋まで半裸で動き回るのが気に入らないと言い出したのです私も「気に入らないんだったら、出てけば」「ここはもうあんたの家じゃないの」「30にもなって、仕事も貯金もなくて、結婚もできないくせに、なに言ってんのよ」と応戦してしまいましたその日は、旦那のとりなしもあったので、怒りを鎮めましたが、上の姉から電話があり「あんまり、下の姉を責めないで」という言葉と私を咎める話を聞いて、本当に全てが嫌になりました絶対姉を追い出したいです。我慢できません。どうすればいいでしょうか？追い出せないんだったら、私たちが出ていこうと思っています\n",
      "地方暮らしの29歳。娘二人、婿旦那、両親、祖母と4世代7人暮らしです私の家は地方の兼業農家で、今の田畑はそんなに多くはないのですが、江戸時代から続く家で、私はその家の三姉妹の末っ子です子供の頃から三人の内、誰かが婿を取って、家を継いで欲しいと言われてきました。上の姉は早々に結婚して、年子の姉も東京で就職し、地元に戻る気はないと言っていたので、私は専門学校卒業後、地元に戻って就職し、結婚相談所で紹介された旦那と24歳で結婚しました旦那は7歳年上で、知り合った当初は婿に入るのに難色を示していたのですが、結婚してからは、子煩悩で、真面目に仕事もしてくれるし、土日休日は両親や私と一緒に田んぼや畑もしてくれます去年、コロナの影響で、東京で働いていた姉が帰ってきました。すぐに東京に戻って再就職するだろうと考えていたのですが、無職のまま、既に1年以上経っています姉の「男の子産まないの？」「二世帯住宅にすればいいのに」など、我が家の経済状況を無視した無神経なイライラ話や「こっちで結婚しようかな。誰か紹介してよ」などの現実離れした話も我慢して来ました。でも、先週、とうとう爆発してしまいました旦那が風呂上りに風呂場から私たちの部屋まで半裸で動き回るのが気に入らないと言い出したのです私も「気に入らないんだったら、出てけば」「ここはもうあんたの家じゃないの」「30にもなって、仕事も貯金もなくて、結婚もできないくせに、なに言ってんのよ」と応戦してしまいましたその日は、旦那のとりなしもあったので、怒りを鎮めましたが、上の姉から電話があり「あんまり、下の姉を責めないで」という言葉と私を咎める話を聞いて、本当に全てが嫌になりました絶対姉を追い出したいです。我慢できません。どうすればいいでしょうか？追い出せないんだったら、私たちが出ていこうと思っています\n",
      "40代、5歳の子を持つ主婦です。夫は会社員ですが、自分達が食べる分くらいのお米を作っています。タイトルの友達とは中学時代から20年以上の付き合いになります。彼女も主婦で3人の子供がいます。数年前からその友達がうちからお米を買うようになって新米ができると連絡して取りに来てもらっていました。1年分まとめて買ってもらうので、スーパーなどで買うよりはだいぶ安い値段にしています。去年の9月も新米ができたと連絡し取りに来てもらうことになっていました。ところがお米を取りに来る前日に友達から「明日うちの旦那が釣りに出かけていないから良かったら遊びに来ない？」と LINEがあったので遊びに行くことにし、ついでにお米も持っていくことにしたんです。当日お米と手土産のケーキを持って友達の家に向かい、腰が痛いという友達の代わりに30kgの米袋5袋を車から家に運びました。友達の子供達とうちの子は久しぶりの対面に嬉しそうで一緒に走り回っていました。ここまではいいのですが、着いてからお茶のひとつも出てきません。招待しておいてお茶も出さないの？とちょっとモヤモヤした気持ちになりました。久しぶりにおしゃべりしよ〜！という割には会話は弾まないしなにも出ないし走り回っていた子供が喉が乾いたようなので1時間も経たないくらいで帰ることにしました。するとその友達が一言、「何のお構いもしませんで〜。」きっと最初からお茶を出す気はなかったんですね…今まで遊びに行ってそんな対応をされたことがなかったのでモヤモヤと共にショックでした。お米を安くしていることにも手土産を持っていったことにもお米を運んだことにもお礼の言葉がなかったことにもモヤモヤ…私は仲のいい友達と認識していましたが友達はそうは思っていなかったのかも？今後の付き合い方をどうすればいいのか悩んでいます。\n",
      "交際2年の彼女からもう泊まりに来ないでと言われました。当方35歳です。付き合ってからほぼ毎週末、彼女の家で過ごしていました。喧嘩もなくとても仲良くしてきたと思っています。先日彼女から泊まり拒否の申し出を受け、理由を聞いたところ結婚もしていないのに毎週末男性が部屋に出入りするのは世間的にも良くないと思う。少しだけ離れて距離を保った付き合いをしたい。と言われました。聞いた時は彼女の気持ちが冷めたのかとショックでしたが、それ以降も会えば今まで通りの彼女ですし、心変わりなどもなさそうです。僕が家へ帰るときも、彼女は寂しそうにしています。好きで一緒にいたいのに泊まりの拒否をする彼女の気持があまり理解できません。小町の皆様、彼女の気持ちを教えてください。また、どうすれば以前のように泊まりを含めたデートができるようになるでしょうか。よろしくお願いします。\n",
      "交際2年の彼女からもう泊まりに来ないでと言われました。当方35歳です。付き合ってからほぼ毎週末、彼女の家で過ごしていました。喧嘩もなくとても仲良くしてきたと思っています。先日彼女から泊まり拒否の申し出を受け、理由を聞いたところ結婚もしていないのに毎週末男性が部屋に出入りするのは世間的にも良くないと思う。少しだけ離れて距離を保った付き合いをしたい。と言われました。聞いた時は彼女の気持ちが冷めたのかとショックでしたが、それ以降も会えば今まで通りの彼女ですし、心変わりなどもなさそうです。僕が家へ帰るときも、彼女は寂しそうにしています。好きで一緒にいたいのに泊まりの拒否をする彼女の気持があまり理解できません。小町の皆様、彼女の気持ちを教えてください。また、どうすれば以前のように泊まりを含めたデートができるようになるでしょうか。よろしくお願いします。\n",
      "小学４年生の子どもがいます。幼稚園の頃からの友達が３人おり、毎週、順番に子どもたちを家で遊ばせていて、その間、私たち母親は、会話を楽しんでいます。その中の一人Aさんについて、相談があります。無口過ぎるのです。私たちのおしゃべりを聴いてはいるのですが、頭の回転が鈍いのか、聞くだけです。それなのに、時々、マウントのように聞こえることを言い（〇〇の△△は美味しいですよね、とか）、文脈関係ない話も飛び出してきて、反応に困ります。大学、仕事のことは、一切話しません。私、Ｂ、Ｃは気にせず話しますが、Ａだけは、あいまいに濁され、話してくれません。帰国子女か留学していたようで、無理にではないけれど、色々聞いてみたいのですが、隠す理由がわかりません。心を開いてくれていない気がして、疲れます。なぜ私たちと一緒にいるのだろう？利用してるだけ？もしかして、本当はグループを抜けたいけど、言い出しにくいのか？とイライラします。だから、４年生に進級するタイミングで、「中学受験や、お稽古事の都合もあるだろうから、そちらの都合を優先してもらっていいよ。無理して来なくてもいいよ。」と再三言ったのですが、相変わらず来ます。私の本心は伝わっているはずです。Ａは転勤族なので、遅かれ早かれ、いなくなります。中学生になれば、忙しくなるし、子供たちも親ぬきで遊ぶようになるでしょう。二度と会うこともないと思います。もう一度、Ａに「グループを抜けてもいいよ。」と言うつもりですが、どう言ったらわかってもらえますか？\n",
      "小学４年生の子どもがいます。幼稚園の頃からの友達が３人おり、毎週、順番に子どもたちを家で遊ばせていて、その間、私たち母親は、会話を楽しんでいます。その中の一人Aさんについて、相談があります。無口過ぎるのです。私たちのおしゃべりを聴いてはいるのですが、頭の回転が鈍いのか、聞くだけです。それなのに、時々、マウントのように聞こえることを言い（〇〇の△△は美味しいですよね、とか）、文脈関係ない話も飛び出してきて、反応に困ります。大学、仕事のことは、一切話しません。私、Ｂ、Ｃは気にせず話しますが、Ａだけは、あいまいに濁され、話してくれません。帰国子女か留学していたようで、無理にではないけれど、色々聞いてみたいのですが、隠す理由がわかりません。心を開いてくれていない気がして、疲れます。なぜ私たちと一緒にいるのだろう？利用してるだけ？もしかして、本当はグループを抜けたいけど、言い出しにくいのか？とイライラします。だから、４年生に進級するタイミングで、「中学受験や、お稽古事の都合もあるだろうから、そちらの都合を優先してもらっていいよ。無理して来なくてもいいよ。」と再三言ったのですが、相変わらず来ます。私の本心は伝わっているはずです。Ａは転勤族なので、遅かれ早かれ、いなくなります。中学生になれば、忙しくなるし、子供たちも親ぬきで遊ぶようになるでしょう。二度と会うこともないと思います。もう一度、Ａに「グループを抜けてもいいよ。」と言うつもりですが、どう言ったらわかってもらえますか？\n",
      "お姑さんと同居、主人、小学生の２人兄弟の男の子の5人家族です。先日、夕飯にサバの味噌煮を出しました。主人のお給料日だったので、魚屋さんに行っていつもより高品質、大きめのサバです。味噌煮は子どもたちも大好きだったので、ペロリと平らげてくれました。とそこへ、姑が「冷凍のサバの味噌煮なんてやめてくださる？」と、、。私「え？これは今日買ってきた生のさばですけど。。」姑「こんなにきれいに味噌煮なんてできないけど。」私「いえ、これは本当に冷凍じゃありません!!レシート見ますか？」主人「もういいからお前はだまってろよ！」私「え？私がいけないの？もっと汚く作ればよかったですね、すみませんでした!!」普段から料理に失敗したら文句、家族のことを考えてないだのなんだの言っていて、上手くできてもこんな文句か、、とイライラしてしまいました。こういうときはどう対処すればいいのでしょうか？最近イライラがとまりません。かわす、ことをおさめる方法がなかなか思い付きません。以前にも炊き込みご飯を出したら出来合いのものを混ぜないで！といきなり皆の前でおこられました。違います、、手作りです。。ちなみに敷地内に義弟夫婦がおり、週の半分ご飯を食べにくるので、緊急対処用に冷凍の魚類は置いてあります。たぶん、それを疑ってのことだと思います。お姑さんと同居、主人、小学生の２人兄弟の男の子の5人家族です。先日、夕飯にサバの味噌煮を出しました。主人のお給料日だったので、魚屋さんに行っていつもより高品質、大きめのサバです。味噌煮は子どもたちも大好きだったので、ペロリと平らげてくれました。とそこへ、姑が「冷凍のサバの味噌煮なんてやめてくださる？」と、、。私「え？これは今日買ってきた生のさばですけど。。」姑「こんなにきれいに味噌煮なんてできないけど。」私「いえ、これは本当に冷凍じゃありません!!レシート見ますか？」主人「もういいからお前はだまってろよ！」私「え？私がいけないの？もっと汚く作ればよかったですね、すみませんでした!!」普段から料理に失敗したら文句、家族のことを考えてないだのなんだの言っていて、上手くできてもこんな文句か、、とイライラしてしまいました。こういうときはどう対処すればいいのでしょうか？最近イライラがとまりません。かわす、ことをおさめる方法がなかなか思い付きません。以前にも炊き込みご飯を出したら出来合いのものを混ぜないで！といきなり皆の前でおこられました。違います、、手作りです。。ちなみに敷地内に義弟夫婦がおり、週の半分ご飯を食べにくるので、緊急対処用に冷凍の魚類は置いてあります。たぶん、それを疑ってのことだと思います。40代未婚の正社員です。この春他社から出向してきた後輩の男性社員が机の上に妻子の写真を額縁に入れて飾っており、結婚も出産も断念せざるを得なかった身としては、自分との差を思い知らされるようで大変辛いです。当社は室単位で仕事を行い、従って部屋も室ごとに分かれており、アットホーム逆にいえば閉鎖的な環境です。さりげなく「奥さんとお子さん？かわいいね。家族の写真飾ってる人なんて初めて見たけど、なんでわざわざ仕事中まで置いとくの？」と聞いたら、「愛する妻子の顔を見ていると仕事に精が出るからですよ」と答えました。「家庭に恵まれて幸せものねえ」と茶化して返しましたが、内心惨めさでいっぱいでした。「旦那さんはどんなお仕事されてるんですか？」と彼に聞かれることがあったので「結婚歴はありません、もう結婚も出産も諦めました、仕事が旦那です（笑）」と茶化しながら言いましたし、内心を察して写真を飾るのをやめてほしかったのですが、一向に意に介してないようです。彼は私の10個ほど年下。最近子供が生まれたばかりで、かわいくて仕方ないようで、何かにつけのろけ話が出てきて、私に対するあてつけなのではないかとすら思えてきてしまいました。数週間前から、朝一番早く来て、その写真をパタンと伏せるようにしました。当然彼はまたそれを立て掛けますが、何日も続けることで気づいてほしかったんです。しかし気付かず「毎朝写真が倒れてるんだけど、なんでだろう？」等と同僚に聞いています。とある先輩から「あいつに写真飾るのやめろって言おうか？」と聞かれ、気づかれていたことが分かりました。醜い内心を見抜かれて恥ずかしかったので「そんなことは言わなくていい」と言いましたが、頼んだ方がよかったのでしょうか。それとも私自ら辞めてと言うべきでしょうか。それともいちいち気にする方がおかしいのでしょうか。40代未婚の正社員です。この春他社から出向してきた後輩の男性社員が机の上に妻子の写真を額縁に入れて飾っており、結婚も出産も断念せざるを得なかった身としては、自分との差を思い知らされるようで大変辛いです。当社は室単位で仕事を行い、従って部屋も室ごとに分かれており、アットホーム逆にいえば閉鎖的な環境です。さりげなく「奥さんとお子さん？かわいいね。家族の写真飾ってる人なんて初めて見たけど、なんでわざわざ仕事中まで置いとくの？」と聞いたら、「愛する妻子の顔を見ていると仕事に精が出るからですよ」と答えました。「家庭に恵まれて幸せものねえ」と茶化して返しましたが、内心惨めさでいっぱいでした。「旦那さんはどんなお仕事されてるんですか？」と彼に聞かれることがあったので「結婚歴はありません、もう結婚も出産も諦めました、仕事が旦那です（笑）」と茶化しながら言いましたし、内心を察して写真を飾るのをやめてほしかったのですが、一向に意に介してないようです。彼は私の10個ほど年下。最近子供が生まれたばかりで、かわいくて仕方ないようで、何かにつけのろけ話が出てきて、私に対するあてつけなのではないかとすら思えてきてしまいました。数週間前から、朝一番早く来て、その写真をパタンと伏せるようにしました。当然彼はまたそれを立て掛けますが、何日も続けることで気づいてほしかったんです。しかし気付かず「毎朝写真が倒れてるんだけど、なんでだろう？」等と同僚に聞いています。とある先輩から「あいつに写真飾るのやめろって言おうか？」と聞かれ、気づかれていたことが分かりました。醜い内心を見抜かれて恥ずかしかったので「そんなことは言わなくていい」と言いましたが、頼んだ方がよかったのでしょうか。それとも私自ら辞めてと言うべきでしょうか。それともいちいち気にする方がおかしいのでしょうか。60代の主婦です。夫:60代。現在再雇用で一般企業勤務A子:20代半ば。夫の勤務先の社員。夫と同じ部署→人事異動で他部署に異動先日、夫から突然離婚を切り出されました。理由を聞くと「A子のことが好きになった。異動してから悩んでいることが多くて、相談を持ちかけられたり、食事に誘ったら来てくれたりする。下ネタを言ってみても照れたりするから多分脈アリだ」とのことでした。たしかに夫とA子が2人で食事に行っていることは知っていました。しかし、それを許可していたのは夫が「A子から相談したいことがあると言われたから話を聞いてくる」と言っていたからです。夫が話を聞くことで少しでもA子が楽になるならという思いでした。親子ほど年齢の離れた2人が、まさかそんなことになるとはと私も動揺しており、すぐに夫の携帯からA子に電話をかけさせました。電話に出たA子を問い詰めたところ・相談なんて持ちかけたことはない・食事を断らなかったのは、社会人としての礼儀だと思った。2人で行ったのは確かに軽率だったかもしれないが、自分の親ほどの年齢の人に誘われて断れなかった。あくまでも同僚として、人生の先輩として尊敬していただけ・大体、親子ほど離れてる人に好意を持つわけないでしょう。現実を見てください。こんな時間に電話をかけてきて迷惑です(確かに平日の夜でした)・食事に行こうとか、一人暮らしの私の家に行きたいとかの電話や下ネタがあまりにもしつこいので迷惑してました。この電話があったこと含めてハラスメント担当者に話しますと言われました。夫からA子に「それだけはやめてくれ。穏便にすませよう」と伝えてA子もそれで了承したので、その時は電話を切りました。続きます60代の主婦です。夫:60代。現在再雇用で一般企業勤務A子:20代半ば。夫の勤務先の社員。夫と同じ部署→人事異動で他部署に異動先日、夫から突然離婚を切り出されました。理由を聞くと「A子のことが好きになった。異動してから悩んでいることが多くて、相談を持ちかけられたり、食事に誘ったら来てくれたりする。下ネタを言ってみても照れたりするから多分脈アリだ」とのことでした。たしかに夫とA子が2人で食事に行っていることは知っていました。しかし、それを許可していたのは夫が「A子から相談したいことがあると言われたから話を聞いてくる」と言っていたからです。夫が話を聞くことで少しでもA子が楽になるならという思いでした。親子ほど年齢の離れた2人が、まさかそんなことになるとはと私も動揺しており、すぐに夫の携帯からA子に電話をかけさせました。電話に出たA子を問い詰めたところ・相談なんて持ちかけたことはない・食事を断らなかったのは、社会人としての礼儀だと思った。2人で行ったのは確かに軽率だったかもしれないが、自分の親ほどの年齢の人に誘われて断れなかった。あくまでも同僚として、人生の先輩として尊敬していただけ・大体、親子ほど離れてる人に好意を持つわけないでしょう。現実を見てください。こんな時間に電話をかけてきて迷惑です(確かに平日の夜でした)・食事に行こうとか、一人暮らしの私の家に行きたいとかの電話や下ネタがあまりにもしつこいので迷惑してました。この電話があったこと含めてハラスメント担当者に話しますと言われました。夫からA子に「それだけはやめてくれ。穏便にすませよう」と伝えてA子もそれで了承したので、その時は電話を切りました。続きます年末から、県外に進学していた娘が、今年成人式ということもあり久しぶりに帰ってきました。本当に久しぶりの帰郷なので、娘は「今日は中学時代の友人」「明日は高校時代の友人」「週末は部活の友人」･･･という感じで、会うメンバーをチェンジしながら旧交を温めていました。そんな中、ご近所に住む方（＝Ａさん）が娘の成人のお祝いをあげたいと連絡くださいました。その方とは家族ぐるみのお付き合いをしていたので（最近は子どもが大きくなり疎遠にはなってますが）どうぞ我が家で夕飯をご一緒しましょうとお誘いしました。この食事会は約２週間前のことで、まだオミクロンは今ほど猛威をふるっていませんでした。しかし、食事会の２日後、娘が発熱してしまいコロナと診断されてしまいました。飲食を共にしたＡさんにすぐに連絡し、恐らく濃厚接触者にあたるので検査をして欲しいとお願いしました。幸いにもＡさんご家族は全員陰性でしたが、やはり濃厚接触者になると宣告され、１０日間の自宅待機生活になるそうで、申し訳なさでいっぱいになりました。最初、Ａさんは、「感染したのは娘ちゃんが悪いわけではないから気にしないで。」と言っていたのですが、うっかり、実は娘はワクチン未接種であること、帰郷後、飲み歩いていたことを話したところ、態度が一変してしまったのです。検査代が家族分で２万円近くかかった。（検査自体は公費ですが病院の初診料等がかかった。）パートを休まざるを得なくなり職場に迷惑を掛けたし、給料が減額される。娘ちゃんが、ワクチン未接種なのに迂闊な行動をしていたと知っていたら、お宅に行くことはなかったのに。などなど、直接的な言葉ではありませんが、上記のようなことを言われてしまいました。Ａさんが支払った検査代を負担すべきでしょうか？年末から、県外に進学していた娘が、今年成人式ということもあり久しぶりに帰ってきました。本当に久しぶりの帰郷なので、娘は「今日は中学時代の友人」「明日は高校時代の友人」「週末は部活の友人」･･･という感じで、会うメンバーをチェンジしながら旧交を温めていました。そんな中、ご近所に住む方（＝Ａさん）が娘の成人のお祝いをあげたいと連絡くださいました。その方とは家族ぐるみのお付き合いをしていたので（最近は子どもが大きくなり疎遠にはなってますが）どうぞ我が家で夕飯をご一緒しましょうとお誘いしました。この食事会は約２週間前のことで、まだオミクロンは今ほど猛威をふるっていませんでした。しかし、食事会の２日後、娘が発熱してしまいコロナと診断されてしまいました。飲食を共にしたＡさんにすぐに連絡し、恐らく濃厚接触者にあたるので検査をして欲しいとお願いしました。幸いにもＡさんご家族は全員陰性でしたが、やはり濃厚接触者になると宣告され、１０日間の自宅待機生活になるそうで、申し訳なさでいっぱいになりました。最初、Ａさんは、「感染したのは娘ちゃんが悪いわけではないから気にしないで。」と言っていたのですが、うっかり、実は娘はワクチン未接種であること、帰郷後、飲み歩いていたことを話したところ、態度が一変してしまったのです。検査代が家族分で２万円近くかかった。（検査自体は公費ですが病院の初診料等がかかった。）パートを休まざるを得なくなり職場に迷惑を掛けたし、給料が減額される。娘ちゃんが、ワクチン未接種なのに迂闊な行動をしていたと知っていたら、お宅に行くことはなかったのに。などなど、直接的な言葉ではありませんが、上記のようなことを言われてしまいました。Ａさんが支払った検査代を負担すべきでしょうか？誰かに話を聞いて頂きたいと思い、長くなりますが聞いてください。昨日一年半弱お付き合いした彼と別れました。私は33歳、彼は39歳です。彼とは笑いのツボも合い、家族に対する考え方等が自分と近い事もあり、良き相談相手でもありました。会うのは週末一緒に過ごし、月曜は彼の家から仕事へ行くのがルーティンでした。お互い疲れている日はゆっくりしようと言えるくらいの仲でした。付き合った当初は本当に紳士的でこんな完璧な人いるのか？と思うくらいでした。笑しかし、最近は喧嘩のスパンが増えてきてよくよく考えると殆ど同じ事で喧嘩していました。彼はとても連絡がマメで、仕事終わり、出かける際も何時頃には帰るよ→今家着いたよ等の連絡は欠かさない人でした。私はマメな方では無く、彼と同じように連絡をして欲しいと言われていたので、心がけていました。仕事の時は、仕事が終わった事、無事家についた事。これは必ずしていました。しかし生理前や、仕事が遅くなって疲れてたりすると、うっかり家に着いたよの連絡を忘れてしまった事が数ヶ月に一回あったんです。(彼が次の日仕事で早く、もう寝ると先にLINEが来た日にそうなりがちです。起きている時は必ず連絡します)友達とご飯に行く際も、彼からのLINEに対して後で返そうと思っても、連絡のラリーが途絶えた事ですごく怒られた事もありました。彼は相手を心配させないようにと言う思いがとても強いので、マメに連絡してくれているのはわかりますし、私も彼と付き合ってその方が良いと思ってそうしてきました。ただ根本の性格を変える事は難しく努力していても状況によって、する気分になれない時もあります。今回は彼が寝てる状態で、帰ったよ！の連絡をせず、次の日LINEした事によって怒ってしまいました。続きます↓誰かに話を聞いて頂きたいと思い、長くなりますが聞いてください。昨日一年半弱お付き合いした彼と別れました。私は33歳、彼は39歳です。彼とは笑いのツボも合い、家族に対する考え方等が自分と近い事もあり、良き相談相手でもありました。会うのは週末一緒に過ごし、月曜は彼の家から仕事へ行くのがルーティンでした。お互い疲れている日はゆっくりしようと言えるくらいの仲でした。付き合った当初は本当に紳士的でこんな完璧な人いるのか？と思うくらいでした。笑しかし、最近は喧嘩のスパンが増えてきてよくよく考えると殆ど同じ事で喧嘩していました。彼はとても連絡がマメで、仕事終わり、出かける際も何時頃には帰るよ→今家着いたよ等の連絡は欠かさない人でした。私はマメな方では無く、彼と同じように連絡をして欲しいと言われていたので、心がけていました。仕事の時は、仕事が終わった事、無事家についた事。これは必ずしていました。しかし生理前や、仕事が遅くなって疲れてたりすると、うっかり家に着いたよの連絡を忘れてしまった事が数ヶ月に一回あったんです。(彼が次の日仕事で早く、もう寝ると先にLINEが来た日にそうなりがちです。起きている時は必ず連絡します)友達とご飯に行く際も、彼からのLINEに対して後で返そうと思っても、連絡のラリーが途絶えた事ですごく怒られた事もありました。彼は相手を心配させないようにと言う思いがとても強いので、マメに連絡してくれているのはわかりますし、私も彼と付き合ってその方が良いと思ってそうしてきました。ただ根本の性格を変える事は難しく努力していても状況によって、する気分になれない時もあります。今回は彼が寝てる状態で、帰ったよ！の連絡をせず、次の日LINEした事によって怒ってしまいました。続きます↓こんにちは。トピを開いて下さりありがとうございます。50代専業主婦です。週2回数時間程度来られる、70代半ばくらいの男性清掃員の方にモヤモヤしています。とにかく色々タメ口で馴れ馴れしく聞いてきます。初めは挨拶だけでした。ところがしばらくすると、挨拶後「どこ行くん？買い物？」とか「仕事しとん？」など、こちらからは挨拶以外に何も話しかけることはないのに、いちいち聞いてきます。清掃の予定なども勝手に説明してきます。そのうち、「おはようございます」と言えば、「おー」と偉そうに返され、「こんな所にゴミがある。非常識な人がおるもんや」などと愚痴られるようにもなりました。一言二言返してすぐに立ち去るようにしていましたが、お構い無し。鬱陶しいので、挨拶もやめて素通りすることにしました。これで話しかけて来ることは無くなり、しばらくが出くわすこともなかったのですが、先日久しぶりに間近で出くわしました。何か話しかけて来ましたが、私はさっさと立ち去りました。こういうタイプの人はハッキリ言わないと分からないとは思います。もし、若かりし日の私であれば、ズケッと一言で済ましていたでしょう。でも、今はこんな後期高齢者のような方に言うのも如何なものかと思ったりもします。挨拶後、お天気などの一言二言で済ませられる会話ならいいですが、この方の話は鬱陶しいしかありません。頭では放っておくのが1番だと思っていますが、感情がついていかずモヤモヤしてしまいます。やはり、馴れ馴れしく話しかけないでと、はっきり言うしかないのでしょうか·····？こんにちは。トピを開いて下さりありがとうございます。50代専業主婦です。週2回数時間程度来られる、70代半ばくらいの男性清掃員の方にモヤモヤしています。とにかく色々タメ口で馴れ馴れしく聞いてきます。初めは挨拶だけでした。ところがしばらくすると、挨拶後「どこ行くん？買い物？」とか「仕事しとん？」など、こちらからは挨拶以外に何も話しかけることはないのに、いちいち聞いてきます。清掃の予定なども勝手に説明してきます。そのうち、「おはようございます」と言えば、「おー」と偉そうに返され、「こんな所にゴミがある。非常識な人がおるもんや」などと愚痴られるようにもなりました。一言二言返してすぐに立ち去るようにしていましたが、お構い無し。鬱陶しいので、挨拶もやめて素通りすることにしました。これで話しかけて来ることは無くなり、しばらくが出くわすこともなかったのですが、先日久しぶりに間近で出くわしました。何か話しかけて来ましたが、私はさっさと立ち去りました。こういうタイプの人はハッキリ言わないと分からないとは思います。もし、若かりし日の私であれば、ズケッと一言で済ましていたでしょう。でも、今はこんな後期高齢者のような方に言うのも如何なものかと思ったりもします。挨拶後、お天気などの一言二言で済ませられる会話ならいいですが、この方の話は鬱陶しいしかありません。頭では放っておくのが1番だと思っていますが、感情がついていかずモヤモヤしてしまいます。やはり、馴れ馴れしく話しかけないでと、はっきり言うしかないのでしょうか·····？先日　きゅうりを一本買おうとしたところ、おじさんが綺麗に並んでいるきゅうりを下の方から何度も何度も取り出して、選んでました。内心そんなにひっかきまわさないでよ。と思いながら見ていましたら、私にきずきどうぞって言うので一本取って去ろうとしたら、おれがどうぞって言ったんだから何とか言ったらどうだって。私はすみませんって言いましたけど、これっておじさんが言うことではないかと。私も買い物でなるべく新しい物を選んでしまいますが、待っている人がいたら急いで選んで、すみませんっと言って場所をあけますが、皆さんのご意見お聞かせ下さい。先日　きゅうりを一本買おうとしたところ、おじさんが綺麗に並んでいるきゅうりを下の方から何度も何度も取り出して、選んでました。内心そんなにひっかきまわさないでよ。と思いながら見ていましたら、私にきずきどうぞって言うので一本取って去ろうとしたら、おれがどうぞって言ったんだから何とか言ったらどうだって。私はすみませんって言いましたけど、これっておじさんが言うことではないかと。私も買い物でなるべく新しい物を選んでしまいますが、待っている人がいたら急いで選んで、すみませんっと言って場所をあけますが、皆さんのご意見お聞かせ下さい。体力向上・ダイエット目的で土日だけジムに通う20代女性です。タイトルにあるように、今日、ジムでおじさんにフォームのアドバイスを受けました。ああだこうだとうるさい言い方ではありませんでしたが、少し気になることがあったのでこちらに書かせてください。チェストプレスをした後に、肩より手首が低いと肩を痛めるから、同じ高さにした方がいいよ、と言われました。肩痛める前に言ってもらえて良かったです、ありがとうございます、と伝えました。この一言くらいなら良いのですが、一回やってみて、と言われて少しビックリしました。え、誰目線？と思いつつも、一回ポジションにだけ入って、ああこんな感じですね、で終わらせました。直後にスタジオレッスンがあったので、正直足を止めてほしくなかったのです。そのときは、急にごめんね、と言われて終わったのですが、後から段々モヤモヤしてきました。トレーナーでもないのに、素人目で間違っていても勝手にやらせてくれ、と。終始お互いにこやかで、悪い空気も流れませんでしたが、今後もアドバイスを受けることがあれば正直面倒です。しかも相手に悪意はないので尚更。こう思ってしまう私は心が狭いのでしょうか。最近はさとり世代だの何だので、若者の態度が悪く言われることもある中、私も世間的にはその一味に入るのか？と考えてしまいました。また、このように話しかけられたときは、どう対応するのがベストなのでしょうか。体力向上・ダイエット目的で土日だけジムに通う20代女性です。タイトルにあるように、今日、ジムでおじさんにフォームのアドバイスを受けました。ああだこうだとうるさい言い方ではありませんでしたが、少し気になることがあったのでこちらに書かせてください。チェストプレスをした後に、肩より手首が低いと肩を痛めるから、同じ高さにした方がいいよ、と言われました。肩痛める前に言ってもらえて良かったです、ありがとうございます、と伝えました。この一言くらいなら良いのですが、一回やってみて、と言われて少しビックリしました。え、誰目線？と思いつつも、一回ポジションにだけ入って、ああこんな感じですね、で終わらせました。直後にスタジオレッスンがあったので、正直足を止めてほしくなかったのです。そのときは、急にごめんね、と言われて終わったのですが、後から段々モヤモヤしてきました。トレーナーでもないのに、素人目で間違っていても勝手にやらせてくれ、と。終始お互いにこやかで、悪い空気も流れませんでしたが、今後もアドバイスを受けることがあれば正直面倒です。しかも相手に悪意はないので尚更。こう思ってしまう私は心が狭いのでしょうか。最近はさとり世代だの何だので、若者の態度が悪く言われることもある中、私も世間的にはその一味に入るのか？と考えてしまいました。また、このように話しかけられたときは、どう対応するのがベストなのでしょうか。私は現在25歳です。最近、気がついたことがあってスーパーなどで40代から60代のおじさん世代からちらっと見られたりします。気のせいだと思っていたのですが、母と一緒に出掛けたときに母から「さっき60代くらいの男の人があんたのこと見てたで、前も40代くらいの男の人もちらっと見てたことあったで」と言われたので気のせいではないみたいです。でも、逆に自分と同年代の男性や学生くらいの男性にはほとんど見られたことはないです。私は身長が170くらいあって顔立ちが派手でハーフと間違えられたりエキゾチックと言われたりします。なんかこわいというか何故おじさん世代から見られるのか自分ではわかりません。おじさん世代から好まれる容姿なのでしょうか？私は現在25歳です。最近、気がついたことがあってスーパーなどで40代から60代のおじさん世代からちらっと見られたりします。気のせいだと思っていたのですが、母と一緒に出掛けたときに母から「さっき60代くらいの男の人があんたのこと見てたで、前も40代くらいの男の人もちらっと見てたことあったで」と言われたので気のせいではないみたいです。でも、逆に自分と同年代の男性や学生くらいの男性にはほとんど見られたことはないです。私は身長が170くらいあって顔立ちが派手でハーフと間違えられたりエキゾチックと言われたりします。なんかこわいというか何故おじさん世代から見られるのか自分ではわかりません。おじさん世代から好まれる容姿なのでしょうか？本日牛丼チェーン店で昼食をとり、お会計をしたところ、「おい、並んでるんだけど」とものすごい圧を僕にかけ怒鳴られました。その牛丼チェーン店ではレジが２つあり、テイクアウトと普通の会計に分かれているものだと勝手に思っていました(どっちもできるのかもしれないけど)。片方にはテイクアウト目的の人達がかなり並んでおり、もう片方のレジはひとりもいなかったためそこで会計をしようとしたところ、２つのレジの真ん中にたっていたおじさんに怒鳴られました。私は、「並んでいたんですね、すみません」と言いましたが、「もういいよやれよ」と言われたので先に済まさせて頂きました。その後もいらいらが僕は止まりません。テイクアウトもお会計も両方できるレジだったとしても並んでいたなら僕がそこで会計を先に済ませるのは間違っています。しかし、僕がおじさんの前に入った時点で並んでるんですけどと一言言えば良くないですか？わざわざ会計してる最中に怒鳴られても。と思います。真ん中に立ってどっちに並んでいるのかも分からないような位置にいて。どうおもいますか？すっきりしません。あの人にもう一度会って謝りたいですし、こっちの思いも聞いて欲しいです。本日牛丼チェーン店で昼食をとり、お会計をしたところ、「おい、並んでるんだけど」とものすごい圧を僕にかけ怒鳴られました。その牛丼チェーン店ではレジが２つあり、テイクアウトと普通の会計に分かれているものだと勝手に思っていました(どっちもできるのかもしれないけど)。片方にはテイクアウト目的の人達がかなり並んでおり、もう片方のレジはひとりもいなかったためそこで会計をしようとしたところ、２つのレジの真ん中にたっていたおじさんに怒鳴られました。私は、「並んでいたんですね、すみません」と言いましたが、「もういいよやれよ」と言われたので先に済まさせて頂きました。その後もいらいらが僕は止まりません。テイクアウトもお会計も両方できるレジだったとしても並んでいたなら僕がそこで会計を先に済ませるのは間違っています。しかし、僕がおじさんの前に入った時点で並んでるんですけどと一言言えば良くないですか？わざわざ会計してる最中に怒鳴られても。と思います。真ん中に立ってどっちに並んでいるのかも分からないような位置にいて。どうおもいますか？すっきりしません。あの人にもう一度会って謝りたいですし、こっちの思いも聞いて欲しいです。私は賃貸アパートの一階に住んで居るのですが、先日近所のおじさんから私の隣の家の木の剪定のために私の家のベランダに入っても良いかと聞かれました。その次の日私の帰りをおじさんが待っていて、お宅のベランダに置いてある苺の苗が気になって鉢と肥料を持ってきたと言うのです。苺の苗は職場の友人にもらい置いてありました。おじさんは、白菜の漬物を漬ける桶が使わなくなったから丁度いいと思い持ってきてあげたよと得意気に話しました。ここできっぱり断れば良かったのですが断りきれず貰ってしまいました。ベランダまで運んでくれ洗濯物を干す時に便利な台がある…とおじさんは話し私は話半分で聞いていたのですが週末家に居たところ窓越しにベランダに人気を感じそーっと見ると、板を運び込んでいるおじさんが見えました。勝手に入ってきていました。ベランダなので洗濯物も干してあるのに洗濯物をかき分けおじさんは立っていました。持ってきた台は台と言うか渡り廊下のような大きなすのこのような物で50×200センチ位ありました。得意気でどこに置く?この辺?と言い去って行きました。数日たち仕事から帰り洗濯物を入れようとベランダに出たら何と１枚だった渡り廊下のようなすのこが２枚になっているんです。やられた…と思いました。また勝手にベランダに入り勝手に置いて行ったのです。作業中に洗濯物も動かした様で位置がずれているし本当に気持ち悪くてショックです。初めにキッパリ断っていれば良かったのですがどうしていいかわかりません。直接言った方がいいのか、どんな言葉で伝えればいいのか、ご近所の方なのでこれからも会うことになります。だからなるべく問題無い方向で伝えたいのですが、何か良い伝え方がありましたらアドバイス頂きたいと思っています。お願いします。私は賃貸アパートの一階に住んで居るのですが、先日近所のおじさんから私の隣の家の木の剪定のために私の家のベランダに入っても良いかと聞かれました。その次の日私の帰りをおじさんが待っていて、お宅のベランダに置いてある苺の苗が気になって鉢と肥料を持ってきたと言うのです。苺の苗は職場の友人にもらい置いてありました。おじさんは、白菜の漬物を漬ける桶が使わなくなったから丁度いいと思い持ってきてあげたよと得意気に話しました。ここできっぱり断れば良かったのですが断りきれず貰ってしまいました。ベランダまで運んでくれ洗濯物を干す時に便利な台がある…とおじさんは話し私は話半分で聞いていたのですが週末家に居たところ窓越しにベランダに人気を感じそーっと見ると、板を運び込んでいるおじさんが見えました。勝手に入ってきていました。ベランダなので洗濯物も干してあるのに洗濯物をかき分けおじさんは立っていました。持ってきた台は台と言うか渡り廊下のような大きなすのこのような物で50×200センチ位ありました。得意気でどこに置く?この辺?と言い去って行きました。数日たち仕事から帰り洗濯物を入れようとベランダに出たら何と１枚だった渡り廊下のようなすのこが２枚になっているんです。やられた…と思いました。また勝手にベランダに入り勝手に置いて行ったのです。作業中に洗濯物も動かした様で位置がずれているし本当に気持ち悪くてショックです。初めにキッパリ断っていれば良かったのですがどうしていいかわかりません。直接言った方がいいのか、どんな言葉で伝えればいいのか、ご近所の方なのでこれからも会うことになります。だからなるべく問題無い方向で伝えたいのですが、何か良い伝え方がありましたらアドバイス頂きたいと思っています。お願いします。土曜の夕方、車で郵便局に行ったら、駐車場が満車で、5〜6台が道路沿いに並んでいました。なので、私も車を出来るだけ左に寄せて、ハザードを付けて並んで待っていました。私の後ろにも数台が並んでいたと思います。やっと私が先頭になりもうすぐだと思い待っていたら、対向車のおじさんが、大声で何やら叫んで来ました。窓を開けると、「お前のせいで渋滞になっとるやないか！警察に通報するぞ‼︎」と怒られました。確かに、片道一車線ずつの道だったので、郵便局に入らない後ろの車は、対向車が来ないか確認しながら、中央線辺りを通って追い越していましたが、その日中に郵便局に荷物を取りに行かなきゃいけなかったので、迷惑を承知で並んでいました。そのおじさんはそのまま走って行きましたが、私はどの様にしたら、良かったのでしょうか？土曜の夕方、車で郵便局に行ったら、駐車場が満車で、5〜6台が道路沿いに並んでいました。なので、私も車を出来るだけ左に寄せて、ハザードを付けて並んで待っていました。私の後ろにも数台が並んでいたと思います。やっと私が先頭になりもうすぐだと思い待っていたら、対向車のおじさんが、大声で何やら叫んで来ました。窓を開けると、「お前のせいで渋滞になっとるやないか！警察に通報するぞ‼︎」と怒られました。確かに、片道一車線ずつの道だったので、郵便局に入らない後ろの車は、対向車が来ないか確認しながら、中央線辺りを通って追い越していましたが、その日中に郵便局に荷物を取りに行かなきゃいけなかったので、迷惑を承知で並んでいました。そのおじさんはそのまま走って行きましたが、私はどの様にしたら、良かったのでしょうか？26歳です。43歳の男性と社内恋愛で結婚を視野にお付き合いしていましたが、2ヶ月前にもう色々と限界、と振られました。限界になった理由は、仕事でのとストレスを受けて私生活との両立が難しくなったためで、私の存在が彼女として今は見れないと言われました。さらに親から結婚のプレッシャーをかけられてて、その時に私と付き合っているということを言えなかった、君に彼女として文句は何一つないけど出来れば他の人探したい、仕事安定させて私生活が落ち着いてまだ自分に新しい人がいなければ、また考えてもいい、という何かよく分からないことを言われてしまいました。その時は別れたい、とはっきり言われたわけではなくパニックだったので、待ってると言いました。でも冷静によく考えたらおかし過ぎますよね…色々と。本当に…はぁ…振られる2週間前には将来の話しもしてて、相手の持病も年齢差も仕事も家族のことも全て理解して受け入れて本当に心の底からこの人と将来一緒に家族になりたいと思っていたのでもう喪失感が半端じゃなくひどく、なかなか切り替えられません…男性は他にもいるってのはわかってるんですけどね…その後も頼っていいからとかいうわりに、LINEも返事しないし…こんな優柔不断のひっどい人のどこが良いのかわからないんですけど、それでもまだ嫌いになれないしどこかで期待してしまう自分が情けないです。職場のすぐ後ろの席なので切り替えつかないってのもあるんですけど…あんなワケアリのおじさん私以外に誰が結婚してあげるんーーー？！って感じです。すみません。愚痴です。読んでくださった方、ありがとうございました。26歳です。43歳の男性と社内恋愛で結婚を視野にお付き合いしていましたが、2ヶ月前にもう色々と限界、と振られました。限界になった理由は、仕事でのとストレスを受けて私生活との両立が難しくなったためで、私の存在が彼女として今は見れないと言われました。さらに親から結婚のプレッシャーをかけられてて、その時に私と付き合っているということを言えなかった、君に彼女として文句は何一つないけど出来れば他の人探したい、仕事安定させて私生活が落ち着いてまだ自分に新しい人がいなければ、また考えてもいい、という何かよく分からないことを言われてしまいました。その時は別れたい、とはっきり言われたわけではなくパニックだったので、待ってると言いました。でも冷静によく考えたらおかし過ぎますよね…色々と。本当に…はぁ…振られる2週間前には将来の話しもしてて、相手の持病も年齢差も仕事も家族のことも全て理解して受け入れて本当に心の底からこの人と将来一緒に家族になりたいと思っていたのでもう喪失感が半端じゃなくひどく、なかなか切り替えられません…男性は他にもいるってのはわかってるんですけどね…その後も頼っていいからとかいうわりに、LINEも返事しないし…こんな優柔不断のひっどい人のどこが良いのかわからないんですけど、それでもまだ嫌いになれないしどこかで期待してしまう自分が情けないです。職場のすぐ後ろの席なので切り替えつかないってのもあるんですけど…あんなワケアリのおじさん私以外に誰が結婚してあげるんーーー？！って感じです。すみません。愚痴です。読んでくださった方、ありがとうございました。職場の６４歳のおじさんに果物外しをされました。おじさんは畑で取れた果物を持ってきて、昼休みに同じ島の女性に配るのですが私にだけありません。その日の帰りのエレベーターで、おじさんと、別の島の若い女性と、私が一緒になり、その別の島の若い女性がおじさんに果物美味しかったです！ありがとうございます！とお礼を言ったのです。他の島の女性にも配ってるのに同じ島の私には無いんだと更にショックを受けました。それから数週間経ちまた２回目の果物外しをされました。前回と同様、おじさんはお昼休みに前の席の若い女性に果物を配り、私の後ろを素通りして自分の席に戻って行きました。おじさんにこれからずっと果物外しをされ続け、その度に自分が深く傷付くことに耐え切れず、この状況を打破しなければと思い、前の席の若い女性に「美味しそうな果物！前も食べてたよね？その果物が好きなの？」と声を掛けました。若い女性は、この果物も、前に食べてた果物もおじさんに貰ったんですと答えました。それに対して、私は「良いね！私はおじさんから一回も果物を貰ったことが無い」と言いました。若い女性は、驚いた様子で私にこの果物食べますか？と言ったのですが、おじさんが若い女性に食べて欲しくて渡した果物を私が食べる事はおじさんの意に反することになるので要らないと断りました。この私達のやりとりが、私の隣の隣の席でお弁当を食べていたおじさんに聞こえ、おじさんが私に畑にたくさんその果物が成っているので、またあなたにも持ってきますと言ったんです。私は果物が欲しいんでは無いんです。目の前で果物外しをされる状況が嫌なのです。なので、おじさんに「要りません、自分が果物外しをされていることはわかっています」と答えました。おじさんはムッとした様子でした。やはり、私はおじさんのご好意に対しお礼を言うべきだったのでしょうか？職場の６４歳のおじさんに果物外しをされました。おじさんは畑で取れた果物を持ってきて、昼休みに同じ島の女性に配るのですが私にだけありません。その日の帰りのエレベーターで、おじさんと、別の島の若い女性と、私が一緒になり、その別の島の若い女性がおじさんに果物美味しかったです！ありがとうございます！とお礼を言ったのです。他の島の女性にも配ってるのに同じ島の私には無いんだと更にショックを受けました。それから数週間経ちまた２回目の果物外しをされました。前回と同様、おじさんはお昼休みに前の席の若い女性に果物を配り、私の後ろを素通りして自分の席に戻って行きました。おじさんにこれからずっと果物外しをされ続け、その度に自分が深く傷付くことに耐え切れず、この状況を打破しなければと思い、前の席の若い女性に「美味しそうな果物！前も食べてたよね？その果物が好きなの？」と声を掛けました。若い女性は、この果物も、前に食べてた果物もおじさんに貰ったんですと答えました。それに対して、私は「良いね！私はおじさんから一回も果物を貰ったことが無い」と言いました。若い女性は、驚いた様子で私にこの果物食べますか？と言ったのですが、おじさんが若い女性に食べて欲しくて渡した果物を私が食べる事はおじさんの意に反することになるので要らないと断りました。この私達のやりとりが、私の隣の隣の席でお弁当を食べていたおじさんに聞こえ、おじさんが私に畑にたくさんその果物が成っているので、またあなたにも持ってきますと言ったんです。私は果物が欲しいんでは無いんです。目の前で果物外しをされる状況が嫌なのです。なので、おじさんに「要りません、自分が果物外しをされていることはわかっています」と答えました。おじさんはムッとした様子でした。やはり、私はおじさんのご好意に対しお礼を言うべきだったのでしょうか？1歳の子供がいるママのはるひと申します。子供が歩くようになってから毎日公園に通っています。家から1番近い公園に良く遊びに行くのですがそこで会うおじさんに困っています。そのおじさんは公園に行くと大体いてベンチに座っておばあさん方とおしゃべりをしたり公園でウォーキングをしたりしています。最初の頃は子供が近くに行くと「こんにちは」と挨拶する位でした。顔見知りになると軽く話かけてくれたりして子供がそこから離れるとそこで会話は終了と言う感じでした。最近は私達が公園にいるのを気付くと向こうから来て話しかけてきたり子供の為にジュースやお菓子をくれたりする様になりました。ジュースやお菓子は1歳の子供が食べ飲み出来るものではないものの親切心や子供が可愛いと思ってくれてると思い最初は有り難く受け取っていました。つい先日公園にいくとおじさんが公園の入り口に立っていて私達を見つけると「待ってたよ！ジュース買ったから子供にも飲ませてやって！」と。その時点で「えっ！なに？！」と思ったんですが、その日はずーっと私達のそばにいて砂場では私の隣に座ってきたした。子供が移動するとまたついて来て公園にいる間ずっと一緒でした。いつもなら子供が帰りたがったら帰る様にしてたんですが、正直きみが悪くて「あれ？もう帰りたいかなぁ？」と子供のせいにして帰りました。次の日も行くと同じ感じです…。物申せない私はおじさんに何も言えないのでその次の日からは別の公園に行くようにしてます。なんか怖くてその公園には行く気になれません。家から1番近く大きい公園なので残念です。このまま暫く離れれば、またあの公園にいけるようになるかなぁ…。そんな淡い期待をしてます…。1歳の子供がいるママのはるひと申します。子供が歩くようになってから毎日公園に通っています。家から1番近い公園に良く遊びに行くのですがそこで会うおじさんに困っています。そのおじさんは公園に行くと大体いてベンチに座っておばあさん方とおしゃべりをしたり公園でウォーキングをしたりしています。最初の頃は子供が近くに行くと「こんにちは」と挨拶する位でした。顔見知りになると軽く話かけてくれたりして子供がそこから離れるとそこで会話は終了と言う感じでした。最近は私達が公園にいるのを気付くと向こうから来て話しかけてきたり子供の為にジュースやお菓子をくれたりする様になりました。ジュースやお菓子は1歳の子供が食べ飲み出来るものではないものの親切心や子供が可愛いと思ってくれてると思い最初は有り難く受け取っていました。つい先日公園にいくとおじさんが公園の入り口に立っていて私達を見つけると「待ってたよ！ジュース買ったから子供にも飲ませてやって！」と。その時点で「えっ！なに？！」と思ったんですが、その日はずーっと私達のそばにいて砂場では私の隣に座ってきたした。子供が移動するとまたついて来て公園にいる間ずっと一緒でした。いつもなら子供が帰りたがったら帰る様にしてたんですが、正直きみが悪くて「あれ？もう帰りたいかなぁ？」と子供のせいにして帰りました。次の日も行くと同じ感じです…。物申せない私はおじさんに何も言えないのでその次の日からは別の公園に行くようにしてます。なんか怖くてその公園には行く気になれません。家から1番近く大きい公園なので残念です。このまま暫く離れれば、またあの公園にいけるようになるかなぁ…。そんな淡い期待をしてます…。　先日大型ショッピングセンターにいきました。コロナ禍でエレベーターの床には赤いテープが十字に貼られ壁には4人までと記載がありました。うちは子供2人、ベビーカーに乗る赤ちゃん、私でちょうど十字に貼られた仕切りにおさまる感じで乗りました。そこへ乗り込もうとするおじさんがいました。赤ちゃんはマスクもできないし密室なこともあり私は、おじさんが乗り込む前に人数制限がありますのでごめんなさいと扉をしめました。とても嫌な顔をされました。こんなことが二度続きました。結構多いのでしょうか？みなさんどう思われますか？　先日大型ショッピングセンターにいきました。コロナ禍でエレベーターの床には赤いテープが十字に貼られ壁には4人までと記載がありました。うちは子供2人、ベビーカーに乗る赤ちゃん、私でちょうど十字に貼られた仕切りにおさまる感じで乗りました。そこへ乗り込もうとするおじさんがいました。赤ちゃんはマスクもできないし密室なこともあり私は、おじさんが乗り込む前に人数制限がありますのでごめんなさいと扉をしめました。とても嫌な顔をされました。こんなことが二度続きました。結構多いのでしょうか？みなさんどう思われますか？\n"
     ]
    },
    {
     "ename": "TypeError",
     "evalue": "write() takes exactly one argument (2 given)",
     "output_type": "error",
     "traceback": [
      "\u001b[0;31m---------------------------------------------------------------------------\u001b[0m",
      "\u001b[0;31mTypeError\u001b[0m                                 Traceback (most recent call last)",
      "\u001b[0;32m/var/folders/7g/cr3jlst110q6l21dbfw7hmjr0000gn/T/ipykernel_59986/500293600.py\u001b[0m in \u001b[0;36m<module>\u001b[0;34m\u001b[0m\n\u001b[1;32m     13\u001b[0m \u001b[0;32mwith\u001b[0m \u001b[0mopen\u001b[0m\u001b[0;34m(\u001b[0m\u001b[0;34m'komachi.txt'\u001b[0m\u001b[0;34m,\u001b[0m \u001b[0;34m'a'\u001b[0m\u001b[0;34m)\u001b[0m \u001b[0;32mas\u001b[0m \u001b[0mf\u001b[0m\u001b[0;34m:\u001b[0m\u001b[0;34m\u001b[0m\u001b[0;34m\u001b[0m\u001b[0m\n\u001b[1;32m     14\u001b[0m \u001b[0;31m#f.writelines(topic.text)\u001b[0m\u001b[0;34m\u001b[0m\u001b[0;34m\u001b[0m\u001b[0;34m\u001b[0m\u001b[0m\n\u001b[0;32m---> 15\u001b[0;31m     \u001b[0mf\u001b[0m\u001b[0;34m.\u001b[0m\u001b[0mwrite\u001b[0m\u001b[0;34m(\u001b[0m\u001b[0mtopic9\u001b[0m\u001b[0;34m.\u001b[0m\u001b[0mtext\u001b[0m\u001b[0;34m,\u001b[0m\u001b[0;34m\"/n\"\u001b[0m\u001b[0;34m)\u001b[0m\u001b[0;34m\u001b[0m\u001b[0;34m\u001b[0m\u001b[0m\n\u001b[0m\u001b[1;32m     16\u001b[0m     \u001b[0mprint\u001b[0m\u001b[0;34m(\u001b[0m\u001b[0mf\u001b[0m\u001b[0;34m)\u001b[0m\u001b[0;34m\u001b[0m\u001b[0;34m\u001b[0m\u001b[0m\n\u001b[1;32m     17\u001b[0m     \u001b[0mf\u001b[0m\u001b[0;34m.\u001b[0m\u001b[0mclose\u001b[0m\u001b[0;34m\u001b[0m\u001b[0;34m\u001b[0m\u001b[0m\n",
      "\u001b[0;31mTypeError\u001b[0m: write() takes exactly one argument (2 given)"
     ]
    }
   ],
   "source": [
    "load_url = 'https://komachi.yomiuri.co.jp/topics/id/1035532/'\n",
    "html = requests.get(load_url)\n",
    "soup9=BeautifulSoup(html.content,\"html.parser\")\n",
    "\n",
    "topic9= soup9.find(class_ = 'topicsId__articleContentText')\n",
    "#for element in topic.find_all(\"br\"):\n",
    " #   print(element.text)\n",
    "#print(topic.text)\n",
    "\n",
    "print('---追記前--')\n",
    "with open('komachi.txt','r') as f:\n",
    "    print(f.read())\n",
    "with open('komachi.txt', 'a') as f:\n",
    "#f.writelines(topic.text)\n",
    "    f.write(topic9.text,/n)\n",
    "    print(f)\n",
    "    f.close "
   ]
  },
  {
   "cell_type": "code",
   "execution_count": 151,
   "id": "ec158ef2",
   "metadata": {},
   "outputs": [
    {
     "ename": "FileNotFoundError",
     "evalue": "[Errno 2] No such file or directory: '-f'",
     "output_type": "error",
     "traceback": [
      "\u001b[0;31m---------------------------------------------------------------------------\u001b[0m",
      "\u001b[0;31mFileNotFoundError\u001b[0m                         Traceback (most recent call last)",
      "\u001b[0;32m/var/folders/7g/cr3jlst110q6l21dbfw7hmjr0000gn/T/ipykernel_59986/2975986886.py\u001b[0m in \u001b[0;36m<module>\u001b[0;34m\u001b[0m\n\u001b[1;32m      4\u001b[0m \u001b[0mtagger\u001b[0m \u001b[0;34m=\u001b[0m \u001b[0mMeCab\u001b[0m\u001b[0;34m.\u001b[0m\u001b[0mTagger\u001b[0m\u001b[0;34m(\u001b[0m\u001b[0;34m'-F\\s%f[6] -U\\s%m -E\\\\n'\u001b[0m\u001b[0;34m)\u001b[0m\u001b[0;34m\u001b[0m\u001b[0;34m\u001b[0m\u001b[0m\n\u001b[1;32m      5\u001b[0m \u001b[0;34m\u001b[0m\u001b[0m\n\u001b[0;32m----> 6\u001b[0;31m \u001b[0mfi\u001b[0m \u001b[0;34m=\u001b[0m \u001b[0mopen\u001b[0m\u001b[0;34m(\u001b[0m\u001b[0msys\u001b[0m\u001b[0;34m.\u001b[0m\u001b[0margv\u001b[0m\u001b[0;34m[\u001b[0m\u001b[0;36m1\u001b[0m\u001b[0;34m]\u001b[0m\u001b[0;34m,\u001b[0m \u001b[0;34m'r'\u001b[0m\u001b[0;34m)\u001b[0m\u001b[0;34m\u001b[0m\u001b[0;34m\u001b[0m\u001b[0m\n\u001b[0m\u001b[1;32m      7\u001b[0m \u001b[0mfo\u001b[0m \u001b[0;34m=\u001b[0m \u001b[0mopen\u001b[0m\u001b[0;34m(\u001b[0m\u001b[0msys\u001b[0m\u001b[0;34m.\u001b[0m\u001b[0margv\u001b[0m\u001b[0;34m[\u001b[0m\u001b[0;36m2\u001b[0m\u001b[0;34m]\u001b[0m\u001b[0;34m,\u001b[0m \u001b[0;34m'w'\u001b[0m\u001b[0;34m)\u001b[0m\u001b[0;34m\u001b[0m\u001b[0;34m\u001b[0m\u001b[0m\n\u001b[1;32m      8\u001b[0m \u001b[0;34m\u001b[0m\u001b[0m\n",
      "\u001b[0;31mFileNotFoundError\u001b[0m: [Errno 2] No such file or directory: '-f'"
     ]
    }
   ],
   "source": [
    "import MeCab\n",
    "import sys\n",
    "\n",
    "tagger = MeCab.Tagger('-F\\s%f[6] -U\\s%m -E\\\\n')\n",
    "\n",
    "fi = open(sys.argv[1], 'r')\n",
    "fo = open(sys.argv[2], 'w')\n",
    "\n",
    "line = fi.readline()\n",
    "while line:\n",
    "    result = tagger.parse(line)\n",
    "    fo.write(result[1:]) # skip first \\s\n",
    "    line = fi.readline()\n",
    "\n",
    "fi.close()\n",
    "fo.close()\n"
   ]
  },
  {
   "cell_type": "code",
   "execution_count": null,
   "id": "1dcdf729",
   "metadata": {},
   "outputs": [],
   "source": [
    "#これ！！！分かち書きできる！！！\n",
    "import MeCab\n",
    "\n",
    "tagger = MeCab.Tagger(\"-Owakati\")\n",
    "\n",
    "f = open(\"komachi.txt\", encoding = \"utf_8\")\n",
    "read_text = f.readlines()\n",
    "f.close()\n",
    "\n",
    "for text in read_text:\n",
    "    result = tagger.parse(text)\n",
    "    with open(\"koamchi2_wakati.txt\", encoding = \"utf_8\", mode=\"a\") as write_file:\n",
    "        write_file.writelines(result)\n",
    "\n",
    "    \n",
    "\n",
    "         "
   ]
  },
  {
   "cell_type": "code",
   "execution_count": null,
   "id": "836b1815",
   "metadata": {},
   "outputs": [],
   "source": []
  },
  {
   "cell_type": "code",
   "execution_count": null,
   "id": "b734e047",
   "metadata": {},
   "outputs": [],
   "source": []
  },
  {
   "cell_type": "code",
   "execution_count": null,
   "id": "3043d62b",
   "metadata": {},
   "outputs": [],
   "source": []
  },
  {
   "cell_type": "code",
   "execution_count": 162,
   "id": "be73fc13",
   "metadata": {},
   "outputs": [],
   "source": []
  },
  {
   "cell_type": "code",
   "execution_count": 179,
   "id": "29dd3317",
   "metadata": {},
   "outputs": [
    {
     "name": "stdout",
     "output_type": "stream",
     "text": [
      "Finish\n"
     ]
    }
   ],
   "source": []
  },
  {
   "cell_type": "code",
   "execution_count": 11,
   "id": "c5e5f65a",
   "metadata": {},
   "outputs": [
    {
     "ename": "AttributeError",
     "evalue": "module 'MeCab' has no attribute 'parseToNode'",
     "output_type": "error",
     "traceback": [
      "\u001b[0;31m---------------------------------------------------------------------------\u001b[0m",
      "\u001b[0;31mAttributeError\u001b[0m                            Traceback (most recent call last)",
      "\u001b[0;32m/var/folders/7g/cr3jlst110q6l21dbfw7hmjr0000gn/T/ipykernel_74674/3913211445.py\u001b[0m in \u001b[0;36m<module>\u001b[0;34m\u001b[0m\n\u001b[1;32m      4\u001b[0m \u001b[0mresult\u001b[0m \u001b[0;34m=\u001b[0m \u001b[0;34m[\u001b[0m\u001b[0;34m]\u001b[0m\u001b[0;34m\u001b[0m\u001b[0;34m\u001b[0m\u001b[0m\n\u001b[1;32m      5\u001b[0m \u001b[0;34m\u001b[0m\u001b[0m\n\u001b[0;32m----> 6\u001b[0;31m \u001b[0mnode\u001b[0m \u001b[0;34m=\u001b[0m \u001b[0mMeCab\u001b[0m\u001b[0;34m.\u001b[0m\u001b[0mparseToNode\u001b[0m\u001b[0;34m(\u001b[0m\u001b[0mreader\u001b[0m\u001b[0;34m)\u001b[0m\u001b[0;34m\u001b[0m\u001b[0;34m\u001b[0m\u001b[0m\n\u001b[0m\u001b[1;32m      7\u001b[0m \u001b[0;34m\u001b[0m\u001b[0m\n\u001b[1;32m      8\u001b[0m \u001b[0;34m\u001b[0m\u001b[0m\n",
      "\u001b[0;31mAttributeError\u001b[0m: module 'MeCab' has no attribute 'parseToNode'"
     ]
    }
   ],
   "source": []
  },
  {
   "cell_type": "code",
   "execution_count": null,
   "id": "c27844a4",
   "metadata": {
    "scrolled": true
   },
   "outputs": [],
   "source": []
  },
  {
   "cell_type": "code",
   "execution_count": null,
   "id": "85e04f02",
   "metadata": {},
   "outputs": [],
   "source": []
  },
  {
   "cell_type": "code",
   "execution_count": null,
   "id": "bfb346c8",
   "metadata": {},
   "outputs": [],
   "source": []
  },
  {
   "cell_type": "code",
   "execution_count": null,
   "id": "6f4ac9ae",
   "metadata": {},
   "outputs": [],
   "source": []
  },
  {
   "cell_type": "code",
   "execution_count": null,
   "id": "6f688c30",
   "metadata": {},
   "outputs": [],
   "source": []
  },
  {
   "cell_type": "code",
   "execution_count": null,
   "id": "20c3a579",
   "metadata": {},
   "outputs": [],
   "source": []
  },
  {
   "cell_type": "code",
   "execution_count": null,
   "id": "a032a284",
   "metadata": {},
   "outputs": [],
   "source": []
  },
  {
   "cell_type": "code",
   "execution_count": 27,
   "id": "98c33002",
   "metadata": {},
   "outputs": [],
   "source": [
    "\n",
    "\n",
    "\n",
    "  "
   ]
  },
  {
   "cell_type": "code",
   "execution_count": null,
   "id": "5bcf22f8",
   "metadata": {},
   "outputs": [],
   "source": []
  },
  {
   "cell_type": "code",
   "execution_count": null,
   "id": "9a2cd7b2",
   "metadata": {},
   "outputs": [],
   "source": []
  },
  {
   "cell_type": "code",
   "execution_count": null,
   "id": "e738a14a",
   "metadata": {},
   "outputs": [],
   "source": []
  },
  {
   "cell_type": "code",
   "execution_count": null,
   "id": "cb18ba72",
   "metadata": {},
   "outputs": [],
   "source": []
  },
  {
   "cell_type": "code",
   "execution_count": null,
   "id": "0e573d28",
   "metadata": {},
   "outputs": [],
   "source": []
  },
  {
   "cell_type": "code",
   "execution_count": null,
   "id": "77996d85",
   "metadata": {},
   "outputs": [],
   "source": []
  },
  {
   "cell_type": "code",
   "execution_count": null,
   "id": "0d940086",
   "metadata": {},
   "outputs": [],
   "source": []
  },
  {
   "cell_type": "code",
   "execution_count": null,
   "id": "84db55ec",
   "metadata": {},
   "outputs": [],
   "source": []
  },
  {
   "cell_type": "code",
   "execution_count": null,
   "id": "b94edd6c",
   "metadata": {},
   "outputs": [],
   "source": []
  },
  {
   "cell_type": "code",
   "execution_count": null,
   "id": "4ce6d8b1",
   "metadata": {},
   "outputs": [],
   "source": []
  },
  {
   "cell_type": "code",
   "execution_count": null,
   "id": "ded7a0cc",
   "metadata": {},
   "outputs": [],
   "source": []
  },
  {
   "cell_type": "code",
   "execution_count": null,
   "id": "ca02eedf",
   "metadata": {},
   "outputs": [],
   "source": []
  },
  {
   "cell_type": "code",
   "execution_count": null,
   "id": "4790b864",
   "metadata": {},
   "outputs": [],
   "source": []
  },
  {
   "cell_type": "code",
   "execution_count": null,
   "id": "cfde8052",
   "metadata": {},
   "outputs": [],
   "source": []
  },
  {
   "cell_type": "code",
   "execution_count": null,
   "id": "c1cfa004",
   "metadata": {},
   "outputs": [],
   "source": []
  },
  {
   "cell_type": "code",
   "execution_count": null,
   "id": "c9707e79",
   "metadata": {},
   "outputs": [],
   "source": []
  },
  {
   "cell_type": "code",
   "execution_count": null,
   "id": "9b7248d8",
   "metadata": {},
   "outputs": [],
   "source": []
  },
  {
   "cell_type": "code",
   "execution_count": null,
   "id": "0f3e4396",
   "metadata": {},
   "outputs": [],
   "source": []
  },
  {
   "cell_type": "code",
   "execution_count": null,
   "id": "3839cc84",
   "metadata": {},
   "outputs": [],
   "source": []
  },
  {
   "cell_type": "code",
   "execution_count": null,
   "id": "c0237419",
   "metadata": {},
   "outputs": [],
   "source": []
  },
  {
   "cell_type": "code",
   "execution_count": null,
   "id": "c2483a38",
   "metadata": {},
   "outputs": [],
   "source": []
  },
  {
   "cell_type": "code",
   "execution_count": 178,
   "id": "0a7cb50b",
   "metadata": {},
   "outputs": [
    {
     "name": "stdout",
     "output_type": "stream",
     "text": [
      "['komachi', '.', 'txt']\n"
     ]
    }
   ],
   "source": []
  },
  {
   "cell_type": "code",
   "execution_count": null,
   "id": "5923e915",
   "metadata": {},
   "outputs": [],
   "source": []
  },
  {
   "cell_type": "code",
   "execution_count": null,
   "id": "dd2c24db",
   "metadata": {},
   "outputs": [],
   "source": []
  },
  {
   "cell_type": "code",
   "execution_count": null,
   "id": "6f5ca2bc",
   "metadata": {},
   "outputs": [],
   "source": []
  },
  {
   "cell_type": "code",
   "execution_count": null,
   "id": "83bd97fb",
   "metadata": {},
   "outputs": [],
   "source": []
  },
  {
   "cell_type": "code",
   "execution_count": null,
   "id": "2257f353",
   "metadata": {},
   "outputs": [],
   "source": []
  },
  {
   "cell_type": "code",
   "execution_count": null,
   "id": "df945e3b",
   "metadata": {},
   "outputs": [],
   "source": []
  },
  {
   "cell_type": "code",
   "execution_count": null,
   "id": "bed93376",
   "metadata": {},
   "outputs": [],
   "source": []
  },
  {
   "cell_type": "code",
   "execution_count": null,
   "id": "1a3b2c1d",
   "metadata": {},
   "outputs": [],
   "source": []
  },
  {
   "cell_type": "code",
   "execution_count": null,
   "id": "2b0a2dd0",
   "metadata": {},
   "outputs": [],
   "source": []
  },
  {
   "cell_type": "code",
   "execution_count": null,
   "id": "bc2c6498",
   "metadata": {},
   "outputs": [],
   "source": []
  },
  {
   "cell_type": "code",
   "execution_count": null,
   "id": "a021442f",
   "metadata": {},
   "outputs": [],
   "source": []
  },
  {
   "cell_type": "code",
   "execution_count": null,
   "id": "fa7e8901",
   "metadata": {},
   "outputs": [],
   "source": []
  },
  {
   "cell_type": "code",
   "execution_count": null,
   "id": "0e7211de",
   "metadata": {},
   "outputs": [],
   "source": []
  },
  {
   "cell_type": "code",
   "execution_count": null,
   "id": "4402d3b6",
   "metadata": {},
   "outputs": [],
   "source": []
  },
  {
   "cell_type": "code",
   "execution_count": null,
   "id": "13ce78b8",
   "metadata": {},
   "outputs": [],
   "source": []
  },
  {
   "cell_type": "code",
   "execution_count": null,
   "id": "52cf6eb4",
   "metadata": {},
   "outputs": [],
   "source": []
  },
  {
   "cell_type": "code",
   "execution_count": null,
   "id": "8314afff",
   "metadata": {},
   "outputs": [],
   "source": []
  },
  {
   "cell_type": "code",
   "execution_count": null,
   "id": "33e75b3a",
   "metadata": {},
   "outputs": [],
   "source": []
  },
  {
   "cell_type": "code",
   "execution_count": null,
   "id": "216df3b3",
   "metadata": {},
   "outputs": [],
   "source": []
  },
  {
   "cell_type": "code",
   "execution_count": null,
   "id": "96ad091c",
   "metadata": {},
   "outputs": [],
   "source": []
  },
  {
   "cell_type": "code",
   "execution_count": null,
   "id": "d3140674",
   "metadata": {},
   "outputs": [],
   "source": []
  },
  {
   "cell_type": "code",
   "execution_count": null,
   "id": "a696a74d",
   "metadata": {},
   "outputs": [],
   "source": []
  },
  {
   "cell_type": "code",
   "execution_count": null,
   "id": "56132de9",
   "metadata": {},
   "outputs": [],
   "source": []
  },
  {
   "cell_type": "code",
   "execution_count": null,
   "id": "fbabbd0c",
   "metadata": {},
   "outputs": [],
   "source": []
  },
  {
   "cell_type": "code",
   "execution_count": null,
   "id": "28bc00cf",
   "metadata": {},
   "outputs": [],
   "source": []
  },
  {
   "cell_type": "code",
   "execution_count": null,
   "id": "46f2fc1c",
   "metadata": {},
   "outputs": [],
   "source": []
  },
  {
   "cell_type": "code",
   "execution_count": null,
   "id": "b6ff6938",
   "metadata": {},
   "outputs": [],
   "source": []
  },
  {
   "cell_type": "code",
   "execution_count": null,
   "id": "95e590d8",
   "metadata": {},
   "outputs": [],
   "source": []
  },
  {
   "cell_type": "code",
   "execution_count": null,
   "id": "506aa001",
   "metadata": {},
   "outputs": [],
   "source": []
  },
  {
   "cell_type": "code",
   "execution_count": null,
   "id": "6ec0afae",
   "metadata": {},
   "outputs": [],
   "source": []
  },
  {
   "cell_type": "code",
   "execution_count": null,
   "id": "72b8705f",
   "metadata": {},
   "outputs": [],
   "source": []
  },
  {
   "cell_type": "code",
   "execution_count": null,
   "id": "1dda8779",
   "metadata": {},
   "outputs": [],
   "source": []
  },
  {
   "cell_type": "code",
   "execution_count": null,
   "id": "f1026da7",
   "metadata": {},
   "outputs": [],
   "source": []
  },
  {
   "cell_type": "code",
   "execution_count": null,
   "id": "c7863d07",
   "metadata": {},
   "outputs": [],
   "source": [
    "\n",
    "\n"
   ]
  },
  {
   "cell_type": "code",
   "execution_count": null,
   "id": "e3310d00",
   "metadata": {},
   "outputs": [],
   "source": []
  },
  {
   "cell_type": "code",
   "execution_count": null,
   "id": "bd418e6b",
   "metadata": {},
   "outputs": [],
   "source": []
  },
  {
   "cell_type": "code",
   "execution_count": null,
   "id": "7a467bb5",
   "metadata": {},
   "outputs": [],
   "source": []
  },
  {
   "cell_type": "code",
   "execution_count": null,
   "id": "f09f09b4",
   "metadata": {},
   "outputs": [],
   "source": []
  },
  {
   "cell_type": "code",
   "execution_count": null,
   "id": "488724d6",
   "metadata": {},
   "outputs": [],
   "source": []
  },
  {
   "cell_type": "code",
   "execution_count": null,
   "id": "f305878a",
   "metadata": {},
   "outputs": [],
   "source": []
  },
  {
   "cell_type": "code",
   "execution_count": null,
   "id": "9758fbe1",
   "metadata": {},
   "outputs": [],
   "source": []
  },
  {
   "cell_type": "code",
   "execution_count": null,
   "id": "e6db0265",
   "metadata": {},
   "outputs": [],
   "source": []
  },
  {
   "cell_type": "code",
   "execution_count": null,
   "id": "a7f3f058",
   "metadata": {},
   "outputs": [],
   "source": []
  },
  {
   "cell_type": "code",
   "execution_count": null,
   "id": "af81aafa",
   "metadata": {},
   "outputs": [],
   "source": []
  },
  {
   "cell_type": "code",
   "execution_count": null,
   "id": "c0168db5",
   "metadata": {},
   "outputs": [],
   "source": []
  },
  {
   "cell_type": "code",
   "execution_count": null,
   "id": "069e30fc",
   "metadata": {},
   "outputs": [],
   "source": []
  },
  {
   "cell_type": "code",
   "execution_count": null,
   "id": "50d09833",
   "metadata": {},
   "outputs": [],
   "source": []
  },
  {
   "cell_type": "code",
   "execution_count": null,
   "id": "25c3bca0",
   "metadata": {},
   "outputs": [],
   "source": []
  },
  {
   "cell_type": "code",
   "execution_count": null,
   "id": "0415f448",
   "metadata": {},
   "outputs": [],
   "source": []
  },
  {
   "cell_type": "code",
   "execution_count": null,
   "id": "acbed11d",
   "metadata": {},
   "outputs": [],
   "source": []
  },
  {
   "cell_type": "code",
   "execution_count": null,
   "id": "8f24f39b",
   "metadata": {},
   "outputs": [],
   "source": []
  },
  {
   "cell_type": "code",
   "execution_count": null,
   "id": "11fa39d6",
   "metadata": {},
   "outputs": [],
   "source": []
  },
  {
   "cell_type": "code",
   "execution_count": null,
   "id": "5cef3d9a",
   "metadata": {},
   "outputs": [],
   "source": []
  },
  {
   "cell_type": "code",
   "execution_count": null,
   "id": "37b1a058",
   "metadata": {},
   "outputs": [],
   "source": []
  },
  {
   "cell_type": "code",
   "execution_count": null,
   "id": "53094529",
   "metadata": {},
   "outputs": [],
   "source": []
  },
  {
   "cell_type": "code",
   "execution_count": null,
   "id": "47e74438",
   "metadata": {},
   "outputs": [],
   "source": []
  },
  {
   "cell_type": "code",
   "execution_count": 92,
   "id": "7efb614e",
   "metadata": {},
   "outputs": [
    {
     "data": {
      "text/plain": [
       "4"
      ]
     },
     "execution_count": 92,
     "metadata": {},
     "output_type": "execute_result"
    }
   ],
   "source": []
  },
  {
   "cell_type": "code",
   "execution_count": null,
   "id": "d8a5359a",
   "metadata": {},
   "outputs": [],
   "source": []
  },
  {
   "cell_type": "code",
   "execution_count": null,
   "id": "1e3afaf6",
   "metadata": {},
   "outputs": [],
   "source": []
  },
  {
   "cell_type": "code",
   "execution_count": null,
   "id": "94ea77df",
   "metadata": {},
   "outputs": [],
   "source": []
  },
  {
   "cell_type": "code",
   "execution_count": null,
   "id": "cd4d54e5",
   "metadata": {},
   "outputs": [],
   "source": []
  },
  {
   "cell_type": "code",
   "execution_count": 87,
   "id": "5c4d7c92",
   "metadata": {},
   "outputs": [
    {
     "data": {
      "text/plain": [
       "<function TextIOWrapper.close()>"
      ]
     },
     "execution_count": 87,
     "metadata": {},
     "output_type": "execute_result"
    }
   ],
   "source": []
  },
  {
   "cell_type": "code",
   "execution_count": null,
   "id": "0900de1b",
   "metadata": {},
   "outputs": [],
   "source": []
  },
  {
   "cell_type": "code",
   "execution_count": null,
   "id": "fdf347f9",
   "metadata": {},
   "outputs": [],
   "source": []
  },
  {
   "cell_type": "code",
   "execution_count": null,
   "id": "adc1151b",
   "metadata": {},
   "outputs": [],
   "source": [
    "\n"
   ]
  },
  {
   "cell_type": "code",
   "execution_count": null,
   "id": "5341b366",
   "metadata": {},
   "outputs": [],
   "source": []
  },
  {
   "cell_type": "code",
   "execution_count": null,
   "id": "d3f61fa7",
   "metadata": {},
   "outputs": [],
   "source": []
  },
  {
   "cell_type": "code",
   "execution_count": null,
   "id": "4821e655",
   "metadata": {},
   "outputs": [],
   "source": []
  },
  {
   "cell_type": "code",
   "execution_count": null,
   "id": "cf19d79c",
   "metadata": {},
   "outputs": [],
   "source": []
  },
  {
   "cell_type": "code",
   "execution_count": null,
   "id": "07b229cb",
   "metadata": {},
   "outputs": [],
   "source": []
  },
  {
   "cell_type": "code",
   "execution_count": null,
   "id": "e70d5fc2",
   "metadata": {},
   "outputs": [],
   "source": []
  },
  {
   "cell_type": "code",
   "execution_count": null,
   "id": "969242e1",
   "metadata": {},
   "outputs": [],
   "source": []
  },
  {
   "cell_type": "code",
   "execution_count": null,
   "id": "e2c33be0",
   "metadata": {},
   "outputs": [],
   "source": []
  },
  {
   "cell_type": "code",
   "execution_count": null,
   "id": "6f89c8d1",
   "metadata": {},
   "outputs": [],
   "source": []
  },
  {
   "cell_type": "code",
   "execution_count": null,
   "id": "c7e0bb0d",
   "metadata": {},
   "outputs": [],
   "source": []
  },
  {
   "cell_type": "code",
   "execution_count": null,
   "id": "543576e6",
   "metadata": {},
   "outputs": [],
   "source": []
  },
  {
   "cell_type": "code",
   "execution_count": 71,
   "id": "b80da274",
   "metadata": {},
   "outputs": [
    {
     "name": "stdout",
     "output_type": "stream",
     "text": [
      "<_io.TextIOWrapper name='komachi.txt' mode='r' encoding='UTF-8'>\n"
     ]
    }
   ],
   "source": [
    "file = open('komachi.txt','r')\n",
    "print(file)"
   ]
  },
  {
   "cell_type": "code",
   "execution_count": null,
   "id": "18c13ecf",
   "metadata": {},
   "outputs": [],
   "source": []
  },
  {
   "cell_type": "code",
   "execution_count": null,
   "id": "af847739",
   "metadata": {},
   "outputs": [],
   "source": []
  },
  {
   "cell_type": "code",
   "execution_count": null,
   "id": "5d7e3c93",
   "metadata": {},
   "outputs": [],
   "source": []
  },
  {
   "cell_type": "code",
   "execution_count": null,
   "id": "d8c4c972",
   "metadata": {},
   "outputs": [],
   "source": []
  },
  {
   "cell_type": "code",
   "execution_count": null,
   "id": "4df8b226",
   "metadata": {},
   "outputs": [],
   "source": []
  },
  {
   "cell_type": "code",
   "execution_count": null,
   "id": "c39e9792",
   "metadata": {},
   "outputs": [],
   "source": []
  },
  {
   "cell_type": "code",
   "execution_count": null,
   "id": "505246d3",
   "metadata": {},
   "outputs": [],
   "source": []
  },
  {
   "cell_type": "code",
   "execution_count": null,
   "id": "36171661",
   "metadata": {},
   "outputs": [],
   "source": []
  },
  {
   "cell_type": "code",
   "execution_count": null,
   "id": "dda083b0",
   "metadata": {},
   "outputs": [],
   "source": []
  },
  {
   "cell_type": "code",
   "execution_count": null,
   "id": "70bfb9f1",
   "metadata": {},
   "outputs": [],
   "source": []
  },
  {
   "cell_type": "code",
   "execution_count": null,
   "id": "bdcc5f16",
   "metadata": {},
   "outputs": [],
   "source": []
  },
  {
   "cell_type": "code",
   "execution_count": null,
   "id": "d827addc",
   "metadata": {},
   "outputs": [],
   "source": []
  },
  {
   "cell_type": "code",
   "execution_count": null,
   "id": "b00b0e1a",
   "metadata": {},
   "outputs": [],
   "source": []
  },
  {
   "cell_type": "code",
   "execution_count": null,
   "id": "6326d3ff",
   "metadata": {},
   "outputs": [],
   "source": []
  },
  {
   "cell_type": "code",
   "execution_count": null,
   "id": "af7c1f1f",
   "metadata": {},
   "outputs": [],
   "source": []
  },
  {
   "cell_type": "code",
   "execution_count": null,
   "id": "c3f45a22",
   "metadata": {},
   "outputs": [],
   "source": []
  },
  {
   "cell_type": "code",
   "execution_count": null,
   "id": "69549e58",
   "metadata": {},
   "outputs": [],
   "source": []
  },
  {
   "cell_type": "code",
   "execution_count": null,
   "id": "fa2cc374",
   "metadata": {},
   "outputs": [],
   "source": []
  },
  {
   "cell_type": "code",
   "execution_count": null,
   "id": "6b9d5e7b",
   "metadata": {},
   "outputs": [],
   "source": []
  },
  {
   "cell_type": "code",
   "execution_count": null,
   "id": "3e33bc70",
   "metadata": {},
   "outputs": [],
   "source": []
  },
  {
   "cell_type": "code",
   "execution_count": null,
   "id": "22e63df7",
   "metadata": {},
   "outputs": [],
   "source": []
  },
  {
   "cell_type": "code",
   "execution_count": null,
   "id": "ae578fb8",
   "metadata": {},
   "outputs": [],
   "source": []
  },
  {
   "cell_type": "code",
   "execution_count": null,
   "id": "ab5d18fb",
   "metadata": {},
   "outputs": [],
   "source": []
  },
  {
   "cell_type": "code",
   "execution_count": null,
   "id": "80cdd919",
   "metadata": {},
   "outputs": [],
   "source": []
  },
  {
   "cell_type": "code",
   "execution_count": null,
   "id": "a8ce2b9e",
   "metadata": {},
   "outputs": [],
   "source": []
  },
  {
   "cell_type": "code",
   "execution_count": null,
   "id": "d4f3759b",
   "metadata": {},
   "outputs": [],
   "source": []
  },
  {
   "cell_type": "code",
   "execution_count": null,
   "id": "36d2cf41",
   "metadata": {},
   "outputs": [],
   "source": []
  },
  {
   "cell_type": "code",
   "execution_count": null,
   "id": "e1afa7bf",
   "metadata": {},
   "outputs": [],
   "source": []
  },
  {
   "cell_type": "code",
   "execution_count": null,
   "id": "7268f4d3",
   "metadata": {},
   "outputs": [],
   "source": []
  },
  {
   "cell_type": "code",
   "execution_count": null,
   "id": "b85f68bd",
   "metadata": {},
   "outputs": [],
   "source": []
  },
  {
   "cell_type": "code",
   "execution_count": null,
   "id": "3fb014a5",
   "metadata": {},
   "outputs": [],
   "source": []
  },
  {
   "cell_type": "code",
   "execution_count": null,
   "id": "1a2e7983",
   "metadata": {},
   "outputs": [],
   "source": []
  },
  {
   "cell_type": "code",
   "execution_count": null,
   "id": "d9570d34",
   "metadata": {},
   "outputs": [],
   "source": []
  },
  {
   "cell_type": "code",
   "execution_count": null,
   "id": "d17e2b9b",
   "metadata": {},
   "outputs": [],
   "source": []
  },
  {
   "cell_type": "code",
   "execution_count": null,
   "id": "76cdc281",
   "metadata": {},
   "outputs": [],
   "source": []
  },
  {
   "cell_type": "code",
   "execution_count": null,
   "id": "cc69f490",
   "metadata": {},
   "outputs": [],
   "source": []
  },
  {
   "cell_type": "code",
   "execution_count": null,
   "id": "8fa9e09b",
   "metadata": {},
   "outputs": [],
   "source": []
  },
  {
   "cell_type": "code",
   "execution_count": null,
   "id": "53589c67",
   "metadata": {},
   "outputs": [],
   "source": []
  },
  {
   "cell_type": "code",
   "execution_count": null,
   "id": "841770c9",
   "metadata": {},
   "outputs": [],
   "source": []
  },
  {
   "cell_type": "code",
   "execution_count": null,
   "id": "a118186e",
   "metadata": {},
   "outputs": [],
   "source": []
  },
  {
   "cell_type": "code",
   "execution_count": null,
   "id": "df9b7731",
   "metadata": {},
   "outputs": [],
   "source": []
  },
  {
   "cell_type": "code",
   "execution_count": null,
   "id": "976abd6f",
   "metadata": {},
   "outputs": [],
   "source": []
  },
  {
   "cell_type": "code",
   "execution_count": null,
   "id": "aed5000e",
   "metadata": {},
   "outputs": [],
   "source": []
  },
  {
   "cell_type": "code",
   "execution_count": null,
   "id": "ecab894e",
   "metadata": {},
   "outputs": [],
   "source": []
  },
  {
   "cell_type": "code",
   "execution_count": null,
   "id": "a7cb8f78",
   "metadata": {},
   "outputs": [],
   "source": []
  },
  {
   "cell_type": "code",
   "execution_count": null,
   "id": "fa339d6f",
   "metadata": {},
   "outputs": [],
   "source": []
  },
  {
   "cell_type": "code",
   "execution_count": null,
   "id": "802ac58b",
   "metadata": {},
   "outputs": [],
   "source": []
  },
  {
   "cell_type": "code",
   "execution_count": null,
   "id": "c0c1de98",
   "metadata": {},
   "outputs": [],
   "source": []
  },
  {
   "cell_type": "code",
   "execution_count": null,
   "id": "9a7a7414",
   "metadata": {},
   "outputs": [],
   "source": []
  },
  {
   "cell_type": "code",
   "execution_count": null,
   "id": "a7c2e304",
   "metadata": {},
   "outputs": [],
   "source": []
  },
  {
   "cell_type": "code",
   "execution_count": null,
   "id": "c5a900d5",
   "metadata": {},
   "outputs": [],
   "source": []
  },
  {
   "cell_type": "code",
   "execution_count": null,
   "id": "cf0d1a1f",
   "metadata": {},
   "outputs": [],
   "source": []
  },
  {
   "cell_type": "code",
   "execution_count": null,
   "id": "24d94655",
   "metadata": {},
   "outputs": [],
   "source": []
  },
  {
   "cell_type": "code",
   "execution_count": null,
   "id": "bdc20c0e",
   "metadata": {},
   "outputs": [],
   "source": []
  },
  {
   "cell_type": "code",
   "execution_count": null,
   "id": "b95deef9",
   "metadata": {},
   "outputs": [],
   "source": []
  },
  {
   "cell_type": "code",
   "execution_count": null,
   "id": "3050404c",
   "metadata": {},
   "outputs": [],
   "source": []
  },
  {
   "cell_type": "code",
   "execution_count": null,
   "id": "b33c0d9a",
   "metadata": {},
   "outputs": [],
   "source": []
  },
  {
   "cell_type": "code",
   "execution_count": null,
   "id": "3d28b4f0",
   "metadata": {},
   "outputs": [],
   "source": []
  },
  {
   "cell_type": "code",
   "execution_count": 10,
   "id": "e55ac083",
   "metadata": {},
   "outputs": [
    {
     "data": {
      "text/plain": [
       "[<div class=\"p-topiList__item\"><a class=\"p-topiList__itemLink\" href=\"/topics/id/1048447/\"><img alt=\"話題\" class=\"icon-genre\" height=\"36\" loading=\"lazy\" src=\"/images/upload/icon/icon_new01.png\" width=\"36\"/> <div class=\"p-topiList__itemContent\"><h1 class=\"p-topiList__itemContentTitle\">\n",
       "         若い女性の態度に腹がたち意地悪してしまいました\n",
       "       </h1> <div class=\"p-topiList__itemContentInfo\"><!-- --> <div class=\"p-topiList__itemContentInfoItem c-smallText is-colorLink c-iconRes\">\n",
       "           0\n",
       "         </div> <!-- --> <div class=\"p-topiList__itemContentInfoItem\"><time class=\"p-topiList__itemContentInfoItem c-smallText\" datetime=\"2022-01-31T12:58:18Z\">\n",
       "             2022年1月31日 12:58\n",
       "           </time> <span class=\"p-topiList__itemContentInfoItem c-smallText\">話題</span></div> <!-- --></div></div></a></div>,\n",
       " <div class=\"p-topiList__item\"><a class=\"p-topiList__itemLink\" href=\"/topics/id/1048443/\"><img alt=\"話題\" class=\"icon-genre\" height=\"36\" loading=\"lazy\" src=\"/images/upload/icon/icon_new01.png\" width=\"36\"/> <div class=\"p-topiList__itemContent\"><h1 class=\"p-topiList__itemContentTitle\">\n",
       "         子供の貧困を聞くと涙が出る\n",
       "       </h1> <div class=\"p-topiList__itemContentInfo\"><!-- --> <div class=\"p-topiList__itemContentInfoItem c-smallText is-colorLink c-iconRes\">\n",
       "           0\n",
       "         </div> <!-- --> <div class=\"p-topiList__itemContentInfoItem\"><time class=\"p-topiList__itemContentInfoItem c-smallText\" datetime=\"2022-01-31T12:21:29Z\">\n",
       "             2022年1月31日 12:21\n",
       "           </time> <span class=\"p-topiList__itemContentInfoItem c-smallText\">話題</span></div> <!-- --></div></div></a></div>,\n",
       " <div class=\"p-topiList__item\"><a class=\"p-topiList__itemLink\" href=\"/topics/id/1048441/\"><img alt=\"話題\" class=\"icon-genre\" height=\"36\" loading=\"lazy\" src=\"/images/upload/icon/icon_new01.png\" width=\"36\"/> <div class=\"p-topiList__itemContent\"><h1 class=\"p-topiList__itemContentTitle\">\n",
       "         うつ病3年、死にたいです\n",
       "       </h1> <div class=\"p-topiList__itemContentInfo\"><!-- --> <div class=\"p-topiList__itemContentInfoItem c-smallText is-colorLink c-iconRes\">\n",
       "           0\n",
       "         </div> <!-- --> <div class=\"p-topiList__itemContentInfoItem\"><time class=\"p-topiList__itemContentInfoItem c-smallText\" datetime=\"2022-01-31T11:57:59Z\">\n",
       "             2022年1月31日 11:57\n",
       "           </time> <span class=\"p-topiList__itemContentInfoItem c-smallText\">話題</span></div> <!-- --></div></div></a></div>,\n",
       " <div class=\"p-topiList__item\"><a class=\"p-topiList__itemLink\" href=\"/topics/id/1048440/\"><img alt=\"話題\" class=\"icon-genre\" height=\"36\" loading=\"lazy\" src=\"/images/upload/icon/icon_new01.png\" width=\"36\"/> <div class=\"p-topiList__itemContent\"><h1 class=\"p-topiList__itemContentTitle\">\n",
       "         アパートの不具合を管理会社に言いづらい\n",
       "       </h1> <div class=\"p-topiList__itemContentInfo\"><!-- --> <div class=\"p-topiList__itemContentInfoItem c-smallText is-colorLink c-iconRes\">\n",
       "           0\n",
       "         </div> <!-- --> <div class=\"p-topiList__itemContentInfoItem\"><time class=\"p-topiList__itemContentInfoItem c-smallText\" datetime=\"2022-01-31T11:48:32Z\">\n",
       "             2022年1月31日 11:48\n",
       "           </time> <span class=\"p-topiList__itemContentInfoItem c-smallText\">話題</span></div> <!-- --></div></div></a></div>,\n",
       " <div class=\"p-topiList__item\"><a class=\"p-topiList__itemLink\" href=\"/topics/id/1048437/\"><img alt=\"話題\" class=\"icon-genre\" height=\"36\" loading=\"lazy\" src=\"/images/upload/icon/icon_new01.png\" width=\"36\"/> <div class=\"p-topiList__itemContent\"><h1 class=\"p-topiList__itemContentTitle\">\n",
       "         お菓子を全部食べられた！\n",
       "       </h1> <div class=\"p-topiList__itemContentInfo\"><!-- --> <div class=\"p-topiList__itemContentInfoItem c-smallText is-colorLink c-iconRes\">\n",
       "           0\n",
       "         </div> <!-- --> <div class=\"p-topiList__itemContentInfoItem\"><time class=\"p-topiList__itemContentInfoItem c-smallText\" datetime=\"2022-01-31T10:59:38Z\">\n",
       "             2022年1月31日 10:59\n",
       "           </time> <span class=\"p-topiList__itemContentInfoItem c-smallText\">話題</span></div> <!-- --></div></div></a></div>,\n",
       " <div class=\"p-topiList__item\"><a class=\"p-topiList__itemLink\" href=\"/topics/id/1048436/\"><img alt=\"話題\" class=\"icon-genre\" height=\"36\" loading=\"lazy\" src=\"/images/upload/icon/icon_new01.png\" width=\"36\"/> <div class=\"p-topiList__itemContent\"><h1 class=\"p-topiList__itemContentTitle\">\n",
       "         ファミレスで、ランチプレートに髪の毛が入っていたら\n",
       "       </h1> <div class=\"p-topiList__itemContentInfo\"><!-- --> <div class=\"p-topiList__itemContentInfoItem c-smallText is-colorLink c-iconRes\">\n",
       "           0\n",
       "         </div> <!-- --> <div class=\"p-topiList__itemContentInfoItem\"><time class=\"p-topiList__itemContentInfoItem c-smallText\" datetime=\"2022-01-31T10:55:55Z\">\n",
       "             2022年1月31日 10:55\n",
       "           </time> <span class=\"p-topiList__itemContentInfoItem c-smallText\">話題</span></div> <!-- --></div></div></a></div>,\n",
       " <div class=\"p-topiList__item\"><a class=\"p-topiList__itemLink\" href=\"/topics/id/1048434/\"><img alt=\"話題\" class=\"icon-genre\" height=\"36\" loading=\"lazy\" src=\"/images/upload/icon/icon_new01.png\" width=\"36\"/> <div class=\"p-topiList__itemContent\"><h1 class=\"p-topiList__itemContentTitle\">\n",
       "         社宅だからの騒音に悩む\n",
       "       </h1> <div class=\"p-topiList__itemContentInfo\"><!-- --> <div class=\"p-topiList__itemContentInfoItem c-smallText is-colorLink c-iconRes\">\n",
       "           0\n",
       "         </div> <!-- --> <div class=\"p-topiList__itemContentInfoItem\"><time class=\"p-topiList__itemContentInfoItem c-smallText\" datetime=\"2022-01-31T10:48:32Z\">\n",
       "             2022年1月31日 10:48\n",
       "           </time> <span class=\"p-topiList__itemContentInfoItem c-smallText\">話題</span></div> <!-- --></div></div></a></div>,\n",
       " <div class=\"p-topiList__item\"><a class=\"p-topiList__itemLink\" href=\"/topics/id/1048430/\"><img alt=\"話題\" class=\"icon-genre\" height=\"36\" loading=\"lazy\" src=\"/images/upload/icon/icon_new01.png\" width=\"36\"/> <div class=\"p-topiList__itemContent\"><h1 class=\"p-topiList__itemContentTitle\">\n",
       "         おすすめの番組教えてください。\n",
       "       </h1> <div class=\"p-topiList__itemContentInfo\"><!-- --> <div class=\"p-topiList__itemContentInfoItem c-smallText is-colorLink c-iconRes\">\n",
       "           0\n",
       "         </div> <!-- --> <div class=\"p-topiList__itemContentInfoItem\"><time class=\"p-topiList__itemContentInfoItem c-smallText\" datetime=\"2022-01-31T10:10:53Z\">\n",
       "             2022年1月31日 10:10\n",
       "           </time> <span class=\"p-topiList__itemContentInfoItem c-smallText\">話題</span></div> <!-- --></div></div></a></div>,\n",
       " <div class=\"p-topiList__item\"><a class=\"p-topiList__itemLink\" href=\"/topics/id/1048428/\"><img alt=\"話題\" class=\"icon-genre\" height=\"36\" loading=\"lazy\" src=\"/images/upload/icon/icon_new01.png\" width=\"36\"/> <div class=\"p-topiList__itemContent\"><h1 class=\"p-topiList__itemContentTitle\">\n",
       "         お金が無くても子供がいたら幸せですか\n",
       "       </h1> <div class=\"p-topiList__itemContentInfo\"><!-- --> <div class=\"p-topiList__itemContentInfoItem c-smallText is-colorLink c-iconRes\">\n",
       "           0\n",
       "         </div> <!-- --> <div class=\"p-topiList__itemContentInfoItem\"><time class=\"p-topiList__itemContentInfoItem c-smallText\" datetime=\"2022-01-31T10:04:51Z\">\n",
       "             2022年1月31日 10:04\n",
       "           </time> <span class=\"p-topiList__itemContentInfoItem c-smallText\">話題</span></div> <!-- --></div></div></a></div>,\n",
       " <div class=\"p-topiList__item\"><a class=\"p-topiList__itemLink\" href=\"/topics/id/1048128/\"><img alt=\"話題\" class=\"icon-genre\" height=\"36\" loading=\"lazy\" src=\"/images/upload/icon/icon_new01.png\" width=\"36\"/> <div class=\"p-topiList__itemContent\"><h1 class=\"p-topiList__itemContentTitle\">\n",
       "         空き家になった田舎の実家、どうしましたか？\n",
       "       </h1> <div class=\"p-topiList__itemContentInfo\"><!-- --> <div class=\"p-topiList__itemContentInfoItem c-smallText is-colorLink c-iconRes\">\n",
       "           5\n",
       "         </div> <!-- --> <div class=\"p-topiList__itemContentInfoItem\"><time class=\"p-topiList__itemContentInfoItem c-smallText\" datetime=\"2022-01-31T09:55:31Z\">\n",
       "             2022年1月31日 09:55\n",
       "           </time> <span class=\"p-topiList__itemContentInfoItem c-smallText\">話題</span></div> <!-- --></div></div></a></div>,\n",
       " <div class=\"p-topiList__item py-1\"><div class=\"p-ad__middleRectangles\"><div class=\"p-ad__middleRectangle\" id=\"ad_gam_top_middle-rec1\"></div> <div class=\"p-ad__middleRectangle\" id=\"ad_gam_top_middle-rec1-r\"></div></div></div>,\n",
       " <div class=\"p-topiList__item\"><a class=\"p-topiList__itemLink\" href=\"/topics/id/1048408/\"><img alt=\"話題\" class=\"icon-genre\" height=\"36\" loading=\"lazy\" src=\"/images/upload/icon/icon_new01.png\" width=\"36\"/> <div class=\"p-topiList__itemContent\"><h1 class=\"p-topiList__itemContentTitle\">\n",
       "         隣家からBB弾を撃ち込まれています…\n",
       "       </h1> <div class=\"p-topiList__itemContentInfo\"><!-- --> <div class=\"p-topiList__itemContentInfoItem c-smallText is-colorLink c-iconRes\">\n",
       "           6\n",
       "         </div> <!-- --> <div class=\"p-topiList__itemContentInfoItem\"><time class=\"p-topiList__itemContentInfoItem c-smallText\" datetime=\"2022-01-31T09:51:46Z\">\n",
       "             2022年1月31日 09:51\n",
       "           </time> <span class=\"p-topiList__itemContentInfoItem c-smallText\">話題</span></div> <!-- --></div></div></a></div>,\n",
       " <div class=\"p-topiList__item\"><a class=\"p-topiList__itemLink\" href=\"/topics/id/1048282/\"><img alt=\"話題\" class=\"icon-genre\" height=\"36\" loading=\"lazy\" src=\"/images/upload/icon/icon_new01.png\" width=\"36\"/> <div class=\"p-topiList__itemContent\"><h1 class=\"p-topiList__itemContentTitle\">\n",
       "         ホテルのような寝室\n",
       "       </h1> <div class=\"p-topiList__itemContentInfo\"><!-- --> <div class=\"p-topiList__itemContentInfoItem c-smallText is-colorLink c-iconRes\">\n",
       "           13\n",
       "         </div> <!-- --> <div class=\"p-topiList__itemContentInfoItem\"><time class=\"p-topiList__itemContentInfoItem c-smallText\" datetime=\"2022-01-31T09:49:40Z\">\n",
       "             2022年1月31日 09:49\n",
       "           </time> <span class=\"p-topiList__itemContentInfoItem c-smallText\">話題</span></div> <!-- --></div></div></a></div>,\n",
       " <div class=\"p-topiList__item\"><a class=\"p-topiList__itemLink\" href=\"/topics/id/1048376/\"><img alt=\"話題\" class=\"icon-genre\" height=\"36\" loading=\"lazy\" src=\"/images/upload/icon/icon_new01.png\" width=\"36\"/> <div class=\"p-topiList__itemContent\"><h1 class=\"p-topiList__itemContentTitle\">\n",
       "         感染対策？店員と話さない\n",
       "       </h1> <div class=\"p-topiList__itemContentInfo\"><!-- --> <div class=\"p-topiList__itemContentInfoItem c-smallText is-colorLink c-iconRes\">\n",
       "           7\n",
       "         </div> <!-- --> <div class=\"p-topiList__itemContentInfoItem\"><time class=\"p-topiList__itemContentInfoItem c-smallText\" datetime=\"2022-01-31T09:44:31Z\">\n",
       "             2022年1月31日 09:44\n",
       "           </time> <span class=\"p-topiList__itemContentInfoItem c-smallText\">話題</span></div> <!-- --></div></div></a></div>,\n",
       " <div class=\"p-topiList__item\"><a class=\"p-topiList__itemLink\" href=\"/topics/id/1047931/\"><img alt=\"話題\" class=\"icon-genre\" height=\"36\" loading=\"lazy\" src=\"/images/upload/icon/icon_new01.png\" width=\"36\"/> <div class=\"p-topiList__itemContent\"><h1 class=\"p-topiList__itemContentTitle\">\n",
       "         回転焼き ？？\n",
       "       </h1> <div class=\"p-topiList__itemContentInfo\"><!-- --> <div class=\"p-topiList__itemContentInfoItem c-smallText is-colorLink c-iconRes\">\n",
       "           148\n",
       "         </div> <!-- --> <div class=\"p-topiList__itemContentInfoItem\"><time class=\"p-topiList__itemContentInfoItem c-smallText\" datetime=\"2022-01-31T09:41:39Z\">\n",
       "             2022年1月31日 09:41\n",
       "           </time> <span class=\"p-topiList__itemContentInfoItem c-smallText\">話題</span></div> <!-- --></div></div></a></div>,\n",
       " <div class=\"p-topiList__item\"><a class=\"p-topiList__itemLink\" href=\"/topics/id/1048157/\"><img alt=\"話題\" class=\"icon-genre\" height=\"36\" loading=\"lazy\" src=\"/images/upload/icon/icon_new01.png\" width=\"36\"/> <div class=\"p-topiList__itemContent\"><h1 class=\"p-topiList__itemContentTitle\">\n",
       "         置き配設定をしてるのにチャイムを鳴らされる\n",
       "       </h1> <div class=\"p-topiList__itemContentInfo\"><!-- --> <div class=\"p-topiList__itemContentInfoItem c-smallText is-colorLink c-iconRes\">\n",
       "           41\n",
       "         </div> <!-- --> <div class=\"p-topiList__itemContentInfoItem\"><time class=\"p-topiList__itemContentInfoItem c-smallText\" datetime=\"2022-01-31T09:36:00Z\">\n",
       "             2022年1月31日 09:36\n",
       "           </time> <span class=\"p-topiList__itemContentInfoItem c-smallText\">話題</span></div> <!-- --></div></div></a></div>,\n",
       " <div class=\"p-topiList__item\"><a class=\"p-topiList__itemLink\" href=\"/topics/id/1048099/\"><img alt=\"話題\" class=\"icon-genre\" height=\"36\" loading=\"lazy\" src=\"/images/upload/icon/icon_new01.png\" width=\"36\"/> <div class=\"p-topiList__itemContent\"><h1 class=\"p-topiList__itemContentTitle\">\n",
       "         45才女性が年下男性と早めに結婚するには\n",
       "       </h1> <div class=\"p-topiList__itemContentInfo\"><!-- --> <div class=\"p-topiList__itemContentInfoItem c-smallText is-colorLink c-iconRes\">\n",
       "           35\n",
       "         </div> <!-- --> <div class=\"p-topiList__itemContentInfoItem\"><time class=\"p-topiList__itemContentInfoItem c-smallText\" datetime=\"2022-01-31T09:32:07Z\">\n",
       "             2022年1月31日 09:32\n",
       "           </time> <span class=\"p-topiList__itemContentInfoItem c-smallText\">話題</span></div> <!-- --></div></div></a></div>,\n",
       " <div class=\"p-topiList__item\"><a class=\"p-topiList__itemLink\" href=\"/topics/id/1048356/\"><img alt=\"話題\" class=\"icon-genre\" height=\"36\" loading=\"lazy\" src=\"/images/upload/icon/icon_new01.png\" width=\"36\"/> <div class=\"p-topiList__itemContent\"><h1 class=\"p-topiList__itemContentTitle\">\n",
       "         トイレットペーパー・お茶、僅かに残ってても替えるのは、なぜ？\n",
       "       </h1> <div class=\"p-topiList__itemContentInfo\"><!-- --> <div class=\"p-topiList__itemContentInfoItem c-smallText is-colorLink c-iconRes\">\n",
       "           18\n",
       "         </div> <!-- --> <div class=\"p-topiList__itemContentInfoItem\"><time class=\"p-topiList__itemContentInfoItem c-smallText\" datetime=\"2022-01-31T09:26:21Z\">\n",
       "             2022年1月31日 09:26\n",
       "           </time> <span class=\"p-topiList__itemContentInfoItem c-smallText\">話題</span></div> <!-- --></div></div></a></div>,\n",
       " <div class=\"p-topiList__item\"><a class=\"p-topiList__itemLink\" href=\"/topics/id/1048391/\"><img alt=\"話題\" class=\"icon-genre\" height=\"36\" loading=\"lazy\" src=\"/images/upload/icon/icon_new01.png\" width=\"36\"/> <div class=\"p-topiList__itemContent\"><h1 class=\"p-topiList__itemContentTitle\">\n",
       "         愛犬の死。動物病院に連絡しますか？\n",
       "       </h1> <div class=\"p-topiList__itemContentInfo\"><!-- --> <div class=\"p-topiList__itemContentInfoItem c-smallText is-colorLink c-iconRes\">\n",
       "           8\n",
       "         </div> <!-- --> <div class=\"p-topiList__itemContentInfoItem\"><time class=\"p-topiList__itemContentInfoItem c-smallText\" datetime=\"2022-01-31T09:23:16Z\">\n",
       "             2022年1月31日 09:23\n",
       "           </time> <span class=\"p-topiList__itemContentInfoItem c-smallText\">話題</span></div> <!-- --></div></div></a></div>,\n",
       " <div class=\"p-topiList__item\"><a class=\"p-topiList__itemLink\" href=\"/topics/id/1048257/\"><img alt=\"話題\" class=\"icon-genre\" height=\"36\" loading=\"lazy\" src=\"/images/upload/icon/icon_new01.png\" width=\"36\"/> <div class=\"p-topiList__itemContent\"><h1 class=\"p-topiList__itemContentTitle\">\n",
       "         歳を重ねて聞いた時に泣きそうになった曲\n",
       "       </h1> <div class=\"p-topiList__itemContentInfo\"><!-- --> <div class=\"p-topiList__itemContentInfoItem c-smallText is-colorLink c-iconRes\">\n",
       "           41\n",
       "         </div> <!-- --> <div class=\"p-topiList__itemContentInfoItem\"><time class=\"p-topiList__itemContentInfoItem c-smallText\" datetime=\"2022-01-31T09:14:54Z\">\n",
       "             2022年1月31日 09:14\n",
       "           </time> <span class=\"p-topiList__itemContentInfoItem c-smallText\">話題</span></div> <!-- --></div></div></a></div>,\n",
       " <div class=\"p-topiList__item\"><a class=\"p-topiList__itemLink\" href=\"/topics/id/1048363/\"><img alt=\"話題\" class=\"icon-genre\" height=\"36\" loading=\"lazy\" src=\"/images/upload/icon/icon_new01.png\" width=\"36\"/> <div class=\"p-topiList__itemContent\"><h1 class=\"p-topiList__itemContentTitle\">\n",
       "         転勤・介護・一人っ子\n",
       "       </h1> <div class=\"p-topiList__itemContentInfo\"><!-- --> <div class=\"p-topiList__itemContentInfoItem c-smallText is-colorLink c-iconRes\">\n",
       "           8\n",
       "         </div> <!-- --> <div class=\"p-topiList__itemContentInfoItem\"><time class=\"p-topiList__itemContentInfoItem c-smallText\" datetime=\"2022-01-31T09:01:47Z\">\n",
       "             2022年1月31日 09:01\n",
       "           </time> <span class=\"p-topiList__itemContentInfoItem c-smallText\">話題</span></div> <!-- --></div></div></a></div>,\n",
       " <div class=\"p-topiList__item py-1\"><div class=\"p-ad__middleRectangles\"><div class=\"p-ad__middleRectangle ad-middle-rec\" id=\"ad_gam_top_middle-rec2\"></div> <div class=\"p-ad__middleRectangle\" id=\"ad_gam_top_middle-rec2-r\"></div></div></div>,\n",
       " <div class=\"p-topiList__item\"><a class=\"p-topiList__itemLink\" href=\"/topics/id/1048103/\"><img alt=\"話題\" class=\"icon-genre\" height=\"36\" loading=\"lazy\" src=\"/images/upload/icon/icon_new01.png\" width=\"36\"/> <div class=\"p-topiList__itemContent\"><h1 class=\"p-topiList__itemContentTitle\">\n",
       "         スープがまずいです。\n",
       "       </h1> <div class=\"p-topiList__itemContentInfo\"><!-- --> <div class=\"p-topiList__itemContentInfoItem c-smallText is-colorLink c-iconRes\">\n",
       "           43\n",
       "         </div> <!-- --> <div class=\"p-topiList__itemContentInfoItem\"><time class=\"p-topiList__itemContentInfoItem c-smallText\" datetime=\"2022-01-31T08:28:38Z\">\n",
       "             2022年1月31日 08:28\n",
       "           </time> <span class=\"p-topiList__itemContentInfoItem c-smallText\">話題</span></div> <!-- --></div></div></a></div>,\n",
       " <div class=\"p-topiList__item\"><a class=\"p-topiList__itemLink\" href=\"/topics/id/1048193/\"><img alt=\"話題\" class=\"icon-genre\" height=\"36\" loading=\"lazy\" src=\"/images/upload/icon/icon_new01.png\" width=\"36\"/> <div class=\"p-topiList__itemContent\"><h1 class=\"p-topiList__itemContentTitle\">\n",
       "         馴れ馴れしい賃貸マンション清掃員\n",
       "       </h1> <div class=\"p-topiList__itemContentInfo\"><!-- --> <div class=\"p-topiList__itemContentInfoItem c-smallText is-colorLink c-iconRes\">\n",
       "           51\n",
       "         </div> <!-- --> <div class=\"p-topiList__itemContentInfoItem\"><time class=\"p-topiList__itemContentInfoItem c-smallText\" datetime=\"2022-01-31T08:24:02Z\">\n",
       "             2022年1月31日 08:24\n",
       "           </time> <span class=\"p-topiList__itemContentInfoItem c-smallText\">話題</span></div> <!-- --></div></div></a></div>,\n",
       " <div class=\"p-topiList__item\"><a class=\"p-topiList__itemLink\" href=\"/topics/id/1048316/\"><img alt=\"話題\" class=\"icon-genre\" height=\"36\" loading=\"lazy\" src=\"/images/upload/icon/icon_new01.png\" width=\"36\"/> <div class=\"p-topiList__itemContent\"><h1 class=\"p-topiList__itemContentTitle\">\n",
       "         独身時代に組んだ住宅ローン\n",
       "       </h1> <div class=\"p-topiList__itemContentInfo\"><!-- --> <div class=\"p-topiList__itemContentInfoItem c-smallText is-colorLink c-iconRes\">\n",
       "           21\n",
       "         </div> <!-- --> <div class=\"p-topiList__itemContentInfoItem\"><time class=\"p-topiList__itemContentInfoItem c-smallText\" datetime=\"2022-01-31T08:14:28Z\">\n",
       "             2022年1月31日 08:14\n",
       "           </time> <span class=\"p-topiList__itemContentInfoItem c-smallText\">話題</span></div> <!-- --></div></div></a></div>,\n",
       " <div class=\"p-topiList__item\"><a class=\"p-topiList__itemLink\" href=\"/topics/id/1048189/\"><img alt=\"話題\" class=\"icon-genre\" height=\"36\" loading=\"lazy\" src=\"/images/upload/icon/icon_new01.png\" width=\"36\"/> <div class=\"p-topiList__itemContent\"><h1 class=\"p-topiList__itemContentTitle\">\n",
       "         海老天を柩に入れるのはありですか？\n",
       "       </h1> <div class=\"p-topiList__itemContentInfo\"><!-- --> <div class=\"p-topiList__itemContentInfoItem c-smallText is-colorLink c-iconRes\">\n",
       "           54\n",
       "         </div> <!-- --> <div class=\"p-topiList__itemContentInfoItem\"><time class=\"p-topiList__itemContentInfoItem c-smallText\" datetime=\"2022-01-31T08:12:50Z\">\n",
       "             2022年1月31日 08:12\n",
       "           </time> <span class=\"p-topiList__itemContentInfoItem c-smallText\">話題</span></div> <!-- --></div></div></a></div>,\n",
       " <div class=\"p-topiList__item\"><a class=\"p-topiList__itemLink\" href=\"/topics/id/1042329/\"><img alt=\"話題\" class=\"icon-genre\" height=\"36\" loading=\"lazy\" src=\"/images/upload/icon/icon_new01.png\" width=\"36\"/> <div class=\"p-topiList__itemContent\"><h1 class=\"p-topiList__itemContentTitle\">\n",
       "         努力したことありますか？\n",
       "       </h1> <div class=\"p-topiList__itemContentInfo\"><!-- --> <div class=\"p-topiList__itemContentInfoItem c-smallText is-colorLink c-iconRes\">\n",
       "           4\n",
       "         </div> <!-- --> <div class=\"p-topiList__itemContentInfoItem\"><time class=\"p-topiList__itemContentInfoItem c-smallText\" datetime=\"2022-01-31T07:58:31Z\">\n",
       "             2022年1月31日 07:58\n",
       "           </time> <span class=\"p-topiList__itemContentInfoItem c-smallText\">話題</span></div> <!-- --></div></div></a></div>,\n",
       " <div class=\"p-topiList__item\"><a class=\"p-topiList__itemLink\" href=\"/topics/id/1048159/\"><img alt=\"話題\" class=\"icon-genre\" height=\"36\" loading=\"lazy\" src=\"/images/upload/icon/icon_new01.png\" width=\"36\"/> <div class=\"p-topiList__itemContent\"><h1 class=\"p-topiList__itemContentTitle\">\n",
       "         亡くなった親名義の田舎の古家について\n",
       "       </h1> <div class=\"p-topiList__itemContentInfo\"><!-- --> <div class=\"p-topiList__itemContentInfoItem c-smallText is-colorLink c-iconRes\">\n",
       "           11\n",
       "         </div> <!-- --> <div class=\"p-topiList__itemContentInfoItem\"><time class=\"p-topiList__itemContentInfoItem c-smallText\" datetime=\"2022-01-31T07:54:02Z\">\n",
       "             2022年1月31日 07:54\n",
       "           </time> <span class=\"p-topiList__itemContentInfoItem c-smallText\">話題</span></div> <!-- --></div></div></a></div>,\n",
       " <div class=\"p-topiList__item\"><a class=\"p-topiList__itemLink\" href=\"/topics/id/1046988/\"><img alt=\"話題\" class=\"icon-genre\" height=\"36\" loading=\"lazy\" src=\"/images/upload/icon/icon_new01.png\" width=\"36\"/> <div class=\"p-topiList__itemContent\"><h1 class=\"p-topiList__itemContentTitle\">\n",
       "         支払調書、送りますか？貰ってますか？\n",
       "       </h1> <div class=\"p-topiList__itemContentInfo\"><!-- --> <div class=\"p-topiList__itemContentInfoItem c-smallText is-colorLink c-iconRes\">\n",
       "           12\n",
       "         </div> <!-- --> <div class=\"p-topiList__itemContentInfoItem\"><time class=\"p-topiList__itemContentInfoItem c-smallText\" datetime=\"2022-01-31T07:43:29Z\">\n",
       "             2022年1月31日 07:43\n",
       "           </time> <span class=\"p-topiList__itemContentInfoItem c-smallText\">話題</span></div> <!-- --></div></div></a></div>,\n",
       " <div class=\"p-topiList__item\"><a class=\"p-topiList__itemLink\" href=\"/topics/id/1048306/\"><img alt=\"話題\" class=\"icon-genre\" height=\"36\" loading=\"lazy\" src=\"/images/upload/icon/icon_new01.png\" width=\"36\"/> <div class=\"p-topiList__itemContent\"><h1 class=\"p-topiList__itemContentTitle\">\n",
       "         旦那の浪費癖が治らない\n",
       "       </h1> <div class=\"p-topiList__itemContentInfo\"><!-- --> <div class=\"p-topiList__itemContentInfoItem c-smallText is-colorLink c-iconRes\">\n",
       "           15\n",
       "         </div> <!-- --> <div class=\"p-topiList__itemContentInfoItem\"><time class=\"p-topiList__itemContentInfoItem c-smallText\" datetime=\"2022-01-31T07:27:03Z\">\n",
       "             2022年1月31日 07:27\n",
       "           </time> <span class=\"p-topiList__itemContentInfoItem c-smallText\">話題</span></div> <!-- --></div></div></a></div>,\n",
       " <div class=\"p-topiList__item\"><a class=\"p-topiList__itemLink\" href=\"/topics/id/1048355/\"><img alt=\"話題\" class=\"icon-genre\" height=\"36\" loading=\"lazy\" src=\"/images/upload/icon/icon_new01.png\" width=\"36\"/> <div class=\"p-topiList__itemContent\"><h1 class=\"p-topiList__itemContentTitle\">\n",
       "         子供が嫌いだけど寄ってくる\n",
       "       </h1> <div class=\"p-topiList__itemContentInfo\"><!-- --> <div class=\"p-topiList__itemContentInfoItem c-smallText is-colorLink c-iconRes\">\n",
       "           2\n",
       "         </div> <!-- --> <div class=\"p-topiList__itemContentInfoItem\"><time class=\"p-topiList__itemContentInfoItem c-smallText\" datetime=\"2022-01-31T07:07:21Z\">\n",
       "             2022年1月31日 07:07\n",
       "           </time> <span class=\"p-topiList__itemContentInfoItem c-smallText\">話題</span></div> <!-- --></div></div></a></div>,\n",
       " <div class=\"p-topiList__item no-border\"><a class=\"p-topiList__itemLink\" href=\"/topics/id/1048067/\"><img alt=\"話題\" class=\"icon-genre\" height=\"36\" loading=\"lazy\" src=\"/images/upload/icon/icon_new01.png\" width=\"36\"/> <div class=\"p-topiList__itemContent\"><h1 class=\"p-topiList__itemContentTitle\">\n",
       "         あの人は何者だったのか\n",
       "       </h1> <div class=\"p-topiList__itemContentInfo\"><!-- --> <div class=\"p-topiList__itemContentInfoItem c-smallText is-colorLink c-iconRes\">\n",
       "           37\n",
       "         </div> <!-- --> <div class=\"p-topiList__itemContentInfoItem\"><time class=\"p-topiList__itemContentInfoItem c-smallText\" datetime=\"2022-01-31T07:00:05Z\">\n",
       "             2022年1月31日 07:00\n",
       "           </time> <span class=\"p-topiList__itemContentInfoItem c-smallText\">話題</span></div> <!-- --></div></div></a></div>,\n",
       " <div class=\"p-topiList__item py-1\"><div class=\"p-ad__middleRectangles\"><div class=\"p-ad__middleRectangle ad-middle-rec\" id=\"ad_gam_top_middle-rec3\"></div> <div class=\"p-ad__middleRectangle\" id=\"ad_gam_top_middle-rec3-r\"></div></div></div>]"
      ]
     },
     "execution_count": 10,
     "metadata": {},
     "output_type": "execute_result"
    }
   ],
   "source": [
    "#for i in range(10):\n",
    "soup.find_all('div',class_='p-topiList__item')\n",
    "   # print(soup)"
   ]
  },
  {
   "cell_type": "code",
   "execution_count": null,
   "id": "c180b910",
   "metadata": {},
   "outputs": [],
   "source": []
  },
  {
   "cell_type": "code",
   "execution_count": null,
   "id": "c63aac1c",
   "metadata": {},
   "outputs": [],
   "source": []
  },
  {
   "cell_type": "code",
   "execution_count": null,
   "id": "ffdc9d79",
   "metadata": {},
   "outputs": [],
   "source": []
  },
  {
   "cell_type": "code",
   "execution_count": null,
   "id": "6db97427",
   "metadata": {},
   "outputs": [],
   "source": []
  },
  {
   "cell_type": "code",
   "execution_count": null,
   "id": "1cdfa7d8",
   "metadata": {},
   "outputs": [],
   "source": []
  },
  {
   "cell_type": "code",
   "execution_count": null,
   "id": "3a9e4a28",
   "metadata": {},
   "outputs": [],
   "source": []
  },
  {
   "cell_type": "code",
   "execution_count": null,
   "id": "b64a36e5",
   "metadata": {},
   "outputs": [],
   "source": []
  },
  {
   "cell_type": "code",
   "execution_count": null,
   "id": "3b32152b",
   "metadata": {},
   "outputs": [],
   "source": []
  },
  {
   "cell_type": "code",
   "execution_count": 7,
   "id": "e10d432d",
   "metadata": {},
   "outputs": [
    {
     "data": {
      "text/plain": [
       "'title'"
      ]
     },
     "execution_count": 7,
     "metadata": {},
     "output_type": "execute_result"
    }
   ],
   "source": [
    "\n"
   ]
  },
  {
   "cell_type": "code",
   "execution_count": null,
   "id": "70d10f07",
   "metadata": {},
   "outputs": [],
   "source": []
  },
  {
   "cell_type": "code",
   "execution_count": 64,
   "id": "06de745b",
   "metadata": {},
   "outputs": [
    {
     "ename": "AttributeError",
     "evalue": "'NoneType' object has no attribute 'string'",
     "output_type": "error",
     "traceback": [
      "\u001b[0;31m---------------------------------------------------------------------------\u001b[0m",
      "\u001b[0;31mAttributeError\u001b[0m                            Traceback (most recent call last)",
      "\u001b[0;32m/var/folders/7g/cr3jlst110q6l21dbfw7hmjr0000gn/T/ipykernel_50449/2932554778.py\u001b[0m in \u001b[0;36m<module>\u001b[0;34m\u001b[0m\n\u001b[0;32m----> 1\u001b[0;31m \u001b[0msoup\u001b[0m\u001b[0;34m.\u001b[0m\u001b[0mtitle\u001b[0m\u001b[0;34m.\u001b[0m\u001b[0mstring\u001b[0m\u001b[0;34m\u001b[0m\u001b[0;34m\u001b[0m\u001b[0m\n\u001b[0m\u001b[1;32m      2\u001b[0m \u001b[0msoup\u001b[0m\u001b[0;34m.\u001b[0m\u001b[0ma\u001b[0m\u001b[0;34m\u001b[0m\u001b[0;34m\u001b[0m\u001b[0m\n\u001b[1;32m      3\u001b[0m \u001b[0;31m#soup.find_all('h1')\u001b[0m\u001b[0;34m\u001b[0m\u001b[0;34m\u001b[0m\u001b[0;34m\u001b[0m\u001b[0m\n\u001b[1;32m      4\u001b[0m \u001b[0marticles\u001b[0m \u001b[0;34m=\u001b[0m \u001b[0msoup\u001b[0m\u001b[0;34m.\u001b[0m\u001b[0mfind_all\u001b[0m\u001b[0;34m(\u001b[0m\u001b[0;34m'div'\u001b[0m\u001b[0;34m,\u001b[0m\u001b[0mclass_\u001b[0m\u001b[0;34m=\u001b[0m\u001b[0;34m'p-topiList__item'\u001b[0m\u001b[0;34m)\u001b[0m\u001b[0;34m\u001b[0m\u001b[0;34m\u001b[0m\u001b[0m\n\u001b[1;32m      5\u001b[0m \u001b[0mlink\u001b[0m \u001b[0;34m=\u001b[0m \u001b[0msoup\u001b[0m\u001b[0;34m.\u001b[0m\u001b[0mfind\u001b[0m\u001b[0;34m(\u001b[0m\u001b[0;34m'a'\u001b[0m\u001b[0;34m)\u001b[0m\u001b[0;34m\u001b[0m\u001b[0;34m\u001b[0m\u001b[0m\n",
      "\u001b[0;31mAttributeError\u001b[0m: 'NoneType' object has no attribute 'string'"
     ]
    }
   ],
   "source": [
    "soup.title.string\n",
    "soup.a\n",
    "#soup.find_all('h1')\n",
    "articles = soup.find_all('div',class_='p-topiList__item')\n",
    "link = soup.find('a')\n",
    "link2 =soup.find('href')\n",
    "print(link.get('href'))\n",
    "print(articles)\n",
    "print(art)\n",
    "print(link)"
   ]
  },
  {
   "cell_type": "code",
   "execution_count": 65,
   "id": "539bddee",
   "metadata": {},
   "outputs": [
    {
     "ename": "IndentationError",
     "evalue": "unexpected indent (2547163602.py, line 7)",
     "output_type": "error",
     "traceback": [
      "\u001b[0;36m  File \u001b[0;32m\"/var/folders/7g/cr3jlst110q6l21dbfw7hmjr0000gn/T/ipykernel_50449/2547163602.py\"\u001b[0;36m, line \u001b[0;32m7\u001b[0m\n\u001b[0;31m    articles = soup.find('span',class_='p-topiList__itemContentInfo')\u001b[0m\n\u001b[0m    ^\u001b[0m\n\u001b[0;31mIndentationError\u001b[0m\u001b[0;31m:\u001b[0m unexpected indent\n"
     ]
    }
   ],
   "source": [
    "for i in range(100):\n",
    "    articles = soup.find('div',class_='p-topiList__itemLink')\n",
    "    #html = articles.a['href']\n",
    "    text = articles.h1.text\n",
    "    #soup = BeautifulSoup(html,'html.parser')\n",
    "    print(text)\n",
    "     articles = soup.find('span',class_='p-topiList__itemContentInfo')\n",
    "print(articles)"
   ]
  },
  {
   "cell_type": "code",
   "execution_count": null,
   "id": "a50162b7",
   "metadata": {},
   "outputs": [],
   "source": []
  },
  {
   "cell_type": "code",
   "execution_count": null,
   "id": "f9164081",
   "metadata": {},
   "outputs": [],
   "source": []
  },
  {
   "cell_type": "code",
   "execution_count": null,
   "id": "e355a90c",
   "metadata": {},
   "outputs": [],
   "source": []
  },
  {
   "cell_type": "code",
   "execution_count": null,
   "id": "45e96006",
   "metadata": {},
   "outputs": [],
   "source": []
  },
  {
   "cell_type": "code",
   "execution_count": null,
   "id": "2fd84449",
   "metadata": {},
   "outputs": [],
   "source": []
  },
  {
   "cell_type": "code",
   "execution_count": null,
   "id": "878a6e37",
   "metadata": {},
   "outputs": [],
   "source": []
  },
  {
   "cell_type": "code",
   "execution_count": null,
   "id": "0f276fcb",
   "metadata": {},
   "outputs": [],
   "source": []
  },
  {
   "cell_type": "code",
   "execution_count": null,
   "id": "236d2c5e",
   "metadata": {},
   "outputs": [],
   "source": []
  },
  {
   "cell_type": "code",
   "execution_count": null,
   "id": "12507588",
   "metadata": {},
   "outputs": [],
   "source": []
  },
  {
   "cell_type": "code",
   "execution_count": null,
   "id": "9edf2111",
   "metadata": {},
   "outputs": [],
   "source": []
  },
  {
   "cell_type": "code",
   "execution_count": null,
   "id": "685b47ab",
   "metadata": {},
   "outputs": [],
   "source": []
  },
  {
   "cell_type": "code",
   "execution_count": null,
   "id": "05396a59",
   "metadata": {},
   "outputs": [],
   "source": []
  },
  {
   "cell_type": "code",
   "execution_count": null,
   "id": "aaac6011",
   "metadata": {},
   "outputs": [],
   "source": []
  },
  {
   "cell_type": "code",
   "execution_count": null,
   "id": "77e4f3cc",
   "metadata": {},
   "outputs": [],
   "source": []
  },
  {
   "cell_type": "code",
   "execution_count": null,
   "id": "48dea93c",
   "metadata": {},
   "outputs": [],
   "source": []
  },
  {
   "cell_type": "code",
   "execution_count": 51,
   "id": "4175cdec",
   "metadata": {},
   "outputs": [
    {
     "name": "stdout",
     "output_type": "stream",
     "text": [
      "None\n"
     ]
    }
   ],
   "source": []
  },
  {
   "cell_type": "code",
   "execution_count": null,
   "id": "093c5ec9",
   "metadata": {},
   "outputs": [],
   "source": []
  },
  {
   "cell_type": "code",
   "execution_count": null,
   "id": "3490536e",
   "metadata": {},
   "outputs": [],
   "source": []
  },
  {
   "cell_type": "code",
   "execution_count": null,
   "id": "6f23d511",
   "metadata": {},
   "outputs": [],
   "source": []
  },
  {
   "cell_type": "code",
   "execution_count": null,
   "id": "305dc026",
   "metadata": {},
   "outputs": [],
   "source": []
  },
  {
   "cell_type": "code",
   "execution_count": null,
   "id": "968e9e0e",
   "metadata": {},
   "outputs": [],
   "source": []
  },
  {
   "cell_type": "code",
   "execution_count": null,
   "id": "934ff788",
   "metadata": {},
   "outputs": [],
   "source": []
  },
  {
   "cell_type": "code",
   "execution_count": null,
   "id": "89245285",
   "metadata": {},
   "outputs": [],
   "source": []
  },
  {
   "cell_type": "code",
   "execution_count": null,
   "id": "63bcca89",
   "metadata": {},
   "outputs": [],
   "source": []
  },
  {
   "cell_type": "code",
   "execution_count": null,
   "id": "48b40dd2",
   "metadata": {},
   "outputs": [],
   "source": []
  },
  {
   "cell_type": "code",
   "execution_count": 42,
   "id": "20a3299c",
   "metadata": {},
   "outputs": [
    {
     "name": "stdout",
     "output_type": "stream",
     "text": [
      "None\n"
     ]
    }
   ],
   "source": []
  },
  {
   "cell_type": "code",
   "execution_count": null,
   "id": "2275f65a",
   "metadata": {},
   "outputs": [],
   "source": []
  },
  {
   "cell_type": "code",
   "execution_count": null,
   "id": "4ad774c3",
   "metadata": {},
   "outputs": [],
   "source": []
  },
  {
   "cell_type": "code",
   "execution_count": null,
   "id": "6bc6921d",
   "metadata": {},
   "outputs": [],
   "source": []
  },
  {
   "cell_type": "code",
   "execution_count": null,
   "id": "f72fb089",
   "metadata": {},
   "outputs": [],
   "source": []
  },
  {
   "cell_type": "code",
   "execution_count": null,
   "id": "4cc23481",
   "metadata": {},
   "outputs": [],
   "source": []
  },
  {
   "cell_type": "code",
   "execution_count": null,
   "id": "f0f01217",
   "metadata": {},
   "outputs": [],
   "source": []
  },
  {
   "cell_type": "code",
   "execution_count": null,
   "id": "7be5f106",
   "metadata": {},
   "outputs": [],
   "source": []
  },
  {
   "cell_type": "code",
   "execution_count": null,
   "id": "f0f14730",
   "metadata": {},
   "outputs": [],
   "source": []
  },
  {
   "cell_type": "code",
   "execution_count": null,
   "id": "05797977",
   "metadata": {},
   "outputs": [],
   "source": []
  },
  {
   "cell_type": "code",
   "execution_count": null,
   "id": "118551cb",
   "metadata": {},
   "outputs": [],
   "source": []
  },
  {
   "cell_type": "code",
   "execution_count": null,
   "id": "1707cc1c",
   "metadata": {},
   "outputs": [],
   "source": []
  },
  {
   "cell_type": "code",
   "execution_count": null,
   "id": "9a8df468",
   "metadata": {},
   "outputs": [],
   "source": []
  },
  {
   "cell_type": "code",
   "execution_count": null,
   "id": "6c7219f2",
   "metadata": {},
   "outputs": [],
   "source": []
  },
  {
   "cell_type": "code",
   "execution_count": null,
   "id": "e63312f5",
   "metadata": {},
   "outputs": [],
   "source": [
    "]"
   ]
  },
  {
   "cell_type": "code",
   "execution_count": null,
   "id": "364f8a7b",
   "metadata": {},
   "outputs": [],
   "source": []
  },
  {
   "cell_type": "code",
   "execution_count": null,
   "id": "4ff9e755",
   "metadata": {},
   "outputs": [],
   "source": []
  },
  {
   "cell_type": "code",
   "execution_count": null,
   "id": "21a40817",
   "metadata": {},
   "outputs": [],
   "source": []
  },
  {
   "cell_type": "code",
   "execution_count": null,
   "id": "353ad119",
   "metadata": {},
   "outputs": [],
   "source": []
  },
  {
   "cell_type": "code",
   "execution_count": null,
   "id": "74fd1ec2",
   "metadata": {},
   "outputs": [],
   "source": []
  },
  {
   "cell_type": "code",
   "execution_count": null,
   "id": "c972d51f",
   "metadata": {},
   "outputs": [],
   "source": []
  },
  {
   "cell_type": "code",
   "execution_count": null,
   "id": "fc83cc4e",
   "metadata": {},
   "outputs": [],
   "source": []
  },
  {
   "cell_type": "code",
   "execution_count": null,
   "id": "ffaf5208",
   "metadata": {},
   "outputs": [],
   "source": []
  },
  {
   "cell_type": "code",
   "execution_count": null,
   "id": "5ff62021",
   "metadata": {},
   "outputs": [],
   "source": []
  },
  {
   "cell_type": "code",
   "execution_count": null,
   "id": "45748ee8",
   "metadata": {},
   "outputs": [],
   "source": []
  },
  {
   "cell_type": "code",
   "execution_count": null,
   "id": "10f4c580",
   "metadata": {},
   "outputs": [],
   "source": []
  },
  {
   "cell_type": "code",
   "execution_count": null,
   "id": "d763f485",
   "metadata": {},
   "outputs": [],
   "source": []
  },
  {
   "cell_type": "code",
   "execution_count": null,
   "id": "1844d4ce",
   "metadata": {},
   "outputs": [],
   "source": []
  },
  {
   "cell_type": "code",
   "execution_count": null,
   "id": "ead50d4d",
   "metadata": {},
   "outputs": [],
   "source": []
  },
  {
   "cell_type": "code",
   "execution_count": null,
   "id": "453eb26f",
   "metadata": {},
   "outputs": [],
   "source": []
  },
  {
   "cell_type": "code",
   "execution_count": null,
   "id": "d1cd1458",
   "metadata": {},
   "outputs": [],
   "source": []
  },
  {
   "cell_type": "code",
   "execution_count": null,
   "id": "f7b65129",
   "metadata": {},
   "outputs": [],
   "source": []
  },
  {
   "cell_type": "code",
   "execution_count": null,
   "id": "70d3334f",
   "metadata": {},
   "outputs": [],
   "source": []
  },
  {
   "cell_type": "code",
   "execution_count": null,
   "id": "84c5b67e",
   "metadata": {},
   "outputs": [],
   "source": []
  },
  {
   "cell_type": "code",
   "execution_count": null,
   "id": "95119644",
   "metadata": {},
   "outputs": [],
   "source": []
  },
  {
   "cell_type": "code",
   "execution_count": null,
   "id": "252c9ace",
   "metadata": {},
   "outputs": [],
   "source": []
  },
  {
   "cell_type": "code",
   "execution_count": null,
   "id": "571e0d39",
   "metadata": {},
   "outputs": [],
   "source": []
  }
 ],
 "metadata": {
  "kernelspec": {
   "display_name": "Python 3 (ipykernel)",
   "language": "python",
   "name": "python3"
  },
  "language_info": {
   "codemirror_mode": {
    "name": "ipython",
    "version": 3
   },
   "file_extension": ".py",
   "mimetype": "text/x-python",
   "name": "python",
   "nbconvert_exporter": "python",
   "pygments_lexer": "ipython3",
   "version": "3.7.11"
  }
 },
 "nbformat": 4,
 "nbformat_minor": 5
}
